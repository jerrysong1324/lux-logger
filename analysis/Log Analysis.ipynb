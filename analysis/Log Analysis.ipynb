{
 "cells": [
  {
   "cell_type": "code",
   "execution_count": 1,
   "metadata": {},
   "outputs": [],
   "source": [
    "import json"
   ]
  },
  {
   "cell_type": "code",
   "execution_count": 2,
   "metadata": {},
   "outputs": [],
   "source": [
    "nb = json.load(open(\"CarsDemo.ipynb\"))"
   ]
  },
  {
   "cell_type": "code",
   "execution_count": 3,
   "metadata": {},
   "outputs": [],
   "source": [
    "log = nb[\"metadata\"][\"history\"]"
   ]
  },
  {
   "cell_type": "markdown",
   "metadata": {},
   "source": [
    "#### Merge editCodeCell, executeCodeCell and completeCodeCell into one based on id with 2 additional computed interval"
   ]
  },
  {
   "cell_type": "markdown",
   "metadata": {},
   "source": [
    "```\n",
    "queryFormulationTime = T(editCodeCell) - T(executeCodeCell)\n",
    "codeExecutionTime = T(completeCodeCell) - T(executeCodeCell)\n",
    "```"
   ]
  },
  {
   "cell_type": "code",
   "execution_count": 4,
   "metadata": {},
   "outputs": [],
   "source": [
    "import pandas as pd"
   ]
  },
  {
   "cell_type": "code",
   "execution_count": 100,
   "metadata": {},
   "outputs": [],
   "source": [
    "df = pd.DataFrame(log)"
   ]
  },
  {
   "cell_type": "code",
   "execution_count": 101,
   "metadata": {},
   "outputs": [],
   "source": [
    "df[\"time\"] = pd.to_datetime(df[\"time\"])"
   ]
  },
  {
   "cell_type": "code",
   "execution_count": 102,
   "metadata": {},
   "outputs": [
    {
     "name": "stderr",
     "output_type": "stream",
     "text": [
      "/Users/dorislee/.virtualenvs/lux/lib/python3.7/site-packages/pandas/core/indexing.py:845: SettingWithCopyWarning: \n",
      "A value is trying to be set on a copy of a slice from a DataFrame.\n",
      "Try using .loc[row_indexer,col_indexer] = value instead\n",
      "\n",
      "See the caveats in the documentation: https://pandas.pydata.org/pandas-docs/stable/user_guide/indexing.html#returning-a-view-versus-a-copy\n",
      "  self.obj[key] = _infer_fill_value(value)\n",
      "/Users/dorislee/.virtualenvs/lux/lib/python3.7/site-packages/pandas/core/indexing.py:966: SettingWithCopyWarning: \n",
      "A value is trying to be set on a copy of a slice from a DataFrame.\n",
      "Try using .loc[row_indexer,col_indexer] = value instead\n",
      "\n",
      "See the caveats in the documentation: https://pandas.pydata.org/pandas-docs/stable/user_guide/indexing.html#returning-a-view-versus-a-copy\n",
      "  self.obj[item] = s\n"
     ]
    }
   ],
   "source": [
    "subset1 = df[(df[\"type\"]==\"editCodeCell\")|(df[\"type\"]==\"executeCodeCell\")]\n",
    "subset1.loc[:,\"queryFormulationTime\"] = subset1.groupby([\"code\",\"id\"])[\"time\"].diff()"
   ]
  },
  {
   "cell_type": "code",
   "execution_count": 103,
   "metadata": {},
   "outputs": [],
   "source": [
    "subset2 = df[(df[\"type\"]==\"executeCodeCell\")|(df[\"type\"]==\"completeCodeCell\")]\n",
    "subset2.loc[:,\"codeExecutionTime\"] = subset2.groupby([\"code\",\"id\"])[\"time\"].diff()"
   ]
  },
  {
   "cell_type": "code",
   "execution_count": 104,
   "metadata": {},
   "outputs": [],
   "source": [
    "codeCellsubset=pd.concat([subset1,subset2])"
   ]
  },
  {
   "cell_type": "code",
   "execution_count": 109,
   "metadata": {},
   "outputs": [],
   "source": [
    "#cellEvents is a dataframe with edit/complete/execute Code Cell all merged as one event, with computed queryFormulationTime and codeExecutionTime\n",
    "cellEvents = codeCellsubset.groupby(['code','id']).last()\n",
    "cellEvents = cellEvents.reset_index()\n",
    "cellEvents.type = \"CodeCellEvent\""
   ]
  },
  {
   "cell_type": "code",
   "execution_count": 110,
   "metadata": {},
   "outputs": [
    {
     "data": {
      "text/html": [
       "<div>\n",
       "<style scoped>\n",
       "    .dataframe tbody tr th:only-of-type {\n",
       "        vertical-align: middle;\n",
       "    }\n",
       "\n",
       "    .dataframe tbody tr th {\n",
       "        vertical-align: top;\n",
       "    }\n",
       "\n",
       "    .dataframe thead th {\n",
       "        text-align: right;\n",
       "    }\n",
       "</style>\n",
       "<table border=\"1\" class=\"dataframe\">\n",
       "  <thead>\n",
       "    <tr style=\"text-align: right;\">\n",
       "      <th></th>\n",
       "      <th>code</th>\n",
       "      <th>id</th>\n",
       "      <th>time</th>\n",
       "      <th>type</th>\n",
       "      <th>order_count</th>\n",
       "      <th>isPrintLuxWidget</th>\n",
       "      <th>isPrintPandas</th>\n",
       "      <th>param</th>\n",
       "      <th>queryFormulationTime</th>\n",
       "      <th>codeExecutionTime</th>\n",
       "    </tr>\n",
       "  </thead>\n",
       "  <tbody>\n",
       "    <tr>\n",
       "      <th>0</th>\n",
       "      <td></td>\n",
       "      <td>3e60884749bb40578ca8e67fd23e06c0</td>\n",
       "      <td>2020-07-11 02:54:02.196000+00:00</td>\n",
       "      <td>CodeCellEvent</td>\n",
       "      <td>11.0</td>\n",
       "      <td>NaN</td>\n",
       "      <td>NaN</td>\n",
       "      <td>NaN</td>\n",
       "      <td>NaT</td>\n",
       "      <td>NaT</td>\n",
       "    </tr>\n",
       "    <tr>\n",
       "      <th>1</th>\n",
       "      <td></td>\n",
       "      <td>a54a08d85678406a8c764d72d93dd899</td>\n",
       "      <td>2020-07-11 02:38:59.103000+00:00</td>\n",
       "      <td>CodeCellEvent</td>\n",
       "      <td>10.0</td>\n",
       "      <td>NaN</td>\n",
       "      <td>NaN</td>\n",
       "      <td>NaN</td>\n",
       "      <td>NaT</td>\n",
       "      <td>NaT</td>\n",
       "    </tr>\n",
       "    <tr>\n",
       "      <th>2</th>\n",
       "      <td>cd ..</td>\n",
       "      <td>0e53789cddfe4253944eea169b4fd35f</td>\n",
       "      <td>2020-07-11 06:35:15.331000+00:00</td>\n",
       "      <td>CodeCellEvent</td>\n",
       "      <td>0.0</td>\n",
       "      <td>NaN</td>\n",
       "      <td>NaN</td>\n",
       "      <td>NaN</td>\n",
       "      <td>00:00:00.705000</td>\n",
       "      <td>04:02:47.047000</td>\n",
       "    </tr>\n",
       "    <tr>\n",
       "      <th>3</th>\n",
       "      <td>df</td>\n",
       "      <td>56fce9d8233f4580889e8b0e20132265</td>\n",
       "      <td>2020-07-11 06:35:17.673000+00:00</td>\n",
       "      <td>CodeCellEvent</td>\n",
       "      <td>4.0</td>\n",
       "      <td>NaN</td>\n",
       "      <td>NaN</td>\n",
       "      <td>NaN</td>\n",
       "      <td>04:02:46.264000</td>\n",
       "      <td>04:02:46.264000</td>\n",
       "    </tr>\n",
       "    <tr>\n",
       "      <th>4</th>\n",
       "      <td>df = pd.read_csv(\"lux/data/car.csv\")\\n# df.set...</td>\n",
       "      <td>e4b04d984d09409f8ab84e146a85a223</td>\n",
       "      <td>2020-07-11 06:35:16.344000+00:00</td>\n",
       "      <td>CodeCellEvent</td>\n",
       "      <td>3.0</td>\n",
       "      <td>NaN</td>\n",
       "      <td>NaN</td>\n",
       "      <td>NaN</td>\n",
       "      <td>00:00:20.209000</td>\n",
       "      <td>04:02:46.102000</td>\n",
       "    </tr>\n",
       "    <tr>\n",
       "      <th>5</th>\n",
       "      <td>df.get_exported()</td>\n",
       "      <td>7a5e4e27c75844248bb26881c3f89d38</td>\n",
       "      <td>2020-07-11 06:38:43.277000+00:00</td>\n",
       "      <td>CodeCellEvent</td>\n",
       "      <td>10.0</td>\n",
       "      <td>NaN</td>\n",
       "      <td>NaN</td>\n",
       "      <td>NaN</td>\n",
       "      <td>00:00:01.007000</td>\n",
       "      <td>00:00:14.737000</td>\n",
       "    </tr>\n",
       "    <tr>\n",
       "      <th>6</th>\n",
       "      <td>df.get_exported()</td>\n",
       "      <td>a54a08d85678406a8c764d72d93dd899</td>\n",
       "      <td>2020-07-11 02:53:38.968000+00:00</td>\n",
       "      <td>CodeCellEvent</td>\n",
       "      <td>10.0</td>\n",
       "      <td>NaN</td>\n",
       "      <td>NaN</td>\n",
       "      <td>NaN</td>\n",
       "      <td>00:00:01.355000</td>\n",
       "      <td>00:00:04.929000</td>\n",
       "    </tr>\n",
       "    <tr>\n",
       "      <th>7</th>\n",
       "      <td>df.set_context([lux.Spec(attribute = \"Accelera...</td>\n",
       "      <td>8186a34508064c25875a673dcd27f0b7</td>\n",
       "      <td>2020-07-11 06:36:02.335000+00:00</td>\n",
       "      <td>CodeCellEvent</td>\n",
       "      <td>6.0</td>\n",
       "      <td>NaN</td>\n",
       "      <td>NaN</td>\n",
       "      <td>NaN</td>\n",
       "      <td>00:00:04.957000</td>\n",
       "      <td>04:00:57.588000</td>\n",
       "    </tr>\n",
       "    <tr>\n",
       "      <th>8</th>\n",
       "      <td>df.set_context([lux.Spec(attribute = \"Cylinder...</td>\n",
       "      <td>acc83ab6bce14919b42d706fc6d8f319</td>\n",
       "      <td>2020-07-11 06:36:36.470000+00:00</td>\n",
       "      <td>CodeCellEvent</td>\n",
       "      <td>9.0</td>\n",
       "      <td>NaN</td>\n",
       "      <td>NaN</td>\n",
       "      <td>NaN</td>\n",
       "      <td>00:00:02.439000</td>\n",
       "      <td>03:32:18.354000</td>\n",
       "    </tr>\n",
       "    <tr>\n",
       "      <th>9</th>\n",
       "      <td>df.set_context([lux.Spec(attribute = \"Horsepow...</td>\n",
       "      <td>91ab12f4d7df4b388655f3429eea43c3</td>\n",
       "      <td>2020-07-11 02:34:39.373000+00:00</td>\n",
       "      <td>CodeCellEvent</td>\n",
       "      <td>6.0</td>\n",
       "      <td>NaN</td>\n",
       "      <td>NaN</td>\n",
       "      <td>NaN</td>\n",
       "      <td>00:00:01.081000</td>\n",
       "      <td>NaT</td>\n",
       "    </tr>\n",
       "    <tr>\n",
       "      <th>10</th>\n",
       "      <td>df.set_context([lux.Spec(attribute = \"Origin\")...</td>\n",
       "      <td>acc83ab6bce14919b42d706fc6d8f319</td>\n",
       "      <td>2020-07-11 06:36:44.861000+00:00</td>\n",
       "      <td>CodeCellEvent</td>\n",
       "      <td>9.0</td>\n",
       "      <td>NaN</td>\n",
       "      <td>NaN</td>\n",
       "      <td>NaN</td>\n",
       "      <td>00:00:43.379000</td>\n",
       "      <td>04:00:39.233000</td>\n",
       "    </tr>\n",
       "    <tr>\n",
       "      <th>11</th>\n",
       "      <td>import pandas as pd\\nimport lux</td>\n",
       "      <td>4c62c0b9b47f48848e34117cddafc926</td>\n",
       "      <td>2020-07-11 06:35:15.630000+00:00</td>\n",
       "      <td>CodeCellEvent</td>\n",
       "      <td>1.0</td>\n",
       "      <td>NaN</td>\n",
       "      <td>NaN</td>\n",
       "      <td>NaN</td>\n",
       "      <td>04:02:46.591000</td>\n",
       "      <td>04:02:46.591000</td>\n",
       "    </tr>\n",
       "  </tbody>\n",
       "</table>\n",
       "</div>"
      ],
      "text/plain": [
       "                                                 code  \\\n",
       "0                                                       \n",
       "1                                                       \n",
       "2                                               cd ..   \n",
       "3                                                  df   \n",
       "4   df = pd.read_csv(\"lux/data/car.csv\")\\n# df.set...   \n",
       "5                                   df.get_exported()   \n",
       "6                                   df.get_exported()   \n",
       "7   df.set_context([lux.Spec(attribute = \"Accelera...   \n",
       "8   df.set_context([lux.Spec(attribute = \"Cylinder...   \n",
       "9   df.set_context([lux.Spec(attribute = \"Horsepow...   \n",
       "10  df.set_context([lux.Spec(attribute = \"Origin\")...   \n",
       "11                    import pandas as pd\\nimport lux   \n",
       "\n",
       "                                  id                             time  \\\n",
       "0   3e60884749bb40578ca8e67fd23e06c0 2020-07-11 02:54:02.196000+00:00   \n",
       "1   a54a08d85678406a8c764d72d93dd899 2020-07-11 02:38:59.103000+00:00   \n",
       "2   0e53789cddfe4253944eea169b4fd35f 2020-07-11 06:35:15.331000+00:00   \n",
       "3   56fce9d8233f4580889e8b0e20132265 2020-07-11 06:35:17.673000+00:00   \n",
       "4   e4b04d984d09409f8ab84e146a85a223 2020-07-11 06:35:16.344000+00:00   \n",
       "5   7a5e4e27c75844248bb26881c3f89d38 2020-07-11 06:38:43.277000+00:00   \n",
       "6   a54a08d85678406a8c764d72d93dd899 2020-07-11 02:53:38.968000+00:00   \n",
       "7   8186a34508064c25875a673dcd27f0b7 2020-07-11 06:36:02.335000+00:00   \n",
       "8   acc83ab6bce14919b42d706fc6d8f319 2020-07-11 06:36:36.470000+00:00   \n",
       "9   91ab12f4d7df4b388655f3429eea43c3 2020-07-11 02:34:39.373000+00:00   \n",
       "10  acc83ab6bce14919b42d706fc6d8f319 2020-07-11 06:36:44.861000+00:00   \n",
       "11  4c62c0b9b47f48848e34117cddafc926 2020-07-11 06:35:15.630000+00:00   \n",
       "\n",
       "             type  order_count  isPrintLuxWidget  isPrintPandas  param  \\\n",
       "0   CodeCellEvent         11.0               NaN            NaN    NaN   \n",
       "1   CodeCellEvent         10.0               NaN            NaN    NaN   \n",
       "2   CodeCellEvent          0.0               NaN            NaN    NaN   \n",
       "3   CodeCellEvent          4.0               NaN            NaN    NaN   \n",
       "4   CodeCellEvent          3.0               NaN            NaN    NaN   \n",
       "5   CodeCellEvent         10.0               NaN            NaN    NaN   \n",
       "6   CodeCellEvent         10.0               NaN            NaN    NaN   \n",
       "7   CodeCellEvent          6.0               NaN            NaN    NaN   \n",
       "8   CodeCellEvent          9.0               NaN            NaN    NaN   \n",
       "9   CodeCellEvent          6.0               NaN            NaN    NaN   \n",
       "10  CodeCellEvent          9.0               NaN            NaN    NaN   \n",
       "11  CodeCellEvent          1.0               NaN            NaN    NaN   \n",
       "\n",
       "   queryFormulationTime codeExecutionTime  \n",
       "0                   NaT               NaT  \n",
       "1                   NaT               NaT  \n",
       "2       00:00:00.705000   04:02:47.047000  \n",
       "3       04:02:46.264000   04:02:46.264000  \n",
       "4       00:00:20.209000   04:02:46.102000  \n",
       "5       00:00:01.007000   00:00:14.737000  \n",
       "6       00:00:01.355000   00:00:04.929000  \n",
       "7       00:00:04.957000   04:00:57.588000  \n",
       "8       00:00:02.439000   03:32:18.354000  \n",
       "9       00:00:01.081000               NaT  \n",
       "10      00:00:43.379000   04:00:39.233000  \n",
       "11      04:02:46.591000   04:02:46.591000  "
      ]
     },
     "execution_count": 110,
     "metadata": {},
     "output_type": "execute_result"
    }
   ],
   "source": [
    "cellEvents"
   ]
  },
  {
   "cell_type": "code",
   "execution_count": 98,
   "metadata": {},
   "outputs": [
    {
     "data": {
      "text/plain": [
       "0    NaN\n",
       "1    NaN\n",
       "2    NaN\n",
       "3    NaN\n",
       "4    NaN\n",
       "5    NaN\n",
       "6    NaN\n",
       "7    NaN\n",
       "8    NaN\n",
       "9    NaN\n",
       "10   NaN\n",
       "11   NaN\n",
       "Name: isPrintPandas, dtype: float64"
      ]
     },
     "execution_count": 98,
     "metadata": {},
     "output_type": "execute_result"
    }
   ],
   "source": [
    "cellEvents[\"isPrintPandas\"]"
   ]
  },
  {
   "cell_type": "code",
   "execution_count": 14,
   "metadata": {},
   "outputs": [
    {
     "name": "stdout",
     "output_type": "stream",
     "text": [
      "Total number of dataframe prints:\n"
     ]
    }
   ],
   "source": [
    "print (\"Total number of dataframe prints:\",)"
   ]
  },
  {
   "cell_type": "code",
   "execution_count": 15,
   "metadata": {},
   "outputs": [
    {
     "data": {
      "text/html": [
       "<div>\n",
       "<style scoped>\n",
       "    .dataframe tbody tr th:only-of-type {\n",
       "        vertical-align: middle;\n",
       "    }\n",
       "\n",
       "    .dataframe tbody tr th {\n",
       "        vertical-align: top;\n",
       "    }\n",
       "\n",
       "    .dataframe thead th {\n",
       "        text-align: right;\n",
       "    }\n",
       "</style>\n",
       "<table border=\"1\" class=\"dataframe\">\n",
       "  <thead>\n",
       "    <tr style=\"text-align: right;\">\n",
       "      <th></th>\n",
       "      <th></th>\n",
       "      <th>order_count</th>\n",
       "    </tr>\n",
       "    <tr>\n",
       "      <th>code</th>\n",
       "      <th>id</th>\n",
       "      <th></th>\n",
       "    </tr>\n",
       "  </thead>\n",
       "  <tbody>\n",
       "    <tr>\n",
       "      <th>df.set_context([lux.Spec(attribute = \"Cylinders\")])\\ndf</th>\n",
       "      <th>acc83ab6bce14919b42d706fc6d8f319</th>\n",
       "      <td>279.0</td>\n",
       "    </tr>\n",
       "    <tr>\n",
       "      <th>df.set_context([lux.Spec(attribute = \"Origin\")])\\ndf</th>\n",
       "      <th>acc83ab6bce14919b42d706fc6d8f319</th>\n",
       "      <td>207.0</td>\n",
       "    </tr>\n",
       "  </tbody>\n",
       "</table>\n",
       "</div>"
      ],
      "text/plain": [
       "                                                                                     order_count\n",
       "code                                               id                                           \n",
       "df.set_context([lux.Spec(attribute = \"Cylinders... acc83ab6bce14919b42d706fc6d8f319        279.0\n",
       "df.set_context([lux.Spec(attribute = \"Origin\")]... acc83ab6bce14919b42d706fc6d8f319        207.0"
      ]
     },
     "execution_count": 15,
     "metadata": {},
     "output_type": "execute_result"
    }
   ],
   "source": [
    "df[df[\"order_count\"]==9].groupby([\"code\",\"id\"]).sum()"
   ]
  },
  {
   "cell_type": "code",
   "execution_count": 16,
   "metadata": {},
   "outputs": [
    {
     "data": {
      "text/plain": [
       "array(['kernelReady', 'editCodeCell', 'executeCodeCell', 'selectCodeCell',\n",
       "       'completeCodeCell', 'selectMarkdownCell', 'initWidget',\n",
       "       'switchTab', 'startScroll', 'stopScroll', 'deleteCodeCell',\n",
       "       'toggleBtnClick', 'clickVis', 'exportBtnClick',\n",
       "       'deleteMarkdownCell', 'kernelRestart', 'unclickVis'], dtype=object)"
      ]
     },
     "execution_count": 16,
     "metadata": {},
     "output_type": "execute_result"
    }
   ],
   "source": [
    "df.type.unique()"
   ]
  },
  {
   "cell_type": "markdown",
   "metadata": {},
   "source": [
    "### Use `selectCodeCell` events to assign `id` and `order_count` to UI events"
   ]
  },
  {
   "cell_type": "code",
   "execution_count": 17,
   "metadata": {},
   "outputs": [],
   "source": [
    "UIevents = ['initWidget','switchTab', 'startScroll', 'stopScroll', \n",
    "       'toggleBtnClick', 'clickVis', 'exportBtnClick']"
   ]
  },
  {
   "cell_type": "code",
   "execution_count": 18,
   "metadata": {},
   "outputs": [],
   "source": [
    "# df[df.type.isin(UIevents+['selectCodeCell'])]"
   ]
  },
  {
   "cell_type": "code",
   "execution_count": 19,
   "metadata": {
    "scrolled": false
   },
   "outputs": [],
   "source": [
    "uiEventDf = df[df.type.isin(UIevents+['selectCodeCell'])].ffill() #fill forwards based on the values in the most recent `selectCodeCell`"
   ]
  },
  {
   "cell_type": "code",
   "execution_count": 20,
   "metadata": {},
   "outputs": [
    {
     "data": {
      "text/html": [
       "<div>\n",
       "<style scoped>\n",
       "    .dataframe tbody tr th:only-of-type {\n",
       "        vertical-align: middle;\n",
       "    }\n",
       "\n",
       "    .dataframe tbody tr th {\n",
       "        vertical-align: top;\n",
       "    }\n",
       "\n",
       "    .dataframe thead th {\n",
       "        text-align: right;\n",
       "    }\n",
       "</style>\n",
       "<table border=\"1\" class=\"dataframe\">\n",
       "  <thead>\n",
       "    <tr style=\"text-align: right;\">\n",
       "      <th></th>\n",
       "      <th>time</th>\n",
       "      <th>type</th>\n",
       "      <th>code</th>\n",
       "      <th>id</th>\n",
       "      <th>order_count</th>\n",
       "      <th>isPrintLuxWidget</th>\n",
       "      <th>isPrintPandas</th>\n",
       "      <th>param</th>\n",
       "    </tr>\n",
       "  </thead>\n",
       "  <tbody>\n",
       "    <tr>\n",
       "      <th>3</th>\n",
       "      <td>2020-07-11 02:32:28.316000+00:00</td>\n",
       "      <td>selectCodeCell</td>\n",
       "      <td>import pandas as pd\\nimport lux</td>\n",
       "      <td>4c62c0b9b47f48848e34117cddafc926</td>\n",
       "      <td>1.0</td>\n",
       "      <td>NaN</td>\n",
       "      <td>NaN</td>\n",
       "      <td>NaN</td>\n",
       "    </tr>\n",
       "    <tr>\n",
       "      <th>8</th>\n",
       "      <td>2020-07-11 02:32:29.710000+00:00</td>\n",
       "      <td>selectCodeCell</td>\n",
       "      <td>df = pd.read_csv(\"lux/data/car.csv\")\\n# df.set...</td>\n",
       "      <td>e4b04d984d09409f8ab84e146a85a223</td>\n",
       "      <td>3.0</td>\n",
       "      <td>NaN</td>\n",
       "      <td>NaN</td>\n",
       "      <td>NaN</td>\n",
       "    </tr>\n",
       "    <tr>\n",
       "      <th>10</th>\n",
       "      <td>2020-07-11 02:32:30.258000+00:00</td>\n",
       "      <td>selectCodeCell</td>\n",
       "      <td>df</td>\n",
       "      <td>56fce9d8233f4580889e8b0e20132265</td>\n",
       "      <td>4.0</td>\n",
       "      <td>NaN</td>\n",
       "      <td>NaN</td>\n",
       "      <td>NaN</td>\n",
       "    </tr>\n",
       "    <tr>\n",
       "      <th>15</th>\n",
       "      <td>2020-07-11 02:32:34.857000+00:00</td>\n",
       "      <td>selectCodeCell</td>\n",
       "      <td>df</td>\n",
       "      <td>56fce9d8233f4580889e8b0e20132265</td>\n",
       "      <td>4.0</td>\n",
       "      <td>NaN</td>\n",
       "      <td>NaN</td>\n",
       "      <td>NaN</td>\n",
       "    </tr>\n",
       "    <tr>\n",
       "      <th>16</th>\n",
       "      <td>2020-07-11 02:32:34.893000+00:00</td>\n",
       "      <td>initWidget</td>\n",
       "      <td>df</td>\n",
       "      <td>56fce9d8233f4580889e8b0e20132265</td>\n",
       "      <td>4.0</td>\n",
       "      <td>NaN</td>\n",
       "      <td>NaN</td>\n",
       "      <td></td>\n",
       "    </tr>\n",
       "    <tr>\n",
       "      <th>...</th>\n",
       "      <td>...</td>\n",
       "      <td>...</td>\n",
       "      <td>...</td>\n",
       "      <td>...</td>\n",
       "      <td>...</td>\n",
       "      <td>...</td>\n",
       "      <td>...</td>\n",
       "      <td>...</td>\n",
       "    </tr>\n",
       "    <tr>\n",
       "      <th>333</th>\n",
       "      <td>2020-07-11 06:38:41.512000+00:00</td>\n",
       "      <td>exportBtnClick</td>\n",
       "      <td>df.set_context([lux.Spec(attribute = \"Origin\")...</td>\n",
       "      <td>acc83ab6bce14919b42d706fc6d8f319</td>\n",
       "      <td>9.0</td>\n",
       "      <td>NaN</td>\n",
       "      <td>NaN</td>\n",
       "      <td>{'Enhance': [2, 0]}</td>\n",
       "    </tr>\n",
       "    <tr>\n",
       "      <th>334</th>\n",
       "      <td>2020-07-11 06:38:42.262000+00:00</td>\n",
       "      <td>selectCodeCell</td>\n",
       "      <td>df.get_exported()</td>\n",
       "      <td>7a5e4e27c75844248bb26881c3f89d38</td>\n",
       "      <td>10.0</td>\n",
       "      <td>NaN</td>\n",
       "      <td>NaN</td>\n",
       "      <td>{'Enhance': [2, 0]}</td>\n",
       "    </tr>\n",
       "    <tr>\n",
       "      <th>336</th>\n",
       "      <td>2020-07-11 06:38:42.322000+00:00</td>\n",
       "      <td>selectCodeCell</td>\n",
       "      <td>df.get_exported()</td>\n",
       "      <td>7a5e4e27c75844248bb26881c3f89d38</td>\n",
       "      <td>10.0</td>\n",
       "      <td>NaN</td>\n",
       "      <td>NaN</td>\n",
       "      <td>{'Enhance': [2, 0]}</td>\n",
       "    </tr>\n",
       "    <tr>\n",
       "      <th>338</th>\n",
       "      <td>2020-07-11 06:38:43.302000+00:00</td>\n",
       "      <td>selectCodeCell</td>\n",
       "      <td></td>\n",
       "      <td>3e60884749bb40578ca8e67fd23e06c0</td>\n",
       "      <td>11.0</td>\n",
       "      <td>NaN</td>\n",
       "      <td>NaN</td>\n",
       "      <td>{'Enhance': [2, 0]}</td>\n",
       "    </tr>\n",
       "    <tr>\n",
       "      <th>340</th>\n",
       "      <td>2020-07-11 06:38:43.337000+00:00</td>\n",
       "      <td>initWidget</td>\n",
       "      <td></td>\n",
       "      <td>3e60884749bb40578ca8e67fd23e06c0</td>\n",
       "      <td>11.0</td>\n",
       "      <td>NaN</td>\n",
       "      <td>NaN</td>\n",
       "      <td></td>\n",
       "    </tr>\n",
       "  </tbody>\n",
       "</table>\n",
       "<p>220 rows × 8 columns</p>\n",
       "</div>"
      ],
      "text/plain": [
       "                                time            type  \\\n",
       "3   2020-07-11 02:32:28.316000+00:00  selectCodeCell   \n",
       "8   2020-07-11 02:32:29.710000+00:00  selectCodeCell   \n",
       "10  2020-07-11 02:32:30.258000+00:00  selectCodeCell   \n",
       "15  2020-07-11 02:32:34.857000+00:00  selectCodeCell   \n",
       "16  2020-07-11 02:32:34.893000+00:00      initWidget   \n",
       "..                               ...             ...   \n",
       "333 2020-07-11 06:38:41.512000+00:00  exportBtnClick   \n",
       "334 2020-07-11 06:38:42.262000+00:00  selectCodeCell   \n",
       "336 2020-07-11 06:38:42.322000+00:00  selectCodeCell   \n",
       "338 2020-07-11 06:38:43.302000+00:00  selectCodeCell   \n",
       "340 2020-07-11 06:38:43.337000+00:00      initWidget   \n",
       "\n",
       "                                                  code  \\\n",
       "3                      import pandas as pd\\nimport lux   \n",
       "8    df = pd.read_csv(\"lux/data/car.csv\")\\n# df.set...   \n",
       "10                                                  df   \n",
       "15                                                  df   \n",
       "16                                                  df   \n",
       "..                                                 ...   \n",
       "333  df.set_context([lux.Spec(attribute = \"Origin\")...   \n",
       "334                                  df.get_exported()   \n",
       "336                                  df.get_exported()   \n",
       "338                                                      \n",
       "340                                                      \n",
       "\n",
       "                                   id  order_count  isPrintLuxWidget  \\\n",
       "3    4c62c0b9b47f48848e34117cddafc926          1.0               NaN   \n",
       "8    e4b04d984d09409f8ab84e146a85a223          3.0               NaN   \n",
       "10   56fce9d8233f4580889e8b0e20132265          4.0               NaN   \n",
       "15   56fce9d8233f4580889e8b0e20132265          4.0               NaN   \n",
       "16   56fce9d8233f4580889e8b0e20132265          4.0               NaN   \n",
       "..                                ...          ...               ...   \n",
       "333  acc83ab6bce14919b42d706fc6d8f319          9.0               NaN   \n",
       "334  7a5e4e27c75844248bb26881c3f89d38         10.0               NaN   \n",
       "336  7a5e4e27c75844248bb26881c3f89d38         10.0               NaN   \n",
       "338  3e60884749bb40578ca8e67fd23e06c0         11.0               NaN   \n",
       "340  3e60884749bb40578ca8e67fd23e06c0         11.0               NaN   \n",
       "\n",
       "     isPrintPandas                param  \n",
       "3              NaN                  NaN  \n",
       "8              NaN                  NaN  \n",
       "10             NaN                  NaN  \n",
       "15             NaN                  NaN  \n",
       "16             NaN                       \n",
       "..             ...                  ...  \n",
       "333            NaN  {'Enhance': [2, 0]}  \n",
       "334            NaN  {'Enhance': [2, 0]}  \n",
       "336            NaN  {'Enhance': [2, 0]}  \n",
       "338            NaN  {'Enhance': [2, 0]}  \n",
       "340            NaN                       \n",
       "\n",
       "[220 rows x 8 columns]"
      ]
     },
     "execution_count": 20,
     "metadata": {},
     "output_type": "execute_result"
    }
   ],
   "source": [
    "uiEventDf"
   ]
  },
  {
   "cell_type": "markdown",
   "metadata": {},
   "source": [
    "### Number of Times Toggle to Lux v.s. to Pandas"
   ]
  },
  {
   "cell_type": "code",
   "execution_count": 100,
   "metadata": {},
   "outputs": [
    {
     "data": {
      "text/plain": [
       "48    pandas\n",
       "49    pandas\n",
       "Name: param, dtype: object"
      ]
     },
     "execution_count": 100,
     "metadata": {},
     "output_type": "execute_result"
    }
   ],
   "source": [
    "uiEventDf[uiEventDf[\"type\"]=='toggleBtnClick'].param"
   ]
  },
  {
   "cell_type": "markdown",
   "metadata": {},
   "source": [
    "### Interactions with Tabs and Scroll"
   ]
  },
  {
   "cell_type": "code",
   "execution_count": 21,
   "metadata": {},
   "outputs": [
    {
     "data": {
      "text/html": [
       "<div>\n",
       "<style scoped>\n",
       "    .dataframe tbody tr th:only-of-type {\n",
       "        vertical-align: middle;\n",
       "    }\n",
       "\n",
       "    .dataframe tbody tr th {\n",
       "        vertical-align: top;\n",
       "    }\n",
       "\n",
       "    .dataframe thead th {\n",
       "        text-align: right;\n",
       "    }\n",
       "</style>\n",
       "<table border=\"1\" class=\"dataframe\">\n",
       "  <thead>\n",
       "    <tr style=\"text-align: right;\">\n",
       "      <th></th>\n",
       "      <th>time</th>\n",
       "      <th>type</th>\n",
       "      <th>code</th>\n",
       "      <th>id</th>\n",
       "      <th>order_count</th>\n",
       "      <th>isPrintLuxWidget</th>\n",
       "      <th>isPrintPandas</th>\n",
       "      <th>param</th>\n",
       "    </tr>\n",
       "  </thead>\n",
       "  <tbody>\n",
       "    <tr>\n",
       "      <th>19</th>\n",
       "      <td>2020-07-11 02:32:39.427000+00:00</td>\n",
       "      <td>switchTab</td>\n",
       "      <td>df</td>\n",
       "      <td>56fce9d8233f4580889e8b0e20132265</td>\n",
       "      <td>4.0</td>\n",
       "      <td>NaN</td>\n",
       "      <td>NaN</td>\n",
       "      <td>Distribution</td>\n",
       "    </tr>\n",
       "    <tr>\n",
       "      <th>21</th>\n",
       "      <td>2020-07-11 02:32:40.082000+00:00</td>\n",
       "      <td>switchTab</td>\n",
       "      <td>df</td>\n",
       "      <td>56fce9d8233f4580889e8b0e20132265</td>\n",
       "      <td>4.0</td>\n",
       "      <td>NaN</td>\n",
       "      <td>NaN</td>\n",
       "      <td>Category</td>\n",
       "    </tr>\n",
       "    <tr>\n",
       "      <th>23</th>\n",
       "      <td>2020-07-11 02:34:09.733000+00:00</td>\n",
       "      <td>switchTab</td>\n",
       "      <td>df</td>\n",
       "      <td>56fce9d8233f4580889e8b0e20132265</td>\n",
       "      <td>4.0</td>\n",
       "      <td>NaN</td>\n",
       "      <td>NaN</td>\n",
       "      <td>Correlation</td>\n",
       "    </tr>\n",
       "    <tr>\n",
       "      <th>221</th>\n",
       "      <td>2020-07-11 06:35:24.519000+00:00</td>\n",
       "      <td>switchTab</td>\n",
       "      <td>df</td>\n",
       "      <td>56fce9d8233f4580889e8b0e20132265</td>\n",
       "      <td>4.0</td>\n",
       "      <td>NaN</td>\n",
       "      <td>NaN</td>\n",
       "      <td>Distribution</td>\n",
       "    </tr>\n",
       "    <tr>\n",
       "      <th>223</th>\n",
       "      <td>2020-07-11 06:35:25.396000+00:00</td>\n",
       "      <td>switchTab</td>\n",
       "      <td>df</td>\n",
       "      <td>56fce9d8233f4580889e8b0e20132265</td>\n",
       "      <td>4.0</td>\n",
       "      <td>NaN</td>\n",
       "      <td>NaN</td>\n",
       "      <td>Category</td>\n",
       "    </tr>\n",
       "    <tr>\n",
       "      <th>225</th>\n",
       "      <td>2020-07-11 06:35:28.134000+00:00</td>\n",
       "      <td>switchTab</td>\n",
       "      <td>df</td>\n",
       "      <td>56fce9d8233f4580889e8b0e20132265</td>\n",
       "      <td>4.0</td>\n",
       "      <td>NaN</td>\n",
       "      <td>NaN</td>\n",
       "      <td>Correlation</td>\n",
       "    </tr>\n",
       "    <tr>\n",
       "      <th>234</th>\n",
       "      <td>2020-07-11 06:35:35.620000+00:00</td>\n",
       "      <td>switchTab</td>\n",
       "      <td>df</td>\n",
       "      <td>56fce9d8233f4580889e8b0e20132265</td>\n",
       "      <td>4.0</td>\n",
       "      <td>NaN</td>\n",
       "      <td>NaN</td>\n",
       "      <td>Distribution</td>\n",
       "    </tr>\n",
       "    <tr>\n",
       "      <th>290</th>\n",
       "      <td>2020-07-11 06:37:54.822000+00:00</td>\n",
       "      <td>switchTab</td>\n",
       "      <td>df.set_context([lux.Spec(attribute = \"Origin\")...</td>\n",
       "      <td>acc83ab6bce14919b42d706fc6d8f319</td>\n",
       "      <td>9.0</td>\n",
       "      <td>NaN</td>\n",
       "      <td>NaN</td>\n",
       "      <td>Enhance</td>\n",
       "    </tr>\n",
       "  </tbody>\n",
       "</table>\n",
       "</div>"
      ],
      "text/plain": [
       "                                time       type  \\\n",
       "19  2020-07-11 02:32:39.427000+00:00  switchTab   \n",
       "21  2020-07-11 02:32:40.082000+00:00  switchTab   \n",
       "23  2020-07-11 02:34:09.733000+00:00  switchTab   \n",
       "221 2020-07-11 06:35:24.519000+00:00  switchTab   \n",
       "223 2020-07-11 06:35:25.396000+00:00  switchTab   \n",
       "225 2020-07-11 06:35:28.134000+00:00  switchTab   \n",
       "234 2020-07-11 06:35:35.620000+00:00  switchTab   \n",
       "290 2020-07-11 06:37:54.822000+00:00  switchTab   \n",
       "\n",
       "                                                  code  \\\n",
       "19                                                  df   \n",
       "21                                                  df   \n",
       "23                                                  df   \n",
       "221                                                 df   \n",
       "223                                                 df   \n",
       "225                                                 df   \n",
       "234                                                 df   \n",
       "290  df.set_context([lux.Spec(attribute = \"Origin\")...   \n",
       "\n",
       "                                   id  order_count  isPrintLuxWidget  \\\n",
       "19   56fce9d8233f4580889e8b0e20132265          4.0               NaN   \n",
       "21   56fce9d8233f4580889e8b0e20132265          4.0               NaN   \n",
       "23   56fce9d8233f4580889e8b0e20132265          4.0               NaN   \n",
       "221  56fce9d8233f4580889e8b0e20132265          4.0               NaN   \n",
       "223  56fce9d8233f4580889e8b0e20132265          4.0               NaN   \n",
       "225  56fce9d8233f4580889e8b0e20132265          4.0               NaN   \n",
       "234  56fce9d8233f4580889e8b0e20132265          4.0               NaN   \n",
       "290  acc83ab6bce14919b42d706fc6d8f319          9.0               NaN   \n",
       "\n",
       "     isPrintPandas         param  \n",
       "19             NaN  Distribution  \n",
       "21             NaN      Category  \n",
       "23             NaN   Correlation  \n",
       "221            NaN  Distribution  \n",
       "223            NaN      Category  \n",
       "225            NaN   Correlation  \n",
       "234            NaN  Distribution  \n",
       "290            NaN       Enhance  "
      ]
     },
     "execution_count": 21,
     "metadata": {},
     "output_type": "execute_result"
    }
   ],
   "source": [
    "uiEventDf[uiEventDf[\"type\"]=='switchTab']"
   ]
  },
  {
   "cell_type": "code",
   "execution_count": 85,
   "metadata": {},
   "outputs": [],
   "source": [
    "import numpy as np\n",
    "scrollEvents = uiEventDf[(uiEventDf[\"type\"]=='startScroll')|(uiEventDf[\"type\"]=='stopScroll')]"
   ]
  },
  {
   "cell_type": "code",
   "execution_count": 86,
   "metadata": {},
   "outputs": [
    {
     "name": "stderr",
     "output_type": "stream",
     "text": [
      "/Users/dorislee/.virtualenvs/lux/lib/python3.7/site-packages/ipykernel_launcher.py:2: SettingWithCopyWarning: \n",
      "A value is trying to be set on a copy of a slice from a DataFrame.\n",
      "Try using .loc[row_indexer,col_indexer] = value instead\n",
      "\n",
      "See the caveats in the documentation: https://pandas.pydata.org/pandas-docs/stable/user_guide/indexing.html#returning-a-view-versus-a-copy\n",
      "  \n"
     ]
    }
   ],
   "source": [
    "# Compute the max-min of the group to find total duration for scrolling\n",
    "scrollEvents[\"duration\"] =scrollEvents.groupby([\"id\",\"code\",\"param\"])[\"time\"].transform(np.ptp)"
   ]
  },
  {
   "cell_type": "code",
   "execution_count": 87,
   "metadata": {},
   "outputs": [],
   "source": [
    "scrollEvents = scrollEvents.drop(columns=[\"time\",\"type\"])"
   ]
  },
  {
   "cell_type": "code",
   "execution_count": 88,
   "metadata": {},
   "outputs": [],
   "source": [
    "scrollEvents = scrollEvents.drop_duplicates()"
   ]
  },
  {
   "cell_type": "code",
   "execution_count": 89,
   "metadata": {},
   "outputs": [
    {
     "data": {
      "text/html": [
       "<div>\n",
       "<style scoped>\n",
       "    .dataframe tbody tr th:only-of-type {\n",
       "        vertical-align: middle;\n",
       "    }\n",
       "\n",
       "    .dataframe tbody tr th {\n",
       "        vertical-align: top;\n",
       "    }\n",
       "\n",
       "    .dataframe thead th {\n",
       "        text-align: right;\n",
       "    }\n",
       "</style>\n",
       "<table border=\"1\" class=\"dataframe\">\n",
       "  <thead>\n",
       "    <tr style=\"text-align: right;\">\n",
       "      <th></th>\n",
       "      <th>code</th>\n",
       "      <th>id</th>\n",
       "      <th>order_count</th>\n",
       "      <th>isPrintLuxWidget</th>\n",
       "      <th>isPrintPandas</th>\n",
       "      <th>param</th>\n",
       "      <th>duration</th>\n",
       "    </tr>\n",
       "  </thead>\n",
       "  <tbody>\n",
       "    <tr>\n",
       "      <th>24</th>\n",
       "      <td>df</td>\n",
       "      <td>56fce9d8233f4580889e8b0e20132265</td>\n",
       "      <td>4.0</td>\n",
       "      <td>NaN</td>\n",
       "      <td>NaN</td>\n",
       "      <td>Correlation</td>\n",
       "      <td>04:01:05.564000</td>\n",
       "    </tr>\n",
       "    <tr>\n",
       "      <th>235</th>\n",
       "      <td>df</td>\n",
       "      <td>56fce9d8233f4580889e8b0e20132265</td>\n",
       "      <td>4.0</td>\n",
       "      <td>NaN</td>\n",
       "      <td>NaN</td>\n",
       "      <td>Distribution</td>\n",
       "      <td>00:00:01.585000</td>\n",
       "    </tr>\n",
       "    <tr>\n",
       "      <th>250</th>\n",
       "      <td>df.set_context([lux.Spec(attribute = \"Accelera...</td>\n",
       "      <td>8186a34508064c25875a673dcd27f0b7</td>\n",
       "      <td>6.0</td>\n",
       "      <td>NaN</td>\n",
       "      <td>NaN</td>\n",
       "      <td>Enhance</td>\n",
       "      <td>00:00:03.265000</td>\n",
       "    </tr>\n",
       "    <tr>\n",
       "      <th>277</th>\n",
       "      <td>df.set_context([lux.Spec(attribute = \"Origin\")...</td>\n",
       "      <td>acc83ab6bce14919b42d706fc6d8f319</td>\n",
       "      <td>9.0</td>\n",
       "      <td>NaN</td>\n",
       "      <td>NaN</td>\n",
       "      <td>Enhance</td>\n",
       "      <td>00:00:33.448000</td>\n",
       "    </tr>\n",
       "    <tr>\n",
       "      <th>322</th>\n",
       "      <td></td>\n",
       "      <td>3e60884749bb40578ca8e67fd23e06c0</td>\n",
       "      <td>11.0</td>\n",
       "      <td>NaN</td>\n",
       "      <td>NaN</td>\n",
       "      <td>Enhance</td>\n",
       "      <td>00:00:00.709000</td>\n",
       "    </tr>\n",
       "  </tbody>\n",
       "</table>\n",
       "</div>"
      ],
      "text/plain": [
       "                                                  code  \\\n",
       "24                                                  df   \n",
       "235                                                 df   \n",
       "250  df.set_context([lux.Spec(attribute = \"Accelera...   \n",
       "277  df.set_context([lux.Spec(attribute = \"Origin\")...   \n",
       "322                                                      \n",
       "\n",
       "                                   id  order_count  isPrintLuxWidget  \\\n",
       "24   56fce9d8233f4580889e8b0e20132265          4.0               NaN   \n",
       "235  56fce9d8233f4580889e8b0e20132265          4.0               NaN   \n",
       "250  8186a34508064c25875a673dcd27f0b7          6.0               NaN   \n",
       "277  acc83ab6bce14919b42d706fc6d8f319          9.0               NaN   \n",
       "322  3e60884749bb40578ca8e67fd23e06c0         11.0               NaN   \n",
       "\n",
       "     isPrintPandas         param        duration  \n",
       "24             NaN   Correlation 04:01:05.564000  \n",
       "235            NaN  Distribution 00:00:01.585000  \n",
       "250            NaN       Enhance 00:00:03.265000  \n",
       "277            NaN       Enhance 00:00:33.448000  \n",
       "322            NaN       Enhance 00:00:00.709000  "
      ]
     },
     "execution_count": 89,
     "metadata": {},
     "output_type": "execute_result"
    }
   ],
   "source": [
    "scrollEvents"
   ]
  },
  {
   "cell_type": "code",
   "execution_count": 90,
   "metadata": {},
   "outputs": [],
   "source": [
    "scrollEvents[\"duration\"] = scrollEvents[\"duration\"].dt.total_seconds()"
   ]
  },
  {
   "cell_type": "code",
   "execution_count": 91,
   "metadata": {},
   "outputs": [
    {
     "data": {
      "text/html": [
       "<div>\n",
       "<style scoped>\n",
       "    .dataframe tbody tr th:only-of-type {\n",
       "        vertical-align: middle;\n",
       "    }\n",
       "\n",
       "    .dataframe tbody tr th {\n",
       "        vertical-align: top;\n",
       "    }\n",
       "\n",
       "    .dataframe thead th {\n",
       "        text-align: right;\n",
       "    }\n",
       "</style>\n",
       "<table border=\"1\" class=\"dataframe\">\n",
       "  <thead>\n",
       "    <tr style=\"text-align: right;\">\n",
       "      <th></th>\n",
       "      <th>code</th>\n",
       "      <th>id</th>\n",
       "      <th>order_count</th>\n",
       "      <th>isPrintLuxWidget</th>\n",
       "      <th>isPrintPandas</th>\n",
       "      <th>param</th>\n",
       "      <th>duration</th>\n",
       "    </tr>\n",
       "  </thead>\n",
       "  <tbody>\n",
       "    <tr>\n",
       "      <th>24</th>\n",
       "      <td>df</td>\n",
       "      <td>56fce9d8233f4580889e8b0e20132265</td>\n",
       "      <td>4.0</td>\n",
       "      <td>NaN</td>\n",
       "      <td>NaN</td>\n",
       "      <td>Correlation</td>\n",
       "      <td>14465.564</td>\n",
       "    </tr>\n",
       "    <tr>\n",
       "      <th>235</th>\n",
       "      <td>df</td>\n",
       "      <td>56fce9d8233f4580889e8b0e20132265</td>\n",
       "      <td>4.0</td>\n",
       "      <td>NaN</td>\n",
       "      <td>NaN</td>\n",
       "      <td>Distribution</td>\n",
       "      <td>1.585</td>\n",
       "    </tr>\n",
       "    <tr>\n",
       "      <th>250</th>\n",
       "      <td>df.set_context([lux.Spec(attribute = \"Accelera...</td>\n",
       "      <td>8186a34508064c25875a673dcd27f0b7</td>\n",
       "      <td>6.0</td>\n",
       "      <td>NaN</td>\n",
       "      <td>NaN</td>\n",
       "      <td>Enhance</td>\n",
       "      <td>3.265</td>\n",
       "    </tr>\n",
       "    <tr>\n",
       "      <th>277</th>\n",
       "      <td>df.set_context([lux.Spec(attribute = \"Origin\")...</td>\n",
       "      <td>acc83ab6bce14919b42d706fc6d8f319</td>\n",
       "      <td>9.0</td>\n",
       "      <td>NaN</td>\n",
       "      <td>NaN</td>\n",
       "      <td>Enhance</td>\n",
       "      <td>33.448</td>\n",
       "    </tr>\n",
       "    <tr>\n",
       "      <th>322</th>\n",
       "      <td></td>\n",
       "      <td>3e60884749bb40578ca8e67fd23e06c0</td>\n",
       "      <td>11.0</td>\n",
       "      <td>NaN</td>\n",
       "      <td>NaN</td>\n",
       "      <td>Enhance</td>\n",
       "      <td>0.709</td>\n",
       "    </tr>\n",
       "  </tbody>\n",
       "</table>\n",
       "</div>"
      ],
      "text/plain": [
       "                                                  code  \\\n",
       "24                                                  df   \n",
       "235                                                 df   \n",
       "250  df.set_context([lux.Spec(attribute = \"Accelera...   \n",
       "277  df.set_context([lux.Spec(attribute = \"Origin\")...   \n",
       "322                                                      \n",
       "\n",
       "                                   id  order_count  isPrintLuxWidget  \\\n",
       "24   56fce9d8233f4580889e8b0e20132265          4.0               NaN   \n",
       "235  56fce9d8233f4580889e8b0e20132265          4.0               NaN   \n",
       "250  8186a34508064c25875a673dcd27f0b7          6.0               NaN   \n",
       "277  acc83ab6bce14919b42d706fc6d8f319          9.0               NaN   \n",
       "322  3e60884749bb40578ca8e67fd23e06c0         11.0               NaN   \n",
       "\n",
       "     isPrintPandas         param   duration  \n",
       "24             NaN   Correlation  14465.564  \n",
       "235            NaN  Distribution      1.585  \n",
       "250            NaN       Enhance      3.265  \n",
       "277            NaN       Enhance     33.448  \n",
       "322            NaN       Enhance      0.709  "
      ]
     },
     "execution_count": 91,
     "metadata": {},
     "output_type": "execute_result"
    }
   ],
   "source": [
    "scrollEvents"
   ]
  },
  {
   "cell_type": "code",
   "execution_count": 92,
   "metadata": {},
   "outputs": [
    {
     "data": {
      "text/plain": [
       "param\n",
       "Correlation     14465.564\n",
       "Distribution        1.585\n",
       "Enhance            12.474\n",
       "Name: duration, dtype: float64"
      ]
     },
     "execution_count": 92,
     "metadata": {},
     "output_type": "execute_result"
    }
   ],
   "source": [
    "scrollEvents.groupby(\"param\")[\"duration\"].mean()"
   ]
  },
  {
   "cell_type": "markdown",
   "metadata": {},
   "source": [
    "### Cells that were deleted"
   ]
  },
  {
   "cell_type": "code",
   "execution_count": 68,
   "metadata": {},
   "outputs": [
    {
     "data": {
      "text/html": [
       "<div>\n",
       "<style scoped>\n",
       "    .dataframe tbody tr th:only-of-type {\n",
       "        vertical-align: middle;\n",
       "    }\n",
       "\n",
       "    .dataframe tbody tr th {\n",
       "        vertical-align: top;\n",
       "    }\n",
       "\n",
       "    .dataframe thead th {\n",
       "        text-align: right;\n",
       "    }\n",
       "</style>\n",
       "<table border=\"1\" class=\"dataframe\">\n",
       "  <thead>\n",
       "    <tr style=\"text-align: right;\">\n",
       "      <th></th>\n",
       "      <th>time</th>\n",
       "      <th>type</th>\n",
       "      <th>code</th>\n",
       "      <th>id</th>\n",
       "      <th>order_count</th>\n",
       "      <th>isPrintLuxWidget</th>\n",
       "      <th>isPrintPandas</th>\n",
       "      <th>param</th>\n",
       "    </tr>\n",
       "  </thead>\n",
       "  <tbody>\n",
       "    <tr>\n",
       "      <th>38</th>\n",
       "      <td>2020-07-11 02:34:43.381000+00:00</td>\n",
       "      <td>deleteCodeCell</td>\n",
       "      <td>print (df.recommendation[\"Generalize\"][0].to_V...</td>\n",
       "      <td>2d7db20f9eb34b15bf2494762219b4e4</td>\n",
       "      <td>NaN</td>\n",
       "      <td>NaN</td>\n",
       "      <td>NaN</td>\n",
       "      <td>NaN</td>\n",
       "    </tr>\n",
       "    <tr>\n",
       "      <th>40</th>\n",
       "      <td>2020-07-11 02:34:51.719000+00:00</td>\n",
       "      <td>deleteCodeCell</td>\n",
       "      <td>df.set_context([lux.Spec(attribute = \"Horsepow...</td>\n",
       "      <td>91ab12f4d7df4b388655f3429eea43c3</td>\n",
       "      <td>NaN</td>\n",
       "      <td>NaN</td>\n",
       "      <td>NaN</td>\n",
       "      <td>NaN</td>\n",
       "    </tr>\n",
       "    <tr>\n",
       "      <th>64</th>\n",
       "      <td>2020-07-11 02:35:46.637000+00:00</td>\n",
       "      <td>deleteCodeCell</td>\n",
       "      <td>import json\\nprint(json.dumps(df.get_exported(...</td>\n",
       "      <td>b1308c83627d41a8811c685da200735a</td>\n",
       "      <td>NaN</td>\n",
       "      <td>NaN</td>\n",
       "      <td>NaN</td>\n",
       "      <td>NaN</td>\n",
       "    </tr>\n",
       "    <tr>\n",
       "      <th>65</th>\n",
       "      <td>2020-07-11 02:35:47.476000+00:00</td>\n",
       "      <td>deleteCodeCell</td>\n",
       "      <td>print(df.get_exported()[0].to_Altair())</td>\n",
       "      <td>b2604842c82041789dd72625933a6925</td>\n",
       "      <td>NaN</td>\n",
       "      <td>NaN</td>\n",
       "      <td>NaN</td>\n",
       "      <td>NaN</td>\n",
       "    </tr>\n",
       "  </tbody>\n",
       "</table>\n",
       "</div>"
      ],
      "text/plain": [
       "                               time            type  \\\n",
       "38 2020-07-11 02:34:43.381000+00:00  deleteCodeCell   \n",
       "40 2020-07-11 02:34:51.719000+00:00  deleteCodeCell   \n",
       "64 2020-07-11 02:35:46.637000+00:00  deleteCodeCell   \n",
       "65 2020-07-11 02:35:47.476000+00:00  deleteCodeCell   \n",
       "\n",
       "                                                 code  \\\n",
       "38  print (df.recommendation[\"Generalize\"][0].to_V...   \n",
       "40  df.set_context([lux.Spec(attribute = \"Horsepow...   \n",
       "64  import json\\nprint(json.dumps(df.get_exported(...   \n",
       "65            print(df.get_exported()[0].to_Altair())   \n",
       "\n",
       "                                  id  order_count isPrintLuxWidget  \\\n",
       "38  2d7db20f9eb34b15bf2494762219b4e4          NaN              NaN   \n",
       "40  91ab12f4d7df4b388655f3429eea43c3          NaN              NaN   \n",
       "64  b1308c83627d41a8811c685da200735a          NaN              NaN   \n",
       "65  b2604842c82041789dd72625933a6925          NaN              NaN   \n",
       "\n",
       "   isPrintPandas param  \n",
       "38           NaN   NaN  \n",
       "40           NaN   NaN  \n",
       "64           NaN   NaN  \n",
       "65           NaN   NaN  "
      ]
     },
     "execution_count": 68,
     "metadata": {},
     "output_type": "execute_result"
    }
   ],
   "source": [
    "df[df[\"type\"]=='deleteCodeCell']"
   ]
  },
  {
   "cell_type": "markdown",
   "metadata": {},
   "source": [
    "### Export Analysis"
   ]
  },
  {
   "cell_type": "code",
   "execution_count": 94,
   "metadata": {},
   "outputs": [
    {
     "data": {
      "text/html": [
       "<div>\n",
       "<style scoped>\n",
       "    .dataframe tbody tr th:only-of-type {\n",
       "        vertical-align: middle;\n",
       "    }\n",
       "\n",
       "    .dataframe tbody tr th {\n",
       "        vertical-align: top;\n",
       "    }\n",
       "\n",
       "    .dataframe thead th {\n",
       "        text-align: right;\n",
       "    }\n",
       "</style>\n",
       "<table border=\"1\" class=\"dataframe\">\n",
       "  <thead>\n",
       "    <tr style=\"text-align: right;\">\n",
       "      <th></th>\n",
       "      <th>time</th>\n",
       "      <th>type</th>\n",
       "      <th>code</th>\n",
       "      <th>id</th>\n",
       "      <th>order_count</th>\n",
       "      <th>isPrintLuxWidget</th>\n",
       "      <th>isPrintPandas</th>\n",
       "      <th>param</th>\n",
       "    </tr>\n",
       "  </thead>\n",
       "  <tbody>\n",
       "    <tr>\n",
       "      <th>81</th>\n",
       "      <td>2020-07-11 02:38:56.498000+00:00</td>\n",
       "      <td>exportBtnClick</td>\n",
       "      <td>df.set_context([lux.Spec(attribute = \"Cylinder...</td>\n",
       "      <td>acc83ab6bce14919b42d706fc6d8f319</td>\n",
       "      <td>9.0</td>\n",
       "      <td>NaN</td>\n",
       "      <td>NaN</td>\n",
       "      <td>{'Enhance': [0]}</td>\n",
       "    </tr>\n",
       "    <tr>\n",
       "      <th>127</th>\n",
       "      <td>2020-07-11 02:53:31.602000+00:00</td>\n",
       "      <td>exportBtnClick</td>\n",
       "      <td>df.set_context([lux.Spec(attribute = \"Cylinder...</td>\n",
       "      <td>acc83ab6bce14919b42d706fc6d8f319</td>\n",
       "      <td>9.0</td>\n",
       "      <td>NaN</td>\n",
       "      <td>NaN</td>\n",
       "      <td>{'Enhance': [0]}</td>\n",
       "    </tr>\n",
       "    <tr>\n",
       "      <th>161</th>\n",
       "      <td>2020-07-11 02:53:58.566000+00:00</td>\n",
       "      <td>exportBtnClick</td>\n",
       "      <td>df.set_context([lux.Spec(attribute = \"Cylinder...</td>\n",
       "      <td>acc83ab6bce14919b42d706fc6d8f319</td>\n",
       "      <td>9.0</td>\n",
       "      <td>NaN</td>\n",
       "      <td>NaN</td>\n",
       "      <td>{'Enhance': [0]}</td>\n",
       "    </tr>\n",
       "    <tr>\n",
       "      <th>182</th>\n",
       "      <td>2020-07-11 03:08:43.241000+00:00</td>\n",
       "      <td>exportBtnClick</td>\n",
       "      <td>df.set_context([lux.Spec(attribute = \"Cylinder...</td>\n",
       "      <td>acc83ab6bce14919b42d706fc6d8f319</td>\n",
       "      <td>9.0</td>\n",
       "      <td>NaN</td>\n",
       "      <td>NaN</td>\n",
       "      <td>{'Enhance': [0]}</td>\n",
       "    </tr>\n",
       "    <tr>\n",
       "      <th>304</th>\n",
       "      <td>2020-07-11 06:38:15.767000+00:00</td>\n",
       "      <td>exportBtnClick</td>\n",
       "      <td>df.set_context([lux.Spec(attribute = \"Origin\")...</td>\n",
       "      <td>acc83ab6bce14919b42d706fc6d8f319</td>\n",
       "      <td>9.0</td>\n",
       "      <td>NaN</td>\n",
       "      <td>NaN</td>\n",
       "      <td>{'Enhance': [2, 0]}</td>\n",
       "    </tr>\n",
       "    <tr>\n",
       "      <th>314</th>\n",
       "      <td>2020-07-11 06:38:26.662000+00:00</td>\n",
       "      <td>exportBtnClick</td>\n",
       "      <td>df.set_context([lux.Spec(attribute = \"Origin\")...</td>\n",
       "      <td>acc83ab6bce14919b42d706fc6d8f319</td>\n",
       "      <td>9.0</td>\n",
       "      <td>NaN</td>\n",
       "      <td>NaN</td>\n",
       "      <td>{'Enhance': [2, 0]}</td>\n",
       "    </tr>\n",
       "    <tr>\n",
       "      <th>333</th>\n",
       "      <td>2020-07-11 06:38:41.512000+00:00</td>\n",
       "      <td>exportBtnClick</td>\n",
       "      <td>df.set_context([lux.Spec(attribute = \"Origin\")...</td>\n",
       "      <td>acc83ab6bce14919b42d706fc6d8f319</td>\n",
       "      <td>9.0</td>\n",
       "      <td>NaN</td>\n",
       "      <td>NaN</td>\n",
       "      <td>{'Enhance': [2, 0]}</td>\n",
       "    </tr>\n",
       "  </tbody>\n",
       "</table>\n",
       "</div>"
      ],
      "text/plain": [
       "                                time            type  \\\n",
       "81  2020-07-11 02:38:56.498000+00:00  exportBtnClick   \n",
       "127 2020-07-11 02:53:31.602000+00:00  exportBtnClick   \n",
       "161 2020-07-11 02:53:58.566000+00:00  exportBtnClick   \n",
       "182 2020-07-11 03:08:43.241000+00:00  exportBtnClick   \n",
       "304 2020-07-11 06:38:15.767000+00:00  exportBtnClick   \n",
       "314 2020-07-11 06:38:26.662000+00:00  exportBtnClick   \n",
       "333 2020-07-11 06:38:41.512000+00:00  exportBtnClick   \n",
       "\n",
       "                                                  code  \\\n",
       "81   df.set_context([lux.Spec(attribute = \"Cylinder...   \n",
       "127  df.set_context([lux.Spec(attribute = \"Cylinder...   \n",
       "161  df.set_context([lux.Spec(attribute = \"Cylinder...   \n",
       "182  df.set_context([lux.Spec(attribute = \"Cylinder...   \n",
       "304  df.set_context([lux.Spec(attribute = \"Origin\")...   \n",
       "314  df.set_context([lux.Spec(attribute = \"Origin\")...   \n",
       "333  df.set_context([lux.Spec(attribute = \"Origin\")...   \n",
       "\n",
       "                                   id  order_count  isPrintLuxWidget  \\\n",
       "81   acc83ab6bce14919b42d706fc6d8f319          9.0               NaN   \n",
       "127  acc83ab6bce14919b42d706fc6d8f319          9.0               NaN   \n",
       "161  acc83ab6bce14919b42d706fc6d8f319          9.0               NaN   \n",
       "182  acc83ab6bce14919b42d706fc6d8f319          9.0               NaN   \n",
       "304  acc83ab6bce14919b42d706fc6d8f319          9.0               NaN   \n",
       "314  acc83ab6bce14919b42d706fc6d8f319          9.0               NaN   \n",
       "333  acc83ab6bce14919b42d706fc6d8f319          9.0               NaN   \n",
       "\n",
       "     isPrintPandas                param  \n",
       "81             NaN     {'Enhance': [0]}  \n",
       "127            NaN     {'Enhance': [0]}  \n",
       "161            NaN     {'Enhance': [0]}  \n",
       "182            NaN     {'Enhance': [0]}  \n",
       "304            NaN  {'Enhance': [2, 0]}  \n",
       "314            NaN  {'Enhance': [2, 0]}  \n",
       "333            NaN  {'Enhance': [2, 0]}  "
      ]
     },
     "execution_count": 94,
     "metadata": {},
     "output_type": "execute_result"
    }
   ],
   "source": [
    "uiEventDf[uiEventDf[\"type\"]==\"exportBtnClick\"]"
   ]
  },
  {
   "cell_type": "code",
   "execution_count": 95,
   "metadata": {},
   "outputs": [
    {
     "data": {
      "text/html": [
       "<div>\n",
       "<style scoped>\n",
       "    .dataframe tbody tr th:only-of-type {\n",
       "        vertical-align: middle;\n",
       "    }\n",
       "\n",
       "    .dataframe tbody tr th {\n",
       "        vertical-align: top;\n",
       "    }\n",
       "\n",
       "    .dataframe thead th {\n",
       "        text-align: right;\n",
       "    }\n",
       "</style>\n",
       "<table border=\"1\" class=\"dataframe\">\n",
       "  <thead>\n",
       "    <tr style=\"text-align: right;\">\n",
       "      <th></th>\n",
       "      <th>time</th>\n",
       "      <th>type</th>\n",
       "      <th>code</th>\n",
       "      <th>id</th>\n",
       "      <th>order_count</th>\n",
       "      <th>isPrintLuxWidget</th>\n",
       "      <th>isPrintPandas</th>\n",
       "      <th>param</th>\n",
       "    </tr>\n",
       "  </thead>\n",
       "  <tbody>\n",
       "    <tr>\n",
       "      <th>79</th>\n",
       "      <td>2020-07-11 02:38:53.897000+00:00</td>\n",
       "      <td>clickVis</td>\n",
       "      <td>NaN</td>\n",
       "      <td>NaN</td>\n",
       "      <td>NaN</td>\n",
       "      <td>NaN</td>\n",
       "      <td>NaN</td>\n",
       "      <td>{'index': 0, 'tabTitle': 'Enhance', 'vis': {'$...</td>\n",
       "    </tr>\n",
       "    <tr>\n",
       "      <th>125</th>\n",
       "      <td>2020-07-11 02:53:30.812000+00:00</td>\n",
       "      <td>clickVis</td>\n",
       "      <td>NaN</td>\n",
       "      <td>NaN</td>\n",
       "      <td>NaN</td>\n",
       "      <td>NaN</td>\n",
       "      <td>NaN</td>\n",
       "      <td>{'index': 0, 'tabTitle': 'Enhance', 'vis': {'$...</td>\n",
       "    </tr>\n",
       "    <tr>\n",
       "      <th>159</th>\n",
       "      <td>2020-07-11 02:53:57.487000+00:00</td>\n",
       "      <td>clickVis</td>\n",
       "      <td>NaN</td>\n",
       "      <td>NaN</td>\n",
       "      <td>NaN</td>\n",
       "      <td>NaN</td>\n",
       "      <td>NaN</td>\n",
       "      <td>{'index': 0, 'tabTitle': 'Enhance', 'vis': {'$...</td>\n",
       "    </tr>\n",
       "    <tr>\n",
       "      <th>180</th>\n",
       "      <td>2020-07-11 03:08:41.722000+00:00</td>\n",
       "      <td>clickVis</td>\n",
       "      <td>NaN</td>\n",
       "      <td>NaN</td>\n",
       "      <td>NaN</td>\n",
       "      <td>NaN</td>\n",
       "      <td>NaN</td>\n",
       "      <td>{'index': 0, 'tabTitle': 'Enhance', 'vis': {'$...</td>\n",
       "    </tr>\n",
       "    <tr>\n",
       "      <th>302</th>\n",
       "      <td>2020-07-11 06:38:12.023000+00:00</td>\n",
       "      <td>clickVis</td>\n",
       "      <td>NaN</td>\n",
       "      <td>NaN</td>\n",
       "      <td>NaN</td>\n",
       "      <td>NaN</td>\n",
       "      <td>NaN</td>\n",
       "      <td>{'index': 0, 'tabTitle': 'Enhance', 'vis': {'$...</td>\n",
       "    </tr>\n",
       "    <tr>\n",
       "      <th>308</th>\n",
       "      <td>2020-07-11 06:38:21.238000+00:00</td>\n",
       "      <td>clickVis</td>\n",
       "      <td>NaN</td>\n",
       "      <td>NaN</td>\n",
       "      <td>NaN</td>\n",
       "      <td>NaN</td>\n",
       "      <td>NaN</td>\n",
       "      <td>{'index': 2, 'tabTitle': 'Enhance', 'vis': {'$...</td>\n",
       "    </tr>\n",
       "    <tr>\n",
       "      <th>331</th>\n",
       "      <td>2020-07-11 06:38:40.582000+00:00</td>\n",
       "      <td>clickVis</td>\n",
       "      <td>NaN</td>\n",
       "      <td>NaN</td>\n",
       "      <td>NaN</td>\n",
       "      <td>NaN</td>\n",
       "      <td>NaN</td>\n",
       "      <td>{'index': 0, 'tabTitle': 'Enhance', 'vis': {'$...</td>\n",
       "    </tr>\n",
       "  </tbody>\n",
       "</table>\n",
       "</div>"
      ],
      "text/plain": [
       "                                time      type code   id  order_count  \\\n",
       "79  2020-07-11 02:38:53.897000+00:00  clickVis  NaN  NaN          NaN   \n",
       "125 2020-07-11 02:53:30.812000+00:00  clickVis  NaN  NaN          NaN   \n",
       "159 2020-07-11 02:53:57.487000+00:00  clickVis  NaN  NaN          NaN   \n",
       "180 2020-07-11 03:08:41.722000+00:00  clickVis  NaN  NaN          NaN   \n",
       "302 2020-07-11 06:38:12.023000+00:00  clickVis  NaN  NaN          NaN   \n",
       "308 2020-07-11 06:38:21.238000+00:00  clickVis  NaN  NaN          NaN   \n",
       "331 2020-07-11 06:38:40.582000+00:00  clickVis  NaN  NaN          NaN   \n",
       "\n",
       "    isPrintLuxWidget isPrintPandas  \\\n",
       "79               NaN           NaN   \n",
       "125              NaN           NaN   \n",
       "159              NaN           NaN   \n",
       "180              NaN           NaN   \n",
       "302              NaN           NaN   \n",
       "308              NaN           NaN   \n",
       "331              NaN           NaN   \n",
       "\n",
       "                                                 param  \n",
       "79   {'index': 0, 'tabTitle': 'Enhance', 'vis': {'$...  \n",
       "125  {'index': 0, 'tabTitle': 'Enhance', 'vis': {'$...  \n",
       "159  {'index': 0, 'tabTitle': 'Enhance', 'vis': {'$...  \n",
       "180  {'index': 0, 'tabTitle': 'Enhance', 'vis': {'$...  \n",
       "302  {'index': 0, 'tabTitle': 'Enhance', 'vis': {'$...  \n",
       "308  {'index': 2, 'tabTitle': 'Enhance', 'vis': {'$...  \n",
       "331  {'index': 0, 'tabTitle': 'Enhance', 'vis': {'$...  "
      ]
     },
     "execution_count": 95,
     "metadata": {},
     "output_type": "execute_result"
    }
   ],
   "source": [
    "df[df[\"type\"]==\"clickVis\"]"
   ]
  },
  {
   "cell_type": "code",
   "execution_count": 64,
   "metadata": {},
   "outputs": [
    {
     "data": {
      "text/plain": [
       "{'index': 0,\n",
       " 'tabTitle': 'Enhance',\n",
       " 'vis': {'$schema': 'https://vega.github.io/schema/vega-lite/v4.8.1.json',\n",
       "  'config': {'mark': {'tooltip': {'content': 'encoding'}},\n",
       "   'view': {'continuousHeight': 300, 'continuousWidth': 400}},\n",
       "  'data': {'name': 'data-b459fb57984ecb8eda0efb044d6a3e1d'},\n",
       "  'datasets': {'data-b459fb57984ecb8eda0efb044d6a3e1d': [{'Displacement': 109.63235294117646,\n",
       "     'Origin': 'Europe'},\n",
       "    {'Displacement': 102.70886075949367, 'Origin': 'Japan'},\n",
       "    {'Displacement': 247.5122448979592, 'Origin': 'USA'}]},\n",
       "  'encoding': {'x': {'field': 'Displacement',\n",
       "    'title': 'Mean of Displacement',\n",
       "    'type': 'quantitative'},\n",
       "   'y': {'axis': {'labelOverlap': True},\n",
       "    'field': 'Origin',\n",
       "    'type': 'nominal'}},\n",
       "  'height': 150,\n",
       "  'mark': 'bar',\n",
       "  'width': 160}}"
      ]
     },
     "execution_count": 64,
     "metadata": {},
     "output_type": "execute_result"
    }
   ],
   "source": [
    "df[df[\"type\"]==\"clickVis\"].param.values[0]"
   ]
  },
  {
   "cell_type": "code",
   "execution_count": null,
   "metadata": {},
   "outputs": [],
   "source": []
  }
 ],
 "metadata": {
  "history": [
   {
    "time": "2020-07-09T09:37:25.304Z",
    "type": "kernelReady"
   },
   {
    "code": "",
    "id": "2ac7fab7b4c448f394c0340ec93cc053",
    "order_count": 0,
    "time": "2020-07-09T09:37:26.567Z",
    "type": "selectCodeCell"
   },
   {
    "code": "",
    "id": "2ac7fab7b4c448f394c0340ec93cc053",
    "order_count": 0,
    "time": "2020-07-09T09:37:34.271Z",
    "type": "editCodeCell"
   },
   {
    "code": "ls",
    "id": "2ac7fab7b4c448f394c0340ec93cc053",
    "order_count": 0,
    "time": "2020-07-09T09:37:36.639Z",
    "type": "executeCodeCell"
   },
   {
    "code": "ls",
    "id": "2ac7fab7b4c448f394c0340ec93cc053",
    "order_count": 0,
    "time": "2020-07-09T09:37:36.640Z",
    "type": "selectCodeCell"
   },
   {
    "code": "",
    "id": "3e7404c3c5db42c69463be17b1dcca59",
    "order_count": 1,
    "time": "2020-07-09T09:37:36.664Z",
    "type": "editCodeCell"
   },
   {
    "id": "2ac7fab7b4c448f394c0340ec93cc053",
    "isPrintLuxWidget": false,
    "isPrintPandas": false,
    "time": "2020-07-09T09:37:36.768Z",
    "type": "completeCodeCell"
   },
   {
    "code": "",
    "id": "3e7404c3c5db42c69463be17b1dcca59",
    "order_count": 1,
    "time": "2020-07-09T09:37:39.198Z",
    "type": "selectCodeCell"
   },
   {
    "code": "",
    "id": "3e7404c3c5db42c69463be17b1dcca59",
    "order_count": 1,
    "time": "2020-07-09T09:37:40.465Z",
    "type": "editCodeCell"
   },
   {
    "code": "import json",
    "id": "3e7404c3c5db42c69463be17b1dcca59",
    "order_count": 1,
    "time": "2020-07-09T09:37:44.353Z",
    "type": "executeCodeCell"
   },
   {
    "code": "import json",
    "id": "3e7404c3c5db42c69463be17b1dcca59",
    "order_count": 1,
    "time": "2020-07-09T09:37:44.354Z",
    "type": "selectCodeCell"
   },
   {
    "code": "",
    "id": "b93ae691024e47b48a90e4d5815a61ca",
    "order_count": 2,
    "time": "2020-07-09T09:37:44.379Z",
    "type": "editCodeCell"
   },
   {
    "id": "3e7404c3c5db42c69463be17b1dcca59",
    "isPrintLuxWidget": false,
    "isPrintPandas": false,
    "time": "2020-07-09T09:37:44.385Z",
    "type": "completeCodeCell"
   },
   {
    "code": "nb = json.load(read(\"CarsDemo.ipynb\"))",
    "id": "b93ae691024e47b48a90e4d5815a61ca",
    "order_count": 2,
    "time": "2020-07-09T09:38:02.010Z",
    "type": "executeCodeCell"
   },
   {
    "code": "nb = json.load(read(\"CarsDemo.ipynb\"))",
    "id": "b93ae691024e47b48a90e4d5815a61ca",
    "order_count": 2,
    "time": "2020-07-09T09:38:02.011Z",
    "type": "selectCodeCell"
   },
   {
    "code": "",
    "id": "c7d27a1082de475aacee3a8a5793264c",
    "order_count": 3,
    "time": "2020-07-09T09:38:02.036Z",
    "type": "editCodeCell"
   },
   {
    "id": "b93ae691024e47b48a90e4d5815a61ca",
    "isPrintLuxWidget": false,
    "isPrintPandas": false,
    "time": "2020-07-09T09:38:02.100Z",
    "type": "completeCodeCell"
   },
   {
    "code": "",
    "id": "c7d27a1082de475aacee3a8a5793264c",
    "order_count": 3,
    "time": "2020-07-09T09:38:03.283Z",
    "type": "selectCodeCell"
   },
   {
    "code": "nb = json.load(read(\"CarsDemo.ipynb\"))",
    "id": "b93ae691024e47b48a90e4d5815a61ca",
    "order_count": 2,
    "time": "2020-07-09T09:38:03.303Z",
    "type": "editCodeCell"
   },
   {
    "code": "nb = json.load(file.read(\"CarsDemo.ipynb\"))",
    "id": "b93ae691024e47b48a90e4d5815a61ca",
    "order_count": 2,
    "time": "2020-07-09T09:38:07.112Z",
    "type": "executeCodeCell"
   },
   {
    "code": "nb = json.load(file.read(\"CarsDemo.ipynb\"))",
    "id": "b93ae691024e47b48a90e4d5815a61ca",
    "order_count": 2,
    "time": "2020-07-09T09:38:07.113Z",
    "type": "selectCodeCell"
   },
   {
    "id": "b93ae691024e47b48a90e4d5815a61ca",
    "isPrintLuxWidget": false,
    "isPrintPandas": false,
    "time": "2020-07-09T09:38:07.141Z",
    "type": "completeCodeCell"
   },
   {
    "code": "nb = json.load(file.read(\"CarsDemo.ipynb\"))",
    "id": "b93ae691024e47b48a90e4d5815a61ca",
    "order_count": 2,
    "time": "2020-07-09T09:38:08.035Z",
    "type": "editCodeCell"
   },
   {
    "code": "nb = json.load(open(\"CarsDemo.ipynb\"))",
    "id": "b93ae691024e47b48a90e4d5815a61ca",
    "order_count": 2,
    "time": "2020-07-09T09:38:13.542Z",
    "type": "executeCodeCell"
   },
   {
    "code": "nb = json.load(open(\"CarsDemo.ipynb\"))",
    "id": "b93ae691024e47b48a90e4d5815a61ca",
    "order_count": 2,
    "time": "2020-07-09T09:38:13.543Z",
    "type": "selectCodeCell"
   },
   {
    "id": "b93ae691024e47b48a90e4d5815a61ca",
    "isPrintLuxWidget": false,
    "isPrintPandas": false,
    "time": "2020-07-09T09:38:13.561Z",
    "type": "completeCodeCell"
   },
   {
    "code": "",
    "id": "c7d27a1082de475aacee3a8a5793264c",
    "order_count": 3,
    "time": "2020-07-09T09:38:14.301Z",
    "type": "editCodeCell"
   },
   {
    "code": "nb",
    "id": "c7d27a1082de475aacee3a8a5793264c",
    "order_count": 3,
    "time": "2020-07-09T09:38:15.581Z",
    "type": "executeCodeCell"
   },
   {
    "code": "nb",
    "id": "c7d27a1082de475aacee3a8a5793264c",
    "order_count": 3,
    "time": "2020-07-09T09:38:15.582Z",
    "type": "selectCodeCell"
   },
   {
    "code": "",
    "id": "26d60088c09d4110944c05a07114c869",
    "order_count": 4,
    "time": "2020-07-09T09:38:15.607Z",
    "type": "editCodeCell"
   },
   {
    "id": "c7d27a1082de475aacee3a8a5793264c",
    "isPrintLuxWidget": false,
    "isPrintPandas": false,
    "time": "2020-07-09T09:38:15.948Z",
    "type": "completeCodeCell"
   },
   {
    "code": "",
    "id": "26d60088c09d4110944c05a07114c869",
    "order_count": 4,
    "time": "2020-07-09T09:38:17.845Z",
    "type": "selectCodeCell"
   },
   {
    "code": "nb",
    "id": "c7d27a1082de475aacee3a8a5793264c",
    "order_count": 3,
    "time": "2020-07-09T09:38:17.860Z",
    "type": "editCodeCell"
   },
   {
    "code": "nb",
    "id": "c7d27a1082de475aacee3a8a5793264c",
    "order_count": 3,
    "time": "2020-07-09T09:38:19.777Z",
    "type": "selectCodeCell"
   },
   {
    "code": "nb",
    "id": "c7d27a1082de475aacee3a8a5793264c",
    "order_count": 3,
    "time": "2020-07-09T09:38:28.657Z",
    "type": "editCodeCell"
   },
   {
    "code": "log = nb[\"metadata\"][\"history\"]",
    "id": "c7d27a1082de475aacee3a8a5793264c",
    "order_count": 3,
    "time": "2020-07-09T09:38:36.643Z",
    "type": "executeCodeCell"
   },
   {
    "code": "log = nb[\"metadata\"][\"history\"]",
    "id": "c7d27a1082de475aacee3a8a5793264c",
    "order_count": 3,
    "time": "2020-07-09T09:38:36.644Z",
    "type": "selectCodeCell"
   },
   {
    "id": "c7d27a1082de475aacee3a8a5793264c",
    "isPrintLuxWidget": false,
    "isPrintPandas": false,
    "time": "2020-07-09T09:38:36.666Z",
    "type": "completeCodeCell"
   },
   {
    "code": "",
    "id": "26d60088c09d4110944c05a07114c869",
    "order_count": 4,
    "time": "2020-07-09T09:38:37.319Z",
    "type": "editCodeCell"
   },
   {
    "code": "log",
    "id": "26d60088c09d4110944c05a07114c869",
    "order_count": 4,
    "time": "2020-07-09T09:38:38.358Z",
    "type": "executeCodeCell"
   },
   {
    "code": "log",
    "id": "26d60088c09d4110944c05a07114c869",
    "order_count": 4,
    "time": "2020-07-09T09:38:38.359Z",
    "type": "selectCodeCell"
   },
   {
    "code": "",
    "id": "5a39ed3a5181470b8c00818c8833e1da",
    "order_count": 5,
    "time": "2020-07-09T09:38:38.394Z",
    "type": "editCodeCell"
   },
   {
    "id": "26d60088c09d4110944c05a07114c869",
    "isPrintLuxWidget": false,
    "isPrintPandas": false,
    "time": "2020-07-09T09:38:38.671Z",
    "type": "completeCodeCell"
   },
   {
    "code": "",
    "id": "5a39ed3a5181470b8c00818c8833e1da",
    "order_count": 5,
    "time": "2020-07-09T09:38:41.136Z",
    "type": "selectCodeCell"
   },
   {
    "code": "ls",
    "id": "2ac7fab7b4c448f394c0340ec93cc053",
    "order_count": null,
    "time": "2020-07-09T09:38:58.888Z",
    "type": "deleteCodeCell"
   },
   {
    "code": "log",
    "id": "26d60088c09d4110944c05a07114c869",
    "order_count": 3,
    "time": "2020-07-09T09:40:22.072Z",
    "type": "editCodeCell"
   },
   {
    "code": "log",
    "id": "26d60088c09d4110944c05a07114c869",
    "order_count": 3,
    "time": "2020-07-09T09:40:34.484Z",
    "type": "selectCodeCell"
   },
   {
    "code": "log",
    "id": "26d60088c09d4110944c05a07114c869",
    "order_count": 3,
    "time": "2020-07-09T09:40:55.701Z",
    "type": "editCodeCell"
   },
   {
    "code": "log",
    "id": "26d60088c09d4110944c05a07114c869",
    "order_count": 3,
    "time": "2020-07-09T09:40:58.196Z",
    "type": "selectCodeCell"
   },
   {
    "code": "log",
    "id": "26d60088c09d4110944c05a07114c869",
    "order_count": 3,
    "time": "2020-07-09T09:40:58.684Z",
    "type": "editCodeCell"
   },
   {
    "code": "log",
    "id": "26d60088c09d4110944c05a07114c869",
    "order_count": 3,
    "time": "2020-07-09T09:41:14.959Z",
    "type": "selectCodeCell"
   },
   {
    "code": "",
    "id": "874be6a9ee7342039aec1d0bb17c4869",
    "order_count": 3,
    "time": "2020-07-09T09:42:23.161Z",
    "type": "editCodeCell"
   },
   {
    "code": "Merge editCodeCell, executeCodeCell and completeCodeCell into one based on id",
    "id": "874be6a9ee7342039aec1d0bb17c4869",
    "order_count": 3,
    "time": "2020-07-09T09:43:10.401Z",
    "type": "selectCodeCell"
   },
   {
    "code": "log",
    "id": "26d60088c09d4110944c05a07114c869",
    "order_count": 4,
    "time": "2020-07-09T09:43:23.875Z",
    "type": "editCodeCell"
   },
   {
    "code": "log",
    "id": "26d60088c09d4110944c05a07114c869",
    "order_count": 4,
    "time": "2020-07-09T09:43:29.369Z",
    "type": "selectCodeCell"
   },
   {
    "code": "",
    "id": "5c68492578684fd4828ac1fac693445f",
    "order_count": 4,
    "time": "2020-07-09T09:43:29.843Z",
    "type": "editCodeCell"
   },
   {
    "code": "import pandas as pd",
    "id": "5c68492578684fd4828ac1fac693445f",
    "order_count": 4,
    "time": "2020-07-09T09:43:32.795Z",
    "type": "executeCodeCell"
   },
   {
    "code": "import pandas as pd",
    "id": "5c68492578684fd4828ac1fac693445f",
    "order_count": 4,
    "time": "2020-07-09T09:43:32.796Z",
    "type": "selectCodeCell"
   },
   {
    "code": "log",
    "id": "26d60088c09d4110944c05a07114c869",
    "order_count": 5,
    "time": "2020-07-09T09:43:33.183Z",
    "type": "editCodeCell"
   },
   {
    "id": "5c68492578684fd4828ac1fac693445f",
    "isPrintLuxWidget": false,
    "isPrintPandas": false,
    "time": "2020-07-09T09:43:33.212Z",
    "type": "completeCodeCell"
   },
   {
    "code": "pd.DataFrame(log)",
    "id": "26d60088c09d4110944c05a07114c869",
    "order_count": 5,
    "time": "2020-07-09T09:43:37.352Z",
    "type": "executeCodeCell"
   },
   {
    "code": "pd.DataFrame(log)",
    "id": "26d60088c09d4110944c05a07114c869",
    "order_count": 5,
    "time": "2020-07-09T09:43:37.353Z",
    "type": "selectCodeCell"
   },
   {
    "id": "26d60088c09d4110944c05a07114c869",
    "isPrintLuxWidget": false,
    "isPrintPandas": true,
    "time": "2020-07-09T09:43:37.407Z",
    "type": "completeCodeCell"
   },
   {
    "code": "pd.DataFrame(log)",
    "id": "26d60088c09d4110944c05a07114c869",
    "order_count": 5,
    "time": "2020-07-09T09:43:38.465Z",
    "type": "editCodeCell"
   },
   {
    "code": "df = pd.DataFrame(log)",
    "id": "26d60088c09d4110944c05a07114c869",
    "order_count": 5,
    "time": "2020-07-09T09:43:45.470Z",
    "type": "executeCodeCell"
   },
   {
    "code": "df = pd.DataFrame(log)",
    "id": "26d60088c09d4110944c05a07114c869",
    "order_count": 5,
    "time": "2020-07-09T09:43:45.471Z",
    "type": "selectCodeCell"
   },
   {
    "id": "26d60088c09d4110944c05a07114c869",
    "isPrintLuxWidget": false,
    "isPrintPandas": false,
    "time": "2020-07-09T09:43:45.492Z",
    "type": "completeCodeCell"
   },
   {
    "code": "",
    "id": "5a39ed3a5181470b8c00818c8833e1da",
    "order_count": 6,
    "time": "2020-07-09T09:43:46.742Z",
    "type": "editCodeCell"
   },
   {
    "code": "df",
    "id": "5a39ed3a5181470b8c00818c8833e1da",
    "order_count": 6,
    "time": "2020-07-09T09:43:47.723Z",
    "type": "executeCodeCell"
   },
   {
    "code": "df",
    "id": "5a39ed3a5181470b8c00818c8833e1da",
    "order_count": 6,
    "time": "2020-07-09T09:43:47.723Z",
    "type": "selectCodeCell"
   },
   {
    "code": "",
    "id": "fdeb75bfbc224f848b29df11388a9554",
    "order_count": 7,
    "time": "2020-07-09T09:43:47.751Z",
    "type": "editCodeCell"
   },
   {
    "id": "5a39ed3a5181470b8c00818c8833e1da",
    "isPrintLuxWidget": false,
    "isPrintPandas": true,
    "time": "2020-07-09T09:43:47.764Z",
    "type": "completeCodeCell"
   },
   {
    "code": "",
    "id": "fdeb75bfbc224f848b29df11388a9554",
    "order_count": 7,
    "time": "2020-07-09T09:43:50.024Z",
    "type": "selectCodeCell"
   },
   {
    "code": "df",
    "id": "5a39ed3a5181470b8c00818c8833e1da",
    "order_count": 6,
    "time": "2020-07-09T09:46:28.431Z",
    "type": "editCodeCell"
   },
   {
    "code": "df.groupby(\"id\")",
    "id": "5a39ed3a5181470b8c00818c8833e1da",
    "order_count": 6,
    "time": "2020-07-09T09:46:58.208Z",
    "type": "executeCodeCell"
   },
   {
    "code": "df.groupby(\"id\")",
    "id": "5a39ed3a5181470b8c00818c8833e1da",
    "order_count": 6,
    "time": "2020-07-09T09:46:58.209Z",
    "type": "selectCodeCell"
   },
   {
    "id": "5a39ed3a5181470b8c00818c8833e1da",
    "isPrintLuxWidget": false,
    "isPrintPandas": false,
    "time": "2020-07-09T09:46:58.231Z",
    "type": "completeCodeCell"
   },
   {
    "code": "df.groupby(\"id\")",
    "id": "5a39ed3a5181470b8c00818c8833e1da",
    "order_count": 6,
    "time": "2020-07-09T09:46:58.995Z",
    "type": "editCodeCell"
   },
   {
    "code": "df.groupby(\"id\")",
    "id": "5a39ed3a5181470b8c00818c8833e1da",
    "order_count": 6,
    "time": "2020-07-09T09:47:02.528Z",
    "type": "selectCodeCell"
   },
   {
    "code": "",
    "id": "7fbdef2113614415a3d4b633bf57edc2",
    "order_count": 6,
    "time": "2020-07-09T09:47:03.050Z",
    "type": "editCodeCell"
   },
   {
    "code": "df",
    "id": "7fbdef2113614415a3d4b633bf57edc2",
    "order_count": 6,
    "time": "2020-07-09T09:47:03.656Z",
    "type": "executeCodeCell"
   },
   {
    "code": "df",
    "id": "7fbdef2113614415a3d4b633bf57edc2",
    "order_count": 6,
    "time": "2020-07-09T09:47:03.657Z",
    "type": "selectCodeCell"
   },
   {
    "id": "7fbdef2113614415a3d4b633bf57edc2",
    "isPrintLuxWidget": false,
    "isPrintPandas": true,
    "time": "2020-07-09T09:47:03.681Z",
    "type": "completeCodeCell"
   },
   {
    "code": "df",
    "id": "7fbdef2113614415a3d4b633bf57edc2",
    "order_count": null,
    "time": "2020-07-09T09:47:39.497Z",
    "type": "deleteCodeCell"
   },
   {
    "code": "",
    "id": "b43c647cc8e44a248eb6e510c31b7cd4",
    "order_count": 6,
    "time": "2020-07-09T09:47:41.562Z",
    "type": "editCodeCell"
   },
   {
    "code": "df[\"type\"]",
    "id": "b43c647cc8e44a248eb6e510c31b7cd4",
    "order_count": 6,
    "time": "2020-07-09T09:47:43.513Z",
    "type": "executeCodeCell"
   },
   {
    "code": "df[\"type\"]",
    "id": "b43c647cc8e44a248eb6e510c31b7cd4",
    "order_count": 6,
    "time": "2020-07-09T09:47:43.514Z",
    "type": "selectCodeCell"
   },
   {
    "id": "b43c647cc8e44a248eb6e510c31b7cd4",
    "isPrintLuxWidget": false,
    "isPrintPandas": false,
    "time": "2020-07-09T09:47:43.536Z",
    "type": "completeCodeCell"
   },
   {
    "code": "df[\"type\"]",
    "id": "b43c647cc8e44a248eb6e510c31b7cd4",
    "order_count": 6,
    "time": "2020-07-09T09:47:44.268Z",
    "type": "editCodeCell"
   },
   {
    "code": "df[(df[\"type\"]==\"executeCodeCell\")|(df[\"type\"]==\"editCodeCell\")]",
    "id": "b43c647cc8e44a248eb6e510c31b7cd4",
    "order_count": 6,
    "time": "2020-07-09T09:48:16.924Z",
    "type": "executeCodeCell"
   },
   {
    "code": "df[(df[\"type\"]==\"executeCodeCell\")|(df[\"type\"]==\"editCodeCell\")]",
    "id": "b43c647cc8e44a248eb6e510c31b7cd4",
    "order_count": 6,
    "time": "2020-07-09T09:48:16.926Z",
    "type": "selectCodeCell"
   },
   {
    "id": "b43c647cc8e44a248eb6e510c31b7cd4",
    "isPrintLuxWidget": false,
    "isPrintPandas": true,
    "time": "2020-07-09T09:48:16.963Z",
    "type": "completeCodeCell"
   },
   {
    "code": "df[(df[\"type\"]==\"executeCodeCell\")|(df[\"type\"]==\"editCodeCell\")]",
    "id": "b43c647cc8e44a248eb6e510c31b7cd4",
    "order_count": 6,
    "time": "2020-07-09T09:48:17.570Z",
    "type": "editCodeCell"
   },
   {
    "code": "df[(df[\"type\"]==\"executeCodeCell\")|(df[\"type\"]==\"editCodeCell\")].groupby(\"id\").apply()",
    "id": "b43c647cc8e44a248eb6e510c31b7cd4",
    "order_count": 6,
    "time": "2020-07-09T09:48:36.776Z",
    "type": "selectCodeCell"
   },
   {
    "code": "df[(df[\"type\"]==\"executeCodeCell\")|(df[\"type\"]==\"editCodeCell\")].groupby(\"id\").apply()",
    "id": "b43c647cc8e44a248eb6e510c31b7cd4",
    "order_count": 6,
    "time": "2020-07-09T09:48:37.480Z",
    "type": "editCodeCell"
   },
   {
    "code": "df[(df[\"type\"]==\"executeCodeCell\")|(df[\"type\"]==\"editCodeCell\")].groupby(\"id\").apply()",
    "id": "b43c647cc8e44a248eb6e510c31b7cd4",
    "order_count": 6,
    "time": "2020-07-09T09:48:37.496Z",
    "type": "selectCodeCell"
   },
   {
    "code": "df[(df[\"type\"]==\"executeCodeCell\")|(df[\"type\"]==\"editCodeCell\")].groupby(\"id\").apply()",
    "id": "b43c647cc8e44a248eb6e510c31b7cd4",
    "order_count": 6,
    "time": "2020-07-09T09:48:53.890Z",
    "type": "editCodeCell"
   },
   {
    "code": "df[(df[\"type\"]==\"executeCodeCell\")|(df[\"type\"]==\"editCodeCell\")].groupby(\"id\").apply(sub)",
    "id": "b43c647cc8e44a248eb6e510c31b7cd4",
    "order_count": 6,
    "time": "2020-07-09T09:48:55.596Z",
    "type": "executeCodeCell"
   },
   {
    "code": "df[(df[\"type\"]==\"executeCodeCell\")|(df[\"type\"]==\"editCodeCell\")].groupby(\"id\").apply(sub)",
    "id": "b43c647cc8e44a248eb6e510c31b7cd4",
    "order_count": 6,
    "time": "2020-07-09T09:48:55.597Z",
    "type": "selectCodeCell"
   },
   {
    "id": "b43c647cc8e44a248eb6e510c31b7cd4",
    "isPrintLuxWidget": false,
    "isPrintPandas": false,
    "time": "2020-07-09T09:48:55.662Z",
    "type": "completeCodeCell"
   },
   {
    "code": "df[(df[\"type\"]==\"executeCodeCell\")|(df[\"type\"]==\"editCodeCell\")].groupby(\"id\").apply(sub)",
    "id": "b43c647cc8e44a248eb6e510c31b7cd4",
    "order_count": 6,
    "time": "2020-07-09T09:48:56.456Z",
    "type": "editCodeCell"
   },
   {
    "code": "df[(df[\"type\"]==\"executeCodeCell\")|(df[\"type\"]==\"editCodeCell\")].groupby(\"id\").apply(subtract)",
    "id": "b43c647cc8e44a248eb6e510c31b7cd4",
    "order_count": 6,
    "time": "2020-07-09T09:48:57.749Z",
    "type": "executeCodeCell"
   },
   {
    "code": "df[(df[\"type\"]==\"executeCodeCell\")|(df[\"type\"]==\"editCodeCell\")].groupby(\"id\").apply(subtract)",
    "id": "b43c647cc8e44a248eb6e510c31b7cd4",
    "order_count": 6,
    "time": "2020-07-09T09:48:57.749Z",
    "type": "selectCodeCell"
   },
   {
    "id": "b43c647cc8e44a248eb6e510c31b7cd4",
    "isPrintLuxWidget": false,
    "isPrintPandas": false,
    "time": "2020-07-09T09:48:57.777Z",
    "type": "completeCodeCell"
   },
   {
    "code": "df[(df[\"type\"]==\"executeCodeCell\")|(df[\"type\"]==\"editCodeCell\")].groupby(\"id\").apply(subtract)",
    "id": "b43c647cc8e44a248eb6e510c31b7cd4",
    "order_count": 6,
    "time": "2020-07-09T09:48:58.521Z",
    "type": "editCodeCell"
   },
   {
    "code": "df[(df[\"type\"]==\"executeCodeCell\")|(df[\"type\"]==\"editCodeCell\")].groupby(\"id\").apply(subtract)",
    "id": "b43c647cc8e44a248eb6e510c31b7cd4",
    "order_count": 6,
    "time": "2020-07-09T09:49:07.755Z",
    "type": "selectCodeCell"
   },
   {
    "code": "df[(df[\"type\"]==\"executeCodeCell\")|(df[\"type\"]==\"editCodeCell\")].groupby(\"id\").apply(subtract)",
    "id": "b43c647cc8e44a248eb6e510c31b7cd4",
    "order_count": 6,
    "time": "2020-07-09T09:49:12.137Z",
    "type": "editCodeCell"
   },
   {
    "code": "df[(df[\"type\"]==\"executeCodeCell\")|(df[\"type\"]==\"editCodeCell\")].groupby(\"id\").apply(diff)",
    "id": "b43c647cc8e44a248eb6e510c31b7cd4",
    "order_count": 6,
    "time": "2020-07-09T09:49:17.725Z",
    "type": "executeCodeCell"
   },
   {
    "code": "df[(df[\"type\"]==\"executeCodeCell\")|(df[\"type\"]==\"editCodeCell\")].groupby(\"id\").apply(diff)",
    "id": "b43c647cc8e44a248eb6e510c31b7cd4",
    "order_count": 6,
    "time": "2020-07-09T09:49:17.727Z",
    "type": "selectCodeCell"
   },
   {
    "id": "b43c647cc8e44a248eb6e510c31b7cd4",
    "isPrintLuxWidget": false,
    "isPrintPandas": false,
    "time": "2020-07-09T09:49:17.749Z",
    "type": "completeCodeCell"
   },
   {
    "code": "df[(df[\"type\"]==\"executeCodeCell\")|(df[\"type\"]==\"editCodeCell\")].groupby(\"id\").apply(diff)",
    "id": "b43c647cc8e44a248eb6e510c31b7cd4",
    "order_count": 6,
    "time": "2020-07-09T09:49:18.457Z",
    "type": "editCodeCell"
   },
   {
    "code": "df[(df[\"type\"]==\"executeCodeCell\")|(df[\"type\"]==\"editCodeCell\")].groupby(\"id\").diff()",
    "id": "b43c647cc8e44a248eb6e510c31b7cd4",
    "order_count": 6,
    "time": "2020-07-09T09:49:24.629Z",
    "type": "executeCodeCell"
   },
   {
    "code": "df[(df[\"type\"]==\"executeCodeCell\")|(df[\"type\"]==\"editCodeCell\")].groupby(\"id\").diff()",
    "id": "b43c647cc8e44a248eb6e510c31b7cd4",
    "order_count": 6,
    "time": "2020-07-09T09:49:24.630Z",
    "type": "selectCodeCell"
   },
   {
    "id": "b43c647cc8e44a248eb6e510c31b7cd4",
    "isPrintLuxWidget": false,
    "isPrintPandas": false,
    "time": "2020-07-09T09:49:24.710Z",
    "type": "completeCodeCell"
   },
   {
    "code": "df[(df[\"type\"]==\"executeCodeCell\")|(df[\"type\"]==\"editCodeCell\")].groupby(\"id\").diff()",
    "id": "b43c647cc8e44a248eb6e510c31b7cd4",
    "order_count": 6,
    "time": "2020-07-09T09:49:25.504Z",
    "type": "editCodeCell"
   },
   {
    "code": "df[(df[\"type\"]==\"executeCodeCell\")|(df[\"type\"]==\"editCodeCell\")].groupby(\"id\").diff",
    "id": "b43c647cc8e44a248eb6e510c31b7cd4",
    "order_count": 6,
    "time": "2020-07-09T09:49:26.183Z",
    "type": "executeCodeCell"
   },
   {
    "code": "df[(df[\"type\"]==\"executeCodeCell\")|(df[\"type\"]==\"editCodeCell\")].groupby(\"id\").diff",
    "id": "b43c647cc8e44a248eb6e510c31b7cd4",
    "order_count": 6,
    "time": "2020-07-09T09:49:26.184Z",
    "type": "selectCodeCell"
   },
   {
    "id": "b43c647cc8e44a248eb6e510c31b7cd4",
    "isPrintLuxWidget": false,
    "isPrintPandas": false,
    "time": "2020-07-09T09:49:26.210Z",
    "type": "completeCodeCell"
   },
   {
    "code": "df[(df[\"type\"]==\"executeCodeCell\")|(df[\"type\"]==\"editCodeCell\")].groupby(\"id\").diff",
    "id": "b43c647cc8e44a248eb6e510c31b7cd4",
    "order_count": 6,
    "time": "2020-07-09T09:49:27.008Z",
    "type": "editCodeCell"
   },
   {
    "code": "df[(df[\"type\"]==\"executeCodeCell\")|(df[\"type\"]==\"editCodeCell\")].groupby(\"id\").diff()",
    "id": "b43c647cc8e44a248eb6e510c31b7cd4",
    "order_count": 6,
    "time": "2020-07-09T09:49:35.694Z",
    "type": "executeCodeCell"
   },
   {
    "code": "df[(df[\"type\"]==\"executeCodeCell\")|(df[\"type\"]==\"editCodeCell\")].groupby(\"id\").diff()",
    "id": "b43c647cc8e44a248eb6e510c31b7cd4",
    "order_count": 6,
    "time": "2020-07-09T09:49:35.695Z",
    "type": "selectCodeCell"
   },
   {
    "id": "b43c647cc8e44a248eb6e510c31b7cd4",
    "isPrintLuxWidget": false,
    "isPrintPandas": false,
    "time": "2020-07-09T09:49:35.768Z",
    "type": "completeCodeCell"
   },
   {
    "code": "df[(df[\"type\"]==\"executeCodeCell\")|(df[\"type\"]==\"editCodeCell\")].groupby(\"id\").diff()",
    "id": "b43c647cc8e44a248eb6e510c31b7cd4",
    "order_count": 6,
    "time": "2020-07-09T09:49:41.383Z",
    "type": "editCodeCell"
   },
   {
    "code": "df[(df[\"type\"]==\"executeCodeCell\")|(df[\"type\"]==\"editCodeCell\")].groupby(\"id\").diff()",
    "id": "b43c647cc8e44a248eb6e510c31b7cd4",
    "order_count": 6,
    "time": "2020-07-09T09:49:42.293Z",
    "type": "selectCodeCell"
   },
   {
    "code": "",
    "id": "57be358b486a4045ab13c1eb6dd36e48",
    "order_count": 6,
    "time": "2020-07-09T09:49:42.975Z",
    "type": "editCodeCell"
   },
   {
    "code": "df",
    "id": "57be358b486a4045ab13c1eb6dd36e48",
    "order_count": 6,
    "time": "2020-07-09T09:49:43.542Z",
    "type": "executeCodeCell"
   },
   {
    "code": "df",
    "id": "57be358b486a4045ab13c1eb6dd36e48",
    "order_count": 6,
    "time": "2020-07-09T09:49:43.543Z",
    "type": "selectCodeCell"
   },
   {
    "id": "57be358b486a4045ab13c1eb6dd36e48",
    "isPrintLuxWidget": false,
    "isPrintPandas": true,
    "time": "2020-07-09T09:49:43.579Z",
    "type": "completeCodeCell"
   },
   {
    "code": "df",
    "id": "57be358b486a4045ab13c1eb6dd36e48",
    "order_count": null,
    "time": "2020-07-09T09:49:45.117Z",
    "type": "deleteCodeCell"
   },
   {
    "code": "df[(df[\"type\"]==\"executeCodeCell\")|(df[\"type\"]==\"editCodeCell\")].groupby(\"id\").diff()",
    "id": "b43c647cc8e44a248eb6e510c31b7cd4",
    "order_count": 6,
    "time": "2020-07-09T09:49:46.167Z",
    "type": "editCodeCell"
   },
   {
    "code": "df[(df[\"type\"]==\"executeCodeCell\")|(df[\"type\"]==\"editCodeCell\")].groupby(\"id\")[\"time\"].diff()",
    "id": "b43c647cc8e44a248eb6e510c31b7cd4",
    "order_count": 6,
    "time": "2020-07-09T09:49:49.765Z",
    "type": "executeCodeCell"
   },
   {
    "code": "df[(df[\"type\"]==\"executeCodeCell\")|(df[\"type\"]==\"editCodeCell\")].groupby(\"id\")[\"time\"].diff()",
    "id": "b43c647cc8e44a248eb6e510c31b7cd4",
    "order_count": 6,
    "time": "2020-07-09T09:49:49.766Z",
    "type": "selectCodeCell"
   },
   {
    "id": "b43c647cc8e44a248eb6e510c31b7cd4",
    "isPrintLuxWidget": false,
    "isPrintPandas": false,
    "time": "2020-07-09T09:49:49.813Z",
    "type": "completeCodeCell"
   },
   {
    "code": "df[(df[\"type\"]==\"executeCodeCell\")|(df[\"type\"]==\"editCodeCell\")].groupby(\"id\")[\"time\"].diff()",
    "id": "b43c647cc8e44a248eb6e510c31b7cd4",
    "order_count": 6,
    "time": "2020-07-09T09:49:52.197Z",
    "type": "editCodeCell"
   },
   {
    "code": "df[(df[\"type\"]==\"executeCodeCell\")|(df[\"type\"]==\"editCodeCell\")]",
    "id": "b43c647cc8e44a248eb6e510c31b7cd4",
    "order_count": 6,
    "time": "2020-07-09T09:49:57.239Z",
    "type": "executeCodeCell"
   },
   {
    "code": "df[(df[\"type\"]==\"executeCodeCell\")|(df[\"type\"]==\"editCodeCell\")]",
    "id": "b43c647cc8e44a248eb6e510c31b7cd4",
    "order_count": 6,
    "time": "2020-07-09T09:49:57.241Z",
    "type": "selectCodeCell"
   },
   {
    "id": "b43c647cc8e44a248eb6e510c31b7cd4",
    "isPrintLuxWidget": false,
    "isPrintPandas": true,
    "time": "2020-07-09T09:49:57.269Z",
    "type": "completeCodeCell"
   },
   {
    "code": "df[(df[\"type\"]==\"executeCodeCell\")|(df[\"type\"]==\"editCodeCell\")]",
    "id": "b43c647cc8e44a248eb6e510c31b7cd4",
    "order_count": 6,
    "time": "2020-07-09T09:49:58.180Z",
    "type": "editCodeCell"
   },
   {
    "code": "df[(df[\"type\"]==\"executeCodeCell\")|(df[\"type\"]==\"editCodeCell\")].groupby(\"id\")[\"time\"]",
    "id": "b43c647cc8e44a248eb6e510c31b7cd4",
    "order_count": 6,
    "time": "2020-07-09T09:50:04.334Z",
    "type": "executeCodeCell"
   },
   {
    "code": "df[(df[\"type\"]==\"executeCodeCell\")|(df[\"type\"]==\"editCodeCell\")].groupby(\"id\")[\"time\"]",
    "id": "b43c647cc8e44a248eb6e510c31b7cd4",
    "order_count": 6,
    "time": "2020-07-09T09:50:04.335Z",
    "type": "selectCodeCell"
   },
   {
    "id": "b43c647cc8e44a248eb6e510c31b7cd4",
    "isPrintLuxWidget": false,
    "isPrintPandas": false,
    "time": "2020-07-09T09:50:04.356Z",
    "type": "completeCodeCell"
   },
   {
    "code": "df[(df[\"type\"]==\"executeCodeCell\")|(df[\"type\"]==\"editCodeCell\")].groupby(\"id\")[\"time\"]",
    "id": "b43c647cc8e44a248eb6e510c31b7cd4",
    "order_count": 6,
    "time": "2020-07-09T09:50:05.002Z",
    "type": "editCodeCell"
   },
   {
    "code": "df[(df[\"type\"]==\"executeCodeCell\")|(df[\"type\"]==\"editCodeCell\")].groupby(\"id\")[\"time\"].diff()",
    "id": "b43c647cc8e44a248eb6e510c31b7cd4",
    "order_count": 6,
    "time": "2020-07-09T09:50:05.695Z",
    "type": "executeCodeCell"
   },
   {
    "code": "df[(df[\"type\"]==\"executeCodeCell\")|(df[\"type\"]==\"editCodeCell\")].groupby(\"id\")[\"time\"].diff()",
    "id": "b43c647cc8e44a248eb6e510c31b7cd4",
    "order_count": 6,
    "time": "2020-07-09T09:50:05.695Z",
    "type": "selectCodeCell"
   },
   {
    "id": "b43c647cc8e44a248eb6e510c31b7cd4",
    "isPrintLuxWidget": false,
    "isPrintPandas": false,
    "time": "2020-07-09T09:50:05.750Z",
    "type": "completeCodeCell"
   },
   {
    "code": "",
    "id": "d41aae78ce964f0db1fb39dca1c846b7",
    "order_count": 6,
    "time": "2020-07-09T09:50:12.476Z",
    "type": "editCodeCell"
   },
   {
    "code": "df[\"time\"].to_datetime()",
    "id": "d41aae78ce964f0db1fb39dca1c846b7",
    "order_count": 6,
    "time": "2020-07-09T09:50:19.276Z",
    "type": "executeCodeCell"
   },
   {
    "code": "df[\"time\"].to_datetime()",
    "id": "d41aae78ce964f0db1fb39dca1c846b7",
    "order_count": 6,
    "time": "2020-07-09T09:50:19.277Z",
    "type": "selectCodeCell"
   },
   {
    "id": "d41aae78ce964f0db1fb39dca1c846b7",
    "isPrintLuxWidget": false,
    "isPrintPandas": false,
    "time": "2020-07-09T09:50:19.305Z",
    "type": "completeCodeCell"
   },
   {
    "code": "df[\"time\"].to_datetime()",
    "id": "d41aae78ce964f0db1fb39dca1c846b7",
    "order_count": 6,
    "time": "2020-07-09T09:50:20.042Z",
    "type": "editCodeCell"
   },
   {
    "code": "df[\"time\"].to_datetime()",
    "id": "d41aae78ce964f0db1fb39dca1c846b7",
    "order_count": 6,
    "time": "2020-07-09T09:50:23.620Z",
    "type": "selectCodeCell"
   },
   {
    "code": "df[\"time\"].to_datetime()",
    "id": "d41aae78ce964f0db1fb39dca1c846b7",
    "order_count": 6,
    "time": "2020-07-09T09:50:38.608Z",
    "type": "editCodeCell"
   },
   {
    "code": "pd.to_datetime(df[\"time\"])",
    "id": "d41aae78ce964f0db1fb39dca1c846b7",
    "order_count": 6,
    "time": "2020-07-09T09:50:46.601Z",
    "type": "executeCodeCell"
   },
   {
    "code": "pd.to_datetime(df[\"time\"])",
    "id": "d41aae78ce964f0db1fb39dca1c846b7",
    "order_count": 6,
    "time": "2020-07-09T09:50:46.601Z",
    "type": "selectCodeCell"
   },
   {
    "id": "d41aae78ce964f0db1fb39dca1c846b7",
    "isPrintLuxWidget": false,
    "isPrintPandas": false,
    "time": "2020-07-09T09:50:46.635Z",
    "type": "completeCodeCell"
   },
   {
    "code": "pd.to_datetime(df[\"time\"])",
    "id": "d41aae78ce964f0db1fb39dca1c846b7",
    "order_count": 6,
    "time": "2020-07-09T09:50:47.329Z",
    "type": "editCodeCell"
   },
   {
    "code": "df[\"time\"] = pd.to_datetime(df[\"time\"])",
    "id": "d41aae78ce964f0db1fb39dca1c846b7",
    "order_count": 6,
    "time": "2020-07-09T09:50:51.128Z",
    "type": "executeCodeCell"
   },
   {
    "code": "df[\"time\"] = pd.to_datetime(df[\"time\"])",
    "id": "d41aae78ce964f0db1fb39dca1c846b7",
    "order_count": 6,
    "time": "2020-07-09T09:50:51.129Z",
    "type": "selectCodeCell"
   },
   {
    "id": "d41aae78ce964f0db1fb39dca1c846b7",
    "isPrintLuxWidget": false,
    "isPrintPandas": false,
    "time": "2020-07-09T09:50:51.160Z",
    "type": "completeCodeCell"
   },
   {
    "code": "df[(df[\"type\"]==\"executeCodeCell\")|(df[\"type\"]==\"editCodeCell\")].groupby(\"id\")[\"time\"].diff()",
    "id": "b43c647cc8e44a248eb6e510c31b7cd4",
    "order_count": 7,
    "time": "2020-07-09T09:50:51.536Z",
    "type": "executeCodeCell"
   },
   {
    "id": "b43c647cc8e44a248eb6e510c31b7cd4",
    "isPrintLuxWidget": false,
    "isPrintPandas": false,
    "time": "2020-07-09T09:50:51.611Z",
    "type": "completeCodeCell"
   },
   {
    "code": "",
    "id": "bdbbb0e6d62446f38918a2b37ad3a50f",
    "order_count": 6,
    "time": "2020-07-09T09:50:59.246Z",
    "type": "editCodeCell"
   },
   {
    "code": "Subtract",
    "id": "bdbbb0e6d62446f38918a2b37ad3a50f",
    "order_count": 6,
    "time": "2020-07-09T09:51:03.534Z",
    "type": "selectCodeCell"
   },
   {
    "code": "Merge editCodeCell, executeCodeCell and completeCodeCell into one based on id",
    "id": "874be6a9ee7342039aec1d0bb17c4869",
    "order_count": 3,
    "time": "2020-07-09T09:51:03.552Z",
    "type": "editCodeCell"
   },
   {
    "code": "Merge editCodeCell, executeCodeCell and completeCodeCell into one based on id",
    "id": "874be6a9ee7342039aec1d0bb17c4869",
    "order_count": 3,
    "time": "2020-07-09T09:51:04.047Z",
    "type": "selectCodeCell"
   },
   {
    "code": "Subtract",
    "id": "bdbbb0e6d62446f38918a2b37ad3a50f",
    "order_count": 6,
    "time": "2020-07-09T09:51:06.163Z",
    "type": "editCodeCell"
   },
   {
    "code": "queryFormulationTime = T(editCodeCell) - T(executeCodeCell)\ncodeExecutionTime = T(codeExecution) - T(executeCodeCell)",
    "id": "bdbbb0e6d62446f38918a2b37ad3a50f",
    "order_count": 6,
    "time": "2020-07-09T09:52:21.056Z",
    "type": "selectCodeCell"
   },
   {
    "code": "queryFormulationTime = T(editCodeCell) - T(executeCodeCell)\ncodeExecutionTime = T(codeExecution) - T(executeCodeCell)",
    "id": "bdbbb0e6d62446f38918a2b37ad3a50f",
    "order_count": 6,
    "time": "2020-07-09T09:52:43.679Z",
    "type": "editCodeCell"
   },
   {
    "code": "queryFormulationTime = T(editCodeCell) - T(executeCodeCell)\ncodeExecutionTime = T(codeExecution) - T(executeCodeCell)",
    "id": "bdbbb0e6d62446f38918a2b37ad3a50f",
    "order_count": 6,
    "time": "2020-07-09T09:52:46.977Z",
    "type": "selectCodeCell"
   },
   {
    "code": "queryFormulationTime = T(editCodeCell) - T(executeCodeCell)\ncodeExecutionTime = T(codeExecution) - T(executeCodeCell)",
    "id": "bdbbb0e6d62446f38918a2b37ad3a50f",
    "order_count": 6,
    "time": "2020-07-09T09:52:54.168Z",
    "type": "editCodeCell"
   },
   {
    "code": "queryFormulationTime = T(editCodeCell) - T(executeCodeCell)\ncodeExecutionTime = T(codeExecution) - T(executeCodeCell)",
    "id": "bdbbb0e6d62446f38918a2b37ad3a50f",
    "order_count": 6,
    "time": "2020-07-09T09:52:54.176Z",
    "type": "selectCodeCell"
   },
   {
    "code": "queryFormulationTime = T(editCodeCell) - T(executeCodeCell)\ncodeExecutionTime = T(codeExecution) - T(executeCodeCell)",
    "id": "bdbbb0e6d62446f38918a2b37ad3a50f",
    "order_count": 6,
    "time": "2020-07-09T09:52:54.191Z",
    "type": "editCodeCell"
   },
   {
    "code": "queryFormulationTime = T(editCodeCell) - T(executeCodeCell)\ncodeExecutionTime = T(completeCodeCell) - T(executeCodeCell)",
    "id": "bdbbb0e6d62446f38918a2b37ad3a50f",
    "order_count": 6,
    "time": "2020-07-09T09:52:58.539Z",
    "type": "selectCodeCell"
   },
   {
    "code": "queryFormulationTime = T(editCodeCell) - T(executeCodeCell)\ncodeExecutionTime = T(completeCodeCell) - T(executeCodeCell)",
    "id": "5ffdf6c8f0784416888364ecd82f9227",
    "order_count": 4,
    "time": "2020-07-09T09:53:04.685Z"
   },
   {
    "code": "```\nqueryFormulationTime = T(editCodeCell) - T(executeCodeCell)\ncodeExecutionTime = T(completeCodeCell) - T(executeCodeCell)\n```",
    "id": "5ffdf6c8f0784416888364ecd82f9227",
    "order_count": 4,
    "time": "2020-07-09T09:53:09.360Z"
   },
   {
    "code": "### Merge editCodeCell, executeCodeCell and completeCodeCell into one based on id",
    "id": "29a486e0967a42fbbb5e23e0c432a5dc",
    "order_count": 3,
    "time": "2020-07-09T09:53:25.284Z",
    "type": "editMarkdownCell"
   },
   {
    "code": "### Merge editCodeCell, executeCodeCell and completeCodeCell into one based on id with 2 additional computed interval",
    "id": "29a486e0967a42fbbb5e23e0c432a5dc",
    "order_count": 3,
    "time": "2020-07-09T09:53:38.984Z",
    "type": "selectMarkdownCell"
   },
   {
    "time": "2020-07-09T09:53:50.270Z",
    "type": "kernelReady"
   },
   {
    "time": "2020-07-09T09:57:48.527Z",
    "type": "kernelReady"
   },
   {
    "time": "2020-07-09T11:17:59.551Z",
    "type": "kernelReady"
   },
   {
    "time": "2020-07-09T12:36:34.225Z",
    "type": "kernelReady"
   },
   {
    "time": "2020-07-09T14:19:04.097Z",
    "type": "kernelReady"
   },
   {
    "time": "2020-07-09T22:54:19.119Z",
    "type": "kernelReady"
   },
   {
    "time": "2020-07-09T23:38:10.643Z",
    "type": "kernelReady"
   },
   {
    "time": "2020-07-10T01:17:03.245Z",
    "type": "kernelReady"
   },
   {
    "code": "df[\"time\"] = pd.to_datetime(df[\"time\"])",
    "id": "d41aae78ce964f0db1fb39dca1c846b7",
    "order_count": 7,
    "time": "2020-07-10T02:53:25.355Z",
    "type": "editCodeCell"
   },
   {
    "code": "df[\"time\"] = pd.to_datetime(df[\"time\"])",
    "id": "d41aae78ce964f0db1fb39dca1c846b7",
    "order_count": 7,
    "time": "2020-07-10T02:53:26.682Z",
    "type": "selectCodeCell"
   },
   {
    "code": "df = pd.DataFrame(log)",
    "id": "26d60088c09d4110944c05a07114c869",
    "order_count": 6,
    "time": "2020-07-10T02:53:27.222Z",
    "type": "editCodeCell"
   },
   {
    "code": "df = pd.DataFrame(log)",
    "id": "26d60088c09d4110944c05a07114c869",
    "order_count": 6,
    "time": "2020-07-10T02:53:28.706Z",
    "type": "selectCodeCell"
   },
   {
    "time": "2020-07-10T03:32:46.907Z",
    "type": "kernelReady"
   },
   {
    "time": "2020-07-10T03:32:56.554Z",
    "type": "kernelReady"
   },
   {
    "time": "2020-07-10T03:33:38.138Z",
    "type": "kernelReady"
   },
   {
    "time": "2020-07-10T03:34:11.797Z",
    "type": "kernelReady"
   },
   {
    "time": "2020-07-10T03:35:26.232Z",
    "type": "kernelReady"
   },
   {
    "time": "2020-07-11T01:29:27.053Z",
    "type": "kernelReady"
   },
   {
    "code": "log = nb[\"metadata\"][\"history\"]",
    "id": "ec3736321c6d4607833d8dca032f7fff",
    "order_count": 2,
    "time": "2020-07-11T01:29:28.896Z",
    "type": "editCodeCell"
   },
   {
    "code": "log = nb[\"metadata\"][\"history\"]",
    "id": "ec3736321c6d4607833d8dca032f7fff",
    "order_count": 2,
    "time": "2020-07-11T01:29:31.254Z",
    "type": "selectCodeCell"
   },
   {
    "code": "nb = json.load(open(\"CarsDemo.ipynb\"))",
    "id": "2761f3ce1c9f44d9ba87e968b2ea85cf",
    "order_count": 1,
    "time": "2020-07-11T01:29:31.278Z",
    "type": "editCodeCell"
   },
   {
    "code": "nb = json.load(open(\"CarsDemo.ipynb\"))",
    "id": "2761f3ce1c9f44d9ba87e968b2ea85cf",
    "order_count": 1,
    "time": "2020-07-11T01:29:31.997Z",
    "type": "selectCodeCell"
   },
   {
    "code": "import json",
    "id": "6e1ce3c6b98142ab8671b63ce329695a",
    "order_count": 0,
    "time": "2020-07-11T01:29:34.284Z",
    "type": "executeCodeCell"
   },
   {
    "id": "6e1ce3c6b98142ab8671b63ce329695a",
    "isPrintLuxWidget": false,
    "isPrintPandas": false,
    "time": "2020-07-11T01:29:34.300Z",
    "type": "completeCodeCell"
   },
   {
    "code": "nb = json.load(open(\"CarsDemo.ipynb\"))",
    "id": "2761f3ce1c9f44d9ba87e968b2ea85cf",
    "order_count": 1,
    "time": "2020-07-11T01:29:34.535Z",
    "type": "executeCodeCell"
   },
   {
    "id": "2761f3ce1c9f44d9ba87e968b2ea85cf",
    "isPrintLuxWidget": false,
    "isPrintPandas": false,
    "time": "2020-07-11T01:29:34.550Z",
    "type": "completeCodeCell"
   },
   {
    "code": "log = nb[\"metadata\"][\"history\"]",
    "id": "ec3736321c6d4607833d8dca032f7fff",
    "order_count": 2,
    "time": "2020-07-11T01:29:34.845Z",
    "type": "executeCodeCell"
   },
   {
    "id": "ec3736321c6d4607833d8dca032f7fff",
    "isPrintLuxWidget": false,
    "isPrintPandas": false,
    "time": "2020-07-11T01:29:34.855Z",
    "type": "completeCodeCell"
   },
   {
    "code": "import pandas as pd",
    "id": "03e16b95dd2e449a8864ae766af43998",
    "order_count": 5,
    "time": "2020-07-11T01:29:35.828Z",
    "type": "executeCodeCell"
   },
   {
    "code": "df = pd.DataFrame(log)",
    "id": "aa28737cb99243478b249545fb49cb9a",
    "order_count": 6,
    "time": "2020-07-11T01:29:36.132Z",
    "type": "executeCodeCell"
   },
   {
    "id": "03e16b95dd2e449a8864ae766af43998",
    "isPrintLuxWidget": false,
    "isPrintPandas": false,
    "time": "2020-07-11T01:29:36.256Z",
    "type": "completeCodeCell"
   },
   {
    "id": "aa28737cb99243478b249545fb49cb9a",
    "isPrintLuxWidget": false,
    "isPrintPandas": false,
    "time": "2020-07-11T01:29:36.262Z",
    "type": "completeCodeCell"
   },
   {
    "code": "df[\"time\"] = pd.to_datetime(df[\"time\"])",
    "id": "890b21c0c37942cb8c4a49b77fe4cec7",
    "order_count": 7,
    "time": "2020-07-11T01:29:36.517Z",
    "type": "executeCodeCell"
   },
   {
    "id": "890b21c0c37942cb8c4a49b77fe4cec7",
    "isPrintLuxWidget": false,
    "isPrintPandas": false,
    "time": "2020-07-11T01:29:36.533Z",
    "type": "completeCodeCell"
   },
   {
    "code": "df = pd.DataFrame(log)",
    "id": "aa28737cb99243478b249545fb49cb9a",
    "order_count": 6,
    "time": "2020-07-11T01:30:37.420Z",
    "type": "editCodeCell"
   },
   {
    "code": "df = pd.DataFrame(log)",
    "id": "aa28737cb99243478b249545fb49cb9a",
    "order_count": 6,
    "time": "2020-07-11T01:30:39.951Z",
    "type": "executeCodeCell"
   },
   {
    "code": "df = pd.DataFrame(log)",
    "id": "aa28737cb99243478b249545fb49cb9a",
    "order_count": 6,
    "time": "2020-07-11T01:30:39.952Z",
    "type": "selectCodeCell"
   },
   {
    "id": "aa28737cb99243478b249545fb49cb9a",
    "isPrintLuxWidget": false,
    "isPrintPandas": false,
    "time": "2020-07-11T01:30:39.972Z",
    "type": "completeCodeCell"
   },
   {
    "code": "df[\"time\"] = pd.to_datetime(df[\"time\"])",
    "id": "890b21c0c37942cb8c4a49b77fe4cec7",
    "order_count": 7,
    "time": "2020-07-11T01:30:40.262Z",
    "type": "executeCodeCell"
   },
   {
    "id": "890b21c0c37942cb8c4a49b77fe4cec7",
    "isPrintLuxWidget": false,
    "isPrintPandas": false,
    "time": "2020-07-11T01:30:40.276Z",
    "type": "completeCodeCell"
   },
   {
    "code": "df[(df[\"type\"]==\"executeCodeCell\")|(df[\"type\"]==\"editCodeCell\")].groupby(\"id\")[\"time\"].diff()",
    "id": "08d90942f20146918d52c45dee7217c4",
    "order_count": 8,
    "time": "2020-07-11T01:30:40.590Z",
    "type": "executeCodeCell"
   },
   {
    "id": "08d90942f20146918d52c45dee7217c4",
    "isPrintLuxWidget": false,
    "isPrintPandas": false,
    "time": "2020-07-11T01:30:40.672Z",
    "type": "completeCodeCell"
   },
   {
    "code": "df.groupby(\"id\")",
    "id": "4112d45d6a7e466f83172f943ddd31c1",
    "order_count": 9,
    "time": "2020-07-11T01:30:41.183Z",
    "type": "executeCodeCell"
   },
   {
    "id": "4112d45d6a7e466f83172f943ddd31c1",
    "isPrintLuxWidget": false,
    "isPrintPandas": false,
    "time": "2020-07-11T01:30:41.200Z",
    "type": "completeCodeCell"
   },
   {
    "code": "",
    "id": "00bcba1ab0074ec4b375c2b05cbd29a0",
    "order_count": 11,
    "time": "2020-07-11T01:30:41.904Z",
    "type": "editCodeCell"
   },
   {
    "code": "",
    "id": "00bcba1ab0074ec4b375c2b05cbd29a0",
    "order_count": 11,
    "time": "2020-07-11T01:30:43.536Z",
    "type": "selectCodeCell"
   },
   {
    "code": "",
    "id": "cb9ba65d79734dc28821381ba64a3bff",
    "order_count": 10,
    "time": "2020-07-11T01:30:43.559Z",
    "type": "editCodeCell"
   },
   {
    "code": "",
    "id": "cb9ba65d79734dc28821381ba64a3bff",
    "order_count": 10,
    "time": "2020-07-11T01:30:49.624Z",
    "type": "selectCodeCell"
   },
   {
    "code": "df.groupby(\"id\")",
    "id": "4112d45d6a7e466f83172f943ddd31c1",
    "order_count": 9,
    "time": "2020-07-11T01:30:49.641Z",
    "type": "editCodeCell"
   },
   {
    "code": "df.groupby(\"id\")",
    "id": "4112d45d6a7e466f83172f943ddd31c1",
    "order_count": 9,
    "time": "2020-07-11T01:30:52.580Z",
    "type": "selectCodeCell"
   },
   {
    "code": "",
    "id": "cb9ba65d79734dc28821381ba64a3bff",
    "order_count": 10,
    "time": "2020-07-11T01:30:52.596Z",
    "type": "editCodeCell"
   },
   {
    "code": "df",
    "id": "cb9ba65d79734dc28821381ba64a3bff",
    "order_count": 10,
    "time": "2020-07-11T01:31:06.132Z",
    "type": "executeCodeCell"
   },
   {
    "code": "df",
    "id": "cb9ba65d79734dc28821381ba64a3bff",
    "order_count": 10,
    "time": "2020-07-11T01:31:06.133Z",
    "type": "selectCodeCell"
   },
   {
    "id": "cb9ba65d79734dc28821381ba64a3bff",
    "isPrintLuxWidget": false,
    "isPrintPandas": true,
    "time": "2020-07-11T01:31:06.163Z",
    "type": "completeCodeCell"
   },
   {
    "code": "df[(df[\"type\"]==\"executeCodeCell\")|(df[\"type\"]==\"editCodeCell\")].groupby(\"id\")[\"time\"].diff()",
    "id": "08d90942f20146918d52c45dee7217c4",
    "order_count": 8,
    "time": "2020-07-11T01:31:23.405Z",
    "type": "editCodeCell"
   },
   {
    "code": "df[(df[\"type\"]==\"executeCodeCell\")|(df[\"type\"]==\"editCodeCell\")].groupby(\"id\")[\"time\"].diff()",
    "id": "08d90942f20146918d52c45dee7217c4",
    "order_count": 8,
    "time": "2020-07-11T01:31:24.150Z",
    "type": "selectCodeCell"
   },
   {
    "code": "",
    "id": "215c8d0ddd8f49ad8762ef98851b75e9",
    "order_count": 9,
    "time": "2020-07-11T01:31:26.221Z",
    "type": "editCodeCell"
   },
   {
    "code": "df[(df[\"type\"]==\"executeCodeCell\")|(df[\"type\"]==\"completeCodeCell\")].groupby(\"id\")[\"time\"].diff()",
    "id": "215c8d0ddd8f49ad8762ef98851b75e9",
    "order_count": 9,
    "time": "2020-07-11T01:31:50.161Z",
    "type": "executeCodeCell"
   },
   {
    "code": "df[(df[\"type\"]==\"executeCodeCell\")|(df[\"type\"]==\"completeCodeCell\")].groupby(\"id\")[\"time\"].diff()",
    "id": "215c8d0ddd8f49ad8762ef98851b75e9",
    "order_count": 9,
    "time": "2020-07-11T01:31:50.164Z",
    "type": "selectCodeCell"
   },
   {
    "id": "215c8d0ddd8f49ad8762ef98851b75e9",
    "isPrintLuxWidget": false,
    "isPrintPandas": false,
    "time": "2020-07-11T01:31:50.243Z",
    "type": "completeCodeCell"
   },
   {
    "code": "df[(df[\"type\"]==\"executeCodeCell\")|(df[\"type\"]==\"completeCodeCell\")].groupby(\"id\")[\"time\"].diff()",
    "id": "215c8d0ddd8f49ad8762ef98851b75e9",
    "order_count": 9,
    "time": "2020-07-11T01:31:57.409Z",
    "type": "editCodeCell"
   },
   {
    "code": "df[(df[\"type\"]==\"executeCodeCell\")|(df[\"type\"]==\"completeCodeCell\")].groupby(\"id\")[\"time\"].diff()",
    "id": "215c8d0ddd8f49ad8762ef98851b75e9",
    "order_count": 9,
    "time": "2020-07-11T01:32:09.030Z",
    "type": "selectCodeCell"
   },
   {
    "code": "df[(df[\"type\"]==\"executeCodeCell\")|(df[\"type\"]==\"editCodeCell\")].groupby(\"id\")[\"time\"].diff()",
    "id": "08d90942f20146918d52c45dee7217c4",
    "order_count": 8,
    "time": "2020-07-11T01:32:09.050Z",
    "type": "editCodeCell"
   },
   {
    "code": "df[(df[\"type\"]==\"executeCodeCell\")|(df[\"type\"]==\"editCodeCell\")].groupby(\"id\")[\"time\"].diff()",
    "id": "08d90942f20146918d52c45dee7217c4",
    "order_count": 8,
    "time": "2020-07-11T01:32:09.060Z",
    "type": "selectCodeCell"
   },
   {
    "code": "df[(df[\"type\"]==\"executeCodeCell\")|(df[\"type\"]==\"editCodeCell\")].groupby(\"id\")[\"time\"].diff()",
    "id": "08d90942f20146918d52c45dee7217c4",
    "order_count": 8,
    "time": "2020-07-11T01:32:09.075Z",
    "type": "editCodeCell"
   },
   {
    "code": "df[(df[\"type\"]==\"executeCodeCell\")|(df[\"type\"]==\"completeCodeCell\")][\"editTime\"] = df[(df[\"type\"]==\"executeCodeCell\")|(df[\"type\"]==\"editCodeCell\")].groupby(\"id\")[\"time\"].diff()",
    "id": "08d90942f20146918d52c45dee7217c4",
    "order_count": 8,
    "time": "2020-07-11T01:32:13.503Z",
    "type": "selectCodeCell"
   },
   {
    "code": "df[(df[\"type\"]==\"executeCodeCell\")|(df[\"type\"]==\"completeCodeCell\")][\"editTime\"] = df[(df[\"type\"]==\"executeCodeCell\")|(df[\"type\"]==\"editCodeCell\")].groupby(\"id\")[\"time\"].diff()",
    "id": "08d90942f20146918d52c45dee7217c4",
    "order_count": 8,
    "time": "2020-07-11T01:32:15.421Z",
    "type": "editCodeCell"
   },
   {
    "code": "df[(df[\"type\"]==\"executeCodeCell\")|(df[\"type\"]==\"completeCodeCell\")][\"queryFormulationTime\"] = df[(df[\"type\"]==\"executeCodeCell\")|(df[\"type\"]==\"editCodeCell\")].groupby(\"id\")[\"time\"].diff()",
    "id": "08d90942f20146918d52c45dee7217c4",
    "order_count": 8,
    "time": "2020-07-11T01:32:16.595Z",
    "type": "executeCodeCell"
   },
   {
    "code": "df[(df[\"type\"]==\"executeCodeCell\")|(df[\"type\"]==\"completeCodeCell\")][\"queryFormulationTime\"] = df[(df[\"type\"]==\"executeCodeCell\")|(df[\"type\"]==\"editCodeCell\")].groupby(\"id\")[\"time\"].diff()",
    "id": "08d90942f20146918d52c45dee7217c4",
    "order_count": 8,
    "time": "2020-07-11T01:32:16.596Z",
    "type": "selectCodeCell"
   },
   {
    "id": "08d90942f20146918d52c45dee7217c4",
    "isPrintLuxWidget": false,
    "isPrintPandas": false,
    "time": "2020-07-11T01:32:16.683Z",
    "type": "completeCodeCell"
   },
   {
    "code": "df[(df[\"type\"]==\"executeCodeCell\")|(df[\"type\"]==\"completeCodeCell\")][\"queryFormulationTime\"] = df[(df[\"type\"]==\"executeCodeCell\")|(df[\"type\"]==\"editCodeCell\")].groupby(\"id\")[\"time\"].diff()",
    "id": "08d90942f20146918d52c45dee7217c4",
    "order_count": 8,
    "time": "2020-07-11T01:32:21.771Z",
    "type": "editCodeCell"
   },
   {
    "code": "subset = df[(df[\"type\"]==\"executeCodeCell\")|(df[\"type\"]==\"completeCodeCell\")]\nsubset[\"queryFormulationTime\"] = subset.groupby(\"id\")[\"time\"].diff()",
    "id": "08d90942f20146918d52c45dee7217c4",
    "order_count": 8,
    "time": "2020-07-11T01:33:10.163Z",
    "type": "executeCodeCell"
   },
   {
    "code": "subset = df[(df[\"type\"]==\"executeCodeCell\")|(df[\"type\"]==\"completeCodeCell\")]\nsubset[\"queryFormulationTime\"] = subset.groupby(\"id\")[\"time\"].diff()",
    "id": "08d90942f20146918d52c45dee7217c4",
    "order_count": 8,
    "time": "2020-07-11T01:33:10.166Z",
    "type": "selectCodeCell"
   },
   {
    "id": "08d90942f20146918d52c45dee7217c4",
    "isPrintLuxWidget": false,
    "isPrintPandas": false,
    "time": "2020-07-11T01:33:10.246Z",
    "type": "completeCodeCell"
   },
   {
    "code": "subset = df[(df[\"type\"]==\"executeCodeCell\")|(df[\"type\"]==\"completeCodeCell\")]\nsubset[\"queryFormulationTime\"] = subset.groupby(\"id\")[\"time\"].diff()",
    "id": "08d90942f20146918d52c45dee7217c4",
    "order_count": 8,
    "time": "2020-07-11T01:33:11.408Z",
    "type": "editCodeCell"
   },
   {
    "code": "subset = df[(df[\"type\"]==\"executeCodeCell\")|(df[\"type\"]==\"completeCodeCell\")]\nsubset.loc[\"queryFormulationTime\"] = subset.groupby(\"id\")[\"time\"].diff()",
    "id": "08d90942f20146918d52c45dee7217c4",
    "order_count": 8,
    "time": "2020-07-11T01:33:18.370Z",
    "type": "executeCodeCell"
   },
   {
    "code": "subset = df[(df[\"type\"]==\"executeCodeCell\")|(df[\"type\"]==\"completeCodeCell\")]\nsubset.loc[\"queryFormulationTime\"] = subset.groupby(\"id\")[\"time\"].diff()",
    "id": "08d90942f20146918d52c45dee7217c4",
    "order_count": 8,
    "time": "2020-07-11T01:33:18.371Z",
    "type": "selectCodeCell"
   },
   {
    "id": "08d90942f20146918d52c45dee7217c4",
    "isPrintLuxWidget": false,
    "isPrintPandas": false,
    "time": "2020-07-11T01:33:18.449Z",
    "type": "completeCodeCell"
   },
   {
    "code": "subset = df[(df[\"type\"]==\"executeCodeCell\")|(df[\"type\"]==\"completeCodeCell\")]\nsubset.loc[\"queryFormulationTime\"] = subset.groupby(\"id\")[\"time\"].diff()",
    "id": "08d90942f20146918d52c45dee7217c4",
    "order_count": 8,
    "time": "2020-07-11T01:33:19.233Z",
    "type": "editCodeCell"
   },
   {
    "code": "subset = df[(df[\"type\"]==\"executeCodeCell\")|(df[\"type\"]==\"completeCodeCell\")]\nsubset.loc[\"queryFormulationTime\"] = subset.groupby(\"id\")[\"time\"].diff()",
    "id": "08d90942f20146918d52c45dee7217c4",
    "order_count": 8,
    "time": "2020-07-11T01:33:36.396Z",
    "type": "executeCodeCell"
   },
   {
    "code": "subset = df[(df[\"type\"]==\"executeCodeCell\")|(df[\"type\"]==\"completeCodeCell\")]\nsubset.loc[\"queryFormulationTime\"] = subset.groupby(\"id\")[\"time\"].diff()",
    "id": "08d90942f20146918d52c45dee7217c4",
    "order_count": 8,
    "time": "2020-07-11T01:33:36.397Z",
    "type": "selectCodeCell"
   },
   {
    "id": "08d90942f20146918d52c45dee7217c4",
    "isPrintLuxWidget": false,
    "isPrintPandas": false,
    "time": "2020-07-11T01:33:36.474Z",
    "type": "completeCodeCell"
   },
   {
    "code": "subset = df[(df[\"type\"]==\"executeCodeCell\")|(df[\"type\"]==\"completeCodeCell\")]\nsubset.loc[\"queryFormulationTime\"] = subset.groupby(\"id\")[\"time\"].diff()",
    "id": "08d90942f20146918d52c45dee7217c4",
    "order_count": 8,
    "time": "2020-07-11T01:33:38.506Z",
    "type": "executeCodeCell"
   },
   {
    "id": "08d90942f20146918d52c45dee7217c4",
    "isPrintLuxWidget": false,
    "isPrintPandas": false,
    "time": "2020-07-11T01:33:38.579Z",
    "type": "completeCodeCell"
   },
   {
    "code": "df[(df[\"type\"]==\"executeCodeCell\")|(df[\"type\"]==\"completeCodeCell\")].groupby(\"id\")[\"time\"].diff()",
    "id": "215c8d0ddd8f49ad8762ef98851b75e9",
    "order_count": 9,
    "time": "2020-07-11T01:33:39.496Z",
    "type": "editCodeCell"
   },
   {
    "code": "subset = df[(df[\"type\"]==\"executeCodeCell\")|(df[\"type\"]==\"completeCodeCell\")]\nsubset.loc[\"codeExecutionTime\"].groupby(\"id\")[\"time\"].diff()",
    "id": "215c8d0ddd8f49ad8762ef98851b75e9",
    "order_count": 9,
    "time": "2020-07-11T01:33:54.683Z",
    "type": "executeCodeCell"
   },
   {
    "code": "subset = df[(df[\"type\"]==\"executeCodeCell\")|(df[\"type\"]==\"completeCodeCell\")]\nsubset.loc[\"codeExecutionTime\"].groupby(\"id\")[\"time\"].diff()",
    "id": "215c8d0ddd8f49ad8762ef98851b75e9",
    "order_count": 9,
    "time": "2020-07-11T01:33:54.684Z",
    "type": "selectCodeCell"
   },
   {
    "id": "215c8d0ddd8f49ad8762ef98851b75e9",
    "isPrintLuxWidget": false,
    "isPrintPandas": false,
    "time": "2020-07-11T01:33:54.837Z",
    "type": "completeCodeCell"
   },
   {
    "code": "subset = df[(df[\"type\"]==\"executeCodeCell\")|(df[\"type\"]==\"completeCodeCell\")]\nsubset.loc[\"codeExecutionTime\"].groupby(\"id\")[\"time\"].diff()",
    "id": "215c8d0ddd8f49ad8762ef98851b75e9",
    "order_count": 9,
    "time": "2020-07-11T01:33:56.329Z",
    "type": "editCodeCell"
   },
   {
    "code": "subset = df[(df[\"type\"]==\"executeCodeCell\")|(df[\"type\"]==\"completeCodeCell\")]\nsubset.loc[\"codeExecutionTime\"].groupby(\"id\")[\"time\"].diff()",
    "id": "215c8d0ddd8f49ad8762ef98851b75e9",
    "order_count": 9,
    "time": "2020-07-11T01:33:58.891Z",
    "type": "selectCodeCell"
   },
   {
    "code": "subset = df[(df[\"type\"]==\"executeCodeCell\")|(df[\"type\"]==\"completeCodeCell\")]\nsubset.loc[\"queryFormulationTime\"] = subset.groupby(\"id\")[\"time\"].diff()",
    "id": "08d90942f20146918d52c45dee7217c4",
    "order_count": 8,
    "time": "2020-07-11T01:33:58.915Z",
    "type": "editCodeCell"
   },
   {
    "code": "subset = df[(df[\"type\"]==\"executeCodeCell\")|(df[\"type\"]==\"completeCodeCell\")]\nsubset.loc[\"queryFormulationTime\"] = subset.groupby(\"id\")[\"time\"].diff()",
    "id": "08d90942f20146918d52c45dee7217c4",
    "order_count": 8,
    "time": "2020-07-11T01:34:00.086Z",
    "type": "executeCodeCell"
   },
   {
    "code": "subset = df[(df[\"type\"]==\"executeCodeCell\")|(df[\"type\"]==\"completeCodeCell\")]\nsubset.loc[\"queryFormulationTime\"] = subset.groupby(\"id\")[\"time\"].diff()",
    "id": "08d90942f20146918d52c45dee7217c4",
    "order_count": 8,
    "time": "2020-07-11T01:34:00.087Z",
    "type": "selectCodeCell"
   },
   {
    "id": "08d90942f20146918d52c45dee7217c4",
    "isPrintLuxWidget": false,
    "isPrintPandas": false,
    "time": "2020-07-11T01:34:00.155Z",
    "type": "completeCodeCell"
   },
   {
    "code": "subset = df[(df[\"type\"]==\"executeCodeCell\")|(df[\"type\"]==\"completeCodeCell\")]\nsubset.loc[\"codeExecutionTime\"].groupby(\"id\")[\"time\"].diff()",
    "id": "215c8d0ddd8f49ad8762ef98851b75e9",
    "order_count": 9,
    "time": "2020-07-11T01:34:00.543Z",
    "type": "executeCodeCell"
   },
   {
    "id": "215c8d0ddd8f49ad8762ef98851b75e9",
    "isPrintLuxWidget": false,
    "isPrintPandas": false,
    "time": "2020-07-11T01:34:00.584Z",
    "type": "completeCodeCell"
   },
   {
    "code": "subset = df[(df[\"type\"]==\"executeCodeCell\")|(df[\"type\"]==\"completeCodeCell\")]\nsubset.loc[\"codeExecutionTime\"].groupby(\"id\")[\"time\"].diff()",
    "id": "215c8d0ddd8f49ad8762ef98851b75e9",
    "order_count": 9,
    "time": "2020-07-11T01:34:05.366Z",
    "type": "editCodeCell"
   },
   {
    "code": "subset = df[(df[\"type\"]==\"executeCodeCell\")|(df[\"type\"]==\"completeCodeCell\")]\nsubset.loc[\"codeExecutionTime\"] = subset.groupby(\"id\")[\"time\"].diff()",
    "id": "215c8d0ddd8f49ad8762ef98851b75e9",
    "order_count": 9,
    "time": "2020-07-11T01:34:07.419Z",
    "type": "executeCodeCell"
   },
   {
    "code": "subset = df[(df[\"type\"]==\"executeCodeCell\")|(df[\"type\"]==\"completeCodeCell\")]\nsubset.loc[\"codeExecutionTime\"] = subset.groupby(\"id\")[\"time\"].diff()",
    "id": "215c8d0ddd8f49ad8762ef98851b75e9",
    "order_count": 9,
    "time": "2020-07-11T01:34:07.420Z",
    "type": "selectCodeCell"
   },
   {
    "id": "215c8d0ddd8f49ad8762ef98851b75e9",
    "isPrintLuxWidget": false,
    "isPrintPandas": false,
    "time": "2020-07-11T01:34:07.499Z",
    "type": "completeCodeCell"
   },
   {
    "code": "df.groupby(\"id\")",
    "id": "4112d45d6a7e466f83172f943ddd31c1",
    "order_count": 10,
    "time": "2020-07-11T01:34:08.684Z",
    "type": "editCodeCell"
   },
   {
    "code": "df.groupby(\"id\")",
    "id": "4112d45d6a7e466f83172f943ddd31c1",
    "order_count": 10,
    "time": "2020-07-11T01:34:10.911Z",
    "type": "selectCodeCell"
   },
   {
    "code": "subset = df[(df[\"type\"]==\"executeCodeCell\")|(df[\"type\"]==\"completeCodeCell\")]\nsubset.loc[\"codeExecutionTime\"] = subset.groupby(\"id\")[\"time\"].diff()",
    "id": "215c8d0ddd8f49ad8762ef98851b75e9",
    "order_count": 9,
    "time": "2020-07-11T01:34:10.934Z",
    "type": "editCodeCell"
   },
   {
    "code": "subset = df[(df[\"type\"]==\"executeCodeCell\")|(df[\"type\"]==\"completeCodeCell\")]\nsubset.loc[\"codeExecutionTime\"] = subset.groupby(\"id\")[\"time\"].diff()",
    "id": "215c8d0ddd8f49ad8762ef98851b75e9",
    "order_count": 9,
    "time": "2020-07-11T01:34:11.778Z",
    "type": "selectCodeCell"
   },
   {
    "code": "subset = df[(df[\"type\"]==\"executeCodeCell\")|(df[\"type\"]==\"completeCodeCell\")]\nsubset.loc[\"queryFormulationTime\"] = subset.groupby(\"id\")[\"time\"].diff()",
    "id": "08d90942f20146918d52c45dee7217c4",
    "order_count": 8,
    "time": "2020-07-11T01:34:11.798Z",
    "type": "editCodeCell"
   },
   {
    "code": "subset1 = df[(df[\"type\"]==\"executeCodeCell\")|(df[\"type\"]==\"completeCodeCell\")]\nsubset1.loc[\"queryFormulationTime\"] = subset.groupby(\"id\")[\"time\"].diff()",
    "id": "08d90942f20146918d52c45dee7217c4",
    "order_count": 8,
    "time": "2020-07-11T01:34:16.713Z",
    "type": "selectCodeCell"
   },
   {
    "code": "subset = df[(df[\"type\"]==\"executeCodeCell\")|(df[\"type\"]==\"completeCodeCell\")]\nsubset.loc[\"codeExecutionTime\"] = subset.groupby(\"id\")[\"time\"].diff()",
    "id": "215c8d0ddd8f49ad8762ef98851b75e9",
    "order_count": 9,
    "time": "2020-07-11T01:34:16.734Z",
    "type": "editCodeCell"
   },
   {
    "code": "subset2 = df[(df[\"type\"]==\"executeCodeCell\")|(df[\"type\"]==\"completeCodeCell\")]\nsubset2.loc[\"codeExecutionTime\"] = subset.groupby(\"id\")[\"time\"].diff()",
    "id": "215c8d0ddd8f49ad8762ef98851b75e9",
    "order_count": 9,
    "time": "2020-07-11T01:34:20.465Z",
    "type": "selectCodeCell"
   },
   {
    "code": "subset1 = df[(df[\"type\"]==\"executeCodeCell\")|(df[\"type\"]==\"completeCodeCell\")]\nsubset1.loc[\"queryFormulationTime\"] = subset.groupby(\"id\")[\"time\"].diff()",
    "id": "08d90942f20146918d52c45dee7217c4",
    "order_count": 8,
    "time": "2020-07-11T01:34:20.486Z",
    "type": "editCodeCell"
   },
   {
    "code": "subset1 = df[(df[\"type\"]==\"executeCodeCell\")|(df[\"type\"]==\"completeCodeCell\")]\nsubset1.loc[\"queryFormulationTime\"] = subset.groupby(\"id\")[\"time\"].diff()",
    "id": "08d90942f20146918d52c45dee7217c4",
    "order_count": 8,
    "time": "2020-07-11T01:34:20.898Z",
    "type": "executeCodeCell"
   },
   {
    "code": "subset1 = df[(df[\"type\"]==\"executeCodeCell\")|(df[\"type\"]==\"completeCodeCell\")]\nsubset1.loc[\"queryFormulationTime\"] = subset.groupby(\"id\")[\"time\"].diff()",
    "id": "08d90942f20146918d52c45dee7217c4",
    "order_count": 8,
    "time": "2020-07-11T01:34:20.899Z",
    "type": "selectCodeCell"
   },
   {
    "id": "08d90942f20146918d52c45dee7217c4",
    "isPrintLuxWidget": false,
    "isPrintPandas": false,
    "time": "2020-07-11T01:34:20.967Z",
    "type": "completeCodeCell"
   },
   {
    "code": "subset2 = df[(df[\"type\"]==\"executeCodeCell\")|(df[\"type\"]==\"completeCodeCell\")]\nsubset2.loc[\"codeExecutionTime\"] = subset.groupby(\"id\")[\"time\"].diff()",
    "id": "215c8d0ddd8f49ad8762ef98851b75e9",
    "order_count": 9,
    "time": "2020-07-11T01:34:21.170Z",
    "type": "executeCodeCell"
   },
   {
    "id": "215c8d0ddd8f49ad8762ef98851b75e9",
    "isPrintLuxWidget": false,
    "isPrintPandas": false,
    "time": "2020-07-11T01:34:21.238Z",
    "type": "completeCodeCell"
   },
   {
    "code": "",
    "id": "ed961f4dd43f486fb4520a430b784ee3",
    "order_count": 10,
    "time": "2020-07-11T01:34:23.931Z",
    "type": "editCodeCell"
   },
   {
    "code": "subset2",
    "id": "ed961f4dd43f486fb4520a430b784ee3",
    "order_count": 10,
    "time": "2020-07-11T01:34:25.530Z",
    "type": "executeCodeCell"
   },
   {
    "code": "subset2",
    "id": "ed961f4dd43f486fb4520a430b784ee3",
    "order_count": 10,
    "time": "2020-07-11T01:34:25.531Z",
    "type": "selectCodeCell"
   },
   {
    "id": "ed961f4dd43f486fb4520a430b784ee3",
    "isPrintLuxWidget": false,
    "isPrintPandas": true,
    "time": "2020-07-11T01:34:25.564Z",
    "type": "completeCodeCell"
   },
   {
    "code": "subset1 = df[(df[\"type\"]==\"executeCodeCell\")|(df[\"type\"]==\"completeCodeCell\")]\nsubset1.loc[\"queryFormulationTime\"] = subset.groupby(\"id\")[\"time\"].diff()",
    "id": "08d90942f20146918d52c45dee7217c4",
    "order_count": 8,
    "time": "2020-07-11T01:34:33.619Z",
    "type": "editCodeCell"
   },
   {
    "code": "subset1 = df[(df[\"type\"]==\"executeCodeCell\")|(df[\"type\"]==\"completeCodeCell\")]\nsubset1.loc[:,\"queryFormulationTime\"] = subset.groupby(\"id\")[\"time\"].diff()",
    "id": "08d90942f20146918d52c45dee7217c4",
    "order_count": 8,
    "time": "2020-07-11T01:34:45.304Z",
    "type": "executeCodeCell"
   },
   {
    "code": "subset1 = df[(df[\"type\"]==\"executeCodeCell\")|(df[\"type\"]==\"completeCodeCell\")]\nsubset1.loc[:,\"queryFormulationTime\"] = subset.groupby(\"id\")[\"time\"].diff()",
    "id": "08d90942f20146918d52c45dee7217c4",
    "order_count": 8,
    "time": "2020-07-11T01:34:45.305Z",
    "type": "selectCodeCell"
   },
   {
    "id": "08d90942f20146918d52c45dee7217c4",
    "isPrintLuxWidget": false,
    "isPrintPandas": false,
    "time": "2020-07-11T01:34:45.378Z",
    "type": "completeCodeCell"
   },
   {
    "code": "subset1 = df[(df[\"type\"]==\"executeCodeCell\")|(df[\"type\"]==\"completeCodeCell\")]\nsubset1.loc[:,\"queryFormulationTime\"] = subset.groupby(\"id\")[\"time\"].diff()",
    "id": "08d90942f20146918d52c45dee7217c4",
    "order_count": 8,
    "time": "2020-07-11T01:34:47.581Z",
    "type": "editCodeCell"
   },
   {
    "code": "subset1 = df[(df[\"type\"]==\"executeCodeCell\")|(df[\"type\"]==\"completeCodeCell\")]\nsubset1.loc[:,\"queryFormulationTime\"] = subset.groupby(\"id\")[\"time\"].diff()",
    "id": "08d90942f20146918d52c45dee7217c4",
    "order_count": 8,
    "time": "2020-07-11T01:34:48.945Z",
    "type": "selectCodeCell"
   },
   {
    "code": "subset2 = df[(df[\"type\"]==\"executeCodeCell\")|(df[\"type\"]==\"completeCodeCell\")]\nsubset2.loc[\"codeExecutionTime\"] = subset.groupby(\"id\")[\"time\"].diff()",
    "id": "215c8d0ddd8f49ad8762ef98851b75e9",
    "order_count": 9,
    "time": "2020-07-11T01:34:48.969Z",
    "type": "editCodeCell"
   },
   {
    "code": "subset2 = df[(df[\"type\"]==\"executeCodeCell\")|(df[\"type\"]==\"completeCodeCell\")]\nsubset2.loc[:,\"codeExecutionTime\"] = subset.groupby(\"id\")[\"time\"].diff()",
    "id": "215c8d0ddd8f49ad8762ef98851b75e9",
    "order_count": 9,
    "time": "2020-07-11T01:34:49.708Z",
    "type": "executeCodeCell"
   },
   {
    "code": "subset2 = df[(df[\"type\"]==\"executeCodeCell\")|(df[\"type\"]==\"completeCodeCell\")]\nsubset2.loc[:,\"codeExecutionTime\"] = subset.groupby(\"id\")[\"time\"].diff()",
    "id": "215c8d0ddd8f49ad8762ef98851b75e9",
    "order_count": 9,
    "time": "2020-07-11T01:34:49.709Z",
    "type": "selectCodeCell"
   },
   {
    "id": "215c8d0ddd8f49ad8762ef98851b75e9",
    "isPrintLuxWidget": false,
    "isPrintPandas": false,
    "time": "2020-07-11T01:34:49.777Z",
    "type": "completeCodeCell"
   },
   {
    "code": "subset2",
    "id": "ed961f4dd43f486fb4520a430b784ee3",
    "order_count": 10,
    "time": "2020-07-11T01:34:51.218Z",
    "type": "executeCodeCell"
   },
   {
    "id": "ed961f4dd43f486fb4520a430b784ee3",
    "isPrintLuxWidget": false,
    "isPrintPandas": true,
    "time": "2020-07-11T01:34:51.246Z",
    "type": "completeCodeCell"
   },
   {
    "code": "",
    "id": "704b70a82a48442183ee0e5e4cddac9a",
    "order_count": 10,
    "time": "2020-07-11T01:36:21.964Z",
    "type": "editCodeCell"
   },
   {
    "code": "subset1",
    "id": "704b70a82a48442183ee0e5e4cddac9a",
    "order_count": 10,
    "time": "2020-07-11T01:36:23.723Z",
    "type": "executeCodeCell"
   },
   {
    "code": "subset1",
    "id": "704b70a82a48442183ee0e5e4cddac9a",
    "order_count": 10,
    "time": "2020-07-11T01:36:23.724Z",
    "type": "selectCodeCell"
   },
   {
    "id": "704b70a82a48442183ee0e5e4cddac9a",
    "isPrintLuxWidget": false,
    "isPrintPandas": true,
    "time": "2020-07-11T01:36:23.761Z",
    "type": "completeCodeCell"
   },
   {
    "code": "subset1",
    "id": "704b70a82a48442183ee0e5e4cddac9a",
    "order_count": 10,
    "time": "2020-07-11T01:36:38.276Z",
    "type": "editCodeCell"
   },
   {
    "code": "pd.concat([subset1,subset2])",
    "id": "704b70a82a48442183ee0e5e4cddac9a",
    "order_count": 10,
    "time": "2020-07-11T01:36:52.458Z",
    "type": "executeCodeCell"
   },
   {
    "code": "pd.concat([subset1,subset2])",
    "id": "704b70a82a48442183ee0e5e4cddac9a",
    "order_count": 10,
    "time": "2020-07-11T01:36:52.459Z",
    "type": "selectCodeCell"
   },
   {
    "id": "704b70a82a48442183ee0e5e4cddac9a",
    "isPrintLuxWidget": false,
    "isPrintPandas": true,
    "time": "2020-07-11T01:36:52.494Z",
    "type": "completeCodeCell"
   },
   {
    "code": "subset2",
    "id": "ed961f4dd43f486fb4520a430b784ee3",
    "order_count": null,
    "time": "2020-07-11T01:36:55.398Z",
    "type": "deleteCodeCell"
   },
   {
    "code": "pd.concat([subset1,subset2])",
    "id": "704b70a82a48442183ee0e5e4cddac9a",
    "order_count": 10,
    "time": "2020-07-11T01:36:56.988Z",
    "type": "editCodeCell"
   },
   {
    "code": "codeCellsubset=pd.concat([subset1,subset2])",
    "id": "704b70a82a48442183ee0e5e4cddac9a",
    "order_count": 10,
    "time": "2020-07-11T01:37:03.454Z",
    "type": "executeCodeCell"
   },
   {
    "code": "codeCellsubset=pd.concat([subset1,subset2])",
    "id": "704b70a82a48442183ee0e5e4cddac9a",
    "order_count": 10,
    "time": "2020-07-11T01:37:03.455Z",
    "type": "selectCodeCell"
   },
   {
    "id": "704b70a82a48442183ee0e5e4cddac9a",
    "isPrintLuxWidget": false,
    "isPrintPandas": false,
    "time": "2020-07-11T01:37:03.484Z",
    "type": "completeCodeCell"
   },
   {
    "code": "",
    "id": "00a1b821f8e9481182407e884bf59e5b",
    "order_count": 11,
    "time": "2020-07-11T01:37:04.047Z",
    "type": "editCodeCell"
   },
   {
    "code": "codeCellsubset",
    "id": "00a1b821f8e9481182407e884bf59e5b",
    "order_count": 11,
    "time": "2020-07-11T01:37:07.309Z",
    "type": "executeCodeCell"
   },
   {
    "code": "codeCellsubset",
    "id": "00a1b821f8e9481182407e884bf59e5b",
    "order_count": 11,
    "time": "2020-07-11T01:37:07.310Z",
    "type": "selectCodeCell"
   },
   {
    "id": "00a1b821f8e9481182407e884bf59e5b",
    "isPrintLuxWidget": false,
    "isPrintPandas": true,
    "time": "2020-07-11T01:37:07.339Z",
    "type": "completeCodeCell"
   },
   {
    "code": "codeCellsubset",
    "id": "00a1b821f8e9481182407e884bf59e5b",
    "order_count": 11,
    "time": "2020-07-11T01:37:08.269Z",
    "type": "editCodeCell"
   },
   {
    "code": "codeCellsubset.groupby('id').sum()",
    "id": "00a1b821f8e9481182407e884bf59e5b",
    "order_count": 11,
    "time": "2020-07-11T01:37:39.555Z",
    "type": "executeCodeCell"
   },
   {
    "code": "codeCellsubset.groupby('id').sum()",
    "id": "00a1b821f8e9481182407e884bf59e5b",
    "order_count": 11,
    "time": "2020-07-11T01:37:39.558Z",
    "type": "selectCodeCell"
   },
   {
    "id": "00a1b821f8e9481182407e884bf59e5b",
    "isPrintLuxWidget": false,
    "isPrintPandas": true,
    "time": "2020-07-11T01:37:39.593Z",
    "type": "completeCodeCell"
   },
   {
    "code": "codeCellsubset.groupby('id').sum()",
    "id": "00a1b821f8e9481182407e884bf59e5b",
    "order_count": 11,
    "time": "2020-07-11T01:37:41.213Z",
    "type": "editCodeCell"
   },
   {
    "code": "codeCellsubset.groupby('id').sum(axis=1)",
    "id": "00a1b821f8e9481182407e884bf59e5b",
    "order_count": 11,
    "time": "2020-07-11T01:37:43.586Z",
    "type": "executeCodeCell"
   },
   {
    "code": "codeCellsubset.groupby('id').sum(axis=1)",
    "id": "00a1b821f8e9481182407e884bf59e5b",
    "order_count": 11,
    "time": "2020-07-11T01:37:43.587Z",
    "type": "selectCodeCell"
   },
   {
    "id": "00a1b821f8e9481182407e884bf59e5b",
    "isPrintLuxWidget": false,
    "isPrintPandas": false,
    "time": "2020-07-11T01:37:43.617Z",
    "type": "completeCodeCell"
   },
   {
    "code": "codeCellsubset.groupby('id').sum(axis=1)",
    "id": "00a1b821f8e9481182407e884bf59e5b",
    "order_count": 11,
    "time": "2020-07-11T01:37:44.835Z",
    "type": "editCodeCell"
   },
   {
    "code": "codeCellsubset.groupby('id').sum()",
    "id": "00a1b821f8e9481182407e884bf59e5b",
    "order_count": 11,
    "time": "2020-07-11T01:37:53.055Z",
    "type": "executeCodeCell"
   },
   {
    "code": "codeCellsubset.groupby('id').sum()",
    "id": "00a1b821f8e9481182407e884bf59e5b",
    "order_count": 11,
    "time": "2020-07-11T01:37:53.056Z",
    "type": "selectCodeCell"
   },
   {
    "id": "00a1b821f8e9481182407e884bf59e5b",
    "isPrintLuxWidget": false,
    "isPrintPandas": true,
    "time": "2020-07-11T01:37:53.086Z",
    "type": "completeCodeCell"
   },
   {
    "code": "codeCellsubset.groupby('id').sum()",
    "id": "00a1b821f8e9481182407e884bf59e5b",
    "order_count": 11,
    "time": "2020-07-11T01:37:53.872Z",
    "type": "editCodeCell"
   },
   {
    "code": "codeCellsubset.groupby('id').agg(sum)",
    "id": "00a1b821f8e9481182407e884bf59e5b",
    "order_count": 11,
    "time": "2020-07-11T01:38:03.773Z",
    "type": "executeCodeCell"
   },
   {
    "code": "codeCellsubset.groupby('id').agg(sum)",
    "id": "00a1b821f8e9481182407e884bf59e5b",
    "order_count": 11,
    "time": "2020-07-11T01:38:03.774Z",
    "type": "selectCodeCell"
   },
   {
    "id": "00a1b821f8e9481182407e884bf59e5b",
    "isPrintLuxWidget": false,
    "isPrintPandas": true,
    "time": "2020-07-11T01:38:03.805Z",
    "type": "completeCodeCell"
   },
   {
    "code": "codeCellsubset.groupby('id').agg(sum)",
    "id": "00a1b821f8e9481182407e884bf59e5b",
    "order_count": 11,
    "time": "2020-07-11T01:38:04.609Z",
    "type": "editCodeCell"
   },
   {
    "code": "codeCellsubset.groupby('id')",
    "id": "00a1b821f8e9481182407e884bf59e5b",
    "order_count": 11,
    "time": "2020-07-11T01:38:06.839Z",
    "type": "executeCodeCell"
   },
   {
    "code": "codeCellsubset.groupby('id')",
    "id": "00a1b821f8e9481182407e884bf59e5b",
    "order_count": 11,
    "time": "2020-07-11T01:38:06.840Z",
    "type": "selectCodeCell"
   },
   {
    "id": "00a1b821f8e9481182407e884bf59e5b",
    "isPrintLuxWidget": false,
    "isPrintPandas": false,
    "time": "2020-07-11T01:38:06.871Z",
    "type": "completeCodeCell"
   },
   {
    "code": "df.groupby(\"id\")",
    "id": "4112d45d6a7e466f83172f943ddd31c1",
    "order_count": 12,
    "time": "2020-07-11T01:38:08.514Z",
    "type": "editCodeCell"
   },
   {
    "code": "df.groupby(\"id\")",
    "id": "4112d45d6a7e466f83172f943ddd31c1",
    "order_count": 12,
    "time": "2020-07-11T01:38:09.557Z",
    "type": "selectCodeCell"
   },
   {
    "code": "codeCellsubset.groupby('id')",
    "id": "00a1b821f8e9481182407e884bf59e5b",
    "order_count": 11,
    "time": "2020-07-11T01:38:09.576Z",
    "type": "editCodeCell"
   },
   {
    "code": "codeCellsubset#.groupby('id')",
    "id": "00a1b821f8e9481182407e884bf59e5b",
    "order_count": 11,
    "time": "2020-07-11T01:38:11.204Z",
    "type": "executeCodeCell"
   },
   {
    "code": "codeCellsubset#.groupby('id')",
    "id": "00a1b821f8e9481182407e884bf59e5b",
    "order_count": 11,
    "time": "2020-07-11T01:38:11.205Z",
    "type": "selectCodeCell"
   },
   {
    "id": "00a1b821f8e9481182407e884bf59e5b",
    "isPrintLuxWidget": false,
    "isPrintPandas": true,
    "time": "2020-07-11T01:38:11.233Z",
    "type": "completeCodeCell"
   },
   {
    "code": "codeCellsubset=pd.concat([subset1,subset2])",
    "id": "704b70a82a48442183ee0e5e4cddac9a",
    "order_count": 10,
    "time": "2020-07-11T01:39:08.468Z",
    "type": "editCodeCell"
   },
   {
    "code": "codeCellsubset=pd.concat([subset1,subset2])",
    "id": "704b70a82a48442183ee0e5e4cddac9a",
    "order_count": 10,
    "time": "2020-07-11T01:39:09.633Z",
    "type": "selectCodeCell"
   },
   {
    "code": "codeCellsubset#.groupby('id')",
    "id": "00a1b821f8e9481182407e884bf59e5b",
    "order_count": 11,
    "time": "2020-07-11T01:39:09.658Z",
    "type": "editCodeCell"
   },
   {
    "code": "codeCellsubset.groupby('id').last()",
    "id": "00a1b821f8e9481182407e884bf59e5b",
    "order_count": 11,
    "time": "2020-07-11T01:39:13.945Z",
    "type": "executeCodeCell"
   },
   {
    "code": "codeCellsubset.groupby('id').last()",
    "id": "00a1b821f8e9481182407e884bf59e5b",
    "order_count": 11,
    "time": "2020-07-11T01:39:13.946Z",
    "type": "selectCodeCell"
   },
   {
    "id": "00a1b821f8e9481182407e884bf59e5b",
    "isPrintLuxWidget": false,
    "isPrintPandas": true,
    "time": "2020-07-11T01:39:14.000Z",
    "type": "completeCodeCell"
   },
   {
    "code": "codeCellsubset.groupby('id').last()",
    "id": "00a1b821f8e9481182407e884bf59e5b",
    "order_count": 11,
    "time": "2020-07-11T01:42:50.648Z",
    "type": "editCodeCell"
   },
   {
    "code": "codeCellsubset.groupby('id').first()",
    "id": "00a1b821f8e9481182407e884bf59e5b",
    "order_count": 11,
    "time": "2020-07-11T01:42:53.524Z",
    "type": "executeCodeCell"
   },
   {
    "code": "codeCellsubset.groupby('id').first()",
    "id": "00a1b821f8e9481182407e884bf59e5b",
    "order_count": 11,
    "time": "2020-07-11T01:42:53.525Z",
    "type": "selectCodeCell"
   },
   {
    "id": "00a1b821f8e9481182407e884bf59e5b",
    "isPrintLuxWidget": false,
    "isPrintPandas": true,
    "time": "2020-07-11T01:42:53.576Z",
    "type": "completeCodeCell"
   },
   {
    "code": "codeCellsubset.groupby('id').first()",
    "id": "00a1b821f8e9481182407e884bf59e5b",
    "order_count": 11,
    "time": "2020-07-11T01:43:10.704Z",
    "type": "editCodeCell"
   },
   {
    "code": "codeCellsubset.groupby('id').first()",
    "id": "00a1b821f8e9481182407e884bf59e5b",
    "order_count": 11,
    "time": "2020-07-11T01:43:12.037Z",
    "type": "selectCodeCell"
   },
   {
    "code": "codeCellsubset.groupby('id').first()",
    "id": "00a1b821f8e9481182407e884bf59e5b",
    "order_count": 11,
    "time": "2020-07-11T01:43:13.726Z",
    "type": "editCodeCell"
   },
   {
    "code": "codeCellsubset.groupby('id').first() == codeCellsubset.groupby('id').last()",
    "id": "00a1b821f8e9481182407e884bf59e5b",
    "order_count": 11,
    "time": "2020-07-11T01:43:17.659Z",
    "type": "executeCodeCell"
   },
   {
    "code": "codeCellsubset.groupby('id').first() == codeCellsubset.groupby('id').last()",
    "id": "00a1b821f8e9481182407e884bf59e5b",
    "order_count": 11,
    "time": "2020-07-11T01:43:17.661Z",
    "type": "selectCodeCell"
   },
   {
    "id": "00a1b821f8e9481182407e884bf59e5b",
    "isPrintLuxWidget": false,
    "isPrintPandas": true,
    "time": "2020-07-11T01:43:17.701Z",
    "type": "completeCodeCell"
   },
   {
    "code": "codeCellsubset.groupby('id').first() == codeCellsubset.groupby('id').last()",
    "id": "00a1b821f8e9481182407e884bf59e5b",
    "order_count": 11,
    "time": "2020-07-11T01:43:21.294Z",
    "type": "editCodeCell"
   },
   {
    "code": "codeCellsubset.groupby('id').first()",
    "id": "00a1b821f8e9481182407e884bf59e5b",
    "order_count": 11,
    "time": "2020-07-11T01:43:27.576Z",
    "type": "executeCodeCell"
   },
   {
    "code": "codeCellsubset.groupby('id').first()",
    "id": "00a1b821f8e9481182407e884bf59e5b",
    "order_count": 11,
    "time": "2020-07-11T01:43:27.577Z",
    "type": "selectCodeCell"
   },
   {
    "id": "00a1b821f8e9481182407e884bf59e5b",
    "isPrintLuxWidget": false,
    "isPrintPandas": true,
    "time": "2020-07-11T01:43:27.615Z",
    "type": "completeCodeCell"
   },
   {
    "code": "",
    "id": "ba49123c5b5c4d628fa11fb8d8755821",
    "order_count": 12,
    "time": "2020-07-11T01:43:28.170Z",
    "type": "editCodeCell"
   },
   {
    "code": "codeCellsubset.groupby('id').last()",
    "id": "ba49123c5b5c4d628fa11fb8d8755821",
    "order_count": 12,
    "time": "2020-07-11T01:43:33.241Z",
    "type": "executeCodeCell"
   },
   {
    "code": "codeCellsubset.groupby('id').last()",
    "id": "ba49123c5b5c4d628fa11fb8d8755821",
    "order_count": 12,
    "time": "2020-07-11T01:43:33.242Z",
    "type": "selectCodeCell"
   },
   {
    "id": "ba49123c5b5c4d628fa11fb8d8755821",
    "isPrintLuxWidget": false,
    "isPrintPandas": true,
    "time": "2020-07-11T01:43:33.293Z",
    "type": "completeCodeCell"
   },
   {
    "code": "codeCellsubset.groupby('id').last()",
    "id": "ba49123c5b5c4d628fa11fb8d8755821",
    "order_count": null,
    "time": "2020-07-11T01:44:15.707Z",
    "type": "deleteCodeCell"
   },
   {
    "code": "",
    "id": "8550dc10d0874ef98c3ba23bb038e690",
    "order_count": 12,
    "time": "2020-07-11T01:52:04.339Z",
    "type": "editCodeCell"
   },
   {
    "code": "df[\"execution_count\"].unique()",
    "id": "8550dc10d0874ef98c3ba23bb038e690",
    "order_count": 12,
    "time": "2020-07-11T01:52:09.804Z",
    "type": "executeCodeCell"
   },
   {
    "code": "df[\"execution_count\"].unique()",
    "id": "8550dc10d0874ef98c3ba23bb038e690",
    "order_count": 12,
    "time": "2020-07-11T01:52:09.806Z",
    "type": "selectCodeCell"
   },
   {
    "id": "8550dc10d0874ef98c3ba23bb038e690",
    "isPrintLuxWidget": false,
    "isPrintPandas": false,
    "time": "2020-07-11T01:52:09.835Z",
    "type": "completeCodeCell"
   },
   {
    "code": "subset2 = df[(df[\"type\"]==\"executeCodeCell\")|(df[\"type\"]==\"completeCodeCell\")]\nsubset2.loc[:,\"codeExecutionTime\"] = subset.groupby(\"id\")[\"time\"].diff()",
    "id": "215c8d0ddd8f49ad8762ef98851b75e9",
    "order_count": 9,
    "time": "2020-07-11T02:41:34.514Z",
    "type": "editCodeCell"
   },
   {
    "code": "subset2 = df[(df[\"type\"]==\"executeCodeCell\")|(df[\"type\"]==\"completeCodeCell\")]\nsubset2.loc[:,\"codeExecutionTime\"] = subset.groupby(\"id\")[\"time\"].diff()",
    "id": "215c8d0ddd8f49ad8762ef98851b75e9",
    "order_count": 9,
    "time": "2020-07-11T02:41:35.739Z",
    "type": "selectCodeCell"
   },
   {
    "code": "import json",
    "id": "6e1ce3c6b98142ab8671b63ce329695a",
    "order_count": 0,
    "time": "2020-07-11T02:41:36.844Z",
    "type": "executeCodeCell"
   },
   {
    "id": "6e1ce3c6b98142ab8671b63ce329695a",
    "isPrintLuxWidget": false,
    "isPrintPandas": false,
    "time": "2020-07-11T02:41:36.861Z",
    "type": "completeCodeCell"
   },
   {
    "code": "nb = json.load(open(\"CarsDemo.ipynb\"))",
    "id": "2761f3ce1c9f44d9ba87e968b2ea85cf",
    "order_count": 1,
    "time": "2020-07-11T02:41:37.076Z",
    "type": "executeCodeCell"
   },
   {
    "id": "2761f3ce1c9f44d9ba87e968b2ea85cf",
    "isPrintLuxWidget": false,
    "isPrintPandas": false,
    "time": "2020-07-11T02:41:37.092Z",
    "type": "completeCodeCell"
   },
   {
    "time": "2020-07-11T02:41:38.885Z",
    "type": "kernelRestart"
   },
   {
    "time": "2020-07-11T02:41:39.017Z",
    "type": "kernelRestart"
   },
   {
    "code": "import json",
    "id": "6e1ce3c6b98142ab8671b63ce329695a",
    "order_count": 0,
    "time": "2020-07-11T02:41:39.945Z",
    "type": "executeCodeCell"
   },
   {
    "code": "nb = json.load(open(\"CarsDemo.ipynb\"))",
    "id": "2761f3ce1c9f44d9ba87e968b2ea85cf",
    "order_count": 1,
    "time": "2020-07-11T02:41:40.146Z",
    "type": "executeCodeCell"
   },
   {
    "code": "log = nb[\"metadata\"][\"history\"]",
    "id": "ec3736321c6d4607833d8dca032f7fff",
    "order_count": 2,
    "time": "2020-07-11T02:41:40.404Z",
    "type": "executeCodeCell"
   },
   {
    "id": "ec3736321c6d4607833d8dca032f7fff",
    "isPrintLuxWidget": false,
    "isPrintPandas": false,
    "time": "2020-07-11T02:41:41.243Z",
    "type": "completeCodeCell"
   },
   {
    "time": "2020-07-11T02:41:41.248Z",
    "type": "kernelReady"
   },
   {
    "time": "2020-07-11T02:41:41.251Z",
    "type": "kernelReady"
   },
   {
    "time": "2020-07-11T02:41:41.255Z",
    "type": "kernelReady"
   },
   {
    "time": "2020-07-11T02:41:51.472Z",
    "type": "kernelRestart"
   },
   {
    "time": "2020-07-11T02:41:51.610Z",
    "type": "kernelRestart"
   },
   {
    "code": "import json",
    "id": "6e1ce3c6b98142ab8671b63ce329695a",
    "order_count": 0,
    "time": "2020-07-11T02:41:52.028Z",
    "type": "executeCodeCell"
   },
   {
    "code": "nb = json.load(open(\"CarsDemo.ipynb\"))",
    "id": "2761f3ce1c9f44d9ba87e968b2ea85cf",
    "order_count": 1,
    "time": "2020-07-11T02:41:52.236Z",
    "type": "executeCodeCell"
   },
   {
    "code": "log = nb[\"metadata\"][\"history\"]",
    "id": "ec3736321c6d4607833d8dca032f7fff",
    "order_count": 2,
    "time": "2020-07-11T02:41:52.367Z",
    "type": "executeCodeCell"
   },
   {
    "id": "6e1ce3c6b98142ab8671b63ce329695a",
    "isPrintLuxWidget": false,
    "isPrintPandas": false,
    "time": "2020-07-11T02:41:52.709Z",
    "type": "completeCodeCell"
   },
   {
    "id": "6e1ce3c6b98142ab8671b63ce329695a",
    "isPrintLuxWidget": false,
    "isPrintPandas": false,
    "time": "2020-07-11T02:41:52.709Z",
    "type": "completeCodeCell"
   },
   {
    "id": "2761f3ce1c9f44d9ba87e968b2ea85cf",
    "isPrintLuxWidget": false,
    "isPrintPandas": false,
    "time": "2020-07-11T02:41:52.711Z",
    "type": "completeCodeCell"
   },
   {
    "id": "2761f3ce1c9f44d9ba87e968b2ea85cf",
    "isPrintLuxWidget": false,
    "isPrintPandas": false,
    "time": "2020-07-11T02:41:52.711Z",
    "type": "completeCodeCell"
   },
   {
    "time": "2020-07-11T02:41:52.716Z",
    "type": "kernelReady"
   },
   {
    "id": "ec3736321c6d4607833d8dca032f7fff",
    "isPrintLuxWidget": false,
    "isPrintPandas": false,
    "time": "2020-07-11T02:41:52.718Z",
    "type": "completeCodeCell"
   },
   {
    "time": "2020-07-11T02:41:52.721Z",
    "type": "kernelReady"
   },
   {
    "time": "2020-07-11T02:41:52.802Z",
    "type": "kernelReady"
   },
   {
    "code": "import pandas as pd",
    "id": "03e16b95dd2e449a8864ae766af43998",
    "order_count": 5,
    "time": "2020-07-11T02:41:53.722Z",
    "type": "executeCodeCell"
   },
   {
    "code": "df = pd.DataFrame(log)",
    "id": "aa28737cb99243478b249545fb49cb9a",
    "order_count": 6,
    "time": "2020-07-11T02:41:54.096Z",
    "type": "executeCodeCell"
   },
   {
    "id": "03e16b95dd2e449a8864ae766af43998",
    "isPrintLuxWidget": false,
    "isPrintPandas": false,
    "time": "2020-07-11T02:41:54.109Z",
    "type": "completeCodeCell"
   },
   {
    "id": "aa28737cb99243478b249545fb49cb9a",
    "isPrintLuxWidget": false,
    "isPrintPandas": false,
    "time": "2020-07-11T02:41:54.111Z",
    "type": "completeCodeCell"
   },
   {
    "code": "df[\"time\"] = pd.to_datetime(df[\"time\"])",
    "id": "890b21c0c37942cb8c4a49b77fe4cec7",
    "order_count": 7,
    "time": "2020-07-11T02:41:54.673Z",
    "type": "executeCodeCell"
   },
   {
    "id": "890b21c0c37942cb8c4a49b77fe4cec7",
    "isPrintLuxWidget": false,
    "isPrintPandas": false,
    "time": "2020-07-11T02:41:54.692Z",
    "type": "completeCodeCell"
   },
   {
    "code": "subset1 = df[(df[\"type\"]==\"executeCodeCell\")|(df[\"type\"]==\"completeCodeCell\")]\nsubset1.loc[:,\"queryFormulationTime\"] = subset.groupby(\"id\")[\"time\"].diff()",
    "id": "08d90942f20146918d52c45dee7217c4",
    "order_count": 8,
    "time": "2020-07-11T02:41:57.106Z",
    "type": "executeCodeCell"
   },
   {
    "id": "08d90942f20146918d52c45dee7217c4",
    "isPrintLuxWidget": false,
    "isPrintPandas": false,
    "time": "2020-07-11T02:41:57.222Z",
    "type": "completeCodeCell"
   },
   {
    "code": "subset1 = df[(df[\"type\"]==\"executeCodeCell\")|(df[\"type\"]==\"completeCodeCell\")]\nsubset1.loc[:,\"queryFormulationTime\"] = subset.groupby(\"id\")[\"time\"].diff()",
    "id": "08d90942f20146918d52c45dee7217c4",
    "order_count": 8,
    "time": "2020-07-11T02:42:01.156Z",
    "type": "editCodeCell"
   },
   {
    "code": "subset1 = df[(df[\"type\"]==\"executeCodeCell\")|(df[\"type\"]==\"completeCodeCell\")]\nsubset1.loc[:,\"queryFormulationTime\"] = subset1.groupby(\"id\")[\"time\"].diff()",
    "id": "08d90942f20146918d52c45dee7217c4",
    "order_count": 8,
    "time": "2020-07-11T02:42:04.809Z",
    "type": "executeCodeCell"
   },
   {
    "code": "subset1 = df[(df[\"type\"]==\"executeCodeCell\")|(df[\"type\"]==\"completeCodeCell\")]\nsubset1.loc[:,\"queryFormulationTime\"] = subset1.groupby(\"id\")[\"time\"].diff()",
    "id": "08d90942f20146918d52c45dee7217c4",
    "order_count": 8,
    "time": "2020-07-11T02:42:04.810Z",
    "type": "selectCodeCell"
   },
   {
    "id": "08d90942f20146918d52c45dee7217c4",
    "isPrintLuxWidget": false,
    "isPrintPandas": false,
    "time": "2020-07-11T02:42:04.848Z",
    "type": "completeCodeCell"
   },
   {
    "code": "subset2 = df[(df[\"type\"]==\"executeCodeCell\")|(df[\"type\"]==\"completeCodeCell\")]\nsubset2.loc[:,\"codeExecutionTime\"] = subset.groupby(\"id\")[\"time\"].diff()",
    "id": "215c8d0ddd8f49ad8762ef98851b75e9",
    "order_count": 9,
    "time": "2020-07-11T02:42:09.657Z",
    "type": "editCodeCell"
   },
   {
    "code": "subset2 = df[(df[\"type\"]==\"executeCodeCell\")|(df[\"type\"]==\"completeCodeCell\")]\nsubset2.loc[:,\"codeExecutionTime\"] = subset2.groupby(\"id\")[\"time\"].diff()",
    "id": "215c8d0ddd8f49ad8762ef98851b75e9",
    "order_count": 9,
    "time": "2020-07-11T02:42:11.052Z",
    "type": "executeCodeCell"
   },
   {
    "code": "subset2 = df[(df[\"type\"]==\"executeCodeCell\")|(df[\"type\"]==\"completeCodeCell\")]\nsubset2.loc[:,\"codeExecutionTime\"] = subset2.groupby(\"id\")[\"time\"].diff()",
    "id": "215c8d0ddd8f49ad8762ef98851b75e9",
    "order_count": 9,
    "time": "2020-07-11T02:42:11.053Z",
    "type": "selectCodeCell"
   },
   {
    "id": "215c8d0ddd8f49ad8762ef98851b75e9",
    "isPrintLuxWidget": false,
    "isPrintPandas": false,
    "time": "2020-07-11T02:42:11.078Z",
    "type": "completeCodeCell"
   },
   {
    "code": "",
    "id": "6aafec87b1cc42eb8646e9fe73aca885",
    "order_count": 10,
    "time": "2020-07-11T02:42:13.061Z",
    "type": "editCodeCell"
   },
   {
    "code": "subset2",
    "id": "6aafec87b1cc42eb8646e9fe73aca885",
    "order_count": 10,
    "time": "2020-07-11T02:42:14.759Z",
    "type": "executeCodeCell"
   },
   {
    "code": "subset2",
    "id": "6aafec87b1cc42eb8646e9fe73aca885",
    "order_count": 10,
    "time": "2020-07-11T02:42:14.759Z",
    "type": "selectCodeCell"
   },
   {
    "id": "6aafec87b1cc42eb8646e9fe73aca885",
    "isPrintLuxWidget": false,
    "isPrintPandas": true,
    "time": "2020-07-11T02:42:14.806Z",
    "type": "completeCodeCell"
   },
   {
    "code": "subset2",
    "id": "6aafec87b1cc42eb8646e9fe73aca885",
    "order_count": null,
    "time": "2020-07-11T02:42:40.267Z",
    "type": "deleteCodeCell"
   },
   {
    "code": "codeCellsubset=pd.concat([subset1,subset2])",
    "id": "704b70a82a48442183ee0e5e4cddac9a",
    "order_count": 10,
    "time": "2020-07-11T02:42:41.218Z",
    "type": "editCodeCell"
   },
   {
    "code": "codeCellsubset=pd.concat([subset1,subset2])",
    "id": "704b70a82a48442183ee0e5e4cddac9a",
    "order_count": 10,
    "time": "2020-07-11T02:42:42.328Z",
    "type": "executeCodeCell"
   },
   {
    "code": "codeCellsubset=pd.concat([subset1,subset2])",
    "id": "704b70a82a48442183ee0e5e4cddac9a",
    "order_count": 10,
    "time": "2020-07-11T02:42:42.329Z",
    "type": "selectCodeCell"
   },
   {
    "id": "704b70a82a48442183ee0e5e4cddac9a",
    "isPrintLuxWidget": false,
    "isPrintPandas": false,
    "time": "2020-07-11T02:42:42.360Z",
    "type": "completeCodeCell"
   },
   {
    "code": "codeCellsubset.groupby('id').first()",
    "id": "00a1b821f8e9481182407e884bf59e5b",
    "order_count": 11,
    "time": "2020-07-11T02:42:42.589Z",
    "type": "executeCodeCell"
   },
   {
    "id": "00a1b821f8e9481182407e884bf59e5b",
    "isPrintLuxWidget": false,
    "isPrintPandas": true,
    "time": "2020-07-11T02:42:42.614Z",
    "type": "completeCodeCell"
   },
   {
    "code": "subset1 = df[(df[\"type\"]==\"executeCodeCell\")|(df[\"type\"]==\"completeCodeCell\")]\nsubset1.loc[:,\"queryFormulationTime\"] = subset1.groupby(\"id\")[\"time\"].diff()",
    "id": "08d90942f20146918d52c45dee7217c4",
    "order_count": 8,
    "time": "2020-07-11T02:45:52.481Z",
    "type": "editCodeCell"
   },
   {
    "code": "subset1 = df[(df[\"type\"]==\"editCodeCell\")|(df[\"type\"]==\"completeCodeCell\")]\nsubset1.loc[:,\"queryFormulationTime\"] = subset1.groupby(\"id\")[\"time\"].diff()",
    "id": "08d90942f20146918d52c45dee7217c4",
    "order_count": 8,
    "time": "2020-07-11T02:45:58.485Z",
    "type": "executeCodeCell"
   },
   {
    "code": "subset1 = df[(df[\"type\"]==\"editCodeCell\")|(df[\"type\"]==\"completeCodeCell\")]\nsubset1.loc[:,\"queryFormulationTime\"] = subset1.groupby(\"id\")[\"time\"].diff()",
    "id": "08d90942f20146918d52c45dee7217c4",
    "order_count": 8,
    "time": "2020-07-11T02:45:58.486Z",
    "type": "selectCodeCell"
   },
   {
    "id": "08d90942f20146918d52c45dee7217c4",
    "isPrintLuxWidget": false,
    "isPrintPandas": false,
    "time": "2020-07-11T02:45:58.521Z",
    "type": "completeCodeCell"
   },
   {
    "code": "subset2 = df[(df[\"type\"]==\"executeCodeCell\")|(df[\"type\"]==\"completeCodeCell\")]\nsubset2.loc[:,\"codeExecutionTime\"] = subset2.groupby(\"id\")[\"time\"].diff()",
    "id": "215c8d0ddd8f49ad8762ef98851b75e9",
    "order_count": 9,
    "time": "2020-07-11T02:45:59.060Z",
    "type": "executeCodeCell"
   },
   {
    "id": "215c8d0ddd8f49ad8762ef98851b75e9",
    "isPrintLuxWidget": false,
    "isPrintPandas": false,
    "time": "2020-07-11T02:45:59.078Z",
    "type": "completeCodeCell"
   },
   {
    "code": "codeCellsubset=pd.concat([subset1,subset2])",
    "id": "704b70a82a48442183ee0e5e4cddac9a",
    "order_count": 10,
    "time": "2020-07-11T02:45:59.675Z",
    "type": "executeCodeCell"
   },
   {
    "id": "704b70a82a48442183ee0e5e4cddac9a",
    "isPrintLuxWidget": false,
    "isPrintPandas": false,
    "time": "2020-07-11T02:45:59.693Z",
    "type": "completeCodeCell"
   },
   {
    "code": "codeCellsubset.groupby('id').first()",
    "id": "00a1b821f8e9481182407e884bf59e5b",
    "order_count": 11,
    "time": "2020-07-11T02:46:00.182Z",
    "type": "executeCodeCell"
   },
   {
    "id": "00a1b821f8e9481182407e884bf59e5b",
    "isPrintLuxWidget": false,
    "isPrintPandas": true,
    "time": "2020-07-11T02:46:00.218Z",
    "type": "completeCodeCell"
   },
   {
    "code": "codeCellsubset.groupby('id').first()",
    "id": "00a1b821f8e9481182407e884bf59e5b",
    "order_count": 11,
    "time": "2020-07-11T02:46:33.405Z",
    "type": "editCodeCell"
   },
   {
    "code": "codeCellsubset.groupby('id').first()",
    "id": "00a1b821f8e9481182407e884bf59e5b",
    "order_count": 11,
    "time": "2020-07-11T02:46:37.781Z",
    "type": "selectCodeCell"
   },
   {
    "code": "",
    "id": "84422ca85d144d098c8f3ad52aa36f57",
    "order_count": 12,
    "time": "2020-07-11T02:46:38.665Z",
    "type": "editCodeCell"
   },
   {
    "code": "codeCellsubset.groupby('id').last()",
    "id": "84422ca85d144d098c8f3ad52aa36f57",
    "order_count": 12,
    "time": "2020-07-11T02:46:42.028Z",
    "type": "executeCodeCell"
   },
   {
    "code": "codeCellsubset.groupby('id').last()",
    "id": "84422ca85d144d098c8f3ad52aa36f57",
    "order_count": 12,
    "time": "2020-07-11T02:46:42.029Z",
    "type": "selectCodeCell"
   },
   {
    "id": "84422ca85d144d098c8f3ad52aa36f57",
    "isPrintLuxWidget": false,
    "isPrintPandas": true,
    "time": "2020-07-11T02:46:42.058Z",
    "type": "completeCodeCell"
   },
   {
    "code": "codeCellsubset.groupby('id').first()",
    "id": "00a1b821f8e9481182407e884bf59e5b",
    "order_count": null,
    "time": "2020-07-11T02:49:11.822Z",
    "type": "deleteCodeCell"
   },
   {
    "code": "subset1 = df[(df[\"type\"]==\"editCodeCell\")|(df[\"type\"]==\"completeCodeCell\")]\nsubset1.loc[:,\"queryFormulationTime\"] = subset1.groupby(\"id\")[\"time\"].diff()",
    "id": "08d90942f20146918d52c45dee7217c4",
    "order_count": 8,
    "time": "2020-07-11T02:50:24.216Z",
    "type": "editCodeCell"
   },
   {
    "code": "subset1 = df[(df[\"type\"]==\"editCodeCell\")|(df[\"type\"]==\"executeCodeCell\")]\nsubset1.loc[:,\"queryFormulationTime\"] = subset1.groupby(\"id\")[\"time\"].diff()",
    "id": "08d90942f20146918d52c45dee7217c4",
    "order_count": 8,
    "time": "2020-07-11T02:50:28.925Z",
    "type": "executeCodeCell"
   },
   {
    "code": "subset1 = df[(df[\"type\"]==\"editCodeCell\")|(df[\"type\"]==\"executeCodeCell\")]\nsubset1.loc[:,\"queryFormulationTime\"] = subset1.groupby(\"id\")[\"time\"].diff()",
    "id": "08d90942f20146918d52c45dee7217c4",
    "order_count": 8,
    "time": "2020-07-11T02:50:28.926Z",
    "type": "selectCodeCell"
   },
   {
    "id": "08d90942f20146918d52c45dee7217c4",
    "isPrintLuxWidget": false,
    "isPrintPandas": false,
    "time": "2020-07-11T02:50:28.956Z",
    "type": "completeCodeCell"
   },
   {
    "code": "subset2 = df[(df[\"type\"]==\"executeCodeCell\")|(df[\"type\"]==\"completeCodeCell\")]\nsubset2.loc[:,\"codeExecutionTime\"] = subset2.groupby(\"id\")[\"time\"].diff()",
    "id": "215c8d0ddd8f49ad8762ef98851b75e9",
    "order_count": 9,
    "time": "2020-07-11T02:50:32.048Z",
    "type": "executeCodeCell"
   },
   {
    "id": "215c8d0ddd8f49ad8762ef98851b75e9",
    "isPrintLuxWidget": false,
    "isPrintPandas": false,
    "time": "2020-07-11T02:50:32.063Z",
    "type": "completeCodeCell"
   },
   {
    "code": "codeCellsubset=pd.concat([subset1,subset2])",
    "id": "704b70a82a48442183ee0e5e4cddac9a",
    "order_count": 10,
    "time": "2020-07-11T02:50:32.539Z",
    "type": "executeCodeCell"
   },
   {
    "id": "704b70a82a48442183ee0e5e4cddac9a",
    "isPrintLuxWidget": false,
    "isPrintPandas": false,
    "time": "2020-07-11T02:50:32.559Z",
    "type": "completeCodeCell"
   },
   {
    "code": "codeCellsubset.groupby('id').last()",
    "id": "84422ca85d144d098c8f3ad52aa36f57",
    "order_count": 11,
    "time": "2020-07-11T02:50:32.980Z",
    "type": "executeCodeCell"
   },
   {
    "id": "84422ca85d144d098c8f3ad52aa36f57",
    "isPrintLuxWidget": false,
    "isPrintPandas": true,
    "time": "2020-07-11T02:50:33.006Z",
    "type": "completeCodeCell"
   },
   {
    "code": "codeCellsubset.groupby('id').last()",
    "id": "84422ca85d144d098c8f3ad52aa36f57",
    "order_count": 11,
    "time": "2020-07-11T03:32:41.515Z",
    "type": "editCodeCell"
   },
   {
    "code": "#cellEvents is a dataframe with edit/complete/execute Code Cell all merged as one event, with computed queryFormulationTime and codeExecutionTime\ncellEvents = codeCellsubset.groupby('id').last()",
    "id": "84422ca85d144d098c8f3ad52aa36f57",
    "order_count": 11,
    "time": "2020-07-11T03:34:27.980Z",
    "type": "executeCodeCell"
   },
   {
    "code": "#cellEvents is a dataframe with edit/complete/execute Code Cell all merged as one event, with computed queryFormulationTime and codeExecutionTime\ncellEvents = codeCellsubset.groupby('id').last()",
    "id": "84422ca85d144d098c8f3ad52aa36f57",
    "order_count": 11,
    "time": "2020-07-11T03:34:27.982Z",
    "type": "selectCodeCell"
   },
   {
    "id": "84422ca85d144d098c8f3ad52aa36f57",
    "isPrintLuxWidget": false,
    "isPrintPandas": false,
    "time": "2020-07-11T03:34:28.015Z",
    "type": "completeCodeCell"
   },
   {
    "code": "",
    "id": "ec2a90072e984334830dde6e24bddef9",
    "order_count": 12,
    "time": "2020-07-11T03:34:29.085Z",
    "type": "editCodeCell"
   },
   {
    "code": "cellEvents",
    "id": "ec2a90072e984334830dde6e24bddef9",
    "order_count": 12,
    "time": "2020-07-11T03:34:33.649Z",
    "type": "executeCodeCell"
   },
   {
    "code": "cellEvents",
    "id": "ec2a90072e984334830dde6e24bddef9",
    "order_count": 12,
    "time": "2020-07-11T03:34:33.650Z",
    "type": "selectCodeCell"
   },
   {
    "id": "ec2a90072e984334830dde6e24bddef9",
    "isPrintLuxWidget": false,
    "isPrintPandas": true,
    "time": "2020-07-11T03:34:33.681Z",
    "type": "completeCodeCell"
   },
   {
    "code": "df[\"execution_count\"].unique()",
    "id": "8550dc10d0874ef98c3ba23bb038e690",
    "order_count": 13,
    "time": "2020-07-11T03:34:52.180Z",
    "type": "editCodeCell"
   },
   {
    "code": "df[\"execution_count\"].unique()",
    "id": "8550dc10d0874ef98c3ba23bb038e690",
    "order_count": 13,
    "time": "2020-07-11T03:34:53.128Z",
    "type": "selectCodeCell"
   },
   {
    "code": "df[\"execution_count\"].unique()",
    "id": "8550dc10d0874ef98c3ba23bb038e690",
    "order_count": null,
    "time": "2020-07-11T03:34:55.623Z",
    "type": "deleteCodeCell"
   },
   {
    "code": "df",
    "id": "cb9ba65d79734dc28821381ba64a3bff",
    "order_count": 14,
    "time": "2020-07-11T03:45:18.104Z",
    "type": "editCodeCell"
   },
   {
    "code": "df",
    "id": "cb9ba65d79734dc28821381ba64a3bff",
    "order_count": 14,
    "time": "2020-07-11T03:45:20.042Z",
    "type": "selectCodeCell"
   },
   {
    "code": "df.groupby(\"id\")",
    "id": "4112d45d6a7e466f83172f943ddd31c1",
    "order_count": 13,
    "time": "2020-07-11T03:45:20.503Z",
    "type": "editCodeCell"
   },
   {
    "code": "df.groupby(\"id\")",
    "id": "4112d45d6a7e466f83172f943ddd31c1",
    "order_count": 13,
    "time": "2020-07-11T03:45:21.618Z",
    "type": "selectCodeCell"
   },
   {
    "code": "df.groupby(\"id\")",
    "id": "4112d45d6a7e466f83172f943ddd31c1",
    "order_count": null,
    "time": "2020-07-11T03:45:22.587Z",
    "type": "deleteCodeCell"
   },
   {
    "code": "df",
    "id": "cb9ba65d79734dc28821381ba64a3bff",
    "order_count": 13,
    "time": "2020-07-11T03:45:29.704Z",
    "type": "editCodeCell"
   },
   {
    "code": "df",
    "id": "cb9ba65d79734dc28821381ba64a3bff",
    "order_count": 13,
    "time": "2020-07-11T03:45:31.117Z",
    "type": "executeCodeCell"
   },
   {
    "code": "df",
    "id": "cb9ba65d79734dc28821381ba64a3bff",
    "order_count": 13,
    "time": "2020-07-11T03:45:31.118Z",
    "type": "selectCodeCell"
   },
   {
    "id": "cb9ba65d79734dc28821381ba64a3bff",
    "isPrintLuxWidget": false,
    "isPrintPandas": true,
    "time": "2020-07-11T03:45:31.148Z",
    "type": "completeCodeCell"
   },
   {
    "code": "df",
    "id": "cb9ba65d79734dc28821381ba64a3bff",
    "order_count": 13,
    "time": "2020-07-11T03:46:29.537Z",
    "type": "editCodeCell"
   },
   {
    "code": "df[df[\"order_count\"]=9]",
    "id": "cb9ba65d79734dc28821381ba64a3bff",
    "order_count": 13,
    "time": "2020-07-11T03:46:37.406Z",
    "type": "executeCodeCell"
   },
   {
    "code": "df[df[\"order_count\"]=9]",
    "id": "cb9ba65d79734dc28821381ba64a3bff",
    "order_count": 13,
    "time": "2020-07-11T03:46:37.407Z",
    "type": "selectCodeCell"
   },
   {
    "id": "cb9ba65d79734dc28821381ba64a3bff",
    "isPrintLuxWidget": false,
    "isPrintPandas": false,
    "time": "2020-07-11T03:46:37.444Z",
    "type": "completeCodeCell"
   },
   {
    "code": "df[df[\"order_count\"]=9]",
    "id": "cb9ba65d79734dc28821381ba64a3bff",
    "order_count": 13,
    "time": "2020-07-11T03:46:38.983Z",
    "type": "editCodeCell"
   },
   {
    "code": "df[df[\"order_count\"]==9]",
    "id": "cb9ba65d79734dc28821381ba64a3bff",
    "order_count": 13,
    "time": "2020-07-11T03:46:42.966Z",
    "type": "executeCodeCell"
   },
   {
    "code": "df[df[\"order_count\"]==9]",
    "id": "cb9ba65d79734dc28821381ba64a3bff",
    "order_count": 13,
    "time": "2020-07-11T03:46:42.966Z",
    "type": "selectCodeCell"
   },
   {
    "id": "cb9ba65d79734dc28821381ba64a3bff",
    "isPrintLuxWidget": false,
    "isPrintPandas": true,
    "time": "2020-07-11T03:46:42.997Z",
    "type": "completeCodeCell"
   },
   {
    "code": "subset1 = df[(df[\"type\"]==\"editCodeCell\")|(df[\"type\"]==\"executeCodeCell\")]\nsubset1.loc[:,\"queryFormulationTime\"] = subset1.groupby(\"id\")[\"time\"].diff()",
    "id": "08d90942f20146918d52c45dee7217c4",
    "order_count": 8,
    "time": "2020-07-11T03:47:17.973Z",
    "type": "editCodeCell"
   },
   {
    "code": "subset1 = df[(df[\"type\"]==\"editCodeCell\")|(df[\"type\"]==\"executeCodeCell\")]\nsubset1.loc[:,\"queryFormulationTime\"] = subset1.groupby([\"id\",\"code\"])[\"time\"].diff()",
    "id": "08d90942f20146918d52c45dee7217c4",
    "order_count": 8,
    "time": "2020-07-11T03:47:28.960Z",
    "type": "selectCodeCell"
   },
   {
    "code": "subset2 = df[(df[\"type\"]==\"executeCodeCell\")|(df[\"type\"]==\"completeCodeCell\")]\nsubset2.loc[:,\"codeExecutionTime\"] = subset2.groupby(\"id\")[\"time\"].diff()",
    "id": "215c8d0ddd8f49ad8762ef98851b75e9",
    "order_count": 9,
    "time": "2020-07-11T03:47:28.984Z",
    "type": "editCodeCell"
   },
   {
    "code": "subset2 = df[(df[\"type\"]==\"executeCodeCell\")|(df[\"type\"]==\"completeCodeCell\")]\nsubset2.loc[:,\"codeExecutionTime\"] = subset2.groupby([\"id\",\"code\"])[\"time\"].diff()",
    "id": "215c8d0ddd8f49ad8762ef98851b75e9",
    "order_count": 9,
    "time": "2020-07-11T03:47:30.806Z",
    "type": "selectCodeCell"
   },
   {
    "time": "2020-07-11T03:47:32.775Z",
    "type": "kernelRestart"
   },
   {
    "time": "2020-07-11T03:47:32.925Z",
    "type": "kernelRestart"
   },
   {
    "time": "2020-07-11T03:47:34.486Z",
    "type": "kernelReady"
   },
   {
    "time": "2020-07-11T03:47:34.492Z",
    "type": "kernelReady"
   },
   {
    "code": "import json",
    "id": "6e1ce3c6b98142ab8671b63ce329695a",
    "order_count": 0,
    "time": "2020-07-11T03:47:34.989Z",
    "type": "executeCodeCell"
   },
   {
    "id": "6e1ce3c6b98142ab8671b63ce329695a",
    "isPrintLuxWidget": false,
    "isPrintPandas": false,
    "time": "2020-07-11T03:47:35.005Z",
    "type": "completeCodeCell"
   },
   {
    "code": "nb = json.load(open(\"CarsDemo.ipynb\"))",
    "id": "2761f3ce1c9f44d9ba87e968b2ea85cf",
    "order_count": 1,
    "time": "2020-07-11T03:47:35.144Z",
    "type": "executeCodeCell"
   },
   {
    "id": "2761f3ce1c9f44d9ba87e968b2ea85cf",
    "isPrintLuxWidget": false,
    "isPrintPandas": false,
    "time": "2020-07-11T03:47:35.159Z",
    "type": "completeCodeCell"
   },
   {
    "code": "log = nb[\"metadata\"][\"history\"]",
    "id": "ec3736321c6d4607833d8dca032f7fff",
    "order_count": 2,
    "time": "2020-07-11T03:47:35.311Z",
    "type": "executeCodeCell"
   },
   {
    "id": "ec3736321c6d4607833d8dca032f7fff",
    "isPrintLuxWidget": false,
    "isPrintPandas": false,
    "time": "2020-07-11T03:47:35.322Z",
    "type": "completeCodeCell"
   },
   {
    "code": "import pandas as pd",
    "id": "03e16b95dd2e449a8864ae766af43998",
    "order_count": 5,
    "time": "2020-07-11T03:47:35.767Z",
    "type": "executeCodeCell"
   },
   {
    "code": "df = pd.DataFrame(log)",
    "id": "aa28737cb99243478b249545fb49cb9a",
    "order_count": 6,
    "time": "2020-07-11T03:47:35.908Z",
    "type": "executeCodeCell"
   },
   {
    "id": "03e16b95dd2e449a8864ae766af43998",
    "isPrintLuxWidget": false,
    "isPrintPandas": false,
    "time": "2020-07-11T03:47:36.147Z",
    "type": "completeCodeCell"
   },
   {
    "id": "aa28737cb99243478b249545fb49cb9a",
    "isPrintLuxWidget": false,
    "isPrintPandas": false,
    "time": "2020-07-11T03:47:36.149Z",
    "type": "completeCodeCell"
   },
   {
    "code": "df[\"time\"] = pd.to_datetime(df[\"time\"])",
    "id": "890b21c0c37942cb8c4a49b77fe4cec7",
    "order_count": 7,
    "time": "2020-07-11T03:47:36.179Z",
    "type": "executeCodeCell"
   },
   {
    "id": "890b21c0c37942cb8c4a49b77fe4cec7",
    "isPrintLuxWidget": false,
    "isPrintPandas": false,
    "time": "2020-07-11T03:47:36.193Z",
    "type": "completeCodeCell"
   },
   {
    "code": "subset1 = df[(df[\"type\"]==\"editCodeCell\")|(df[\"type\"]==\"executeCodeCell\")]\nsubset1.loc[:,\"queryFormulationTime\"] = subset1.groupby([\"id\",\"code\"])[\"time\"].diff()",
    "id": "08d90942f20146918d52c45dee7217c4",
    "order_count": 8,
    "time": "2020-07-11T03:47:36.375Z",
    "type": "executeCodeCell"
   },
   {
    "id": "08d90942f20146918d52c45dee7217c4",
    "isPrintLuxWidget": false,
    "isPrintPandas": false,
    "time": "2020-07-11T03:47:36.414Z",
    "type": "completeCodeCell"
   },
   {
    "code": "subset2 = df[(df[\"type\"]==\"executeCodeCell\")|(df[\"type\"]==\"completeCodeCell\")]\nsubset2.loc[:,\"codeExecutionTime\"] = subset2.groupby([\"id\",\"code\"])[\"time\"].diff()",
    "id": "215c8d0ddd8f49ad8762ef98851b75e9",
    "order_count": 9,
    "time": "2020-07-11T03:47:36.741Z",
    "type": "executeCodeCell"
   },
   {
    "id": "215c8d0ddd8f49ad8762ef98851b75e9",
    "isPrintLuxWidget": false,
    "isPrintPandas": false,
    "time": "2020-07-11T03:47:36.755Z",
    "type": "completeCodeCell"
   },
   {
    "code": "codeCellsubset=pd.concat([subset1,subset2])",
    "id": "704b70a82a48442183ee0e5e4cddac9a",
    "order_count": 10,
    "time": "2020-07-11T03:47:37.184Z",
    "type": "executeCodeCell"
   },
   {
    "id": "704b70a82a48442183ee0e5e4cddac9a",
    "isPrintLuxWidget": false,
    "isPrintPandas": false,
    "time": "2020-07-11T03:47:37.200Z",
    "type": "completeCodeCell"
   },
   {
    "code": "#cellEvents is a dataframe with edit/complete/execute Code Cell all merged as one event, with computed queryFormulationTime and codeExecutionTime\ncellEvents = codeCellsubset.groupby('id').last()",
    "id": "84422ca85d144d098c8f3ad52aa36f57",
    "order_count": 11,
    "time": "2020-07-11T03:47:37.582Z",
    "type": "executeCodeCell"
   },
   {
    "id": "84422ca85d144d098c8f3ad52aa36f57",
    "isPrintLuxWidget": false,
    "isPrintPandas": false,
    "time": "2020-07-11T03:47:37.599Z",
    "type": "completeCodeCell"
   },
   {
    "code": "cellEvents",
    "id": "ec2a90072e984334830dde6e24bddef9",
    "order_count": 12,
    "time": "2020-07-11T03:47:38.104Z",
    "type": "executeCodeCell"
   },
   {
    "id": "ec2a90072e984334830dde6e24bddef9",
    "isPrintLuxWidget": false,
    "isPrintPandas": true,
    "time": "2020-07-11T03:47:38.133Z",
    "type": "completeCodeCell"
   },
   {
    "code": "df[df[\"order_count\"]==9]",
    "id": "cb9ba65d79734dc28821381ba64a3bff",
    "order_count": 13,
    "time": "2020-07-11T03:47:38.721Z",
    "type": "executeCodeCell"
   },
   {
    "id": "cb9ba65d79734dc28821381ba64a3bff",
    "isPrintLuxWidget": false,
    "isPrintPandas": true,
    "time": "2020-07-11T03:47:38.744Z",
    "type": "completeCodeCell"
   },
   {
    "code": "subset1 = df[(df[\"type\"]==\"editCodeCell\")|(df[\"type\"]==\"executeCodeCell\")]\nsubset1.loc[:,\"queryFormulationTime\"] = subset1.groupby([\"id\",\"code\"])[\"time\"].diff()",
    "id": "08d90942f20146918d52c45dee7217c4",
    "order_count": 8,
    "time": "2020-07-11T03:51:07.909Z",
    "type": "executeCodeCell"
   },
   {
    "id": "08d90942f20146918d52c45dee7217c4",
    "isPrintLuxWidget": false,
    "isPrintPandas": false,
    "time": "2020-07-11T03:51:07.935Z",
    "type": "completeCodeCell"
   },
   {
    "code": "subset2 = df[(df[\"type\"]==\"executeCodeCell\")|(df[\"type\"]==\"completeCodeCell\")]\nsubset2.loc[:,\"codeExecutionTime\"] = subset2.groupby([\"id\",\"code\"])[\"time\"].diff()",
    "id": "215c8d0ddd8f49ad8762ef98851b75e9",
    "order_count": 9,
    "time": "2020-07-11T03:51:08.215Z",
    "type": "executeCodeCell"
   },
   {
    "id": "215c8d0ddd8f49ad8762ef98851b75e9",
    "isPrintLuxWidget": false,
    "isPrintPandas": false,
    "time": "2020-07-11T03:51:08.231Z",
    "type": "completeCodeCell"
   },
   {
    "code": "codeCellsubset=pd.concat([subset1,subset2])",
    "id": "704b70a82a48442183ee0e5e4cddac9a",
    "order_count": 10,
    "time": "2020-07-11T03:51:08.550Z",
    "type": "executeCodeCell"
   },
   {
    "id": "704b70a82a48442183ee0e5e4cddac9a",
    "isPrintLuxWidget": false,
    "isPrintPandas": false,
    "time": "2020-07-11T03:51:08.566Z",
    "type": "completeCodeCell"
   },
   {
    "code": "#cellEvents is a dataframe with edit/complete/execute Code Cell all merged as one event, with computed queryFormulationTime and codeExecutionTime\ncellEvents = codeCellsubset.groupby('id').last()",
    "id": "84422ca85d144d098c8f3ad52aa36f57",
    "order_count": 11,
    "time": "2020-07-11T03:51:08.869Z",
    "type": "executeCodeCell"
   },
   {
    "id": "84422ca85d144d098c8f3ad52aa36f57",
    "isPrintLuxWidget": false,
    "isPrintPandas": false,
    "time": "2020-07-11T03:51:08.888Z",
    "type": "completeCodeCell"
   },
   {
    "code": "cellEvents",
    "id": "ec2a90072e984334830dde6e24bddef9",
    "order_count": 12,
    "time": "2020-07-11T03:51:09.839Z",
    "type": "executeCodeCell"
   },
   {
    "id": "ec2a90072e984334830dde6e24bddef9",
    "isPrintLuxWidget": false,
    "isPrintPandas": true,
    "time": "2020-07-11T03:51:09.863Z",
    "type": "completeCodeCell"
   },
   {
    "code": "nb = json.load(open(\"CarsDemo.ipynb\"))",
    "id": "2761f3ce1c9f44d9ba87e968b2ea85cf",
    "order_count": 1,
    "time": "2020-07-11T03:51:16.835Z",
    "type": "executeCodeCell"
   },
   {
    "id": "2761f3ce1c9f44d9ba87e968b2ea85cf",
    "isPrintLuxWidget": false,
    "isPrintPandas": false,
    "time": "2020-07-11T03:51:16.848Z",
    "type": "completeCodeCell"
   },
   {
    "code": "log = nb[\"metadata\"][\"history\"]",
    "id": "ec3736321c6d4607833d8dca032f7fff",
    "order_count": 2,
    "time": "2020-07-11T03:51:17.011Z",
    "type": "executeCodeCell"
   },
   {
    "id": "ec3736321c6d4607833d8dca032f7fff",
    "isPrintLuxWidget": false,
    "isPrintPandas": false,
    "time": "2020-07-11T03:51:17.020Z",
    "type": "completeCodeCell"
   },
   {
    "code": "import pandas as pd",
    "id": "03e16b95dd2e449a8864ae766af43998",
    "order_count": 5,
    "time": "2020-07-11T03:51:17.691Z",
    "type": "executeCodeCell"
   },
   {
    "id": "03e16b95dd2e449a8864ae766af43998",
    "isPrintLuxWidget": false,
    "isPrintPandas": false,
    "time": "2020-07-11T03:51:17.704Z",
    "type": "completeCodeCell"
   },
   {
    "code": "df = pd.DataFrame(log)",
    "id": "aa28737cb99243478b249545fb49cb9a",
    "order_count": 6,
    "time": "2020-07-11T03:51:18.187Z",
    "type": "executeCodeCell"
   },
   {
    "id": "aa28737cb99243478b249545fb49cb9a",
    "isPrintLuxWidget": false,
    "isPrintPandas": false,
    "time": "2020-07-11T03:51:18.200Z",
    "type": "completeCodeCell"
   },
   {
    "code": "df[\"time\"] = pd.to_datetime(df[\"time\"])",
    "id": "890b21c0c37942cb8c4a49b77fe4cec7",
    "order_count": 7,
    "time": "2020-07-11T03:51:18.499Z",
    "type": "executeCodeCell"
   },
   {
    "id": "890b21c0c37942cb8c4a49b77fe4cec7",
    "isPrintLuxWidget": false,
    "isPrintPandas": false,
    "time": "2020-07-11T03:51:18.514Z",
    "type": "completeCodeCell"
   },
   {
    "code": "subset1 = df[(df[\"type\"]==\"editCodeCell\")|(df[\"type\"]==\"executeCodeCell\")]\nsubset1.loc[:,\"queryFormulationTime\"] = subset1.groupby([\"id\",\"code\"])[\"time\"].diff()",
    "id": "08d90942f20146918d52c45dee7217c4",
    "order_count": 8,
    "time": "2020-07-11T03:51:21.966Z",
    "type": "executeCodeCell"
   },
   {
    "id": "08d90942f20146918d52c45dee7217c4",
    "isPrintLuxWidget": false,
    "isPrintPandas": false,
    "time": "2020-07-11T03:51:21.989Z",
    "type": "completeCodeCell"
   },
   {
    "code": "subset2 = df[(df[\"type\"]==\"executeCodeCell\")|(df[\"type\"]==\"completeCodeCell\")]\nsubset2.loc[:,\"codeExecutionTime\"] = subset2.groupby([\"id\",\"code\"])[\"time\"].diff()",
    "id": "215c8d0ddd8f49ad8762ef98851b75e9",
    "order_count": 9,
    "time": "2020-07-11T03:51:22.439Z",
    "type": "executeCodeCell"
   },
   {
    "id": "215c8d0ddd8f49ad8762ef98851b75e9",
    "isPrintLuxWidget": false,
    "isPrintPandas": false,
    "time": "2020-07-11T03:51:22.456Z",
    "type": "completeCodeCell"
   },
   {
    "code": "codeCellsubset=pd.concat([subset1,subset2])",
    "id": "704b70a82a48442183ee0e5e4cddac9a",
    "order_count": 10,
    "time": "2020-07-11T03:51:23.750Z",
    "type": "executeCodeCell"
   },
   {
    "id": "704b70a82a48442183ee0e5e4cddac9a",
    "isPrintLuxWidget": false,
    "isPrintPandas": false,
    "time": "2020-07-11T03:51:23.766Z",
    "type": "completeCodeCell"
   },
   {
    "code": "#cellEvents is a dataframe with edit/complete/execute Code Cell all merged as one event, with computed queryFormulationTime and codeExecutionTime\ncellEvents = codeCellsubset.groupby('id').last()",
    "id": "84422ca85d144d098c8f3ad52aa36f57",
    "order_count": 11,
    "time": "2020-07-11T03:51:24.511Z",
    "type": "executeCodeCell"
   },
   {
    "id": "84422ca85d144d098c8f3ad52aa36f57",
    "isPrintLuxWidget": false,
    "isPrintPandas": false,
    "time": "2020-07-11T03:51:24.527Z",
    "type": "completeCodeCell"
   },
   {
    "code": "cellEvents",
    "id": "ec2a90072e984334830dde6e24bddef9",
    "order_count": 12,
    "time": "2020-07-11T03:51:25.463Z",
    "type": "executeCodeCell"
   },
   {
    "id": "ec2a90072e984334830dde6e24bddef9",
    "isPrintLuxWidget": false,
    "isPrintPandas": true,
    "time": "2020-07-11T03:51:25.487Z",
    "type": "completeCodeCell"
   },
   {
    "code": "subset2 = df[(df[\"type\"]==\"executeCodeCell\")|(df[\"type\"]==\"completeCodeCell\")]\nsubset2.loc[:,\"codeExecutionTime\"] = subset2.groupby([\"id\",\"code\"])[\"time\"].diff()",
    "id": "215c8d0ddd8f49ad8762ef98851b75e9",
    "order_count": 9,
    "time": "2020-07-11T03:53:43.953Z",
    "type": "editCodeCell"
   },
   {
    "code": "subset2 = df[(df[\"type\"]==\"executeCodeCell\")|(df[\"type\"]==\"completeCodeCell\")]\nsubset2.loc[:,\"codeExecutionTime\"] = subset2.groupby([\"code\",\"id\"])[\"time\"].diff()",
    "id": "215c8d0ddd8f49ad8762ef98851b75e9",
    "order_count": 9,
    "time": "2020-07-11T03:53:51.443Z",
    "type": "selectCodeCell"
   },
   {
    "code": "subset1 = df[(df[\"type\"]==\"editCodeCell\")|(df[\"type\"]==\"executeCodeCell\")]\nsubset1.loc[:,\"queryFormulationTime\"] = subset1.groupby([\"id\",\"code\"])[\"time\"].diff()",
    "id": "08d90942f20146918d52c45dee7217c4",
    "order_count": 8,
    "time": "2020-07-11T03:53:51.466Z",
    "type": "editCodeCell"
   },
   {
    "code": "subset1 = df[(df[\"type\"]==\"editCodeCell\")|(df[\"type\"]==\"executeCodeCell\")]\nsubset1.loc[:,\"queryFormulationTime\"] = subset1.groupby([\"code\",\"id\"])[\"time\"].diff()",
    "id": "08d90942f20146918d52c45dee7217c4",
    "order_count": 8,
    "time": "2020-07-11T03:53:57.996Z",
    "type": "executeCodeCell"
   },
   {
    "code": "subset1 = df[(df[\"type\"]==\"editCodeCell\")|(df[\"type\"]==\"executeCodeCell\")]\nsubset1.loc[:,\"queryFormulationTime\"] = subset1.groupby([\"code\",\"id\"])[\"time\"].diff()",
    "id": "08d90942f20146918d52c45dee7217c4",
    "order_count": 8,
    "time": "2020-07-11T03:53:57.997Z",
    "type": "selectCodeCell"
   },
   {
    "id": "08d90942f20146918d52c45dee7217c4",
    "isPrintLuxWidget": false,
    "isPrintPandas": false,
    "time": "2020-07-11T03:53:58.031Z",
    "type": "completeCodeCell"
   },
   {
    "code": "subset2 = df[(df[\"type\"]==\"executeCodeCell\")|(df[\"type\"]==\"completeCodeCell\")]\nsubset2.loc[:,\"codeExecutionTime\"] = subset2.groupby([\"code\",\"id\"])[\"time\"].diff()",
    "id": "215c8d0ddd8f49ad8762ef98851b75e9",
    "order_count": 9,
    "time": "2020-07-11T03:53:58.483Z",
    "type": "executeCodeCell"
   },
   {
    "id": "215c8d0ddd8f49ad8762ef98851b75e9",
    "isPrintLuxWidget": false,
    "isPrintPandas": false,
    "time": "2020-07-11T03:53:58.499Z",
    "type": "completeCodeCell"
   },
   {
    "code": "codeCellsubset=pd.concat([subset1,subset2])",
    "id": "704b70a82a48442183ee0e5e4cddac9a",
    "order_count": 10,
    "time": "2020-07-11T03:53:58.946Z",
    "type": "executeCodeCell"
   },
   {
    "id": "704b70a82a48442183ee0e5e4cddac9a",
    "isPrintLuxWidget": false,
    "isPrintPandas": false,
    "time": "2020-07-11T03:53:58.962Z",
    "type": "completeCodeCell"
   },
   {
    "code": "#cellEvents is a dataframe with edit/complete/execute Code Cell all merged as one event, with computed queryFormulationTime and codeExecutionTime\ncellEvents = codeCellsubset.groupby('id').last()",
    "id": "84422ca85d144d098c8f3ad52aa36f57",
    "order_count": 11,
    "time": "2020-07-11T03:53:59.458Z",
    "type": "executeCodeCell"
   },
   {
    "id": "84422ca85d144d098c8f3ad52aa36f57",
    "isPrintLuxWidget": false,
    "isPrintPandas": false,
    "time": "2020-07-11T03:53:59.475Z",
    "type": "completeCodeCell"
   },
   {
    "code": "cellEvents",
    "id": "ec2a90072e984334830dde6e24bddef9",
    "order_count": 12,
    "time": "2020-07-11T03:54:00.363Z",
    "type": "executeCodeCell"
   },
   {
    "id": "ec2a90072e984334830dde6e24bddef9",
    "isPrintLuxWidget": false,
    "isPrintPandas": true,
    "time": "2020-07-11T03:54:00.388Z",
    "type": "completeCodeCell"
   },
   {
    "code": "cellEvents",
    "id": "ec2a90072e984334830dde6e24bddef9",
    "order_count": 12,
    "time": "2020-07-11T03:54:21.563Z",
    "type": "executeCodeCell"
   },
   {
    "id": "ec2a90072e984334830dde6e24bddef9",
    "isPrintLuxWidget": false,
    "isPrintPandas": true,
    "time": "2020-07-11T03:54:21.587Z",
    "type": "completeCodeCell"
   },
   {
    "code": "df[df[\"order_count\"]==9]",
    "id": "cb9ba65d79734dc28821381ba64a3bff",
    "order_count": 13,
    "time": "2020-07-11T03:54:21.994Z",
    "type": "executeCodeCell"
   },
   {
    "id": "cb9ba65d79734dc28821381ba64a3bff",
    "isPrintLuxWidget": false,
    "isPrintPandas": true,
    "time": "2020-07-11T03:54:22.013Z",
    "type": "completeCodeCell"
   },
   {
    "code": "df[df[\"order_count\"]==9]",
    "id": "cb9ba65d79734dc28821381ba64a3bff",
    "order_count": 13,
    "time": "2020-07-11T03:54:25.570Z",
    "type": "editCodeCell"
   },
   {
    "code": "df[df[\"order_count\"]==9].groupby([\"code\",\"id\"])",
    "id": "cb9ba65d79734dc28821381ba64a3bff",
    "order_count": 13,
    "time": "2020-07-11T03:54:36.846Z",
    "type": "executeCodeCell"
   },
   {
    "code": "df[df[\"order_count\"]==9].groupby([\"code\",\"id\"])",
    "id": "cb9ba65d79734dc28821381ba64a3bff",
    "order_count": 13,
    "time": "2020-07-11T03:54:36.847Z",
    "type": "selectCodeCell"
   },
   {
    "id": "cb9ba65d79734dc28821381ba64a3bff",
    "isPrintLuxWidget": false,
    "isPrintPandas": false,
    "time": "2020-07-11T03:54:36.875Z",
    "type": "completeCodeCell"
   },
   {
    "code": "df[df[\"order_count\"]==9].groupby([\"code\",\"id\"])",
    "id": "cb9ba65d79734dc28821381ba64a3bff",
    "order_count": 13,
    "time": "2020-07-11T03:54:37.593Z",
    "type": "editCodeCell"
   },
   {
    "code": "df[df[\"order_count\"]==9].groupby([\"code\",\"id\"]).sum()",
    "id": "cb9ba65d79734dc28821381ba64a3bff",
    "order_count": 13,
    "time": "2020-07-11T03:54:39.325Z",
    "type": "executeCodeCell"
   },
   {
    "code": "df[df[\"order_count\"]==9].groupby([\"code\",\"id\"]).sum()",
    "id": "cb9ba65d79734dc28821381ba64a3bff",
    "order_count": 13,
    "time": "2020-07-11T03:54:39.326Z",
    "type": "selectCodeCell"
   },
   {
    "id": "cb9ba65d79734dc28821381ba64a3bff",
    "isPrintLuxWidget": false,
    "isPrintPandas": true,
    "time": "2020-07-11T03:54:39.356Z",
    "type": "completeCodeCell"
   },
   {
    "code": "df[df[\"order_count\"]==9].groupby([\"code\",\"id\"]).sum()",
    "id": "cb9ba65d79734dc28821381ba64a3bff",
    "order_count": 13,
    "time": "2020-07-11T03:54:40.217Z",
    "type": "editCodeCell"
   },
   {
    "code": "df[df[\"order_count\"]==9].groupby([\"code\",\"id\"]).sum()",
    "id": "cb9ba65d79734dc28821381ba64a3bff",
    "order_count": 13,
    "time": "2020-07-11T03:54:45.500Z",
    "type": "selectCodeCell"
   },
   {
    "code": "#cellEvents is a dataframe with edit/complete/execute Code Cell all merged as one event, with computed queryFormulationTime and codeExecutionTime\ncellEvents = codeCellsubset.groupby('id').last()",
    "id": "84422ca85d144d098c8f3ad52aa36f57",
    "order_count": 11,
    "time": "2020-07-11T03:54:45.522Z",
    "type": "editCodeCell"
   },
   {
    "code": "#cellEvents is a dataframe with edit/complete/execute Code Cell all merged as one event, with computed queryFormulationTime and codeExecutionTime\ncellEvents = codeCellsubset.groupby(['code','id']).last()",
    "id": "84422ca85d144d098c8f3ad52aa36f57",
    "order_count": 11,
    "time": "2020-07-11T03:54:55.867Z",
    "type": "executeCodeCell"
   },
   {
    "code": "#cellEvents is a dataframe with edit/complete/execute Code Cell all merged as one event, with computed queryFormulationTime and codeExecutionTime\ncellEvents = codeCellsubset.groupby(['code','id']).last()",
    "id": "84422ca85d144d098c8f3ad52aa36f57",
    "order_count": 11,
    "time": "2020-07-11T03:54:55.868Z",
    "type": "selectCodeCell"
   },
   {
    "id": "84422ca85d144d098c8f3ad52aa36f57",
    "isPrintLuxWidget": false,
    "isPrintPandas": false,
    "time": "2020-07-11T03:54:55.895Z",
    "type": "completeCodeCell"
   },
   {
    "code": "cellEvents",
    "id": "ec2a90072e984334830dde6e24bddef9",
    "order_count": 12,
    "time": "2020-07-11T03:54:56.318Z",
    "type": "executeCodeCell"
   },
   {
    "id": "ec2a90072e984334830dde6e24bddef9",
    "isPrintLuxWidget": false,
    "isPrintPandas": true,
    "time": "2020-07-11T03:54:56.340Z",
    "type": "completeCodeCell"
   },
   {
    "code": "df[df[\"order_count\"]==9].groupby([\"code\",\"id\"]).sum()",
    "id": "cb9ba65d79734dc28821381ba64a3bff",
    "order_count": 13,
    "time": "2020-07-11T03:55:11.119Z",
    "type": "editCodeCell"
   },
   {
    "code": "df[df[\"order_count\"]==9].groupby([\"code\",\"id\"]).sum()",
    "id": "cb9ba65d79734dc28821381ba64a3bff",
    "order_count": 13,
    "time": "2020-07-11T03:55:11.710Z",
    "type": "selectCodeCell"
   },
   {
    "code": "#cellEvents is a dataframe with edit/complete/execute Code Cell all merged as one event, with computed queryFormulationTime and codeExecutionTime\ncellEvents = codeCellsubset.groupby(['code','id']).last()",
    "id": "84422ca85d144d098c8f3ad52aa36f57",
    "order_count": 11,
    "time": "2020-07-11T03:56:13.099Z",
    "type": "editCodeCell"
   },
   {
    "code": "#cellEvents is a dataframe with edit/complete/execute Code Cell all merged as one event, with computed queryFormulationTime and codeExecutionTime\ncellEvents = codeCellsubset.groupby(['code','id']).last()",
    "id": "84422ca85d144d098c8f3ad52aa36f57",
    "order_count": 11,
    "time": "2020-07-11T03:56:14.526Z",
    "type": "selectCodeCell"
   },
   {
    "code": "cellEvents",
    "id": "ec2a90072e984334830dde6e24bddef9",
    "order_count": 12,
    "time": "2020-07-11T03:56:14.548Z",
    "type": "editCodeCell"
   },
   {
    "code": "cellEvents",
    "id": "ec2a90072e984334830dde6e24bddef9",
    "order_count": 12,
    "time": "2020-07-11T03:56:17.318Z",
    "type": "selectCodeCell"
   },
   {
    "code": "cellEvents",
    "id": "ec2a90072e984334830dde6e24bddef9",
    "order_count": 12,
    "time": "2020-07-11T03:58:36.473Z",
    "type": "editCodeCell"
   },
   {
    "code": "cellEvents.groupby(\"id\").count()",
    "id": "ec2a90072e984334830dde6e24bddef9",
    "order_count": 12,
    "time": "2020-07-11T03:58:43.724Z",
    "type": "executeCodeCell"
   },
   {
    "code": "cellEvents.groupby(\"id\").count()",
    "id": "ec2a90072e984334830dde6e24bddef9",
    "order_count": 12,
    "time": "2020-07-11T03:58:43.725Z",
    "type": "selectCodeCell"
   },
   {
    "id": "ec2a90072e984334830dde6e24bddef9",
    "isPrintLuxWidget": false,
    "isPrintPandas": true,
    "time": "2020-07-11T03:58:43.756Z",
    "type": "completeCodeCell"
   },
   {
    "code": "cellEvents.groupby(\"id\").count()",
    "id": "ec2a90072e984334830dde6e24bddef9",
    "order_count": 12,
    "time": "2020-07-11T03:58:45.927Z",
    "type": "editCodeCell"
   },
   {
    "code": "cellEvents",
    "id": "ec2a90072e984334830dde6e24bddef9",
    "order_count": 12,
    "time": "2020-07-11T03:58:53.717Z",
    "type": "executeCodeCell"
   },
   {
    "code": "cellEvents",
    "id": "ec2a90072e984334830dde6e24bddef9",
    "order_count": 12,
    "time": "2020-07-11T03:58:53.719Z",
    "type": "selectCodeCell"
   },
   {
    "id": "ec2a90072e984334830dde6e24bddef9",
    "isPrintLuxWidget": false,
    "isPrintPandas": true,
    "time": "2020-07-11T03:58:53.750Z",
    "type": "completeCodeCell"
   },
   {
    "code": "cellEvents",
    "id": "ec2a90072e984334830dde6e24bddef9",
    "order_count": 12,
    "time": "2020-07-11T03:59:35.707Z",
    "type": "editCodeCell"
   },
   {
    "code": "cellEvents.groupby(\"id\").count()",
    "id": "ec2a90072e984334830dde6e24bddef9",
    "order_count": 12,
    "time": "2020-07-11T03:59:39.116Z",
    "type": "selectCodeCell"
   },
   {
    "code": "df[df[\"order_count\"]==9].groupby([\"code\",\"id\"]).sum()",
    "id": "cb9ba65d79734dc28821381ba64a3bff",
    "order_count": 13,
    "time": "2020-07-11T04:00:54.861Z",
    "type": "editCodeCell"
   },
   {
    "code": "df[df[\"order_count\"]==9].groupby([\"code\",\"id\"]).sum()",
    "id": "cb9ba65d79734dc28821381ba64a3bff",
    "order_count": 13,
    "time": "2020-07-11T04:00:59.645Z",
    "type": "selectCodeCell"
   },
   {
    "code": "cellEvents.groupby(\"id\").count()",
    "id": "ec2a90072e984334830dde6e24bddef9",
    "order_count": 12,
    "time": "2020-07-11T04:00:59.989Z",
    "type": "editCodeCell"
   },
   {
    "code": "cellEvents.groupby(\"id\").count()",
    "id": "ec2a90072e984334830dde6e24bddef9",
    "order_count": 12,
    "time": "2020-07-11T04:01:02.191Z",
    "type": "executeCodeCell"
   },
   {
    "code": "cellEvents.groupby(\"id\").count()",
    "id": "ec2a90072e984334830dde6e24bddef9",
    "order_count": 12,
    "time": "2020-07-11T04:01:02.192Z",
    "type": "selectCodeCell"
   },
   {
    "id": "ec2a90072e984334830dde6e24bddef9",
    "isPrintLuxWidget": false,
    "isPrintPandas": true,
    "time": "2020-07-11T04:01:02.220Z",
    "type": "completeCodeCell"
   },
   {
    "code": "cellEvents.groupby(\"id\").count()",
    "id": "ec2a90072e984334830dde6e24bddef9",
    "order_count": 12,
    "time": "2020-07-11T04:01:08.398Z",
    "type": "editCodeCell"
   },
   {
    "code": "cellEvents",
    "id": "ec2a90072e984334830dde6e24bddef9",
    "order_count": 12,
    "time": "2020-07-11T04:01:09.729Z",
    "type": "executeCodeCell"
   },
   {
    "code": "cellEvents",
    "id": "ec2a90072e984334830dde6e24bddef9",
    "order_count": 12,
    "time": "2020-07-11T04:01:09.731Z",
    "type": "selectCodeCell"
   },
   {
    "id": "ec2a90072e984334830dde6e24bddef9",
    "isPrintLuxWidget": false,
    "isPrintPandas": true,
    "time": "2020-07-11T04:01:09.759Z",
    "type": "completeCodeCell"
   },
   {
    "code": "cellEvents",
    "id": "ec2a90072e984334830dde6e24bddef9",
    "order_count": 12,
    "time": "2020-07-11T04:01:24.030Z",
    "type": "editCodeCell"
   },
   {
    "code": "cellEvents.groupby(\"id\").count()",
    "id": "ec2a90072e984334830dde6e24bddef9",
    "order_count": 12,
    "time": "2020-07-11T04:01:26.402Z",
    "type": "executeCodeCell"
   },
   {
    "code": "cellEvents.groupby(\"id\").count()",
    "id": "ec2a90072e984334830dde6e24bddef9",
    "order_count": 12,
    "time": "2020-07-11T04:01:26.403Z",
    "type": "selectCodeCell"
   },
   {
    "id": "ec2a90072e984334830dde6e24bddef9",
    "isPrintLuxWidget": false,
    "isPrintPandas": true,
    "time": "2020-07-11T04:01:26.433Z",
    "type": "completeCodeCell"
   },
   {
    "code": "cellEvents.groupby(\"id\").count()",
    "id": "ec2a90072e984334830dde6e24bddef9",
    "order_count": 12,
    "time": "2020-07-11T04:01:31.787Z",
    "type": "editCodeCell"
   },
   {
    "code": "cellEvents",
    "id": "ec2a90072e984334830dde6e24bddef9",
    "order_count": 12,
    "time": "2020-07-11T04:01:34.587Z",
    "type": "executeCodeCell"
   },
   {
    "code": "cellEvents",
    "id": "ec2a90072e984334830dde6e24bddef9",
    "order_count": 12,
    "time": "2020-07-11T04:01:34.588Z",
    "type": "selectCodeCell"
   },
   {
    "id": "ec2a90072e984334830dde6e24bddef9",
    "isPrintLuxWidget": false,
    "isPrintPandas": true,
    "time": "2020-07-11T04:01:34.620Z",
    "type": "completeCodeCell"
   },
   {
    "code": "cellEvents",
    "id": "ec2a90072e984334830dde6e24bddef9",
    "order_count": 12,
    "time": "2020-07-11T04:02:39.313Z",
    "type": "editCodeCell"
   },
   {
    "code": "cellEvents",
    "id": "ec2a90072e984334830dde6e24bddef9",
    "order_count": 12,
    "time": "2020-07-11T04:02:40.981Z",
    "type": "executeCodeCell"
   },
   {
    "code": "cellEvents",
    "id": "ec2a90072e984334830dde6e24bddef9",
    "order_count": 12,
    "time": "2020-07-11T04:02:40.981Z",
    "type": "selectCodeCell"
   },
   {
    "id": "ec2a90072e984334830dde6e24bddef9",
    "isPrintLuxWidget": false,
    "isPrintPandas": true,
    "time": "2020-07-11T04:02:41.012Z",
    "type": "completeCodeCell"
   },
   {
    "code": "cellEvents",
    "id": "ec2a90072e984334830dde6e24bddef9",
    "order_count": 12,
    "time": "2020-07-11T04:02:47.686Z",
    "type": "editCodeCell"
   },
   {
    "code": "cellEvents",
    "id": "ec2a90072e984334830dde6e24bddef9",
    "order_count": 12,
    "time": "2020-07-11T04:03:01.016Z",
    "type": "selectCodeCell"
   },
   {
    "code": "df[df[\"order_count\"]==9].groupby([\"code\",\"id\"]).sum()",
    "id": "cb9ba65d79734dc28821381ba64a3bff",
    "order_count": 13,
    "time": "2020-07-11T04:03:11.065Z",
    "type": "editCodeCell"
   },
   {
    "code": "df[df[\"order_count\"]==9].groupby([\"code\",\"id\"]).sum()",
    "id": "cb9ba65d79734dc28821381ba64a3bff",
    "order_count": 13,
    "time": "2020-07-11T04:03:17.438Z",
    "type": "executeCodeCell"
   },
   {
    "code": "df[df[\"order_count\"]==9].groupby([\"code\",\"id\"]).sum()",
    "id": "cb9ba65d79734dc28821381ba64a3bff",
    "order_count": 13,
    "time": "2020-07-11T04:03:17.438Z",
    "type": "selectCodeCell"
   },
   {
    "id": "cb9ba65d79734dc28821381ba64a3bff",
    "isPrintLuxWidget": false,
    "isPrintPandas": true,
    "time": "2020-07-11T04:03:17.476Z",
    "type": "completeCodeCell"
   },
   {
    "code": "cellEvents",
    "id": "ec2a90072e984334830dde6e24bddef9",
    "order_count": null,
    "time": "2020-07-11T04:03:42.807Z",
    "type": "deleteCodeCell"
   },
   {
    "code": "",
    "id": "7d3d11549c9e406c8fe054632fa33db3",
    "order_count": 12,
    "time": "2020-07-11T04:03:44.713Z",
    "type": "editCodeCell"
   },
   {
    "code": "cellEvents",
    "id": "7d3d11549c9e406c8fe054632fa33db3",
    "order_count": 12,
    "time": "2020-07-11T04:03:46.510Z",
    "type": "executeCodeCell"
   },
   {
    "code": "cellEvents",
    "id": "7d3d11549c9e406c8fe054632fa33db3",
    "order_count": 12,
    "time": "2020-07-11T04:03:46.511Z",
    "type": "selectCodeCell"
   },
   {
    "id": "7d3d11549c9e406c8fe054632fa33db3",
    "isPrintLuxWidget": false,
    "isPrintPandas": true,
    "time": "2020-07-11T04:03:46.539Z",
    "type": "completeCodeCell"
   },
   {
    "code": "cellEvents",
    "id": "7d3d11549c9e406c8fe054632fa33db3",
    "order_count": 12,
    "time": "2020-07-11T04:03:48.306Z",
    "type": "editCodeCell"
   },
   {
    "code": "print (\"Total number of dataframe prints:\",)",
    "id": "7d3d11549c9e406c8fe054632fa33db3",
    "order_count": 12,
    "time": "2020-07-11T04:04:18.480Z",
    "type": "selectCodeCell"
   },
   {
    "code": "print (\"Total number of dataframe prints:\",)",
    "id": "7d3d11549c9e406c8fe054632fa33db3",
    "order_count": 12,
    "time": "2020-07-11T04:04:20.112Z",
    "type": "editCodeCell"
   },
   {
    "code": "print (\"Total number of dataframe prints:\",)",
    "id": "7d3d11549c9e406c8fe054632fa33db3",
    "order_count": 12,
    "time": "2020-07-11T04:04:22.645Z",
    "type": "selectCodeCell"
   },
   {
    "code": "#cellEvents is a dataframe with edit/complete/execute Code Cell all merged as one event, with computed queryFormulationTime and codeExecutionTime\ncellEvents = codeCellsubset.groupby(['code','id']).last()",
    "id": "84422ca85d144d098c8f3ad52aa36f57",
    "order_count": 11,
    "time": "2020-07-11T04:04:22.668Z",
    "type": "editCodeCell"
   },
   {
    "code": "#cellEvents is a dataframe with edit/complete/execute Code Cell all merged as one event, with computed queryFormulationTime and codeExecutionTime\ncellEvents = codeCellsubset.groupby(['code','id']).last()",
    "id": "84422ca85d144d098c8f3ad52aa36f57",
    "order_count": 11,
    "time": "2020-07-11T04:04:23.955Z",
    "type": "selectCodeCell"
   },
   {
    "code": "",
    "id": "779e06c9c6644874ace3cdfd821b03bf",
    "order_count": 12,
    "time": "2020-07-11T04:04:24.801Z",
    "type": "editCodeCell"
   },
   {
    "code": "cellEvents",
    "id": "779e06c9c6644874ace3cdfd821b03bf",
    "order_count": 12,
    "time": "2020-07-11T04:04:26.287Z",
    "type": "executeCodeCell"
   },
   {
    "code": "cellEvents",
    "id": "779e06c9c6644874ace3cdfd821b03bf",
    "order_count": 12,
    "time": "2020-07-11T04:04:26.288Z",
    "type": "selectCodeCell"
   },
   {
    "id": "779e06c9c6644874ace3cdfd821b03bf",
    "isPrintLuxWidget": false,
    "isPrintPandas": true,
    "time": "2020-07-11T04:04:26.320Z",
    "type": "completeCodeCell"
   },
   {
    "code": "cellEvents",
    "id": "779e06c9c6644874ace3cdfd821b03bf",
    "order_count": 12,
    "time": "2020-07-11T04:04:27.140Z",
    "type": "editCodeCell"
   },
   {
    "code": "cellEvents",
    "id": "779e06c9c6644874ace3cdfd821b03bf",
    "order_count": 12,
    "time": "2020-07-11T04:05:10.142Z",
    "type": "selectCodeCell"
   },
   {
    "code": "cellEvents",
    "id": "779e06c9c6644874ace3cdfd821b03bf",
    "order_count": 12,
    "time": "2020-07-11T04:05:26.349Z",
    "type": "editCodeCell"
   },
   {
    "code": "cellEvents",
    "id": "779e06c9c6644874ace3cdfd821b03bf",
    "order_count": 12,
    "time": "2020-07-11T04:05:33.470Z",
    "type": "selectCodeCell"
   },
   {
    "code": "cellEvents",
    "id": "779e06c9c6644874ace3cdfd821b03bf",
    "order_count": 12,
    "time": "2020-07-11T04:05:51.919Z",
    "type": "editCodeCell"
   },
   {
    "code": "cellEvents = cellEvents.reset_index()",
    "id": "779e06c9c6644874ace3cdfd821b03bf",
    "order_count": 12,
    "time": "2020-07-11T04:06:00.769Z",
    "type": "executeCodeCell"
   },
   {
    "code": "cellEvents = cellEvents.reset_index()",
    "id": "779e06c9c6644874ace3cdfd821b03bf",
    "order_count": 12,
    "time": "2020-07-11T04:06:00.770Z",
    "type": "selectCodeCell"
   },
   {
    "id": "779e06c9c6644874ace3cdfd821b03bf",
    "isPrintLuxWidget": false,
    "isPrintPandas": false,
    "time": "2020-07-11T04:06:00.802Z",
    "type": "completeCodeCell"
   },
   {
    "code": "",
    "id": "40315e892e904550840906a9704d3008",
    "order_count": 13,
    "time": "2020-07-11T04:06:01.853Z",
    "type": "editCodeCell"
   },
   {
    "code": "cellEvents",
    "id": "40315e892e904550840906a9704d3008",
    "order_count": 13,
    "time": "2020-07-11T04:06:02.834Z",
    "type": "executeCodeCell"
   },
   {
    "code": "cellEvents",
    "id": "40315e892e904550840906a9704d3008",
    "order_count": 13,
    "time": "2020-07-11T04:06:02.835Z",
    "type": "selectCodeCell"
   },
   {
    "id": "40315e892e904550840906a9704d3008",
    "isPrintLuxWidget": false,
    "isPrintPandas": true,
    "time": "2020-07-11T04:06:02.866Z",
    "type": "completeCodeCell"
   },
   {
    "code": "cellEvents",
    "id": "40315e892e904550840906a9704d3008",
    "order_count": 13,
    "time": "2020-07-11T04:06:04.712Z",
    "type": "editCodeCell"
   },
   {
    "code": "cellEvents",
    "id": "40315e892e904550840906a9704d3008",
    "order_count": 13,
    "time": "2020-07-11T04:06:07.413Z",
    "type": "selectCodeCell"
   },
   {
    "code": "cellEvents",
    "id": "40315e892e904550840906a9704d3008",
    "order_count": 13,
    "time": "2020-07-11T04:06:12.518Z",
    "type": "editCodeCell"
   },
   {
    "code": "cellEvents.type = \"CodeCellEvent\"",
    "id": "40315e892e904550840906a9704d3008",
    "order_count": 13,
    "time": "2020-07-11T04:06:31.308Z",
    "type": "executeCodeCell"
   },
   {
    "code": "cellEvents.type = \"CodeCellEvent\"",
    "id": "40315e892e904550840906a9704d3008",
    "order_count": 13,
    "time": "2020-07-11T04:06:31.309Z",
    "type": "selectCodeCell"
   },
   {
    "id": "40315e892e904550840906a9704d3008",
    "isPrintLuxWidget": false,
    "isPrintPandas": false,
    "time": "2020-07-11T04:06:31.342Z",
    "type": "completeCodeCell"
   },
   {
    "code": "",
    "id": "992395ddf3ee4c86aba35f794d9de7f1",
    "order_count": 14,
    "time": "2020-07-11T04:06:32.221Z",
    "type": "editCodeCell"
   },
   {
    "code": "cellEvents",
    "id": "992395ddf3ee4c86aba35f794d9de7f1",
    "order_count": 14,
    "time": "2020-07-11T04:06:34.635Z",
    "type": "executeCodeCell"
   },
   {
    "code": "cellEvents",
    "id": "992395ddf3ee4c86aba35f794d9de7f1",
    "order_count": 14,
    "time": "2020-07-11T04:06:34.636Z",
    "type": "selectCodeCell"
   },
   {
    "id": "992395ddf3ee4c86aba35f794d9de7f1",
    "isPrintLuxWidget": false,
    "isPrintPandas": true,
    "time": "2020-07-11T04:06:34.669Z",
    "type": "completeCodeCell"
   },
   {
    "code": "cellEvents.type = \"CodeCellEvent\"",
    "id": "40315e892e904550840906a9704d3008",
    "order_count": null,
    "time": "2020-07-11T04:06:37.558Z",
    "type": "deleteCodeCell"
   },
   {
    "code": "cellEvents = cellEvents.reset_index()\n\ncellEvents.type = \"CodeCellEvent\"",
    "id": "779e06c9c6644874ace3cdfd821b03bf",
    "order_count": 12,
    "time": "2020-07-11T04:06:38.214Z",
    "type": "editCodeCell"
   },
   {
    "code": "cellEvents = cellEvents.reset_index()\ncellEvents.type = \"CodeCellEvent\"",
    "id": "779e06c9c6644874ace3cdfd821b03bf",
    "order_count": 12,
    "time": "2020-07-11T04:06:43.218Z",
    "type": "selectCodeCell"
   },
   {
    "code": "cellEvents = cellEvents.reset_index()\ncellEvents.type = \"CodeCellEvent\"",
    "id": "779e06c9c6644874ace3cdfd821b03bf",
    "order_count": 11,
    "time": "2020-07-11T04:06:44.543Z",
    "type": "editCodeCell"
   },
   {
    "code": "",
    "id": "779e06c9c6644874ace3cdfd821b03bf",
    "order_count": 11,
    "time": "2020-07-11T04:06:48.272Z",
    "type": "selectCodeCell"
   },
   {
    "code": "",
    "id": "779e06c9c6644874ace3cdfd821b03bf",
    "order_count": null,
    "time": "2020-07-11T04:06:48.577Z",
    "type": "deleteCodeCell"
   },
   {
    "code": "#cellEvents is a dataframe with edit/complete/execute Code Cell all merged as one event, with computed queryFormulationTime and codeExecutionTime\ncellEvents = codeCellsubset.groupby(['code','id']).last()",
    "id": "84422ca85d144d098c8f3ad52aa36f57",
    "order_count": 11,
    "time": "2020-07-11T04:06:49.304Z",
    "type": "editCodeCell"
   },
   {
    "code": "#cellEvents is a dataframe with edit/complete/execute Code Cell all merged as one event, with computed queryFormulationTime and codeExecutionTime\ncellEvents = codeCellsubset.groupby(['code','id']).last()\ncellEvents = cellEvents.reset_index()\ncellEvents.type = \"CodeCellEvent\"",
    "id": "84422ca85d144d098c8f3ad52aa36f57",
    "order_count": 11,
    "time": "2020-07-11T04:06:51.011Z",
    "type": "executeCodeCell"
   },
   {
    "code": "#cellEvents is a dataframe with edit/complete/execute Code Cell all merged as one event, with computed queryFormulationTime and codeExecutionTime\ncellEvents = codeCellsubset.groupby(['code','id']).last()\ncellEvents = cellEvents.reset_index()\ncellEvents.type = \"CodeCellEvent\"",
    "id": "84422ca85d144d098c8f3ad52aa36f57",
    "order_count": 11,
    "time": "2020-07-11T04:06:51.012Z",
    "type": "selectCodeCell"
   },
   {
    "id": "84422ca85d144d098c8f3ad52aa36f57",
    "isPrintLuxWidget": false,
    "isPrintPandas": false,
    "time": "2020-07-11T04:06:51.042Z",
    "type": "completeCodeCell"
   },
   {
    "code": "cellEvents",
    "id": "992395ddf3ee4c86aba35f794d9de7f1",
    "order_count": 12,
    "time": "2020-07-11T04:06:51.564Z",
    "type": "executeCodeCell"
   },
   {
    "id": "992395ddf3ee4c86aba35f794d9de7f1",
    "isPrintLuxWidget": false,
    "isPrintPandas": true,
    "time": "2020-07-11T04:06:51.588Z",
    "type": "completeCodeCell"
   },
   {
    "code": "",
    "id": "f1c6665118904af79425278635a6302f",
    "order_count": 13,
    "time": "2020-07-11T04:07:02.270Z",
    "type": "editCodeCell"
   },
   {
    "code": "cellEvents",
    "id": "f1c6665118904af79425278635a6302f",
    "order_count": 13,
    "time": "2020-07-11T04:07:06.108Z",
    "type": "executeCodeCell"
   },
   {
    "code": "cellEvents",
    "id": "f1c6665118904af79425278635a6302f",
    "order_count": 13,
    "time": "2020-07-11T04:07:06.109Z",
    "type": "selectCodeCell"
   },
   {
    "id": "f1c6665118904af79425278635a6302f",
    "isPrintLuxWidget": false,
    "isPrintPandas": true,
    "time": "2020-07-11T04:07:06.143Z",
    "type": "completeCodeCell"
   },
   {
    "code": "cellEvents",
    "id": "f1c6665118904af79425278635a6302f",
    "order_count": 13,
    "time": "2020-07-11T04:07:07.167Z",
    "type": "editCodeCell"
   },
   {
    "code": "cellEvents[\"isPrintLux\"]",
    "id": "f1c6665118904af79425278635a6302f",
    "order_count": 13,
    "time": "2020-07-11T04:07:21.315Z",
    "type": "selectCodeCell"
   },
   {
    "code": "cellEvents[\"isPrintLux\"]",
    "id": "f1c6665118904af79425278635a6302f",
    "order_count": 13,
    "time": "2020-07-11T04:12:56.631Z",
    "type": "editCodeCell"
   },
   {
    "code": "cellEvents[\"isPrintLux\"]",
    "id": "f1c6665118904af79425278635a6302f",
    "order_count": 13,
    "time": "2020-07-11T04:12:57.068Z",
    "type": "selectCodeCell"
   },
   {
    "code": "cellEvents",
    "id": "992395ddf3ee4c86aba35f794d9de7f1",
    "order_count": null,
    "time": "2020-07-11T04:13:26.311Z",
    "type": "deleteCodeCell"
   },
   {
    "code": "print (\"Total number of dataframe prints:\",)",
    "id": "7d3d11549c9e406c8fe054632fa33db3",
    "order_count": 13,
    "time": "2020-07-11T04:13:37.484Z",
    "type": "editCodeCell"
   },
   {
    "code": "print (\"Total number of dataframe prints:\",)",
    "id": "7d3d11549c9e406c8fe054632fa33db3",
    "order_count": 13,
    "time": "2020-07-11T04:13:38.721Z",
    "type": "executeCodeCell"
   },
   {
    "code": "print (\"Total number of dataframe prints:\",)",
    "id": "7d3d11549c9e406c8fe054632fa33db3",
    "order_count": 13,
    "time": "2020-07-11T04:13:38.723Z",
    "type": "selectCodeCell"
   },
   {
    "id": "7d3d11549c9e406c8fe054632fa33db3",
    "isPrintLuxWidget": false,
    "isPrintPandas": false,
    "time": "2020-07-11T04:13:38.762Z",
    "type": "completeCodeCell"
   },
   {
    "code": "print (\"Total number of dataframe prints:\",)",
    "id": "7d3d11549c9e406c8fe054632fa33db3",
    "order_count": 13,
    "time": "2020-07-11T04:13:39.825Z",
    "type": "editCodeCell"
   },
   {
    "code": "print (\"Total number of dataframe prints:\",)",
    "id": "7d3d11549c9e406c8fe054632fa33db3",
    "order_count": 13,
    "time": "2020-07-11T04:13:41.408Z",
    "type": "selectCodeCell"
   },
   {
    "code": "df[df[\"order_count\"]==9].groupby([\"code\",\"id\"]).sum()",
    "id": "cb9ba65d79734dc28821381ba64a3bff",
    "order_count": 14,
    "time": "2020-07-11T04:13:41.436Z",
    "type": "editCodeCell"
   },
   {
    "code": "df[df[\"order_count\"]==9].groupby([\"code\",\"id\"]).sum()",
    "id": "cb9ba65d79734dc28821381ba64a3bff",
    "order_count": 14,
    "time": "2020-07-11T04:14:07.509Z",
    "type": "selectCodeCell"
   },
   {
    "code": "print (\"Total number of dataframe prints:\",)",
    "id": "7d3d11549c9e406c8fe054632fa33db3",
    "order_count": 13,
    "time": "2020-07-11T04:14:07.526Z",
    "type": "editCodeCell"
   },
   {
    "code": "print (\"Total number of dataframe prints:\",)",
    "id": "7d3d11549c9e406c8fe054632fa33db3",
    "order_count": 13,
    "time": "2020-07-11T04:14:08.530Z",
    "type": "selectCodeCell"
   },
   {
    "code": "print (\"Total number of dataframe prints:\",)",
    "id": "7d3d11549c9e406c8fe054632fa33db3",
    "order_count": 13,
    "time": "2020-07-11T04:14:21.496Z",
    "type": "editCodeCell"
   },
   {
    "code": "print (\"Total number of dataframe prints:\",)",
    "id": "7d3d11549c9e406c8fe054632fa33db3",
    "order_count": 13,
    "time": "2020-07-11T04:14:26.029Z",
    "type": "selectCodeCell"
   },
   {
    "code": "print (\"Total number of dataframe prints:\",)",
    "id": "7d3d11549c9e406c8fe054632fa33db3",
    "order_count": 13,
    "time": "2020-07-11T04:14:51.702Z",
    "type": "editCodeCell"
   },
   {
    "code": "print (\"Total number of dataframe prints:\",)",
    "id": "7d3d11549c9e406c8fe054632fa33db3",
    "order_count": 13,
    "time": "2020-07-11T04:15:01.463Z",
    "type": "selectCodeCell"
   },
   {
    "code": "print (\"Total number of dataframe prints:\",)",
    "id": "7d3d11549c9e406c8fe054632fa33db3",
    "order_count": 13,
    "time": "2020-07-11T04:15:07.323Z",
    "type": "editCodeCell"
   },
   {
    "code": "print (\"Total number of dataframe prints:\",)",
    "id": "7d3d11549c9e406c8fe054632fa33db3",
    "order_count": 13,
    "time": "2020-07-11T04:15:08.956Z",
    "type": "selectCodeCell"
   },
   {
    "code": "print (\"Total number of dataframe prints:\",)",
    "id": "7d3d11549c9e406c8fe054632fa33db3",
    "order_count": 13,
    "time": "2020-07-11T04:15:21.475Z",
    "type": "editCodeCell"
   },
   {
    "code": "print (\"Total number of dataframe prints:\",)",
    "id": "7d3d11549c9e406c8fe054632fa33db3",
    "order_count": 13,
    "time": "2020-07-11T04:15:24.592Z",
    "type": "selectCodeCell"
   },
   {
    "code": "",
    "id": "00bcba1ab0074ec4b375c2b05cbd29a0",
    "order_count": 15,
    "time": "2020-07-11T04:15:55.603Z",
    "type": "editCodeCell"
   },
   {
    "code": "df",
    "id": "00bcba1ab0074ec4b375c2b05cbd29a0",
    "order_count": 15,
    "time": "2020-07-11T04:15:57.059Z",
    "type": "executeCodeCell"
   },
   {
    "code": "df",
    "id": "00bcba1ab0074ec4b375c2b05cbd29a0",
    "order_count": 15,
    "time": "2020-07-11T04:15:57.060Z",
    "type": "selectCodeCell"
   },
   {
    "code": "",
    "id": "c921924cdfbe4fd28207e1563fe5260c",
    "order_count": 16,
    "time": "2020-07-11T04:15:57.103Z",
    "type": "editCodeCell"
   },
   {
    "id": "00bcba1ab0074ec4b375c2b05cbd29a0",
    "isPrintLuxWidget": false,
    "isPrintPandas": true,
    "time": "2020-07-11T04:15:57.120Z",
    "type": "completeCodeCell"
   },
   {
    "code": "",
    "id": "c921924cdfbe4fd28207e1563fe5260c",
    "order_count": 16,
    "time": "2020-07-11T04:16:01.954Z",
    "type": "selectCodeCell"
   },
   {
    "code": "df",
    "id": "00bcba1ab0074ec4b375c2b05cbd29a0",
    "order_count": 15,
    "time": "2020-07-11T04:16:01.979Z",
    "type": "editCodeCell"
   },
   {
    "code": "df.type.unique()",
    "id": "00bcba1ab0074ec4b375c2b05cbd29a0",
    "order_count": 15,
    "time": "2020-07-11T04:16:15.509Z",
    "type": "executeCodeCell"
   },
   {
    "code": "df.type.unique()",
    "id": "00bcba1ab0074ec4b375c2b05cbd29a0",
    "order_count": 15,
    "time": "2020-07-11T04:16:15.511Z",
    "type": "selectCodeCell"
   },
   {
    "id": "00bcba1ab0074ec4b375c2b05cbd29a0",
    "isPrintLuxWidget": false,
    "isPrintPandas": false,
    "time": "2020-07-11T04:16:15.554Z",
    "type": "completeCodeCell"
   },
   {
    "code": "",
    "id": "c921924cdfbe4fd28207e1563fe5260c",
    "order_count": 16,
    "time": "2020-07-11T04:16:17.256Z",
    "type": "editCodeCell"
   },
   {
    "code": "df[df[\"clickVis\"]]",
    "id": "c921924cdfbe4fd28207e1563fe5260c",
    "order_count": 16,
    "time": "2020-07-11T04:16:55.619Z",
    "type": "selectCodeCell"
   },
   {
    "code": "",
    "id": "1ece98f864474723a75fe024dc626db9",
    "order_count": 16,
    "time": "2020-07-11T04:16:57.057Z",
    "type": "editCodeCell"
   },
   {
    "code": "df",
    "id": "1ece98f864474723a75fe024dc626db9",
    "order_count": 16,
    "time": "2020-07-11T04:16:57.565Z",
    "type": "executeCodeCell"
   },
   {
    "code": "df",
    "id": "1ece98f864474723a75fe024dc626db9",
    "order_count": 16,
    "time": "2020-07-11T04:16:57.566Z",
    "type": "selectCodeCell"
   },
   {
    "id": "1ece98f864474723a75fe024dc626db9",
    "isPrintLuxWidget": false,
    "isPrintPandas": true,
    "time": "2020-07-11T04:16:57.597Z",
    "type": "completeCodeCell"
   },
   {
    "code": "df",
    "id": "1ece98f864474723a75fe024dc626db9",
    "order_count": 16,
    "time": "2020-07-11T04:16:58.843Z",
    "type": "editCodeCell"
   },
   {
    "code": "df",
    "id": "1ece98f864474723a75fe024dc626db9",
    "order_count": 16,
    "time": "2020-07-11T04:17:01.163Z",
    "type": "selectCodeCell"
   },
   {
    "code": "df",
    "id": "1ece98f864474723a75fe024dc626db9",
    "order_count": null,
    "time": "2020-07-11T04:17:01.693Z",
    "type": "deleteCodeCell"
   },
   {
    "code": "df[df[\"clickVis\"]]",
    "id": "c921924cdfbe4fd28207e1563fe5260c",
    "order_count": 16,
    "time": "2020-07-11T04:17:03.280Z",
    "type": "editCodeCell"
   },
   {
    "code": "df[df[\"type\"]==\"clickVis\"]",
    "id": "c921924cdfbe4fd28207e1563fe5260c",
    "order_count": 16,
    "time": "2020-07-11T04:17:11.499Z",
    "type": "executeCodeCell"
   },
   {
    "code": "df[df[\"type\"]==\"clickVis\"]",
    "id": "c921924cdfbe4fd28207e1563fe5260c",
    "order_count": 16,
    "time": "2020-07-11T04:17:11.500Z",
    "type": "selectCodeCell"
   },
   {
    "code": "",
    "id": "85718a07be4c43478614fb5da549fe51",
    "order_count": 17,
    "time": "2020-07-11T04:17:11.536Z",
    "type": "editCodeCell"
   },
   {
    "id": "c921924cdfbe4fd28207e1563fe5260c",
    "isPrintLuxWidget": false,
    "isPrintPandas": true,
    "time": "2020-07-11T04:17:11.555Z",
    "type": "completeCodeCell"
   },
   {
    "code": "",
    "id": "85718a07be4c43478614fb5da549fe51",
    "order_count": 17,
    "time": "2020-07-11T04:17:12.086Z",
    "type": "selectCodeCell"
   },
   {
    "code": "df[df[\"type\"]==\"clickVis\"]",
    "id": "c921924cdfbe4fd28207e1563fe5260c",
    "order_count": 16,
    "time": "2020-07-11T04:17:12.116Z",
    "type": "editCodeCell"
   },
   {
    "code": "df[df[\"type\"]==\"clickVis\"].param",
    "id": "c921924cdfbe4fd28207e1563fe5260c",
    "order_count": 16,
    "time": "2020-07-11T04:17:17.511Z",
    "type": "executeCodeCell"
   },
   {
    "code": "df[df[\"type\"]==\"clickVis\"].param",
    "id": "c921924cdfbe4fd28207e1563fe5260c",
    "order_count": 16,
    "time": "2020-07-11T04:17:17.514Z",
    "type": "selectCodeCell"
   },
   {
    "id": "c921924cdfbe4fd28207e1563fe5260c",
    "isPrintLuxWidget": false,
    "isPrintPandas": false,
    "time": "2020-07-11T04:17:17.549Z",
    "type": "completeCodeCell"
   },
   {
    "code": "df[df[\"type\"]==\"clickVis\"].param",
    "id": "c921924cdfbe4fd28207e1563fe5260c",
    "order_count": 16,
    "time": "2020-07-11T04:17:20.222Z",
    "type": "editCodeCell"
   },
   {
    "code": "df[df[\"type\"]==\"clickVis\"].param.value",
    "id": "c921924cdfbe4fd28207e1563fe5260c",
    "order_count": 16,
    "time": "2020-07-11T04:17:23.316Z",
    "type": "executeCodeCell"
   },
   {
    "code": "df[df[\"type\"]==\"clickVis\"].param.value",
    "id": "c921924cdfbe4fd28207e1563fe5260c",
    "order_count": 16,
    "time": "2020-07-11T04:17:23.317Z",
    "type": "selectCodeCell"
   },
   {
    "id": "c921924cdfbe4fd28207e1563fe5260c",
    "isPrintLuxWidget": false,
    "isPrintPandas": false,
    "time": "2020-07-11T04:17:23.428Z",
    "type": "completeCodeCell"
   },
   {
    "code": "df[df[\"type\"]==\"clickVis\"].param.value",
    "id": "c921924cdfbe4fd28207e1563fe5260c",
    "order_count": 16,
    "time": "2020-07-11T04:17:24.082Z",
    "type": "editCodeCell"
   },
   {
    "code": "df[df[\"type\"]==\"clickVis\"].param.values",
    "id": "c921924cdfbe4fd28207e1563fe5260c",
    "order_count": 16,
    "time": "2020-07-11T04:17:27.087Z",
    "type": "executeCodeCell"
   },
   {
    "code": "df[df[\"type\"]==\"clickVis\"].param.values",
    "id": "c921924cdfbe4fd28207e1563fe5260c",
    "order_count": 16,
    "time": "2020-07-11T04:17:27.088Z",
    "type": "selectCodeCell"
   },
   {
    "id": "c921924cdfbe4fd28207e1563fe5260c",
    "isPrintLuxWidget": false,
    "isPrintPandas": false,
    "time": "2020-07-11T04:17:27.118Z",
    "type": "completeCodeCell"
   },
   {
    "code": "df[df[\"type\"]==\"clickVis\"].param.values",
    "id": "c921924cdfbe4fd28207e1563fe5260c",
    "order_count": 16,
    "time": "2020-07-11T04:17:27.961Z",
    "type": "editCodeCell"
   },
   {
    "code": "df[df[\"type\"]==\"clickVis\"].param.values[0]",
    "id": "c921924cdfbe4fd28207e1563fe5260c",
    "order_count": 16,
    "time": "2020-07-11T04:17:29.958Z",
    "type": "executeCodeCell"
   },
   {
    "code": "df[df[\"type\"]==\"clickVis\"].param.values[0]",
    "id": "c921924cdfbe4fd28207e1563fe5260c",
    "order_count": 16,
    "time": "2020-07-11T04:17:29.959Z",
    "type": "selectCodeCell"
   },
   {
    "id": "c921924cdfbe4fd28207e1563fe5260c",
    "isPrintLuxWidget": false,
    "isPrintPandas": false,
    "time": "2020-07-11T04:17:29.988Z",
    "type": "completeCodeCell"
   },
   {
    "code": "",
    "id": "47a63cdfcfa947d690a6cab757dd9bbb",
    "order_count": 16,
    "time": "2020-07-11T04:17:47.194Z",
    "type": "editCodeCell"
   },
   {
    "code": "df[exportBtnClick",
    "id": "47a63cdfcfa947d690a6cab757dd9bbb",
    "order_count": 16,
    "time": "2020-07-11T04:17:52.447Z",
    "type": "selectCodeCell"
   },
   {
    "code": "df[df[\"type\"]==\"clickVis\"].param.values[0]",
    "id": "c921924cdfbe4fd28207e1563fe5260c",
    "order_count": 17,
    "time": "2020-07-11T04:17:52.477Z",
    "type": "editCodeCell"
   },
   {
    "code": "df[df[\"type\"]==\"clickVis\"].param.values[0]",
    "id": "c921924cdfbe4fd28207e1563fe5260c",
    "order_count": 17,
    "time": "2020-07-11T04:17:55.060Z",
    "type": "selectCodeCell"
   },
   {
    "code": "df[exportBtnClick",
    "id": "47a63cdfcfa947d690a6cab757dd9bbb",
    "order_count": 16,
    "time": "2020-07-11T04:17:55.082Z",
    "type": "editCodeCell"
   },
   {
    "code": "df[df[\"type\"]==\"exportBtnClick\"]",
    "id": "47a63cdfcfa947d690a6cab757dd9bbb",
    "order_count": 16,
    "time": "2020-07-11T04:18:00.544Z",
    "type": "executeCodeCell"
   },
   {
    "code": "df[df[\"type\"]==\"exportBtnClick\"]",
    "id": "47a63cdfcfa947d690a6cab757dd9bbb",
    "order_count": 16,
    "time": "2020-07-11T04:18:00.545Z",
    "type": "selectCodeCell"
   },
   {
    "id": "47a63cdfcfa947d690a6cab757dd9bbb",
    "isPrintLuxWidget": false,
    "isPrintPandas": true,
    "time": "2020-07-11T04:18:00.578Z",
    "type": "completeCodeCell"
   },
   {
    "code": "df[df[\"type\"]==\"exportBtnClick\"]",
    "id": "47a63cdfcfa947d690a6cab757dd9bbb",
    "order_count": 16,
    "time": "2020-07-11T04:19:09.861Z",
    "type": "editCodeCell"
   },
   {
    "code": "df[df[\"type\"]==\"exportBtnClick\"]",
    "id": "47a63cdfcfa947d690a6cab757dd9bbb",
    "order_count": 16,
    "time": "2020-07-11T04:19:11.929Z",
    "type": "executeCodeCell"
   },
   {
    "code": "df[df[\"type\"]==\"exportBtnClick\"]",
    "id": "47a63cdfcfa947d690a6cab757dd9bbb",
    "order_count": 16,
    "time": "2020-07-11T04:19:11.930Z",
    "type": "selectCodeCell"
   },
   {
    "id": "47a63cdfcfa947d690a6cab757dd9bbb",
    "isPrintLuxWidget": false,
    "isPrintPandas": true,
    "time": "2020-07-11T04:19:11.964Z",
    "type": "completeCodeCell"
   },
   {
    "code": "df[df[\"type\"]==\"clickVis\"].param.values[0]",
    "id": "c921924cdfbe4fd28207e1563fe5260c",
    "order_count": 17,
    "time": "2020-07-11T04:19:13.390Z",
    "type": "editCodeCell"
   },
   {
    "code": "df[df[\"type\"]==\"clickVis\"].param.values[0]",
    "id": "c921924cdfbe4fd28207e1563fe5260c",
    "order_count": 17,
    "time": "2020-07-11T04:19:35.288Z",
    "type": "selectCodeCell"
   },
   {
    "code": "",
    "id": "495af965532348f5ae44ffcc12a43cb9",
    "order_count": 16,
    "time": "2020-07-11T04:19:36.367Z",
    "type": "editCodeCell"
   },
   {
    "code": "Export Analysis",
    "id": "495af965532348f5ae44ffcc12a43cb9",
    "order_count": 16,
    "time": "2020-07-11T04:19:39.931Z",
    "type": "selectCodeCell"
   },
   {
    "code": "### Export Analysis",
    "id": "0fea515207d94a2c877b3fd6fbeb6382",
    "order_count": 16,
    "time": "2020-07-11T04:19:44.947Z",
    "type": "editMarkdownCell"
   },
   {
    "code": "### Export Analysis",
    "id": "0fea515207d94a2c877b3fd6fbeb6382",
    "order_count": 16,
    "time": "2020-07-11T04:19:48.410Z",
    "type": "selectMarkdownCell"
   },
   {
    "code": "import pandas as pd",
    "id": "03e16b95dd2e449a8864ae766af43998",
    "order_count": 5,
    "time": "2020-07-11T04:19:55.917Z",
    "type": "editCodeCell"
   },
   {
    "code": "import pandas as pd",
    "id": "03e16b95dd2e449a8864ae766af43998",
    "order_count": 5,
    "time": "2020-07-11T04:19:56.627Z",
    "type": "selectCodeCell"
   },
   {
    "code": "df = pd.DataFrame(log)",
    "id": "aa28737cb99243478b249545fb49cb9a",
    "order_count": 6,
    "time": "2020-07-11T04:19:56.651Z",
    "type": "editCodeCell"
   },
   {
    "code": "df = pd.DataFrame(log)",
    "id": "aa28737cb99243478b249545fb49cb9a",
    "order_count": 6,
    "time": "2020-07-11T04:19:57.134Z",
    "type": "selectCodeCell"
   },
   {
    "code": "import pandas as pd",
    "id": "03e16b95dd2e449a8864ae766af43998",
    "order_count": 5,
    "time": "2020-07-11T04:19:57.157Z",
    "type": "editCodeCell"
   },
   {
    "code": "import pandas as pd",
    "id": "03e16b95dd2e449a8864ae766af43998",
    "order_count": 5,
    "time": "2020-07-11T04:20:00.645Z",
    "type": "selectCodeCell"
   },
   {
    "code": "",
    "id": "eadf1f06457a427a84690f50b9cebaa4",
    "order_count": 16,
    "time": "2020-07-11T04:20:58.976Z",
    "type": "editCodeCell"
   },
   {
    "code": "df[\"type\"]",
    "id": "eadf1f06457a427a84690f50b9cebaa4",
    "order_count": 16,
    "time": "2020-07-11T04:21:04.163Z",
    "type": "executeCodeCell"
   },
   {
    "code": "df[\"type\"]",
    "id": "eadf1f06457a427a84690f50b9cebaa4",
    "order_count": 16,
    "time": "2020-07-11T04:21:04.164Z",
    "type": "selectCodeCell"
   },
   {
    "id": "eadf1f06457a427a84690f50b9cebaa4",
    "isPrintLuxWidget": false,
    "isPrintPandas": false,
    "time": "2020-07-11T04:21:04.192Z",
    "type": "completeCodeCell"
   },
   {
    "code": "df[\"type\"]",
    "id": "eadf1f06457a427a84690f50b9cebaa4",
    "order_count": 16,
    "time": "2020-07-11T04:21:04.959Z",
    "type": "editCodeCell"
   },
   {
    "code": "df[\"type\"]==",
    "id": "eadf1f06457a427a84690f50b9cebaa4",
    "order_count": 16,
    "time": "2020-07-11T04:21:11.227Z",
    "type": "selectCodeCell"
   },
   {
    "code": "df[\"type\"]==",
    "id": "eadf1f06457a427a84690f50b9cebaa4",
    "order_count": 16,
    "time": "2020-07-11T04:21:14.246Z",
    "type": "editCodeCell"
   },
   {
    "code": "df[df[\"type\"]=='deleteCodeCell']",
    "id": "eadf1f06457a427a84690f50b9cebaa4",
    "order_count": 16,
    "time": "2020-07-11T04:21:17.571Z",
    "type": "executeCodeCell"
   },
   {
    "code": "df[df[\"type\"]=='deleteCodeCell']",
    "id": "eadf1f06457a427a84690f50b9cebaa4",
    "order_count": 16,
    "time": "2020-07-11T04:21:17.572Z",
    "type": "selectCodeCell"
   },
   {
    "id": "eadf1f06457a427a84690f50b9cebaa4",
    "isPrintLuxWidget": false,
    "isPrintPandas": true,
    "time": "2020-07-11T04:21:17.601Z",
    "type": "completeCodeCell"
   },
   {
    "code": "",
    "id": "3ae17680bb1f413ebc0f18d488f972b1",
    "order_count": 16,
    "time": "2020-07-11T04:21:25.481Z",
    "type": "editCodeCell"
   },
   {
    "code": "Cells that were deleted",
    "id": "3ae17680bb1f413ebc0f18d488f972b1",
    "order_count": 16,
    "time": "2020-07-11T04:21:29.700Z",
    "type": "selectCodeCell"
   },
   {
    "code": "",
    "id": "7da853b96cef4373943fe88eba25667d",
    "order_count": 16,
    "time": "2020-07-11T04:21:46.361Z",
    "type": "editCodeCell"
   },
   {
    "code": "Interactions with Tabs and Scroll",
    "id": "7da853b96cef4373943fe88eba25667d",
    "order_count": 16,
    "time": "2020-07-11T04:22:00.598Z",
    "type": "selectCodeCell"
   },
   {
    "code": "",
    "id": "7f53551db0d94b9fa1c7d2478ddbb747",
    "order_count": 17,
    "time": "2020-07-11T04:22:01.905Z",
    "type": "editCodeCell"
   },
   {
    "code": "df[\"startScroll\"]",
    "id": "7f53551db0d94b9fa1c7d2478ddbb747",
    "order_count": 17,
    "time": "2020-07-11T04:22:10.620Z",
    "type": "executeCodeCell"
   },
   {
    "code": "df[\"startScroll\"]",
    "id": "7f53551db0d94b9fa1c7d2478ddbb747",
    "order_count": 17,
    "time": "2020-07-11T04:22:10.621Z",
    "type": "selectCodeCell"
   },
   {
    "id": "7f53551db0d94b9fa1c7d2478ddbb747",
    "isPrintLuxWidget": false,
    "isPrintPandas": false,
    "time": "2020-07-11T04:22:10.660Z",
    "type": "completeCodeCell"
   },
   {
    "code": "df[\"startScroll\"]",
    "id": "7f53551db0d94b9fa1c7d2478ddbb747",
    "order_count": 17,
    "time": "2020-07-11T04:22:11.514Z",
    "type": "editCodeCell"
   },
   {
    "code": "df[\"startScroll\"]",
    "id": "7f53551db0d94b9fa1c7d2478ddbb747",
    "order_count": 17,
    "time": "2020-07-11T04:22:13.125Z",
    "type": "selectCodeCell"
   },
   {
    "code": "df[\"startScroll\"]",
    "id": "7f53551db0d94b9fa1c7d2478ddbb747",
    "order_count": null,
    "time": "2020-07-11T04:22:13.732Z",
    "type": "deleteCodeCell"
   },
   {
    "code": "df[df[\"type\"]=='deleteCodeCell']",
    "id": "eadf1f06457a427a84690f50b9cebaa4",
    "order_count": 18,
    "time": "2020-07-11T04:24:12.324Z",
    "type": "editCodeCell"
   },
   {
    "code": "df[df[\"type\"]=='deleteCodeCell']",
    "id": "eadf1f06457a427a84690f50b9cebaa4",
    "order_count": 18,
    "time": "2020-07-11T04:24:13.965Z",
    "type": "selectCodeCell"
   },
   {
    "code": "",
    "id": "1ca4cf715a58403da878aee8e15eb9d4",
    "order_count": 17,
    "time": "2020-07-11T04:24:15.355Z",
    "type": "editCodeCell"
   },
   {
    "code": "d",
    "id": "1ca4cf715a58403da878aee8e15eb9d4",
    "order_count": 17,
    "time": "2020-07-11T04:24:17.350Z",
    "type": "selectCodeCell"
   },
   {
    "code": "df[df[\"type\"]=='deleteCodeCell']",
    "id": "eadf1f06457a427a84690f50b9cebaa4",
    "order_count": 19,
    "time": "2020-07-11T04:24:17.377Z",
    "type": "editCodeCell"
   },
   {
    "code": "df[df[\"type\"]=='deleteCodeCell']",
    "id": "eadf1f06457a427a84690f50b9cebaa4",
    "order_count": 19,
    "time": "2020-07-11T04:24:18.574Z",
    "type": "selectCodeCell"
   },
   {
    "code": "d",
    "id": "1ca4cf715a58403da878aee8e15eb9d4",
    "order_count": 17,
    "time": "2020-07-11T04:24:18.601Z",
    "type": "editCodeCell"
   },
   {
    "code": "df[df[\"type\"]=='deleteCodeCell']",
    "id": "1ca4cf715a58403da878aee8e15eb9d4",
    "order_count": 17,
    "time": "2020-07-11T04:24:31.479Z",
    "type": "selectCodeCell"
   },
   {
    "code": "",
    "id": "2604a191b2e84a568de01ba6d04cd131",
    "order_count": 16,
    "time": "2020-07-11T04:24:32.173Z",
    "type": "editCodeCell"
   },
   {
    "code": "Number of Times Toggle to Lux v.s. to Pandas",
    "id": "2604a191b2e84a568de01ba6d04cd131",
    "order_count": 16,
    "time": "2020-07-11T04:24:50.454Z",
    "type": "selectCodeCell"
   },
   {
    "code": "",
    "id": "b9e0274e968d423585985e647a9b770e",
    "order_count": 17,
    "time": "2020-07-11T04:25:07.892Z",
    "type": "editCodeCell"
   },
   {
    "code": "",
    "id": "b9e0274e968d423585985e647a9b770e",
    "order_count": 17,
    "time": "2020-07-11T04:25:10.751Z",
    "type": "selectCodeCell"
   },
   {
    "code": "df[df[\"type\"]=='deleteCodeCell']",
    "id": "1ca4cf715a58403da878aee8e15eb9d4",
    "order_count": 19,
    "time": "2020-07-11T04:25:10.777Z",
    "type": "editCodeCell"
   },
   {
    "code": "df[df[\"type\"]=='deleteCodeCell']",
    "id": "1ca4cf715a58403da878aee8e15eb9d4",
    "order_count": 19,
    "time": "2020-07-11T04:25:12.225Z",
    "type": "selectCodeCell"
   },
   {
    "code": "df[df[\"type\"]=='deleteCodeCell']",
    "id": "eadf1f06457a427a84690f50b9cebaa4",
    "order_count": 21,
    "time": "2020-07-11T04:25:12.254Z",
    "type": "editCodeCell"
   },
   {
    "code": "df[df[\"type\"]=='deleteCodeCell']",
    "id": "eadf1f06457a427a84690f50b9cebaa4",
    "order_count": 21,
    "time": "2020-07-11T04:25:31.199Z",
    "type": "selectCodeCell"
   },
   {
    "code": "df[df[\"type\"]=='deleteCodeCell']",
    "id": "1ca4cf715a58403da878aee8e15eb9d4",
    "order_count": 19,
    "time": "2020-07-11T04:25:33.854Z",
    "type": "editCodeCell"
   },
   {
    "code": "df[df[\"type\"]=='switchTab']",
    "id": "1ca4cf715a58403da878aee8e15eb9d4",
    "order_count": 19,
    "time": "2020-07-11T04:25:36.064Z",
    "type": "executeCodeCell"
   },
   {
    "code": "df[df[\"type\"]=='switchTab']",
    "id": "1ca4cf715a58403da878aee8e15eb9d4",
    "order_count": 19,
    "time": "2020-07-11T04:25:36.065Z",
    "type": "selectCodeCell"
   },
   {
    "id": "1ca4cf715a58403da878aee8e15eb9d4",
    "isPrintLuxWidget": false,
    "isPrintPandas": true,
    "time": "2020-07-11T04:25:36.097Z",
    "type": "completeCodeCell"
   },
   {
    "code": "df[df[\"type\"]=='switchTab']",
    "id": "1ca4cf715a58403da878aee8e15eb9d4",
    "order_count": 19,
    "time": "2020-07-11T04:25:36.966Z",
    "type": "editCodeCell"
   },
   {
    "code": "df[df[\"type\"]=='switchTab']",
    "id": "1ca4cf715a58403da878aee8e15eb9d4",
    "order_count": 19,
    "time": "2020-07-11T04:25:46.354Z",
    "type": "selectCodeCell"
   },
   {
    "code": "",
    "id": "e33d3713d37b42568e27e729be993543",
    "order_count": 20,
    "time": "2020-07-11T04:25:47.487Z",
    "type": "editCodeCell"
   },
   {
    "code": "df[df[\"type\"]=='stopScroll']",
    "id": "e33d3713d37b42568e27e729be993543",
    "order_count": 20,
    "time": "2020-07-11T04:25:52.118Z",
    "type": "executeCodeCell"
   },
   {
    "code": "df[df[\"type\"]=='stopScroll']",
    "id": "e33d3713d37b42568e27e729be993543",
    "order_count": 20,
    "time": "2020-07-11T04:25:52.121Z",
    "type": "selectCodeCell"
   },
   {
    "id": "e33d3713d37b42568e27e729be993543",
    "isPrintLuxWidget": false,
    "isPrintPandas": true,
    "time": "2020-07-11T04:25:52.153Z",
    "type": "completeCodeCell"
   },
   {
    "code": "df[df[\"type\"]=='stopScroll']",
    "id": "e33d3713d37b42568e27e729be993543",
    "order_count": 20,
    "time": "2020-07-11T04:26:17.803Z",
    "type": "editCodeCell"
   },
   {
    "code": "df[df[\"type\"]=='stopScroll']",
    "id": "e33d3713d37b42568e27e729be993543",
    "order_count": 20,
    "time": "2020-07-11T04:26:27.509Z",
    "type": "selectCodeCell"
   },
   {
    "code": "df[df[\"type\"]=='stopScroll']",
    "id": "e33d3713d37b42568e27e729be993543",
    "order_count": 20,
    "time": "2020-07-11T04:26:41.595Z",
    "type": "editCodeCell"
   },
   {
    "code": "df[df[\"type\"]=='stopScroll']",
    "id": "e33d3713d37b42568e27e729be993543",
    "order_count": 20,
    "time": "2020-07-11T04:26:42.825Z",
    "type": "selectCodeCell"
   },
   {
    "code": "",
    "id": "d0b6d14a01ff418d868d22a9b330134b",
    "order_count": 20,
    "time": "2020-07-11T04:26:43.592Z",
    "type": "editCodeCell"
   },
   {
    "code": "df[df[\"type\"]=='startScroll']",
    "id": "d0b6d14a01ff418d868d22a9b330134b",
    "order_count": 20,
    "time": "2020-07-11T04:26:47.244Z",
    "type": "executeCodeCell"
   },
   {
    "code": "df[df[\"type\"]=='startScroll']",
    "id": "d0b6d14a01ff418d868d22a9b330134b",
    "order_count": 20,
    "time": "2020-07-11T04:26:47.245Z",
    "type": "selectCodeCell"
   },
   {
    "id": "d0b6d14a01ff418d868d22a9b330134b",
    "isPrintLuxWidget": false,
    "isPrintPandas": true,
    "time": "2020-07-11T04:26:47.286Z",
    "type": "completeCodeCell"
   },
   {
    "code": "",
    "id": "64f297fb598a4e72848cb6742a94c717",
    "order_count": 16,
    "time": "2020-07-11T04:34:39.926Z",
    "type": "editCodeCell"
   },
   {
    "code": "Use selectCodeCell to assign `id` and `order_count` ",
    "id": "64f297fb598a4e72848cb6742a94c717",
    "order_count": 16,
    "time": "2020-07-11T04:35:11.440Z",
    "type": "selectCodeCell"
   },
   {
    "code": "### Use selectCodeCell to assign `id` and `order_count` ",
    "id": "b5e1266dd70049f18951d1e60e20b9b5",
    "order_count": 16,
    "time": "2020-07-11T04:35:12.690Z",
    "type": "editMarkdownCell"
   },
   {
    "code": "### Use selectCodeCell to assign `id` and `order_count` to UI events",
    "id": "b5e1266dd70049f18951d1e60e20b9b5",
    "order_count": 16,
    "time": "2020-07-11T04:35:21.038Z",
    "type": "selectMarkdownCell"
   },
   {
    "code": "",
    "id": "5986949547df4de7b04fe230bf2ca91c",
    "order_count": 17,
    "time": "2020-07-11T04:35:21.882Z",
    "type": "editCodeCell"
   },
   {
    "code": "UIevents = []",
    "id": "5986949547df4de7b04fe230bf2ca91c",
    "order_count": 17,
    "time": "2020-07-11T04:35:31.271Z",
    "type": "selectCodeCell"
   },
   {
    "code": "UIevents = []",
    "id": "5986949547df4de7b04fe230bf2ca91c",
    "order_count": 17,
    "time": "2020-07-11T04:35:46.343Z",
    "type": "editCodeCell"
   },
   {
    "code": "UIevents = ['initWidget','switchTab', 'startScroll', 'stopScroll', 'deleteCodeCell',\n       'toggleBtnClick', 'clickVis', 'exportBtnClick']",
    "id": "5986949547df4de7b04fe230bf2ca91c",
    "order_count": 17,
    "time": "2020-07-11T04:35:52.201Z",
    "type": "executeCodeCell"
   },
   {
    "code": "UIevents = ['initWidget','switchTab', 'startScroll', 'stopScroll', 'deleteCodeCell',\n       'toggleBtnClick', 'clickVis', 'exportBtnClick']",
    "id": "5986949547df4de7b04fe230bf2ca91c",
    "order_count": 17,
    "time": "2020-07-11T04:35:52.202Z",
    "type": "selectCodeCell"
   },
   {
    "id": "5986949547df4de7b04fe230bf2ca91c",
    "isPrintLuxWidget": false,
    "isPrintPandas": false,
    "time": "2020-07-11T04:35:52.236Z",
    "type": "completeCodeCell"
   },
   {
    "code": "",
    "id": "83fef329c00947ac89e8717914fa467a",
    "order_count": 18,
    "time": "2020-07-11T04:35:53.202Z",
    "type": "editCodeCell"
   },
   {
    "code": "df[df.type.isin(UIevents)]",
    "id": "83fef329c00947ac89e8717914fa467a",
    "order_count": 18,
    "time": "2020-07-11T04:36:10.224Z",
    "type": "executeCodeCell"
   },
   {
    "code": "df[df.type.isin(UIevents)]",
    "id": "83fef329c00947ac89e8717914fa467a",
    "order_count": 18,
    "time": "2020-07-11T04:36:10.225Z",
    "type": "selectCodeCell"
   },
   {
    "id": "83fef329c00947ac89e8717914fa467a",
    "isPrintLuxWidget": false,
    "isPrintPandas": true,
    "time": "2020-07-11T04:36:10.262Z",
    "type": "completeCodeCell"
   },
   {
    "code": "UIevents = ['initWidget','switchTab', 'startScroll', 'stopScroll', 'deleteCodeCell',\n       'toggleBtnClick', 'clickVis', 'exportBtnClick']",
    "id": "5986949547df4de7b04fe230bf2ca91c",
    "order_count": 17,
    "time": "2020-07-11T04:36:21.393Z",
    "type": "editCodeCell"
   },
   {
    "code": "UIevents = ['initWidget','switchTab', 'startScroll', 'stopScroll', \n       'toggleBtnClick', 'clickVis', 'exportBtnClick']",
    "id": "5986949547df4de7b04fe230bf2ca91c",
    "order_count": 17,
    "time": "2020-07-11T04:36:23.406Z",
    "type": "executeCodeCell"
   },
   {
    "code": "UIevents = ['initWidget','switchTab', 'startScroll', 'stopScroll', \n       'toggleBtnClick', 'clickVis', 'exportBtnClick']",
    "id": "5986949547df4de7b04fe230bf2ca91c",
    "order_count": 17,
    "time": "2020-07-11T04:36:23.406Z",
    "type": "selectCodeCell"
   },
   {
    "id": "5986949547df4de7b04fe230bf2ca91c",
    "isPrintLuxWidget": false,
    "isPrintPandas": false,
    "time": "2020-07-11T04:36:23.451Z",
    "type": "completeCodeCell"
   },
   {
    "code": "df[df.type.isin(UIevents)]",
    "id": "83fef329c00947ac89e8717914fa467a",
    "order_count": 18,
    "time": "2020-07-11T04:36:24.805Z",
    "type": "executeCodeCell"
   },
   {
    "id": "83fef329c00947ac89e8717914fa467a",
    "isPrintLuxWidget": false,
    "isPrintPandas": true,
    "time": "2020-07-11T04:36:24.836Z",
    "type": "completeCodeCell"
   },
   {
    "code": "df[df[\"type\"]=='switchTab']",
    "id": "1ca4cf715a58403da878aee8e15eb9d4",
    "order_count": 22,
    "time": "2020-07-11T04:36:33.743Z",
    "type": "editCodeCell"
   },
   {
    "code": "df[df[\"type\"]=='switchTab']",
    "id": "1ca4cf715a58403da878aee8e15eb9d4",
    "order_count": 22,
    "time": "2020-07-11T04:36:35.472Z",
    "type": "selectCodeCell"
   },
   {
    "code": "",
    "id": "b9e0274e968d423585985e647a9b770e",
    "order_count": 20,
    "time": "2020-07-11T04:36:35.507Z",
    "type": "editCodeCell"
   },
   {
    "code": "df[df[\"type\"]=='toggleBtnClick']",
    "id": "b9e0274e968d423585985e647a9b770e",
    "order_count": 20,
    "time": "2020-07-11T04:36:43.456Z",
    "type": "executeCodeCell"
   },
   {
    "code": "df[df[\"type\"]=='toggleBtnClick']",
    "id": "b9e0274e968d423585985e647a9b770e",
    "order_count": 20,
    "time": "2020-07-11T04:36:43.457Z",
    "type": "selectCodeCell"
   },
   {
    "id": "b9e0274e968d423585985e647a9b770e",
    "isPrintLuxWidget": false,
    "isPrintPandas": true,
    "time": "2020-07-11T04:36:43.490Z",
    "type": "completeCodeCell"
   },
   {
    "code": "df[df[\"type\"]=='toggleBtnClick']",
    "id": "b9e0274e968d423585985e647a9b770e",
    "order_count": 20,
    "time": "2020-07-11T04:36:44.562Z",
    "type": "editCodeCell"
   },
   {
    "code": "df[df[\"type\"]=='toggleBtnClick'].param",
    "id": "b9e0274e968d423585985e647a9b770e",
    "order_count": 20,
    "time": "2020-07-11T04:36:47.643Z",
    "type": "executeCodeCell"
   },
   {
    "code": "df[df[\"type\"]=='toggleBtnClick'].param",
    "id": "b9e0274e968d423585985e647a9b770e",
    "order_count": 20,
    "time": "2020-07-11T04:36:47.646Z",
    "type": "selectCodeCell"
   },
   {
    "id": "b9e0274e968d423585985e647a9b770e",
    "isPrintLuxWidget": false,
    "isPrintPandas": false,
    "time": "2020-07-11T04:36:47.704Z",
    "type": "completeCodeCell"
   },
   {
    "code": "df[df[\"type\"]=='toggleBtnClick'].param",
    "id": "b9e0274e968d423585985e647a9b770e",
    "order_count": 20,
    "time": "2020-07-11T04:36:49.113Z",
    "type": "editCodeCell"
   },
   {
    "code": "df[df[\"type\"]=='toggleBtnClick'].param",
    "id": "b9e0274e968d423585985e647a9b770e",
    "order_count": 20,
    "time": "2020-07-11T04:37:09.145Z",
    "type": "selectCodeCell"
   },
   {
    "code": "### Use selectCodeCell to assign `id` and `order_count` to UI events",
    "id": "b5e1266dd70049f18951d1e60e20b9b5",
    "order_count": 16,
    "time": "2020-07-11T04:37:11.837Z",
    "type": "editMarkdownCell"
   },
   {
    "code": "### Use `selectCodeCell` events to assign `id` and `order_count` to UI events",
    "id": "b5e1266dd70049f18951d1e60e20b9b5",
    "order_count": 16,
    "time": "2020-07-11T04:37:17.226Z",
    "type": "selectMarkdownCell"
   },
   {
    "code": "",
    "id": "31686214b54a4575841ad4a8481ad923",
    "order_count": 17,
    "time": "2020-07-11T04:37:18.161Z",
    "type": "editCodeCell"
   },
   {
    "code": "selectCodeCell",
    "id": "31686214b54a4575841ad4a8481ad923",
    "order_count": 17,
    "time": "2020-07-11T04:37:20.721Z",
    "type": "selectCodeCell"
   },
   {
    "code": "selectCodeCell",
    "id": "31686214b54a4575841ad4a8481ad923",
    "order_count": null,
    "time": "2020-07-11T04:37:21.399Z",
    "type": "deleteCodeCell"
   },
   {
    "code": "UIevents = ['initWidget','switchTab', 'startScroll', 'stopScroll', \n       'toggleBtnClick', 'clickVis', 'exportBtnClick']",
    "id": "5986949547df4de7b04fe230bf2ca91c",
    "order_count": 17,
    "time": "2020-07-11T04:37:22.818Z",
    "type": "editCodeCell"
   },
   {
    "code": "UIevents = ['initWidget','switchTab', 'startScroll', 'stopScroll', \n       'toggleBtnClick', 'clickVis', 'exportBtnClick']\nUIevents = UIevents+['selectCodeCell']",
    "id": "5986949547df4de7b04fe230bf2ca91c",
    "order_count": 17,
    "time": "2020-07-11T04:37:33.371Z",
    "type": "executeCodeCell"
   },
   {
    "code": "UIevents = ['initWidget','switchTab', 'startScroll', 'stopScroll', \n       'toggleBtnClick', 'clickVis', 'exportBtnClick']\nUIevents = UIevents+['selectCodeCell']",
    "id": "5986949547df4de7b04fe230bf2ca91c",
    "order_count": 17,
    "time": "2020-07-11T04:37:33.372Z",
    "type": "selectCodeCell"
   },
   {
    "id": "5986949547df4de7b04fe230bf2ca91c",
    "isPrintLuxWidget": false,
    "isPrintPandas": false,
    "time": "2020-07-11T04:37:33.421Z",
    "type": "completeCodeCell"
   },
   {
    "code": "",
    "id": "5e2557f8155d4a6d885530e583082357",
    "order_count": 18,
    "time": "2020-07-11T04:37:33.817Z",
    "type": "editCodeCell"
   },
   {
    "code": "UIevents",
    "id": "5e2557f8155d4a6d885530e583082357",
    "order_count": 18,
    "time": "2020-07-11T04:37:36.206Z",
    "type": "executeCodeCell"
   },
   {
    "code": "UIevents",
    "id": "5e2557f8155d4a6d885530e583082357",
    "order_count": 18,
    "time": "2020-07-11T04:37:36.207Z",
    "type": "selectCodeCell"
   },
   {
    "id": "5e2557f8155d4a6d885530e583082357",
    "isPrintLuxWidget": false,
    "isPrintPandas": false,
    "time": "2020-07-11T04:37:36.256Z",
    "type": "completeCodeCell"
   },
   {
    "code": "UIevents",
    "id": "5e2557f8155d4a6d885530e583082357",
    "order_count": 18,
    "time": "2020-07-11T04:37:37.379Z",
    "type": "editCodeCell"
   },
   {
    "code": "UIevents",
    "id": "5e2557f8155d4a6d885530e583082357",
    "order_count": 18,
    "time": "2020-07-11T04:37:39.242Z",
    "type": "selectCodeCell"
   },
   {
    "code": "UIevents",
    "id": "5e2557f8155d4a6d885530e583082357",
    "order_count": null,
    "time": "2020-07-11T04:37:39.596Z",
    "type": "deleteCodeCell"
   },
   {
    "code": "df[df.type.isin(UIevents)]",
    "id": "83fef329c00947ac89e8717914fa467a",
    "order_count": 18,
    "time": "2020-07-11T04:37:40.739Z",
    "type": "executeCodeCell"
   },
   {
    "id": "83fef329c00947ac89e8717914fa467a",
    "isPrintLuxWidget": false,
    "isPrintPandas": true,
    "time": "2020-07-11T04:37:40.806Z",
    "type": "completeCodeCell"
   },
   {
    "code": "df[df.type.isin(UIevents)]",
    "id": "83fef329c00947ac89e8717914fa467a",
    "order_count": 18,
    "time": "2020-07-11T04:40:43.052Z",
    "type": "editCodeCell"
   },
   {
    "code": "df[df.type.isin(UIevents)]",
    "id": "83fef329c00947ac89e8717914fa467a",
    "order_count": 18,
    "time": "2020-07-11T04:40:52.373Z",
    "type": "selectCodeCell"
   },
   {
    "code": "df[df.type.isin(UIevents)]",
    "id": "83fef329c00947ac89e8717914fa467a",
    "order_count": 18,
    "time": "2020-07-11T04:40:54.662Z",
    "type": "editCodeCell"
   },
   {
    "code": "df[df.type.isin(UIevents)].interpolate()",
    "id": "83fef329c00947ac89e8717914fa467a",
    "order_count": 18,
    "time": "2020-07-11T04:40:56.153Z",
    "type": "executeCodeCell"
   },
   {
    "code": "df[df.type.isin(UIevents)].interpolate()",
    "id": "83fef329c00947ac89e8717914fa467a",
    "order_count": 18,
    "time": "2020-07-11T04:40:56.155Z",
    "type": "selectCodeCell"
   },
   {
    "id": "83fef329c00947ac89e8717914fa467a",
    "isPrintLuxWidget": false,
    "isPrintPandas": false,
    "time": "2020-07-11T04:40:56.211Z",
    "type": "completeCodeCell"
   },
   {
    "code": "df[df.type.isin(UIevents)].interpolate()",
    "id": "83fef329c00947ac89e8717914fa467a",
    "order_count": 18,
    "time": "2020-07-11T04:41:26.420Z",
    "type": "editCodeCell"
   },
   {
    "code": "df[df.type.isin(UIevents)].interpolate(\"ffill\")",
    "id": "83fef329c00947ac89e8717914fa467a",
    "order_count": 18,
    "time": "2020-07-11T04:41:29.553Z",
    "type": "executeCodeCell"
   },
   {
    "code": "df[df.type.isin(UIevents)].interpolate(\"ffill\")",
    "id": "83fef329c00947ac89e8717914fa467a",
    "order_count": 18,
    "time": "2020-07-11T04:41:29.554Z",
    "type": "selectCodeCell"
   },
   {
    "id": "83fef329c00947ac89e8717914fa467a",
    "isPrintLuxWidget": false,
    "isPrintPandas": true,
    "time": "2020-07-11T04:41:29.629Z",
    "type": "completeCodeCell"
   },
   {
    "code": "df[df.type.isin(UIevents)].interpolate(\"ffill\")",
    "id": "83fef329c00947ac89e8717914fa467a",
    "order_count": 18,
    "time": "2020-07-11T04:41:38.625Z",
    "type": "editCodeCell"
   },
   {
    "code": "df[df.type.isin(UIevents)].interpolate(\"ffill\")",
    "id": "83fef329c00947ac89e8717914fa467a",
    "order_count": 18,
    "time": "2020-07-11T04:41:39.958Z",
    "type": "selectCodeCell"
   },
   {
    "code": "",
    "id": "ceccc2b2d9bb40bf8fa20963e12cdd49",
    "order_count": 18,
    "time": "2020-07-11T04:41:40.408Z",
    "type": "editCodeCell"
   },
   {
    "code": "df[df.type.isin(UIevents)]",
    "id": "ceccc2b2d9bb40bf8fa20963e12cdd49",
    "order_count": 18,
    "time": "2020-07-11T04:41:40.833Z",
    "type": "executeCodeCell"
   },
   {
    "code": "df[df.type.isin(UIevents)]",
    "id": "ceccc2b2d9bb40bf8fa20963e12cdd49",
    "order_count": 18,
    "time": "2020-07-11T04:41:40.834Z",
    "type": "selectCodeCell"
   },
   {
    "id": "ceccc2b2d9bb40bf8fa20963e12cdd49",
    "isPrintLuxWidget": false,
    "isPrintPandas": true,
    "time": "2020-07-11T04:41:40.892Z",
    "type": "completeCodeCell"
   },
   {
    "code": "df[df.type.isin(UIevents)].interpolate(\"ffill\")",
    "id": "83fef329c00947ac89e8717914fa467a",
    "order_count": 19,
    "time": "2020-07-11T04:41:50.236Z",
    "type": "editCodeCell"
   },
   {
    "code": "df[df.type.isin(UIevents)].interpolate(\"ffill\",axis=1)",
    "id": "83fef329c00947ac89e8717914fa467a",
    "order_count": 19,
    "time": "2020-07-11T04:41:53.223Z",
    "type": "executeCodeCell"
   },
   {
    "code": "df[df.type.isin(UIevents)].interpolate(\"ffill\",axis=1)",
    "id": "83fef329c00947ac89e8717914fa467a",
    "order_count": 19,
    "time": "2020-07-11T04:41:53.224Z",
    "type": "selectCodeCell"
   },
   {
    "id": "83fef329c00947ac89e8717914fa467a",
    "isPrintLuxWidget": false,
    "isPrintPandas": false,
    "time": "2020-07-11T04:41:53.273Z",
    "type": "completeCodeCell"
   },
   {
    "code": "df[df.type.isin(UIevents)].interpolate(\"ffill\",axis=1)",
    "id": "83fef329c00947ac89e8717914fa467a",
    "order_count": 19,
    "time": "2020-07-11T04:41:54.670Z",
    "type": "editCodeCell"
   },
   {
    "code": "df[df.type.isin(UIevents)].interpolate(\"ffill\",axis=1)",
    "id": "83fef329c00947ac89e8717914fa467a",
    "order_count": 19,
    "time": "2020-07-11T04:42:03.029Z",
    "type": "selectCodeCell"
   },
   {
    "code": "df[df.type.isin(UIevents)].interpolate(\"ffill\",axis=1)",
    "id": "83fef329c00947ac89e8717914fa467a",
    "order_count": 19,
    "time": "2020-07-11T04:42:38.911Z",
    "type": "editCodeCell"
   },
   {
    "code": "df[df.type.isin(UIevents)].interpolate(\"ffill\",axis=1)",
    "id": "83fef329c00947ac89e8717914fa467a",
    "order_count": 19,
    "time": "2020-07-11T04:42:40.623Z",
    "type": "selectCodeCell"
   },
   {
    "code": "df[df.type.isin(UIevents)].interpolate(\"ffill\",axis=1)",
    "id": "83fef329c00947ac89e8717914fa467a",
    "order_count": 19,
    "time": "2020-07-11T04:42:42.584Z",
    "type": "editCodeCell"
   },
   {
    "code": "df[df.type.isin(UIevents)].interpolate(limit_direction=\"forward\",axis=1)",
    "id": "83fef329c00947ac89e8717914fa467a",
    "order_count": 19,
    "time": "2020-07-11T04:42:52.786Z",
    "type": "executeCodeCell"
   },
   {
    "code": "df[df.type.isin(UIevents)].interpolate(limit_direction=\"forward\",axis=1)",
    "id": "83fef329c00947ac89e8717914fa467a",
    "order_count": 19,
    "time": "2020-07-11T04:42:52.789Z",
    "type": "selectCodeCell"
   },
   {
    "id": "83fef329c00947ac89e8717914fa467a",
    "isPrintLuxWidget": false,
    "isPrintPandas": false,
    "time": "2020-07-11T04:42:52.845Z",
    "type": "completeCodeCell"
   },
   {
    "code": "df[df.type.isin(UIevents)].interpolate(limit_direction=\"forward\",axis=1)",
    "id": "83fef329c00947ac89e8717914fa467a",
    "order_count": 19,
    "time": "2020-07-11T04:42:53.996Z",
    "type": "editCodeCell"
   },
   {
    "code": "df[df.type.isin(UIevents)].interpolate(\"ffill\",axis=1)",
    "id": "83fef329c00947ac89e8717914fa467a",
    "order_count": 19,
    "time": "2020-07-11T04:42:56.961Z",
    "type": "selectCodeCell"
   },
   {
    "code": "df[df.type.isin(UIevents)].interpolate(\"ffill\",axis=1)",
    "id": "83fef329c00947ac89e8717914fa467a",
    "order_count": 19,
    "time": "2020-07-11T04:43:16.729Z",
    "type": "editCodeCell"
   },
   {
    "code": "df[df.type.isin(UIevents)].ffill()",
    "id": "83fef329c00947ac89e8717914fa467a",
    "order_count": 19,
    "time": "2020-07-11T04:43:20.131Z",
    "type": "executeCodeCell"
   },
   {
    "code": "df[df.type.isin(UIevents)].ffill()",
    "id": "83fef329c00947ac89e8717914fa467a",
    "order_count": 19,
    "time": "2020-07-11T04:43:20.133Z",
    "type": "selectCodeCell"
   },
   {
    "id": "83fef329c00947ac89e8717914fa467a",
    "isPrintLuxWidget": false,
    "isPrintPandas": true,
    "time": "2020-07-11T04:43:20.186Z",
    "type": "completeCodeCell"
   },
   {
    "code": "df[df.type.isin(UIevents)].ffill()",
    "id": "83fef329c00947ac89e8717914fa467a",
    "order_count": 19,
    "time": "2020-07-11T04:43:21.182Z",
    "type": "editCodeCell"
   },
   {
    "code": "df[df.type.isin(UIevents)].ffill()",
    "id": "83fef329c00947ac89e8717914fa467a",
    "order_count": 19,
    "time": "2020-07-11T04:43:39.857Z",
    "type": "selectCodeCell"
   },
   {
    "code": "df[df.type.isin(UIevents)].ffill()",
    "id": "83fef329c00947ac89e8717914fa467a",
    "order_count": 19,
    "time": "2020-07-11T04:44:33.368Z",
    "type": "editCodeCell"
   },
   {
    "code": "df[df.type.isin(UIevents)].ffill() #fill forwards based on the values in the most recent `selectCodeCell`",
    "id": "83fef329c00947ac89e8717914fa467a",
    "order_count": 19,
    "time": "2020-07-11T04:44:58.624Z",
    "type": "selectCodeCell"
   },
   {
    "code": "df[df.type.isin(UIevents)]",
    "id": "ceccc2b2d9bb40bf8fa20963e12cdd49",
    "order_count": 18,
    "time": "2020-07-11T04:44:58.683Z",
    "type": "editCodeCell"
   },
   {
    "code": "# df[df.type.isin(UIevents)]",
    "id": "ceccc2b2d9bb40bf8fa20963e12cdd49",
    "order_count": 18,
    "time": "2020-07-11T04:44:59.855Z",
    "type": "executeCodeCell"
   },
   {
    "code": "# df[df.type.isin(UIevents)]",
    "id": "ceccc2b2d9bb40bf8fa20963e12cdd49",
    "order_count": 18,
    "time": "2020-07-11T04:44:59.856Z",
    "type": "selectCodeCell"
   },
   {
    "id": "ceccc2b2d9bb40bf8fa20963e12cdd49",
    "isPrintLuxWidget": false,
    "isPrintPandas": false,
    "time": "2020-07-11T04:44:59.911Z",
    "type": "completeCodeCell"
   },
   {
    "code": "df[df.type.isin(UIevents)].ffill() #fill forwards based on the values in the most recent `selectCodeCell`",
    "id": "83fef329c00947ac89e8717914fa467a",
    "order_count": 19,
    "time": "2020-07-11T04:45:00.677Z",
    "type": "editCodeCell"
   },
   {
    "code": "df[df.type.isin(UIevents)].ffill() #fill forwards based on the values in the most recent `selectCodeCell`",
    "id": "83fef329c00947ac89e8717914fa467a",
    "order_count": 19,
    "time": "2020-07-11T04:45:20.245Z",
    "type": "selectCodeCell"
   },
   {
    "code": "UIevents = ['initWidget','switchTab', 'startScroll', 'stopScroll', \n       'toggleBtnClick', 'clickVis', 'exportBtnClick']\nUIevents = UIevents+['selectCodeCell']",
    "id": "5986949547df4de7b04fe230bf2ca91c",
    "order_count": 17,
    "time": "2020-07-11T04:45:20.288Z",
    "type": "editCodeCell"
   },
   {
    "code": "UIevents = ['initWidget','switchTab', 'startScroll', 'stopScroll', \n       'toggleBtnClick', 'clickVis', 'exportBtnClick']\nUIevents = UIevents",
    "id": "5986949547df4de7b04fe230bf2ca91c",
    "order_count": 17,
    "time": "2020-07-11T04:45:22.926Z",
    "type": "selectCodeCell"
   },
   {
    "code": "df[df.type.isin(UIevents)].ffill() #fill forwards based on the values in the most recent `selectCodeCell`",
    "id": "83fef329c00947ac89e8717914fa467a",
    "order_count": 19,
    "time": "2020-07-11T04:45:22.973Z",
    "type": "editCodeCell"
   },
   {
    "code": "df[df.type.isin(UIevents+['selectCodeCell'])].ffill() #fill forwards based on the values in the most recent `selectCodeCell`",
    "id": "83fef329c00947ac89e8717914fa467a",
    "order_count": 19,
    "time": "2020-07-11T04:45:24.292Z",
    "type": "selectCodeCell"
   },
   {
    "code": "UIevents = ['initWidget','switchTab', 'startScroll', 'stopScroll', \n       'toggleBtnClick', 'clickVis', 'exportBtnClick']\nUIevents = UIevents",
    "id": "5986949547df4de7b04fe230bf2ca91c",
    "order_count": 17,
    "time": "2020-07-11T04:45:25.662Z",
    "type": "executeCodeCell"
   },
   {
    "id": "5986949547df4de7b04fe230bf2ca91c",
    "isPrintLuxWidget": false,
    "isPrintPandas": false,
    "time": "2020-07-11T04:45:25.684Z",
    "type": "completeCodeCell"
   },
   {
    "code": "# df[df.type.isin(UIevents)]",
    "id": "ceccc2b2d9bb40bf8fa20963e12cdd49",
    "order_count": 18,
    "time": "2020-07-11T04:45:26.870Z",
    "type": "executeCodeCell"
   },
   {
    "id": "ceccc2b2d9bb40bf8fa20963e12cdd49",
    "isPrintLuxWidget": false,
    "isPrintPandas": false,
    "time": "2020-07-11T04:45:26.903Z",
    "type": "completeCodeCell"
   },
   {
    "code": "df[df.type.isin(UIevents+['selectCodeCell'])].ffill() #fill forwards based on the values in the most recent `selectCodeCell`",
    "id": "83fef329c00947ac89e8717914fa467a",
    "order_count": 19,
    "time": "2020-07-11T04:45:27.256Z",
    "type": "executeCodeCell"
   },
   {
    "id": "83fef329c00947ac89e8717914fa467a",
    "isPrintLuxWidget": false,
    "isPrintPandas": true,
    "time": "2020-07-11T04:45:27.302Z",
    "type": "completeCodeCell"
   },
   {
    "code": "UIevents = ['initWidget','switchTab', 'startScroll', 'stopScroll', \n       'toggleBtnClick', 'clickVis', 'exportBtnClick']\nUIevents = UIevents",
    "id": "5986949547df4de7b04fe230bf2ca91c",
    "order_count": 17,
    "time": "2020-07-11T04:45:31.337Z",
    "type": "editCodeCell"
   },
   {
    "code": "UIevents = ['initWidget','switchTab', 'startScroll', 'stopScroll', \n       'toggleBtnClick', 'clickVis', 'exportBtnClick']",
    "id": "5986949547df4de7b04fe230bf2ca91c",
    "order_count": 17,
    "time": "2020-07-11T04:45:33.167Z",
    "type": "executeCodeCell"
   },
   {
    "code": "UIevents = ['initWidget','switchTab', 'startScroll', 'stopScroll', \n       'toggleBtnClick', 'clickVis', 'exportBtnClick']",
    "id": "5986949547df4de7b04fe230bf2ca91c",
    "order_count": 17,
    "time": "2020-07-11T04:45:33.168Z",
    "type": "selectCodeCell"
   },
   {
    "id": "5986949547df4de7b04fe230bf2ca91c",
    "isPrintLuxWidget": false,
    "isPrintPandas": false,
    "time": "2020-07-11T04:45:33.210Z",
    "type": "completeCodeCell"
   },
   {
    "code": "# df[df.type.isin(UIevents)]",
    "id": "ceccc2b2d9bb40bf8fa20963e12cdd49",
    "order_count": 18,
    "time": "2020-07-11T04:45:33.791Z",
    "type": "executeCodeCell"
   },
   {
    "id": "ceccc2b2d9bb40bf8fa20963e12cdd49",
    "isPrintLuxWidget": false,
    "isPrintPandas": false,
    "time": "2020-07-11T04:45:33.823Z",
    "type": "completeCodeCell"
   },
   {
    "code": "df[df.type.isin(UIevents+['selectCodeCell'])].ffill() #fill forwards based on the values in the most recent `selectCodeCell`",
    "id": "83fef329c00947ac89e8717914fa467a",
    "order_count": 19,
    "time": "2020-07-11T04:45:34.121Z",
    "type": "executeCodeCell"
   },
   {
    "id": "83fef329c00947ac89e8717914fa467a",
    "isPrintLuxWidget": false,
    "isPrintPandas": true,
    "time": "2020-07-11T04:45:34.165Z",
    "type": "completeCodeCell"
   },
   {
    "code": "df[df.type.isin(UIevents+['selectCodeCell'])].ffill() #fill forwards based on the values in the most recent `selectCodeCell`",
    "id": "83fef329c00947ac89e8717914fa467a",
    "order_count": 19,
    "time": "2020-07-11T04:45:40.622Z",
    "type": "editCodeCell"
   },
   {
    "code": "df[df.type.isin(UIevents+['selectCodeCell'])].ffill() #fill forwards based on the values in the most recent `selectCodeCell`",
    "id": "83fef329c00947ac89e8717914fa467a",
    "order_count": 19,
    "time": "2020-07-11T04:45:42.656Z",
    "type": "selectCodeCell"
   },
   {
    "code": "# df[df.type.isin(UIevents)]",
    "id": "ceccc2b2d9bb40bf8fa20963e12cdd49",
    "order_count": 18,
    "time": "2020-07-11T04:45:42.697Z",
    "type": "editCodeCell"
   },
   {
    "code": "# df[df.type.isin(UIevents)]",
    "id": "ceccc2b2d9bb40bf8fa20963e12cdd49",
    "order_count": 18,
    "time": "2020-07-11T04:45:42.719Z",
    "type": "selectCodeCell"
   },
   {
    "code": "# df[df.type.isin(UIevents)]",
    "id": "ceccc2b2d9bb40bf8fa20963e12cdd49",
    "order_count": 18,
    "time": "2020-07-11T04:45:42.750Z",
    "type": "editCodeCell"
   },
   {
    "code": "# df[df.type.isin(UIevents+['selectCodeCell'])]",
    "id": "ceccc2b2d9bb40bf8fa20963e12cdd49",
    "order_count": 18,
    "time": "2020-07-11T04:45:43.965Z",
    "type": "selectCodeCell"
   },
   {
    "code": "df[df.type.isin(UIevents+['selectCodeCell'])].ffill() #fill forwards based on the values in the most recent `selectCodeCell`",
    "id": "83fef329c00947ac89e8717914fa467a",
    "order_count": 19,
    "time": "2020-07-11T04:45:54.092Z",
    "type": "editCodeCell"
   },
   {
    "code": "UIEvents = df[df.type.isin(UIevents+['selectCodeCell'])].ffill() #fill forwards based on the values in the most recent `selectCodeCell`",
    "id": "83fef329c00947ac89e8717914fa467a",
    "order_count": 19,
    "time": "2020-07-11T04:46:07.662Z",
    "type": "executeCodeCell"
   },
   {
    "code": "UIEvents = df[df.type.isin(UIevents+['selectCodeCell'])].ffill() #fill forwards based on the values in the most recent `selectCodeCell`",
    "id": "83fef329c00947ac89e8717914fa467a",
    "order_count": 19,
    "time": "2020-07-11T04:46:07.663Z",
    "type": "selectCodeCell"
   },
   {
    "id": "83fef329c00947ac89e8717914fa467a",
    "isPrintLuxWidget": false,
    "isPrintPandas": false,
    "time": "2020-07-11T04:46:07.707Z",
    "type": "completeCodeCell"
   },
   {
    "code": "",
    "id": "49a724f6c5d945349b0fcaed7370696e",
    "order_count": 20,
    "time": "2020-07-11T04:46:10.199Z",
    "type": "editCodeCell"
   },
   {
    "code": "UIEvents",
    "id": "49a724f6c5d945349b0fcaed7370696e",
    "order_count": 20,
    "time": "2020-07-11T04:46:14.509Z",
    "type": "selectCodeCell"
   },
   {
    "code": "UIEvents = df[df.type.isin(UIevents+['selectCodeCell'])].ffill() #fill forwards based on the values in the most recent `selectCodeCell`",
    "id": "83fef329c00947ac89e8717914fa467a",
    "order_count": 19,
    "time": "2020-07-11T04:46:14.544Z",
    "type": "editCodeCell"
   },
   {
    "code": "uiEventDf = df[df.type.isin(UIevents+['selectCodeCell'])].ffill() #fill forwards based on the values in the most recent `selectCodeCell`",
    "id": "83fef329c00947ac89e8717914fa467a",
    "order_count": 19,
    "time": "2020-07-11T04:46:27.383Z",
    "type": "selectCodeCell"
   },
   {
    "code": "UIEvents",
    "id": "49a724f6c5d945349b0fcaed7370696e",
    "order_count": 20,
    "time": "2020-07-11T04:46:27.416Z",
    "type": "editCodeCell"
   },
   {
    "code": "UIEvents",
    "id": "49a724f6c5d945349b0fcaed7370696e",
    "order_count": 20,
    "time": "2020-07-11T04:46:27.812Z",
    "type": "selectCodeCell"
   },
   {
    "code": "uiEventDf = df[df.type.isin(UIevents+['selectCodeCell'])].ffill() #fill forwards based on the values in the most recent `selectCodeCell`",
    "id": "83fef329c00947ac89e8717914fa467a",
    "order_count": 19,
    "time": "2020-07-11T04:46:27.845Z",
    "type": "editCodeCell"
   },
   {
    "code": "uiEventDf = df[df.type.isin(UIevents+['selectCodeCell'])].ffill() #fill forwards based on the values in the most recent `selectCodeCell`",
    "id": "83fef329c00947ac89e8717914fa467a",
    "order_count": 19,
    "time": "2020-07-11T04:46:28.227Z",
    "type": "executeCodeCell"
   },
   {
    "code": "uiEventDf = df[df.type.isin(UIevents+['selectCodeCell'])].ffill() #fill forwards based on the values in the most recent `selectCodeCell`",
    "id": "83fef329c00947ac89e8717914fa467a",
    "order_count": 19,
    "time": "2020-07-11T04:46:28.229Z",
    "type": "selectCodeCell"
   },
   {
    "id": "83fef329c00947ac89e8717914fa467a",
    "isPrintLuxWidget": false,
    "isPrintPandas": false,
    "time": "2020-07-11T04:46:28.268Z",
    "type": "completeCodeCell"
   },
   {
    "code": "UIEvents",
    "id": "49a724f6c5d945349b0fcaed7370696e",
    "order_count": 20,
    "time": "2020-07-11T04:46:29.028Z",
    "type": "editCodeCell"
   },
   {
    "code": "uiEventDf",
    "id": "49a724f6c5d945349b0fcaed7370696e",
    "order_count": 20,
    "time": "2020-07-11T04:46:29.947Z",
    "type": "executeCodeCell"
   },
   {
    "code": "uiEventDf",
    "id": "49a724f6c5d945349b0fcaed7370696e",
    "order_count": 20,
    "time": "2020-07-11T04:46:29.948Z",
    "type": "selectCodeCell"
   },
   {
    "id": "49a724f6c5d945349b0fcaed7370696e",
    "isPrintLuxWidget": false,
    "isPrintPandas": true,
    "time": "2020-07-11T04:46:29.994Z",
    "type": "completeCodeCell"
   },
   {
    "code": "uiEventDf",
    "id": "49a724f6c5d945349b0fcaed7370696e",
    "order_count": 20,
    "time": "2020-07-11T04:48:05.697Z",
    "type": "editCodeCell"
   },
   {
    "code": "uiEventDf",
    "id": "49a724f6c5d945349b0fcaed7370696e",
    "order_count": 20,
    "time": "2020-07-11T04:48:20.620Z",
    "type": "selectCodeCell"
   },
   {
    "code": "df[df[\"type\"]=='toggleBtnClick'].param",
    "id": "b9e0274e968d423585985e647a9b770e",
    "order_count": 22,
    "time": "2020-07-11T04:48:20.662Z",
    "type": "editCodeCell"
   },
   {
    "code": "uiEventDf[uiEventDf[\"type\"]=='toggleBtnClick'].param",
    "id": "b9e0274e968d423585985e647a9b770e",
    "order_count": 22,
    "time": "2020-07-11T04:48:23.682Z",
    "type": "executeCodeCell"
   },
   {
    "code": "uiEventDf[uiEventDf[\"type\"]=='toggleBtnClick'].param",
    "id": "b9e0274e968d423585985e647a9b770e",
    "order_count": 22,
    "time": "2020-07-11T04:48:23.684Z",
    "type": "selectCodeCell"
   },
   {
    "id": "b9e0274e968d423585985e647a9b770e",
    "isPrintLuxWidget": false,
    "isPrintPandas": false,
    "time": "2020-07-11T04:48:23.740Z",
    "type": "completeCodeCell"
   },
   {
    "code": "uiEventDf",
    "id": "49a724f6c5d945349b0fcaed7370696e",
    "order_count": 20,
    "time": "2020-07-11T04:48:25.005Z",
    "type": "editCodeCell"
   },
   {
    "code": "# uiEventDf",
    "id": "49a724f6c5d945349b0fcaed7370696e",
    "order_count": 20,
    "time": "2020-07-11T04:48:27.395Z",
    "type": "executeCodeCell"
   },
   {
    "code": "# uiEventDf",
    "id": "49a724f6c5d945349b0fcaed7370696e",
    "order_count": 20,
    "time": "2020-07-11T04:48:27.396Z",
    "type": "selectCodeCell"
   },
   {
    "id": "49a724f6c5d945349b0fcaed7370696e",
    "isPrintLuxWidget": false,
    "isPrintPandas": false,
    "time": "2020-07-11T04:48:27.436Z",
    "type": "completeCodeCell"
   },
   {
    "code": "### Number of Times Toggle to Lux v.s. to Pandas",
    "id": "419be6bdde3948fb8a63bc5deea2e263",
    "order_count": 21,
    "time": "2020-07-11T04:48:28.050Z",
    "type": "editMarkdownCell"
   },
   {
    "code": "### Number of Times Toggle to Lux v.s. to Pandas",
    "id": "419be6bdde3948fb8a63bc5deea2e263",
    "order_count": 21,
    "time": "2020-07-11T04:48:28.867Z",
    "type": "selectMarkdownCell"
   },
   {
    "code": "uiEventDf[uiEventDf[\"type\"]=='toggleBtnClick'].param",
    "id": "b9e0274e968d423585985e647a9b770e",
    "order_count": 22,
    "time": "2020-07-11T04:48:29.478Z",
    "type": "executeCodeCell"
   },
   {
    "id": "b9e0274e968d423585985e647a9b770e",
    "isPrintLuxWidget": false,
    "isPrintPandas": false,
    "time": "2020-07-11T04:48:29.499Z",
    "type": "completeCodeCell"
   },
   {
    "code": "# uiEventDf",
    "id": "49a724f6c5d945349b0fcaed7370696e",
    "order_count": 20,
    "time": "2020-07-11T04:48:33.648Z",
    "type": "editCodeCell"
   },
   {
    "code": "uiEventDf",
    "id": "49a724f6c5d945349b0fcaed7370696e",
    "order_count": 20,
    "time": "2020-07-11T04:48:34.758Z",
    "type": "executeCodeCell"
   },
   {
    "code": "uiEventDf",
    "id": "49a724f6c5d945349b0fcaed7370696e",
    "order_count": 20,
    "time": "2020-07-11T04:48:34.759Z",
    "type": "selectCodeCell"
   },
   {
    "id": "49a724f6c5d945349b0fcaed7370696e",
    "isPrintLuxWidget": false,
    "isPrintPandas": true,
    "time": "2020-07-11T04:48:34.828Z",
    "type": "completeCodeCell"
   },
   {
    "code": "df[df[\"type\"]=='switchTab']",
    "id": "1ca4cf715a58403da878aee8e15eb9d4",
    "order_count": 24,
    "time": "2020-07-11T04:48:47.299Z",
    "type": "editCodeCell"
   },
   {
    "code": "df[df[\"type\"]=='switchTab']",
    "id": "1ca4cf715a58403da878aee8e15eb9d4",
    "order_count": 24,
    "time": "2020-07-11T04:48:47.328Z",
    "type": "selectCodeCell"
   },
   {
    "code": "df[df[\"type\"]=='switchTab']",
    "id": "1ca4cf715a58403da878aee8e15eb9d4",
    "order_count": 24,
    "time": "2020-07-11T04:48:47.364Z",
    "type": "editCodeCell"
   },
   {
    "code": "uiEventDf[uiEventDf[\"type\"]=='switchTab']",
    "id": "1ca4cf715a58403da878aee8e15eb9d4",
    "order_count": 24,
    "time": "2020-07-11T04:48:50.874Z",
    "type": "executeCodeCell"
   },
   {
    "code": "uiEventDf[uiEventDf[\"type\"]=='switchTab']",
    "id": "1ca4cf715a58403da878aee8e15eb9d4",
    "order_count": 24,
    "time": "2020-07-11T04:48:50.876Z",
    "type": "selectCodeCell"
   },
   {
    "id": "1ca4cf715a58403da878aee8e15eb9d4",
    "isPrintLuxWidget": false,
    "isPrintPandas": true,
    "time": "2020-07-11T04:48:50.929Z",
    "type": "completeCodeCell"
   },
   {
    "code": "uiEventDf[uiEventDf[\"type\"]=='switchTab']",
    "id": "1ca4cf715a58403da878aee8e15eb9d4",
    "order_count": 24,
    "time": "2020-07-11T04:48:52.504Z",
    "type": "editCodeCell"
   },
   {
    "code": "uiEventDf[uiEventDf[\"type\"]=='switchTab']",
    "id": "1ca4cf715a58403da878aee8e15eb9d4",
    "order_count": 24,
    "time": "2020-07-11T04:49:00.089Z",
    "type": "selectCodeCell"
   },
   {
    "code": "df[df[\"type\"]=='startScroll']",
    "id": "d0b6d14a01ff418d868d22a9b330134b",
    "order_count": 25,
    "time": "2020-07-11T04:49:01.564Z",
    "type": "editCodeCell"
   },
   {
    "code": "uiEventDf[uiEventDf[\"type\"]=='startScroll']",
    "id": "d0b6d14a01ff418d868d22a9b330134b",
    "order_count": 25,
    "time": "2020-07-11T04:49:04.488Z",
    "type": "executeCodeCell"
   },
   {
    "code": "uiEventDf[uiEventDf[\"type\"]=='startScroll']",
    "id": "d0b6d14a01ff418d868d22a9b330134b",
    "order_count": 25,
    "time": "2020-07-11T04:49:04.489Z",
    "type": "selectCodeCell"
   },
   {
    "id": "d0b6d14a01ff418d868d22a9b330134b",
    "isPrintLuxWidget": false,
    "isPrintPandas": true,
    "time": "2020-07-11T04:49:04.540Z",
    "type": "completeCodeCell"
   },
   {
    "code": "df[df[\"type\"]=='stopScroll']",
    "id": "e33d3713d37b42568e27e729be993543",
    "order_count": 26,
    "time": "2020-07-11T04:49:11.548Z",
    "type": "editCodeCell"
   },
   {
    "code": "df[df[\"type\"]=='stopScroll']",
    "id": "e33d3713d37b42568e27e729be993543",
    "order_count": 26,
    "time": "2020-07-11T04:49:11.576Z",
    "type": "selectCodeCell"
   },
   {
    "code": "df[df[\"type\"]=='stopScroll']",
    "id": "e33d3713d37b42568e27e729be993543",
    "order_count": 26,
    "time": "2020-07-11T04:49:11.626Z",
    "type": "editCodeCell"
   },
   {
    "code": "uiEventDf[uiEventDf[\"type\"]=='stopScroll']",
    "id": "e33d3713d37b42568e27e729be993543",
    "order_count": 26,
    "time": "2020-07-11T04:49:14.204Z",
    "type": "executeCodeCell"
   },
   {
    "code": "uiEventDf[uiEventDf[\"type\"]=='stopScroll']",
    "id": "e33d3713d37b42568e27e729be993543",
    "order_count": 26,
    "time": "2020-07-11T04:49:14.205Z",
    "type": "selectCodeCell"
   },
   {
    "id": "e33d3713d37b42568e27e729be993543",
    "isPrintLuxWidget": false,
    "isPrintPandas": true,
    "time": "2020-07-11T04:49:14.254Z",
    "type": "completeCodeCell"
   },
   {
    "code": "uiEventDf[uiEventDf[\"type\"]=='startScroll']",
    "id": "d0b6d14a01ff418d868d22a9b330134b",
    "order_count": 25,
    "time": "2020-07-11T04:49:54.357Z",
    "type": "editCodeCell"
   },
   {
    "code": "uiEventDf[uiEventDf[\"type\"]=='startScroll'].time.min()",
    "id": "d0b6d14a01ff418d868d22a9b330134b",
    "order_count": 25,
    "time": "2020-07-11T04:50:00.394Z",
    "type": "executeCodeCell"
   },
   {
    "code": "uiEventDf[uiEventDf[\"type\"]=='startScroll'].time.min()",
    "id": "d0b6d14a01ff418d868d22a9b330134b",
    "order_count": 25,
    "time": "2020-07-11T04:50:00.396Z",
    "type": "selectCodeCell"
   },
   {
    "id": "d0b6d14a01ff418d868d22a9b330134b",
    "isPrintLuxWidget": false,
    "isPrintPandas": false,
    "time": "2020-07-11T04:50:00.447Z",
    "type": "completeCodeCell"
   },
   {
    "code": "uiEventDf[uiEventDf[\"type\"]=='stopScroll']",
    "id": "e33d3713d37b42568e27e729be993543",
    "order_count": 26,
    "time": "2020-07-11T04:50:01.743Z",
    "type": "editCodeCell"
   },
   {
    "code": "uiEventDf[uiEventDf[\"type\"]=='stopScroll'].time.max()",
    "id": "e33d3713d37b42568e27e729be993543",
    "order_count": 26,
    "time": "2020-07-11T04:50:05.213Z",
    "type": "executeCodeCell"
   },
   {
    "code": "uiEventDf[uiEventDf[\"type\"]=='stopScroll'].time.max()",
    "id": "e33d3713d37b42568e27e729be993543",
    "order_count": 26,
    "time": "2020-07-11T04:50:05.215Z",
    "type": "selectCodeCell"
   },
   {
    "id": "e33d3713d37b42568e27e729be993543",
    "isPrintLuxWidget": false,
    "isPrintPandas": false,
    "time": "2020-07-11T04:50:05.262Z",
    "type": "completeCodeCell"
   },
   {
    "code": "uiEventDf[uiEventDf[\"type\"]=='stopScroll'].time.max()",
    "id": "e33d3713d37b42568e27e729be993543",
    "order_count": 26,
    "time": "2020-07-11T04:50:30.276Z",
    "type": "editCodeCell"
   },
   {
    "code": "uiEventDf[uiEventDf[\"type\"]=='stopScroll'].time.max()",
    "id": "e33d3713d37b42568e27e729be993543",
    "order_count": 26,
    "time": "2020-07-11T04:50:33.268Z",
    "type": "selectCodeCell"
   },
   {
    "code": "uiEventDf[uiEventDf[\"type\"]=='startScroll'].time.min()",
    "id": "d0b6d14a01ff418d868d22a9b330134b",
    "order_count": 25,
    "time": "2020-07-11T04:50:33.304Z",
    "type": "editCodeCell"
   },
   {
    "code": "uiEventDf[uiEventDf[\"type\"]=='startScroll'].time.min()",
    "id": "d0b6d14a01ff418d868d22a9b330134b",
    "order_count": 25,
    "time": "2020-07-11T04:50:34.111Z",
    "type": "selectCodeCell"
   },
   {
    "code": "uiEventDf[uiEventDf[\"type\"]=='stopScroll'].time.max()",
    "id": "e33d3713d37b42568e27e729be993543",
    "order_count": 26,
    "time": "2020-07-11T04:50:34.148Z",
    "type": "editCodeCell"
   },
   {
    "code": "uiEventDf[uiEventDf[\"type\"]=='stopScroll'].time.max()",
    "id": "e33d3713d37b42568e27e729be993543",
    "order_count": 26,
    "time": "2020-07-11T04:50:46.973Z",
    "type": "selectCodeCell"
   },
   {
    "code": "",
    "id": "dffc812837b047ad8af978f2d49f7f4f",
    "order_count": 25,
    "time": "2020-07-11T04:50:54.718Z",
    "type": "editCodeCell"
   },
   {
    "code": "",
    "id": "dffc812837b047ad8af978f2d49f7f4f",
    "order_count": 25,
    "time": "2020-07-11T04:50:58.566Z",
    "type": "selectCodeCell"
   },
   {
    "code": "uiEventDf[uiEventDf[\"type\"]=='switchTab']",
    "id": "1ca4cf715a58403da878aee8e15eb9d4",
    "order_count": 24,
    "time": "2020-07-11T04:50:58.602Z",
    "type": "editCodeCell"
   },
   {
    "code": "uiEventDf[uiEventDf[\"type\"]=='switchTab']",
    "id": "1ca4cf715a58403da878aee8e15eb9d4",
    "order_count": 24,
    "time": "2020-07-11T04:50:59.473Z",
    "type": "selectCodeCell"
   },
   {
    "code": "",
    "id": "dffc812837b047ad8af978f2d49f7f4f",
    "order_count": 25,
    "time": "2020-07-11T04:50:59.510Z",
    "type": "editCodeCell"
   },
   {
    "code": "uiEventDf[uiEventDf[\"type\"]=='switchTab'].groupby([\"code\",\"id\"])",
    "id": "dffc812837b047ad8af978f2d49f7f4f",
    "order_count": 25,
    "time": "2020-07-11T04:51:19.403Z",
    "type": "selectCodeCell"
   },
   {
    "code": "uiEventDf[uiEventDf[\"type\"]=='startScroll'].time.min()",
    "id": "d0b6d14a01ff418d868d22a9b330134b",
    "order_count": 26,
    "time": "2020-07-11T04:51:19.441Z",
    "type": "editCodeCell"
   },
   {
    "code": "uiEventDf[uiEventDf[\"type\"]=='startScroll'].time.min()",
    "id": "d0b6d14a01ff418d868d22a9b330134b",
    "order_count": 26,
    "time": "2020-07-11T04:51:29.426Z",
    "type": "selectCodeCell"
   },
   {
    "code": "uiEventDf[uiEventDf[\"type\"]=='switchTab'].groupby([\"code\",\"id\"])",
    "id": "dffc812837b047ad8af978f2d49f7f4f",
    "order_count": 25,
    "time": "2020-07-11T04:51:29.466Z",
    "type": "editCodeCell"
   },
   {
    "time": "2020-07-11T04:52:15.522Z",
    "type": "kernelReady"
   },
   {
    "code": "uiEventDf[uiEventDf[\"type\"]=='startScroll'].groupby([\"code\",\"id\"])",
    "id": "dffc812837b047ad8af978f2d49f7f4f",
    "order_count": 25,
    "time": "2020-07-11T04:52:15.871Z",
    "type": "selectCodeCell"
   },
   {
    "code": "uiEventDf[uiEventDf[\"type\"]=='startScroll'].groupby([\"code\",\"id\"])",
    "id": "dffc812837b047ad8af978f2d49f7f4f",
    "order_count": 25,
    "time": "2020-07-11T05:42:28.395Z",
    "type": "editCodeCell"
   },
   {
    "code": "uiEventDf[uiEventDf[\"type\"]=='startScroll'].groupby([\"code\",\"id\"])",
    "id": "dffc812837b047ad8af978f2d49f7f4f",
    "order_count": 25,
    "time": "2020-07-11T05:48:50.351Z",
    "type": "selectCodeCell"
   },
   {
    "code": "uiEventDf[uiEventDf[\"type\"]=='startScroll'].groupby([\"code\",\"id\"])",
    "id": "dffc812837b047ad8af978f2d49f7f4f",
    "order_count": 25,
    "time": "2020-07-11T05:49:11.425Z",
    "type": "editCodeCell"
   },
   {
    "code": "uiEventDf[uiEventDf[\"type\"]=='startScroll'].groupby([\"code\",\"id\"])",
    "id": "dffc812837b047ad8af978f2d49f7f4f",
    "order_count": 25,
    "time": "2020-07-11T05:49:12.319Z",
    "type": "selectCodeCell"
   },
   {
    "code": "uiEventDf[uiEventDf[\"type\"]=='startScroll'].groupby([\"code\",\"id\"])",
    "id": "dffc812837b047ad8af978f2d49f7f4f",
    "order_count": 25,
    "time": "2020-07-11T05:49:13.521Z",
    "type": "editCodeCell"
   },
   {
    "code": "uiEventDf[uiEventDf[\"type\"]=='startScroll'].groupby([\"code\",\"id\"])",
    "id": "dffc812837b047ad8af978f2d49f7f4f",
    "order_count": 25,
    "time": "2020-07-11T05:49:49.314Z",
    "type": "selectCodeCell"
   },
   {
    "code": "uiEventDf[uiEventDf[\"type\"]=='startScroll'].time.min()",
    "id": "d0b6d14a01ff418d868d22a9b330134b",
    "order_count": 26,
    "time": "2020-07-11T05:49:49.353Z",
    "type": "editCodeCell"
   },
   {
    "code": "uiEventDf[uiEventDf[\"type\"]=='startScroll'].time.min()",
    "id": "d0b6d14a01ff418d868d22a9b330134b",
    "order_count": 26,
    "time": "2020-07-11T05:50:04.742Z",
    "type": "selectCodeCell"
   },
   {
    "code": "uiEventDf[uiEventDf[\"type\"]=='startScroll'].groupby([\"code\",\"id\"])",
    "id": "dffc812837b047ad8af978f2d49f7f4f",
    "order_count": 25,
    "time": "2020-07-11T05:50:04.775Z",
    "type": "editCodeCell"
   },
   {
    "code": "uiEventDf[uiEventDf[\"type\"]=='startScroll'].groupby([\"code\",\"id\"]).min()",
    "id": "dffc812837b047ad8af978f2d49f7f4f",
    "order_count": 25,
    "time": "2020-07-11T05:50:07.184Z",
    "type": "executeCodeCell"
   },
   {
    "code": "uiEventDf[uiEventDf[\"type\"]=='startScroll'].groupby([\"code\",\"id\"]).min()",
    "id": "dffc812837b047ad8af978f2d49f7f4f",
    "order_count": 25,
    "time": "2020-07-11T05:50:07.186Z",
    "type": "selectCodeCell"
   },
   {
    "id": "dffc812837b047ad8af978f2d49f7f4f",
    "isPrintLuxWidget": false,
    "isPrintPandas": true,
    "time": "2020-07-11T05:50:07.229Z",
    "type": "completeCodeCell"
   },
   {
    "code": "uiEventDf[uiEventDf[\"type\"]=='startScroll'].groupby([\"code\",\"id\"]).min()",
    "id": "dffc812837b047ad8af978f2d49f7f4f",
    "order_count": 25,
    "time": "2020-07-11T05:50:08.370Z",
    "type": "editCodeCell"
   },
   {
    "code": "uiEventDf[uiEventDf[\"type\"]=='startScroll'].groupby([\"id\",\"code\"]).min()",
    "id": "dffc812837b047ad8af978f2d49f7f4f",
    "order_count": 25,
    "time": "2020-07-11T05:50:35.099Z",
    "type": "executeCodeCell"
   },
   {
    "code": "uiEventDf[uiEventDf[\"type\"]=='startScroll'].groupby([\"id\",\"code\"]).min()",
    "id": "dffc812837b047ad8af978f2d49f7f4f",
    "order_count": 25,
    "time": "2020-07-11T05:50:35.101Z",
    "type": "selectCodeCell"
   },
   {
    "id": "dffc812837b047ad8af978f2d49f7f4f",
    "isPrintLuxWidget": false,
    "isPrintPandas": true,
    "time": "2020-07-11T05:50:35.153Z",
    "type": "completeCodeCell"
   },
   {
    "code": "uiEventDf[uiEventDf[\"type\"]=='startScroll'].groupby([\"id\",\"code\"]).min()",
    "id": "dffc812837b047ad8af978f2d49f7f4f",
    "order_count": 25,
    "time": "2020-07-11T05:50:36.010Z",
    "type": "editCodeCell"
   },
   {
    "code": "uiEventDf[uiEventDf[\"type\"]=='startScroll'].groupby([\"id\",\"code\"]).min()\nuiEventDf[uiEventDf[\"type\"]=='startScroll'].groupby([\"id\",\"code\"]).max()",
    "id": "dffc812837b047ad8af978f2d49f7f4f",
    "order_count": 25,
    "time": "2020-07-11T05:50:50.621Z",
    "type": "executeCodeCell"
   },
   {
    "code": "uiEventDf[uiEventDf[\"type\"]=='startScroll'].groupby([\"id\",\"code\"]).min()\nuiEventDf[uiEventDf[\"type\"]=='startScroll'].groupby([\"id\",\"code\"]).max()",
    "id": "dffc812837b047ad8af978f2d49f7f4f",
    "order_count": 25,
    "time": "2020-07-11T05:50:50.622Z",
    "type": "selectCodeCell"
   },
   {
    "id": "dffc812837b047ad8af978f2d49f7f4f",
    "isPrintLuxWidget": false,
    "isPrintPandas": true,
    "time": "2020-07-11T05:50:50.678Z",
    "type": "completeCodeCell"
   },
   {
    "code": "uiEventDf[uiEventDf[\"type\"]=='startScroll'].groupby([\"id\",\"code\"]).min()\nuiEventDf[uiEventDf[\"type\"]=='startScroll'].groupby([\"id\",\"code\"]).max()",
    "id": "dffc812837b047ad8af978f2d49f7f4f",
    "order_count": 25,
    "time": "2020-07-11T05:50:51.485Z",
    "type": "editCodeCell"
   },
   {
    "code": "uiEventDf[uiEventDf[\"type\"]=='startScroll'].groupby([\"id\",\"code\"]).min()\nuiEventDf[uiEventDf[\"type\"]=='startScroll'].groupby([\"id\",\"code\"]).max()",
    "id": "dffc812837b047ad8af978f2d49f7f4f",
    "order_count": 25,
    "time": "2020-07-11T05:50:58.200Z",
    "type": "selectCodeCell"
   },
   {
    "code": "",
    "id": "616070c21db84d409aed5b3e964d5e4a",
    "order_count": 25,
    "time": "2020-07-11T05:50:59.081Z",
    "type": "editCodeCell"
   },
   {
    "code": "uiEventDf[uiEventDf[\"type\"]=='startScroll'].groupby([\"id\",\"code\"]).apply",
    "id": "616070c21db84d409aed5b3e964d5e4a",
    "order_count": 25,
    "time": "2020-07-11T05:51:05.445Z",
    "type": "executeCodeCell"
   },
   {
    "code": "uiEventDf[uiEventDf[\"type\"]=='startScroll'].groupby([\"id\",\"code\"]).apply",
    "id": "616070c21db84d409aed5b3e964d5e4a",
    "order_count": 25,
    "time": "2020-07-11T05:51:05.448Z",
    "type": "selectCodeCell"
   },
   {
    "id": "616070c21db84d409aed5b3e964d5e4a",
    "isPrintLuxWidget": false,
    "isPrintPandas": false,
    "time": "2020-07-11T05:51:05.502Z",
    "type": "completeCodeCell"
   },
   {
    "code": "uiEventDf[uiEventDf[\"type\"]=='startScroll'].groupby([\"id\",\"code\"]).apply",
    "id": "616070c21db84d409aed5b3e964d5e4a",
    "order_count": 25,
    "time": "2020-07-11T05:51:06.298Z",
    "type": "editCodeCell"
   },
   {
    "code": "uiEventDf[uiEventDf[\"type\"]=='startScroll'].groupby([\"id\",\"code\"]).apply()",
    "id": "616070c21db84d409aed5b3e964d5e4a",
    "order_count": 25,
    "time": "2020-07-11T05:51:10.384Z",
    "type": "selectCodeCell"
   },
   {
    "code": "uiEventDf[uiEventDf[\"type\"]=='startScroll'].groupby([\"id\",\"code\"]).apply()",
    "id": "616070c21db84d409aed5b3e964d5e4a",
    "order_count": 25,
    "time": "2020-07-11T05:51:37.995Z",
    "type": "editCodeCell"
   },
   {
    "code": "uiEventDf[uiEventDf[\"type\"]=='startScroll'].groupby([\"id\",\"code\"]).apply()",
    "id": "616070c21db84d409aed5b3e964d5e4a",
    "order_count": 25,
    "time": "2020-07-11T05:51:46.803Z",
    "type": "selectCodeCell"
   },
   {
    "code": "uiEventDf[uiEventDf[\"type\"]=='startScroll'].groupby([\"id\",\"code\"]).apply()",
    "id": "616070c21db84d409aed5b3e964d5e4a",
    "order_count": 25,
    "time": "2020-07-11T05:51:47.964Z",
    "type": "editCodeCell"
   },
   {
    "code": "uiEventDf[uiEventDf[\"type\"]=='startScroll'].groupby([\"id\",\"code\"]).agg({'scrollDuration':np.max - np.min})",
    "id": "616070c21db84d409aed5b3e964d5e4a",
    "order_count": 25,
    "time": "2020-07-11T05:52:12.357Z",
    "type": "executeCodeCell"
   },
   {
    "code": "uiEventDf[uiEventDf[\"type\"]=='startScroll'].groupby([\"id\",\"code\"]).agg({'scrollDuration':np.max - np.min})",
    "id": "616070c21db84d409aed5b3e964d5e4a",
    "order_count": 25,
    "time": "2020-07-11T05:52:12.360Z",
    "type": "selectCodeCell"
   },
   {
    "id": "616070c21db84d409aed5b3e964d5e4a",
    "isPrintLuxWidget": false,
    "isPrintPandas": false,
    "time": "2020-07-11T05:52:12.432Z",
    "type": "completeCodeCell"
   },
   {
    "code": "uiEventDf[uiEventDf[\"type\"]=='startScroll'].groupby([\"id\",\"code\"]).agg({'scrollDuration':np.max - np.min})",
    "id": "616070c21db84d409aed5b3e964d5e4a",
    "order_count": 25,
    "time": "2020-07-11T05:52:13.903Z",
    "type": "editCodeCell"
   },
   {
    "code": "import numpy as np\nuiEventDf[uiEventDf[\"type\"]=='startScroll'].groupby([\"id\",\"code\"]).agg({'scrollDuration':np.max - np.min})",
    "id": "616070c21db84d409aed5b3e964d5e4a",
    "order_count": 25,
    "time": "2020-07-11T05:52:22.038Z",
    "type": "executeCodeCell"
   },
   {
    "code": "import numpy as np\nuiEventDf[uiEventDf[\"type\"]=='startScroll'].groupby([\"id\",\"code\"]).agg({'scrollDuration':np.max - np.min})",
    "id": "616070c21db84d409aed5b3e964d5e4a",
    "order_count": 25,
    "time": "2020-07-11T05:52:22.040Z",
    "type": "selectCodeCell"
   },
   {
    "id": "616070c21db84d409aed5b3e964d5e4a",
    "isPrintLuxWidget": false,
    "isPrintPandas": false,
    "time": "2020-07-11T05:52:22.098Z",
    "type": "completeCodeCell"
   },
   {
    "code": "import numpy as np\nuiEventDf[uiEventDf[\"type\"]=='startScroll'].groupby([\"id\",\"code\"]).agg({'scrollDuration':np.max - np.min})",
    "id": "616070c21db84d409aed5b3e964d5e4a",
    "order_count": 25,
    "time": "2020-07-11T05:52:23.359Z",
    "type": "editCodeCell"
   },
   {
    "code": "import numpy as np\nuiEventDf[uiEventDf[\"type\"]=='startScroll'].groupby([\"id\",\"code\"]).agg({'scrollDuration':[np.max - np.min]})",
    "id": "616070c21db84d409aed5b3e964d5e4a",
    "order_count": 25,
    "time": "2020-07-11T05:52:42.421Z",
    "type": "executeCodeCell"
   },
   {
    "code": "import numpy as np\nuiEventDf[uiEventDf[\"type\"]=='startScroll'].groupby([\"id\",\"code\"]).agg({'scrollDuration':[np.max - np.min]})",
    "id": "616070c21db84d409aed5b3e964d5e4a",
    "order_count": 25,
    "time": "2020-07-11T05:52:42.422Z",
    "type": "selectCodeCell"
   },
   {
    "id": "616070c21db84d409aed5b3e964d5e4a",
    "isPrintLuxWidget": false,
    "isPrintPandas": false,
    "time": "2020-07-11T05:52:42.477Z",
    "type": "completeCodeCell"
   },
   {
    "code": "import numpy as np\nuiEventDf[uiEventDf[\"type\"]=='startScroll'].groupby([\"id\",\"code\"]).agg({'scrollDuration':[np.max - np.min]})",
    "id": "616070c21db84d409aed5b3e964d5e4a",
    "order_count": 25,
    "time": "2020-07-11T05:53:40.447Z",
    "type": "editCodeCell"
   },
   {
    "code": "import numpy as np\nuiEventDf[uiEventDf[\"type\"]=='startScroll'].groupby([\"id\",\"code\"]).agg({'scrollDuration':[np.max,np.min]})",
    "id": "616070c21db84d409aed5b3e964d5e4a",
    "order_count": 25,
    "time": "2020-07-11T05:53:42.327Z",
    "type": "executeCodeCell"
   },
   {
    "code": "import numpy as np\nuiEventDf[uiEventDf[\"type\"]=='startScroll'].groupby([\"id\",\"code\"]).agg({'scrollDuration':[np.max,np.min]})",
    "id": "616070c21db84d409aed5b3e964d5e4a",
    "order_count": 25,
    "time": "2020-07-11T05:53:42.328Z",
    "type": "selectCodeCell"
   },
   {
    "id": "616070c21db84d409aed5b3e964d5e4a",
    "isPrintLuxWidget": false,
    "isPrintPandas": false,
    "time": "2020-07-11T05:53:42.389Z",
    "type": "completeCodeCell"
   },
   {
    "code": "import numpy as np\nuiEventDf[uiEventDf[\"type\"]=='startScroll'].groupby([\"id\",\"code\"]).agg({'scrollDuration':[np.max,np.min]})",
    "id": "616070c21db84d409aed5b3e964d5e4a",
    "order_count": 25,
    "time": "2020-07-11T05:53:52.216Z",
    "type": "editCodeCell"
   },
   {
    "code": "import numpy as np\nuiEventDf[(uiEventDf[\"type\"]=='startScroll')|(uiEventDf[\"type\"]=='stopScroll')].groupby([\"id\",\"code\"]).agg({'scrollDuration':[np.max,np.min]})",
    "id": "616070c21db84d409aed5b3e964d5e4a",
    "order_count": 25,
    "time": "2020-07-11T05:54:24.058Z",
    "type": "executeCodeCell"
   },
   {
    "code": "import numpy as np\nuiEventDf[(uiEventDf[\"type\"]=='startScroll')|(uiEventDf[\"type\"]=='stopScroll')].groupby([\"id\",\"code\"]).agg({'scrollDuration':[np.max,np.min]})",
    "id": "616070c21db84d409aed5b3e964d5e4a",
    "order_count": 25,
    "time": "2020-07-11T05:54:24.060Z",
    "type": "selectCodeCell"
   },
   {
    "id": "616070c21db84d409aed5b3e964d5e4a",
    "isPrintLuxWidget": false,
    "isPrintPandas": false,
    "time": "2020-07-11T05:54:24.117Z",
    "type": "completeCodeCell"
   },
   {
    "code": "import numpy as np\nuiEventDf[(uiEventDf[\"type\"]=='startScroll')|(uiEventDf[\"type\"]=='stopScroll')].groupby([\"id\",\"code\"]).agg({'scrollDuration':[np.max,np.min]})",
    "id": "616070c21db84d409aed5b3e964d5e4a",
    "order_count": 25,
    "time": "2020-07-11T05:54:32.553Z",
    "type": "editCodeCell"
   },
   {
    "code": "import numpy as np\nuiEventDf[(uiEventDf[\"type\"]=='startScroll')|(uiEventDf[\"type\"]=='stopScroll')].groupby([\"id\",\"code\"]).agg({'startTime':np.max})",
    "id": "616070c21db84d409aed5b3e964d5e4a",
    "order_count": 25,
    "time": "2020-07-11T05:54:48.137Z",
    "type": "executeCodeCell"
   },
   {
    "code": "import numpy as np\nuiEventDf[(uiEventDf[\"type\"]=='startScroll')|(uiEventDf[\"type\"]=='stopScroll')].groupby([\"id\",\"code\"]).agg({'startTime':np.max})",
    "id": "616070c21db84d409aed5b3e964d5e4a",
    "order_count": 25,
    "time": "2020-07-11T05:54:48.140Z",
    "type": "selectCodeCell"
   },
   {
    "id": "616070c21db84d409aed5b3e964d5e4a",
    "isPrintLuxWidget": false,
    "isPrintPandas": false,
    "time": "2020-07-11T05:54:48.212Z",
    "type": "completeCodeCell"
   },
   {
    "code": "import numpy as np\nuiEventDf[(uiEventDf[\"type\"]=='startScroll')|(uiEventDf[\"type\"]=='stopScroll')].groupby([\"id\",\"code\"]).agg({'startTime':np.max})",
    "id": "616070c21db84d409aed5b3e964d5e4a",
    "order_count": 25,
    "time": "2020-07-11T05:54:49.131Z",
    "type": "editCodeCell"
   },
   {
    "code": "import numpy as np\nuiEventDf[(uiEventDf[\"type\"]=='startScroll')|(uiEventDf[\"type\"]=='stopScroll')]",
    "id": "616070c21db84d409aed5b3e964d5e4a",
    "order_count": 25,
    "time": "2020-07-11T05:54:56.545Z",
    "type": "executeCodeCell"
   },
   {
    "code": "import numpy as np\nuiEventDf[(uiEventDf[\"type\"]=='startScroll')|(uiEventDf[\"type\"]=='stopScroll')]",
    "id": "616070c21db84d409aed5b3e964d5e4a",
    "order_count": 25,
    "time": "2020-07-11T05:54:56.546Z",
    "type": "selectCodeCell"
   },
   {
    "id": "616070c21db84d409aed5b3e964d5e4a",
    "isPrintLuxWidget": false,
    "isPrintPandas": true,
    "time": "2020-07-11T05:54:56.615Z",
    "type": "completeCodeCell"
   },
   {
    "code": "",
    "id": "6b468c881bef4e40882599e9ceab8bd8",
    "order_count": 26,
    "time": "2020-07-11T05:54:58.315Z",
    "type": "editCodeCell"
   },
   {
    "code": ".groupby([\"id\",\"code\"]).agg({'startTime':np.max})",
    "id": "6b468c881bef4e40882599e9ceab8bd8",
    "order_count": 26,
    "time": "2020-07-11T06:05:16.124Z",
    "type": "selectCodeCell"
   },
   {
    "code": ".groupby([\"id\",\"code\"]).agg({'startTime':np.max})",
    "id": "6b468c881bef4e40882599e9ceab8bd8",
    "order_count": 26,
    "time": "2020-07-11T06:29:13.674Z",
    "type": "editCodeCell"
   },
   {
    "code": ".groupby([\"id\",\"code\"]).agg({'startTime':np.max})",
    "id": "6b468c881bef4e40882599e9ceab8bd8",
    "order_count": 26,
    "time": "2020-07-11T06:29:59.553Z",
    "type": "selectCodeCell"
   },
   {
    "code": "import numpy as np\nuiEventDf[(uiEventDf[\"type\"]=='startScroll')|(uiEventDf[\"type\"]=='stopScroll')]",
    "id": "616070c21db84d409aed5b3e964d5e4a",
    "order_count": 25,
    "time": "2020-07-11T06:29:59.598Z",
    "type": "editCodeCell"
   },
   {
    "code": "import numpy as np\nuiEventDf[(uiEventDf[\"type\"]=='startScroll')|(uiEventDf[\"type\"]=='stopScroll')]",
    "id": "616070c21db84d409aed5b3e964d5e4a",
    "order_count": 25,
    "time": "2020-07-11T06:30:06.959Z",
    "type": "selectCodeCell"
   },
   {
    "code": "uiEventDf[uiEventDf[\"type\"]=='startScroll'].groupby([\"id\",\"code\"]).min()\nuiEventDf[uiEventDf[\"type\"]=='startScroll'].groupby([\"id\",\"code\"]).max()",
    "id": "dffc812837b047ad8af978f2d49f7f4f",
    "order_count": 27,
    "time": "2020-07-11T06:30:06.996Z",
    "type": "editCodeCell"
   },
   {
    "code": "uiEventDf[uiEventDf[\"type\"]=='startScroll'].groupby([\"id\",\"code\"]).min()\nuiEventDf[uiEventDf[\"type\"]=='startScroll'].groupby([\"id\",\"code\"]).max()",
    "id": "dffc812837b047ad8af978f2d49f7f4f",
    "order_count": 27,
    "time": "2020-07-11T06:30:23.673Z",
    "type": "selectCodeCell"
   },
   {
    "code": ".groupby([\"id\",\"code\"]).agg({'startTime':np.max})",
    "id": "6b468c881bef4e40882599e9ceab8bd8",
    "order_count": 26,
    "time": "2020-07-11T06:30:23.718Z",
    "type": "editCodeCell"
   },
   {
    "code": ".groupby([\"id\",\"code\"]).agg({'time':np.max})",
    "id": "6b468c881bef4e40882599e9ceab8bd8",
    "order_count": 26,
    "time": "2020-07-11T06:30:34.743Z",
    "type": "selectCodeCell"
   },
   {
    "code": "import numpy as np\nuiEventDf[(uiEventDf[\"type\"]=='startScroll')|(uiEventDf[\"type\"]=='stopScroll')]",
    "id": "616070c21db84d409aed5b3e964d5e4a",
    "order_count": 25,
    "time": "2020-07-11T06:30:34.786Z",
    "type": "editCodeCell"
   },
   {
    "code": "import numpy as np\nuiEventDf[(uiEventDf[\"type\"]=='startScroll')|(uiEventDf[\"type\"]=='stopScroll')]",
    "id": "616070c21db84d409aed5b3e964d5e4a",
    "order_count": 25,
    "time": "2020-07-11T06:30:36.286Z",
    "type": "selectCodeCell"
   },
   {
    "code": ".groupby([\"id\",\"code\"]).agg({'time':np.max})",
    "id": "6b468c881bef4e40882599e9ceab8bd8",
    "order_count": 26,
    "time": "2020-07-11T06:30:36.326Z",
    "type": "editCodeCell"
   },
   {
    "code": "uiEventDf[(uiEventDf[\"type\"]=='startScroll')|(uiEventDf[\"type\"]=='stopScroll')].groupby([\"id\",\"code\"]).agg({'time':np.max})",
    "id": "6b468c881bef4e40882599e9ceab8bd8",
    "order_count": 26,
    "time": "2020-07-11T06:30:37.370Z",
    "type": "executeCodeCell"
   },
   {
    "code": "uiEventDf[(uiEventDf[\"type\"]=='startScroll')|(uiEventDf[\"type\"]=='stopScroll')].groupby([\"id\",\"code\"]).agg({'time':np.max})",
    "id": "6b468c881bef4e40882599e9ceab8bd8",
    "order_count": 26,
    "time": "2020-07-11T06:30:37.371Z",
    "type": "selectCodeCell"
   },
   {
    "id": "6b468c881bef4e40882599e9ceab8bd8",
    "isPrintLuxWidget": false,
    "isPrintPandas": true,
    "time": "2020-07-11T06:30:37.422Z",
    "type": "completeCodeCell"
   },
   {
    "code": "uiEventDf[(uiEventDf[\"type\"]=='startScroll')|(uiEventDf[\"type\"]=='stopScroll')].groupby([\"id\",\"code\"]).agg({'time':np.max})",
    "id": "6b468c881bef4e40882599e9ceab8bd8",
    "order_count": 26,
    "time": "2020-07-11T06:30:38.234Z",
    "type": "editCodeCell"
   },
   {
    "code": "uiEventDf[(uiEventDf[\"type\"]=='startScroll')|(uiEventDf[\"type\"]=='stopScroll')].groupby([\"id\",\"code\"]).agg({'time':[np.max,np.min]})",
    "id": "6b468c881bef4e40882599e9ceab8bd8",
    "order_count": 26,
    "time": "2020-07-11T06:30:50.852Z",
    "type": "executeCodeCell"
   },
   {
    "code": "uiEventDf[(uiEventDf[\"type\"]=='startScroll')|(uiEventDf[\"type\"]=='stopScroll')].groupby([\"id\",\"code\"]).agg({'time':[np.max,np.min]})",
    "id": "6b468c881bef4e40882599e9ceab8bd8",
    "order_count": 26,
    "time": "2020-07-11T06:30:50.853Z",
    "type": "selectCodeCell"
   },
   {
    "id": "6b468c881bef4e40882599e9ceab8bd8",
    "isPrintLuxWidget": false,
    "isPrintPandas": true,
    "time": "2020-07-11T06:30:50.907Z",
    "type": "completeCodeCell"
   },
   {
    "code": "uiEventDf[(uiEventDf[\"type\"]=='startScroll')|(uiEventDf[\"type\"]=='stopScroll')].groupby([\"id\",\"code\"]).agg({'time':[np.max,np.min]})",
    "id": "6b468c881bef4e40882599e9ceab8bd8",
    "order_count": 26,
    "time": "2020-07-11T06:30:51.811Z",
    "type": "editCodeCell"
   },
   {
    "code": "uiEventDf[(uiEventDf[\"type\"]=='startScroll')|(uiEventDf[\"type\"]=='stopScroll')].groupby([\"id\",\"code\"]).agg({'time':np.max-np.min})",
    "id": "6b468c881bef4e40882599e9ceab8bd8",
    "order_count": 26,
    "time": "2020-07-11T06:31:00.233Z",
    "type": "executeCodeCell"
   },
   {
    "code": "uiEventDf[(uiEventDf[\"type\"]=='startScroll')|(uiEventDf[\"type\"]=='stopScroll')].groupby([\"id\",\"code\"]).agg({'time':np.max-np.min})",
    "id": "6b468c881bef4e40882599e9ceab8bd8",
    "order_count": 26,
    "time": "2020-07-11T06:31:00.235Z",
    "type": "selectCodeCell"
   },
   {
    "id": "6b468c881bef4e40882599e9ceab8bd8",
    "isPrintLuxWidget": false,
    "isPrintPandas": false,
    "time": "2020-07-11T06:31:00.287Z",
    "type": "completeCodeCell"
   },
   {
    "code": "uiEventDf[(uiEventDf[\"type\"]=='startScroll')|(uiEventDf[\"type\"]=='stopScroll')].groupby([\"id\",\"code\"]).agg({'time':np.max-np.min})",
    "id": "6b468c881bef4e40882599e9ceab8bd8",
    "order_count": 26,
    "time": "2020-07-11T06:31:01.092Z",
    "type": "editCodeCell"
   },
   {
    "code": "uiEventDf[(uiEventDf[\"type\"]=='startScroll')|(uiEventDf[\"type\"]=='stopScroll')].groupby([\"id\",\"code\"]).agg({'time':[np.max,np.min]})",
    "id": "6b468c881bef4e40882599e9ceab8bd8",
    "order_count": 26,
    "time": "2020-07-11T06:31:02.843Z",
    "type": "executeCodeCell"
   },
   {
    "code": "uiEventDf[(uiEventDf[\"type\"]=='startScroll')|(uiEventDf[\"type\"]=='stopScroll')].groupby([\"id\",\"code\"]).agg({'time':[np.max,np.min]})",
    "id": "6b468c881bef4e40882599e9ceab8bd8",
    "order_count": 26,
    "time": "2020-07-11T06:31:02.844Z",
    "type": "selectCodeCell"
   },
   {
    "id": "6b468c881bef4e40882599e9ceab8bd8",
    "isPrintLuxWidget": false,
    "isPrintPandas": true,
    "time": "2020-07-11T06:31:02.903Z",
    "type": "completeCodeCell"
   },
   {
    "code": "uiEventDf[(uiEventDf[\"type\"]=='startScroll')|(uiEventDf[\"type\"]=='stopScroll')].groupby([\"id\",\"code\"]).agg({'time':[np.max,np.min]})",
    "id": "6b468c881bef4e40882599e9ceab8bd8",
    "order_count": 26,
    "time": "2020-07-11T06:31:03.675Z",
    "type": "editCodeCell"
   },
   {
    "code": "uiEventDf[(uiEventDf[\"type\"]=='startScroll')|(uiEventDf[\"type\"]=='stopScroll')].groupby([\"id\",\"code\"]).agg({'time':[np.max,np.min]})",
    "id": "6b468c881bef4e40882599e9ceab8bd8",
    "order_count": 26,
    "time": "2020-07-11T06:31:25.440Z",
    "type": "selectCodeCell"
   },
   {
    "code": "uiEventDf[(uiEventDf[\"type\"]=='startScroll')|(uiEventDf[\"type\"]=='stopScroll')].groupby([\"id\",\"code\"]).agg({'time':[np.max,np.min]})",
    "id": "6b468c881bef4e40882599e9ceab8bd8",
    "order_count": 26,
    "time": "2020-07-11T06:31:53.340Z",
    "type": "editCodeCell"
   },
   {
    "code": "uiEventDf[(uiEventDf[\"type\"]=='startScroll')|(uiEventDf[\"type\"]=='stopScroll')].groupby([\"id\",\"code\"]).ptp()",
    "id": "6b468c881bef4e40882599e9ceab8bd8",
    "order_count": 26,
    "time": "2020-07-11T06:31:57.364Z",
    "type": "executeCodeCell"
   },
   {
    "code": "uiEventDf[(uiEventDf[\"type\"]=='startScroll')|(uiEventDf[\"type\"]=='stopScroll')].groupby([\"id\",\"code\"]).ptp()",
    "id": "6b468c881bef4e40882599e9ceab8bd8",
    "order_count": 26,
    "time": "2020-07-11T06:31:57.365Z",
    "type": "selectCodeCell"
   },
   {
    "id": "6b468c881bef4e40882599e9ceab8bd8",
    "isPrintLuxWidget": false,
    "isPrintPandas": false,
    "time": "2020-07-11T06:31:57.426Z",
    "type": "completeCodeCell"
   },
   {
    "code": "uiEventDf[(uiEventDf[\"type\"]=='startScroll')|(uiEventDf[\"type\"]=='stopScroll')].groupby([\"id\",\"code\"]).ptp()",
    "id": "6b468c881bef4e40882599e9ceab8bd8",
    "order_count": 26,
    "time": "2020-07-11T06:31:58.580Z",
    "type": "editCodeCell"
   },
   {
    "code": "uiEventDf[(uiEventDf[\"type\"]=='startScroll')|(uiEventDf[\"type\"]=='stopScroll')].groupby([\"id\",\"code\"]).ptp()",
    "id": "6b468c881bef4e40882599e9ceab8bd8",
    "order_count": 26,
    "time": "2020-07-11T06:32:04.722Z",
    "type": "selectCodeCell"
   },
   {
    "code": "uiEventDf[(uiEventDf[\"type\"]=='startScroll')|(uiEventDf[\"type\"]=='stopScroll')].groupby([\"id\",\"code\"]).ptp()",
    "id": "6b468c881bef4e40882599e9ceab8bd8",
    "order_count": 26,
    "time": "2020-07-11T06:32:11.564Z",
    "type": "editCodeCell"
   },
   {
    "code": "uiEventDf[(uiEventDf[\"type\"]=='startScroll')|(uiEventDf[\"type\"]=='stopScroll')].groupby([\"id\",\"code\"]).agg(np.ptp)",
    "id": "6b468c881bef4e40882599e9ceab8bd8",
    "order_count": 26,
    "time": "2020-07-11T06:32:15.715Z",
    "type": "executeCodeCell"
   },
   {
    "code": "uiEventDf[(uiEventDf[\"type\"]=='startScroll')|(uiEventDf[\"type\"]=='stopScroll')].groupby([\"id\",\"code\"]).agg(np.ptp)",
    "id": "6b468c881bef4e40882599e9ceab8bd8",
    "order_count": 26,
    "time": "2020-07-11T06:32:15.716Z",
    "type": "selectCodeCell"
   },
   {
    "id": "6b468c881bef4e40882599e9ceab8bd8",
    "isPrintLuxWidget": false,
    "isPrintPandas": true,
    "time": "2020-07-11T06:32:15.770Z",
    "type": "completeCodeCell"
   },
   {
    "code": "uiEventDf[(uiEventDf[\"type\"]=='startScroll')|(uiEventDf[\"type\"]=='stopScroll')].groupby([\"id\",\"code\"]).agg(np.ptp)",
    "id": "6b468c881bef4e40882599e9ceab8bd8",
    "order_count": 26,
    "time": "2020-07-11T06:32:16.565Z",
    "type": "editCodeCell"
   },
   {
    "code": "uiEventDf[(uiEventDf[\"type\"]=='startScroll')|(uiEventDf[\"type\"]=='stopScroll')].groupby([\"id\",\"code\"])[\"time\"].agg(np.ptp)",
    "id": "6b468c881bef4e40882599e9ceab8bd8",
    "order_count": 26,
    "time": "2020-07-11T06:32:33.519Z",
    "type": "executeCodeCell"
   },
   {
    "code": "uiEventDf[(uiEventDf[\"type\"]=='startScroll')|(uiEventDf[\"type\"]=='stopScroll')].groupby([\"id\",\"code\"])[\"time\"].agg(np.ptp)",
    "id": "6b468c881bef4e40882599e9ceab8bd8",
    "order_count": 26,
    "time": "2020-07-11T06:32:33.523Z",
    "type": "selectCodeCell"
   },
   {
    "id": "6b468c881bef4e40882599e9ceab8bd8",
    "isPrintLuxWidget": false,
    "isPrintPandas": false,
    "time": "2020-07-11T06:32:33.584Z",
    "type": "completeCodeCell"
   },
   {
    "code": "uiEventDf[(uiEventDf[\"type\"]=='startScroll')|(uiEventDf[\"type\"]=='stopScroll')].groupby([\"id\",\"code\"])[\"time\"].agg(np.ptp)",
    "id": "6b468c881bef4e40882599e9ceab8bd8",
    "order_count": 26,
    "time": "2020-07-11T06:32:34.333Z",
    "type": "editCodeCell"
   },
   {
    "code": "uiEventDf[(uiEventDf[\"type\"]=='startScroll')|(uiEventDf[\"type\"]=='stopScroll')].groupby([\"id\",\"code\"])[\"time\"].agg(np.ptp)",
    "id": "6b468c881bef4e40882599e9ceab8bd8",
    "order_count": 26,
    "time": "2020-07-11T06:33:17.032Z",
    "type": "selectCodeCell"
   },
   {
    "code": "uiEventDf[(uiEventDf[\"type\"]=='startScroll')|(uiEventDf[\"type\"]=='stopScroll')].groupby([\"id\",\"code\"])[\"time\"].agg(np.ptp)",
    "id": "6b468c881bef4e40882599e9ceab8bd8",
    "order_count": 26,
    "time": "2020-07-11T06:33:31.173Z",
    "type": "editCodeCell"
   },
   {
    "code": "uiEventDf[(uiEventDf[\"type\"]=='startScroll')|(uiEventDf[\"type\"]=='stopScroll')].groupby([\"id\",\"code\"])[\"time\"].agg(np.ptp)",
    "id": "6b468c881bef4e40882599e9ceab8bd8",
    "order_count": 26,
    "time": "2020-07-11T06:33:32.236Z",
    "type": "selectCodeCell"
   },
   {
    "code": "uiEventDf[(uiEventDf[\"type\"]=='startScroll')|(uiEventDf[\"type\"]=='stopScroll')].groupby([\"id\",\"code\"])[\"time\"].agg(np.ptp)",
    "id": "6b468c881bef4e40882599e9ceab8bd8",
    "order_count": 26,
    "time": "2020-07-11T06:33:32.277Z",
    "type": "editCodeCell"
   },
   {
    "code": "uiEventDf[(uiEventDf[\"type\"]=='startScroll')|(uiEventDf[\"type\"]=='stopScroll')].groupby([\"id\",\"code\"])[\"time\"].agg(np.ptp)",
    "id": "6b468c881bef4e40882599e9ceab8bd8",
    "order_count": 26,
    "time": "2020-07-11T06:33:32.813Z",
    "type": "selectCodeCell"
   },
   {
    "code": "uiEventDf[(uiEventDf[\"type\"]=='startScroll')|(uiEventDf[\"type\"]=='stopScroll')].groupby([\"id\",\"code\"])[\"time\"].agg(np.ptp)",
    "id": "6b468c881bef4e40882599e9ceab8bd8",
    "order_count": 26,
    "time": "2020-07-11T06:33:32.855Z",
    "type": "editCodeCell"
   },
   {
    "code": "uiEventDf[(uiEventDf[\"type\"]=='startScroll')|(uiEventDf[\"type\"]=='stopScroll')].groupby([\"id\",\"code\"])[\"time\"].agg(np.ptp)",
    "id": "6b468c881bef4e40882599e9ceab8bd8",
    "order_count": 26,
    "time": "2020-07-11T06:33:57.120Z",
    "type": "executeCodeCell"
   },
   {
    "code": "uiEventDf[(uiEventDf[\"type\"]=='startScroll')|(uiEventDf[\"type\"]=='stopScroll')].groupby([\"id\",\"code\"])[\"time\"].agg(np.ptp)",
    "id": "6b468c881bef4e40882599e9ceab8bd8",
    "order_count": 26,
    "time": "2020-07-11T06:33:57.123Z",
    "type": "selectCodeCell"
   },
   {
    "id": "6b468c881bef4e40882599e9ceab8bd8",
    "isPrintLuxWidget": false,
    "isPrintPandas": false,
    "time": "2020-07-11T06:33:57.184Z",
    "type": "completeCodeCell"
   },
   {
    "code": "uiEventDf[(uiEventDf[\"type\"]=='startScroll')|(uiEventDf[\"type\"]=='stopScroll')].groupby([\"id\",\"code\"])[\"time\"].agg(np.ptp)",
    "id": "6b468c881bef4e40882599e9ceab8bd8",
    "order_count": 26,
    "time": "2020-07-11T06:33:58.415Z",
    "type": "editCodeCell"
   },
   {
    "code": "uiEventDf[(uiEventDf[\"type\"]=='startScroll')|(uiEventDf[\"type\"]=='stopScroll')].groupby([\"id\",\"code\"])[\"time\"].agg(np.ptp)",
    "id": "6b468c881bef4e40882599e9ceab8bd8",
    "order_count": 26,
    "time": "2020-07-11T06:34:11.213Z",
    "type": "selectCodeCell"
   },
   {
    "code": "uiEventDf[(uiEventDf[\"type\"]=='startScroll')|(uiEventDf[\"type\"]=='stopScroll')].groupby([\"id\",\"code\"])[\"time\"].agg(np.ptp)",
    "id": "6b468c881bef4e40882599e9ceab8bd8",
    "order_count": 26,
    "time": "2020-07-11T06:39:11.462Z",
    "type": "editCodeCell"
   },
   {
    "code": "uiEventDf[(uiEventDf[\"type\"]=='startScroll')|(uiEventDf[\"type\"]=='stopScroll')].groupby([\"id\",\"code\"])[\"time\"].agg(np.ptp)",
    "id": "6b468c881bef4e40882599e9ceab8bd8",
    "order_count": 26,
    "time": "2020-07-11T06:39:12.046Z",
    "type": "selectCodeCell"
   },
   {
    "time": "2020-07-11T06:39:28.382Z",
    "type": "kernelRestart"
   },
   {
    "time": "2020-07-11T06:39:28.549Z",
    "type": "kernelRestart"
   },
   {
    "time": "2020-07-11T06:39:30.546Z",
    "type": "kernelReady"
   },
   {
    "time": "2020-07-11T06:39:30.558Z",
    "type": "kernelReady"
   },
   {
    "code": "import json",
    "id": "6e1ce3c6b98142ab8671b63ce329695a",
    "order_count": 0,
    "time": "2020-07-11T06:39:33.137Z",
    "type": "executeCodeCell"
   },
   {
    "id": "6e1ce3c6b98142ab8671b63ce329695a",
    "isPrintLuxWidget": false,
    "isPrintPandas": false,
    "time": "2020-07-11T06:39:33.159Z",
    "type": "completeCodeCell"
   },
   {
    "code": "nb = json.load(open(\"CarsDemo.ipynb\"))",
    "id": "2761f3ce1c9f44d9ba87e968b2ea85cf",
    "order_count": 1,
    "time": "2020-07-11T06:39:33.288Z",
    "type": "executeCodeCell"
   },
   {
    "id": "2761f3ce1c9f44d9ba87e968b2ea85cf",
    "isPrintLuxWidget": false,
    "isPrintPandas": false,
    "time": "2020-07-11T06:39:33.309Z",
    "type": "completeCodeCell"
   },
   {
    "code": "log = nb[\"metadata\"][\"history\"]",
    "id": "ec3736321c6d4607833d8dca032f7fff",
    "order_count": 2,
    "time": "2020-07-11T06:39:33.441Z",
    "type": "executeCodeCell"
   },
   {
    "id": "ec3736321c6d4607833d8dca032f7fff",
    "isPrintLuxWidget": false,
    "isPrintPandas": false,
    "time": "2020-07-11T06:39:33.459Z",
    "type": "completeCodeCell"
   },
   {
    "code": "import pandas as pd",
    "id": "03e16b95dd2e449a8864ae766af43998",
    "order_count": 5,
    "time": "2020-07-11T06:39:34.313Z",
    "type": "executeCodeCell"
   },
   {
    "id": "03e16b95dd2e449a8864ae766af43998",
    "isPrintLuxWidget": false,
    "isPrintPandas": false,
    "time": "2020-07-11T06:39:34.505Z",
    "type": "completeCodeCell"
   },
   {
    "code": "df = pd.DataFrame(log)",
    "id": "aa28737cb99243478b249545fb49cb9a",
    "order_count": 6,
    "time": "2020-07-11T06:39:34.617Z",
    "type": "executeCodeCell"
   },
   {
    "id": "aa28737cb99243478b249545fb49cb9a",
    "isPrintLuxWidget": false,
    "isPrintPandas": false,
    "time": "2020-07-11T06:39:34.638Z",
    "type": "completeCodeCell"
   },
   {
    "code": "df[\"time\"] = pd.to_datetime(df[\"time\"])",
    "id": "890b21c0c37942cb8c4a49b77fe4cec7",
    "order_count": 7,
    "time": "2020-07-11T06:39:34.888Z",
    "type": "executeCodeCell"
   },
   {
    "id": "890b21c0c37942cb8c4a49b77fe4cec7",
    "isPrintLuxWidget": false,
    "isPrintPandas": false,
    "time": "2020-07-11T06:39:34.911Z",
    "type": "completeCodeCell"
   },
   {
    "code": "subset1 = df[(df[\"type\"]==\"editCodeCell\")|(df[\"type\"]==\"executeCodeCell\")]\nsubset1.loc[:,\"queryFormulationTime\"] = subset1.groupby([\"code\",\"id\"])[\"time\"].diff()",
    "id": "08d90942f20146918d52c45dee7217c4",
    "order_count": 8,
    "time": "2020-07-11T06:39:35.257Z",
    "type": "executeCodeCell"
   },
   {
    "id": "08d90942f20146918d52c45dee7217c4",
    "isPrintLuxWidget": false,
    "isPrintPandas": false,
    "time": "2020-07-11T06:39:35.300Z",
    "type": "completeCodeCell"
   },
   {
    "code": "subset2 = df[(df[\"type\"]==\"executeCodeCell\")|(df[\"type\"]==\"completeCodeCell\")]\nsubset2.loc[:,\"codeExecutionTime\"] = subset2.groupby([\"code\",\"id\"])[\"time\"].diff()",
    "id": "215c8d0ddd8f49ad8762ef98851b75e9",
    "order_count": 9,
    "time": "2020-07-11T06:39:35.848Z",
    "type": "executeCodeCell"
   },
   {
    "id": "215c8d0ddd8f49ad8762ef98851b75e9",
    "isPrintLuxWidget": false,
    "isPrintPandas": false,
    "time": "2020-07-11T06:39:35.870Z",
    "type": "completeCodeCell"
   },
   {
    "code": "codeCellsubset=pd.concat([subset1,subset2])",
    "id": "704b70a82a48442183ee0e5e4cddac9a",
    "order_count": 10,
    "time": "2020-07-11T06:39:36.594Z",
    "type": "executeCodeCell"
   },
   {
    "id": "704b70a82a48442183ee0e5e4cddac9a",
    "isPrintLuxWidget": false,
    "isPrintPandas": false,
    "time": "2020-07-11T06:39:36.618Z",
    "type": "completeCodeCell"
   },
   {
    "code": "#cellEvents is a dataframe with edit/complete/execute Code Cell all merged as one event, with computed queryFormulationTime and codeExecutionTime\ncellEvents = codeCellsubset.groupby(['code','id']).last()\ncellEvents = cellEvents.reset_index()\ncellEvents.type = \"CodeCellEvent\"",
    "id": "84422ca85d144d098c8f3ad52aa36f57",
    "order_count": 11,
    "time": "2020-07-11T06:39:37.794Z",
    "type": "executeCodeCell"
   },
   {
    "id": "84422ca85d144d098c8f3ad52aa36f57",
    "isPrintLuxWidget": false,
    "isPrintPandas": false,
    "time": "2020-07-11T06:39:37.819Z",
    "type": "completeCodeCell"
   },
   {
    "code": "",
    "id": "49bd79c86c464fb795234004377f1b4a",
    "order_count": 12,
    "time": "2020-07-11T06:39:40.376Z",
    "type": "editCodeCell"
   },
   {
    "code": "cellEvents",
    "id": "49bd79c86c464fb795234004377f1b4a",
    "order_count": 12,
    "time": "2020-07-11T06:39:42.626Z",
    "type": "executeCodeCell"
   },
   {
    "code": "cellEvents",
    "id": "49bd79c86c464fb795234004377f1b4a",
    "order_count": 12,
    "time": "2020-07-11T06:39:42.628Z",
    "type": "selectCodeCell"
   },
   {
    "id": "49bd79c86c464fb795234004377f1b4a",
    "isPrintLuxWidget": false,
    "isPrintPandas": true,
    "time": "2020-07-11T06:39:42.684Z",
    "type": "completeCodeCell"
   },
   {
    "code": "cellEvents[\"isPrintLux\"]",
    "id": "f1c6665118904af79425278635a6302f",
    "order_count": 13,
    "time": "2020-07-11T06:40:20.037Z",
    "type": "editCodeCell"
   },
   {
    "code": "cellEvents[\"isPrintLuxWidget\"]",
    "id": "f1c6665118904af79425278635a6302f",
    "order_count": 13,
    "time": "2020-07-11T06:40:27.029Z",
    "type": "executeCodeCell"
   },
   {
    "code": "cellEvents[\"isPrintLuxWidget\"]",
    "id": "f1c6665118904af79425278635a6302f",
    "order_count": 13,
    "time": "2020-07-11T06:40:27.030Z",
    "type": "selectCodeCell"
   },
   {
    "id": "f1c6665118904af79425278635a6302f",
    "isPrintLuxWidget": false,
    "isPrintPandas": false,
    "time": "2020-07-11T06:40:27.089Z",
    "type": "completeCodeCell"
   },
   {
    "code": "cellEvents[\"isPrintLuxWidget\"]",
    "id": "f1c6665118904af79425278635a6302f",
    "order_count": 13,
    "time": "2020-07-11T06:40:27.844Z",
    "type": "editCodeCell"
   },
   {
    "code": "cellEvents[\"isPrintPandas\"]",
    "id": "f1c6665118904af79425278635a6302f",
    "order_count": 13,
    "time": "2020-07-11T06:40:39.525Z",
    "type": "executeCodeCell"
   },
   {
    "code": "cellEvents[\"isPrintPandas\"]",
    "id": "f1c6665118904af79425278635a6302f",
    "order_count": 13,
    "time": "2020-07-11T06:40:39.527Z",
    "type": "selectCodeCell"
   },
   {
    "id": "f1c6665118904af79425278635a6302f",
    "isPrintLuxWidget": false,
    "isPrintPandas": false,
    "time": "2020-07-11T06:40:39.588Z",
    "type": "completeCodeCell"
   },
   {
    "code": "cellEvents[\"isPrintPandas\"]",
    "id": "f1c6665118904af79425278635a6302f",
    "order_count": 13,
    "time": "2020-07-11T06:40:40.410Z",
    "type": "editCodeCell"
   },
   {
    "code": "cellEvents[\"isPrintPandas\"]",
    "id": "f1c6665118904af79425278635a6302f",
    "order_count": 13,
    "time": "2020-07-11T06:40:54.294Z",
    "type": "selectCodeCell"
   },
   {
    "code": "print (\"Total number of dataframe prints:\",)",
    "id": "7d3d11549c9e406c8fe054632fa33db3",
    "order_count": 14,
    "time": "2020-07-11T06:41:11.079Z",
    "type": "editCodeCell"
   },
   {
    "code": "print (\"Total number of dataframe prints:\",)",
    "id": "7d3d11549c9e406c8fe054632fa33db3",
    "order_count": 14,
    "time": "2020-07-11T06:41:12.404Z",
    "type": "executeCodeCell"
   },
   {
    "code": "print (\"Total number of dataframe prints:\",)",
    "id": "7d3d11549c9e406c8fe054632fa33db3",
    "order_count": 14,
    "time": "2020-07-11T06:41:12.406Z",
    "type": "selectCodeCell"
   },
   {
    "id": "7d3d11549c9e406c8fe054632fa33db3",
    "isPrintLuxWidget": false,
    "isPrintPandas": false,
    "time": "2020-07-11T06:41:12.462Z",
    "type": "completeCodeCell"
   },
   {
    "code": "df[df[\"order_count\"]==9].groupby([\"code\",\"id\"]).sum()",
    "id": "cb9ba65d79734dc28821381ba64a3bff",
    "order_count": 15,
    "time": "2020-07-11T06:41:12.689Z",
    "type": "executeCodeCell"
   },
   {
    "id": "cb9ba65d79734dc28821381ba64a3bff",
    "isPrintLuxWidget": false,
    "isPrintPandas": true,
    "time": "2020-07-11T06:41:12.725Z",
    "type": "completeCodeCell"
   },
   {
    "code": "df.type.unique()",
    "id": "00bcba1ab0074ec4b375c2b05cbd29a0",
    "order_count": 16,
    "time": "2020-07-11T06:41:13.589Z",
    "type": "executeCodeCell"
   },
   {
    "id": "00bcba1ab0074ec4b375c2b05cbd29a0",
    "isPrintLuxWidget": false,
    "isPrintPandas": false,
    "time": "2020-07-11T06:41:13.618Z",
    "type": "completeCodeCell"
   },
   {
    "code": "UIevents = ['initWidget','switchTab', 'startScroll', 'stopScroll', \n       'toggleBtnClick', 'clickVis', 'exportBtnClick']",
    "id": "5986949547df4de7b04fe230bf2ca91c",
    "order_count": 18,
    "time": "2020-07-11T06:41:14.746Z",
    "type": "executeCodeCell"
   },
   {
    "id": "5986949547df4de7b04fe230bf2ca91c",
    "isPrintLuxWidget": false,
    "isPrintPandas": false,
    "time": "2020-07-11T06:41:14.767Z",
    "type": "completeCodeCell"
   },
   {
    "code": "# df[df.type.isin(UIevents+['selectCodeCell'])]",
    "id": "ceccc2b2d9bb40bf8fa20963e12cdd49",
    "order_count": 19,
    "time": "2020-07-11T06:41:15.197Z",
    "type": "executeCodeCell"
   },
   {
    "id": "ceccc2b2d9bb40bf8fa20963e12cdd49",
    "isPrintLuxWidget": false,
    "isPrintPandas": false,
    "time": "2020-07-11T06:41:15.219Z",
    "type": "completeCodeCell"
   },
   {
    "code": "uiEventDf = df[df.type.isin(UIevents+['selectCodeCell'])].ffill() #fill forwards based on the values in the most recent `selectCodeCell`",
    "id": "83fef329c00947ac89e8717914fa467a",
    "order_count": 20,
    "time": "2020-07-11T06:41:15.599Z",
    "type": "executeCodeCell"
   },
   {
    "id": "83fef329c00947ac89e8717914fa467a",
    "isPrintLuxWidget": false,
    "isPrintPandas": false,
    "time": "2020-07-11T06:41:15.631Z",
    "type": "completeCodeCell"
   },
   {
    "code": "uiEventDf",
    "id": "49a724f6c5d945349b0fcaed7370696e",
    "order_count": 21,
    "time": "2020-07-11T06:41:16.368Z",
    "type": "executeCodeCell"
   },
   {
    "id": "49a724f6c5d945349b0fcaed7370696e",
    "isPrintLuxWidget": false,
    "isPrintPandas": true,
    "time": "2020-07-11T06:41:16.396Z",
    "type": "completeCodeCell"
   },
   {
    "code": "uiEventDf",
    "id": "49a724f6c5d945349b0fcaed7370696e",
    "order_count": null,
    "time": "2020-07-11T06:41:35.207Z",
    "type": "deleteCodeCell"
   },
   {
    "code": "uiEventDf",
    "id": "76996bad8c40400e9dfbc0eb88ee7ae0",
    "order_count": 21,
    "time": "2020-07-11T06:41:41.102Z",
    "type": "editCodeCell"
   },
   {
    "code": "uiEventDf",
    "id": "76996bad8c40400e9dfbc0eb88ee7ae0",
    "order_count": 21,
    "time": "2020-07-11T06:41:44.807Z",
    "type": "selectCodeCell"
   },
   {
    "code": "uiEventDf[uiEventDf[\"type\"]=='switchTab']",
    "id": "1ca4cf715a58403da878aee8e15eb9d4",
    "order_count": 25,
    "time": "2020-07-11T06:41:45.887Z",
    "type": "executeCodeCell"
   },
   {
    "id": "1ca4cf715a58403da878aee8e15eb9d4",
    "isPrintLuxWidget": false,
    "isPrintPandas": true,
    "time": "2020-07-11T06:41:45.923Z",
    "type": "completeCodeCell"
   },
   {
    "code": "import numpy as np\nuiEventDf[(uiEventDf[\"type\"]=='startScroll')|(uiEventDf[\"type\"]=='stopScroll')]",
    "id": "616070c21db84d409aed5b3e964d5e4a",
    "order_count": 26,
    "time": "2020-07-11T06:41:52.989Z",
    "type": "executeCodeCell"
   },
   {
    "id": "616070c21db84d409aed5b3e964d5e4a",
    "isPrintLuxWidget": false,
    "isPrintPandas": true,
    "time": "2020-07-11T06:41:53.030Z",
    "type": "completeCodeCell"
   },
   {
    "code": "uiEventDf[(uiEventDf[\"type\"]=='startScroll')|(uiEventDf[\"type\"]=='stopScroll')].groupby([\"id\",\"code\"])[\"time\"].agg(np.ptp)",
    "id": "6b468c881bef4e40882599e9ceab8bd8",
    "order_count": 27,
    "time": "2020-07-11T06:41:55.557Z",
    "type": "editCodeCell"
   },
   {
    "code": "uiEventDf[(uiEventDf[\"type\"]=='startScroll')|(uiEventDf[\"type\"]=='stopScroll')].groupby([\"id\",\"code\"])[\"time\"].agg(np.ptp)",
    "id": "6b468c881bef4e40882599e9ceab8bd8",
    "order_count": 27,
    "time": "2020-07-11T06:41:56.195Z",
    "type": "executeCodeCell"
   },
   {
    "code": "uiEventDf[(uiEventDf[\"type\"]=='startScroll')|(uiEventDf[\"type\"]=='stopScroll')].groupby([\"id\",\"code\"])[\"time\"].agg(np.ptp)",
    "id": "6b468c881bef4e40882599e9ceab8bd8",
    "order_count": 27,
    "time": "2020-07-11T06:41:56.197Z",
    "type": "selectCodeCell"
   },
   {
    "id": "6b468c881bef4e40882599e9ceab8bd8",
    "isPrintLuxWidget": false,
    "isPrintPandas": false,
    "time": "2020-07-11T06:41:56.253Z",
    "type": "completeCodeCell"
   },
   {
    "code": "uiEventDf[(uiEventDf[\"type\"]=='startScroll')|(uiEventDf[\"type\"]=='stopScroll')].groupby([\"id\",\"code\"])[\"time\"].agg(np.ptp)",
    "id": "6b468c881bef4e40882599e9ceab8bd8",
    "order_count": 27,
    "time": "2020-07-11T06:42:17.679Z",
    "type": "editCodeCell"
   },
   {
    "code": "uiEventDf[(uiEventDf[\"type\"]=='startScroll')|(uiEventDf[\"type\"]=='stopScroll')].groupby([\"id\",\"code\"])[\"time\"].apply(np.ptp)",
    "id": "6b468c881bef4e40882599e9ceab8bd8",
    "order_count": 27,
    "time": "2020-07-11T06:42:22.109Z",
    "type": "executeCodeCell"
   },
   {
    "code": "uiEventDf[(uiEventDf[\"type\"]=='startScroll')|(uiEventDf[\"type\"]=='stopScroll')].groupby([\"id\",\"code\"])[\"time\"].apply(np.ptp)",
    "id": "6b468c881bef4e40882599e9ceab8bd8",
    "order_count": 27,
    "time": "2020-07-11T06:42:22.110Z",
    "type": "selectCodeCell"
   },
   {
    "id": "6b468c881bef4e40882599e9ceab8bd8",
    "isPrintLuxWidget": false,
    "isPrintPandas": false,
    "time": "2020-07-11T06:42:22.168Z",
    "type": "completeCodeCell"
   },
   {
    "code": "uiEventDf[(uiEventDf[\"type\"]=='startScroll')|(uiEventDf[\"type\"]=='stopScroll')].groupby([\"id\",\"code\"])[\"time\"].apply(np.ptp)",
    "id": "6b468c881bef4e40882599e9ceab8bd8",
    "order_count": 27,
    "time": "2020-07-11T06:42:23.161Z",
    "type": "editCodeCell"
   },
   {
    "code": "uiEventDf[(uiEventDf[\"type\"]=='startScroll')|(uiEventDf[\"type\"]=='stopScroll')].groupby([\"id\",\"code\"])[\"time\"].aggre(np.ptp)",
    "id": "6b468c881bef4e40882599e9ceab8bd8",
    "order_count": 27,
    "time": "2020-07-11T06:42:24.702Z",
    "type": "executeCodeCell"
   },
   {
    "code": "uiEventDf[(uiEventDf[\"type\"]=='startScroll')|(uiEventDf[\"type\"]=='stopScroll')].groupby([\"id\",\"code\"])[\"time\"].aggre(np.ptp)",
    "id": "6b468c881bef4e40882599e9ceab8bd8",
    "order_count": 27,
    "time": "2020-07-11T06:42:24.703Z",
    "type": "selectCodeCell"
   },
   {
    "id": "6b468c881bef4e40882599e9ceab8bd8",
    "isPrintLuxWidget": false,
    "isPrintPandas": false,
    "time": "2020-07-11T06:42:24.825Z",
    "type": "completeCodeCell"
   },
   {
    "code": "uiEventDf[(uiEventDf[\"type\"]=='startScroll')|(uiEventDf[\"type\"]=='stopScroll')].groupby([\"id\",\"code\"])[\"time\"].aggre(np.ptp)",
    "id": "6b468c881bef4e40882599e9ceab8bd8",
    "order_count": 27,
    "time": "2020-07-11T06:42:25.845Z",
    "type": "editCodeCell"
   },
   {
    "code": "uiEventDf[(uiEventDf[\"type\"]=='startScroll')|(uiEventDf[\"type\"]=='stopScroll')].groupby([\"id\",\"code\"])[\"time\"].agg(np.ptp)",
    "id": "6b468c881bef4e40882599e9ceab8bd8",
    "order_count": 27,
    "time": "2020-07-11T06:42:26.616Z",
    "type": "executeCodeCell"
   },
   {
    "code": "uiEventDf[(uiEventDf[\"type\"]=='startScroll')|(uiEventDf[\"type\"]=='stopScroll')].groupby([\"id\",\"code\"])[\"time\"].agg(np.ptp)",
    "id": "6b468c881bef4e40882599e9ceab8bd8",
    "order_count": 27,
    "time": "2020-07-11T06:42:26.617Z",
    "type": "selectCodeCell"
   },
   {
    "id": "6b468c881bef4e40882599e9ceab8bd8",
    "isPrintLuxWidget": false,
    "isPrintPandas": false,
    "time": "2020-07-11T06:42:26.675Z",
    "type": "completeCodeCell"
   },
   {
    "code": "uiEventDf[(uiEventDf[\"type\"]=='startScroll')|(uiEventDf[\"type\"]=='stopScroll')].groupby([\"id\",\"code\"])[\"time\"].agg(np.ptp)",
    "id": "6b468c881bef4e40882599e9ceab8bd8",
    "order_count": 27,
    "time": "2020-07-11T06:42:28.659Z",
    "type": "editCodeCell"
   },
   {
    "code": "uiEventDf[(uiEventDf[\"type\"]=='startScroll')|(uiEventDf[\"type\"]=='stopScroll')].groupby([\"id\",\"code\"])[\"time\"].agg(np.ptp).reset_index()",
    "id": "6b468c881bef4e40882599e9ceab8bd8",
    "order_count": 27,
    "time": "2020-07-11T06:42:32.068Z",
    "type": "executeCodeCell"
   },
   {
    "code": "uiEventDf[(uiEventDf[\"type\"]=='startScroll')|(uiEventDf[\"type\"]=='stopScroll')].groupby([\"id\",\"code\"])[\"time\"].agg(np.ptp).reset_index()",
    "id": "6b468c881bef4e40882599e9ceab8bd8",
    "order_count": 27,
    "time": "2020-07-11T06:42:32.070Z",
    "type": "selectCodeCell"
   },
   {
    "id": "6b468c881bef4e40882599e9ceab8bd8",
    "isPrintLuxWidget": false,
    "isPrintPandas": true,
    "time": "2020-07-11T06:42:32.127Z",
    "type": "completeCodeCell"
   },
   {
    "code": "uiEventDf[(uiEventDf[\"type\"]=='startScroll')|(uiEventDf[\"type\"]=='stopScroll')].groupby([\"id\",\"code\"])[\"time\"].agg(np.ptp).reset_index()",
    "id": "6b468c881bef4e40882599e9ceab8bd8",
    "order_count": 27,
    "time": "2020-07-11T06:42:33.038Z",
    "type": "editCodeCell"
   },
   {
    "code": "totalScroll = uiEventDf[(uiEventDf[\"type\"]=='startScroll')|(uiEventDf[\"type\"]=='stopScroll')].groupby([\"id\",\"code\"]).agg({'time':np.ptp}).reset_index()",
    "id": "6b468c881bef4e40882599e9ceab8bd8",
    "order_count": 27,
    "time": "2020-07-11T06:43:22.970Z",
    "type": "executeCodeCell"
   },
   {
    "code": "totalScroll = uiEventDf[(uiEventDf[\"type\"]=='startScroll')|(uiEventDf[\"type\"]=='stopScroll')].groupby([\"id\",\"code\"]).agg({'time':np.ptp}).reset_index()",
    "id": "6b468c881bef4e40882599e9ceab8bd8",
    "order_count": 27,
    "time": "2020-07-11T06:43:22.973Z",
    "type": "selectCodeCell"
   },
   {
    "id": "6b468c881bef4e40882599e9ceab8bd8",
    "isPrintLuxWidget": false,
    "isPrintPandas": false,
    "time": "2020-07-11T06:43:23.034Z",
    "type": "completeCodeCell"
   },
   {
    "code": "totalScroll = uiEventDf[(uiEventDf[\"type\"]=='startScroll')|(uiEventDf[\"type\"]=='stopScroll')].groupby([\"id\",\"code\"]).agg({'time':np.ptp}).reset_index()",
    "id": "6b468c881bef4e40882599e9ceab8bd8",
    "order_count": 27,
    "time": "2020-07-11T06:43:24.571Z",
    "type": "editCodeCell"
   },
   {
    "code": "totalScroll = uiEventDf[(uiEventDf[\"type\"]=='startScroll')|(uiEventDf[\"type\"]=='stopScroll')].groupby([\"id\",\"code\"]).agg({'time':np.ptp}).reset_index()\ntotalScroll",
    "id": "6b468c881bef4e40882599e9ceab8bd8",
    "order_count": 27,
    "time": "2020-07-11T06:43:29.643Z",
    "type": "executeCodeCell"
   },
   {
    "code": "totalScroll = uiEventDf[(uiEventDf[\"type\"]=='startScroll')|(uiEventDf[\"type\"]=='stopScroll')].groupby([\"id\",\"code\"]).agg({'time':np.ptp}).reset_index()\ntotalScroll",
    "id": "6b468c881bef4e40882599e9ceab8bd8",
    "order_count": 27,
    "time": "2020-07-11T06:43:29.644Z",
    "type": "selectCodeCell"
   },
   {
    "id": "6b468c881bef4e40882599e9ceab8bd8",
    "isPrintLuxWidget": false,
    "isPrintPandas": true,
    "time": "2020-07-11T06:43:29.701Z",
    "type": "completeCodeCell"
   },
   {
    "code": "totalScroll = uiEventDf[(uiEventDf[\"type\"]=='startScroll')|(uiEventDf[\"type\"]=='stopScroll')].groupby([\"id\",\"code\"]).agg({'time':np.ptp}).reset_index()\ntotalScroll",
    "id": "6b468c881bef4e40882599e9ceab8bd8",
    "order_count": 27,
    "time": "2020-07-11T06:43:33.802Z",
    "type": "editCodeCell"
   },
   {
    "code": "totalScroll = uiEventDf[(uiEventDf[\"type\"]=='startScroll')|(uiEventDf[\"type\"]=='stopScroll')].groupby([\"id\",\"code\"]).agg({'time':np.ptp})\ntotalScroll",
    "id": "6b468c881bef4e40882599e9ceab8bd8",
    "order_count": 27,
    "time": "2020-07-11T06:43:36.915Z",
    "type": "executeCodeCell"
   },
   {
    "code": "totalScroll = uiEventDf[(uiEventDf[\"type\"]=='startScroll')|(uiEventDf[\"type\"]=='stopScroll')].groupby([\"id\",\"code\"]).agg({'time':np.ptp})\ntotalScroll",
    "id": "6b468c881bef4e40882599e9ceab8bd8",
    "order_count": 27,
    "time": "2020-07-11T06:43:36.917Z",
    "type": "selectCodeCell"
   },
   {
    "id": "6b468c881bef4e40882599e9ceab8bd8",
    "isPrintLuxWidget": false,
    "isPrintPandas": true,
    "time": "2020-07-11T06:43:36.974Z",
    "type": "completeCodeCell"
   },
   {
    "code": "totalScroll = uiEventDf[(uiEventDf[\"type\"]=='startScroll')|(uiEventDf[\"type\"]=='stopScroll')].groupby([\"id\",\"code\"]).agg({'time':np.ptp})\ntotalScroll",
    "id": "6b468c881bef4e40882599e9ceab8bd8",
    "order_count": 27,
    "time": "2020-07-11T06:43:38.663Z",
    "type": "editCodeCell"
   },
   {
    "code": "totalScroll = uiEventDf[(uiEventDf[\"type\"]=='startScroll')|(uiEventDf[\"type\"]=='stopScroll')].groupby([\"id\",\"code\"]).agg({'time':np.ptp}).reset_index()\ntotalScroll",
    "id": "6b468c881bef4e40882599e9ceab8bd8",
    "order_count": 27,
    "time": "2020-07-11T06:43:39.521Z",
    "type": "executeCodeCell"
   },
   {
    "code": "totalScroll = uiEventDf[(uiEventDf[\"type\"]=='startScroll')|(uiEventDf[\"type\"]=='stopScroll')].groupby([\"id\",\"code\"]).agg({'time':np.ptp}).reset_index()\ntotalScroll",
    "id": "6b468c881bef4e40882599e9ceab8bd8",
    "order_count": 27,
    "time": "2020-07-11T06:43:39.523Z",
    "type": "selectCodeCell"
   },
   {
    "id": "6b468c881bef4e40882599e9ceab8bd8",
    "isPrintLuxWidget": false,
    "isPrintPandas": true,
    "time": "2020-07-11T06:43:39.580Z",
    "type": "completeCodeCell"
   },
   {
    "code": "totalScroll = uiEventDf[(uiEventDf[\"type\"]=='startScroll')|(uiEventDf[\"type\"]=='stopScroll')].groupby([\"id\",\"code\"]).agg({'time':np.ptp}).reset_index()\ntotalScroll",
    "id": "6b468c881bef4e40882599e9ceab8bd8",
    "order_count": 27,
    "time": "2020-07-11T06:44:07.481Z",
    "type": "editCodeCell"
   },
   {
    "code": "group = uiEventDf[(uiEventDf[\"type\"]=='startScroll')|(uiEventDf[\"type\"]=='stopScroll')].groupby([\"id\",\"code\"]).agg({'time':np.ptp})\ngroup",
    "id": "6b468c881bef4e40882599e9ceab8bd8",
    "order_count": 27,
    "time": "2020-07-11T06:44:32.386Z",
    "type": "executeCodeCell"
   },
   {
    "code": "group = uiEventDf[(uiEventDf[\"type\"]=='startScroll')|(uiEventDf[\"type\"]=='stopScroll')].groupby([\"id\",\"code\"]).agg({'time':np.ptp})\ngroup",
    "id": "6b468c881bef4e40882599e9ceab8bd8",
    "order_count": 27,
    "time": "2020-07-11T06:44:32.389Z",
    "type": "selectCodeCell"
   },
   {
    "id": "6b468c881bef4e40882599e9ceab8bd8",
    "isPrintLuxWidget": false,
    "isPrintPandas": true,
    "time": "2020-07-11T06:44:32.457Z",
    "type": "completeCodeCell"
   },
   {
    "code": "group = uiEventDf[(uiEventDf[\"type\"]=='startScroll')|(uiEventDf[\"type\"]=='stopScroll')].groupby([\"id\",\"code\"]).agg({'time':np.ptp})\ngroup",
    "id": "6b468c881bef4e40882599e9ceab8bd8",
    "order_count": 27,
    "time": "2020-07-11T06:44:33.531Z",
    "type": "editCodeCell"
   },
   {
    "code": "group = uiEventDf[(uiEventDf[\"type\"]=='startScroll')|(uiEventDf[\"type\"]=='stopScroll')].groupby([\"id\",\"code\"]).agg({'time':np.ptp})\ngroup.set_index([\"id\",\"code\"])",
    "id": "6b468c881bef4e40882599e9ceab8bd8",
    "order_count": 27,
    "time": "2020-07-11T06:44:51.656Z",
    "type": "executeCodeCell"
   },
   {
    "code": "group = uiEventDf[(uiEventDf[\"type\"]=='startScroll')|(uiEventDf[\"type\"]=='stopScroll')].groupby([\"id\",\"code\"]).agg({'time':np.ptp})\ngroup.set_index([\"id\",\"code\"])",
    "id": "6b468c881bef4e40882599e9ceab8bd8",
    "order_count": 27,
    "time": "2020-07-11T06:44:51.658Z",
    "type": "selectCodeCell"
   },
   {
    "id": "6b468c881bef4e40882599e9ceab8bd8",
    "isPrintLuxWidget": false,
    "isPrintPandas": false,
    "time": "2020-07-11T06:44:51.714Z",
    "type": "completeCodeCell"
   },
   {
    "code": "group = uiEventDf[(uiEventDf[\"type\"]=='startScroll')|(uiEventDf[\"type\"]=='stopScroll')].groupby([\"id\",\"code\"]).agg({'time':np.ptp})\ngroup.set_index([\"id\",\"code\"])",
    "id": "6b468c881bef4e40882599e9ceab8bd8",
    "order_count": 27,
    "time": "2020-07-11T06:44:52.783Z",
    "type": "editCodeCell"
   },
   {
    "code": "group = uiEventDf[(uiEventDf[\"type\"]=='startScroll')|(uiEventDf[\"type\"]=='stopScroll')].groupby([\"id\",\"code\"]).agg({'time':np.ptp})\ngroup",
    "id": "6b468c881bef4e40882599e9ceab8bd8",
    "order_count": 27,
    "time": "2020-07-11T06:44:58.867Z",
    "type": "executeCodeCell"
   },
   {
    "code": "group = uiEventDf[(uiEventDf[\"type\"]=='startScroll')|(uiEventDf[\"type\"]=='stopScroll')].groupby([\"id\",\"code\"]).agg({'time':np.ptp})\ngroup",
    "id": "6b468c881bef4e40882599e9ceab8bd8",
    "order_count": 27,
    "time": "2020-07-11T06:44:58.868Z",
    "type": "selectCodeCell"
   },
   {
    "id": "6b468c881bef4e40882599e9ceab8bd8",
    "isPrintLuxWidget": false,
    "isPrintPandas": true,
    "time": "2020-07-11T06:44:58.927Z",
    "type": "completeCodeCell"
   },
   {
    "code": "group = uiEventDf[(uiEventDf[\"type\"]=='startScroll')|(uiEventDf[\"type\"]=='stopScroll')].groupby([\"id\",\"code\"]).agg({'time':np.ptp})\ngroup",
    "id": "6b468c881bef4e40882599e9ceab8bd8",
    "order_count": 27,
    "time": "2020-07-11T06:44:59.754Z",
    "type": "editCodeCell"
   },
   {
    "code": "group = uiEventDf[(uiEventDf[\"type\"]=='startScroll')|(uiEventDf[\"type\"]=='stopScroll')].groupby([\"id\",\"code\"]).transform({'time':np.ptp})\ngroup",
    "id": "6b468c881bef4e40882599e9ceab8bd8",
    "order_count": 27,
    "time": "2020-07-11T06:45:20.211Z",
    "type": "executeCodeCell"
   },
   {
    "code": "group = uiEventDf[(uiEventDf[\"type\"]=='startScroll')|(uiEventDf[\"type\"]=='stopScroll')].groupby([\"id\",\"code\"]).transform({'time':np.ptp})\ngroup",
    "id": "6b468c881bef4e40882599e9ceab8bd8",
    "order_count": 27,
    "time": "2020-07-11T06:45:20.213Z",
    "type": "selectCodeCell"
   },
   {
    "id": "6b468c881bef4e40882599e9ceab8bd8",
    "isPrintLuxWidget": false,
    "isPrintPandas": false,
    "time": "2020-07-11T06:45:20.272Z",
    "type": "completeCodeCell"
   },
   {
    "code": "group = uiEventDf[(uiEventDf[\"type\"]=='startScroll')|(uiEventDf[\"type\"]=='stopScroll')].groupby([\"id\",\"code\"]).transform({'time':np.ptp})\ngroup",
    "id": "6b468c881bef4e40882599e9ceab8bd8",
    "order_count": 27,
    "time": "2020-07-11T06:45:20.991Z",
    "type": "editCodeCell"
   },
   {
    "code": "uiEventDf[(uiEventDf[\"type\"]=='startScroll')|(uiEventDf[\"type\"]=='stopScroll')].groupby([\"id\",\"code\"]).transform({'time':np.ptp})",
    "id": "6b468c881bef4e40882599e9ceab8bd8",
    "order_count": 27,
    "time": "2020-07-11T06:45:26.700Z",
    "type": "executeCodeCell"
   },
   {
    "code": "uiEventDf[(uiEventDf[\"type\"]=='startScroll')|(uiEventDf[\"type\"]=='stopScroll')].groupby([\"id\",\"code\"]).transform({'time':np.ptp})",
    "id": "6b468c881bef4e40882599e9ceab8bd8",
    "order_count": 27,
    "time": "2020-07-11T06:45:26.702Z",
    "type": "selectCodeCell"
   },
   {
    "id": "6b468c881bef4e40882599e9ceab8bd8",
    "isPrintLuxWidget": false,
    "isPrintPandas": false,
    "time": "2020-07-11T06:45:26.763Z",
    "type": "completeCodeCell"
   },
   {
    "code": "uiEventDf[(uiEventDf[\"type\"]=='startScroll')|(uiEventDf[\"type\"]=='stopScroll')].groupby([\"id\",\"code\"]).transform({'time':np.ptp})",
    "id": "6b468c881bef4e40882599e9ceab8bd8",
    "order_count": 27,
    "time": "2020-07-11T06:45:27.533Z",
    "type": "editCodeCell"
   },
   {
    "code": "uiEventDf[(uiEventDf[\"type\"]=='startScroll')|(uiEventDf[\"type\"]=='stopScroll')].groupby([\"id\",\"code\"]).transform(np.ptp)",
    "id": "6b468c881bef4e40882599e9ceab8bd8",
    "order_count": 27,
    "time": "2020-07-11T06:45:40.682Z",
    "type": "executeCodeCell"
   },
   {
    "code": "uiEventDf[(uiEventDf[\"type\"]=='startScroll')|(uiEventDf[\"type\"]=='stopScroll')].groupby([\"id\",\"code\"]).transform(np.ptp)",
    "id": "6b468c881bef4e40882599e9ceab8bd8",
    "order_count": 27,
    "time": "2020-07-11T06:45:40.685Z",
    "type": "selectCodeCell"
   },
   {
    "id": "6b468c881bef4e40882599e9ceab8bd8",
    "isPrintLuxWidget": false,
    "isPrintPandas": true,
    "time": "2020-07-11T06:45:40.756Z",
    "type": "completeCodeCell"
   },
   {
    "code": "uiEventDf[(uiEventDf[\"type\"]=='startScroll')|(uiEventDf[\"type\"]=='stopScroll')].groupby([\"id\",\"code\"]).transform(np.ptp)",
    "id": "6b468c881bef4e40882599e9ceab8bd8",
    "order_count": 27,
    "time": "2020-07-11T06:45:41.837Z",
    "type": "editCodeCell"
   },
   {
    "code": "uiEventDf[(uiEventDf[\"type\"]=='startScroll')|(uiEventDf[\"type\"]=='stopScroll')].groupby([\"id\",\"code\"]).transform(np.ptp)",
    "id": "6b468c881bef4e40882599e9ceab8bd8",
    "order_count": 27,
    "time": "2020-07-11T06:45:46.654Z",
    "type": "selectCodeCell"
   },
   {
    "code": "import numpy as np\nuiEventDf[(uiEventDf[\"type\"]=='startScroll')|(uiEventDf[\"type\"]=='stopScroll')]",
    "id": "616070c21db84d409aed5b3e964d5e4a",
    "order_count": 26,
    "time": "2020-07-11T06:45:46.728Z",
    "type": "editCodeCell"
   },
   {
    "code": "import numpy as np\nuiEventDf[(uiEventDf[\"type\"]=='startScroll')|(uiEventDf[\"type\"]=='stopScroll')]",
    "id": "616070c21db84d409aed5b3e964d5e4a",
    "order_count": 26,
    "time": "2020-07-11T06:45:47.912Z",
    "type": "executeCodeCell"
   },
   {
    "code": "import numpy as np\nuiEventDf[(uiEventDf[\"type\"]=='startScroll')|(uiEventDf[\"type\"]=='stopScroll')]",
    "id": "616070c21db84d409aed5b3e964d5e4a",
    "order_count": 26,
    "time": "2020-07-11T06:45:47.913Z",
    "type": "selectCodeCell"
   },
   {
    "id": "616070c21db84d409aed5b3e964d5e4a",
    "isPrintLuxWidget": false,
    "isPrintPandas": true,
    "time": "2020-07-11T06:45:47.974Z",
    "type": "completeCodeCell"
   },
   {
    "code": "uiEventDf[(uiEventDf[\"type\"]=='startScroll')|(uiEventDf[\"type\"]=='stopScroll')].groupby([\"id\",\"code\"]).transform(np.ptp)",
    "id": "6b468c881bef4e40882599e9ceab8bd8",
    "order_count": 27,
    "time": "2020-07-11T06:46:08.799Z",
    "type": "editCodeCell"
   },
   {
    "code": "uiEventDf[(uiEventDf[\"type\"]=='startScroll')|(uiEventDf[\"type\"]=='stopScroll')].groupby([\"id\",\"code\"])[\"time\"].transform(np.ptp)",
    "id": "6b468c881bef4e40882599e9ceab8bd8",
    "order_count": 27,
    "time": "2020-07-11T06:46:22.520Z",
    "type": "executeCodeCell"
   },
   {
    "code": "uiEventDf[(uiEventDf[\"type\"]=='startScroll')|(uiEventDf[\"type\"]=='stopScroll')].groupby([\"id\",\"code\"])[\"time\"].transform(np.ptp)",
    "id": "6b468c881bef4e40882599e9ceab8bd8",
    "order_count": 27,
    "time": "2020-07-11T06:46:22.521Z",
    "type": "selectCodeCell"
   },
   {
    "id": "6b468c881bef4e40882599e9ceab8bd8",
    "isPrintLuxWidget": false,
    "isPrintPandas": false,
    "time": "2020-07-11T06:46:22.581Z",
    "type": "completeCodeCell"
   },
   {
    "code": "uiEventDf[(uiEventDf[\"type\"]=='startScroll')|(uiEventDf[\"type\"]=='stopScroll')].groupby([\"id\",\"code\"])[\"time\"].transform(np.ptp)",
    "id": "6b468c881bef4e40882599e9ceab8bd8",
    "order_count": 27,
    "time": "2020-07-11T06:46:33.782Z",
    "type": "editCodeCell"
   },
   {
    "code": "uiEventDf[(uiEventDf[\"type\"]=='startScroll')|(uiEventDf[\"type\"]=='stopScroll')].groupby([\"id\",\"code\"])[\"time\"].transform(np.ptp)",
    "id": "6b468c881bef4e40882599e9ceab8bd8",
    "order_count": 27,
    "time": "2020-07-11T06:46:36.281Z",
    "type": "executeCodeCell"
   },
   {
    "code": "uiEventDf[(uiEventDf[\"type\"]=='startScroll')|(uiEventDf[\"type\"]=='stopScroll')].groupby([\"id\",\"code\"])[\"time\"].transform(np.ptp)",
    "id": "6b468c881bef4e40882599e9ceab8bd8",
    "order_count": 27,
    "time": "2020-07-11T06:46:36.282Z",
    "type": "selectCodeCell"
   },
   {
    "id": "6b468c881bef4e40882599e9ceab8bd8",
    "isPrintLuxWidget": false,
    "isPrintPandas": false,
    "time": "2020-07-11T06:46:36.342Z",
    "type": "completeCodeCell"
   },
   {
    "code": "uiEventDf[(uiEventDf[\"type\"]=='startScroll')|(uiEventDf[\"type\"]=='stopScroll')].groupby([\"id\",\"code\"])[\"time\"].transform(np.ptp)",
    "id": "6b468c881bef4e40882599e9ceab8bd8",
    "order_count": 27,
    "time": "2020-07-11T06:46:39.388Z",
    "type": "editCodeCell"
   },
   {
    "code": "uiEventDf[(uiEventDf[\"type\"]=='startScroll')|(uiEventDf[\"type\"]=='stopScroll')].groupby([\"id\",\"code\"])[\"time\"].transform(np.ptp)",
    "id": "6b468c881bef4e40882599e9ceab8bd8",
    "order_count": 27,
    "time": "2020-07-11T06:46:41.067Z",
    "type": "selectCodeCell"
   },
   {
    "code": "import numpy as np\nuiEventDf[(uiEventDf[\"type\"]=='startScroll')|(uiEventDf[\"type\"]=='stopScroll')]",
    "id": "616070c21db84d409aed5b3e964d5e4a",
    "order_count": 26,
    "time": "2020-07-11T06:46:41.121Z",
    "type": "editCodeCell"
   },
   {
    "code": "import numpy as np\nscrollEvents = uiEventDf[(uiEventDf[\"type\"]=='startScroll')|(uiEventDf[\"type\"]=='stopScroll')]",
    "id": "616070c21db84d409aed5b3e964d5e4a",
    "order_count": 26,
    "time": "2020-07-11T06:46:46.397Z",
    "type": "executeCodeCell"
   },
   {
    "code": "import numpy as np\nscrollEvents = uiEventDf[(uiEventDf[\"type\"]=='startScroll')|(uiEventDf[\"type\"]=='stopScroll')]",
    "id": "616070c21db84d409aed5b3e964d5e4a",
    "order_count": 26,
    "time": "2020-07-11T06:46:46.398Z",
    "type": "selectCodeCell"
   },
   {
    "id": "616070c21db84d409aed5b3e964d5e4a",
    "isPrintLuxWidget": false,
    "isPrintPandas": false,
    "time": "2020-07-11T06:46:46.450Z",
    "type": "completeCodeCell"
   },
   {
    "code": "uiEventDf[(uiEventDf[\"type\"]=='startScroll')|(uiEventDf[\"type\"]=='stopScroll')].groupby([\"id\",\"code\"])[\"time\"].transform(np.ptp)",
    "id": "6b468c881bef4e40882599e9ceab8bd8",
    "order_count": 27,
    "time": "2020-07-11T06:46:47.089Z",
    "type": "editCodeCell"
   },
   {
    "code": "scrollEvents.groupby([\"id\",\"code\"])[\"time\"].transform(np.ptp)",
    "id": "6b468c881bef4e40882599e9ceab8bd8",
    "order_count": 27,
    "time": "2020-07-11T06:46:49.211Z",
    "type": "executeCodeCell"
   },
   {
    "code": "scrollEvents.groupby([\"id\",\"code\"])[\"time\"].transform(np.ptp)",
    "id": "6b468c881bef4e40882599e9ceab8bd8",
    "order_count": 27,
    "time": "2020-07-11T06:46:49.212Z",
    "type": "selectCodeCell"
   },
   {
    "id": "6b468c881bef4e40882599e9ceab8bd8",
    "isPrintLuxWidget": false,
    "isPrintPandas": false,
    "time": "2020-07-11T06:46:49.264Z",
    "type": "completeCodeCell"
   },
   {
    "code": "scrollEvents.groupby([\"id\",\"code\"])[\"time\"].transform(np.ptp)",
    "id": "6b468c881bef4e40882599e9ceab8bd8",
    "order_count": 27,
    "time": "2020-07-11T06:46:51.637Z",
    "type": "editCodeCell"
   },
   {
    "code": "scrollEvents[\"duration\"] =scrollEvents.groupby([\"id\",\"code\"])[\"time\"].transform(np.ptp)",
    "id": "6b468c881bef4e40882599e9ceab8bd8",
    "order_count": 27,
    "time": "2020-07-11T06:47:00.795Z",
    "type": "executeCodeCell"
   },
   {
    "code": "scrollEvents[\"duration\"] =scrollEvents.groupby([\"id\",\"code\"])[\"time\"].transform(np.ptp)",
    "id": "6b468c881bef4e40882599e9ceab8bd8",
    "order_count": 27,
    "time": "2020-07-11T06:47:00.796Z",
    "type": "selectCodeCell"
   },
   {
    "id": "6b468c881bef4e40882599e9ceab8bd8",
    "isPrintLuxWidget": false,
    "isPrintPandas": false,
    "time": "2020-07-11T06:47:00.850Z",
    "type": "completeCodeCell"
   },
   {
    "code": "",
    "id": "f63a32608f374ea599a6dec18816f7b0",
    "order_count": 28,
    "time": "2020-07-11T06:47:01.253Z",
    "type": "editCodeCell"
   },
   {
    "code": "scrollEvents",
    "id": "f63a32608f374ea599a6dec18816f7b0",
    "order_count": 28,
    "time": "2020-07-11T06:47:03.037Z",
    "type": "executeCodeCell"
   },
   {
    "code": "scrollEvents",
    "id": "f63a32608f374ea599a6dec18816f7b0",
    "order_count": 28,
    "time": "2020-07-11T06:47:03.039Z",
    "type": "selectCodeCell"
   },
   {
    "id": "f63a32608f374ea599a6dec18816f7b0",
    "isPrintLuxWidget": false,
    "isPrintPandas": true,
    "time": "2020-07-11T06:47:03.088Z",
    "type": "completeCodeCell"
   },
   {
    "code": "scrollEvents",
    "id": "f63a32608f374ea599a6dec18816f7b0",
    "order_count": 28,
    "time": "2020-07-11T06:47:36.040Z",
    "type": "editCodeCell"
   },
   {
    "code": "scrollEvents",
    "id": "f63a32608f374ea599a6dec18816f7b0",
    "order_count": 28,
    "time": "2020-07-11T06:47:54.132Z",
    "type": "selectCodeCell"
   },
   {
    "code": "scrollEvents[\"duration\"] =scrollEvents.groupby([\"id\",\"code\"])[\"time\"].transform(np.ptp)",
    "id": "6b468c881bef4e40882599e9ceab8bd8",
    "order_count": 27,
    "time": "2020-07-11T06:47:54.180Z",
    "type": "editCodeCell"
   },
   {
    "code": "scrollEvents[\"duration\"] =scrollEvents.groupby([\"id\",\"code\"])[\"time\"].transform(np.ptp)",
    "id": "6b468c881bef4e40882599e9ceab8bd8",
    "order_count": 27,
    "time": "2020-07-11T06:47:56.286Z",
    "type": "selectCodeCell"
   },
   {
    "code": "scrollEvents",
    "id": "f63a32608f374ea599a6dec18816f7b0",
    "order_count": 28,
    "time": "2020-07-11T06:47:56.337Z",
    "type": "editCodeCell"
   },
   {
    "code": "scrollEvents.groupby([\"id\",\"code\"])",
    "id": "f63a32608f374ea599a6dec18816f7b0",
    "order_count": 28,
    "time": "2020-07-11T06:48:00.233Z",
    "type": "executeCodeCell"
   },
   {
    "code": "scrollEvents.groupby([\"id\",\"code\"])",
    "id": "f63a32608f374ea599a6dec18816f7b0",
    "order_count": 28,
    "time": "2020-07-11T06:48:00.235Z",
    "type": "selectCodeCell"
   },
   {
    "id": "f63a32608f374ea599a6dec18816f7b0",
    "isPrintLuxWidget": false,
    "isPrintPandas": false,
    "time": "2020-07-11T06:48:00.285Z",
    "type": "completeCodeCell"
   },
   {
    "code": "scrollEvents.groupby([\"id\",\"code\"])",
    "id": "f63a32608f374ea599a6dec18816f7b0",
    "order_count": 28,
    "time": "2020-07-11T06:48:01.154Z",
    "type": "editCodeCell"
   },
   {
    "code": "scrollEvents.drop_duplicates()",
    "id": "f63a32608f374ea599a6dec18816f7b0",
    "order_count": 28,
    "time": "2020-07-11T06:48:13.328Z",
    "type": "executeCodeCell"
   },
   {
    "code": "scrollEvents.drop_duplicates()",
    "id": "f63a32608f374ea599a6dec18816f7b0",
    "order_count": 28,
    "time": "2020-07-11T06:48:13.330Z",
    "type": "selectCodeCell"
   },
   {
    "id": "f63a32608f374ea599a6dec18816f7b0",
    "isPrintLuxWidget": false,
    "isPrintPandas": true,
    "time": "2020-07-11T06:48:13.389Z",
    "type": "completeCodeCell"
   },
   {
    "code": "scrollEvents.drop_duplicates()",
    "id": "f63a32608f374ea599a6dec18816f7b0",
    "order_count": 28,
    "time": "2020-07-11T06:48:14.258Z",
    "type": "editCodeCell"
   },
   {
    "code": "scrollEvents.drop_duplicates()",
    "id": "f63a32608f374ea599a6dec18816f7b0",
    "order_count": 28,
    "time": "2020-07-11T06:48:21.214Z",
    "type": "selectCodeCell"
   },
   {
    "code": "",
    "id": "17f89280280245178e30072b47850075",
    "order_count": 28,
    "time": "2020-07-11T06:48:22.488Z",
    "type": "editCodeCell"
   },
   {
    "code": "scrollEvents.drop(\"time\")",
    "id": "17f89280280245178e30072b47850075",
    "order_count": 28,
    "time": "2020-07-11T06:48:26.377Z",
    "type": "executeCodeCell"
   },
   {
    "code": "scrollEvents.drop(\"time\")",
    "id": "17f89280280245178e30072b47850075",
    "order_count": 28,
    "time": "2020-07-11T06:48:26.378Z",
    "type": "selectCodeCell"
   },
   {
    "id": "17f89280280245178e30072b47850075",
    "isPrintLuxWidget": false,
    "isPrintPandas": false,
    "time": "2020-07-11T06:48:26.444Z",
    "type": "completeCodeCell"
   },
   {
    "code": "scrollEvents.drop(\"time\")",
    "id": "17f89280280245178e30072b47850075",
    "order_count": 28,
    "time": "2020-07-11T06:48:27.163Z",
    "type": "editCodeCell"
   },
   {
    "code": "scrollEvents.drop(columns=[\"time\"])",
    "id": "17f89280280245178e30072b47850075",
    "order_count": 28,
    "time": "2020-07-11T06:48:34.122Z",
    "type": "executeCodeCell"
   },
   {
    "code": "scrollEvents.drop(columns=[\"time\"])",
    "id": "17f89280280245178e30072b47850075",
    "order_count": 28,
    "time": "2020-07-11T06:48:34.123Z",
    "type": "selectCodeCell"
   },
   {
    "id": "17f89280280245178e30072b47850075",
    "isPrintLuxWidget": false,
    "isPrintPandas": true,
    "time": "2020-07-11T06:48:34.198Z",
    "type": "completeCodeCell"
   },
   {
    "code": "scrollEvents.drop(columns=[\"time\"])",
    "id": "17f89280280245178e30072b47850075",
    "order_count": 28,
    "time": "2020-07-11T06:48:34.756Z",
    "type": "editCodeCell"
   },
   {
    "code": "scrollEvents = scrollEvents.drop(columns=[\"time\"])",
    "id": "17f89280280245178e30072b47850075",
    "order_count": 28,
    "time": "2020-07-11T06:48:39.123Z",
    "type": "executeCodeCell"
   },
   {
    "code": "scrollEvents = scrollEvents.drop(columns=[\"time\"])",
    "id": "17f89280280245178e30072b47850075",
    "order_count": 28,
    "time": "2020-07-11T06:48:39.125Z",
    "type": "selectCodeCell"
   },
   {
    "id": "17f89280280245178e30072b47850075",
    "isPrintLuxWidget": false,
    "isPrintPandas": false,
    "time": "2020-07-11T06:48:39.188Z",
    "type": "completeCodeCell"
   },
   {
    "code": "scrollEvents.drop_duplicates()",
    "id": "f63a32608f374ea599a6dec18816f7b0",
    "order_count": 29,
    "time": "2020-07-11T06:48:39.563Z",
    "type": "executeCodeCell"
   },
   {
    "id": "f63a32608f374ea599a6dec18816f7b0",
    "isPrintLuxWidget": false,
    "isPrintPandas": true,
    "time": "2020-07-11T06:48:39.598Z",
    "type": "completeCodeCell"
   },
   {
    "code": "scrollEvents = scrollEvents.drop(columns=[\"time\"])",
    "id": "17f89280280245178e30072b47850075",
    "order_count": 28,
    "time": "2020-07-11T06:48:50.992Z",
    "type": "editCodeCell"
   },
   {
    "code": "scrollEvents = scrollEvents.drop(columns=[\"time\",\"type\"])",
    "id": "17f89280280245178e30072b47850075",
    "order_count": 28,
    "time": "2020-07-11T06:48:55.770Z",
    "type": "executeCodeCell"
   },
   {
    "code": "scrollEvents = scrollEvents.drop(columns=[\"time\",\"type\"])",
    "id": "17f89280280245178e30072b47850075",
    "order_count": 28,
    "time": "2020-07-11T06:48:55.773Z",
    "type": "selectCodeCell"
   },
   {
    "id": "17f89280280245178e30072b47850075",
    "isPrintLuxWidget": false,
    "isPrintPandas": false,
    "time": "2020-07-11T06:48:55.836Z",
    "type": "completeCodeCell"
   },
   {
    "code": "import numpy as np\nscrollEvents = uiEventDf[(uiEventDf[\"type\"]=='startScroll')|(uiEventDf[\"type\"]=='stopScroll')]",
    "id": "616070c21db84d409aed5b3e964d5e4a",
    "order_count": 26,
    "time": "2020-07-11T06:48:58.537Z",
    "type": "executeCodeCell"
   },
   {
    "id": "616070c21db84d409aed5b3e964d5e4a",
    "isPrintLuxWidget": false,
    "isPrintPandas": false,
    "time": "2020-07-11T06:48:58.561Z",
    "type": "completeCodeCell"
   },
   {
    "code": "scrollEvents[\"duration\"] =scrollEvents.groupby([\"id\",\"code\"])[\"time\"].transform(np.ptp)",
    "id": "6b468c881bef4e40882599e9ceab8bd8",
    "order_count": 27,
    "time": "2020-07-11T06:48:58.769Z",
    "type": "executeCodeCell"
   },
   {
    "id": "6b468c881bef4e40882599e9ceab8bd8",
    "isPrintLuxWidget": false,
    "isPrintPandas": false,
    "time": "2020-07-11T06:48:58.802Z",
    "type": "completeCodeCell"
   },
   {
    "code": "scrollEvents = scrollEvents.drop(columns=[\"time\",\"type\"])",
    "id": "17f89280280245178e30072b47850075",
    "order_count": 28,
    "time": "2020-07-11T06:48:58.960Z",
    "type": "executeCodeCell"
   },
   {
    "id": "17f89280280245178e30072b47850075",
    "isPrintLuxWidget": false,
    "isPrintPandas": false,
    "time": "2020-07-11T06:48:58.990Z",
    "type": "completeCodeCell"
   },
   {
    "code": "scrollEvents.drop_duplicates()",
    "id": "f63a32608f374ea599a6dec18816f7b0",
    "order_count": 29,
    "time": "2020-07-11T06:48:59.378Z",
    "type": "executeCodeCell"
   },
   {
    "id": "f63a32608f374ea599a6dec18816f7b0",
    "isPrintLuxWidget": false,
    "isPrintPandas": true,
    "time": "2020-07-11T06:48:59.411Z",
    "type": "completeCodeCell"
   },
   {
    "code": "uiEventDf[uiEventDf[\"type\"]=='startScroll'].groupby([\"id\",\"code\"]).min()\nuiEventDf[uiEventDf[\"type\"]=='startScroll'].groupby([\"id\",\"code\"]).max()",
    "id": "dffc812837b047ad8af978f2d49f7f4f",
    "order_count": null,
    "time": "2020-07-11T06:49:06.041Z",
    "type": "deleteCodeCell"
   },
   {
    "code": "uiEventDf[uiEventDf[\"type\"]=='startScroll'].time.min()",
    "id": "d0b6d14a01ff418d868d22a9b330134b",
    "order_count": null,
    "time": "2020-07-11T06:49:07.495Z",
    "type": "deleteCodeCell"
   },
   {
    "code": "uiEventDf[uiEventDf[\"type\"]=='stopScroll'].time.max()",
    "id": "e33d3713d37b42568e27e729be993543",
    "order_count": null,
    "time": "2020-07-11T06:49:07.991Z",
    "type": "deleteCodeCell"
   },
   {
    "code": "scrollEvents[\"duration\"] =scrollEvents.groupby([\"id\",\"code\"])[\"time\"].transform(np.ptp)",
    "id": "6b468c881bef4e40882599e9ceab8bd8",
    "order_count": 27,
    "time": "2020-07-11T06:49:11.896Z",
    "type": "editCodeCell"
   },
   {
    "code": "scrollEvents[\"duration\"] =scrollEvents.groupby([\"id\",\"code\"])[\"time\"].transform(np.ptp)",
    "id": "6b468c881bef4e40882599e9ceab8bd8",
    "order_count": 27,
    "time": "2020-07-11T06:49:11.923Z",
    "type": "selectCodeCell"
   },
   {
    "code": "scrollEvents[\"duration\"] =scrollEvents.groupby([\"id\",\"code\"])[\"time\"].transform(np.ptp)",
    "id": "6b468c881bef4e40882599e9ceab8bd8",
    "order_count": 27,
    "time": "2020-07-11T06:49:11.955Z",
    "type": "editCodeCell"
   },
   {
    "code": "# Compute the \nscrollEvents[\"duration\"] =scrollEvents.groupby([\"id\",\"code\"])[\"time\"].transform(np.ptp)",
    "id": "6b468c881bef4e40882599e9ceab8bd8",
    "order_count": 27,
    "time": "2020-07-11T06:49:21.760Z",
    "type": "selectCodeCell"
   },
   {
    "code": "# Compute the \nscrollEvents[\"duration\"] =scrollEvents.groupby([\"id\",\"code\"])[\"time\"].transform(np.ptp)",
    "id": "6b468c881bef4e40882599e9ceab8bd8",
    "order_count": 27,
    "time": "2020-07-11T06:49:29.921Z",
    "type": "editCodeCell"
   },
   {
    "code": "# Compute the max-min of the group to find total duration for scrolling\nscrollEvents[\"duration\"] =scrollEvents.groupby([\"id\",\"code\"])[\"time\"].transform(np.ptp)",
    "id": "6b468c881bef4e40882599e9ceab8bd8",
    "order_count": 27,
    "time": "2020-07-11T06:49:46.716Z",
    "type": "executeCodeCell"
   },
   {
    "code": "# Compute the max-min of the group to find total duration for scrolling\nscrollEvents[\"duration\"] =scrollEvents.groupby([\"id\",\"code\"])[\"time\"].transform(np.ptp)",
    "id": "6b468c881bef4e40882599e9ceab8bd8",
    "order_count": 27,
    "time": "2020-07-11T06:49:46.717Z",
    "type": "selectCodeCell"
   },
   {
    "id": "6b468c881bef4e40882599e9ceab8bd8",
    "isPrintLuxWidget": false,
    "isPrintPandas": false,
    "time": "2020-07-11T06:49:46.772Z",
    "type": "completeCodeCell"
   },
   {
    "code": "import numpy as np\nscrollEvents = uiEventDf[(uiEventDf[\"type\"]=='startScroll')|(uiEventDf[\"type\"]=='stopScroll')]",
    "id": "616070c21db84d409aed5b3e964d5e4a",
    "order_count": 26,
    "time": "2020-07-11T06:49:48.690Z",
    "type": "executeCodeCell"
   },
   {
    "id": "616070c21db84d409aed5b3e964d5e4a",
    "isPrintLuxWidget": false,
    "isPrintPandas": false,
    "time": "2020-07-11T06:49:48.713Z",
    "type": "completeCodeCell"
   },
   {
    "code": "# Compute the max-min of the group to find total duration for scrolling\nscrollEvents[\"duration\"] =scrollEvents.groupby([\"id\",\"code\"])[\"time\"].transform(np.ptp)",
    "id": "6b468c881bef4e40882599e9ceab8bd8",
    "order_count": 27,
    "time": "2020-07-11T06:49:48.875Z",
    "type": "executeCodeCell"
   },
   {
    "id": "6b468c881bef4e40882599e9ceab8bd8",
    "isPrintLuxWidget": false,
    "isPrintPandas": false,
    "time": "2020-07-11T06:49:48.902Z",
    "type": "completeCodeCell"
   },
   {
    "code": "scrollEvents = scrollEvents.drop(columns=[\"time\",\"type\"])",
    "id": "17f89280280245178e30072b47850075",
    "order_count": 28,
    "time": "2020-07-11T06:49:50.560Z",
    "type": "executeCodeCell"
   },
   {
    "id": "17f89280280245178e30072b47850075",
    "isPrintLuxWidget": false,
    "isPrintPandas": false,
    "time": "2020-07-11T06:49:50.583Z",
    "type": "completeCodeCell"
   },
   {
    "code": "scrollEvents.drop_duplicates()",
    "id": "f63a32608f374ea599a6dec18816f7b0",
    "order_count": 29,
    "time": "2020-07-11T06:49:51.555Z",
    "type": "executeCodeCell"
   },
   {
    "id": "f63a32608f374ea599a6dec18816f7b0",
    "isPrintLuxWidget": false,
    "isPrintPandas": true,
    "time": "2020-07-11T06:49:51.582Z",
    "type": "completeCodeCell"
   },
   {
    "code": "# Compute the max-min of the group to find total duration for scrolling\nscrollEvents[\"duration\"] =scrollEvents.groupby([\"id\",\"code\"])[\"time\"].transform(np.ptp)",
    "id": "6b468c881bef4e40882599e9ceab8bd8",
    "order_count": 27,
    "time": "2020-07-11T06:50:22.546Z",
    "type": "editCodeCell"
   },
   {
    "code": "# Compute the max-min of the group to find total duration for scrolling\nscrollEvents[\"duration\"] =scrollEvents.groupby([\"id\",\"code\",\"param\"])[\"time\"].transform(np.ptp)",
    "id": "6b468c881bef4e40882599e9ceab8bd8",
    "order_count": 27,
    "time": "2020-07-11T06:50:26.259Z",
    "type": "selectCodeCell"
   },
   {
    "code": "import numpy as np\nscrollEvents = uiEventDf[(uiEventDf[\"type\"]=='startScroll')|(uiEventDf[\"type\"]=='stopScroll')]",
    "id": "616070c21db84d409aed5b3e964d5e4a",
    "order_count": 26,
    "time": "2020-07-11T06:50:26.297Z",
    "type": "editCodeCell"
   },
   {
    "code": "import numpy as np\nscrollEvents = uiEventDf[(uiEventDf[\"type\"]=='startScroll')|(uiEventDf[\"type\"]=='stopScroll')]",
    "id": "616070c21db84d409aed5b3e964d5e4a",
    "order_count": 26,
    "time": "2020-07-11T06:50:26.638Z",
    "type": "executeCodeCell"
   },
   {
    "code": "import numpy as np\nscrollEvents = uiEventDf[(uiEventDf[\"type\"]=='startScroll')|(uiEventDf[\"type\"]=='stopScroll')]",
    "id": "616070c21db84d409aed5b3e964d5e4a",
    "order_count": 26,
    "time": "2020-07-11T06:50:26.639Z",
    "type": "selectCodeCell"
   },
   {
    "id": "616070c21db84d409aed5b3e964d5e4a",
    "isPrintLuxWidget": false,
    "isPrintPandas": false,
    "time": "2020-07-11T06:50:26.683Z",
    "type": "completeCodeCell"
   },
   {
    "code": "# Compute the max-min of the group to find total duration for scrolling\nscrollEvents[\"duration\"] =scrollEvents.groupby([\"id\",\"code\",\"param\"])[\"time\"].transform(np.ptp)",
    "id": "6b468c881bef4e40882599e9ceab8bd8",
    "order_count": 27,
    "time": "2020-07-11T06:50:27.457Z",
    "type": "executeCodeCell"
   },
   {
    "id": "6b468c881bef4e40882599e9ceab8bd8",
    "isPrintLuxWidget": false,
    "isPrintPandas": false,
    "time": "2020-07-11T06:50:27.485Z",
    "type": "completeCodeCell"
   },
   {
    "code": "scrollEvents = scrollEvents.drop(columns=[\"time\",\"type\"])",
    "id": "17f89280280245178e30072b47850075",
    "order_count": 28,
    "time": "2020-07-11T06:50:28.202Z",
    "type": "executeCodeCell"
   },
   {
    "id": "17f89280280245178e30072b47850075",
    "isPrintLuxWidget": false,
    "isPrintPandas": false,
    "time": "2020-07-11T06:50:28.224Z",
    "type": "completeCodeCell"
   },
   {
    "code": "scrollEvents.drop_duplicates()",
    "id": "f63a32608f374ea599a6dec18816f7b0",
    "order_count": 29,
    "time": "2020-07-11T06:50:28.607Z",
    "type": "executeCodeCell"
   },
   {
    "id": "f63a32608f374ea599a6dec18816f7b0",
    "isPrintLuxWidget": false,
    "isPrintPandas": true,
    "time": "2020-07-11T06:50:28.633Z",
    "type": "completeCodeCell"
   },
   {
    "code": "scrollEvents.drop_duplicates()",
    "id": "f63a32608f374ea599a6dec18816f7b0",
    "order_count": 29,
    "time": "2020-07-11T06:51:13.813Z",
    "type": "editCodeCell"
   },
   {
    "code": "scrollEvents",
    "id": "f63a32608f374ea599a6dec18816f7b0",
    "order_count": 29,
    "time": "2020-07-11T06:51:17.145Z",
    "type": "executeCodeCell"
   },
   {
    "code": "scrollEvents",
    "id": "f63a32608f374ea599a6dec18816f7b0",
    "order_count": 29,
    "time": "2020-07-11T06:51:17.147Z",
    "type": "selectCodeCell"
   },
   {
    "id": "f63a32608f374ea599a6dec18816f7b0",
    "isPrintLuxWidget": false,
    "isPrintPandas": true,
    "time": "2020-07-11T06:51:17.196Z",
    "type": "completeCodeCell"
   },
   {
    "code": "scrollEvents",
    "id": "f63a32608f374ea599a6dec18816f7b0",
    "order_count": 29,
    "time": "2020-07-11T06:51:17.872Z",
    "type": "editCodeCell"
   },
   {
    "code": "scrollEvents.drop_duplicates()",
    "id": "f63a32608f374ea599a6dec18816f7b0",
    "order_count": 29,
    "time": "2020-07-11T06:51:20.136Z",
    "type": "executeCodeCell"
   },
   {
    "code": "scrollEvents.drop_duplicates()",
    "id": "f63a32608f374ea599a6dec18816f7b0",
    "order_count": 29,
    "time": "2020-07-11T06:51:20.137Z",
    "type": "selectCodeCell"
   },
   {
    "id": "f63a32608f374ea599a6dec18816f7b0",
    "isPrintLuxWidget": false,
    "isPrintPandas": true,
    "time": "2020-07-11T06:51:20.185Z",
    "type": "completeCodeCell"
   },
   {
    "code": "",
    "id": "8fe44fb6f8b9460a8d49e0ba1cda9f78",
    "order_count": 30,
    "time": "2020-07-11T06:51:37.682Z",
    "type": "editCodeCell"
   },
   {
    "code": "scrollEvents.groupby(\"param\")",
    "id": "8fe44fb6f8b9460a8d49e0ba1cda9f78",
    "order_count": 30,
    "time": "2020-07-11T06:51:46.100Z",
    "type": "executeCodeCell"
   },
   {
    "code": "scrollEvents.groupby(\"param\")",
    "id": "8fe44fb6f8b9460a8d49e0ba1cda9f78",
    "order_count": 30,
    "time": "2020-07-11T06:51:46.102Z",
    "type": "selectCodeCell"
   },
   {
    "id": "8fe44fb6f8b9460a8d49e0ba1cda9f78",
    "isPrintLuxWidget": false,
    "isPrintPandas": false,
    "time": "2020-07-11T06:51:46.146Z",
    "type": "completeCodeCell"
   },
   {
    "code": "scrollEvents.groupby(\"param\")",
    "id": "8fe44fb6f8b9460a8d49e0ba1cda9f78",
    "order_count": 30,
    "time": "2020-07-11T06:51:47.088Z",
    "type": "editCodeCell"
   },
   {
    "code": "scrollEvents.groupby(\"param\").mean()",
    "id": "8fe44fb6f8b9460a8d49e0ba1cda9f78",
    "order_count": 30,
    "time": "2020-07-11T06:51:49.253Z",
    "type": "executeCodeCell"
   },
   {
    "code": "scrollEvents.groupby(\"param\").mean()",
    "id": "8fe44fb6f8b9460a8d49e0ba1cda9f78",
    "order_count": 30,
    "time": "2020-07-11T06:51:49.255Z",
    "type": "selectCodeCell"
   },
   {
    "id": "8fe44fb6f8b9460a8d49e0ba1cda9f78",
    "isPrintLuxWidget": false,
    "isPrintPandas": true,
    "time": "2020-07-11T06:51:49.300Z",
    "type": "completeCodeCell"
   },
   {
    "code": "scrollEvents.groupby(\"param\").mean()",
    "id": "8fe44fb6f8b9460a8d49e0ba1cda9f78",
    "order_count": 30,
    "time": "2020-07-11T06:51:50.250Z",
    "type": "editCodeCell"
   },
   {
    "code": "scrollEvents.groupby(\"param\")[\"duration\"].mean()",
    "id": "8fe44fb6f8b9460a8d49e0ba1cda9f78",
    "order_count": 30,
    "time": "2020-07-11T06:51:59.392Z",
    "type": "executeCodeCell"
   },
   {
    "code": "scrollEvents.groupby(\"param\")[\"duration\"].mean()",
    "id": "8fe44fb6f8b9460a8d49e0ba1cda9f78",
    "order_count": 30,
    "time": "2020-07-11T06:51:59.394Z",
    "type": "selectCodeCell"
   },
   {
    "id": "8fe44fb6f8b9460a8d49e0ba1cda9f78",
    "isPrintLuxWidget": false,
    "isPrintPandas": false,
    "time": "2020-07-11T06:51:59.444Z",
    "type": "completeCodeCell"
   },
   {
    "code": "scrollEvents.groupby(\"param\")[\"duration\"].mean()",
    "id": "8fe44fb6f8b9460a8d49e0ba1cda9f78",
    "order_count": 30,
    "time": "2020-07-11T06:52:00.365Z",
    "type": "editCodeCell"
   },
   {
    "code": "scrollEvents.groupby(\"param\")[\"duration\"]",
    "id": "8fe44fb6f8b9460a8d49e0ba1cda9f78",
    "order_count": 30,
    "time": "2020-07-11T06:52:07.264Z",
    "type": "executeCodeCell"
   },
   {
    "code": "scrollEvents.groupby(\"param\")[\"duration\"]",
    "id": "8fe44fb6f8b9460a8d49e0ba1cda9f78",
    "order_count": 30,
    "time": "2020-07-11T06:52:07.265Z",
    "type": "selectCodeCell"
   },
   {
    "id": "8fe44fb6f8b9460a8d49e0ba1cda9f78",
    "isPrintLuxWidget": false,
    "isPrintPandas": false,
    "time": "2020-07-11T06:52:07.314Z",
    "type": "completeCodeCell"
   },
   {
    "code": "scrollEvents.groupby(\"param\")[\"duration\"]",
    "id": "8fe44fb6f8b9460a8d49e0ba1cda9f78",
    "order_count": 30,
    "time": "2020-07-11T06:52:07.990Z",
    "type": "editCodeCell"
   },
   {
    "code": "scrollEvents.groupby(\"param\")[\"duration\"].mean()",
    "id": "8fe44fb6f8b9460a8d49e0ba1cda9f78",
    "order_count": 30,
    "time": "2020-07-11T06:52:08.696Z",
    "type": "executeCodeCell"
   },
   {
    "code": "scrollEvents.groupby(\"param\")[\"duration\"].mean()",
    "id": "8fe44fb6f8b9460a8d49e0ba1cda9f78",
    "order_count": 30,
    "time": "2020-07-11T06:52:08.697Z",
    "type": "selectCodeCell"
   },
   {
    "id": "8fe44fb6f8b9460a8d49e0ba1cda9f78",
    "isPrintLuxWidget": false,
    "isPrintPandas": false,
    "time": "2020-07-11T06:52:08.746Z",
    "type": "completeCodeCell"
   },
   {
    "code": "scrollEvents.groupby(\"param\")[\"duration\"].mean()",
    "id": "8fe44fb6f8b9460a8d49e0ba1cda9f78",
    "order_count": 30,
    "time": "2020-07-11T06:52:09.480Z",
    "type": "editCodeCell"
   },
   {
    "code": "scrollEvents.groupby(\"param\")[\"duration\"].agg(np.mean)",
    "id": "8fe44fb6f8b9460a8d49e0ba1cda9f78",
    "order_count": 30,
    "time": "2020-07-11T06:52:19.280Z",
    "type": "executeCodeCell"
   },
   {
    "code": "scrollEvents.groupby(\"param\")[\"duration\"].agg(np.mean)",
    "id": "8fe44fb6f8b9460a8d49e0ba1cda9f78",
    "order_count": 30,
    "time": "2020-07-11T06:52:19.282Z",
    "type": "selectCodeCell"
   },
   {
    "id": "8fe44fb6f8b9460a8d49e0ba1cda9f78",
    "isPrintLuxWidget": false,
    "isPrintPandas": false,
    "time": "2020-07-11T06:52:19.335Z",
    "type": "completeCodeCell"
   },
   {
    "code": "scrollEvents.groupby(\"param\")[\"duration\"].agg(np.mean)",
    "id": "8fe44fb6f8b9460a8d49e0ba1cda9f78",
    "order_count": 30,
    "time": "2020-07-11T06:52:20.258Z",
    "type": "editCodeCell"
   },
   {
    "code": "scrollEvents.groupby(\"param\")[\"duration\"]",
    "id": "8fe44fb6f8b9460a8d49e0ba1cda9f78",
    "order_count": 30,
    "time": "2020-07-11T06:52:24.488Z",
    "type": "executeCodeCell"
   },
   {
    "code": "scrollEvents.groupby(\"param\")[\"duration\"]",
    "id": "8fe44fb6f8b9460a8d49e0ba1cda9f78",
    "order_count": 30,
    "time": "2020-07-11T06:52:24.489Z",
    "type": "selectCodeCell"
   },
   {
    "id": "8fe44fb6f8b9460a8d49e0ba1cda9f78",
    "isPrintLuxWidget": false,
    "isPrintPandas": false,
    "time": "2020-07-11T06:52:24.537Z",
    "type": "completeCodeCell"
   },
   {
    "code": "scrollEvents.groupby(\"param\")[\"duration\"]",
    "id": "8fe44fb6f8b9460a8d49e0ba1cda9f78",
    "order_count": 30,
    "time": "2020-07-11T06:52:25.246Z",
    "type": "editCodeCell"
   },
   {
    "code": "scrollEvents.groupby(\"param\")",
    "id": "8fe44fb6f8b9460a8d49e0ba1cda9f78",
    "order_count": 30,
    "time": "2020-07-11T06:52:27.848Z",
    "type": "executeCodeCell"
   },
   {
    "code": "scrollEvents.groupby(\"param\")",
    "id": "8fe44fb6f8b9460a8d49e0ba1cda9f78",
    "order_count": 30,
    "time": "2020-07-11T06:52:27.850Z",
    "type": "selectCodeCell"
   },
   {
    "id": "8fe44fb6f8b9460a8d49e0ba1cda9f78",
    "isPrintLuxWidget": false,
    "isPrintPandas": false,
    "time": "2020-07-11T06:52:27.898Z",
    "type": "completeCodeCell"
   },
   {
    "code": "scrollEvents.groupby(\"param\")",
    "id": "8fe44fb6f8b9460a8d49e0ba1cda9f78",
    "order_count": 30,
    "time": "2020-07-11T06:52:28.951Z",
    "type": "editCodeCell"
   },
   {
    "code": "scrollEvents[\"duration\"]",
    "id": "8fe44fb6f8b9460a8d49e0ba1cda9f78",
    "order_count": 30,
    "time": "2020-07-11T06:52:33.921Z",
    "type": "executeCodeCell"
   },
   {
    "code": "scrollEvents[\"duration\"]",
    "id": "8fe44fb6f8b9460a8d49e0ba1cda9f78",
    "order_count": 30,
    "time": "2020-07-11T06:52:33.922Z",
    "type": "selectCodeCell"
   },
   {
    "id": "8fe44fb6f8b9460a8d49e0ba1cda9f78",
    "isPrintLuxWidget": false,
    "isPrintPandas": false,
    "time": "2020-07-11T06:52:33.970Z",
    "type": "completeCodeCell"
   },
   {
    "code": "scrollEvents[\"duration\"]",
    "id": "8fe44fb6f8b9460a8d49e0ba1cda9f78",
    "order_count": 30,
    "time": "2020-07-11T06:52:34.718Z",
    "type": "editCodeCell"
   },
   {
    "code": "scrollEvents.groupby(\"param\")[\"duration\"].agg()",
    "id": "8fe44fb6f8b9460a8d49e0ba1cda9f78",
    "order_count": 30,
    "time": "2020-07-11T06:52:45.181Z",
    "type": "selectCodeCell"
   },
   {
    "code": "scrollEvents.groupby(\"param\")[\"duration\"].agg()",
    "id": "8fe44fb6f8b9460a8d49e0ba1cda9f78",
    "order_count": 30,
    "time": "2020-07-11T06:52:45.928Z",
    "type": "editCodeCell"
   },
   {
    "code": "scrollEvents.groupby(\"param\")[\"duration\"].agg()",
    "id": "8fe44fb6f8b9460a8d49e0ba1cda9f78",
    "order_count": 30,
    "time": "2020-07-11T06:52:45.955Z",
    "type": "selectCodeCell"
   },
   {
    "code": "scrollEvents.groupby(\"param\")[\"duration\"].agg()",
    "id": "8fe44fb6f8b9460a8d49e0ba1cda9f78",
    "order_count": 30,
    "time": "2020-07-11T06:52:53.115Z",
    "type": "editCodeCell"
   },
   {
    "code": "scrollEvents.groupby(\"param\")[\"duration\"].agg()",
    "id": "8fe44fb6f8b9460a8d49e0ba1cda9f78",
    "order_count": 30,
    "time": "2020-07-11T06:52:58.541Z",
    "type": "selectCodeCell"
   },
   {
    "code": "scrollEvents.groupby(\"param\")[\"duration\"].agg()",
    "id": "8fe44fb6f8b9460a8d49e0ba1cda9f78",
    "order_count": 30,
    "time": "2020-07-11T06:53:25.823Z",
    "type": "editCodeCell"
   },
   {
    "code": "scrollEvents.groupby(\"param\")[\"duration\"].agg()",
    "id": "8fe44fb6f8b9460a8d49e0ba1cda9f78",
    "order_count": 30,
    "time": "2020-07-11T06:53:30.507Z",
    "type": "selectCodeCell"
   },
   {
    "code": "",
    "id": "6b8cbdd2f36c4433a98d15df89b4dc91",
    "order_count": 30,
    "time": "2020-07-11T06:53:31.154Z",
    "type": "editCodeCell"
   },
   {
    "code": "scrollEvents",
    "id": "6b8cbdd2f36c4433a98d15df89b4dc91",
    "order_count": 30,
    "time": "2020-07-11T06:53:33.690Z",
    "type": "selectCodeCell"
   },
   {
    "code": "scrollEvents.drop_duplicates()",
    "id": "f63a32608f374ea599a6dec18816f7b0",
    "order_count": 29,
    "time": "2020-07-11T06:53:33.735Z",
    "type": "editCodeCell"
   },
   {
    "code": "scrollEvents = scrollEvents.drop_duplicates()",
    "id": "f63a32608f374ea599a6dec18816f7b0",
    "order_count": 29,
    "time": "2020-07-11T06:53:37.027Z",
    "type": "executeCodeCell"
   },
   {
    "code": "scrollEvents = scrollEvents.drop_duplicates()",
    "id": "f63a32608f374ea599a6dec18816f7b0",
    "order_count": 29,
    "time": "2020-07-11T06:53:37.028Z",
    "type": "selectCodeCell"
   },
   {
    "id": "f63a32608f374ea599a6dec18816f7b0",
    "isPrintLuxWidget": false,
    "isPrintPandas": false,
    "time": "2020-07-11T06:53:37.078Z",
    "type": "completeCodeCell"
   },
   {
    "code": "scrollEvents",
    "id": "6b8cbdd2f36c4433a98d15df89b4dc91",
    "order_count": 30,
    "time": "2020-07-11T06:53:37.850Z",
    "type": "executeCodeCell"
   },
   {
    "id": "6b8cbdd2f36c4433a98d15df89b4dc91",
    "isPrintLuxWidget": false,
    "isPrintPandas": true,
    "time": "2020-07-11T06:53:37.876Z",
    "type": "completeCodeCell"
   },
   {
    "code": "scrollEvents.groupby(\"param\")[\"duration\"].agg()",
    "id": "8fe44fb6f8b9460a8d49e0ba1cda9f78",
    "order_count": 31,
    "time": "2020-07-11T06:53:42.320Z",
    "type": "editCodeCell"
   },
   {
    "code": "scrollEvents.groupby(\"param\")[\"duration\"].agg()",
    "id": "8fe44fb6f8b9460a8d49e0ba1cda9f78",
    "order_count": 31,
    "time": "2020-07-11T06:53:44.882Z",
    "type": "selectCodeCell"
   },
   {
    "code": "",
    "id": "6f5c4cd473594cc896269de7c9d2258f",
    "order_count": 31,
    "time": "2020-07-11T06:53:45.335Z",
    "type": "editCodeCell"
   },
   {
    "code": "scrollEvents.astype(np.int64)",
    "id": "6f5c4cd473594cc896269de7c9d2258f",
    "order_count": 31,
    "time": "2020-07-11T06:53:55.602Z",
    "type": "executeCodeCell"
   },
   {
    "code": "scrollEvents.astype(np.int64)",
    "id": "6f5c4cd473594cc896269de7c9d2258f",
    "order_count": 31,
    "time": "2020-07-11T06:53:55.604Z",
    "type": "selectCodeCell"
   },
   {
    "id": "6f5c4cd473594cc896269de7c9d2258f",
    "isPrintLuxWidget": false,
    "isPrintPandas": false,
    "time": "2020-07-11T06:53:55.656Z",
    "type": "completeCodeCell"
   },
   {
    "code": "scrollEvents.astype(np.int64)",
    "id": "6f5c4cd473594cc896269de7c9d2258f",
    "order_count": 31,
    "time": "2020-07-11T06:54:00.602Z",
    "type": "editCodeCell"
   },
   {
    "code": "scrollEvents[\"duration\"].astype(np.int64)",
    "id": "6f5c4cd473594cc896269de7c9d2258f",
    "order_count": 31,
    "time": "2020-07-11T06:54:05.195Z",
    "type": "executeCodeCell"
   },
   {
    "code": "scrollEvents[\"duration\"].astype(np.int64)",
    "id": "6f5c4cd473594cc896269de7c9d2258f",
    "order_count": 31,
    "time": "2020-07-11T06:54:05.197Z",
    "type": "selectCodeCell"
   },
   {
    "id": "6f5c4cd473594cc896269de7c9d2258f",
    "isPrintLuxWidget": false,
    "isPrintPandas": false,
    "time": "2020-07-11T06:54:05.249Z",
    "type": "completeCodeCell"
   },
   {
    "code": "scrollEvents[\"duration\"].astype(np.int64)",
    "id": "6f5c4cd473594cc896269de7c9d2258f",
    "order_count": 31,
    "time": "2020-07-11T06:54:05.858Z",
    "type": "editCodeCell"
   },
   {
    "code": "scrollEvents[\"duration\"] = scrollEvents[\"duration\"].astype(np.int64)",
    "id": "6f5c4cd473594cc896269de7c9d2258f",
    "order_count": 31,
    "time": "2020-07-11T06:54:09.083Z",
    "type": "executeCodeCell"
   },
   {
    "code": "scrollEvents[\"duration\"] = scrollEvents[\"duration\"].astype(np.int64)",
    "id": "6f5c4cd473594cc896269de7c9d2258f",
    "order_count": 31,
    "time": "2020-07-11T06:54:09.084Z",
    "type": "selectCodeCell"
   },
   {
    "id": "6f5c4cd473594cc896269de7c9d2258f",
    "isPrintLuxWidget": false,
    "isPrintPandas": false,
    "time": "2020-07-11T06:54:09.139Z",
    "type": "completeCodeCell"
   },
   {
    "code": "scrollEvents[\"duration\"] = scrollEvents[\"duration\"].astype(np.int64)",
    "id": "6f5c4cd473594cc896269de7c9d2258f",
    "order_count": 31,
    "time": "2020-07-11T06:54:11.211Z",
    "type": "executeCodeCell"
   },
   {
    "id": "6f5c4cd473594cc896269de7c9d2258f",
    "isPrintLuxWidget": false,
    "isPrintPandas": false,
    "time": "2020-07-11T06:54:11.240Z",
    "type": "completeCodeCell"
   },
   {
    "code": "scrollEvents.groupby(\"param\")[\"duration\"].agg()",
    "id": "8fe44fb6f8b9460a8d49e0ba1cda9f78",
    "order_count": 32,
    "time": "2020-07-11T06:54:12.003Z",
    "type": "editCodeCell"
   },
   {
    "code": "scrollEvents.groupby(\"param\")[\"duration\"].agg()",
    "id": "8fe44fb6f8b9460a8d49e0ba1cda9f78",
    "order_count": 32,
    "time": "2020-07-11T06:54:12.505Z",
    "type": "executeCodeCell"
   },
   {
    "code": "scrollEvents.groupby(\"param\")[\"duration\"].agg()",
    "id": "8fe44fb6f8b9460a8d49e0ba1cda9f78",
    "order_count": 32,
    "time": "2020-07-11T06:54:12.506Z",
    "type": "selectCodeCell"
   },
   {
    "id": "8fe44fb6f8b9460a8d49e0ba1cda9f78",
    "isPrintLuxWidget": false,
    "isPrintPandas": false,
    "time": "2020-07-11T06:54:12.551Z",
    "type": "completeCodeCell"
   },
   {
    "code": "scrollEvents.groupby(\"param\")[\"duration\"].agg()",
    "id": "8fe44fb6f8b9460a8d49e0ba1cda9f78",
    "order_count": 32,
    "time": "2020-07-11T06:54:13.483Z",
    "type": "editCodeCell"
   },
   {
    "code": "scrollEvents.groupby(\"param\")[\"duration\"].mean()",
    "id": "8fe44fb6f8b9460a8d49e0ba1cda9f78",
    "order_count": 32,
    "time": "2020-07-11T06:54:17.971Z",
    "type": "executeCodeCell"
   },
   {
    "code": "scrollEvents.groupby(\"param\")[\"duration\"].mean()",
    "id": "8fe44fb6f8b9460a8d49e0ba1cda9f78",
    "order_count": 32,
    "time": "2020-07-11T06:54:17.973Z",
    "type": "selectCodeCell"
   },
   {
    "id": "8fe44fb6f8b9460a8d49e0ba1cda9f78",
    "isPrintLuxWidget": false,
    "isPrintPandas": false,
    "time": "2020-07-11T06:54:18.024Z",
    "type": "completeCodeCell"
   },
   {
    "code": "scrollEvents.groupby(\"param\")[\"duration\"].mean()",
    "id": "8fe44fb6f8b9460a8d49e0ba1cda9f78",
    "order_count": 32,
    "time": "2020-07-11T06:54:18.658Z",
    "type": "editCodeCell"
   },
   {
    "code": "scrollEvents.groupby(\"param\")[\"duration\"].mean()",
    "id": "8fe44fb6f8b9460a8d49e0ba1cda9f78",
    "order_count": 32,
    "time": "2020-07-11T06:54:26.603Z",
    "type": "selectCodeCell"
   },
   {
    "code": "scrollEvents[\"duration\"] = scrollEvents[\"duration\"].astype(np.int64)",
    "id": "6f5c4cd473594cc896269de7c9d2258f",
    "order_count": 31,
    "time": "2020-07-11T06:54:26.650Z",
    "type": "editCodeCell"
   },
   {
    "code": "scrollEvents[\"duration\"] = scrollEvents[\"duration\"].astype(np.int64)",
    "id": "6f5c4cd473594cc896269de7c9d2258f",
    "order_count": 31,
    "time": "2020-07-11T06:54:27.514Z",
    "type": "selectCodeCell"
   },
   {
    "code": "scrollEvents",
    "id": "6b8cbdd2f36c4433a98d15df89b4dc91",
    "order_count": 30,
    "time": "2020-07-11T06:54:27.561Z",
    "type": "editCodeCell"
   },
   {
    "code": "scrollEvents",
    "id": "6b8cbdd2f36c4433a98d15df89b4dc91",
    "order_count": 30,
    "time": "2020-07-11T06:54:27.802Z",
    "type": "selectCodeCell"
   },
   {
    "code": "scrollEvents = scrollEvents.drop_duplicates()",
    "id": "f63a32608f374ea599a6dec18816f7b0",
    "order_count": 29,
    "time": "2020-07-11T06:54:27.851Z",
    "type": "editCodeCell"
   },
   {
    "code": "scrollEvents = scrollEvents.drop_duplicates()",
    "id": "f63a32608f374ea599a6dec18816f7b0",
    "order_count": 29,
    "time": "2020-07-11T06:54:38.131Z",
    "type": "selectCodeCell"
   },
   {
    "code": "scrollEvents",
    "id": "6b8cbdd2f36c4433a98d15df89b4dc91",
    "order_count": 30,
    "time": "2020-07-11T06:54:38.178Z",
    "type": "editCodeCell"
   },
   {
    "code": "scrollEvents",
    "id": "6b8cbdd2f36c4433a98d15df89b4dc91",
    "order_count": 30,
    "time": "2020-07-11T06:54:40.019Z",
    "type": "selectCodeCell"
   },
   {
    "code": "scrollEvents.groupby(\"param\")[\"duration\"].mean()",
    "id": "8fe44fb6f8b9460a8d49e0ba1cda9f78",
    "order_count": 32,
    "time": "2020-07-11T06:54:40.058Z",
    "type": "editCodeCell"
   },
   {
    "code": "scrollEvents.groupby(\"param\")[\"duration\"].mean()*1e-9",
    "id": "8fe44fb6f8b9460a8d49e0ba1cda9f78",
    "order_count": 32,
    "time": "2020-07-11T06:54:49.830Z",
    "type": "executeCodeCell"
   },
   {
    "code": "scrollEvents.groupby(\"param\")[\"duration\"].mean()*1e-9",
    "id": "8fe44fb6f8b9460a8d49e0ba1cda9f78",
    "order_count": 32,
    "time": "2020-07-11T06:54:49.833Z",
    "type": "selectCodeCell"
   },
   {
    "id": "8fe44fb6f8b9460a8d49e0ba1cda9f78",
    "isPrintLuxWidget": false,
    "isPrintPandas": false,
    "time": "2020-07-11T06:54:49.884Z",
    "type": "completeCodeCell"
   },
   {
    "code": "scrollEvents.groupby(\"param\")[\"duration\"].mean()*1e-9",
    "id": "8fe44fb6f8b9460a8d49e0ba1cda9f78",
    "order_count": 32,
    "time": "2020-07-11T06:54:50.779Z",
    "type": "editCodeCell"
   },
   {
    "code": "scrollEvents.groupby(\"param\")[\"duration\"].mean()*1e-9",
    "id": "8fe44fb6f8b9460a8d49e0ba1cda9f78",
    "order_count": 32,
    "time": "2020-07-11T06:55:27.316Z",
    "type": "selectCodeCell"
   },
   {
    "code": "scrollEvents = scrollEvents.drop_duplicates()",
    "id": "f63a32608f374ea599a6dec18816f7b0",
    "order_count": 29,
    "time": "2020-07-11T06:55:27.354Z",
    "type": "editCodeCell"
   },
   {
    "code": "scrollEvents = scrollEvents.drop_duplicates()",
    "id": "f63a32608f374ea599a6dec18816f7b0",
    "order_count": 29,
    "time": "2020-07-11T06:55:27.741Z",
    "type": "selectCodeCell"
   },
   {
    "code": "scrollEvents",
    "id": "6b8cbdd2f36c4433a98d15df89b4dc91",
    "order_count": 30,
    "time": "2020-07-11T06:55:27.782Z",
    "type": "editCodeCell"
   },
   {
    "code": "scrollEvents",
    "id": "6b8cbdd2f36c4433a98d15df89b4dc91",
    "order_count": 30,
    "time": "2020-07-11T06:55:30.243Z",
    "type": "selectCodeCell"
   },
   {
    "code": "scrollEvents[\"duration\"] = scrollEvents[\"duration\"].astype(np.int64)",
    "id": "6f5c4cd473594cc896269de7c9d2258f",
    "order_count": 31,
    "time": "2020-07-11T06:55:30.282Z",
    "type": "editCodeCell"
   },
   {
    "code": "scrollEvents[\"duration\"] = scrollEvents[\"duration\"].dt.total_seconds()",
    "id": "6f5c4cd473594cc896269de7c9d2258f",
    "order_count": 31,
    "time": "2020-07-11T06:55:38.020Z",
    "type": "selectCodeCell"
   },
   {
    "code": "import numpy as np\nscrollEvents = uiEventDf[(uiEventDf[\"type\"]=='startScroll')|(uiEventDf[\"type\"]=='stopScroll')]",
    "id": "616070c21db84d409aed5b3e964d5e4a",
    "order_count": 26,
    "time": "2020-07-11T06:55:38.060Z",
    "type": "editCodeCell"
   },
   {
    "code": "import numpy as np\nscrollEvents = uiEventDf[(uiEventDf[\"type\"]=='startScroll')|(uiEventDf[\"type\"]=='stopScroll')]",
    "id": "616070c21db84d409aed5b3e964d5e4a",
    "order_count": 26,
    "time": "2020-07-11T06:55:38.829Z",
    "type": "executeCodeCell"
   },
   {
    "code": "import numpy as np\nscrollEvents = uiEventDf[(uiEventDf[\"type\"]=='startScroll')|(uiEventDf[\"type\"]=='stopScroll')]",
    "id": "616070c21db84d409aed5b3e964d5e4a",
    "order_count": 26,
    "time": "2020-07-11T06:55:38.831Z",
    "type": "selectCodeCell"
   },
   {
    "id": "616070c21db84d409aed5b3e964d5e4a",
    "isPrintLuxWidget": false,
    "isPrintPandas": false,
    "time": "2020-07-11T06:55:38.877Z",
    "type": "completeCodeCell"
   },
   {
    "code": "# Compute the max-min of the group to find total duration for scrolling\nscrollEvents[\"duration\"] =scrollEvents.groupby([\"id\",\"code\",\"param\"])[\"time\"].transform(np.ptp)",
    "id": "6b468c881bef4e40882599e9ceab8bd8",
    "order_count": 27,
    "time": "2020-07-11T06:55:39.085Z",
    "type": "executeCodeCell"
   },
   {
    "id": "6b468c881bef4e40882599e9ceab8bd8",
    "isPrintLuxWidget": false,
    "isPrintPandas": false,
    "time": "2020-07-11T06:55:39.113Z",
    "type": "completeCodeCell"
   },
   {
    "code": "scrollEvents = scrollEvents.drop(columns=[\"time\",\"type\"])",
    "id": "17f89280280245178e30072b47850075",
    "order_count": 28,
    "time": "2020-07-11T06:55:39.341Z",
    "type": "executeCodeCell"
   },
   {
    "id": "17f89280280245178e30072b47850075",
    "isPrintLuxWidget": false,
    "isPrintPandas": false,
    "time": "2020-07-11T06:55:39.364Z",
    "type": "completeCodeCell"
   },
   {
    "code": "scrollEvents = scrollEvents.drop_duplicates()",
    "id": "f63a32608f374ea599a6dec18816f7b0",
    "order_count": 29,
    "time": "2020-07-11T06:55:39.812Z",
    "type": "executeCodeCell"
   },
   {
    "id": "f63a32608f374ea599a6dec18816f7b0",
    "isPrintLuxWidget": false,
    "isPrintPandas": false,
    "time": "2020-07-11T06:55:39.834Z",
    "type": "completeCodeCell"
   },
   {
    "code": "scrollEvents",
    "id": "6b8cbdd2f36c4433a98d15df89b4dc91",
    "order_count": 30,
    "time": "2020-07-11T06:55:40.117Z",
    "type": "executeCodeCell"
   },
   {
    "id": "6b8cbdd2f36c4433a98d15df89b4dc91",
    "isPrintLuxWidget": false,
    "isPrintPandas": true,
    "time": "2020-07-11T06:55:40.149Z",
    "type": "completeCodeCell"
   },
   {
    "code": "scrollEvents[\"duration\"] = scrollEvents[\"duration\"].dt.total_seconds()",
    "id": "6f5c4cd473594cc896269de7c9d2258f",
    "order_count": 31,
    "time": "2020-07-11T06:55:41.869Z",
    "type": "executeCodeCell"
   },
   {
    "id": "6f5c4cd473594cc896269de7c9d2258f",
    "isPrintLuxWidget": false,
    "isPrintPandas": false,
    "time": "2020-07-11T06:55:41.897Z",
    "type": "completeCodeCell"
   },
   {
    "code": "",
    "id": "68d0d70f5b7b483283adee6d621d2e83",
    "order_count": 32,
    "time": "2020-07-11T06:55:42.772Z",
    "type": "editCodeCell"
   },
   {
    "code": "scrollEvents",
    "id": "68d0d70f5b7b483283adee6d621d2e83",
    "order_count": 32,
    "time": "2020-07-11T06:55:44.501Z",
    "type": "executeCodeCell"
   },
   {
    "code": "scrollEvents",
    "id": "68d0d70f5b7b483283adee6d621d2e83",
    "order_count": 32,
    "time": "2020-07-11T06:55:44.502Z",
    "type": "selectCodeCell"
   },
   {
    "id": "68d0d70f5b7b483283adee6d621d2e83",
    "isPrintLuxWidget": false,
    "isPrintPandas": true,
    "time": "2020-07-11T06:55:44.552Z",
    "type": "completeCodeCell"
   },
   {
    "code": "scrollEvents.groupby(\"param\")[\"duration\"].mean()*1e-9",
    "id": "8fe44fb6f8b9460a8d49e0ba1cda9f78",
    "order_count": 33,
    "time": "2020-07-11T06:55:48.814Z",
    "type": "editCodeCell"
   },
   {
    "code": "scrollEvents.groupby(\"param\")[\"duration\"].mean()",
    "id": "8fe44fb6f8b9460a8d49e0ba1cda9f78",
    "order_count": 33,
    "time": "2020-07-11T06:55:56.734Z",
    "type": "executeCodeCell"
   },
   {
    "code": "scrollEvents.groupby(\"param\")[\"duration\"].mean()",
    "id": "8fe44fb6f8b9460a8d49e0ba1cda9f78",
    "order_count": 33,
    "time": "2020-07-11T06:55:56.737Z",
    "type": "selectCodeCell"
   },
   {
    "id": "8fe44fb6f8b9460a8d49e0ba1cda9f78",
    "isPrintLuxWidget": false,
    "isPrintPandas": false,
    "time": "2020-07-11T06:55:56.790Z",
    "type": "completeCodeCell"
   },
   {
    "code": "df[df[\"type\"]==\"exportBtnClick\"]",
    "id": "47a63cdfcfa947d690a6cab757dd9bbb",
    "order_count": 37,
    "time": "2020-07-11T06:56:33.190Z",
    "type": "executeCodeCell"
   },
   {
    "id": "47a63cdfcfa947d690a6cab757dd9bbb",
    "isPrintLuxWidget": false,
    "isPrintPandas": true,
    "time": "2020-07-11T06:56:33.223Z",
    "type": "completeCodeCell"
   },
   {
    "code": "uiEventDf[uiEventDf[\"type\"]=='toggleBtnClick'].param",
    "id": "b9e0274e968d423585985e647a9b770e",
    "order_count": 23,
    "time": "2020-07-11T06:56:47.399Z",
    "type": "editCodeCell"
   },
   {
    "code": "uiEventDf[uiEventDf[\"type\"]=='toggleBtnClick'].param",
    "id": "b9e0274e968d423585985e647a9b770e",
    "order_count": 23,
    "time": "2020-07-11T06:56:53.167Z",
    "type": "selectCodeCell"
   },
   {
    "code": "df[df[\"type\"]==\"exportBtnClick\"]",
    "id": "47a63cdfcfa947d690a6cab757dd9bbb",
    "order_count": 37,
    "time": "2020-07-11T06:56:53.209Z",
    "type": "editCodeCell"
   },
   {
    "code": "uiEventDf[uiEventDf[\"type\"]==\"exportBtnClick\"]",
    "id": "47a63cdfcfa947d690a6cab757dd9bbb",
    "order_count": 37,
    "time": "2020-07-11T06:56:55.602Z",
    "type": "executeCodeCell"
   },
   {
    "code": "uiEventDf[uiEventDf[\"type\"]==\"exportBtnClick\"]",
    "id": "47a63cdfcfa947d690a6cab757dd9bbb",
    "order_count": 37,
    "time": "2020-07-11T06:56:55.603Z",
    "type": "selectCodeCell"
   },
   {
    "id": "47a63cdfcfa947d690a6cab757dd9bbb",
    "isPrintLuxWidget": false,
    "isPrintPandas": true,
    "time": "2020-07-11T06:56:55.656Z",
    "type": "completeCodeCell"
   },
   {
    "code": "df[df[\"type\"]==\"clickVis\"].param.values[0]",
    "id": "c921924cdfbe4fd28207e1563fe5260c",
    "order_count": 38,
    "time": "2020-07-11T06:57:17.030Z",
    "type": "editCodeCell"
   },
   {
    "code": "df[df[\"type\"]==\"clickVis\"].param.values[0]",
    "id": "c921924cdfbe4fd28207e1563fe5260c",
    "order_count": 38,
    "time": "2020-07-11T06:57:18.175Z",
    "type": "selectCodeCell"
   },
   {
    "code": "",
    "id": "378e239b558d43c991506544f3d05498",
    "order_count": 38,
    "time": "2020-07-11T06:57:18.682Z",
    "type": "editCodeCell"
   },
   {
    "code": "df[df[\"type\"]==\"clickVis\"]",
    "id": "378e239b558d43c991506544f3d05498",
    "order_count": 38,
    "time": "2020-07-11T06:57:19.657Z",
    "type": "executeCodeCell"
   },
   {
    "code": "df[df[\"type\"]==\"clickVis\"]",
    "id": "378e239b558d43c991506544f3d05498",
    "order_count": 38,
    "time": "2020-07-11T06:57:19.658Z",
    "type": "selectCodeCell"
   },
   {
    "id": "378e239b558d43c991506544f3d05498",
    "isPrintLuxWidget": false,
    "isPrintPandas": true,
    "time": "2020-07-11T06:57:19.713Z",
    "type": "completeCodeCell"
   },
   {
    "code": "cellEvents[\"isPrintPandas\"]",
    "id": "f1c6665118904af79425278635a6302f",
    "order_count": 13,
    "time": "2020-07-11T06:58:18.745Z",
    "type": "editCodeCell"
   },
   {
    "code": "cellEvents[\"isPrintPandas\"]",
    "id": "f1c6665118904af79425278635a6302f",
    "order_count": 13,
    "time": "2020-07-11T06:58:20.656Z",
    "type": "selectCodeCell"
   },
   {
    "code": "#cellEvents is a dataframe with edit/complete/execute Code Cell all merged as one event, with computed queryFormulationTime and codeExecutionTime\ncellEvents = codeCellsubset.groupby(['code','id']).last()\ncellEvents = cellEvents.reset_index()\ncellEvents.type = \"CodeCellEvent\"",
    "id": "84422ca85d144d098c8f3ad52aa36f57",
    "order_count": 11,
    "time": "2020-07-11T06:58:20.699Z",
    "type": "editCodeCell"
   },
   {
    "code": "#cellEvents is a dataframe with edit/complete/execute Code Cell all merged as one event, with computed queryFormulationTime and codeExecutionTime\ncellEvents = codeCellsubset.groupby(['code','id']).last()\ncellEvents = cellEvents.reset_index()\ncellEvents.type = \"CodeCellEvent\"",
    "id": "84422ca85d144d098c8f3ad52aa36f57",
    "order_count": 11,
    "time": "2020-07-11T06:58:21.791Z",
    "type": "executeCodeCell"
   },
   {
    "code": "#cellEvents is a dataframe with edit/complete/execute Code Cell all merged as one event, with computed queryFormulationTime and codeExecutionTime\ncellEvents = codeCellsubset.groupby(['code','id']).last()\ncellEvents = cellEvents.reset_index()\ncellEvents.type = \"CodeCellEvent\"",
    "id": "84422ca85d144d098c8f3ad52aa36f57",
    "order_count": 11,
    "time": "2020-07-11T06:58:21.793Z",
    "type": "selectCodeCell"
   },
   {
    "id": "84422ca85d144d098c8f3ad52aa36f57",
    "isPrintLuxWidget": false,
    "isPrintPandas": false,
    "time": "2020-07-11T06:58:21.846Z",
    "type": "completeCodeCell"
   },
   {
    "code": "cellEvents",
    "id": "49bd79c86c464fb795234004377f1b4a",
    "order_count": 12,
    "time": "2020-07-11T06:58:22.038Z",
    "type": "executeCodeCell"
   },
   {
    "id": "49bd79c86c464fb795234004377f1b4a",
    "isPrintLuxWidget": false,
    "isPrintPandas": true,
    "time": "2020-07-11T06:58:22.075Z",
    "type": "completeCodeCell"
   },
   {
    "code": "cellEvents[\"isPrintPandas\"]",
    "id": "f1c6665118904af79425278635a6302f",
    "order_count": 13,
    "time": "2020-07-11T06:58:23.192Z",
    "type": "executeCodeCell"
   },
   {
    "id": "f1c6665118904af79425278635a6302f",
    "isPrintLuxWidget": false,
    "isPrintPandas": false,
    "time": "2020-07-11T06:58:23.223Z",
    "type": "completeCodeCell"
   },
   {
    "code": "",
    "id": "61a8c681c4b942179b0f3e98509803be",
    "order_count": 6,
    "time": "2020-07-11T06:58:40.703Z",
    "type": "editCodeCell"
   },
   {
    "code": "df",
    "id": "61a8c681c4b942179b0f3e98509803be",
    "order_count": 6,
    "time": "2020-07-11T06:58:41.342Z",
    "type": "executeCodeCell"
   },
   {
    "code": "df",
    "id": "61a8c681c4b942179b0f3e98509803be",
    "order_count": 6,
    "time": "2020-07-11T06:58:41.343Z",
    "type": "selectCodeCell"
   },
   {
    "id": "61a8c681c4b942179b0f3e98509803be",
    "isPrintLuxWidget": false,
    "isPrintPandas": true,
    "time": "2020-07-11T06:58:41.392Z",
    "type": "completeCodeCell"
   },
   {
    "code": "df",
    "id": "61a8c681c4b942179b0f3e98509803be",
    "order_count": null,
    "time": "2020-07-11T06:58:50.988Z",
    "type": "deleteCodeCell"
   },
   {
    "code": "df = pd.DataFrame(log)",
    "id": "aa28737cb99243478b249545fb49cb9a",
    "order_count": 6,
    "time": "2020-07-11T06:58:52.553Z",
    "type": "executeCodeCell"
   },
   {
    "id": "aa28737cb99243478b249545fb49cb9a",
    "isPrintLuxWidget": false,
    "isPrintPandas": false,
    "time": "2020-07-11T06:58:52.575Z",
    "type": "completeCodeCell"
   },
   {
    "code": "df[\"time\"] = pd.to_datetime(df[\"time\"])",
    "id": "890b21c0c37942cb8c4a49b77fe4cec7",
    "order_count": 7,
    "time": "2020-07-11T06:58:52.741Z",
    "type": "executeCodeCell"
   },
   {
    "id": "890b21c0c37942cb8c4a49b77fe4cec7",
    "isPrintLuxWidget": false,
    "isPrintPandas": false,
    "time": "2020-07-11T06:58:52.766Z",
    "type": "completeCodeCell"
   },
   {
    "code": "subset1 = df[(df[\"type\"]==\"editCodeCell\")|(df[\"type\"]==\"executeCodeCell\")]\nsubset1.loc[:,\"queryFormulationTime\"] = subset1.groupby([\"code\",\"id\"])[\"time\"].diff()",
    "id": "08d90942f20146918d52c45dee7217c4",
    "order_count": 8,
    "time": "2020-07-11T06:58:52.882Z",
    "type": "executeCodeCell"
   },
   {
    "id": "08d90942f20146918d52c45dee7217c4",
    "isPrintLuxWidget": false,
    "isPrintPandas": false,
    "time": "2020-07-11T06:58:52.915Z",
    "type": "completeCodeCell"
   },
   {
    "code": "subset2 = df[(df[\"type\"]==\"executeCodeCell\")|(df[\"type\"]==\"completeCodeCell\")]\nsubset2.loc[:,\"codeExecutionTime\"] = subset2.groupby([\"code\",\"id\"])[\"time\"].diff()",
    "id": "215c8d0ddd8f49ad8762ef98851b75e9",
    "order_count": 9,
    "time": "2020-07-11T06:58:53.217Z",
    "type": "executeCodeCell"
   },
   {
    "id": "215c8d0ddd8f49ad8762ef98851b75e9",
    "isPrintLuxWidget": false,
    "isPrintPandas": false,
    "time": "2020-07-11T06:58:53.240Z",
    "type": "completeCodeCell"
   },
   {
    "code": "codeCellsubset=pd.concat([subset1,subset2])",
    "id": "704b70a82a48442183ee0e5e4cddac9a",
    "order_count": 10,
    "time": "2020-07-11T06:58:54.182Z",
    "type": "executeCodeCell"
   },
   {
    "id": "704b70a82a48442183ee0e5e4cddac9a",
    "isPrintLuxWidget": false,
    "isPrintPandas": false,
    "time": "2020-07-11T06:58:54.211Z",
    "type": "completeCodeCell"
   },
   {
    "code": "#cellEvents is a dataframe with edit/complete/execute Code Cell all merged as one event, with computed queryFormulationTime and codeExecutionTime\ncellEvents = codeCellsubset.groupby(['code','id']).last()\ncellEvents = cellEvents.reset_index()\ncellEvents.type = \"CodeCellEvent\"",
    "id": "84422ca85d144d098c8f3ad52aa36f57",
    "order_count": 11,
    "time": "2020-07-11T06:58:55.719Z",
    "type": "executeCodeCell"
   },
   {
    "id": "84422ca85d144d098c8f3ad52aa36f57",
    "isPrintLuxWidget": false,
    "isPrintPandas": false,
    "time": "2020-07-11T06:58:55.746Z",
    "type": "completeCodeCell"
   },
   {
    "code": "cellEvents",
    "id": "49bd79c86c464fb795234004377f1b4a",
    "order_count": 12,
    "time": "2020-07-11T06:58:56.790Z",
    "type": "executeCodeCell"
   },
   {
    "id": "49bd79c86c464fb795234004377f1b4a",
    "isPrintLuxWidget": false,
    "isPrintPandas": true,
    "time": "2020-07-11T06:58:56.826Z",
    "type": "completeCodeCell"
   },
   {
    "code": "#cellEvents is a dataframe with edit/complete/execute Code Cell all merged as one event, with computed queryFormulationTime and codeExecutionTime\ncellEvents = codeCellsubset.groupby(['code','id']).last()\ncellEvents = cellEvents.reset_index()\ncellEvents.type = \"CodeCellEvent\"",
    "id": "84422ca85d144d098c8f3ad52aa36f57",
    "order_count": 11,
    "time": "2020-07-11T06:59:00.992Z",
    "type": "editCodeCell"
   },
   {
    "code": "#cellEvents is a dataframe with edit/complete/execute Code Cell all merged as one event, with computed queryFormulationTime and codeExecutionTime\ncellEvents = codeCellsubset.groupby(['code','id']).first()\ncellEvents = cellEvents.reset_index()\ncellEvents.type = \"CodeCellEvent\"",
    "id": "84422ca85d144d098c8f3ad52aa36f57",
    "order_count": 11,
    "time": "2020-07-11T06:59:03.896Z",
    "type": "executeCodeCell"
   },
   {
    "code": "#cellEvents is a dataframe with edit/complete/execute Code Cell all merged as one event, with computed queryFormulationTime and codeExecutionTime\ncellEvents = codeCellsubset.groupby(['code','id']).first()\ncellEvents = cellEvents.reset_index()\ncellEvents.type = \"CodeCellEvent\"",
    "id": "84422ca85d144d098c8f3ad52aa36f57",
    "order_count": 11,
    "time": "2020-07-11T06:59:03.898Z",
    "type": "selectCodeCell"
   },
   {
    "id": "84422ca85d144d098c8f3ad52aa36f57",
    "isPrintLuxWidget": false,
    "isPrintPandas": false,
    "time": "2020-07-11T06:59:03.950Z",
    "type": "completeCodeCell"
   },
   {
    "code": "cellEvents",
    "id": "49bd79c86c464fb795234004377f1b4a",
    "order_count": 12,
    "time": "2020-07-11T06:59:05.507Z",
    "type": "executeCodeCell"
   },
   {
    "id": "49bd79c86c464fb795234004377f1b4a",
    "isPrintLuxWidget": false,
    "isPrintPandas": true,
    "time": "2020-07-11T06:59:05.537Z",
    "type": "completeCodeCell"
   },
   {
    "code": "#cellEvents is a dataframe with edit/complete/execute Code Cell all merged as one event, with computed queryFormulationTime and codeExecutionTime\ncellEvents = codeCellsubset.groupby(['code','id']).first()\ncellEvents = cellEvents.reset_index()\ncellEvents.type = \"CodeCellEvent\"",
    "id": "84422ca85d144d098c8f3ad52aa36f57",
    "order_count": 11,
    "time": "2020-07-11T06:59:09.566Z",
    "type": "editCodeCell"
   },
   {
    "code": "#cellEvents is a dataframe with edit/complete/execute Code Cell all merged as one event, with computed queryFormulationTime and codeExecutionTime\ncellEvents = codeCellsubset.groupby(['code','id']).last()\ncellEvents = cellEvents.reset_index()\ncellEvents.type = \"CodeCellEvent\"",
    "id": "84422ca85d144d098c8f3ad52aa36f57",
    "order_count": 11,
    "time": "2020-07-11T06:59:11.835Z",
    "type": "executeCodeCell"
   },
   {
    "code": "#cellEvents is a dataframe with edit/complete/execute Code Cell all merged as one event, with computed queryFormulationTime and codeExecutionTime\ncellEvents = codeCellsubset.groupby(['code','id']).last()\ncellEvents = cellEvents.reset_index()\ncellEvents.type = \"CodeCellEvent\"",
    "id": "84422ca85d144d098c8f3ad52aa36f57",
    "order_count": 11,
    "time": "2020-07-11T06:59:11.837Z",
    "type": "selectCodeCell"
   },
   {
    "id": "84422ca85d144d098c8f3ad52aa36f57",
    "isPrintLuxWidget": false,
    "isPrintPandas": false,
    "time": "2020-07-11T06:59:11.890Z",
    "type": "completeCodeCell"
   },
   {
    "code": "cellEvents",
    "id": "49bd79c86c464fb795234004377f1b4a",
    "order_count": 12,
    "time": "2020-07-11T06:59:12.498Z",
    "type": "executeCodeCell"
   },
   {
    "id": "49bd79c86c464fb795234004377f1b4a",
    "isPrintLuxWidget": false,
    "isPrintPandas": true,
    "time": "2020-07-11T06:59:12.535Z",
    "type": "completeCodeCell"
   },
   {
    "code": "#cellEvents is a dataframe with edit/complete/execute Code Cell all merged as one event, with computed queryFormulationTime and codeExecutionTime\ncellEvents = codeCellsubset.groupby(['code','id']).last()\ncellEvents = cellEvents.reset_index()\ncellEvents.type = \"CodeCellEvent\"",
    "id": "84422ca85d144d098c8f3ad52aa36f57",
    "order_count": 11,
    "time": "2020-07-11T06:59:41.563Z",
    "type": "editCodeCell"
   },
   {
    "code": "#cellEvents is a dataframe with edit/complete/execute Code Cell all merged as one event, with computed queryFormulationTime and codeExecutionTime\ncellEvents = codeCellsubset.groupby(['code','id']).last()\ncellEvents = cellEvents.reset_index()\ncellEvents.type = \"CodeCellEvent\"",
    "id": "84422ca85d144d098c8f3ad52aa36f57",
    "order_count": 11,
    "time": "2020-07-11T06:59:49.286Z",
    "type": "selectCodeCell"
   },
   {
    "time": "2020-07-11T06:59:52.391Z",
    "type": "kernelReady"
   },
   {
    "time": "2020-07-11T09:52:43.553Z",
    "type": "kernelReady"
   },
   {
    "time": "2020-07-11T11:18:04.152Z",
    "type": "kernelReady"
   },
   {
    "time": "2020-07-12T01:06:41.141Z",
    "type": "kernelReady"
   },
   {
    "time": "2020-07-12T02:37:45.336Z",
    "type": "kernelReady"
   },
   {
    "code": "#cellEvents is a dataframe with edit/complete/execute Code Cell all merged as one event, with computed queryFormulationTime and codeExecutionTime\ncellEvents = codeCellsubset.groupby(['code','id']).last()\ncellEvents = cellEvents.reset_index()\ncellEvents.type = \"CodeCellEvent\"",
    "id": "84422ca85d144d098c8f3ad52aa36f57",
    "order_count": 11,
    "time": "2020-07-12T02:59:48.617Z",
    "type": "editCodeCell"
   },
   {
    "code": "#cellEvents is a dataframe with edit/complete/execute Code Cell all merged as one event, with computed queryFormulationTime and codeExecutionTime\ncellEvents = codeCellsubset.groupby(['code','id']).last()\ncellEvents = cellEvents.reset_index()\ncellEvents.type = \"CodeCellEvent\"",
    "id": "84422ca85d144d098c8f3ad52aa36f57",
    "order_count": 11,
    "time": "2020-07-12T02:59:50.186Z",
    "type": "selectCodeCell"
   },
   {
    "code": "#cellEvents is a dataframe with edit/complete/execute Code Cell all merged as one event, with computed queryFormulationTime and codeExecutionTime\ncellEvents = codeCellsubset.groupby(['code','id']).last()\ncellEvents = cellEvents.reset_index()\ncellEvents.type = \"CodeCellEvent\"",
    "id": "84422ca85d144d098c8f3ad52aa36f57",
    "order_count": 11,
    "time": "2020-07-12T03:00:14.792Z",
    "type": "editCodeCell"
   },
   {
    "code": "#cellEvents is a dataframe with edit/complete/execute Code Cell all merged as one event, with computed queryFormulationTime and codeExecutionTime\ncellEvents = codeCellsubset.groupby(['code','id']).last()\ncellEvents = cellEvents.reset_index()\ncellEvents.type = \"CodeCellEvent\"",
    "id": "84422ca85d144d098c8f3ad52aa36f57",
    "order_count": 11,
    "time": "2020-07-12T03:00:16.337Z",
    "type": "selectCodeCell"
   },
   {
    "code": "#cellEvents is a dataframe with edit/complete/execute Code Cell all merged as one event, with computed queryFormulationTime and codeExecutionTime\ncellEvents = codeCellsubset.groupby(['code','id']).last()\ncellEvents = cellEvents.reset_index()\ncellEvents.type = \"CodeCellEvent\"",
    "id": "84422ca85d144d098c8f3ad52aa36f57",
    "order_count": 11,
    "time": "2020-07-12T03:00:25.539Z",
    "type": "editCodeCell"
   },
   {
    "code": "#cellEvents is a dataframe with edit/complete/execute Code Cell all merged as one event, with computed queryFormulationTime and codeExecutionTime\ncellEvents = codeCellsubset.groupby(['code','id']).last()\ncellEvents = cellEvents.reset_index()\ncellEvents.type = \"CodeCellEvent\"",
    "id": "84422ca85d144d098c8f3ad52aa36f57",
    "order_count": 11,
    "time": "2020-07-12T03:00:26.717Z",
    "type": "selectCodeCell"
   },
   {
    "code": "#cellEvents is a dataframe with edit/complete/execute Code Cell all merged as one event, with computed queryFormulationTime and codeExecutionTime\ncellEvents = codeCellsubset.groupby(['code','id']).last()\ncellEvents = cellEvents.reset_index()\ncellEvents.type = \"CodeCellEvent\"",
    "id": "84422ca85d144d098c8f3ad52aa36f57",
    "order_count": 11,
    "time": "2020-07-12T03:01:00.032Z",
    "type": "editCodeCell"
   },
   {
    "code": "#cellEvents is a dataframe with edit/complete/execute Code Cell all merged as one event, with computed queryFormulationTime and codeExecutionTime\ncellEvents = codeCellsubset.groupby(['code','id']).last()\ncellEvents = cellEvents.reset_index()\ncellEvents.type = \"CodeCellEvent\"",
    "id": "84422ca85d144d098c8f3ad52aa36f57",
    "order_count": 11,
    "time": "2020-07-12T03:11:06.371Z",
    "type": "selectCodeCell"
   },
   {
    "code": "cellEvents[\"isPrintPandas\"]",
    "id": "f1c6665118904af79425278635a6302f",
    "order_count": 13,
    "time": "2020-07-12T03:11:07.692Z",
    "type": "editCodeCell"
   },
   {
    "code": "cellEvents[\"isPrintPandas\"]",
    "id": "f1c6665118904af79425278635a6302f",
    "order_count": 13,
    "time": "2020-07-12T03:11:11.209Z",
    "type": "selectCodeCell"
   },
   {
    "code": "print (\"Total number of dataframe prints:\",)",
    "id": "7d3d11549c9e406c8fe054632fa33db3",
    "order_count": 14,
    "time": "2020-07-12T03:11:11.251Z",
    "type": "editCodeCell"
   },
   {
    "code": "print (\"Total number of dataframe prints:\",)",
    "id": "7d3d11549c9e406c8fe054632fa33db3",
    "order_count": 14,
    "time": "2020-07-12T03:11:13.818Z",
    "type": "selectCodeCell"
   },
   {
    "time": "2020-07-12T03:33:42.463Z",
    "type": "kernelReady"
   },
   {
    "time": "2020-07-12T04:41:53.070Z",
    "type": "kernelReady"
   },
   {
    "time": "2020-07-12T05:13:32.737Z",
    "type": "kernelReady"
   },
   {
    "code": "import json",
    "id": "6e1ce3c6b98142ab8671b63ce329695a",
    "order_count": 0,
    "time": "2020-07-12T06:22:57.990Z",
    "type": "editCodeCell"
   },
   {
    "code": "import json",
    "id": "6e1ce3c6b98142ab8671b63ce329695a",
    "order_count": 0,
    "time": "2020-07-12T06:23:02.273Z",
    "type": "selectCodeCell"
   },
   {
    "code": "nb = json.load(open(\"CarsDemo.ipynb\"))",
    "id": "2761f3ce1c9f44d9ba87e968b2ea85cf",
    "order_count": 1,
    "time": "2020-07-12T06:23:02.314Z",
    "type": "editCodeCell"
   },
   {
    "code": "nb = json.load(open(\"CarsDemo.ipynb\"))",
    "id": "2761f3ce1c9f44d9ba87e968b2ea85cf",
    "order_count": 1,
    "time": "2020-07-12T06:23:03.628Z",
    "type": "selectCodeCell"
   },
   {
    "code": "nb = json.load(open(\"CarsDemo.ipynb\"))",
    "id": "2761f3ce1c9f44d9ba87e968b2ea85cf",
    "order_count": 1,
    "time": "2020-07-12T06:23:12.037Z",
    "type": "editCodeCell"
   },
   {
    "code": "nb = json.load(open(\"CarsDemo.ipynb\"))",
    "id": "2761f3ce1c9f44d9ba87e968b2ea85cf",
    "order_count": 1,
    "time": "2020-07-12T06:23:39.981Z",
    "type": "selectCodeCell"
   },
   {
    "time": "2020-07-12T06:31:01.504Z",
    "type": "kernelReady"
   }
  ],
  "kernelspec": {
   "display_name": "Python 3",
   "language": "python",
   "name": "python3"
  },
  "language_info": {
   "codemirror_mode": {
    "name": "ipython",
    "version": 3
   },
   "file_extension": ".py",
   "mimetype": "text/x-python",
   "name": "python",
   "nbconvert_exporter": "python",
   "pygments_lexer": "ipython3",
   "version": "3.7.7"
  }
 },
 "nbformat": 4,
 "nbformat_minor": 4
}
