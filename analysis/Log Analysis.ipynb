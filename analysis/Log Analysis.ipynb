{
 "cells": [
  {
   "cell_type": "code",
   "execution_count": 1,
   "metadata": {},
   "outputs": [],
   "source": [
    "import json"
   ]
  },
  {
   "cell_type": "code",
   "execution_count": 2,
   "metadata": {},
   "outputs": [],
   "source": [
    "nb = json.load(open(\"CarsDemo.ipynb\"))"
   ]
  },
  {
   "cell_type": "code",
   "execution_count": 3,
   "metadata": {},
   "outputs": [],
   "source": [
    "log = nb[\"metadata\"][\"history\"]"
   ]
  },
  {
   "cell_type": "markdown",
   "metadata": {},
   "source": [
    "#### Merge editCodeCell, executeCodeCell and completeCodeCell into one based on id with 2 additional computed interval"
   ]
  },
  {
   "cell_type": "markdown",
   "metadata": {},
   "source": [
    "```\n",
    "queryFormulationTime = T(editCodeCell) - T(executeCodeCell)\n",
    "codeExecutionTime = T(completeCodeCell) - T(executeCodeCell)\n",
    "```"
   ]
  },
  {
   "cell_type": "code",
   "execution_count": 4,
   "metadata": {},
   "outputs": [],
   "source": [
    "import pandas as pd"
   ]
  },
  {
   "cell_type": "code",
   "execution_count": 5,
   "metadata": {},
   "outputs": [],
   "source": [
    "df = pd.DataFrame(log)"
   ]
  },
  {
   "cell_type": "code",
   "execution_count": 6,
   "metadata": {},
   "outputs": [],
   "source": [
    "df[\"time\"] = pd.to_datetime(df[\"time\"])"
   ]
  },
  {
   "cell_type": "code",
   "execution_count": 18,
   "metadata": {},
   "outputs": [
    {
     "name": "stderr",
     "output_type": "stream",
     "text": [
      "/Users/dorislee/.virtualenvs/lux/lib/python3.7/site-packages/pandas/core/indexing.py:845: SettingWithCopyWarning: \n",
      "A value is trying to be set on a copy of a slice from a DataFrame.\n",
      "Try using .loc[row_indexer,col_indexer] = value instead\n",
      "\n",
      "See the caveats in the documentation: https://pandas.pydata.org/pandas-docs/stable/user_guide/indexing.html#returning-a-view-versus-a-copy\n",
      "  self.obj[key] = _infer_fill_value(value)\n",
      "/Users/dorislee/.virtualenvs/lux/lib/python3.7/site-packages/pandas/core/indexing.py:966: SettingWithCopyWarning: \n",
      "A value is trying to be set on a copy of a slice from a DataFrame.\n",
      "Try using .loc[row_indexer,col_indexer] = value instead\n",
      "\n",
      "See the caveats in the documentation: https://pandas.pydata.org/pandas-docs/stable/user_guide/indexing.html#returning-a-view-versus-a-copy\n",
      "  self.obj[item] = s\n"
     ]
    }
   ],
   "source": [
    "subset1 = df[(df[\"type\"]==\"editCodeCell\")|(df[\"type\"]==\"executeCodeCell\")]\n",
    "subset1.loc[:,\"queryFormulationTime\"] = subset1.groupby(\"id\")[\"time\"].diff()"
   ]
  },
  {
   "cell_type": "code",
   "execution_count": 19,
   "metadata": {},
   "outputs": [],
   "source": [
    "subset2 = df[(df[\"type\"]==\"executeCodeCell\")|(df[\"type\"]==\"completeCodeCell\")]\n",
    "subset2.loc[:,\"codeExecutionTime\"] = subset2.groupby(\"id\")[\"time\"].diff()"
   ]
  },
  {
   "cell_type": "code",
   "execution_count": 20,
   "metadata": {},
   "outputs": [],
   "source": [
    "codeCellsubset=pd.concat([subset1,subset2])"
   ]
  },
  {
   "cell_type": "code",
   "execution_count": 22,
   "metadata": {},
   "outputs": [],
   "source": [
    "#cellEvents is a dataframe with edit/complete/execute Code Cell all merged as one event, with computed queryFormulationTime and codeExecutionTime\n",
    "cellEvents = codeCellsubset.groupby('id').last()"
   ]
  },
  {
   "cell_type": "code",
   "execution_count": 23,
   "metadata": {},
   "outputs": [
    {
     "data": {
      "text/html": [
       "<div>\n",
       "<style scoped>\n",
       "    .dataframe tbody tr th:only-of-type {\n",
       "        vertical-align: middle;\n",
       "    }\n",
       "\n",
       "    .dataframe tbody tr th {\n",
       "        vertical-align: top;\n",
       "    }\n",
       "\n",
       "    .dataframe thead th {\n",
       "        text-align: right;\n",
       "    }\n",
       "</style>\n",
       "<table border=\"1\" class=\"dataframe\">\n",
       "  <thead>\n",
       "    <tr style=\"text-align: right;\">\n",
       "      <th></th>\n",
       "      <th>time</th>\n",
       "      <th>type</th>\n",
       "      <th>code</th>\n",
       "      <th>order_count</th>\n",
       "      <th>isPrintLuxWidget</th>\n",
       "      <th>isPrintPandas</th>\n",
       "      <th>param</th>\n",
       "      <th>queryFormulationTime</th>\n",
       "      <th>codeExecutionTime</th>\n",
       "    </tr>\n",
       "    <tr>\n",
       "      <th>id</th>\n",
       "      <th></th>\n",
       "      <th></th>\n",
       "      <th></th>\n",
       "      <th></th>\n",
       "      <th></th>\n",
       "      <th></th>\n",
       "      <th></th>\n",
       "      <th></th>\n",
       "      <th></th>\n",
       "    </tr>\n",
       "  </thead>\n",
       "  <tbody>\n",
       "    <tr>\n",
       "      <th>0e53789cddfe4253944eea169b4fd35f</th>\n",
       "      <td>2020-07-11 02:32:28.327000+00:00</td>\n",
       "      <td>completeCodeCell</td>\n",
       "      <td>cd ..</td>\n",
       "      <td>0.0</td>\n",
       "      <td>False</td>\n",
       "      <td>False</td>\n",
       "      <td>NaN</td>\n",
       "      <td>00:00:02.369000</td>\n",
       "      <td>00:00:00.043000</td>\n",
       "    </tr>\n",
       "    <tr>\n",
       "      <th>4c62c0b9b47f48848e34117cddafc926</th>\n",
       "      <td>2020-07-11 02:32:29.358000+00:00</td>\n",
       "      <td>completeCodeCell</td>\n",
       "      <td>import pandas as pd\\nimport lux</td>\n",
       "      <td>1.0</td>\n",
       "      <td>False</td>\n",
       "      <td>False</td>\n",
       "      <td>NaN</td>\n",
       "      <td>NaT</td>\n",
       "      <td>00:00:00.319000</td>\n",
       "    </tr>\n",
       "    <tr>\n",
       "      <th>56fce9d8233f4580889e8b0e20132265</th>\n",
       "      <td>2020-07-11 02:32:32.132000+00:00</td>\n",
       "      <td>completeCodeCell</td>\n",
       "      <td>df</td>\n",
       "      <td>4.0</td>\n",
       "      <td>False</td>\n",
       "      <td>True</td>\n",
       "      <td>NaN</td>\n",
       "      <td>NaT</td>\n",
       "      <td>00:00:00.723000</td>\n",
       "    </tr>\n",
       "    <tr>\n",
       "      <th>8186a34508064c25875a673dcd27f0b7</th>\n",
       "      <td>2020-07-11 02:35:05.507000+00:00</td>\n",
       "      <td>completeCodeCell</td>\n",
       "      <td>df.set_context([lux.Spec(attribute = \"Accelera...</td>\n",
       "      <td>6.0</td>\n",
       "      <td>False</td>\n",
       "      <td>True</td>\n",
       "      <td>NaN</td>\n",
       "      <td>00:00:00.633000</td>\n",
       "      <td>00:00:00.760000</td>\n",
       "    </tr>\n",
       "    <tr>\n",
       "      <th>91ab12f4d7df4b388655f3429eea43c3</th>\n",
       "      <td>2020-07-11 02:34:39.528000+00:00</td>\n",
       "      <td>completeCodeCell</td>\n",
       "      <td>df.set_context([lux.Spec(attribute = \"Horsepow...</td>\n",
       "      <td>6.0</td>\n",
       "      <td>False</td>\n",
       "      <td>True</td>\n",
       "      <td>NaN</td>\n",
       "      <td>00:00:01.081000</td>\n",
       "      <td>00:00:00.155000</td>\n",
       "    </tr>\n",
       "    <tr>\n",
       "      <th>a54a08d85678406a8c764d72d93dd899</th>\n",
       "      <td>2020-07-11 02:39:06.107000+00:00</td>\n",
       "      <td>completeCodeCell</td>\n",
       "      <td>df.get_exported()</td>\n",
       "      <td>10.0</td>\n",
       "      <td>False</td>\n",
       "      <td>False</td>\n",
       "      <td>NaN</td>\n",
       "      <td>00:00:06.945000</td>\n",
       "      <td>00:00:00.059000</td>\n",
       "    </tr>\n",
       "    <tr>\n",
       "      <th>acc83ab6bce14919b42d706fc6d8f319</th>\n",
       "      <td>2020-07-11 02:36:06.831000+00:00</td>\n",
       "      <td>completeCodeCell</td>\n",
       "      <td>df.set_context([lux.Spec(attribute = \"Origin\")...</td>\n",
       "      <td>9.0</td>\n",
       "      <td>False</td>\n",
       "      <td>True</td>\n",
       "      <td>NaN</td>\n",
       "      <td>00:01:38.227000</td>\n",
       "      <td>00:00:01.203000</td>\n",
       "    </tr>\n",
       "    <tr>\n",
       "      <th>e4b04d984d09409f8ab84e146a85a223</th>\n",
       "      <td>2020-07-11 02:32:30.292000+00:00</td>\n",
       "      <td>completeCodeCell</td>\n",
       "      <td>df = pd.read_csv(\"lux/data/car.csv\")\\n# df.set...</td>\n",
       "      <td>3.0</td>\n",
       "      <td>False</td>\n",
       "      <td>True</td>\n",
       "      <td>NaN</td>\n",
       "      <td>NaT</td>\n",
       "      <td>00:00:00.050000</td>\n",
       "    </tr>\n",
       "  </tbody>\n",
       "</table>\n",
       "</div>"
      ],
      "text/plain": [
       "                                                             time  \\\n",
       "id                                                                  \n",
       "0e53789cddfe4253944eea169b4fd35f 2020-07-11 02:32:28.327000+00:00   \n",
       "4c62c0b9b47f48848e34117cddafc926 2020-07-11 02:32:29.358000+00:00   \n",
       "56fce9d8233f4580889e8b0e20132265 2020-07-11 02:32:32.132000+00:00   \n",
       "8186a34508064c25875a673dcd27f0b7 2020-07-11 02:35:05.507000+00:00   \n",
       "91ab12f4d7df4b388655f3429eea43c3 2020-07-11 02:34:39.528000+00:00   \n",
       "a54a08d85678406a8c764d72d93dd899 2020-07-11 02:39:06.107000+00:00   \n",
       "acc83ab6bce14919b42d706fc6d8f319 2020-07-11 02:36:06.831000+00:00   \n",
       "e4b04d984d09409f8ab84e146a85a223 2020-07-11 02:32:30.292000+00:00   \n",
       "\n",
       "                                              type  \\\n",
       "id                                                   \n",
       "0e53789cddfe4253944eea169b4fd35f  completeCodeCell   \n",
       "4c62c0b9b47f48848e34117cddafc926  completeCodeCell   \n",
       "56fce9d8233f4580889e8b0e20132265  completeCodeCell   \n",
       "8186a34508064c25875a673dcd27f0b7  completeCodeCell   \n",
       "91ab12f4d7df4b388655f3429eea43c3  completeCodeCell   \n",
       "a54a08d85678406a8c764d72d93dd899  completeCodeCell   \n",
       "acc83ab6bce14919b42d706fc6d8f319  completeCodeCell   \n",
       "e4b04d984d09409f8ab84e146a85a223  completeCodeCell   \n",
       "\n",
       "                                                                               code  \\\n",
       "id                                                                                    \n",
       "0e53789cddfe4253944eea169b4fd35f                                              cd ..   \n",
       "4c62c0b9b47f48848e34117cddafc926                    import pandas as pd\\nimport lux   \n",
       "56fce9d8233f4580889e8b0e20132265                                                 df   \n",
       "8186a34508064c25875a673dcd27f0b7  df.set_context([lux.Spec(attribute = \"Accelera...   \n",
       "91ab12f4d7df4b388655f3429eea43c3  df.set_context([lux.Spec(attribute = \"Horsepow...   \n",
       "a54a08d85678406a8c764d72d93dd899                                  df.get_exported()   \n",
       "acc83ab6bce14919b42d706fc6d8f319  df.set_context([lux.Spec(attribute = \"Origin\")...   \n",
       "e4b04d984d09409f8ab84e146a85a223  df = pd.read_csv(\"lux/data/car.csv\")\\n# df.set...   \n",
       "\n",
       "                                  order_count  isPrintLuxWidget  \\\n",
       "id                                                                \n",
       "0e53789cddfe4253944eea169b4fd35f          0.0             False   \n",
       "4c62c0b9b47f48848e34117cddafc926          1.0             False   \n",
       "56fce9d8233f4580889e8b0e20132265          4.0             False   \n",
       "8186a34508064c25875a673dcd27f0b7          6.0             False   \n",
       "91ab12f4d7df4b388655f3429eea43c3          6.0             False   \n",
       "a54a08d85678406a8c764d72d93dd899         10.0             False   \n",
       "acc83ab6bce14919b42d706fc6d8f319          9.0             False   \n",
       "e4b04d984d09409f8ab84e146a85a223          3.0             False   \n",
       "\n",
       "                                  isPrintPandas  param queryFormulationTime  \\\n",
       "id                                                                            \n",
       "0e53789cddfe4253944eea169b4fd35f          False    NaN      00:00:02.369000   \n",
       "4c62c0b9b47f48848e34117cddafc926          False    NaN                  NaT   \n",
       "56fce9d8233f4580889e8b0e20132265           True    NaN                  NaT   \n",
       "8186a34508064c25875a673dcd27f0b7           True    NaN      00:00:00.633000   \n",
       "91ab12f4d7df4b388655f3429eea43c3           True    NaN      00:00:01.081000   \n",
       "a54a08d85678406a8c764d72d93dd899          False    NaN      00:00:06.945000   \n",
       "acc83ab6bce14919b42d706fc6d8f319           True    NaN      00:01:38.227000   \n",
       "e4b04d984d09409f8ab84e146a85a223           True    NaN                  NaT   \n",
       "\n",
       "                                 codeExecutionTime  \n",
       "id                                                  \n",
       "0e53789cddfe4253944eea169b4fd35f   00:00:00.043000  \n",
       "4c62c0b9b47f48848e34117cddafc926   00:00:00.319000  \n",
       "56fce9d8233f4580889e8b0e20132265   00:00:00.723000  \n",
       "8186a34508064c25875a673dcd27f0b7   00:00:00.760000  \n",
       "91ab12f4d7df4b388655f3429eea43c3   00:00:00.155000  \n",
       "a54a08d85678406a8c764d72d93dd899   00:00:00.059000  \n",
       "acc83ab6bce14919b42d706fc6d8f319   00:00:01.203000  \n",
       "e4b04d984d09409f8ab84e146a85a223   00:00:00.050000  "
      ]
     },
     "execution_count": 23,
     "metadata": {},
     "output_type": "execute_result"
    }
   ],
   "source": [
    "cellEvents"
   ]
  },
  {
   "cell_type": "code",
   "execution_count": 10,
   "metadata": {},
   "outputs": [
    {
     "data": {
      "text/plain": [
       "<pandas.core.groupby.generic.DataFrameGroupBy object at 0x11db2e950>"
      ]
     },
     "execution_count": 10,
     "metadata": {},
     "output_type": "execute_result"
    }
   ],
   "source": [
    "df.groupby(\"id\")"
   ]
  },
  {
   "cell_type": "code",
   "execution_count": 11,
   "metadata": {},
   "outputs": [
    {
     "data": {
      "text/html": [
       "<div>\n",
       "<style scoped>\n",
       "    .dataframe tbody tr th:only-of-type {\n",
       "        vertical-align: middle;\n",
       "    }\n",
       "\n",
       "    .dataframe tbody tr th {\n",
       "        vertical-align: top;\n",
       "    }\n",
       "\n",
       "    .dataframe thead th {\n",
       "        text-align: right;\n",
       "    }\n",
       "</style>\n",
       "<table border=\"1\" class=\"dataframe\">\n",
       "  <thead>\n",
       "    <tr style=\"text-align: right;\">\n",
       "      <th></th>\n",
       "      <th>time</th>\n",
       "      <th>type</th>\n",
       "      <th>code</th>\n",
       "      <th>id</th>\n",
       "      <th>order_count</th>\n",
       "      <th>isPrintDataFrame</th>\n",
       "      <th>execution_count</th>\n",
       "      <th>param</th>\n",
       "      <th>isPrintLuxWidget</th>\n",
       "      <th>isPrintPandas</th>\n",
       "    </tr>\n",
       "  </thead>\n",
       "  <tbody>\n",
       "    <tr>\n",
       "      <th>0</th>\n",
       "      <td>2020-07-06 03:07:45.398000+00:00</td>\n",
       "      <td>kernelReady</td>\n",
       "      <td>NaN</td>\n",
       "      <td>NaN</td>\n",
       "      <td>NaN</td>\n",
       "      <td>NaN</td>\n",
       "      <td>NaN</td>\n",
       "      <td>NaN</td>\n",
       "      <td>NaN</td>\n",
       "      <td>NaN</td>\n",
       "    </tr>\n",
       "    <tr>\n",
       "      <th>1</th>\n",
       "      <td>2020-07-06 03:07:55.244000+00:00</td>\n",
       "      <td>editCodeCell</td>\n",
       "      <td>cd ..</td>\n",
       "      <td>28f08163ce8747c8a980eaa97c3c5bdc</td>\n",
       "      <td>0.0</td>\n",
       "      <td>NaN</td>\n",
       "      <td>NaN</td>\n",
       "      <td>NaN</td>\n",
       "      <td>NaN</td>\n",
       "      <td>NaN</td>\n",
       "    </tr>\n",
       "    <tr>\n",
       "      <th>2</th>\n",
       "      <td>2020-07-06 03:07:56.769000+00:00</td>\n",
       "      <td>executeCodeCell</td>\n",
       "      <td>cd ..</td>\n",
       "      <td>28f08163ce8747c8a980eaa97c3c5bdc</td>\n",
       "      <td>0.0</td>\n",
       "      <td>NaN</td>\n",
       "      <td>NaN</td>\n",
       "      <td>NaN</td>\n",
       "      <td>NaN</td>\n",
       "      <td>NaN</td>\n",
       "    </tr>\n",
       "    <tr>\n",
       "      <th>3</th>\n",
       "      <td>2020-07-06 03:07:56.814000+00:00</td>\n",
       "      <td>completeCodeCell</td>\n",
       "      <td>NaN</td>\n",
       "      <td>28f08163ce8747c8a980eaa97c3c5bdc</td>\n",
       "      <td>NaN</td>\n",
       "      <td>False</td>\n",
       "      <td>NaN</td>\n",
       "      <td>NaN</td>\n",
       "      <td>NaN</td>\n",
       "      <td>NaN</td>\n",
       "    </tr>\n",
       "    <tr>\n",
       "      <th>4</th>\n",
       "      <td>2020-07-06 03:07:57.414000+00:00</td>\n",
       "      <td>executeCodeCell</td>\n",
       "      <td>import pandas as pd\\nimport lux</td>\n",
       "      <td>8ead750fb2a04eb88b5e490c5912397f</td>\n",
       "      <td>1.0</td>\n",
       "      <td>NaN</td>\n",
       "      <td>NaN</td>\n",
       "      <td>NaN</td>\n",
       "      <td>NaN</td>\n",
       "      <td>NaN</td>\n",
       "    </tr>\n",
       "    <tr>\n",
       "      <th>...</th>\n",
       "      <td>...</td>\n",
       "      <td>...</td>\n",
       "      <td>...</td>\n",
       "      <td>...</td>\n",
       "      <td>...</td>\n",
       "      <td>...</td>\n",
       "      <td>...</td>\n",
       "      <td>...</td>\n",
       "      <td>...</td>\n",
       "      <td>...</td>\n",
       "    </tr>\n",
       "    <tr>\n",
       "      <th>1077</th>\n",
       "      <td>2020-07-09 09:15:00.685000+00:00</td>\n",
       "      <td>completeCodeCell</td>\n",
       "      <td>NaN</td>\n",
       "      <td>6d52092efe4f49b08fd86ac9dfdec02f</td>\n",
       "      <td>NaN</td>\n",
       "      <td>NaN</td>\n",
       "      <td>NaN</td>\n",
       "      <td>NaN</td>\n",
       "      <td>False</td>\n",
       "      <td>True</td>\n",
       "    </tr>\n",
       "    <tr>\n",
       "      <th>1078</th>\n",
       "      <td>2020-07-09 09:15:01.277000+00:00</td>\n",
       "      <td>executeCodeCell</td>\n",
       "      <td>df[df[\"Cylinders\"]==5].toPandas()\\n</td>\n",
       "      <td>d7c8a25eb51e48188adebdfa3da4e4cd</td>\n",
       "      <td>14.0</td>\n",
       "      <td>NaN</td>\n",
       "      <td>NaN</td>\n",
       "      <td>NaN</td>\n",
       "      <td>NaN</td>\n",
       "      <td>NaN</td>\n",
       "    </tr>\n",
       "    <tr>\n",
       "      <th>1079</th>\n",
       "      <td>2020-07-09 09:15:01.309000+00:00</td>\n",
       "      <td>completeCodeCell</td>\n",
       "      <td>NaN</td>\n",
       "      <td>d7c8a25eb51e48188adebdfa3da4e4cd</td>\n",
       "      <td>NaN</td>\n",
       "      <td>NaN</td>\n",
       "      <td>NaN</td>\n",
       "      <td>NaN</td>\n",
       "      <td>False</td>\n",
       "      <td>True</td>\n",
       "    </tr>\n",
       "    <tr>\n",
       "      <th>1080</th>\n",
       "      <td>2020-07-09 09:15:02.222000+00:00</td>\n",
       "      <td>executeCodeCell</td>\n",
       "      <td>newdf = df[(df[\"Cylinders\"]!=3) &amp; (df[\"Cylinde...</td>\n",
       "      <td>c2aa3ec31cc0463681278be7bc9d9ff5</td>\n",
       "      <td>15.0</td>\n",
       "      <td>NaN</td>\n",
       "      <td>NaN</td>\n",
       "      <td>NaN</td>\n",
       "      <td>NaN</td>\n",
       "      <td>NaN</td>\n",
       "    </tr>\n",
       "    <tr>\n",
       "      <th>1081</th>\n",
       "      <td>2020-07-09 09:15:03.396000+00:00</td>\n",
       "      <td>completeCodeCell</td>\n",
       "      <td>NaN</td>\n",
       "      <td>c2aa3ec31cc0463681278be7bc9d9ff5</td>\n",
       "      <td>NaN</td>\n",
       "      <td>NaN</td>\n",
       "      <td>NaN</td>\n",
       "      <td>NaN</td>\n",
       "      <td>False</td>\n",
       "      <td>True</td>\n",
       "    </tr>\n",
       "  </tbody>\n",
       "</table>\n",
       "<p>1082 rows × 10 columns</p>\n",
       "</div>"
      ],
      "text/plain": [
       "                                 time              type  \\\n",
       "0    2020-07-06 03:07:45.398000+00:00       kernelReady   \n",
       "1    2020-07-06 03:07:55.244000+00:00      editCodeCell   \n",
       "2    2020-07-06 03:07:56.769000+00:00   executeCodeCell   \n",
       "3    2020-07-06 03:07:56.814000+00:00  completeCodeCell   \n",
       "4    2020-07-06 03:07:57.414000+00:00   executeCodeCell   \n",
       "...                               ...               ...   \n",
       "1077 2020-07-09 09:15:00.685000+00:00  completeCodeCell   \n",
       "1078 2020-07-09 09:15:01.277000+00:00   executeCodeCell   \n",
       "1079 2020-07-09 09:15:01.309000+00:00  completeCodeCell   \n",
       "1080 2020-07-09 09:15:02.222000+00:00   executeCodeCell   \n",
       "1081 2020-07-09 09:15:03.396000+00:00  completeCodeCell   \n",
       "\n",
       "                                                   code  \\\n",
       "0                                                   NaN   \n",
       "1                                                 cd ..   \n",
       "2                                                 cd ..   \n",
       "3                                                   NaN   \n",
       "4                       import pandas as pd\\nimport lux   \n",
       "...                                                 ...   \n",
       "1077                                                NaN   \n",
       "1078                df[df[\"Cylinders\"]==5].toPandas()\\n   \n",
       "1079                                                NaN   \n",
       "1080  newdf = df[(df[\"Cylinders\"]!=3) & (df[\"Cylinde...   \n",
       "1081                                                NaN   \n",
       "\n",
       "                                    id  order_count isPrintDataFrame  \\\n",
       "0                                  NaN          NaN              NaN   \n",
       "1     28f08163ce8747c8a980eaa97c3c5bdc          0.0              NaN   \n",
       "2     28f08163ce8747c8a980eaa97c3c5bdc          0.0              NaN   \n",
       "3     28f08163ce8747c8a980eaa97c3c5bdc          NaN            False   \n",
       "4     8ead750fb2a04eb88b5e490c5912397f          1.0              NaN   \n",
       "...                                ...          ...              ...   \n",
       "1077  6d52092efe4f49b08fd86ac9dfdec02f          NaN              NaN   \n",
       "1078  d7c8a25eb51e48188adebdfa3da4e4cd         14.0              NaN   \n",
       "1079  d7c8a25eb51e48188adebdfa3da4e4cd          NaN              NaN   \n",
       "1080  c2aa3ec31cc0463681278be7bc9d9ff5         15.0              NaN   \n",
       "1081  c2aa3ec31cc0463681278be7bc9d9ff5          NaN              NaN   \n",
       "\n",
       "     execution_count param isPrintLuxWidget isPrintPandas  \n",
       "0                NaN   NaN              NaN           NaN  \n",
       "1                NaN   NaN              NaN           NaN  \n",
       "2                NaN   NaN              NaN           NaN  \n",
       "3                NaN   NaN              NaN           NaN  \n",
       "4                NaN   NaN              NaN           NaN  \n",
       "...              ...   ...              ...           ...  \n",
       "1077             NaN   NaN            False          True  \n",
       "1078             NaN   NaN              NaN           NaN  \n",
       "1079             NaN   NaN            False          True  \n",
       "1080             NaN   NaN              NaN           NaN  \n",
       "1081             NaN   NaN            False          True  \n",
       "\n",
       "[1082 rows x 10 columns]"
      ]
     },
     "execution_count": 11,
     "metadata": {},
     "output_type": "execute_result"
    }
   ],
   "source": [
    "df"
   ]
  },
  {
   "cell_type": "code",
   "execution_count": null,
   "metadata": {},
   "outputs": [],
   "source": []
  }
 ],
 "metadata": {
  "history": [
   {
    "time": "2020-07-09T09:37:25.304Z",
    "type": "kernelReady"
   },
   {
    "code": "",
    "id": "2ac7fab7b4c448f394c0340ec93cc053",
    "order_count": 0,
    "time": "2020-07-09T09:37:26.567Z",
    "type": "selectCodeCell"
   },
   {
    "code": "",
    "id": "2ac7fab7b4c448f394c0340ec93cc053",
    "order_count": 0,
    "time": "2020-07-09T09:37:34.271Z",
    "type": "editCodeCell"
   },
   {
    "code": "ls",
    "id": "2ac7fab7b4c448f394c0340ec93cc053",
    "order_count": 0,
    "time": "2020-07-09T09:37:36.639Z",
    "type": "executeCodeCell"
   },
   {
    "code": "ls",
    "id": "2ac7fab7b4c448f394c0340ec93cc053",
    "order_count": 0,
    "time": "2020-07-09T09:37:36.640Z",
    "type": "selectCodeCell"
   },
   {
    "code": "",
    "id": "3e7404c3c5db42c69463be17b1dcca59",
    "order_count": 1,
    "time": "2020-07-09T09:37:36.664Z",
    "type": "editCodeCell"
   },
   {
    "id": "2ac7fab7b4c448f394c0340ec93cc053",
    "isPrintLuxWidget": false,
    "isPrintPandas": false,
    "time": "2020-07-09T09:37:36.768Z",
    "type": "completeCodeCell"
   },
   {
    "code": "",
    "id": "3e7404c3c5db42c69463be17b1dcca59",
    "order_count": 1,
    "time": "2020-07-09T09:37:39.198Z",
    "type": "selectCodeCell"
   },
   {
    "code": "",
    "id": "3e7404c3c5db42c69463be17b1dcca59",
    "order_count": 1,
    "time": "2020-07-09T09:37:40.465Z",
    "type": "editCodeCell"
   },
   {
    "code": "import json",
    "id": "3e7404c3c5db42c69463be17b1dcca59",
    "order_count": 1,
    "time": "2020-07-09T09:37:44.353Z",
    "type": "executeCodeCell"
   },
   {
    "code": "import json",
    "id": "3e7404c3c5db42c69463be17b1dcca59",
    "order_count": 1,
    "time": "2020-07-09T09:37:44.354Z",
    "type": "selectCodeCell"
   },
   {
    "code": "",
    "id": "b93ae691024e47b48a90e4d5815a61ca",
    "order_count": 2,
    "time": "2020-07-09T09:37:44.379Z",
    "type": "editCodeCell"
   },
   {
    "id": "3e7404c3c5db42c69463be17b1dcca59",
    "isPrintLuxWidget": false,
    "isPrintPandas": false,
    "time": "2020-07-09T09:37:44.385Z",
    "type": "completeCodeCell"
   },
   {
    "code": "nb = json.load(read(\"CarsDemo.ipynb\"))",
    "id": "b93ae691024e47b48a90e4d5815a61ca",
    "order_count": 2,
    "time": "2020-07-09T09:38:02.010Z",
    "type": "executeCodeCell"
   },
   {
    "code": "nb = json.load(read(\"CarsDemo.ipynb\"))",
    "id": "b93ae691024e47b48a90e4d5815a61ca",
    "order_count": 2,
    "time": "2020-07-09T09:38:02.011Z",
    "type": "selectCodeCell"
   },
   {
    "code": "",
    "id": "c7d27a1082de475aacee3a8a5793264c",
    "order_count": 3,
    "time": "2020-07-09T09:38:02.036Z",
    "type": "editCodeCell"
   },
   {
    "id": "b93ae691024e47b48a90e4d5815a61ca",
    "isPrintLuxWidget": false,
    "isPrintPandas": false,
    "time": "2020-07-09T09:38:02.100Z",
    "type": "completeCodeCell"
   },
   {
    "code": "",
    "id": "c7d27a1082de475aacee3a8a5793264c",
    "order_count": 3,
    "time": "2020-07-09T09:38:03.283Z",
    "type": "selectCodeCell"
   },
   {
    "code": "nb = json.load(read(\"CarsDemo.ipynb\"))",
    "id": "b93ae691024e47b48a90e4d5815a61ca",
    "order_count": 2,
    "time": "2020-07-09T09:38:03.303Z",
    "type": "editCodeCell"
   },
   {
    "code": "nb = json.load(file.read(\"CarsDemo.ipynb\"))",
    "id": "b93ae691024e47b48a90e4d5815a61ca",
    "order_count": 2,
    "time": "2020-07-09T09:38:07.112Z",
    "type": "executeCodeCell"
   },
   {
    "code": "nb = json.load(file.read(\"CarsDemo.ipynb\"))",
    "id": "b93ae691024e47b48a90e4d5815a61ca",
    "order_count": 2,
    "time": "2020-07-09T09:38:07.113Z",
    "type": "selectCodeCell"
   },
   {
    "id": "b93ae691024e47b48a90e4d5815a61ca",
    "isPrintLuxWidget": false,
    "isPrintPandas": false,
    "time": "2020-07-09T09:38:07.141Z",
    "type": "completeCodeCell"
   },
   {
    "code": "nb = json.load(file.read(\"CarsDemo.ipynb\"))",
    "id": "b93ae691024e47b48a90e4d5815a61ca",
    "order_count": 2,
    "time": "2020-07-09T09:38:08.035Z",
    "type": "editCodeCell"
   },
   {
    "code": "nb = json.load(open(\"CarsDemo.ipynb\"))",
    "id": "b93ae691024e47b48a90e4d5815a61ca",
    "order_count": 2,
    "time": "2020-07-09T09:38:13.542Z",
    "type": "executeCodeCell"
   },
   {
    "code": "nb = json.load(open(\"CarsDemo.ipynb\"))",
    "id": "b93ae691024e47b48a90e4d5815a61ca",
    "order_count": 2,
    "time": "2020-07-09T09:38:13.543Z",
    "type": "selectCodeCell"
   },
   {
    "id": "b93ae691024e47b48a90e4d5815a61ca",
    "isPrintLuxWidget": false,
    "isPrintPandas": false,
    "time": "2020-07-09T09:38:13.561Z",
    "type": "completeCodeCell"
   },
   {
    "code": "",
    "id": "c7d27a1082de475aacee3a8a5793264c",
    "order_count": 3,
    "time": "2020-07-09T09:38:14.301Z",
    "type": "editCodeCell"
   },
   {
    "code": "nb",
    "id": "c7d27a1082de475aacee3a8a5793264c",
    "order_count": 3,
    "time": "2020-07-09T09:38:15.581Z",
    "type": "executeCodeCell"
   },
   {
    "code": "nb",
    "id": "c7d27a1082de475aacee3a8a5793264c",
    "order_count": 3,
    "time": "2020-07-09T09:38:15.582Z",
    "type": "selectCodeCell"
   },
   {
    "code": "",
    "id": "26d60088c09d4110944c05a07114c869",
    "order_count": 4,
    "time": "2020-07-09T09:38:15.607Z",
    "type": "editCodeCell"
   },
   {
    "id": "c7d27a1082de475aacee3a8a5793264c",
    "isPrintLuxWidget": false,
    "isPrintPandas": false,
    "time": "2020-07-09T09:38:15.948Z",
    "type": "completeCodeCell"
   },
   {
    "code": "",
    "id": "26d60088c09d4110944c05a07114c869",
    "order_count": 4,
    "time": "2020-07-09T09:38:17.845Z",
    "type": "selectCodeCell"
   },
   {
    "code": "nb",
    "id": "c7d27a1082de475aacee3a8a5793264c",
    "order_count": 3,
    "time": "2020-07-09T09:38:17.860Z",
    "type": "editCodeCell"
   },
   {
    "code": "nb",
    "id": "c7d27a1082de475aacee3a8a5793264c",
    "order_count": 3,
    "time": "2020-07-09T09:38:19.777Z",
    "type": "selectCodeCell"
   },
   {
    "code": "nb",
    "id": "c7d27a1082de475aacee3a8a5793264c",
    "order_count": 3,
    "time": "2020-07-09T09:38:28.657Z",
    "type": "editCodeCell"
   },
   {
    "code": "log = nb[\"metadata\"][\"history\"]",
    "id": "c7d27a1082de475aacee3a8a5793264c",
    "order_count": 3,
    "time": "2020-07-09T09:38:36.643Z",
    "type": "executeCodeCell"
   },
   {
    "code": "log = nb[\"metadata\"][\"history\"]",
    "id": "c7d27a1082de475aacee3a8a5793264c",
    "order_count": 3,
    "time": "2020-07-09T09:38:36.644Z",
    "type": "selectCodeCell"
   },
   {
    "id": "c7d27a1082de475aacee3a8a5793264c",
    "isPrintLuxWidget": false,
    "isPrintPandas": false,
    "time": "2020-07-09T09:38:36.666Z",
    "type": "completeCodeCell"
   },
   {
    "code": "",
    "id": "26d60088c09d4110944c05a07114c869",
    "order_count": 4,
    "time": "2020-07-09T09:38:37.319Z",
    "type": "editCodeCell"
   },
   {
    "code": "log",
    "id": "26d60088c09d4110944c05a07114c869",
    "order_count": 4,
    "time": "2020-07-09T09:38:38.358Z",
    "type": "executeCodeCell"
   },
   {
    "code": "log",
    "id": "26d60088c09d4110944c05a07114c869",
    "order_count": 4,
    "time": "2020-07-09T09:38:38.359Z",
    "type": "selectCodeCell"
   },
   {
    "code": "",
    "id": "5a39ed3a5181470b8c00818c8833e1da",
    "order_count": 5,
    "time": "2020-07-09T09:38:38.394Z",
    "type": "editCodeCell"
   },
   {
    "id": "26d60088c09d4110944c05a07114c869",
    "isPrintLuxWidget": false,
    "isPrintPandas": false,
    "time": "2020-07-09T09:38:38.671Z",
    "type": "completeCodeCell"
   },
   {
    "code": "",
    "id": "5a39ed3a5181470b8c00818c8833e1da",
    "order_count": 5,
    "time": "2020-07-09T09:38:41.136Z",
    "type": "selectCodeCell"
   },
   {
    "code": "ls",
    "id": "2ac7fab7b4c448f394c0340ec93cc053",
    "order_count": null,
    "time": "2020-07-09T09:38:58.888Z",
    "type": "deleteCodeCell"
   },
   {
    "code": "log",
    "id": "26d60088c09d4110944c05a07114c869",
    "order_count": 3,
    "time": "2020-07-09T09:40:22.072Z",
    "type": "editCodeCell"
   },
   {
    "code": "log",
    "id": "26d60088c09d4110944c05a07114c869",
    "order_count": 3,
    "time": "2020-07-09T09:40:34.484Z",
    "type": "selectCodeCell"
   },
   {
    "code": "log",
    "id": "26d60088c09d4110944c05a07114c869",
    "order_count": 3,
    "time": "2020-07-09T09:40:55.701Z",
    "type": "editCodeCell"
   },
   {
    "code": "log",
    "id": "26d60088c09d4110944c05a07114c869",
    "order_count": 3,
    "time": "2020-07-09T09:40:58.196Z",
    "type": "selectCodeCell"
   },
   {
    "code": "log",
    "id": "26d60088c09d4110944c05a07114c869",
    "order_count": 3,
    "time": "2020-07-09T09:40:58.684Z",
    "type": "editCodeCell"
   },
   {
    "code": "log",
    "id": "26d60088c09d4110944c05a07114c869",
    "order_count": 3,
    "time": "2020-07-09T09:41:14.959Z",
    "type": "selectCodeCell"
   },
   {
    "code": "",
    "id": "874be6a9ee7342039aec1d0bb17c4869",
    "order_count": 3,
    "time": "2020-07-09T09:42:23.161Z",
    "type": "editCodeCell"
   },
   {
    "code": "Merge editCodeCell, executeCodeCell and completeCodeCell into one based on id",
    "id": "874be6a9ee7342039aec1d0bb17c4869",
    "order_count": 3,
    "time": "2020-07-09T09:43:10.401Z",
    "type": "selectCodeCell"
   },
   {
    "code": "log",
    "id": "26d60088c09d4110944c05a07114c869",
    "order_count": 4,
    "time": "2020-07-09T09:43:23.875Z",
    "type": "editCodeCell"
   },
   {
    "code": "log",
    "id": "26d60088c09d4110944c05a07114c869",
    "order_count": 4,
    "time": "2020-07-09T09:43:29.369Z",
    "type": "selectCodeCell"
   },
   {
    "code": "",
    "id": "5c68492578684fd4828ac1fac693445f",
    "order_count": 4,
    "time": "2020-07-09T09:43:29.843Z",
    "type": "editCodeCell"
   },
   {
    "code": "import pandas as pd",
    "id": "5c68492578684fd4828ac1fac693445f",
    "order_count": 4,
    "time": "2020-07-09T09:43:32.795Z",
    "type": "executeCodeCell"
   },
   {
    "code": "import pandas as pd",
    "id": "5c68492578684fd4828ac1fac693445f",
    "order_count": 4,
    "time": "2020-07-09T09:43:32.796Z",
    "type": "selectCodeCell"
   },
   {
    "code": "log",
    "id": "26d60088c09d4110944c05a07114c869",
    "order_count": 5,
    "time": "2020-07-09T09:43:33.183Z",
    "type": "editCodeCell"
   },
   {
    "id": "5c68492578684fd4828ac1fac693445f",
    "isPrintLuxWidget": false,
    "isPrintPandas": false,
    "time": "2020-07-09T09:43:33.212Z",
    "type": "completeCodeCell"
   },
   {
    "code": "pd.DataFrame(log)",
    "id": "26d60088c09d4110944c05a07114c869",
    "order_count": 5,
    "time": "2020-07-09T09:43:37.352Z",
    "type": "executeCodeCell"
   },
   {
    "code": "pd.DataFrame(log)",
    "id": "26d60088c09d4110944c05a07114c869",
    "order_count": 5,
    "time": "2020-07-09T09:43:37.353Z",
    "type": "selectCodeCell"
   },
   {
    "id": "26d60088c09d4110944c05a07114c869",
    "isPrintLuxWidget": false,
    "isPrintPandas": true,
    "time": "2020-07-09T09:43:37.407Z",
    "type": "completeCodeCell"
   },
   {
    "code": "pd.DataFrame(log)",
    "id": "26d60088c09d4110944c05a07114c869",
    "order_count": 5,
    "time": "2020-07-09T09:43:38.465Z",
    "type": "editCodeCell"
   },
   {
    "code": "df = pd.DataFrame(log)",
    "id": "26d60088c09d4110944c05a07114c869",
    "order_count": 5,
    "time": "2020-07-09T09:43:45.470Z",
    "type": "executeCodeCell"
   },
   {
    "code": "df = pd.DataFrame(log)",
    "id": "26d60088c09d4110944c05a07114c869",
    "order_count": 5,
    "time": "2020-07-09T09:43:45.471Z",
    "type": "selectCodeCell"
   },
   {
    "id": "26d60088c09d4110944c05a07114c869",
    "isPrintLuxWidget": false,
    "isPrintPandas": false,
    "time": "2020-07-09T09:43:45.492Z",
    "type": "completeCodeCell"
   },
   {
    "code": "",
    "id": "5a39ed3a5181470b8c00818c8833e1da",
    "order_count": 6,
    "time": "2020-07-09T09:43:46.742Z",
    "type": "editCodeCell"
   },
   {
    "code": "df",
    "id": "5a39ed3a5181470b8c00818c8833e1da",
    "order_count": 6,
    "time": "2020-07-09T09:43:47.723Z",
    "type": "executeCodeCell"
   },
   {
    "code": "df",
    "id": "5a39ed3a5181470b8c00818c8833e1da",
    "order_count": 6,
    "time": "2020-07-09T09:43:47.723Z",
    "type": "selectCodeCell"
   },
   {
    "code": "",
    "id": "fdeb75bfbc224f848b29df11388a9554",
    "order_count": 7,
    "time": "2020-07-09T09:43:47.751Z",
    "type": "editCodeCell"
   },
   {
    "id": "5a39ed3a5181470b8c00818c8833e1da",
    "isPrintLuxWidget": false,
    "isPrintPandas": true,
    "time": "2020-07-09T09:43:47.764Z",
    "type": "completeCodeCell"
   },
   {
    "code": "",
    "id": "fdeb75bfbc224f848b29df11388a9554",
    "order_count": 7,
    "time": "2020-07-09T09:43:50.024Z",
    "type": "selectCodeCell"
   },
   {
    "code": "df",
    "id": "5a39ed3a5181470b8c00818c8833e1da",
    "order_count": 6,
    "time": "2020-07-09T09:46:28.431Z",
    "type": "editCodeCell"
   },
   {
    "code": "df.groupby(\"id\")",
    "id": "5a39ed3a5181470b8c00818c8833e1da",
    "order_count": 6,
    "time": "2020-07-09T09:46:58.208Z",
    "type": "executeCodeCell"
   },
   {
    "code": "df.groupby(\"id\")",
    "id": "5a39ed3a5181470b8c00818c8833e1da",
    "order_count": 6,
    "time": "2020-07-09T09:46:58.209Z",
    "type": "selectCodeCell"
   },
   {
    "id": "5a39ed3a5181470b8c00818c8833e1da",
    "isPrintLuxWidget": false,
    "isPrintPandas": false,
    "time": "2020-07-09T09:46:58.231Z",
    "type": "completeCodeCell"
   },
   {
    "code": "df.groupby(\"id\")",
    "id": "5a39ed3a5181470b8c00818c8833e1da",
    "order_count": 6,
    "time": "2020-07-09T09:46:58.995Z",
    "type": "editCodeCell"
   },
   {
    "code": "df.groupby(\"id\")",
    "id": "5a39ed3a5181470b8c00818c8833e1da",
    "order_count": 6,
    "time": "2020-07-09T09:47:02.528Z",
    "type": "selectCodeCell"
   },
   {
    "code": "",
    "id": "7fbdef2113614415a3d4b633bf57edc2",
    "order_count": 6,
    "time": "2020-07-09T09:47:03.050Z",
    "type": "editCodeCell"
   },
   {
    "code": "df",
    "id": "7fbdef2113614415a3d4b633bf57edc2",
    "order_count": 6,
    "time": "2020-07-09T09:47:03.656Z",
    "type": "executeCodeCell"
   },
   {
    "code": "df",
    "id": "7fbdef2113614415a3d4b633bf57edc2",
    "order_count": 6,
    "time": "2020-07-09T09:47:03.657Z",
    "type": "selectCodeCell"
   },
   {
    "id": "7fbdef2113614415a3d4b633bf57edc2",
    "isPrintLuxWidget": false,
    "isPrintPandas": true,
    "time": "2020-07-09T09:47:03.681Z",
    "type": "completeCodeCell"
   },
   {
    "code": "df",
    "id": "7fbdef2113614415a3d4b633bf57edc2",
    "order_count": null,
    "time": "2020-07-09T09:47:39.497Z",
    "type": "deleteCodeCell"
   },
   {
    "code": "",
    "id": "b43c647cc8e44a248eb6e510c31b7cd4",
    "order_count": 6,
    "time": "2020-07-09T09:47:41.562Z",
    "type": "editCodeCell"
   },
   {
    "code": "df[\"type\"]",
    "id": "b43c647cc8e44a248eb6e510c31b7cd4",
    "order_count": 6,
    "time": "2020-07-09T09:47:43.513Z",
    "type": "executeCodeCell"
   },
   {
    "code": "df[\"type\"]",
    "id": "b43c647cc8e44a248eb6e510c31b7cd4",
    "order_count": 6,
    "time": "2020-07-09T09:47:43.514Z",
    "type": "selectCodeCell"
   },
   {
    "id": "b43c647cc8e44a248eb6e510c31b7cd4",
    "isPrintLuxWidget": false,
    "isPrintPandas": false,
    "time": "2020-07-09T09:47:43.536Z",
    "type": "completeCodeCell"
   },
   {
    "code": "df[\"type\"]",
    "id": "b43c647cc8e44a248eb6e510c31b7cd4",
    "order_count": 6,
    "time": "2020-07-09T09:47:44.268Z",
    "type": "editCodeCell"
   },
   {
    "code": "df[(df[\"type\"]==\"executeCodeCell\")|(df[\"type\"]==\"editCodeCell\")]",
    "id": "b43c647cc8e44a248eb6e510c31b7cd4",
    "order_count": 6,
    "time": "2020-07-09T09:48:16.924Z",
    "type": "executeCodeCell"
   },
   {
    "code": "df[(df[\"type\"]==\"executeCodeCell\")|(df[\"type\"]==\"editCodeCell\")]",
    "id": "b43c647cc8e44a248eb6e510c31b7cd4",
    "order_count": 6,
    "time": "2020-07-09T09:48:16.926Z",
    "type": "selectCodeCell"
   },
   {
    "id": "b43c647cc8e44a248eb6e510c31b7cd4",
    "isPrintLuxWidget": false,
    "isPrintPandas": true,
    "time": "2020-07-09T09:48:16.963Z",
    "type": "completeCodeCell"
   },
   {
    "code": "df[(df[\"type\"]==\"executeCodeCell\")|(df[\"type\"]==\"editCodeCell\")]",
    "id": "b43c647cc8e44a248eb6e510c31b7cd4",
    "order_count": 6,
    "time": "2020-07-09T09:48:17.570Z",
    "type": "editCodeCell"
   },
   {
    "code": "df[(df[\"type\"]==\"executeCodeCell\")|(df[\"type\"]==\"editCodeCell\")].groupby(\"id\").apply()",
    "id": "b43c647cc8e44a248eb6e510c31b7cd4",
    "order_count": 6,
    "time": "2020-07-09T09:48:36.776Z",
    "type": "selectCodeCell"
   },
   {
    "code": "df[(df[\"type\"]==\"executeCodeCell\")|(df[\"type\"]==\"editCodeCell\")].groupby(\"id\").apply()",
    "id": "b43c647cc8e44a248eb6e510c31b7cd4",
    "order_count": 6,
    "time": "2020-07-09T09:48:37.480Z",
    "type": "editCodeCell"
   },
   {
    "code": "df[(df[\"type\"]==\"executeCodeCell\")|(df[\"type\"]==\"editCodeCell\")].groupby(\"id\").apply()",
    "id": "b43c647cc8e44a248eb6e510c31b7cd4",
    "order_count": 6,
    "time": "2020-07-09T09:48:37.496Z",
    "type": "selectCodeCell"
   },
   {
    "code": "df[(df[\"type\"]==\"executeCodeCell\")|(df[\"type\"]==\"editCodeCell\")].groupby(\"id\").apply()",
    "id": "b43c647cc8e44a248eb6e510c31b7cd4",
    "order_count": 6,
    "time": "2020-07-09T09:48:53.890Z",
    "type": "editCodeCell"
   },
   {
    "code": "df[(df[\"type\"]==\"executeCodeCell\")|(df[\"type\"]==\"editCodeCell\")].groupby(\"id\").apply(sub)",
    "id": "b43c647cc8e44a248eb6e510c31b7cd4",
    "order_count": 6,
    "time": "2020-07-09T09:48:55.596Z",
    "type": "executeCodeCell"
   },
   {
    "code": "df[(df[\"type\"]==\"executeCodeCell\")|(df[\"type\"]==\"editCodeCell\")].groupby(\"id\").apply(sub)",
    "id": "b43c647cc8e44a248eb6e510c31b7cd4",
    "order_count": 6,
    "time": "2020-07-09T09:48:55.597Z",
    "type": "selectCodeCell"
   },
   {
    "id": "b43c647cc8e44a248eb6e510c31b7cd4",
    "isPrintLuxWidget": false,
    "isPrintPandas": false,
    "time": "2020-07-09T09:48:55.662Z",
    "type": "completeCodeCell"
   },
   {
    "code": "df[(df[\"type\"]==\"executeCodeCell\")|(df[\"type\"]==\"editCodeCell\")].groupby(\"id\").apply(sub)",
    "id": "b43c647cc8e44a248eb6e510c31b7cd4",
    "order_count": 6,
    "time": "2020-07-09T09:48:56.456Z",
    "type": "editCodeCell"
   },
   {
    "code": "df[(df[\"type\"]==\"executeCodeCell\")|(df[\"type\"]==\"editCodeCell\")].groupby(\"id\").apply(subtract)",
    "id": "b43c647cc8e44a248eb6e510c31b7cd4",
    "order_count": 6,
    "time": "2020-07-09T09:48:57.749Z",
    "type": "executeCodeCell"
   },
   {
    "code": "df[(df[\"type\"]==\"executeCodeCell\")|(df[\"type\"]==\"editCodeCell\")].groupby(\"id\").apply(subtract)",
    "id": "b43c647cc8e44a248eb6e510c31b7cd4",
    "order_count": 6,
    "time": "2020-07-09T09:48:57.749Z",
    "type": "selectCodeCell"
   },
   {
    "id": "b43c647cc8e44a248eb6e510c31b7cd4",
    "isPrintLuxWidget": false,
    "isPrintPandas": false,
    "time": "2020-07-09T09:48:57.777Z",
    "type": "completeCodeCell"
   },
   {
    "code": "df[(df[\"type\"]==\"executeCodeCell\")|(df[\"type\"]==\"editCodeCell\")].groupby(\"id\").apply(subtract)",
    "id": "b43c647cc8e44a248eb6e510c31b7cd4",
    "order_count": 6,
    "time": "2020-07-09T09:48:58.521Z",
    "type": "editCodeCell"
   },
   {
    "code": "df[(df[\"type\"]==\"executeCodeCell\")|(df[\"type\"]==\"editCodeCell\")].groupby(\"id\").apply(subtract)",
    "id": "b43c647cc8e44a248eb6e510c31b7cd4",
    "order_count": 6,
    "time": "2020-07-09T09:49:07.755Z",
    "type": "selectCodeCell"
   },
   {
    "code": "df[(df[\"type\"]==\"executeCodeCell\")|(df[\"type\"]==\"editCodeCell\")].groupby(\"id\").apply(subtract)",
    "id": "b43c647cc8e44a248eb6e510c31b7cd4",
    "order_count": 6,
    "time": "2020-07-09T09:49:12.137Z",
    "type": "editCodeCell"
   },
   {
    "code": "df[(df[\"type\"]==\"executeCodeCell\")|(df[\"type\"]==\"editCodeCell\")].groupby(\"id\").apply(diff)",
    "id": "b43c647cc8e44a248eb6e510c31b7cd4",
    "order_count": 6,
    "time": "2020-07-09T09:49:17.725Z",
    "type": "executeCodeCell"
   },
   {
    "code": "df[(df[\"type\"]==\"executeCodeCell\")|(df[\"type\"]==\"editCodeCell\")].groupby(\"id\").apply(diff)",
    "id": "b43c647cc8e44a248eb6e510c31b7cd4",
    "order_count": 6,
    "time": "2020-07-09T09:49:17.727Z",
    "type": "selectCodeCell"
   },
   {
    "id": "b43c647cc8e44a248eb6e510c31b7cd4",
    "isPrintLuxWidget": false,
    "isPrintPandas": false,
    "time": "2020-07-09T09:49:17.749Z",
    "type": "completeCodeCell"
   },
   {
    "code": "df[(df[\"type\"]==\"executeCodeCell\")|(df[\"type\"]==\"editCodeCell\")].groupby(\"id\").apply(diff)",
    "id": "b43c647cc8e44a248eb6e510c31b7cd4",
    "order_count": 6,
    "time": "2020-07-09T09:49:18.457Z",
    "type": "editCodeCell"
   },
   {
    "code": "df[(df[\"type\"]==\"executeCodeCell\")|(df[\"type\"]==\"editCodeCell\")].groupby(\"id\").diff()",
    "id": "b43c647cc8e44a248eb6e510c31b7cd4",
    "order_count": 6,
    "time": "2020-07-09T09:49:24.629Z",
    "type": "executeCodeCell"
   },
   {
    "code": "df[(df[\"type\"]==\"executeCodeCell\")|(df[\"type\"]==\"editCodeCell\")].groupby(\"id\").diff()",
    "id": "b43c647cc8e44a248eb6e510c31b7cd4",
    "order_count": 6,
    "time": "2020-07-09T09:49:24.630Z",
    "type": "selectCodeCell"
   },
   {
    "id": "b43c647cc8e44a248eb6e510c31b7cd4",
    "isPrintLuxWidget": false,
    "isPrintPandas": false,
    "time": "2020-07-09T09:49:24.710Z",
    "type": "completeCodeCell"
   },
   {
    "code": "df[(df[\"type\"]==\"executeCodeCell\")|(df[\"type\"]==\"editCodeCell\")].groupby(\"id\").diff()",
    "id": "b43c647cc8e44a248eb6e510c31b7cd4",
    "order_count": 6,
    "time": "2020-07-09T09:49:25.504Z",
    "type": "editCodeCell"
   },
   {
    "code": "df[(df[\"type\"]==\"executeCodeCell\")|(df[\"type\"]==\"editCodeCell\")].groupby(\"id\").diff",
    "id": "b43c647cc8e44a248eb6e510c31b7cd4",
    "order_count": 6,
    "time": "2020-07-09T09:49:26.183Z",
    "type": "executeCodeCell"
   },
   {
    "code": "df[(df[\"type\"]==\"executeCodeCell\")|(df[\"type\"]==\"editCodeCell\")].groupby(\"id\").diff",
    "id": "b43c647cc8e44a248eb6e510c31b7cd4",
    "order_count": 6,
    "time": "2020-07-09T09:49:26.184Z",
    "type": "selectCodeCell"
   },
   {
    "id": "b43c647cc8e44a248eb6e510c31b7cd4",
    "isPrintLuxWidget": false,
    "isPrintPandas": false,
    "time": "2020-07-09T09:49:26.210Z",
    "type": "completeCodeCell"
   },
   {
    "code": "df[(df[\"type\"]==\"executeCodeCell\")|(df[\"type\"]==\"editCodeCell\")].groupby(\"id\").diff",
    "id": "b43c647cc8e44a248eb6e510c31b7cd4",
    "order_count": 6,
    "time": "2020-07-09T09:49:27.008Z",
    "type": "editCodeCell"
   },
   {
    "code": "df[(df[\"type\"]==\"executeCodeCell\")|(df[\"type\"]==\"editCodeCell\")].groupby(\"id\").diff()",
    "id": "b43c647cc8e44a248eb6e510c31b7cd4",
    "order_count": 6,
    "time": "2020-07-09T09:49:35.694Z",
    "type": "executeCodeCell"
   },
   {
    "code": "df[(df[\"type\"]==\"executeCodeCell\")|(df[\"type\"]==\"editCodeCell\")].groupby(\"id\").diff()",
    "id": "b43c647cc8e44a248eb6e510c31b7cd4",
    "order_count": 6,
    "time": "2020-07-09T09:49:35.695Z",
    "type": "selectCodeCell"
   },
   {
    "id": "b43c647cc8e44a248eb6e510c31b7cd4",
    "isPrintLuxWidget": false,
    "isPrintPandas": false,
    "time": "2020-07-09T09:49:35.768Z",
    "type": "completeCodeCell"
   },
   {
    "code": "df[(df[\"type\"]==\"executeCodeCell\")|(df[\"type\"]==\"editCodeCell\")].groupby(\"id\").diff()",
    "id": "b43c647cc8e44a248eb6e510c31b7cd4",
    "order_count": 6,
    "time": "2020-07-09T09:49:41.383Z",
    "type": "editCodeCell"
   },
   {
    "code": "df[(df[\"type\"]==\"executeCodeCell\")|(df[\"type\"]==\"editCodeCell\")].groupby(\"id\").diff()",
    "id": "b43c647cc8e44a248eb6e510c31b7cd4",
    "order_count": 6,
    "time": "2020-07-09T09:49:42.293Z",
    "type": "selectCodeCell"
   },
   {
    "code": "",
    "id": "57be358b486a4045ab13c1eb6dd36e48",
    "order_count": 6,
    "time": "2020-07-09T09:49:42.975Z",
    "type": "editCodeCell"
   },
   {
    "code": "df",
    "id": "57be358b486a4045ab13c1eb6dd36e48",
    "order_count": 6,
    "time": "2020-07-09T09:49:43.542Z",
    "type": "executeCodeCell"
   },
   {
    "code": "df",
    "id": "57be358b486a4045ab13c1eb6dd36e48",
    "order_count": 6,
    "time": "2020-07-09T09:49:43.543Z",
    "type": "selectCodeCell"
   },
   {
    "id": "57be358b486a4045ab13c1eb6dd36e48",
    "isPrintLuxWidget": false,
    "isPrintPandas": true,
    "time": "2020-07-09T09:49:43.579Z",
    "type": "completeCodeCell"
   },
   {
    "code": "df",
    "id": "57be358b486a4045ab13c1eb6dd36e48",
    "order_count": null,
    "time": "2020-07-09T09:49:45.117Z",
    "type": "deleteCodeCell"
   },
   {
    "code": "df[(df[\"type\"]==\"executeCodeCell\")|(df[\"type\"]==\"editCodeCell\")].groupby(\"id\").diff()",
    "id": "b43c647cc8e44a248eb6e510c31b7cd4",
    "order_count": 6,
    "time": "2020-07-09T09:49:46.167Z",
    "type": "editCodeCell"
   },
   {
    "code": "df[(df[\"type\"]==\"executeCodeCell\")|(df[\"type\"]==\"editCodeCell\")].groupby(\"id\")[\"time\"].diff()",
    "id": "b43c647cc8e44a248eb6e510c31b7cd4",
    "order_count": 6,
    "time": "2020-07-09T09:49:49.765Z",
    "type": "executeCodeCell"
   },
   {
    "code": "df[(df[\"type\"]==\"executeCodeCell\")|(df[\"type\"]==\"editCodeCell\")].groupby(\"id\")[\"time\"].diff()",
    "id": "b43c647cc8e44a248eb6e510c31b7cd4",
    "order_count": 6,
    "time": "2020-07-09T09:49:49.766Z",
    "type": "selectCodeCell"
   },
   {
    "id": "b43c647cc8e44a248eb6e510c31b7cd4",
    "isPrintLuxWidget": false,
    "isPrintPandas": false,
    "time": "2020-07-09T09:49:49.813Z",
    "type": "completeCodeCell"
   },
   {
    "code": "df[(df[\"type\"]==\"executeCodeCell\")|(df[\"type\"]==\"editCodeCell\")].groupby(\"id\")[\"time\"].diff()",
    "id": "b43c647cc8e44a248eb6e510c31b7cd4",
    "order_count": 6,
    "time": "2020-07-09T09:49:52.197Z",
    "type": "editCodeCell"
   },
   {
    "code": "df[(df[\"type\"]==\"executeCodeCell\")|(df[\"type\"]==\"editCodeCell\")]",
    "id": "b43c647cc8e44a248eb6e510c31b7cd4",
    "order_count": 6,
    "time": "2020-07-09T09:49:57.239Z",
    "type": "executeCodeCell"
   },
   {
    "code": "df[(df[\"type\"]==\"executeCodeCell\")|(df[\"type\"]==\"editCodeCell\")]",
    "id": "b43c647cc8e44a248eb6e510c31b7cd4",
    "order_count": 6,
    "time": "2020-07-09T09:49:57.241Z",
    "type": "selectCodeCell"
   },
   {
    "id": "b43c647cc8e44a248eb6e510c31b7cd4",
    "isPrintLuxWidget": false,
    "isPrintPandas": true,
    "time": "2020-07-09T09:49:57.269Z",
    "type": "completeCodeCell"
   },
   {
    "code": "df[(df[\"type\"]==\"executeCodeCell\")|(df[\"type\"]==\"editCodeCell\")]",
    "id": "b43c647cc8e44a248eb6e510c31b7cd4",
    "order_count": 6,
    "time": "2020-07-09T09:49:58.180Z",
    "type": "editCodeCell"
   },
   {
    "code": "df[(df[\"type\"]==\"executeCodeCell\")|(df[\"type\"]==\"editCodeCell\")].groupby(\"id\")[\"time\"]",
    "id": "b43c647cc8e44a248eb6e510c31b7cd4",
    "order_count": 6,
    "time": "2020-07-09T09:50:04.334Z",
    "type": "executeCodeCell"
   },
   {
    "code": "df[(df[\"type\"]==\"executeCodeCell\")|(df[\"type\"]==\"editCodeCell\")].groupby(\"id\")[\"time\"]",
    "id": "b43c647cc8e44a248eb6e510c31b7cd4",
    "order_count": 6,
    "time": "2020-07-09T09:50:04.335Z",
    "type": "selectCodeCell"
   },
   {
    "id": "b43c647cc8e44a248eb6e510c31b7cd4",
    "isPrintLuxWidget": false,
    "isPrintPandas": false,
    "time": "2020-07-09T09:50:04.356Z",
    "type": "completeCodeCell"
   },
   {
    "code": "df[(df[\"type\"]==\"executeCodeCell\")|(df[\"type\"]==\"editCodeCell\")].groupby(\"id\")[\"time\"]",
    "id": "b43c647cc8e44a248eb6e510c31b7cd4",
    "order_count": 6,
    "time": "2020-07-09T09:50:05.002Z",
    "type": "editCodeCell"
   },
   {
    "code": "df[(df[\"type\"]==\"executeCodeCell\")|(df[\"type\"]==\"editCodeCell\")].groupby(\"id\")[\"time\"].diff()",
    "id": "b43c647cc8e44a248eb6e510c31b7cd4",
    "order_count": 6,
    "time": "2020-07-09T09:50:05.695Z",
    "type": "executeCodeCell"
   },
   {
    "code": "df[(df[\"type\"]==\"executeCodeCell\")|(df[\"type\"]==\"editCodeCell\")].groupby(\"id\")[\"time\"].diff()",
    "id": "b43c647cc8e44a248eb6e510c31b7cd4",
    "order_count": 6,
    "time": "2020-07-09T09:50:05.695Z",
    "type": "selectCodeCell"
   },
   {
    "id": "b43c647cc8e44a248eb6e510c31b7cd4",
    "isPrintLuxWidget": false,
    "isPrintPandas": false,
    "time": "2020-07-09T09:50:05.750Z",
    "type": "completeCodeCell"
   },
   {
    "code": "",
    "id": "d41aae78ce964f0db1fb39dca1c846b7",
    "order_count": 6,
    "time": "2020-07-09T09:50:12.476Z",
    "type": "editCodeCell"
   },
   {
    "code": "df[\"time\"].to_datetime()",
    "id": "d41aae78ce964f0db1fb39dca1c846b7",
    "order_count": 6,
    "time": "2020-07-09T09:50:19.276Z",
    "type": "executeCodeCell"
   },
   {
    "code": "df[\"time\"].to_datetime()",
    "id": "d41aae78ce964f0db1fb39dca1c846b7",
    "order_count": 6,
    "time": "2020-07-09T09:50:19.277Z",
    "type": "selectCodeCell"
   },
   {
    "id": "d41aae78ce964f0db1fb39dca1c846b7",
    "isPrintLuxWidget": false,
    "isPrintPandas": false,
    "time": "2020-07-09T09:50:19.305Z",
    "type": "completeCodeCell"
   },
   {
    "code": "df[\"time\"].to_datetime()",
    "id": "d41aae78ce964f0db1fb39dca1c846b7",
    "order_count": 6,
    "time": "2020-07-09T09:50:20.042Z",
    "type": "editCodeCell"
   },
   {
    "code": "df[\"time\"].to_datetime()",
    "id": "d41aae78ce964f0db1fb39dca1c846b7",
    "order_count": 6,
    "time": "2020-07-09T09:50:23.620Z",
    "type": "selectCodeCell"
   },
   {
    "code": "df[\"time\"].to_datetime()",
    "id": "d41aae78ce964f0db1fb39dca1c846b7",
    "order_count": 6,
    "time": "2020-07-09T09:50:38.608Z",
    "type": "editCodeCell"
   },
   {
    "code": "pd.to_datetime(df[\"time\"])",
    "id": "d41aae78ce964f0db1fb39dca1c846b7",
    "order_count": 6,
    "time": "2020-07-09T09:50:46.601Z",
    "type": "executeCodeCell"
   },
   {
    "code": "pd.to_datetime(df[\"time\"])",
    "id": "d41aae78ce964f0db1fb39dca1c846b7",
    "order_count": 6,
    "time": "2020-07-09T09:50:46.601Z",
    "type": "selectCodeCell"
   },
   {
    "id": "d41aae78ce964f0db1fb39dca1c846b7",
    "isPrintLuxWidget": false,
    "isPrintPandas": false,
    "time": "2020-07-09T09:50:46.635Z",
    "type": "completeCodeCell"
   },
   {
    "code": "pd.to_datetime(df[\"time\"])",
    "id": "d41aae78ce964f0db1fb39dca1c846b7",
    "order_count": 6,
    "time": "2020-07-09T09:50:47.329Z",
    "type": "editCodeCell"
   },
   {
    "code": "df[\"time\"] = pd.to_datetime(df[\"time\"])",
    "id": "d41aae78ce964f0db1fb39dca1c846b7",
    "order_count": 6,
    "time": "2020-07-09T09:50:51.128Z",
    "type": "executeCodeCell"
   },
   {
    "code": "df[\"time\"] = pd.to_datetime(df[\"time\"])",
    "id": "d41aae78ce964f0db1fb39dca1c846b7",
    "order_count": 6,
    "time": "2020-07-09T09:50:51.129Z",
    "type": "selectCodeCell"
   },
   {
    "id": "d41aae78ce964f0db1fb39dca1c846b7",
    "isPrintLuxWidget": false,
    "isPrintPandas": false,
    "time": "2020-07-09T09:50:51.160Z",
    "type": "completeCodeCell"
   },
   {
    "code": "df[(df[\"type\"]==\"executeCodeCell\")|(df[\"type\"]==\"editCodeCell\")].groupby(\"id\")[\"time\"].diff()",
    "id": "b43c647cc8e44a248eb6e510c31b7cd4",
    "order_count": 7,
    "time": "2020-07-09T09:50:51.536Z",
    "type": "executeCodeCell"
   },
   {
    "id": "b43c647cc8e44a248eb6e510c31b7cd4",
    "isPrintLuxWidget": false,
    "isPrintPandas": false,
    "time": "2020-07-09T09:50:51.611Z",
    "type": "completeCodeCell"
   },
   {
    "code": "",
    "id": "bdbbb0e6d62446f38918a2b37ad3a50f",
    "order_count": 6,
    "time": "2020-07-09T09:50:59.246Z",
    "type": "editCodeCell"
   },
   {
    "code": "Subtract",
    "id": "bdbbb0e6d62446f38918a2b37ad3a50f",
    "order_count": 6,
    "time": "2020-07-09T09:51:03.534Z",
    "type": "selectCodeCell"
   },
   {
    "code": "Merge editCodeCell, executeCodeCell and completeCodeCell into one based on id",
    "id": "874be6a9ee7342039aec1d0bb17c4869",
    "order_count": 3,
    "time": "2020-07-09T09:51:03.552Z",
    "type": "editCodeCell"
   },
   {
    "code": "Merge editCodeCell, executeCodeCell and completeCodeCell into one based on id",
    "id": "874be6a9ee7342039aec1d0bb17c4869",
    "order_count": 3,
    "time": "2020-07-09T09:51:04.047Z",
    "type": "selectCodeCell"
   },
   {
    "code": "Subtract",
    "id": "bdbbb0e6d62446f38918a2b37ad3a50f",
    "order_count": 6,
    "time": "2020-07-09T09:51:06.163Z",
    "type": "editCodeCell"
   },
   {
    "code": "queryFormulationTime = T(editCodeCell) - T(executeCodeCell)\ncodeExecutionTime = T(codeExecution) - T(executeCodeCell)",
    "id": "bdbbb0e6d62446f38918a2b37ad3a50f",
    "order_count": 6,
    "time": "2020-07-09T09:52:21.056Z",
    "type": "selectCodeCell"
   },
   {
    "code": "queryFormulationTime = T(editCodeCell) - T(executeCodeCell)\ncodeExecutionTime = T(codeExecution) - T(executeCodeCell)",
    "id": "bdbbb0e6d62446f38918a2b37ad3a50f",
    "order_count": 6,
    "time": "2020-07-09T09:52:43.679Z",
    "type": "editCodeCell"
   },
   {
    "code": "queryFormulationTime = T(editCodeCell) - T(executeCodeCell)\ncodeExecutionTime = T(codeExecution) - T(executeCodeCell)",
    "id": "bdbbb0e6d62446f38918a2b37ad3a50f",
    "order_count": 6,
    "time": "2020-07-09T09:52:46.977Z",
    "type": "selectCodeCell"
   },
   {
    "code": "queryFormulationTime = T(editCodeCell) - T(executeCodeCell)\ncodeExecutionTime = T(codeExecution) - T(executeCodeCell)",
    "id": "bdbbb0e6d62446f38918a2b37ad3a50f",
    "order_count": 6,
    "time": "2020-07-09T09:52:54.168Z",
    "type": "editCodeCell"
   },
   {
    "code": "queryFormulationTime = T(editCodeCell) - T(executeCodeCell)\ncodeExecutionTime = T(codeExecution) - T(executeCodeCell)",
    "id": "bdbbb0e6d62446f38918a2b37ad3a50f",
    "order_count": 6,
    "time": "2020-07-09T09:52:54.176Z",
    "type": "selectCodeCell"
   },
   {
    "code": "queryFormulationTime = T(editCodeCell) - T(executeCodeCell)\ncodeExecutionTime = T(codeExecution) - T(executeCodeCell)",
    "id": "bdbbb0e6d62446f38918a2b37ad3a50f",
    "order_count": 6,
    "time": "2020-07-09T09:52:54.191Z",
    "type": "editCodeCell"
   },
   {
    "code": "queryFormulationTime = T(editCodeCell) - T(executeCodeCell)\ncodeExecutionTime = T(completeCodeCell) - T(executeCodeCell)",
    "id": "bdbbb0e6d62446f38918a2b37ad3a50f",
    "order_count": 6,
    "time": "2020-07-09T09:52:58.539Z",
    "type": "selectCodeCell"
   },
   {
    "code": "queryFormulationTime = T(editCodeCell) - T(executeCodeCell)\ncodeExecutionTime = T(completeCodeCell) - T(executeCodeCell)",
    "id": "5ffdf6c8f0784416888364ecd82f9227",
    "order_count": 4,
    "time": "2020-07-09T09:53:04.685Z"
   },
   {
    "code": "```\nqueryFormulationTime = T(editCodeCell) - T(executeCodeCell)\ncodeExecutionTime = T(completeCodeCell) - T(executeCodeCell)\n```",
    "id": "5ffdf6c8f0784416888364ecd82f9227",
    "order_count": 4,
    "time": "2020-07-09T09:53:09.360Z"
   },
   {
    "code": "### Merge editCodeCell, executeCodeCell and completeCodeCell into one based on id",
    "id": "29a486e0967a42fbbb5e23e0c432a5dc",
    "order_count": 3,
    "time": "2020-07-09T09:53:25.284Z",
    "type": "editMarkdownCell"
   },
   {
    "code": "### Merge editCodeCell, executeCodeCell and completeCodeCell into one based on id with 2 additional computed interval",
    "id": "29a486e0967a42fbbb5e23e0c432a5dc",
    "order_count": 3,
    "time": "2020-07-09T09:53:38.984Z",
    "type": "selectMarkdownCell"
   },
   {
    "time": "2020-07-09T09:53:50.270Z",
    "type": "kernelReady"
   },
   {
    "time": "2020-07-09T09:57:48.527Z",
    "type": "kernelReady"
   },
   {
    "time": "2020-07-09T11:17:59.551Z",
    "type": "kernelReady"
   },
   {
    "time": "2020-07-09T12:36:34.225Z",
    "type": "kernelReady"
   },
   {
    "time": "2020-07-09T14:19:04.097Z",
    "type": "kernelReady"
   },
   {
    "time": "2020-07-09T22:54:19.119Z",
    "type": "kernelReady"
   },
   {
    "time": "2020-07-09T23:38:10.643Z",
    "type": "kernelReady"
   },
   {
    "time": "2020-07-10T01:17:03.245Z",
    "type": "kernelReady"
   },
   {
    "code": "df[\"time\"] = pd.to_datetime(df[\"time\"])",
    "id": "d41aae78ce964f0db1fb39dca1c846b7",
    "order_count": 7,
    "time": "2020-07-10T02:53:25.355Z",
    "type": "editCodeCell"
   },
   {
    "code": "df[\"time\"] = pd.to_datetime(df[\"time\"])",
    "id": "d41aae78ce964f0db1fb39dca1c846b7",
    "order_count": 7,
    "time": "2020-07-10T02:53:26.682Z",
    "type": "selectCodeCell"
   },
   {
    "code": "df = pd.DataFrame(log)",
    "id": "26d60088c09d4110944c05a07114c869",
    "order_count": 6,
    "time": "2020-07-10T02:53:27.222Z",
    "type": "editCodeCell"
   },
   {
    "code": "df = pd.DataFrame(log)",
    "id": "26d60088c09d4110944c05a07114c869",
    "order_count": 6,
    "time": "2020-07-10T02:53:28.706Z",
    "type": "selectCodeCell"
   },
   {
    "time": "2020-07-10T03:32:46.907Z",
    "type": "kernelReady"
   },
   {
    "time": "2020-07-10T03:32:56.554Z",
    "type": "kernelReady"
   },
   {
    "time": "2020-07-10T03:33:38.138Z",
    "type": "kernelReady"
   },
   {
    "time": "2020-07-10T03:34:11.797Z",
    "type": "kernelReady"
   },
   {
    "time": "2020-07-10T03:35:26.232Z",
    "type": "kernelReady"
   },
   {
    "time": "2020-07-11T01:29:27.053Z",
    "type": "kernelReady"
   },
   {
    "code": "log = nb[\"metadata\"][\"history\"]",
    "id": "ec3736321c6d4607833d8dca032f7fff",
    "order_count": 2,
    "time": "2020-07-11T01:29:28.896Z",
    "type": "editCodeCell"
   },
   {
    "code": "log = nb[\"metadata\"][\"history\"]",
    "id": "ec3736321c6d4607833d8dca032f7fff",
    "order_count": 2,
    "time": "2020-07-11T01:29:31.254Z",
    "type": "selectCodeCell"
   },
   {
    "code": "nb = json.load(open(\"CarsDemo.ipynb\"))",
    "id": "2761f3ce1c9f44d9ba87e968b2ea85cf",
    "order_count": 1,
    "time": "2020-07-11T01:29:31.278Z",
    "type": "editCodeCell"
   },
   {
    "code": "nb = json.load(open(\"CarsDemo.ipynb\"))",
    "id": "2761f3ce1c9f44d9ba87e968b2ea85cf",
    "order_count": 1,
    "time": "2020-07-11T01:29:31.997Z",
    "type": "selectCodeCell"
   },
   {
    "code": "import json",
    "id": "6e1ce3c6b98142ab8671b63ce329695a",
    "order_count": 0,
    "time": "2020-07-11T01:29:34.284Z",
    "type": "executeCodeCell"
   },
   {
    "id": "6e1ce3c6b98142ab8671b63ce329695a",
    "isPrintLuxWidget": false,
    "isPrintPandas": false,
    "time": "2020-07-11T01:29:34.300Z",
    "type": "completeCodeCell"
   },
   {
    "code": "nb = json.load(open(\"CarsDemo.ipynb\"))",
    "id": "2761f3ce1c9f44d9ba87e968b2ea85cf",
    "order_count": 1,
    "time": "2020-07-11T01:29:34.535Z",
    "type": "executeCodeCell"
   },
   {
    "id": "2761f3ce1c9f44d9ba87e968b2ea85cf",
    "isPrintLuxWidget": false,
    "isPrintPandas": false,
    "time": "2020-07-11T01:29:34.550Z",
    "type": "completeCodeCell"
   },
   {
    "code": "log = nb[\"metadata\"][\"history\"]",
    "id": "ec3736321c6d4607833d8dca032f7fff",
    "order_count": 2,
    "time": "2020-07-11T01:29:34.845Z",
    "type": "executeCodeCell"
   },
   {
    "id": "ec3736321c6d4607833d8dca032f7fff",
    "isPrintLuxWidget": false,
    "isPrintPandas": false,
    "time": "2020-07-11T01:29:34.855Z",
    "type": "completeCodeCell"
   },
   {
    "code": "import pandas as pd",
    "id": "03e16b95dd2e449a8864ae766af43998",
    "order_count": 5,
    "time": "2020-07-11T01:29:35.828Z",
    "type": "executeCodeCell"
   },
   {
    "code": "df = pd.DataFrame(log)",
    "id": "aa28737cb99243478b249545fb49cb9a",
    "order_count": 6,
    "time": "2020-07-11T01:29:36.132Z",
    "type": "executeCodeCell"
   },
   {
    "id": "03e16b95dd2e449a8864ae766af43998",
    "isPrintLuxWidget": false,
    "isPrintPandas": false,
    "time": "2020-07-11T01:29:36.256Z",
    "type": "completeCodeCell"
   },
   {
    "id": "aa28737cb99243478b249545fb49cb9a",
    "isPrintLuxWidget": false,
    "isPrintPandas": false,
    "time": "2020-07-11T01:29:36.262Z",
    "type": "completeCodeCell"
   },
   {
    "code": "df[\"time\"] = pd.to_datetime(df[\"time\"])",
    "id": "890b21c0c37942cb8c4a49b77fe4cec7",
    "order_count": 7,
    "time": "2020-07-11T01:29:36.517Z",
    "type": "executeCodeCell"
   },
   {
    "id": "890b21c0c37942cb8c4a49b77fe4cec7",
    "isPrintLuxWidget": false,
    "isPrintPandas": false,
    "time": "2020-07-11T01:29:36.533Z",
    "type": "completeCodeCell"
   },
   {
    "code": "df = pd.DataFrame(log)",
    "id": "aa28737cb99243478b249545fb49cb9a",
    "order_count": 6,
    "time": "2020-07-11T01:30:37.420Z",
    "type": "editCodeCell"
   },
   {
    "code": "df = pd.DataFrame(log)",
    "id": "aa28737cb99243478b249545fb49cb9a",
    "order_count": 6,
    "time": "2020-07-11T01:30:39.951Z",
    "type": "executeCodeCell"
   },
   {
    "code": "df = pd.DataFrame(log)",
    "id": "aa28737cb99243478b249545fb49cb9a",
    "order_count": 6,
    "time": "2020-07-11T01:30:39.952Z",
    "type": "selectCodeCell"
   },
   {
    "id": "aa28737cb99243478b249545fb49cb9a",
    "isPrintLuxWidget": false,
    "isPrintPandas": false,
    "time": "2020-07-11T01:30:39.972Z",
    "type": "completeCodeCell"
   },
   {
    "code": "df[\"time\"] = pd.to_datetime(df[\"time\"])",
    "id": "890b21c0c37942cb8c4a49b77fe4cec7",
    "order_count": 7,
    "time": "2020-07-11T01:30:40.262Z",
    "type": "executeCodeCell"
   },
   {
    "id": "890b21c0c37942cb8c4a49b77fe4cec7",
    "isPrintLuxWidget": false,
    "isPrintPandas": false,
    "time": "2020-07-11T01:30:40.276Z",
    "type": "completeCodeCell"
   },
   {
    "code": "df[(df[\"type\"]==\"executeCodeCell\")|(df[\"type\"]==\"editCodeCell\")].groupby(\"id\")[\"time\"].diff()",
    "id": "08d90942f20146918d52c45dee7217c4",
    "order_count": 8,
    "time": "2020-07-11T01:30:40.590Z",
    "type": "executeCodeCell"
   },
   {
    "id": "08d90942f20146918d52c45dee7217c4",
    "isPrintLuxWidget": false,
    "isPrintPandas": false,
    "time": "2020-07-11T01:30:40.672Z",
    "type": "completeCodeCell"
   },
   {
    "code": "df.groupby(\"id\")",
    "id": "4112d45d6a7e466f83172f943ddd31c1",
    "order_count": 9,
    "time": "2020-07-11T01:30:41.183Z",
    "type": "executeCodeCell"
   },
   {
    "id": "4112d45d6a7e466f83172f943ddd31c1",
    "isPrintLuxWidget": false,
    "isPrintPandas": false,
    "time": "2020-07-11T01:30:41.200Z",
    "type": "completeCodeCell"
   },
   {
    "code": "",
    "id": "00bcba1ab0074ec4b375c2b05cbd29a0",
    "order_count": 11,
    "time": "2020-07-11T01:30:41.904Z",
    "type": "editCodeCell"
   },
   {
    "code": "",
    "id": "00bcba1ab0074ec4b375c2b05cbd29a0",
    "order_count": 11,
    "time": "2020-07-11T01:30:43.536Z",
    "type": "selectCodeCell"
   },
   {
    "code": "",
    "id": "cb9ba65d79734dc28821381ba64a3bff",
    "order_count": 10,
    "time": "2020-07-11T01:30:43.559Z",
    "type": "editCodeCell"
   },
   {
    "code": "",
    "id": "cb9ba65d79734dc28821381ba64a3bff",
    "order_count": 10,
    "time": "2020-07-11T01:30:49.624Z",
    "type": "selectCodeCell"
   },
   {
    "code": "df.groupby(\"id\")",
    "id": "4112d45d6a7e466f83172f943ddd31c1",
    "order_count": 9,
    "time": "2020-07-11T01:30:49.641Z",
    "type": "editCodeCell"
   },
   {
    "code": "df.groupby(\"id\")",
    "id": "4112d45d6a7e466f83172f943ddd31c1",
    "order_count": 9,
    "time": "2020-07-11T01:30:52.580Z",
    "type": "selectCodeCell"
   },
   {
    "code": "",
    "id": "cb9ba65d79734dc28821381ba64a3bff",
    "order_count": 10,
    "time": "2020-07-11T01:30:52.596Z",
    "type": "editCodeCell"
   },
   {
    "code": "df",
    "id": "cb9ba65d79734dc28821381ba64a3bff",
    "order_count": 10,
    "time": "2020-07-11T01:31:06.132Z",
    "type": "executeCodeCell"
   },
   {
    "code": "df",
    "id": "cb9ba65d79734dc28821381ba64a3bff",
    "order_count": 10,
    "time": "2020-07-11T01:31:06.133Z",
    "type": "selectCodeCell"
   },
   {
    "id": "cb9ba65d79734dc28821381ba64a3bff",
    "isPrintLuxWidget": false,
    "isPrintPandas": true,
    "time": "2020-07-11T01:31:06.163Z",
    "type": "completeCodeCell"
   },
   {
    "code": "df[(df[\"type\"]==\"executeCodeCell\")|(df[\"type\"]==\"editCodeCell\")].groupby(\"id\")[\"time\"].diff()",
    "id": "08d90942f20146918d52c45dee7217c4",
    "order_count": 8,
    "time": "2020-07-11T01:31:23.405Z",
    "type": "editCodeCell"
   },
   {
    "code": "df[(df[\"type\"]==\"executeCodeCell\")|(df[\"type\"]==\"editCodeCell\")].groupby(\"id\")[\"time\"].diff()",
    "id": "08d90942f20146918d52c45dee7217c4",
    "order_count": 8,
    "time": "2020-07-11T01:31:24.150Z",
    "type": "selectCodeCell"
   },
   {
    "code": "",
    "id": "215c8d0ddd8f49ad8762ef98851b75e9",
    "order_count": 9,
    "time": "2020-07-11T01:31:26.221Z",
    "type": "editCodeCell"
   },
   {
    "code": "df[(df[\"type\"]==\"executeCodeCell\")|(df[\"type\"]==\"completeCodeCell\")].groupby(\"id\")[\"time\"].diff()",
    "id": "215c8d0ddd8f49ad8762ef98851b75e9",
    "order_count": 9,
    "time": "2020-07-11T01:31:50.161Z",
    "type": "executeCodeCell"
   },
   {
    "code": "df[(df[\"type\"]==\"executeCodeCell\")|(df[\"type\"]==\"completeCodeCell\")].groupby(\"id\")[\"time\"].diff()",
    "id": "215c8d0ddd8f49ad8762ef98851b75e9",
    "order_count": 9,
    "time": "2020-07-11T01:31:50.164Z",
    "type": "selectCodeCell"
   },
   {
    "id": "215c8d0ddd8f49ad8762ef98851b75e9",
    "isPrintLuxWidget": false,
    "isPrintPandas": false,
    "time": "2020-07-11T01:31:50.243Z",
    "type": "completeCodeCell"
   },
   {
    "code": "df[(df[\"type\"]==\"executeCodeCell\")|(df[\"type\"]==\"completeCodeCell\")].groupby(\"id\")[\"time\"].diff()",
    "id": "215c8d0ddd8f49ad8762ef98851b75e9",
    "order_count": 9,
    "time": "2020-07-11T01:31:57.409Z",
    "type": "editCodeCell"
   },
   {
    "code": "df[(df[\"type\"]==\"executeCodeCell\")|(df[\"type\"]==\"completeCodeCell\")].groupby(\"id\")[\"time\"].diff()",
    "id": "215c8d0ddd8f49ad8762ef98851b75e9",
    "order_count": 9,
    "time": "2020-07-11T01:32:09.030Z",
    "type": "selectCodeCell"
   },
   {
    "code": "df[(df[\"type\"]==\"executeCodeCell\")|(df[\"type\"]==\"editCodeCell\")].groupby(\"id\")[\"time\"].diff()",
    "id": "08d90942f20146918d52c45dee7217c4",
    "order_count": 8,
    "time": "2020-07-11T01:32:09.050Z",
    "type": "editCodeCell"
   },
   {
    "code": "df[(df[\"type\"]==\"executeCodeCell\")|(df[\"type\"]==\"editCodeCell\")].groupby(\"id\")[\"time\"].diff()",
    "id": "08d90942f20146918d52c45dee7217c4",
    "order_count": 8,
    "time": "2020-07-11T01:32:09.060Z",
    "type": "selectCodeCell"
   },
   {
    "code": "df[(df[\"type\"]==\"executeCodeCell\")|(df[\"type\"]==\"editCodeCell\")].groupby(\"id\")[\"time\"].diff()",
    "id": "08d90942f20146918d52c45dee7217c4",
    "order_count": 8,
    "time": "2020-07-11T01:32:09.075Z",
    "type": "editCodeCell"
   },
   {
    "code": "df[(df[\"type\"]==\"executeCodeCell\")|(df[\"type\"]==\"completeCodeCell\")][\"editTime\"] = df[(df[\"type\"]==\"executeCodeCell\")|(df[\"type\"]==\"editCodeCell\")].groupby(\"id\")[\"time\"].diff()",
    "id": "08d90942f20146918d52c45dee7217c4",
    "order_count": 8,
    "time": "2020-07-11T01:32:13.503Z",
    "type": "selectCodeCell"
   },
   {
    "code": "df[(df[\"type\"]==\"executeCodeCell\")|(df[\"type\"]==\"completeCodeCell\")][\"editTime\"] = df[(df[\"type\"]==\"executeCodeCell\")|(df[\"type\"]==\"editCodeCell\")].groupby(\"id\")[\"time\"].diff()",
    "id": "08d90942f20146918d52c45dee7217c4",
    "order_count": 8,
    "time": "2020-07-11T01:32:15.421Z",
    "type": "editCodeCell"
   },
   {
    "code": "df[(df[\"type\"]==\"executeCodeCell\")|(df[\"type\"]==\"completeCodeCell\")][\"queryFormulationTime\"] = df[(df[\"type\"]==\"executeCodeCell\")|(df[\"type\"]==\"editCodeCell\")].groupby(\"id\")[\"time\"].diff()",
    "id": "08d90942f20146918d52c45dee7217c4",
    "order_count": 8,
    "time": "2020-07-11T01:32:16.595Z",
    "type": "executeCodeCell"
   },
   {
    "code": "df[(df[\"type\"]==\"executeCodeCell\")|(df[\"type\"]==\"completeCodeCell\")][\"queryFormulationTime\"] = df[(df[\"type\"]==\"executeCodeCell\")|(df[\"type\"]==\"editCodeCell\")].groupby(\"id\")[\"time\"].diff()",
    "id": "08d90942f20146918d52c45dee7217c4",
    "order_count": 8,
    "time": "2020-07-11T01:32:16.596Z",
    "type": "selectCodeCell"
   },
   {
    "id": "08d90942f20146918d52c45dee7217c4",
    "isPrintLuxWidget": false,
    "isPrintPandas": false,
    "time": "2020-07-11T01:32:16.683Z",
    "type": "completeCodeCell"
   },
   {
    "code": "df[(df[\"type\"]==\"executeCodeCell\")|(df[\"type\"]==\"completeCodeCell\")][\"queryFormulationTime\"] = df[(df[\"type\"]==\"executeCodeCell\")|(df[\"type\"]==\"editCodeCell\")].groupby(\"id\")[\"time\"].diff()",
    "id": "08d90942f20146918d52c45dee7217c4",
    "order_count": 8,
    "time": "2020-07-11T01:32:21.771Z",
    "type": "editCodeCell"
   },
   {
    "code": "subset = df[(df[\"type\"]==\"executeCodeCell\")|(df[\"type\"]==\"completeCodeCell\")]\nsubset[\"queryFormulationTime\"] = subset.groupby(\"id\")[\"time\"].diff()",
    "id": "08d90942f20146918d52c45dee7217c4",
    "order_count": 8,
    "time": "2020-07-11T01:33:10.163Z",
    "type": "executeCodeCell"
   },
   {
    "code": "subset = df[(df[\"type\"]==\"executeCodeCell\")|(df[\"type\"]==\"completeCodeCell\")]\nsubset[\"queryFormulationTime\"] = subset.groupby(\"id\")[\"time\"].diff()",
    "id": "08d90942f20146918d52c45dee7217c4",
    "order_count": 8,
    "time": "2020-07-11T01:33:10.166Z",
    "type": "selectCodeCell"
   },
   {
    "id": "08d90942f20146918d52c45dee7217c4",
    "isPrintLuxWidget": false,
    "isPrintPandas": false,
    "time": "2020-07-11T01:33:10.246Z",
    "type": "completeCodeCell"
   },
   {
    "code": "subset = df[(df[\"type\"]==\"executeCodeCell\")|(df[\"type\"]==\"completeCodeCell\")]\nsubset[\"queryFormulationTime\"] = subset.groupby(\"id\")[\"time\"].diff()",
    "id": "08d90942f20146918d52c45dee7217c4",
    "order_count": 8,
    "time": "2020-07-11T01:33:11.408Z",
    "type": "editCodeCell"
   },
   {
    "code": "subset = df[(df[\"type\"]==\"executeCodeCell\")|(df[\"type\"]==\"completeCodeCell\")]\nsubset.loc[\"queryFormulationTime\"] = subset.groupby(\"id\")[\"time\"].diff()",
    "id": "08d90942f20146918d52c45dee7217c4",
    "order_count": 8,
    "time": "2020-07-11T01:33:18.370Z",
    "type": "executeCodeCell"
   },
   {
    "code": "subset = df[(df[\"type\"]==\"executeCodeCell\")|(df[\"type\"]==\"completeCodeCell\")]\nsubset.loc[\"queryFormulationTime\"] = subset.groupby(\"id\")[\"time\"].diff()",
    "id": "08d90942f20146918d52c45dee7217c4",
    "order_count": 8,
    "time": "2020-07-11T01:33:18.371Z",
    "type": "selectCodeCell"
   },
   {
    "id": "08d90942f20146918d52c45dee7217c4",
    "isPrintLuxWidget": false,
    "isPrintPandas": false,
    "time": "2020-07-11T01:33:18.449Z",
    "type": "completeCodeCell"
   },
   {
    "code": "subset = df[(df[\"type\"]==\"executeCodeCell\")|(df[\"type\"]==\"completeCodeCell\")]\nsubset.loc[\"queryFormulationTime\"] = subset.groupby(\"id\")[\"time\"].diff()",
    "id": "08d90942f20146918d52c45dee7217c4",
    "order_count": 8,
    "time": "2020-07-11T01:33:19.233Z",
    "type": "editCodeCell"
   },
   {
    "code": "subset = df[(df[\"type\"]==\"executeCodeCell\")|(df[\"type\"]==\"completeCodeCell\")]\nsubset.loc[\"queryFormulationTime\"] = subset.groupby(\"id\")[\"time\"].diff()",
    "id": "08d90942f20146918d52c45dee7217c4",
    "order_count": 8,
    "time": "2020-07-11T01:33:36.396Z",
    "type": "executeCodeCell"
   },
   {
    "code": "subset = df[(df[\"type\"]==\"executeCodeCell\")|(df[\"type\"]==\"completeCodeCell\")]\nsubset.loc[\"queryFormulationTime\"] = subset.groupby(\"id\")[\"time\"].diff()",
    "id": "08d90942f20146918d52c45dee7217c4",
    "order_count": 8,
    "time": "2020-07-11T01:33:36.397Z",
    "type": "selectCodeCell"
   },
   {
    "id": "08d90942f20146918d52c45dee7217c4",
    "isPrintLuxWidget": false,
    "isPrintPandas": false,
    "time": "2020-07-11T01:33:36.474Z",
    "type": "completeCodeCell"
   },
   {
    "code": "subset = df[(df[\"type\"]==\"executeCodeCell\")|(df[\"type\"]==\"completeCodeCell\")]\nsubset.loc[\"queryFormulationTime\"] = subset.groupby(\"id\")[\"time\"].diff()",
    "id": "08d90942f20146918d52c45dee7217c4",
    "order_count": 8,
    "time": "2020-07-11T01:33:38.506Z",
    "type": "executeCodeCell"
   },
   {
    "id": "08d90942f20146918d52c45dee7217c4",
    "isPrintLuxWidget": false,
    "isPrintPandas": false,
    "time": "2020-07-11T01:33:38.579Z",
    "type": "completeCodeCell"
   },
   {
    "code": "df[(df[\"type\"]==\"executeCodeCell\")|(df[\"type\"]==\"completeCodeCell\")].groupby(\"id\")[\"time\"].diff()",
    "id": "215c8d0ddd8f49ad8762ef98851b75e9",
    "order_count": 9,
    "time": "2020-07-11T01:33:39.496Z",
    "type": "editCodeCell"
   },
   {
    "code": "subset = df[(df[\"type\"]==\"executeCodeCell\")|(df[\"type\"]==\"completeCodeCell\")]\nsubset.loc[\"codeExecutionTime\"].groupby(\"id\")[\"time\"].diff()",
    "id": "215c8d0ddd8f49ad8762ef98851b75e9",
    "order_count": 9,
    "time": "2020-07-11T01:33:54.683Z",
    "type": "executeCodeCell"
   },
   {
    "code": "subset = df[(df[\"type\"]==\"executeCodeCell\")|(df[\"type\"]==\"completeCodeCell\")]\nsubset.loc[\"codeExecutionTime\"].groupby(\"id\")[\"time\"].diff()",
    "id": "215c8d0ddd8f49ad8762ef98851b75e9",
    "order_count": 9,
    "time": "2020-07-11T01:33:54.684Z",
    "type": "selectCodeCell"
   },
   {
    "id": "215c8d0ddd8f49ad8762ef98851b75e9",
    "isPrintLuxWidget": false,
    "isPrintPandas": false,
    "time": "2020-07-11T01:33:54.837Z",
    "type": "completeCodeCell"
   },
   {
    "code": "subset = df[(df[\"type\"]==\"executeCodeCell\")|(df[\"type\"]==\"completeCodeCell\")]\nsubset.loc[\"codeExecutionTime\"].groupby(\"id\")[\"time\"].diff()",
    "id": "215c8d0ddd8f49ad8762ef98851b75e9",
    "order_count": 9,
    "time": "2020-07-11T01:33:56.329Z",
    "type": "editCodeCell"
   },
   {
    "code": "subset = df[(df[\"type\"]==\"executeCodeCell\")|(df[\"type\"]==\"completeCodeCell\")]\nsubset.loc[\"codeExecutionTime\"].groupby(\"id\")[\"time\"].diff()",
    "id": "215c8d0ddd8f49ad8762ef98851b75e9",
    "order_count": 9,
    "time": "2020-07-11T01:33:58.891Z",
    "type": "selectCodeCell"
   },
   {
    "code": "subset = df[(df[\"type\"]==\"executeCodeCell\")|(df[\"type\"]==\"completeCodeCell\")]\nsubset.loc[\"queryFormulationTime\"] = subset.groupby(\"id\")[\"time\"].diff()",
    "id": "08d90942f20146918d52c45dee7217c4",
    "order_count": 8,
    "time": "2020-07-11T01:33:58.915Z",
    "type": "editCodeCell"
   },
   {
    "code": "subset = df[(df[\"type\"]==\"executeCodeCell\")|(df[\"type\"]==\"completeCodeCell\")]\nsubset.loc[\"queryFormulationTime\"] = subset.groupby(\"id\")[\"time\"].diff()",
    "id": "08d90942f20146918d52c45dee7217c4",
    "order_count": 8,
    "time": "2020-07-11T01:34:00.086Z",
    "type": "executeCodeCell"
   },
   {
    "code": "subset = df[(df[\"type\"]==\"executeCodeCell\")|(df[\"type\"]==\"completeCodeCell\")]\nsubset.loc[\"queryFormulationTime\"] = subset.groupby(\"id\")[\"time\"].diff()",
    "id": "08d90942f20146918d52c45dee7217c4",
    "order_count": 8,
    "time": "2020-07-11T01:34:00.087Z",
    "type": "selectCodeCell"
   },
   {
    "id": "08d90942f20146918d52c45dee7217c4",
    "isPrintLuxWidget": false,
    "isPrintPandas": false,
    "time": "2020-07-11T01:34:00.155Z",
    "type": "completeCodeCell"
   },
   {
    "code": "subset = df[(df[\"type\"]==\"executeCodeCell\")|(df[\"type\"]==\"completeCodeCell\")]\nsubset.loc[\"codeExecutionTime\"].groupby(\"id\")[\"time\"].diff()",
    "id": "215c8d0ddd8f49ad8762ef98851b75e9",
    "order_count": 9,
    "time": "2020-07-11T01:34:00.543Z",
    "type": "executeCodeCell"
   },
   {
    "id": "215c8d0ddd8f49ad8762ef98851b75e9",
    "isPrintLuxWidget": false,
    "isPrintPandas": false,
    "time": "2020-07-11T01:34:00.584Z",
    "type": "completeCodeCell"
   },
   {
    "code": "subset = df[(df[\"type\"]==\"executeCodeCell\")|(df[\"type\"]==\"completeCodeCell\")]\nsubset.loc[\"codeExecutionTime\"].groupby(\"id\")[\"time\"].diff()",
    "id": "215c8d0ddd8f49ad8762ef98851b75e9",
    "order_count": 9,
    "time": "2020-07-11T01:34:05.366Z",
    "type": "editCodeCell"
   },
   {
    "code": "subset = df[(df[\"type\"]==\"executeCodeCell\")|(df[\"type\"]==\"completeCodeCell\")]\nsubset.loc[\"codeExecutionTime\"] = subset.groupby(\"id\")[\"time\"].diff()",
    "id": "215c8d0ddd8f49ad8762ef98851b75e9",
    "order_count": 9,
    "time": "2020-07-11T01:34:07.419Z",
    "type": "executeCodeCell"
   },
   {
    "code": "subset = df[(df[\"type\"]==\"executeCodeCell\")|(df[\"type\"]==\"completeCodeCell\")]\nsubset.loc[\"codeExecutionTime\"] = subset.groupby(\"id\")[\"time\"].diff()",
    "id": "215c8d0ddd8f49ad8762ef98851b75e9",
    "order_count": 9,
    "time": "2020-07-11T01:34:07.420Z",
    "type": "selectCodeCell"
   },
   {
    "id": "215c8d0ddd8f49ad8762ef98851b75e9",
    "isPrintLuxWidget": false,
    "isPrintPandas": false,
    "time": "2020-07-11T01:34:07.499Z",
    "type": "completeCodeCell"
   },
   {
    "code": "df.groupby(\"id\")",
    "id": "4112d45d6a7e466f83172f943ddd31c1",
    "order_count": 10,
    "time": "2020-07-11T01:34:08.684Z",
    "type": "editCodeCell"
   },
   {
    "code": "df.groupby(\"id\")",
    "id": "4112d45d6a7e466f83172f943ddd31c1",
    "order_count": 10,
    "time": "2020-07-11T01:34:10.911Z",
    "type": "selectCodeCell"
   },
   {
    "code": "subset = df[(df[\"type\"]==\"executeCodeCell\")|(df[\"type\"]==\"completeCodeCell\")]\nsubset.loc[\"codeExecutionTime\"] = subset.groupby(\"id\")[\"time\"].diff()",
    "id": "215c8d0ddd8f49ad8762ef98851b75e9",
    "order_count": 9,
    "time": "2020-07-11T01:34:10.934Z",
    "type": "editCodeCell"
   },
   {
    "code": "subset = df[(df[\"type\"]==\"executeCodeCell\")|(df[\"type\"]==\"completeCodeCell\")]\nsubset.loc[\"codeExecutionTime\"] = subset.groupby(\"id\")[\"time\"].diff()",
    "id": "215c8d0ddd8f49ad8762ef98851b75e9",
    "order_count": 9,
    "time": "2020-07-11T01:34:11.778Z",
    "type": "selectCodeCell"
   },
   {
    "code": "subset = df[(df[\"type\"]==\"executeCodeCell\")|(df[\"type\"]==\"completeCodeCell\")]\nsubset.loc[\"queryFormulationTime\"] = subset.groupby(\"id\")[\"time\"].diff()",
    "id": "08d90942f20146918d52c45dee7217c4",
    "order_count": 8,
    "time": "2020-07-11T01:34:11.798Z",
    "type": "editCodeCell"
   },
   {
    "code": "subset1 = df[(df[\"type\"]==\"executeCodeCell\")|(df[\"type\"]==\"completeCodeCell\")]\nsubset1.loc[\"queryFormulationTime\"] = subset.groupby(\"id\")[\"time\"].diff()",
    "id": "08d90942f20146918d52c45dee7217c4",
    "order_count": 8,
    "time": "2020-07-11T01:34:16.713Z",
    "type": "selectCodeCell"
   },
   {
    "code": "subset = df[(df[\"type\"]==\"executeCodeCell\")|(df[\"type\"]==\"completeCodeCell\")]\nsubset.loc[\"codeExecutionTime\"] = subset.groupby(\"id\")[\"time\"].diff()",
    "id": "215c8d0ddd8f49ad8762ef98851b75e9",
    "order_count": 9,
    "time": "2020-07-11T01:34:16.734Z",
    "type": "editCodeCell"
   },
   {
    "code": "subset2 = df[(df[\"type\"]==\"executeCodeCell\")|(df[\"type\"]==\"completeCodeCell\")]\nsubset2.loc[\"codeExecutionTime\"] = subset.groupby(\"id\")[\"time\"].diff()",
    "id": "215c8d0ddd8f49ad8762ef98851b75e9",
    "order_count": 9,
    "time": "2020-07-11T01:34:20.465Z",
    "type": "selectCodeCell"
   },
   {
    "code": "subset1 = df[(df[\"type\"]==\"executeCodeCell\")|(df[\"type\"]==\"completeCodeCell\")]\nsubset1.loc[\"queryFormulationTime\"] = subset.groupby(\"id\")[\"time\"].diff()",
    "id": "08d90942f20146918d52c45dee7217c4",
    "order_count": 8,
    "time": "2020-07-11T01:34:20.486Z",
    "type": "editCodeCell"
   },
   {
    "code": "subset1 = df[(df[\"type\"]==\"executeCodeCell\")|(df[\"type\"]==\"completeCodeCell\")]\nsubset1.loc[\"queryFormulationTime\"] = subset.groupby(\"id\")[\"time\"].diff()",
    "id": "08d90942f20146918d52c45dee7217c4",
    "order_count": 8,
    "time": "2020-07-11T01:34:20.898Z",
    "type": "executeCodeCell"
   },
   {
    "code": "subset1 = df[(df[\"type\"]==\"executeCodeCell\")|(df[\"type\"]==\"completeCodeCell\")]\nsubset1.loc[\"queryFormulationTime\"] = subset.groupby(\"id\")[\"time\"].diff()",
    "id": "08d90942f20146918d52c45dee7217c4",
    "order_count": 8,
    "time": "2020-07-11T01:34:20.899Z",
    "type": "selectCodeCell"
   },
   {
    "id": "08d90942f20146918d52c45dee7217c4",
    "isPrintLuxWidget": false,
    "isPrintPandas": false,
    "time": "2020-07-11T01:34:20.967Z",
    "type": "completeCodeCell"
   },
   {
    "code": "subset2 = df[(df[\"type\"]==\"executeCodeCell\")|(df[\"type\"]==\"completeCodeCell\")]\nsubset2.loc[\"codeExecutionTime\"] = subset.groupby(\"id\")[\"time\"].diff()",
    "id": "215c8d0ddd8f49ad8762ef98851b75e9",
    "order_count": 9,
    "time": "2020-07-11T01:34:21.170Z",
    "type": "executeCodeCell"
   },
   {
    "id": "215c8d0ddd8f49ad8762ef98851b75e9",
    "isPrintLuxWidget": false,
    "isPrintPandas": false,
    "time": "2020-07-11T01:34:21.238Z",
    "type": "completeCodeCell"
   },
   {
    "code": "",
    "id": "ed961f4dd43f486fb4520a430b784ee3",
    "order_count": 10,
    "time": "2020-07-11T01:34:23.931Z",
    "type": "editCodeCell"
   },
   {
    "code": "subset2",
    "id": "ed961f4dd43f486fb4520a430b784ee3",
    "order_count": 10,
    "time": "2020-07-11T01:34:25.530Z",
    "type": "executeCodeCell"
   },
   {
    "code": "subset2",
    "id": "ed961f4dd43f486fb4520a430b784ee3",
    "order_count": 10,
    "time": "2020-07-11T01:34:25.531Z",
    "type": "selectCodeCell"
   },
   {
    "id": "ed961f4dd43f486fb4520a430b784ee3",
    "isPrintLuxWidget": false,
    "isPrintPandas": true,
    "time": "2020-07-11T01:34:25.564Z",
    "type": "completeCodeCell"
   },
   {
    "code": "subset1 = df[(df[\"type\"]==\"executeCodeCell\")|(df[\"type\"]==\"completeCodeCell\")]\nsubset1.loc[\"queryFormulationTime\"] = subset.groupby(\"id\")[\"time\"].diff()",
    "id": "08d90942f20146918d52c45dee7217c4",
    "order_count": 8,
    "time": "2020-07-11T01:34:33.619Z",
    "type": "editCodeCell"
   },
   {
    "code": "subset1 = df[(df[\"type\"]==\"executeCodeCell\")|(df[\"type\"]==\"completeCodeCell\")]\nsubset1.loc[:,\"queryFormulationTime\"] = subset.groupby(\"id\")[\"time\"].diff()",
    "id": "08d90942f20146918d52c45dee7217c4",
    "order_count": 8,
    "time": "2020-07-11T01:34:45.304Z",
    "type": "executeCodeCell"
   },
   {
    "code": "subset1 = df[(df[\"type\"]==\"executeCodeCell\")|(df[\"type\"]==\"completeCodeCell\")]\nsubset1.loc[:,\"queryFormulationTime\"] = subset.groupby(\"id\")[\"time\"].diff()",
    "id": "08d90942f20146918d52c45dee7217c4",
    "order_count": 8,
    "time": "2020-07-11T01:34:45.305Z",
    "type": "selectCodeCell"
   },
   {
    "id": "08d90942f20146918d52c45dee7217c4",
    "isPrintLuxWidget": false,
    "isPrintPandas": false,
    "time": "2020-07-11T01:34:45.378Z",
    "type": "completeCodeCell"
   },
   {
    "code": "subset1 = df[(df[\"type\"]==\"executeCodeCell\")|(df[\"type\"]==\"completeCodeCell\")]\nsubset1.loc[:,\"queryFormulationTime\"] = subset.groupby(\"id\")[\"time\"].diff()",
    "id": "08d90942f20146918d52c45dee7217c4",
    "order_count": 8,
    "time": "2020-07-11T01:34:47.581Z",
    "type": "editCodeCell"
   },
   {
    "code": "subset1 = df[(df[\"type\"]==\"executeCodeCell\")|(df[\"type\"]==\"completeCodeCell\")]\nsubset1.loc[:,\"queryFormulationTime\"] = subset.groupby(\"id\")[\"time\"].diff()",
    "id": "08d90942f20146918d52c45dee7217c4",
    "order_count": 8,
    "time": "2020-07-11T01:34:48.945Z",
    "type": "selectCodeCell"
   },
   {
    "code": "subset2 = df[(df[\"type\"]==\"executeCodeCell\")|(df[\"type\"]==\"completeCodeCell\")]\nsubset2.loc[\"codeExecutionTime\"] = subset.groupby(\"id\")[\"time\"].diff()",
    "id": "215c8d0ddd8f49ad8762ef98851b75e9",
    "order_count": 9,
    "time": "2020-07-11T01:34:48.969Z",
    "type": "editCodeCell"
   },
   {
    "code": "subset2 = df[(df[\"type\"]==\"executeCodeCell\")|(df[\"type\"]==\"completeCodeCell\")]\nsubset2.loc[:,\"codeExecutionTime\"] = subset.groupby(\"id\")[\"time\"].diff()",
    "id": "215c8d0ddd8f49ad8762ef98851b75e9",
    "order_count": 9,
    "time": "2020-07-11T01:34:49.708Z",
    "type": "executeCodeCell"
   },
   {
    "code": "subset2 = df[(df[\"type\"]==\"executeCodeCell\")|(df[\"type\"]==\"completeCodeCell\")]\nsubset2.loc[:,\"codeExecutionTime\"] = subset.groupby(\"id\")[\"time\"].diff()",
    "id": "215c8d0ddd8f49ad8762ef98851b75e9",
    "order_count": 9,
    "time": "2020-07-11T01:34:49.709Z",
    "type": "selectCodeCell"
   },
   {
    "id": "215c8d0ddd8f49ad8762ef98851b75e9",
    "isPrintLuxWidget": false,
    "isPrintPandas": false,
    "time": "2020-07-11T01:34:49.777Z",
    "type": "completeCodeCell"
   },
   {
    "code": "subset2",
    "id": "ed961f4dd43f486fb4520a430b784ee3",
    "order_count": 10,
    "time": "2020-07-11T01:34:51.218Z",
    "type": "executeCodeCell"
   },
   {
    "id": "ed961f4dd43f486fb4520a430b784ee3",
    "isPrintLuxWidget": false,
    "isPrintPandas": true,
    "time": "2020-07-11T01:34:51.246Z",
    "type": "completeCodeCell"
   },
   {
    "code": "",
    "id": "704b70a82a48442183ee0e5e4cddac9a",
    "order_count": 10,
    "time": "2020-07-11T01:36:21.964Z",
    "type": "editCodeCell"
   },
   {
    "code": "subset1",
    "id": "704b70a82a48442183ee0e5e4cddac9a",
    "order_count": 10,
    "time": "2020-07-11T01:36:23.723Z",
    "type": "executeCodeCell"
   },
   {
    "code": "subset1",
    "id": "704b70a82a48442183ee0e5e4cddac9a",
    "order_count": 10,
    "time": "2020-07-11T01:36:23.724Z",
    "type": "selectCodeCell"
   },
   {
    "id": "704b70a82a48442183ee0e5e4cddac9a",
    "isPrintLuxWidget": false,
    "isPrintPandas": true,
    "time": "2020-07-11T01:36:23.761Z",
    "type": "completeCodeCell"
   },
   {
    "code": "subset1",
    "id": "704b70a82a48442183ee0e5e4cddac9a",
    "order_count": 10,
    "time": "2020-07-11T01:36:38.276Z",
    "type": "editCodeCell"
   },
   {
    "code": "pd.concat([subset1,subset2])",
    "id": "704b70a82a48442183ee0e5e4cddac9a",
    "order_count": 10,
    "time": "2020-07-11T01:36:52.458Z",
    "type": "executeCodeCell"
   },
   {
    "code": "pd.concat([subset1,subset2])",
    "id": "704b70a82a48442183ee0e5e4cddac9a",
    "order_count": 10,
    "time": "2020-07-11T01:36:52.459Z",
    "type": "selectCodeCell"
   },
   {
    "id": "704b70a82a48442183ee0e5e4cddac9a",
    "isPrintLuxWidget": false,
    "isPrintPandas": true,
    "time": "2020-07-11T01:36:52.494Z",
    "type": "completeCodeCell"
   },
   {
    "code": "subset2",
    "id": "ed961f4dd43f486fb4520a430b784ee3",
    "order_count": null,
    "time": "2020-07-11T01:36:55.398Z",
    "type": "deleteCodeCell"
   },
   {
    "code": "pd.concat([subset1,subset2])",
    "id": "704b70a82a48442183ee0e5e4cddac9a",
    "order_count": 10,
    "time": "2020-07-11T01:36:56.988Z",
    "type": "editCodeCell"
   },
   {
    "code": "codeCellsubset=pd.concat([subset1,subset2])",
    "id": "704b70a82a48442183ee0e5e4cddac9a",
    "order_count": 10,
    "time": "2020-07-11T01:37:03.454Z",
    "type": "executeCodeCell"
   },
   {
    "code": "codeCellsubset=pd.concat([subset1,subset2])",
    "id": "704b70a82a48442183ee0e5e4cddac9a",
    "order_count": 10,
    "time": "2020-07-11T01:37:03.455Z",
    "type": "selectCodeCell"
   },
   {
    "id": "704b70a82a48442183ee0e5e4cddac9a",
    "isPrintLuxWidget": false,
    "isPrintPandas": false,
    "time": "2020-07-11T01:37:03.484Z",
    "type": "completeCodeCell"
   },
   {
    "code": "",
    "id": "00a1b821f8e9481182407e884bf59e5b",
    "order_count": 11,
    "time": "2020-07-11T01:37:04.047Z",
    "type": "editCodeCell"
   },
   {
    "code": "codeCellsubset",
    "id": "00a1b821f8e9481182407e884bf59e5b",
    "order_count": 11,
    "time": "2020-07-11T01:37:07.309Z",
    "type": "executeCodeCell"
   },
   {
    "code": "codeCellsubset",
    "id": "00a1b821f8e9481182407e884bf59e5b",
    "order_count": 11,
    "time": "2020-07-11T01:37:07.310Z",
    "type": "selectCodeCell"
   },
   {
    "id": "00a1b821f8e9481182407e884bf59e5b",
    "isPrintLuxWidget": false,
    "isPrintPandas": true,
    "time": "2020-07-11T01:37:07.339Z",
    "type": "completeCodeCell"
   },
   {
    "code": "codeCellsubset",
    "id": "00a1b821f8e9481182407e884bf59e5b",
    "order_count": 11,
    "time": "2020-07-11T01:37:08.269Z",
    "type": "editCodeCell"
   },
   {
    "code": "codeCellsubset.groupby('id').sum()",
    "id": "00a1b821f8e9481182407e884bf59e5b",
    "order_count": 11,
    "time": "2020-07-11T01:37:39.555Z",
    "type": "executeCodeCell"
   },
   {
    "code": "codeCellsubset.groupby('id').sum()",
    "id": "00a1b821f8e9481182407e884bf59e5b",
    "order_count": 11,
    "time": "2020-07-11T01:37:39.558Z",
    "type": "selectCodeCell"
   },
   {
    "id": "00a1b821f8e9481182407e884bf59e5b",
    "isPrintLuxWidget": false,
    "isPrintPandas": true,
    "time": "2020-07-11T01:37:39.593Z",
    "type": "completeCodeCell"
   },
   {
    "code": "codeCellsubset.groupby('id').sum()",
    "id": "00a1b821f8e9481182407e884bf59e5b",
    "order_count": 11,
    "time": "2020-07-11T01:37:41.213Z",
    "type": "editCodeCell"
   },
   {
    "code": "codeCellsubset.groupby('id').sum(axis=1)",
    "id": "00a1b821f8e9481182407e884bf59e5b",
    "order_count": 11,
    "time": "2020-07-11T01:37:43.586Z",
    "type": "executeCodeCell"
   },
   {
    "code": "codeCellsubset.groupby('id').sum(axis=1)",
    "id": "00a1b821f8e9481182407e884bf59e5b",
    "order_count": 11,
    "time": "2020-07-11T01:37:43.587Z",
    "type": "selectCodeCell"
   },
   {
    "id": "00a1b821f8e9481182407e884bf59e5b",
    "isPrintLuxWidget": false,
    "isPrintPandas": false,
    "time": "2020-07-11T01:37:43.617Z",
    "type": "completeCodeCell"
   },
   {
    "code": "codeCellsubset.groupby('id').sum(axis=1)",
    "id": "00a1b821f8e9481182407e884bf59e5b",
    "order_count": 11,
    "time": "2020-07-11T01:37:44.835Z",
    "type": "editCodeCell"
   },
   {
    "code": "codeCellsubset.groupby('id').sum()",
    "id": "00a1b821f8e9481182407e884bf59e5b",
    "order_count": 11,
    "time": "2020-07-11T01:37:53.055Z",
    "type": "executeCodeCell"
   },
   {
    "code": "codeCellsubset.groupby('id').sum()",
    "id": "00a1b821f8e9481182407e884bf59e5b",
    "order_count": 11,
    "time": "2020-07-11T01:37:53.056Z",
    "type": "selectCodeCell"
   },
   {
    "id": "00a1b821f8e9481182407e884bf59e5b",
    "isPrintLuxWidget": false,
    "isPrintPandas": true,
    "time": "2020-07-11T01:37:53.086Z",
    "type": "completeCodeCell"
   },
   {
    "code": "codeCellsubset.groupby('id').sum()",
    "id": "00a1b821f8e9481182407e884bf59e5b",
    "order_count": 11,
    "time": "2020-07-11T01:37:53.872Z",
    "type": "editCodeCell"
   },
   {
    "code": "codeCellsubset.groupby('id').agg(sum)",
    "id": "00a1b821f8e9481182407e884bf59e5b",
    "order_count": 11,
    "time": "2020-07-11T01:38:03.773Z",
    "type": "executeCodeCell"
   },
   {
    "code": "codeCellsubset.groupby('id').agg(sum)",
    "id": "00a1b821f8e9481182407e884bf59e5b",
    "order_count": 11,
    "time": "2020-07-11T01:38:03.774Z",
    "type": "selectCodeCell"
   },
   {
    "id": "00a1b821f8e9481182407e884bf59e5b",
    "isPrintLuxWidget": false,
    "isPrintPandas": true,
    "time": "2020-07-11T01:38:03.805Z",
    "type": "completeCodeCell"
   },
   {
    "code": "codeCellsubset.groupby('id').agg(sum)",
    "id": "00a1b821f8e9481182407e884bf59e5b",
    "order_count": 11,
    "time": "2020-07-11T01:38:04.609Z",
    "type": "editCodeCell"
   },
   {
    "code": "codeCellsubset.groupby('id')",
    "id": "00a1b821f8e9481182407e884bf59e5b",
    "order_count": 11,
    "time": "2020-07-11T01:38:06.839Z",
    "type": "executeCodeCell"
   },
   {
    "code": "codeCellsubset.groupby('id')",
    "id": "00a1b821f8e9481182407e884bf59e5b",
    "order_count": 11,
    "time": "2020-07-11T01:38:06.840Z",
    "type": "selectCodeCell"
   },
   {
    "id": "00a1b821f8e9481182407e884bf59e5b",
    "isPrintLuxWidget": false,
    "isPrintPandas": false,
    "time": "2020-07-11T01:38:06.871Z",
    "type": "completeCodeCell"
   },
   {
    "code": "df.groupby(\"id\")",
    "id": "4112d45d6a7e466f83172f943ddd31c1",
    "order_count": 12,
    "time": "2020-07-11T01:38:08.514Z",
    "type": "editCodeCell"
   },
   {
    "code": "df.groupby(\"id\")",
    "id": "4112d45d6a7e466f83172f943ddd31c1",
    "order_count": 12,
    "time": "2020-07-11T01:38:09.557Z",
    "type": "selectCodeCell"
   },
   {
    "code": "codeCellsubset.groupby('id')",
    "id": "00a1b821f8e9481182407e884bf59e5b",
    "order_count": 11,
    "time": "2020-07-11T01:38:09.576Z",
    "type": "editCodeCell"
   },
   {
    "code": "codeCellsubset#.groupby('id')",
    "id": "00a1b821f8e9481182407e884bf59e5b",
    "order_count": 11,
    "time": "2020-07-11T01:38:11.204Z",
    "type": "executeCodeCell"
   },
   {
    "code": "codeCellsubset#.groupby('id')",
    "id": "00a1b821f8e9481182407e884bf59e5b",
    "order_count": 11,
    "time": "2020-07-11T01:38:11.205Z",
    "type": "selectCodeCell"
   },
   {
    "id": "00a1b821f8e9481182407e884bf59e5b",
    "isPrintLuxWidget": false,
    "isPrintPandas": true,
    "time": "2020-07-11T01:38:11.233Z",
    "type": "completeCodeCell"
   },
   {
    "code": "codeCellsubset=pd.concat([subset1,subset2])",
    "id": "704b70a82a48442183ee0e5e4cddac9a",
    "order_count": 10,
    "time": "2020-07-11T01:39:08.468Z",
    "type": "editCodeCell"
   },
   {
    "code": "codeCellsubset=pd.concat([subset1,subset2])",
    "id": "704b70a82a48442183ee0e5e4cddac9a",
    "order_count": 10,
    "time": "2020-07-11T01:39:09.633Z",
    "type": "selectCodeCell"
   },
   {
    "code": "codeCellsubset#.groupby('id')",
    "id": "00a1b821f8e9481182407e884bf59e5b",
    "order_count": 11,
    "time": "2020-07-11T01:39:09.658Z",
    "type": "editCodeCell"
   },
   {
    "code": "codeCellsubset.groupby('id').last()",
    "id": "00a1b821f8e9481182407e884bf59e5b",
    "order_count": 11,
    "time": "2020-07-11T01:39:13.945Z",
    "type": "executeCodeCell"
   },
   {
    "code": "codeCellsubset.groupby('id').last()",
    "id": "00a1b821f8e9481182407e884bf59e5b",
    "order_count": 11,
    "time": "2020-07-11T01:39:13.946Z",
    "type": "selectCodeCell"
   },
   {
    "id": "00a1b821f8e9481182407e884bf59e5b",
    "isPrintLuxWidget": false,
    "isPrintPandas": true,
    "time": "2020-07-11T01:39:14.000Z",
    "type": "completeCodeCell"
   },
   {
    "code": "codeCellsubset.groupby('id').last()",
    "id": "00a1b821f8e9481182407e884bf59e5b",
    "order_count": 11,
    "time": "2020-07-11T01:42:50.648Z",
    "type": "editCodeCell"
   },
   {
    "code": "codeCellsubset.groupby('id').first()",
    "id": "00a1b821f8e9481182407e884bf59e5b",
    "order_count": 11,
    "time": "2020-07-11T01:42:53.524Z",
    "type": "executeCodeCell"
   },
   {
    "code": "codeCellsubset.groupby('id').first()",
    "id": "00a1b821f8e9481182407e884bf59e5b",
    "order_count": 11,
    "time": "2020-07-11T01:42:53.525Z",
    "type": "selectCodeCell"
   },
   {
    "id": "00a1b821f8e9481182407e884bf59e5b",
    "isPrintLuxWidget": false,
    "isPrintPandas": true,
    "time": "2020-07-11T01:42:53.576Z",
    "type": "completeCodeCell"
   },
   {
    "code": "codeCellsubset.groupby('id').first()",
    "id": "00a1b821f8e9481182407e884bf59e5b",
    "order_count": 11,
    "time": "2020-07-11T01:43:10.704Z",
    "type": "editCodeCell"
   },
   {
    "code": "codeCellsubset.groupby('id').first()",
    "id": "00a1b821f8e9481182407e884bf59e5b",
    "order_count": 11,
    "time": "2020-07-11T01:43:12.037Z",
    "type": "selectCodeCell"
   },
   {
    "code": "codeCellsubset.groupby('id').first()",
    "id": "00a1b821f8e9481182407e884bf59e5b",
    "order_count": 11,
    "time": "2020-07-11T01:43:13.726Z",
    "type": "editCodeCell"
   },
   {
    "code": "codeCellsubset.groupby('id').first() == codeCellsubset.groupby('id').last()",
    "id": "00a1b821f8e9481182407e884bf59e5b",
    "order_count": 11,
    "time": "2020-07-11T01:43:17.659Z",
    "type": "executeCodeCell"
   },
   {
    "code": "codeCellsubset.groupby('id').first() == codeCellsubset.groupby('id').last()",
    "id": "00a1b821f8e9481182407e884bf59e5b",
    "order_count": 11,
    "time": "2020-07-11T01:43:17.661Z",
    "type": "selectCodeCell"
   },
   {
    "id": "00a1b821f8e9481182407e884bf59e5b",
    "isPrintLuxWidget": false,
    "isPrintPandas": true,
    "time": "2020-07-11T01:43:17.701Z",
    "type": "completeCodeCell"
   },
   {
    "code": "codeCellsubset.groupby('id').first() == codeCellsubset.groupby('id').last()",
    "id": "00a1b821f8e9481182407e884bf59e5b",
    "order_count": 11,
    "time": "2020-07-11T01:43:21.294Z",
    "type": "editCodeCell"
   },
   {
    "code": "codeCellsubset.groupby('id').first()",
    "id": "00a1b821f8e9481182407e884bf59e5b",
    "order_count": 11,
    "time": "2020-07-11T01:43:27.576Z",
    "type": "executeCodeCell"
   },
   {
    "code": "codeCellsubset.groupby('id').first()",
    "id": "00a1b821f8e9481182407e884bf59e5b",
    "order_count": 11,
    "time": "2020-07-11T01:43:27.577Z",
    "type": "selectCodeCell"
   },
   {
    "id": "00a1b821f8e9481182407e884bf59e5b",
    "isPrintLuxWidget": false,
    "isPrintPandas": true,
    "time": "2020-07-11T01:43:27.615Z",
    "type": "completeCodeCell"
   },
   {
    "code": "",
    "id": "ba49123c5b5c4d628fa11fb8d8755821",
    "order_count": 12,
    "time": "2020-07-11T01:43:28.170Z",
    "type": "editCodeCell"
   },
   {
    "code": "codeCellsubset.groupby('id').last()",
    "id": "ba49123c5b5c4d628fa11fb8d8755821",
    "order_count": 12,
    "time": "2020-07-11T01:43:33.241Z",
    "type": "executeCodeCell"
   },
   {
    "code": "codeCellsubset.groupby('id').last()",
    "id": "ba49123c5b5c4d628fa11fb8d8755821",
    "order_count": 12,
    "time": "2020-07-11T01:43:33.242Z",
    "type": "selectCodeCell"
   },
   {
    "id": "ba49123c5b5c4d628fa11fb8d8755821",
    "isPrintLuxWidget": false,
    "isPrintPandas": true,
    "time": "2020-07-11T01:43:33.293Z",
    "type": "completeCodeCell"
   },
   {
    "code": "codeCellsubset.groupby('id').last()",
    "id": "ba49123c5b5c4d628fa11fb8d8755821",
    "order_count": null,
    "time": "2020-07-11T01:44:15.707Z",
    "type": "deleteCodeCell"
   },
   {
    "code": "",
    "id": "8550dc10d0874ef98c3ba23bb038e690",
    "order_count": 12,
    "time": "2020-07-11T01:52:04.339Z",
    "type": "editCodeCell"
   },
   {
    "code": "df[\"execution_count\"].unique()",
    "id": "8550dc10d0874ef98c3ba23bb038e690",
    "order_count": 12,
    "time": "2020-07-11T01:52:09.804Z",
    "type": "executeCodeCell"
   },
   {
    "code": "df[\"execution_count\"].unique()",
    "id": "8550dc10d0874ef98c3ba23bb038e690",
    "order_count": 12,
    "time": "2020-07-11T01:52:09.806Z",
    "type": "selectCodeCell"
   },
   {
    "id": "8550dc10d0874ef98c3ba23bb038e690",
    "isPrintLuxWidget": false,
    "isPrintPandas": false,
    "time": "2020-07-11T01:52:09.835Z",
    "type": "completeCodeCell"
   },
   {
    "code": "subset2 = df[(df[\"type\"]==\"executeCodeCell\")|(df[\"type\"]==\"completeCodeCell\")]\nsubset2.loc[:,\"codeExecutionTime\"] = subset.groupby(\"id\")[\"time\"].diff()",
    "id": "215c8d0ddd8f49ad8762ef98851b75e9",
    "order_count": 9,
    "time": "2020-07-11T02:41:34.514Z",
    "type": "editCodeCell"
   },
   {
    "code": "subset2 = df[(df[\"type\"]==\"executeCodeCell\")|(df[\"type\"]==\"completeCodeCell\")]\nsubset2.loc[:,\"codeExecutionTime\"] = subset.groupby(\"id\")[\"time\"].diff()",
    "id": "215c8d0ddd8f49ad8762ef98851b75e9",
    "order_count": 9,
    "time": "2020-07-11T02:41:35.739Z",
    "type": "selectCodeCell"
   },
   {
    "code": "import json",
    "id": "6e1ce3c6b98142ab8671b63ce329695a",
    "order_count": 0,
    "time": "2020-07-11T02:41:36.844Z",
    "type": "executeCodeCell"
   },
   {
    "id": "6e1ce3c6b98142ab8671b63ce329695a",
    "isPrintLuxWidget": false,
    "isPrintPandas": false,
    "time": "2020-07-11T02:41:36.861Z",
    "type": "completeCodeCell"
   },
   {
    "code": "nb = json.load(open(\"CarsDemo.ipynb\"))",
    "id": "2761f3ce1c9f44d9ba87e968b2ea85cf",
    "order_count": 1,
    "time": "2020-07-11T02:41:37.076Z",
    "type": "executeCodeCell"
   },
   {
    "id": "2761f3ce1c9f44d9ba87e968b2ea85cf",
    "isPrintLuxWidget": false,
    "isPrintPandas": false,
    "time": "2020-07-11T02:41:37.092Z",
    "type": "completeCodeCell"
   },
   {
    "time": "2020-07-11T02:41:38.885Z",
    "type": "kernelRestart"
   },
   {
    "time": "2020-07-11T02:41:39.017Z",
    "type": "kernelRestart"
   },
   {
    "code": "import json",
    "id": "6e1ce3c6b98142ab8671b63ce329695a",
    "order_count": 0,
    "time": "2020-07-11T02:41:39.945Z",
    "type": "executeCodeCell"
   },
   {
    "code": "nb = json.load(open(\"CarsDemo.ipynb\"))",
    "id": "2761f3ce1c9f44d9ba87e968b2ea85cf",
    "order_count": 1,
    "time": "2020-07-11T02:41:40.146Z",
    "type": "executeCodeCell"
   },
   {
    "code": "log = nb[\"metadata\"][\"history\"]",
    "id": "ec3736321c6d4607833d8dca032f7fff",
    "order_count": 2,
    "time": "2020-07-11T02:41:40.404Z",
    "type": "executeCodeCell"
   },
   {
    "id": "ec3736321c6d4607833d8dca032f7fff",
    "isPrintLuxWidget": false,
    "isPrintPandas": false,
    "time": "2020-07-11T02:41:41.243Z",
    "type": "completeCodeCell"
   },
   {
    "time": "2020-07-11T02:41:41.248Z",
    "type": "kernelReady"
   },
   {
    "time": "2020-07-11T02:41:41.251Z",
    "type": "kernelReady"
   },
   {
    "time": "2020-07-11T02:41:41.255Z",
    "type": "kernelReady"
   },
   {
    "time": "2020-07-11T02:41:51.472Z",
    "type": "kernelRestart"
   },
   {
    "time": "2020-07-11T02:41:51.610Z",
    "type": "kernelRestart"
   },
   {
    "code": "import json",
    "id": "6e1ce3c6b98142ab8671b63ce329695a",
    "order_count": 0,
    "time": "2020-07-11T02:41:52.028Z",
    "type": "executeCodeCell"
   },
   {
    "code": "nb = json.load(open(\"CarsDemo.ipynb\"))",
    "id": "2761f3ce1c9f44d9ba87e968b2ea85cf",
    "order_count": 1,
    "time": "2020-07-11T02:41:52.236Z",
    "type": "executeCodeCell"
   },
   {
    "code": "log = nb[\"metadata\"][\"history\"]",
    "id": "ec3736321c6d4607833d8dca032f7fff",
    "order_count": 2,
    "time": "2020-07-11T02:41:52.367Z",
    "type": "executeCodeCell"
   },
   {
    "id": "6e1ce3c6b98142ab8671b63ce329695a",
    "isPrintLuxWidget": false,
    "isPrintPandas": false,
    "time": "2020-07-11T02:41:52.709Z",
    "type": "completeCodeCell"
   },
   {
    "id": "6e1ce3c6b98142ab8671b63ce329695a",
    "isPrintLuxWidget": false,
    "isPrintPandas": false,
    "time": "2020-07-11T02:41:52.709Z",
    "type": "completeCodeCell"
   },
   {
    "id": "2761f3ce1c9f44d9ba87e968b2ea85cf",
    "isPrintLuxWidget": false,
    "isPrintPandas": false,
    "time": "2020-07-11T02:41:52.711Z",
    "type": "completeCodeCell"
   },
   {
    "id": "2761f3ce1c9f44d9ba87e968b2ea85cf",
    "isPrintLuxWidget": false,
    "isPrintPandas": false,
    "time": "2020-07-11T02:41:52.711Z",
    "type": "completeCodeCell"
   },
   {
    "time": "2020-07-11T02:41:52.716Z",
    "type": "kernelReady"
   },
   {
    "id": "ec3736321c6d4607833d8dca032f7fff",
    "isPrintLuxWidget": false,
    "isPrintPandas": false,
    "time": "2020-07-11T02:41:52.718Z",
    "type": "completeCodeCell"
   },
   {
    "time": "2020-07-11T02:41:52.721Z",
    "type": "kernelReady"
   },
   {
    "time": "2020-07-11T02:41:52.802Z",
    "type": "kernelReady"
   },
   {
    "code": "import pandas as pd",
    "id": "03e16b95dd2e449a8864ae766af43998",
    "order_count": 5,
    "time": "2020-07-11T02:41:53.722Z",
    "type": "executeCodeCell"
   },
   {
    "code": "df = pd.DataFrame(log)",
    "id": "aa28737cb99243478b249545fb49cb9a",
    "order_count": 6,
    "time": "2020-07-11T02:41:54.096Z",
    "type": "executeCodeCell"
   },
   {
    "id": "03e16b95dd2e449a8864ae766af43998",
    "isPrintLuxWidget": false,
    "isPrintPandas": false,
    "time": "2020-07-11T02:41:54.109Z",
    "type": "completeCodeCell"
   },
   {
    "id": "aa28737cb99243478b249545fb49cb9a",
    "isPrintLuxWidget": false,
    "isPrintPandas": false,
    "time": "2020-07-11T02:41:54.111Z",
    "type": "completeCodeCell"
   },
   {
    "code": "df[\"time\"] = pd.to_datetime(df[\"time\"])",
    "id": "890b21c0c37942cb8c4a49b77fe4cec7",
    "order_count": 7,
    "time": "2020-07-11T02:41:54.673Z",
    "type": "executeCodeCell"
   },
   {
    "id": "890b21c0c37942cb8c4a49b77fe4cec7",
    "isPrintLuxWidget": false,
    "isPrintPandas": false,
    "time": "2020-07-11T02:41:54.692Z",
    "type": "completeCodeCell"
   },
   {
    "code": "subset1 = df[(df[\"type\"]==\"executeCodeCell\")|(df[\"type\"]==\"completeCodeCell\")]\nsubset1.loc[:,\"queryFormulationTime\"] = subset.groupby(\"id\")[\"time\"].diff()",
    "id": "08d90942f20146918d52c45dee7217c4",
    "order_count": 8,
    "time": "2020-07-11T02:41:57.106Z",
    "type": "executeCodeCell"
   },
   {
    "id": "08d90942f20146918d52c45dee7217c4",
    "isPrintLuxWidget": false,
    "isPrintPandas": false,
    "time": "2020-07-11T02:41:57.222Z",
    "type": "completeCodeCell"
   },
   {
    "code": "subset1 = df[(df[\"type\"]==\"executeCodeCell\")|(df[\"type\"]==\"completeCodeCell\")]\nsubset1.loc[:,\"queryFormulationTime\"] = subset.groupby(\"id\")[\"time\"].diff()",
    "id": "08d90942f20146918d52c45dee7217c4",
    "order_count": 8,
    "time": "2020-07-11T02:42:01.156Z",
    "type": "editCodeCell"
   },
   {
    "code": "subset1 = df[(df[\"type\"]==\"executeCodeCell\")|(df[\"type\"]==\"completeCodeCell\")]\nsubset1.loc[:,\"queryFormulationTime\"] = subset1.groupby(\"id\")[\"time\"].diff()",
    "id": "08d90942f20146918d52c45dee7217c4",
    "order_count": 8,
    "time": "2020-07-11T02:42:04.809Z",
    "type": "executeCodeCell"
   },
   {
    "code": "subset1 = df[(df[\"type\"]==\"executeCodeCell\")|(df[\"type\"]==\"completeCodeCell\")]\nsubset1.loc[:,\"queryFormulationTime\"] = subset1.groupby(\"id\")[\"time\"].diff()",
    "id": "08d90942f20146918d52c45dee7217c4",
    "order_count": 8,
    "time": "2020-07-11T02:42:04.810Z",
    "type": "selectCodeCell"
   },
   {
    "id": "08d90942f20146918d52c45dee7217c4",
    "isPrintLuxWidget": false,
    "isPrintPandas": false,
    "time": "2020-07-11T02:42:04.848Z",
    "type": "completeCodeCell"
   },
   {
    "code": "subset2 = df[(df[\"type\"]==\"executeCodeCell\")|(df[\"type\"]==\"completeCodeCell\")]\nsubset2.loc[:,\"codeExecutionTime\"] = subset.groupby(\"id\")[\"time\"].diff()",
    "id": "215c8d0ddd8f49ad8762ef98851b75e9",
    "order_count": 9,
    "time": "2020-07-11T02:42:09.657Z",
    "type": "editCodeCell"
   },
   {
    "code": "subset2 = df[(df[\"type\"]==\"executeCodeCell\")|(df[\"type\"]==\"completeCodeCell\")]\nsubset2.loc[:,\"codeExecutionTime\"] = subset2.groupby(\"id\")[\"time\"].diff()",
    "id": "215c8d0ddd8f49ad8762ef98851b75e9",
    "order_count": 9,
    "time": "2020-07-11T02:42:11.052Z",
    "type": "executeCodeCell"
   },
   {
    "code": "subset2 = df[(df[\"type\"]==\"executeCodeCell\")|(df[\"type\"]==\"completeCodeCell\")]\nsubset2.loc[:,\"codeExecutionTime\"] = subset2.groupby(\"id\")[\"time\"].diff()",
    "id": "215c8d0ddd8f49ad8762ef98851b75e9",
    "order_count": 9,
    "time": "2020-07-11T02:42:11.053Z",
    "type": "selectCodeCell"
   },
   {
    "id": "215c8d0ddd8f49ad8762ef98851b75e9",
    "isPrintLuxWidget": false,
    "isPrintPandas": false,
    "time": "2020-07-11T02:42:11.078Z",
    "type": "completeCodeCell"
   },
   {
    "code": "",
    "id": "6aafec87b1cc42eb8646e9fe73aca885",
    "order_count": 10,
    "time": "2020-07-11T02:42:13.061Z",
    "type": "editCodeCell"
   },
   {
    "code": "subset2",
    "id": "6aafec87b1cc42eb8646e9fe73aca885",
    "order_count": 10,
    "time": "2020-07-11T02:42:14.759Z",
    "type": "executeCodeCell"
   },
   {
    "code": "subset2",
    "id": "6aafec87b1cc42eb8646e9fe73aca885",
    "order_count": 10,
    "time": "2020-07-11T02:42:14.759Z",
    "type": "selectCodeCell"
   },
   {
    "id": "6aafec87b1cc42eb8646e9fe73aca885",
    "isPrintLuxWidget": false,
    "isPrintPandas": true,
    "time": "2020-07-11T02:42:14.806Z",
    "type": "completeCodeCell"
   },
   {
    "code": "subset2",
    "id": "6aafec87b1cc42eb8646e9fe73aca885",
    "order_count": null,
    "time": "2020-07-11T02:42:40.267Z",
    "type": "deleteCodeCell"
   },
   {
    "code": "codeCellsubset=pd.concat([subset1,subset2])",
    "id": "704b70a82a48442183ee0e5e4cddac9a",
    "order_count": 10,
    "time": "2020-07-11T02:42:41.218Z",
    "type": "editCodeCell"
   },
   {
    "code": "codeCellsubset=pd.concat([subset1,subset2])",
    "id": "704b70a82a48442183ee0e5e4cddac9a",
    "order_count": 10,
    "time": "2020-07-11T02:42:42.328Z",
    "type": "executeCodeCell"
   },
   {
    "code": "codeCellsubset=pd.concat([subset1,subset2])",
    "id": "704b70a82a48442183ee0e5e4cddac9a",
    "order_count": 10,
    "time": "2020-07-11T02:42:42.329Z",
    "type": "selectCodeCell"
   },
   {
    "id": "704b70a82a48442183ee0e5e4cddac9a",
    "isPrintLuxWidget": false,
    "isPrintPandas": false,
    "time": "2020-07-11T02:42:42.360Z",
    "type": "completeCodeCell"
   },
   {
    "code": "codeCellsubset.groupby('id').first()",
    "id": "00a1b821f8e9481182407e884bf59e5b",
    "order_count": 11,
    "time": "2020-07-11T02:42:42.589Z",
    "type": "executeCodeCell"
   },
   {
    "id": "00a1b821f8e9481182407e884bf59e5b",
    "isPrintLuxWidget": false,
    "isPrintPandas": true,
    "time": "2020-07-11T02:42:42.614Z",
    "type": "completeCodeCell"
   },
   {
    "code": "subset1 = df[(df[\"type\"]==\"executeCodeCell\")|(df[\"type\"]==\"completeCodeCell\")]\nsubset1.loc[:,\"queryFormulationTime\"] = subset1.groupby(\"id\")[\"time\"].diff()",
    "id": "08d90942f20146918d52c45dee7217c4",
    "order_count": 8,
    "time": "2020-07-11T02:45:52.481Z",
    "type": "editCodeCell"
   },
   {
    "code": "subset1 = df[(df[\"type\"]==\"editCodeCell\")|(df[\"type\"]==\"completeCodeCell\")]\nsubset1.loc[:,\"queryFormulationTime\"] = subset1.groupby(\"id\")[\"time\"].diff()",
    "id": "08d90942f20146918d52c45dee7217c4",
    "order_count": 8,
    "time": "2020-07-11T02:45:58.485Z",
    "type": "executeCodeCell"
   },
   {
    "code": "subset1 = df[(df[\"type\"]==\"editCodeCell\")|(df[\"type\"]==\"completeCodeCell\")]\nsubset1.loc[:,\"queryFormulationTime\"] = subset1.groupby(\"id\")[\"time\"].diff()",
    "id": "08d90942f20146918d52c45dee7217c4",
    "order_count": 8,
    "time": "2020-07-11T02:45:58.486Z",
    "type": "selectCodeCell"
   },
   {
    "id": "08d90942f20146918d52c45dee7217c4",
    "isPrintLuxWidget": false,
    "isPrintPandas": false,
    "time": "2020-07-11T02:45:58.521Z",
    "type": "completeCodeCell"
   },
   {
    "code": "subset2 = df[(df[\"type\"]==\"executeCodeCell\")|(df[\"type\"]==\"completeCodeCell\")]\nsubset2.loc[:,\"codeExecutionTime\"] = subset2.groupby(\"id\")[\"time\"].diff()",
    "id": "215c8d0ddd8f49ad8762ef98851b75e9",
    "order_count": 9,
    "time": "2020-07-11T02:45:59.060Z",
    "type": "executeCodeCell"
   },
   {
    "id": "215c8d0ddd8f49ad8762ef98851b75e9",
    "isPrintLuxWidget": false,
    "isPrintPandas": false,
    "time": "2020-07-11T02:45:59.078Z",
    "type": "completeCodeCell"
   },
   {
    "code": "codeCellsubset=pd.concat([subset1,subset2])",
    "id": "704b70a82a48442183ee0e5e4cddac9a",
    "order_count": 10,
    "time": "2020-07-11T02:45:59.675Z",
    "type": "executeCodeCell"
   },
   {
    "id": "704b70a82a48442183ee0e5e4cddac9a",
    "isPrintLuxWidget": false,
    "isPrintPandas": false,
    "time": "2020-07-11T02:45:59.693Z",
    "type": "completeCodeCell"
   },
   {
    "code": "codeCellsubset.groupby('id').first()",
    "id": "00a1b821f8e9481182407e884bf59e5b",
    "order_count": 11,
    "time": "2020-07-11T02:46:00.182Z",
    "type": "executeCodeCell"
   },
   {
    "id": "00a1b821f8e9481182407e884bf59e5b",
    "isPrintLuxWidget": false,
    "isPrintPandas": true,
    "time": "2020-07-11T02:46:00.218Z",
    "type": "completeCodeCell"
   },
   {
    "code": "codeCellsubset.groupby('id').first()",
    "id": "00a1b821f8e9481182407e884bf59e5b",
    "order_count": 11,
    "time": "2020-07-11T02:46:33.405Z",
    "type": "editCodeCell"
   },
   {
    "code": "codeCellsubset.groupby('id').first()",
    "id": "00a1b821f8e9481182407e884bf59e5b",
    "order_count": 11,
    "time": "2020-07-11T02:46:37.781Z",
    "type": "selectCodeCell"
   },
   {
    "code": "",
    "id": "84422ca85d144d098c8f3ad52aa36f57",
    "order_count": 12,
    "time": "2020-07-11T02:46:38.665Z",
    "type": "editCodeCell"
   },
   {
    "code": "codeCellsubset.groupby('id').last()",
    "id": "84422ca85d144d098c8f3ad52aa36f57",
    "order_count": 12,
    "time": "2020-07-11T02:46:42.028Z",
    "type": "executeCodeCell"
   },
   {
    "code": "codeCellsubset.groupby('id').last()",
    "id": "84422ca85d144d098c8f3ad52aa36f57",
    "order_count": 12,
    "time": "2020-07-11T02:46:42.029Z",
    "type": "selectCodeCell"
   },
   {
    "id": "84422ca85d144d098c8f3ad52aa36f57",
    "isPrintLuxWidget": false,
    "isPrintPandas": true,
    "time": "2020-07-11T02:46:42.058Z",
    "type": "completeCodeCell"
   },
   {
    "code": "codeCellsubset.groupby('id').first()",
    "id": "00a1b821f8e9481182407e884bf59e5b",
    "order_count": null,
    "time": "2020-07-11T02:49:11.822Z",
    "type": "deleteCodeCell"
   },
   {
    "code": "subset1 = df[(df[\"type\"]==\"editCodeCell\")|(df[\"type\"]==\"completeCodeCell\")]\nsubset1.loc[:,\"queryFormulationTime\"] = subset1.groupby(\"id\")[\"time\"].diff()",
    "id": "08d90942f20146918d52c45dee7217c4",
    "order_count": 8,
    "time": "2020-07-11T02:50:24.216Z",
    "type": "editCodeCell"
   },
   {
    "code": "subset1 = df[(df[\"type\"]==\"editCodeCell\")|(df[\"type\"]==\"executeCodeCell\")]\nsubset1.loc[:,\"queryFormulationTime\"] = subset1.groupby(\"id\")[\"time\"].diff()",
    "id": "08d90942f20146918d52c45dee7217c4",
    "order_count": 8,
    "time": "2020-07-11T02:50:28.925Z",
    "type": "executeCodeCell"
   },
   {
    "code": "subset1 = df[(df[\"type\"]==\"editCodeCell\")|(df[\"type\"]==\"executeCodeCell\")]\nsubset1.loc[:,\"queryFormulationTime\"] = subset1.groupby(\"id\")[\"time\"].diff()",
    "id": "08d90942f20146918d52c45dee7217c4",
    "order_count": 8,
    "time": "2020-07-11T02:50:28.926Z",
    "type": "selectCodeCell"
   },
   {
    "id": "08d90942f20146918d52c45dee7217c4",
    "isPrintLuxWidget": false,
    "isPrintPandas": false,
    "time": "2020-07-11T02:50:28.956Z",
    "type": "completeCodeCell"
   },
   {
    "code": "subset2 = df[(df[\"type\"]==\"executeCodeCell\")|(df[\"type\"]==\"completeCodeCell\")]\nsubset2.loc[:,\"codeExecutionTime\"] = subset2.groupby(\"id\")[\"time\"].diff()",
    "id": "215c8d0ddd8f49ad8762ef98851b75e9",
    "order_count": 9,
    "time": "2020-07-11T02:50:32.048Z",
    "type": "executeCodeCell"
   },
   {
    "id": "215c8d0ddd8f49ad8762ef98851b75e9",
    "isPrintLuxWidget": false,
    "isPrintPandas": false,
    "time": "2020-07-11T02:50:32.063Z",
    "type": "completeCodeCell"
   },
   {
    "code": "codeCellsubset=pd.concat([subset1,subset2])",
    "id": "704b70a82a48442183ee0e5e4cddac9a",
    "order_count": 10,
    "time": "2020-07-11T02:50:32.539Z",
    "type": "executeCodeCell"
   },
   {
    "id": "704b70a82a48442183ee0e5e4cddac9a",
    "isPrintLuxWidget": false,
    "isPrintPandas": false,
    "time": "2020-07-11T02:50:32.559Z",
    "type": "completeCodeCell"
   },
   {
    "code": "codeCellsubset.groupby('id').last()",
    "id": "84422ca85d144d098c8f3ad52aa36f57",
    "order_count": 11,
    "time": "2020-07-11T02:50:32.980Z",
    "type": "executeCodeCell"
   },
   {
    "id": "84422ca85d144d098c8f3ad52aa36f57",
    "isPrintLuxWidget": false,
    "isPrintPandas": true,
    "time": "2020-07-11T02:50:33.006Z",
    "type": "completeCodeCell"
   },
   {
    "code": "codeCellsubset.groupby('id').last()",
    "id": "84422ca85d144d098c8f3ad52aa36f57",
    "order_count": 11,
    "time": "2020-07-11T03:32:41.515Z",
    "type": "editCodeCell"
   },
   {
    "code": "#cellEvents is a dataframe with edit/complete/execute Code Cell all merged as one event, with computed queryFormulationTime and codeExecutionTime\ncellEvents = codeCellsubset.groupby('id').last()",
    "id": "84422ca85d144d098c8f3ad52aa36f57",
    "order_count": 11,
    "time": "2020-07-11T03:34:27.980Z",
    "type": "executeCodeCell"
   },
   {
    "code": "#cellEvents is a dataframe with edit/complete/execute Code Cell all merged as one event, with computed queryFormulationTime and codeExecutionTime\ncellEvents = codeCellsubset.groupby('id').last()",
    "id": "84422ca85d144d098c8f3ad52aa36f57",
    "order_count": 11,
    "time": "2020-07-11T03:34:27.982Z",
    "type": "selectCodeCell"
   },
   {
    "id": "84422ca85d144d098c8f3ad52aa36f57",
    "isPrintLuxWidget": false,
    "isPrintPandas": false,
    "time": "2020-07-11T03:34:28.015Z",
    "type": "completeCodeCell"
   },
   {
    "code": "",
    "id": "ec2a90072e984334830dde6e24bddef9",
    "order_count": 12,
    "time": "2020-07-11T03:34:29.085Z",
    "type": "editCodeCell"
   },
   {
    "code": "cellEvents",
    "id": "ec2a90072e984334830dde6e24bddef9",
    "order_count": 12,
    "time": "2020-07-11T03:34:33.649Z",
    "type": "executeCodeCell"
   },
   {
    "code": "cellEvents",
    "id": "ec2a90072e984334830dde6e24bddef9",
    "order_count": 12,
    "time": "2020-07-11T03:34:33.650Z",
    "type": "selectCodeCell"
   },
   {
    "id": "ec2a90072e984334830dde6e24bddef9",
    "isPrintLuxWidget": false,
    "isPrintPandas": true,
    "time": "2020-07-11T03:34:33.681Z",
    "type": "completeCodeCell"
   },
   {
    "code": "df[\"execution_count\"].unique()",
    "id": "8550dc10d0874ef98c3ba23bb038e690",
    "order_count": 13,
    "time": "2020-07-11T03:34:52.180Z",
    "type": "editCodeCell"
   },
   {
    "code": "df[\"execution_count\"].unique()",
    "id": "8550dc10d0874ef98c3ba23bb038e690",
    "order_count": 13,
    "time": "2020-07-11T03:34:53.128Z",
    "type": "selectCodeCell"
   },
   {
    "code": "df[\"execution_count\"].unique()",
    "id": "8550dc10d0874ef98c3ba23bb038e690",
    "order_count": null,
    "time": "2020-07-11T03:34:55.623Z",
    "type": "deleteCodeCell"
   }
  ],
  "kernelspec": {
   "display_name": "Python 3",
   "language": "python",
   "name": "python3"
  },
  "language_info": {
   "codemirror_mode": {
    "name": "ipython",
    "version": 3
   },
   "file_extension": ".py",
   "mimetype": "text/x-python",
   "name": "python",
   "nbconvert_exporter": "python",
   "pygments_lexer": "ipython3",
   "version": "3.7.7"
  }
 },
 "nbformat": 4,
 "nbformat_minor": 4
}
