{
 "cells": [
  {
   "cell_type": "code",
   "execution_count": 1,
   "metadata": {},
   "outputs": [],
   "source": [
    "import json\n",
    "nb = json.load(open(\"CarsDemo.ipynb\"))\n",
    "log = nb[\"metadata\"][\"history\"]"
   ]
  },
  {
   "cell_type": "code",
   "execution_count": 2,
   "metadata": {},
   "outputs": [],
   "source": [
    "import pandas as pd\n",
    "df = pd.DataFrame(log)\n",
    "df[\"time\"] = pd.to_datetime(df[\"time\"])"
   ]
  },
  {
   "cell_type": "markdown",
   "metadata": {},
   "source": [
    "#### Merge editCodeCell, executeCodeCell and completeCodeCell into one based on id with 2 additional computed interval"
   ]
  },
  {
   "cell_type": "markdown",
   "metadata": {},
   "source": [
    "```\n",
    "queryFormulationTime = T(editCodeCell) - T(executeCodeCell)\n",
    "codeExecutionTime = T(completeCodeCell) - T(executeCodeCell)\n",
    "```"
   ]
  },
  {
   "cell_type": "code",
   "execution_count": 3,
   "metadata": {},
   "outputs": [
    {
     "name": "stderr",
     "output_type": "stream",
     "text": [
      "/Users/jerrysong/.local/lib/python3.7/site-packages/pandas/core/indexing.py:1596: SettingWithCopyWarning: \n",
      "A value is trying to be set on a copy of a slice from a DataFrame.\n",
      "Try using .loc[row_indexer,col_indexer] = value instead\n",
      "\n",
      "See the caveats in the documentation: https://pandas.pydata.org/pandas-docs/stable/user_guide/indexing.html#returning-a-view-versus-a-copy\n",
      "  self.obj[key] = _infer_fill_value(value)\n",
      "/Users/jerrysong/.local/lib/python3.7/site-packages/pandas/core/indexing.py:1745: SettingWithCopyWarning: \n",
      "A value is trying to be set on a copy of a slice from a DataFrame.\n",
      "Try using .loc[row_indexer,col_indexer] = value instead\n",
      "\n",
      "See the caveats in the documentation: https://pandas.pydata.org/pandas-docs/stable/user_guide/indexing.html#returning-a-view-versus-a-copy\n",
      "  isetter(ilocs[0], value)\n"
     ]
    }
   ],
   "source": [
    "subset1 = df[(df[\"type\"]==\"editCodeCell\")|(df[\"type\"]==\"executeCodeCell\")]\n",
    "subset1.loc[:,\"queryFormulationTime\"] = subset1.groupby([\"id\"])[\"time\"].diff()"
   ]
  },
  {
   "cell_type": "code",
   "execution_count": 4,
   "metadata": {},
   "outputs": [],
   "source": [
    "subset2 = df[(df[\"type\"]==\"executeCodeCell\")|(df[\"type\"]==\"completeCodeCell\")]\n",
    "subset2.loc[:,\"codeExecutionTime\"] = subset2.groupby([\"id\"])[\"time\"].diff()"
   ]
  },
  {
   "cell_type": "code",
   "execution_count": 5,
   "metadata": {},
   "outputs": [],
   "source": [
    "codeCellsubset=pd.concat([subset1,subset2])"
   ]
  },
  {
   "cell_type": "code",
   "execution_count": 6,
   "metadata": {},
   "outputs": [
    {
     "data": {
      "text/html": [
       "<div>\n",
       "<style scoped>\n",
       "    .dataframe tbody tr th:only-of-type {\n",
       "        vertical-align: middle;\n",
       "    }\n",
       "\n",
       "    .dataframe tbody tr th {\n",
       "        vertical-align: top;\n",
       "    }\n",
       "\n",
       "    .dataframe thead th {\n",
       "        text-align: right;\n",
       "    }\n",
       "</style>\n",
       "<table border=\"1\" class=\"dataframe\">\n",
       "  <thead>\n",
       "    <tr style=\"text-align: right;\">\n",
       "      <th></th>\n",
       "      <th>code</th>\n",
       "      <th>id</th>\n",
       "      <th>order_count</th>\n",
       "      <th>time</th>\n",
       "      <th>type</th>\n",
       "      <th>isPrintLuxDf</th>\n",
       "      <th>isPrintPandasDf</th>\n",
       "      <th>isPrintVis</th>\n",
       "      <th>isPrintVisCollection</th>\n",
       "      <th>param</th>\n",
       "      <th>queryFormulationTime</th>\n",
       "      <th>codeExecutionTime</th>\n",
       "    </tr>\n",
       "  </thead>\n",
       "  <tbody>\n",
       "  </tbody>\n",
       "</table>\n",
       "</div>"
      ],
      "text/plain": [
       "Empty DataFrame\n",
       "Columns: [code, id, order_count, time, type, isPrintLuxDf, isPrintPandasDf, isPrintVis, isPrintVisCollection, param, queryFormulationTime, codeExecutionTime]\n",
       "Index: []"
      ]
     },
     "execution_count": 6,
     "metadata": {},
     "output_type": "execute_result"
    }
   ],
   "source": [
    "codeCellsubset[codeCellsubset[\"id\"]==\"b244c5509aa44ae9a534c03b8ea3accc\"]"
   ]
  },
  {
   "cell_type": "code",
   "execution_count": 7,
   "metadata": {},
   "outputs": [],
   "source": [
    "import numpy as np"
   ]
  },
  {
   "cell_type": "code",
   "execution_count": 8,
   "metadata": {},
   "outputs": [],
   "source": [
    "#cellEvents is a dataframe with edit/complete/execute Code Cell all merged as one event, with computed queryFormulationTime and codeExecutionTime\n",
    "cellEvents = codeCellsubset.groupby(['id']).last()\n",
    "# cellEvents = cellEvents.reset_index()\n",
    "# cellEvents.type = \"CodeCellEvent\""
   ]
  },
  {
   "cell_type": "code",
   "execution_count": 9,
   "metadata": {},
   "outputs": [
    {
     "data": {
      "text/html": [
       "<div>\n",
       "<style scoped>\n",
       "    .dataframe tbody tr th:only-of-type {\n",
       "        vertical-align: middle;\n",
       "    }\n",
       "\n",
       "    .dataframe tbody tr th {\n",
       "        vertical-align: top;\n",
       "    }\n",
       "\n",
       "    .dataframe thead th {\n",
       "        text-align: right;\n",
       "    }\n",
       "</style>\n",
       "<table border=\"1\" class=\"dataframe\">\n",
       "  <thead>\n",
       "    <tr style=\"text-align: right;\">\n",
       "      <th></th>\n",
       "      <th>code</th>\n",
       "      <th>order_count</th>\n",
       "      <th>time</th>\n",
       "      <th>type</th>\n",
       "      <th>isPrintLuxDf</th>\n",
       "      <th>isPrintPandasDf</th>\n",
       "      <th>isPrintVis</th>\n",
       "      <th>isPrintVisCollection</th>\n",
       "      <th>param</th>\n",
       "      <th>queryFormulationTime</th>\n",
       "      <th>codeExecutionTime</th>\n",
       "    </tr>\n",
       "    <tr>\n",
       "      <th>id</th>\n",
       "      <th></th>\n",
       "      <th></th>\n",
       "      <th></th>\n",
       "      <th></th>\n",
       "      <th></th>\n",
       "      <th></th>\n",
       "      <th></th>\n",
       "      <th></th>\n",
       "      <th></th>\n",
       "      <th></th>\n",
       "      <th></th>\n",
       "    </tr>\n",
       "  </thead>\n",
       "  <tbody>\n",
       "    <tr>\n",
       "      <th>9a8b061260ab413e8efeab8ef6d32643</th>\n",
       "      <td>import pandas as pd\\nimport lux</td>\n",
       "      <td>0.0</td>\n",
       "      <td>2020-09-30 22:33:28.859000+00:00</td>\n",
       "      <td>completeCodeCell</td>\n",
       "      <td>False</td>\n",
       "      <td>False</td>\n",
       "      <td>False</td>\n",
       "      <td>False</td>\n",
       "      <td>NaN</td>\n",
       "      <td>0 days 00:00:01.492000</td>\n",
       "      <td>0 days 00:00:01.841000</td>\n",
       "    </tr>\n",
       "    <tr>\n",
       "      <th>ac02a6dbc4eb48a9834f215373f704e4</th>\n",
       "      <td>df = pd.read_csv(\"car.csv\")\\ndf[\"Year\"] = pd.t...</td>\n",
       "      <td>2.0</td>\n",
       "      <td>2020-09-30 22:33:28.919000+00:00</td>\n",
       "      <td>completeCodeCell</td>\n",
       "      <td>False</td>\n",
       "      <td>True</td>\n",
       "      <td>False</td>\n",
       "      <td>False</td>\n",
       "      <td>NaN</td>\n",
       "      <td>NaT</td>\n",
       "      <td>0 days 00:00:00.875000</td>\n",
       "    </tr>\n",
       "    <tr>\n",
       "      <th>a77846f07c284981a40a47af03f5ab93</th>\n",
       "      <td>df</td>\n",
       "      <td>3.0</td>\n",
       "      <td>2020-09-30 22:33:30.657000+00:00</td>\n",
       "      <td>completeCodeCell</td>\n",
       "      <td>False</td>\n",
       "      <td>True</td>\n",
       "      <td>False</td>\n",
       "      <td>False</td>\n",
       "      <td>NaN</td>\n",
       "      <td>NaT</td>\n",
       "      <td>0 days 00:00:02.091000</td>\n",
       "    </tr>\n",
       "    <tr>\n",
       "      <th>7069fbf8b6ec47c6a5945c4eb0108f75</th>\n",
       "      <td>df.default_display = \"lux\"</td>\n",
       "      <td>4.0</td>\n",
       "      <td>2020-09-30 22:33:30.658000+00:00</td>\n",
       "      <td>completeCodeCell</td>\n",
       "      <td>False</td>\n",
       "      <td>False</td>\n",
       "      <td>False</td>\n",
       "      <td>False</td>\n",
       "      <td>NaN</td>\n",
       "      <td>0 days 00:00:08.989000</td>\n",
       "      <td>0 days 00:00:01.527000</td>\n",
       "    </tr>\n",
       "    <tr>\n",
       "      <th>57e0a52e9bc549d587d9cb4c13c51916</th>\n",
       "      <td>df</td>\n",
       "      <td>5.0</td>\n",
       "      <td>2020-09-30 22:34:37.470000+00:00</td>\n",
       "      <td>completeCodeCell</td>\n",
       "      <td>True</td>\n",
       "      <td>False</td>\n",
       "      <td>False</td>\n",
       "      <td>False</td>\n",
       "      <td>NaN</td>\n",
       "      <td>0 days 00:00:01.088000</td>\n",
       "      <td>0 days 00:00:00.074000</td>\n",
       "    </tr>\n",
       "    <tr>\n",
       "      <th>7ffbe99fb5764378851ad5e10430c284</th>\n",
       "      <td>df.intent = [\"Acceleration\", \"Horsepower\"]\\ndf</td>\n",
       "      <td>7.0</td>\n",
       "      <td>2020-09-30 22:35:15.185000+00:00</td>\n",
       "      <td>completeCodeCell</td>\n",
       "      <td>True</td>\n",
       "      <td>False</td>\n",
       "      <td>False</td>\n",
       "      <td>False</td>\n",
       "      <td>NaN</td>\n",
       "      <td>NaT</td>\n",
       "      <td>0 days 00:00:00.507000</td>\n",
       "    </tr>\n",
       "    <tr>\n",
       "      <th>333ef87673ce474e8964ceef543804dd</th>\n",
       "      <td>df.exported</td>\n",
       "      <td>8.0</td>\n",
       "      <td>2020-09-30 22:35:51.741000+00:00</td>\n",
       "      <td>completeCodeCell</td>\n",
       "      <td>False</td>\n",
       "      <td>False</td>\n",
       "      <td>True</td>\n",
       "      <td>False</td>\n",
       "      <td>NaN</td>\n",
       "      <td>0 days 00:00:02.554000</td>\n",
       "      <td>0 days 00:00:00.060000</td>\n",
       "    </tr>\n",
       "    <tr>\n",
       "      <th>00be22f204ff4bfb939255305eadfead</th>\n",
       "      <td>vis = df.exported[0]\\nvis</td>\n",
       "      <td>9.0</td>\n",
       "      <td>2020-09-30 22:35:52.822000+00:00</td>\n",
       "      <td>completeCodeCell</td>\n",
       "      <td>False</td>\n",
       "      <td>False</td>\n",
       "      <td>True</td>\n",
       "      <td>False</td>\n",
       "      <td>NaN</td>\n",
       "      <td>NaT</td>\n",
       "      <td>0 days 00:00:00.054000</td>\n",
       "    </tr>\n",
       "    <tr>\n",
       "      <th>8de64689c9794b5484991d8758e96825</th>\n",
       "      <td>df.intent=[\"Origin\"]\\ndf</td>\n",
       "      <td>12.0</td>\n",
       "      <td>2020-09-30 22:37:08.832000+00:00</td>\n",
       "      <td>completeCodeCell</td>\n",
       "      <td>True</td>\n",
       "      <td>False</td>\n",
       "      <td>False</td>\n",
       "      <td>False</td>\n",
       "      <td>NaN</td>\n",
       "      <td>0 days 00:00:07.654000</td>\n",
       "      <td>0 days 00:00:00.755000</td>\n",
       "    </tr>\n",
       "    <tr>\n",
       "      <th>f4d06c009df94e128110e304aba2dc37</th>\n",
       "      <td>df.exported</td>\n",
       "      <td>13.0</td>\n",
       "      <td>2020-09-30 22:36:52.743000+00:00</td>\n",
       "      <td>completeCodeCell</td>\n",
       "      <td>False</td>\n",
       "      <td>False</td>\n",
       "      <td>True</td>\n",
       "      <td>False</td>\n",
       "      <td>NaN</td>\n",
       "      <td>0 days 00:00:00.660000</td>\n",
       "      <td>0 days 00:00:00.054000</td>\n",
       "    </tr>\n",
       "  </tbody>\n",
       "</table>\n",
       "</div>"
      ],
      "text/plain": [
       "                                                                               code  \\\n",
       "id                                                                                    \n",
       "9a8b061260ab413e8efeab8ef6d32643                    import pandas as pd\\nimport lux   \n",
       "ac02a6dbc4eb48a9834f215373f704e4  df = pd.read_csv(\"car.csv\")\\ndf[\"Year\"] = pd.t...   \n",
       "a77846f07c284981a40a47af03f5ab93                                                 df   \n",
       "7069fbf8b6ec47c6a5945c4eb0108f75                         df.default_display = \"lux\"   \n",
       "57e0a52e9bc549d587d9cb4c13c51916                                                 df   \n",
       "7ffbe99fb5764378851ad5e10430c284     df.intent = [\"Acceleration\", \"Horsepower\"]\\ndf   \n",
       "333ef87673ce474e8964ceef543804dd                                        df.exported   \n",
       "00be22f204ff4bfb939255305eadfead                         vis = df.exported[0]\\nvis    \n",
       "8de64689c9794b5484991d8758e96825                           df.intent=[\"Origin\"]\\ndf   \n",
       "f4d06c009df94e128110e304aba2dc37                                        df.exported   \n",
       "\n",
       "                                  order_count  \\\n",
       "id                                              \n",
       "9a8b061260ab413e8efeab8ef6d32643          0.0   \n",
       "ac02a6dbc4eb48a9834f215373f704e4          2.0   \n",
       "a77846f07c284981a40a47af03f5ab93          3.0   \n",
       "7069fbf8b6ec47c6a5945c4eb0108f75          4.0   \n",
       "57e0a52e9bc549d587d9cb4c13c51916          5.0   \n",
       "7ffbe99fb5764378851ad5e10430c284          7.0   \n",
       "333ef87673ce474e8964ceef543804dd          8.0   \n",
       "00be22f204ff4bfb939255305eadfead          9.0   \n",
       "8de64689c9794b5484991d8758e96825         12.0   \n",
       "f4d06c009df94e128110e304aba2dc37         13.0   \n",
       "\n",
       "                                                             time  \\\n",
       "id                                                                  \n",
       "9a8b061260ab413e8efeab8ef6d32643 2020-09-30 22:33:28.859000+00:00   \n",
       "ac02a6dbc4eb48a9834f215373f704e4 2020-09-30 22:33:28.919000+00:00   \n",
       "a77846f07c284981a40a47af03f5ab93 2020-09-30 22:33:30.657000+00:00   \n",
       "7069fbf8b6ec47c6a5945c4eb0108f75 2020-09-30 22:33:30.658000+00:00   \n",
       "57e0a52e9bc549d587d9cb4c13c51916 2020-09-30 22:34:37.470000+00:00   \n",
       "7ffbe99fb5764378851ad5e10430c284 2020-09-30 22:35:15.185000+00:00   \n",
       "333ef87673ce474e8964ceef543804dd 2020-09-30 22:35:51.741000+00:00   \n",
       "00be22f204ff4bfb939255305eadfead 2020-09-30 22:35:52.822000+00:00   \n",
       "8de64689c9794b5484991d8758e96825 2020-09-30 22:37:08.832000+00:00   \n",
       "f4d06c009df94e128110e304aba2dc37 2020-09-30 22:36:52.743000+00:00   \n",
       "\n",
       "                                              type  isPrintLuxDf  \\\n",
       "id                                                                 \n",
       "9a8b061260ab413e8efeab8ef6d32643  completeCodeCell         False   \n",
       "ac02a6dbc4eb48a9834f215373f704e4  completeCodeCell         False   \n",
       "a77846f07c284981a40a47af03f5ab93  completeCodeCell         False   \n",
       "7069fbf8b6ec47c6a5945c4eb0108f75  completeCodeCell         False   \n",
       "57e0a52e9bc549d587d9cb4c13c51916  completeCodeCell          True   \n",
       "7ffbe99fb5764378851ad5e10430c284  completeCodeCell          True   \n",
       "333ef87673ce474e8964ceef543804dd  completeCodeCell         False   \n",
       "00be22f204ff4bfb939255305eadfead  completeCodeCell         False   \n",
       "8de64689c9794b5484991d8758e96825  completeCodeCell          True   \n",
       "f4d06c009df94e128110e304aba2dc37  completeCodeCell         False   \n",
       "\n",
       "                                  isPrintPandasDf  isPrintVis  \\\n",
       "id                                                              \n",
       "9a8b061260ab413e8efeab8ef6d32643            False       False   \n",
       "ac02a6dbc4eb48a9834f215373f704e4             True       False   \n",
       "a77846f07c284981a40a47af03f5ab93             True       False   \n",
       "7069fbf8b6ec47c6a5945c4eb0108f75            False       False   \n",
       "57e0a52e9bc549d587d9cb4c13c51916            False       False   \n",
       "7ffbe99fb5764378851ad5e10430c284            False       False   \n",
       "333ef87673ce474e8964ceef543804dd            False        True   \n",
       "00be22f204ff4bfb939255305eadfead            False        True   \n",
       "8de64689c9794b5484991d8758e96825            False       False   \n",
       "f4d06c009df94e128110e304aba2dc37            False        True   \n",
       "\n",
       "                                  isPrintVisCollection  param  \\\n",
       "id                                                              \n",
       "9a8b061260ab413e8efeab8ef6d32643                 False    NaN   \n",
       "ac02a6dbc4eb48a9834f215373f704e4                 False    NaN   \n",
       "a77846f07c284981a40a47af03f5ab93                 False    NaN   \n",
       "7069fbf8b6ec47c6a5945c4eb0108f75                 False    NaN   \n",
       "57e0a52e9bc549d587d9cb4c13c51916                 False    NaN   \n",
       "7ffbe99fb5764378851ad5e10430c284                 False    NaN   \n",
       "333ef87673ce474e8964ceef543804dd                 False    NaN   \n",
       "00be22f204ff4bfb939255305eadfead                 False    NaN   \n",
       "8de64689c9794b5484991d8758e96825                 False    NaN   \n",
       "f4d06c009df94e128110e304aba2dc37                 False    NaN   \n",
       "\n",
       "                                   queryFormulationTime      codeExecutionTime  \n",
       "id                                                                              \n",
       "9a8b061260ab413e8efeab8ef6d32643 0 days 00:00:01.492000 0 days 00:00:01.841000  \n",
       "ac02a6dbc4eb48a9834f215373f704e4                    NaT 0 days 00:00:00.875000  \n",
       "a77846f07c284981a40a47af03f5ab93                    NaT 0 days 00:00:02.091000  \n",
       "7069fbf8b6ec47c6a5945c4eb0108f75 0 days 00:00:08.989000 0 days 00:00:01.527000  \n",
       "57e0a52e9bc549d587d9cb4c13c51916 0 days 00:00:01.088000 0 days 00:00:00.074000  \n",
       "7ffbe99fb5764378851ad5e10430c284                    NaT 0 days 00:00:00.507000  \n",
       "333ef87673ce474e8964ceef543804dd 0 days 00:00:02.554000 0 days 00:00:00.060000  \n",
       "00be22f204ff4bfb939255305eadfead                    NaT 0 days 00:00:00.054000  \n",
       "8de64689c9794b5484991d8758e96825 0 days 00:00:07.654000 0 days 00:00:00.755000  \n",
       "f4d06c009df94e128110e304aba2dc37 0 days 00:00:00.660000 0 days 00:00:00.054000  "
      ]
     },
     "execution_count": 9,
     "metadata": {},
     "output_type": "execute_result"
    }
   ],
   "source": [
    "cellEvents.sort_values('order_count')"
   ]
  },
  {
   "cell_type": "code",
   "execution_count": 10,
   "metadata": {},
   "outputs": [
    {
     "name": "stdout",
     "output_type": "stream",
     "text": [
      "Total number of dataframe prints: 2\n",
      "Total number of dataframe prints: 3\n"
     ]
    }
   ],
   "source": [
    "print (\"Total number of dataframe prints:\", sum(cellEvents[\"isPrintPandasDf\"]))\n",
    "print (\"Total number of dataframe prints:\", sum(cellEvents[\"isPrintLuxDf\"]))"
   ]
  },
  {
   "cell_type": "markdown",
   "metadata": {},
   "source": [
    "### Use `selectCodeCell` events to assign `id` and `order_count` to UI events"
   ]
  },
  {
   "cell_type": "code",
   "execution_count": 11,
   "metadata": {},
   "outputs": [],
   "source": [
    "UIevents = ['initWidget','switchTab', 'startScroll', 'stopScroll', \n",
    "       'toggleBtnClick', 'clickVis', 'exportBtnClick']"
   ]
  },
  {
   "cell_type": "code",
   "execution_count": 12,
   "metadata": {
    "scrolled": false
   },
   "outputs": [],
   "source": [
    "#fill forwards based on the values in the most recent `selectCodeCell` to infer the order_count and other information about which cell is interacted upon\n",
    "uiEventDf = df[df.type.isin(UIevents+['selectCodeCell'])].ffill() "
   ]
  },
  {
   "cell_type": "code",
   "execution_count": 13,
   "metadata": {},
   "outputs": [
    {
     "data": {
      "text/html": [
       "<div>\n",
       "<style scoped>\n",
       "    .dataframe tbody tr th:only-of-type {\n",
       "        vertical-align: middle;\n",
       "    }\n",
       "\n",
       "    .dataframe tbody tr th {\n",
       "        vertical-align: top;\n",
       "    }\n",
       "\n",
       "    .dataframe thead th {\n",
       "        text-align: right;\n",
       "    }\n",
       "</style>\n",
       "<table border=\"1\" class=\"dataframe\">\n",
       "  <thead>\n",
       "    <tr style=\"text-align: right;\">\n",
       "      <th></th>\n",
       "      <th>code</th>\n",
       "      <th>id</th>\n",
       "      <th>order_count</th>\n",
       "      <th>time</th>\n",
       "      <th>type</th>\n",
       "      <th>isPrintLuxDf</th>\n",
       "      <th>isPrintPandasDf</th>\n",
       "      <th>isPrintVis</th>\n",
       "      <th>isPrintVisCollection</th>\n",
       "      <th>param</th>\n",
       "    </tr>\n",
       "  </thead>\n",
       "  <tbody>\n",
       "    <tr>\n",
       "      <th>0</th>\n",
       "      <td>import pandas as pd\\nimport lux</td>\n",
       "      <td>9a8b061260ab413e8efeab8ef6d32643</td>\n",
       "      <td>0.0</td>\n",
       "      <td>2020-09-30 22:33:25.516000+00:00</td>\n",
       "      <td>selectCodeCell</td>\n",
       "      <td>NaN</td>\n",
       "      <td>NaN</td>\n",
       "      <td>NaN</td>\n",
       "      <td>NaN</td>\n",
       "      <td>NaN</td>\n",
       "    </tr>\n",
       "    <tr>\n",
       "      <th>4</th>\n",
       "      <td>df = pd.read_csv(\"car.csv\")\\ndf[\"Year\"] = pd.t...</td>\n",
       "      <td>ac02a6dbc4eb48a9834f215373f704e4</td>\n",
       "      <td>2.0</td>\n",
       "      <td>2020-09-30 22:33:27.574000+00:00</td>\n",
       "      <td>selectCodeCell</td>\n",
       "      <td>NaN</td>\n",
       "      <td>NaN</td>\n",
       "      <td>NaN</td>\n",
       "      <td>NaN</td>\n",
       "      <td>NaN</td>\n",
       "    </tr>\n",
       "    <tr>\n",
       "      <th>6</th>\n",
       "      <td>df</td>\n",
       "      <td>a77846f07c284981a40a47af03f5ab93</td>\n",
       "      <td>3.0</td>\n",
       "      <td>2020-09-30 22:33:28.061000+00:00</td>\n",
       "      <td>selectCodeCell</td>\n",
       "      <td>NaN</td>\n",
       "      <td>NaN</td>\n",
       "      <td>NaN</td>\n",
       "      <td>NaN</td>\n",
       "      <td>NaN</td>\n",
       "    </tr>\n",
       "    <tr>\n",
       "      <th>8</th>\n",
       "      <td>df.default_display = \"lux\"</td>\n",
       "      <td>7069fbf8b6ec47c6a5945c4eb0108f75</td>\n",
       "      <td>4.0</td>\n",
       "      <td>2020-09-30 22:33:28.587000+00:00</td>\n",
       "      <td>selectCodeCell</td>\n",
       "      <td>NaN</td>\n",
       "      <td>NaN</td>\n",
       "      <td>NaN</td>\n",
       "      <td>NaN</td>\n",
       "      <td>NaN</td>\n",
       "    </tr>\n",
       "    <tr>\n",
       "      <th>12</th>\n",
       "      <td>df</td>\n",
       "      <td>57e0a52e9bc549d587d9cb4c13c51916</td>\n",
       "      <td>5.0</td>\n",
       "      <td>2020-09-30 22:33:29.154000+00:00</td>\n",
       "      <td>selectCodeCell</td>\n",
       "      <td>NaN</td>\n",
       "      <td>NaN</td>\n",
       "      <td>NaN</td>\n",
       "      <td>NaN</td>\n",
       "      <td>NaN</td>\n",
       "    </tr>\n",
       "    <tr>\n",
       "      <th>...</th>\n",
       "      <td>...</td>\n",
       "      <td>...</td>\n",
       "      <td>...</td>\n",
       "      <td>...</td>\n",
       "      <td>...</td>\n",
       "      <td>...</td>\n",
       "      <td>...</td>\n",
       "      <td>...</td>\n",
       "      <td>...</td>\n",
       "      <td>...</td>\n",
       "    </tr>\n",
       "    <tr>\n",
       "      <th>211</th>\n",
       "      <td>df.exported</td>\n",
       "      <td>f4d06c009df94e128110e304aba2dc37</td>\n",
       "      <td>13.0</td>\n",
       "      <td>2020-09-30 22:37:08.102000+00:00</td>\n",
       "      <td>selectCodeCell</td>\n",
       "      <td>NaN</td>\n",
       "      <td>NaN</td>\n",
       "      <td>NaN</td>\n",
       "      <td>NaN</td>\n",
       "      <td></td>\n",
       "    </tr>\n",
       "    <tr>\n",
       "      <th>213</th>\n",
       "      <td>df.exported</td>\n",
       "      <td>f4d06c009df94e128110e304aba2dc37</td>\n",
       "      <td>13.0</td>\n",
       "      <td>2020-09-30 22:37:08.867000+00:00</td>\n",
       "      <td>initWidget</td>\n",
       "      <td>NaN</td>\n",
       "      <td>NaN</td>\n",
       "      <td>NaN</td>\n",
       "      <td>NaN</td>\n",
       "      <td></td>\n",
       "    </tr>\n",
       "    <tr>\n",
       "      <th>214</th>\n",
       "      <td>df.exported</td>\n",
       "      <td>f4d06c009df94e128110e304aba2dc37</td>\n",
       "      <td>13.0</td>\n",
       "      <td>2020-09-30 22:37:09.472000+00:00</td>\n",
       "      <td>initWidget</td>\n",
       "      <td>NaN</td>\n",
       "      <td>NaN</td>\n",
       "      <td>NaN</td>\n",
       "      <td>NaN</td>\n",
       "      <td></td>\n",
       "    </tr>\n",
       "    <tr>\n",
       "      <th>215</th>\n",
       "      <td>df.intent=[\"Origin\"]\\ndf</td>\n",
       "      <td>8de64689c9794b5484991d8758e96825</td>\n",
       "      <td>12.0</td>\n",
       "      <td>2020-09-30 22:37:11.157000+00:00</td>\n",
       "      <td>selectCodeCell</td>\n",
       "      <td>NaN</td>\n",
       "      <td>NaN</td>\n",
       "      <td>NaN</td>\n",
       "      <td>NaN</td>\n",
       "      <td></td>\n",
       "    </tr>\n",
       "    <tr>\n",
       "      <th>216</th>\n",
       "      <td>df.intent=[\"Origin\"]\\ndf</td>\n",
       "      <td>8de64689c9794b5484991d8758e96825</td>\n",
       "      <td>12.0</td>\n",
       "      <td>2020-09-30 22:37:11.159000+00:00</td>\n",
       "      <td>clickVis</td>\n",
       "      <td>NaN</td>\n",
       "      <td>NaN</td>\n",
       "      <td>NaN</td>\n",
       "      <td>NaN</td>\n",
       "      <td>{'index': 0, 'tabTitle': 'Enhance', 'vis': {'$...</td>\n",
       "    </tr>\n",
       "  </tbody>\n",
       "</table>\n",
       "<p>183 rows × 10 columns</p>\n",
       "</div>"
      ],
      "text/plain": [
       "                                                  code  \\\n",
       "0                      import pandas as pd\\nimport lux   \n",
       "4    df = pd.read_csv(\"car.csv\")\\ndf[\"Year\"] = pd.t...   \n",
       "6                                                   df   \n",
       "8                           df.default_display = \"lux\"   \n",
       "12                                                  df   \n",
       "..                                                 ...   \n",
       "211                                        df.exported   \n",
       "213                                        df.exported   \n",
       "214                                        df.exported   \n",
       "215                           df.intent=[\"Origin\"]\\ndf   \n",
       "216                           df.intent=[\"Origin\"]\\ndf   \n",
       "\n",
       "                                   id  order_count  \\\n",
       "0    9a8b061260ab413e8efeab8ef6d32643          0.0   \n",
       "4    ac02a6dbc4eb48a9834f215373f704e4          2.0   \n",
       "6    a77846f07c284981a40a47af03f5ab93          3.0   \n",
       "8    7069fbf8b6ec47c6a5945c4eb0108f75          4.0   \n",
       "12   57e0a52e9bc549d587d9cb4c13c51916          5.0   \n",
       "..                                ...          ...   \n",
       "211  f4d06c009df94e128110e304aba2dc37         13.0   \n",
       "213  f4d06c009df94e128110e304aba2dc37         13.0   \n",
       "214  f4d06c009df94e128110e304aba2dc37         13.0   \n",
       "215  8de64689c9794b5484991d8758e96825         12.0   \n",
       "216  8de64689c9794b5484991d8758e96825         12.0   \n",
       "\n",
       "                                time            type  isPrintLuxDf  \\\n",
       "0   2020-09-30 22:33:25.516000+00:00  selectCodeCell           NaN   \n",
       "4   2020-09-30 22:33:27.574000+00:00  selectCodeCell           NaN   \n",
       "6   2020-09-30 22:33:28.061000+00:00  selectCodeCell           NaN   \n",
       "8   2020-09-30 22:33:28.587000+00:00  selectCodeCell           NaN   \n",
       "12  2020-09-30 22:33:29.154000+00:00  selectCodeCell           NaN   \n",
       "..                               ...             ...           ...   \n",
       "211 2020-09-30 22:37:08.102000+00:00  selectCodeCell           NaN   \n",
       "213 2020-09-30 22:37:08.867000+00:00      initWidget           NaN   \n",
       "214 2020-09-30 22:37:09.472000+00:00      initWidget           NaN   \n",
       "215 2020-09-30 22:37:11.157000+00:00  selectCodeCell           NaN   \n",
       "216 2020-09-30 22:37:11.159000+00:00        clickVis           NaN   \n",
       "\n",
       "     isPrintPandasDf  isPrintVis  isPrintVisCollection  \\\n",
       "0                NaN         NaN                   NaN   \n",
       "4                NaN         NaN                   NaN   \n",
       "6                NaN         NaN                   NaN   \n",
       "8                NaN         NaN                   NaN   \n",
       "12               NaN         NaN                   NaN   \n",
       "..               ...         ...                   ...   \n",
       "211              NaN         NaN                   NaN   \n",
       "213              NaN         NaN                   NaN   \n",
       "214              NaN         NaN                   NaN   \n",
       "215              NaN         NaN                   NaN   \n",
       "216              NaN         NaN                   NaN   \n",
       "\n",
       "                                                 param  \n",
       "0                                                  NaN  \n",
       "4                                                  NaN  \n",
       "6                                                  NaN  \n",
       "8                                                  NaN  \n",
       "12                                                 NaN  \n",
       "..                                                 ...  \n",
       "211                                                     \n",
       "213                                                     \n",
       "214                                                     \n",
       "215                                                     \n",
       "216  {'index': 0, 'tabTitle': 'Enhance', 'vis': {'$...  \n",
       "\n",
       "[183 rows x 10 columns]"
      ]
     },
     "execution_count": 13,
     "metadata": {},
     "output_type": "execute_result"
    }
   ],
   "source": [
    "uiEventDf"
   ]
  },
  {
   "cell_type": "markdown",
   "metadata": {},
   "source": [
    "### Number of Times Lux Widget is initialized"
   ]
  },
  {
   "cell_type": "code",
   "execution_count": 14,
   "metadata": {},
   "outputs": [],
   "source": [
    "init = uiEventDf[uiEventDf[\"type\"]=='initWidget']"
   ]
  },
  {
   "cell_type": "code",
   "execution_count": 15,
   "metadata": {},
   "outputs": [],
   "source": [
    "def filter_df_by_delta(df, timeDelta):\n",
    "    return df[df.time.diff()<timeDelta]"
   ]
  },
  {
   "cell_type": "code",
   "execution_count": 16,
   "metadata": {},
   "outputs": [],
   "source": [
    "init =  filter_df_by_delta(init,\"00:00:00.5\")"
   ]
  },
  {
   "cell_type": "code",
   "execution_count": 17,
   "metadata": {},
   "outputs": [
    {
     "data": {
      "text/html": [
       "<div>\n",
       "<style scoped>\n",
       "    .dataframe tbody tr th:only-of-type {\n",
       "        vertical-align: middle;\n",
       "    }\n",
       "\n",
       "    .dataframe tbody tr th {\n",
       "        vertical-align: top;\n",
       "    }\n",
       "\n",
       "    .dataframe thead th {\n",
       "        text-align: right;\n",
       "    }\n",
       "</style>\n",
       "<table border=\"1\" class=\"dataframe\">\n",
       "  <thead>\n",
       "    <tr style=\"text-align: right;\">\n",
       "      <th></th>\n",
       "      <th>code</th>\n",
       "      <th>id</th>\n",
       "      <th>order_count</th>\n",
       "      <th>time</th>\n",
       "      <th>type</th>\n",
       "      <th>isPrintLuxDf</th>\n",
       "      <th>isPrintPandasDf</th>\n",
       "      <th>isPrintVis</th>\n",
       "      <th>isPrintVisCollection</th>\n",
       "      <th>param</th>\n",
       "    </tr>\n",
       "  </thead>\n",
       "  <tbody>\n",
       "  </tbody>\n",
       "</table>\n",
       "</div>"
      ],
      "text/plain": [
       "Empty DataFrame\n",
       "Columns: [code, id, order_count, time, type, isPrintLuxDf, isPrintPandasDf, isPrintVis, isPrintVisCollection, param]\n",
       "Index: []"
      ]
     },
     "execution_count": 17,
     "metadata": {},
     "output_type": "execute_result"
    }
   ],
   "source": [
    "init"
   ]
  },
  {
   "cell_type": "markdown",
   "metadata": {},
   "source": [
    "### Number of Times Toggle to Lux v.s. to Pandas"
   ]
  },
  {
   "cell_type": "code",
   "execution_count": 18,
   "metadata": {},
   "outputs": [],
   "source": [
    "toggle = uiEventDf[uiEventDf[\"type\"]=='toggleBtnClick']\n",
    "toggle = filter_df_by_delta(toggle,\"00:00:00.01\")"
   ]
  },
  {
   "cell_type": "code",
   "execution_count": 19,
   "metadata": {},
   "outputs": [
    {
     "data": {
      "text/html": [
       "<div>\n",
       "<style scoped>\n",
       "    .dataframe tbody tr th:only-of-type {\n",
       "        vertical-align: middle;\n",
       "    }\n",
       "\n",
       "    .dataframe tbody tr th {\n",
       "        vertical-align: top;\n",
       "    }\n",
       "\n",
       "    .dataframe thead th {\n",
       "        text-align: right;\n",
       "    }\n",
       "</style>\n",
       "<table border=\"1\" class=\"dataframe\">\n",
       "  <thead>\n",
       "    <tr style=\"text-align: right;\">\n",
       "      <th></th>\n",
       "      <th>code</th>\n",
       "      <th>id</th>\n",
       "      <th>order_count</th>\n",
       "      <th>time</th>\n",
       "      <th>type</th>\n",
       "      <th>isPrintLuxDf</th>\n",
       "      <th>isPrintPandasDf</th>\n",
       "      <th>isPrintVis</th>\n",
       "      <th>isPrintVisCollection</th>\n",
       "      <th>param</th>\n",
       "    </tr>\n",
       "  </thead>\n",
       "  <tbody>\n",
       "  </tbody>\n",
       "</table>\n",
       "</div>"
      ],
      "text/plain": [
       "Empty DataFrame\n",
       "Columns: [code, id, order_count, time, type, isPrintLuxDf, isPrintPandasDf, isPrintVis, isPrintVisCollection, param]\n",
       "Index: []"
      ]
     },
     "execution_count": 19,
     "metadata": {},
     "output_type": "execute_result"
    }
   ],
   "source": [
    "toggle"
   ]
  },
  {
   "cell_type": "code",
   "execution_count": 20,
   "metadata": {},
   "outputs": [
    {
     "name": "stdout",
     "output_type": "stream",
     "text": [
      "Series([], Name: param, dtype: object)\n"
     ]
    }
   ],
   "source": [
    "print (toggle.param)"
   ]
  },
  {
   "cell_type": "markdown",
   "metadata": {},
   "source": [
    "### Interactions with Tabs and Scroll"
   ]
  },
  {
   "cell_type": "code",
   "execution_count": 21,
   "metadata": {},
   "outputs": [
    {
     "data": {
      "text/html": [
       "<div>\n",
       "<style scoped>\n",
       "    .dataframe tbody tr th:only-of-type {\n",
       "        vertical-align: middle;\n",
       "    }\n",
       "\n",
       "    .dataframe tbody tr th {\n",
       "        vertical-align: top;\n",
       "    }\n",
       "\n",
       "    .dataframe thead th {\n",
       "        text-align: right;\n",
       "    }\n",
       "</style>\n",
       "<table border=\"1\" class=\"dataframe\">\n",
       "  <thead>\n",
       "    <tr style=\"text-align: right;\">\n",
       "      <th></th>\n",
       "      <th>code</th>\n",
       "      <th>id</th>\n",
       "      <th>order_count</th>\n",
       "      <th>time</th>\n",
       "      <th>type</th>\n",
       "      <th>isPrintLuxDf</th>\n",
       "      <th>isPrintPandasDf</th>\n",
       "      <th>isPrintVis</th>\n",
       "      <th>isPrintVisCollection</th>\n",
       "      <th>param</th>\n",
       "    </tr>\n",
       "  </thead>\n",
       "  <tbody>\n",
       "    <tr>\n",
       "      <th>19</th>\n",
       "      <td>df</td>\n",
       "      <td>a77846f07c284981a40a47af03f5ab93</td>\n",
       "      <td>3.0</td>\n",
       "      <td>2020-09-30 22:33:47.487000+00:00</td>\n",
       "      <td>switchTab</td>\n",
       "      <td>NaN</td>\n",
       "      <td>NaN</td>\n",
       "      <td>NaN</td>\n",
       "      <td>NaN</td>\n",
       "      <td>Temporal</td>\n",
       "    </tr>\n",
       "    <tr>\n",
       "      <th>21</th>\n",
       "      <td>df</td>\n",
       "      <td>a77846f07c284981a40a47af03f5ab93</td>\n",
       "      <td>3.0</td>\n",
       "      <td>2020-09-30 22:33:48.436000+00:00</td>\n",
       "      <td>switchTab</td>\n",
       "      <td>NaN</td>\n",
       "      <td>NaN</td>\n",
       "      <td>NaN</td>\n",
       "      <td>NaN</td>\n",
       "      <td>Occurrence</td>\n",
       "    </tr>\n",
       "    <tr>\n",
       "      <th>23</th>\n",
       "      <td>df</td>\n",
       "      <td>a77846f07c284981a40a47af03f5ab93</td>\n",
       "      <td>3.0</td>\n",
       "      <td>2020-09-30 22:33:54.636000+00:00</td>\n",
       "      <td>switchTab</td>\n",
       "      <td>NaN</td>\n",
       "      <td>NaN</td>\n",
       "      <td>NaN</td>\n",
       "      <td>NaN</td>\n",
       "      <td>Correlation</td>\n",
       "    </tr>\n",
       "    <tr>\n",
       "      <th>94</th>\n",
       "      <td>df</td>\n",
       "      <td>a77846f07c284981a40a47af03f5ab93</td>\n",
       "      <td>3.0</td>\n",
       "      <td>2020-09-30 22:34:21.477000+00:00</td>\n",
       "      <td>switchTab</td>\n",
       "      <td>NaN</td>\n",
       "      <td>NaN</td>\n",
       "      <td>NaN</td>\n",
       "      <td>NaN</td>\n",
       "      <td>Distribution</td>\n",
       "    </tr>\n",
       "    <tr>\n",
       "      <th>116</th>\n",
       "      <td>df.intent = [\"Acceleration\", \"Horsepower\"]\\ndf</td>\n",
       "      <td>7ffbe99fb5764378851ad5e10430c284</td>\n",
       "      <td>7.0</td>\n",
       "      <td>2020-09-30 22:35:21.946000+00:00</td>\n",
       "      <td>switchTab</td>\n",
       "      <td>NaN</td>\n",
       "      <td>NaN</td>\n",
       "      <td>NaN</td>\n",
       "      <td>NaN</td>\n",
       "      <td>Filter</td>\n",
       "    </tr>\n",
       "    <tr>\n",
       "      <th>118</th>\n",
       "      <td>df.intent = [\"Acceleration\", \"Horsepower\"]\\ndf</td>\n",
       "      <td>7ffbe99fb5764378851ad5e10430c284</td>\n",
       "      <td>7.0</td>\n",
       "      <td>2020-09-30 22:35:22.059000+00:00</td>\n",
       "      <td>switchTab</td>\n",
       "      <td>NaN</td>\n",
       "      <td>NaN</td>\n",
       "      <td>NaN</td>\n",
       "      <td>NaN</td>\n",
       "      <td>Filter</td>\n",
       "    </tr>\n",
       "    <tr>\n",
       "      <th>120</th>\n",
       "      <td>df.intent = [\"Acceleration\", \"Horsepower\"]\\ndf</td>\n",
       "      <td>7ffbe99fb5764378851ad5e10430c284</td>\n",
       "      <td>7.0</td>\n",
       "      <td>2020-09-30 22:35:23.763000+00:00</td>\n",
       "      <td>switchTab</td>\n",
       "      <td>NaN</td>\n",
       "      <td>NaN</td>\n",
       "      <td>NaN</td>\n",
       "      <td>NaN</td>\n",
       "      <td>Generalize</td>\n",
       "    </tr>\n",
       "    <tr>\n",
       "      <th>122</th>\n",
       "      <td>df.intent = [\"Acceleration\", \"Horsepower\"]\\ndf</td>\n",
       "      <td>7ffbe99fb5764378851ad5e10430c284</td>\n",
       "      <td>7.0</td>\n",
       "      <td>2020-09-30 22:35:24.642000+00:00</td>\n",
       "      <td>switchTab</td>\n",
       "      <td>NaN</td>\n",
       "      <td>NaN</td>\n",
       "      <td>NaN</td>\n",
       "      <td>NaN</td>\n",
       "      <td>Enhance</td>\n",
       "    </tr>\n",
       "  </tbody>\n",
       "</table>\n",
       "</div>"
      ],
      "text/plain": [
       "                                               code  \\\n",
       "19                                               df   \n",
       "21                                               df   \n",
       "23                                               df   \n",
       "94                                               df   \n",
       "116  df.intent = [\"Acceleration\", \"Horsepower\"]\\ndf   \n",
       "118  df.intent = [\"Acceleration\", \"Horsepower\"]\\ndf   \n",
       "120  df.intent = [\"Acceleration\", \"Horsepower\"]\\ndf   \n",
       "122  df.intent = [\"Acceleration\", \"Horsepower\"]\\ndf   \n",
       "\n",
       "                                   id  order_count  \\\n",
       "19   a77846f07c284981a40a47af03f5ab93          3.0   \n",
       "21   a77846f07c284981a40a47af03f5ab93          3.0   \n",
       "23   a77846f07c284981a40a47af03f5ab93          3.0   \n",
       "94   a77846f07c284981a40a47af03f5ab93          3.0   \n",
       "116  7ffbe99fb5764378851ad5e10430c284          7.0   \n",
       "118  7ffbe99fb5764378851ad5e10430c284          7.0   \n",
       "120  7ffbe99fb5764378851ad5e10430c284          7.0   \n",
       "122  7ffbe99fb5764378851ad5e10430c284          7.0   \n",
       "\n",
       "                                time       type  isPrintLuxDf  \\\n",
       "19  2020-09-30 22:33:47.487000+00:00  switchTab           NaN   \n",
       "21  2020-09-30 22:33:48.436000+00:00  switchTab           NaN   \n",
       "23  2020-09-30 22:33:54.636000+00:00  switchTab           NaN   \n",
       "94  2020-09-30 22:34:21.477000+00:00  switchTab           NaN   \n",
       "116 2020-09-30 22:35:21.946000+00:00  switchTab           NaN   \n",
       "118 2020-09-30 22:35:22.059000+00:00  switchTab           NaN   \n",
       "120 2020-09-30 22:35:23.763000+00:00  switchTab           NaN   \n",
       "122 2020-09-30 22:35:24.642000+00:00  switchTab           NaN   \n",
       "\n",
       "     isPrintPandasDf  isPrintVis  isPrintVisCollection         param  \n",
       "19               NaN         NaN                   NaN      Temporal  \n",
       "21               NaN         NaN                   NaN    Occurrence  \n",
       "23               NaN         NaN                   NaN   Correlation  \n",
       "94               NaN         NaN                   NaN  Distribution  \n",
       "116              NaN         NaN                   NaN        Filter  \n",
       "118              NaN         NaN                   NaN        Filter  \n",
       "120              NaN         NaN                   NaN    Generalize  \n",
       "122              NaN         NaN                   NaN       Enhance  "
      ]
     },
     "execution_count": 21,
     "metadata": {},
     "output_type": "execute_result"
    }
   ],
   "source": [
    "uiEventDf[uiEventDf[\"type\"]=='switchTab']"
   ]
  },
  {
   "cell_type": "code",
   "execution_count": 22,
   "metadata": {},
   "outputs": [
    {
     "name": "stderr",
     "output_type": "stream",
     "text": [
      "/Users/jerrysong/miniconda3/lib/python3.7/site-packages/ipykernel_launcher.py:5: SettingWithCopyWarning: \n",
      "A value is trying to be set on a copy of a slice from a DataFrame.\n",
      "Try using .loc[row_indexer,col_indexer] = value instead\n",
      "\n",
      "See the caveats in the documentation: https://pandas.pydata.org/pandas-docs/stable/user_guide/indexing.html#returning-a-view-versus-a-copy\n",
      "  \"\"\"\n"
     ]
    },
    {
     "data": {
      "text/html": [
       "<div>\n",
       "<style scoped>\n",
       "    .dataframe tbody tr th:only-of-type {\n",
       "        vertical-align: middle;\n",
       "    }\n",
       "\n",
       "    .dataframe tbody tr th {\n",
       "        vertical-align: top;\n",
       "    }\n",
       "\n",
       "    .dataframe thead th {\n",
       "        text-align: right;\n",
       "    }\n",
       "</style>\n",
       "<table border=\"1\" class=\"dataframe\">\n",
       "  <thead>\n",
       "    <tr style=\"text-align: right;\">\n",
       "      <th></th>\n",
       "      <th>code</th>\n",
       "      <th>id</th>\n",
       "      <th>order_count</th>\n",
       "      <th>isPrintLuxDf</th>\n",
       "      <th>isPrintPandasDf</th>\n",
       "      <th>isPrintVis</th>\n",
       "      <th>isPrintVisCollection</th>\n",
       "      <th>param</th>\n",
       "      <th>duration</th>\n",
       "    </tr>\n",
       "  </thead>\n",
       "  <tbody>\n",
       "    <tr>\n",
       "      <th>24</th>\n",
       "      <td>df</td>\n",
       "      <td>a77846f07c284981a40a47af03f5ab93</td>\n",
       "      <td>3.0</td>\n",
       "      <td>NaN</td>\n",
       "      <td>NaN</td>\n",
       "      <td>NaN</td>\n",
       "      <td>NaN</td>\n",
       "      <td>Correlation</td>\n",
       "      <td>0 days 00:00:18.715000</td>\n",
       "    </tr>\n",
       "    <tr>\n",
       "      <th>95</th>\n",
       "      <td>df</td>\n",
       "      <td>a77846f07c284981a40a47af03f5ab93</td>\n",
       "      <td>3.0</td>\n",
       "      <td>NaN</td>\n",
       "      <td>NaN</td>\n",
       "      <td>NaN</td>\n",
       "      <td>NaN</td>\n",
       "      <td>Distribution</td>\n",
       "      <td>0 days 00:00:00.790000</td>\n",
       "    </tr>\n",
       "    <tr>\n",
       "      <th>123</th>\n",
       "      <td>df.intent = [\"Acceleration\", \"Horsepower\"]\\ndf</td>\n",
       "      <td>7ffbe99fb5764378851ad5e10430c284</td>\n",
       "      <td>7.0</td>\n",
       "      <td>NaN</td>\n",
       "      <td>NaN</td>\n",
       "      <td>NaN</td>\n",
       "      <td>NaN</td>\n",
       "      <td>Enhance</td>\n",
       "      <td>0 days 00:00:09.643000</td>\n",
       "    </tr>\n",
       "    <tr>\n",
       "      <th>192</th>\n",
       "      <td>df.intent=[\"Cylinders\"]\\ndf</td>\n",
       "      <td>8de64689c9794b5484991d8758e96825</td>\n",
       "      <td>12.0</td>\n",
       "      <td>NaN</td>\n",
       "      <td>NaN</td>\n",
       "      <td>NaN</td>\n",
       "      <td>NaN</td>\n",
       "      <td>Enhance</td>\n",
       "      <td>0 days 00:00:00.659000</td>\n",
       "    </tr>\n",
       "  </tbody>\n",
       "</table>\n",
       "</div>"
      ],
      "text/plain": [
       "                                               code  \\\n",
       "24                                               df   \n",
       "95                                               df   \n",
       "123  df.intent = [\"Acceleration\", \"Horsepower\"]\\ndf   \n",
       "192                     df.intent=[\"Cylinders\"]\\ndf   \n",
       "\n",
       "                                   id  order_count  isPrintLuxDf  \\\n",
       "24   a77846f07c284981a40a47af03f5ab93          3.0           NaN   \n",
       "95   a77846f07c284981a40a47af03f5ab93          3.0           NaN   \n",
       "123  7ffbe99fb5764378851ad5e10430c284          7.0           NaN   \n",
       "192  8de64689c9794b5484991d8758e96825         12.0           NaN   \n",
       "\n",
       "     isPrintPandasDf  isPrintVis  isPrintVisCollection         param  \\\n",
       "24               NaN         NaN                   NaN   Correlation   \n",
       "95               NaN         NaN                   NaN  Distribution   \n",
       "123              NaN         NaN                   NaN       Enhance   \n",
       "192              NaN         NaN                   NaN       Enhance   \n",
       "\n",
       "                  duration  \n",
       "24  0 days 00:00:18.715000  \n",
       "95  0 days 00:00:00.790000  \n",
       "123 0 days 00:00:09.643000  \n",
       "192 0 days 00:00:00.659000  "
      ]
     },
     "execution_count": 22,
     "metadata": {},
     "output_type": "execute_result"
    }
   ],
   "source": [
    "import numpy as np\n",
    "scrollEvents = uiEventDf[(uiEventDf[\"type\"]=='startScroll')|(uiEventDf[\"type\"]=='stopScroll')]\n",
    "\n",
    "# Compute the max-min of the group to find total duration for scrolling\n",
    "scrollEvents[\"duration\"] =scrollEvents.groupby([\"id\",\"code\",\"param\"])[\"time\"].transform(np.ptp)\n",
    "\n",
    "scrollEvents = scrollEvents.drop(columns=[\"time\",\"type\"])\n",
    "\n",
    "scrollEvents = scrollEvents.drop_duplicates()\n",
    "\n",
    "scrollEvents"
   ]
  },
  {
   "cell_type": "code",
   "execution_count": 23,
   "metadata": {},
   "outputs": [],
   "source": [
    "scrollEvents[\"duration\"] = scrollEvents[\"duration\"].dt.total_seconds()"
   ]
  },
  {
   "cell_type": "code",
   "execution_count": 24,
   "metadata": {},
   "outputs": [
    {
     "data": {
      "text/html": [
       "<div>\n",
       "<style scoped>\n",
       "    .dataframe tbody tr th:only-of-type {\n",
       "        vertical-align: middle;\n",
       "    }\n",
       "\n",
       "    .dataframe tbody tr th {\n",
       "        vertical-align: top;\n",
       "    }\n",
       "\n",
       "    .dataframe thead th {\n",
       "        text-align: right;\n",
       "    }\n",
       "</style>\n",
       "<table border=\"1\" class=\"dataframe\">\n",
       "  <thead>\n",
       "    <tr style=\"text-align: right;\">\n",
       "      <th></th>\n",
       "      <th>code</th>\n",
       "      <th>id</th>\n",
       "      <th>order_count</th>\n",
       "      <th>isPrintLuxDf</th>\n",
       "      <th>isPrintPandasDf</th>\n",
       "      <th>isPrintVis</th>\n",
       "      <th>isPrintVisCollection</th>\n",
       "      <th>param</th>\n",
       "      <th>duration</th>\n",
       "    </tr>\n",
       "  </thead>\n",
       "  <tbody>\n",
       "    <tr>\n",
       "      <th>24</th>\n",
       "      <td>df</td>\n",
       "      <td>a77846f07c284981a40a47af03f5ab93</td>\n",
       "      <td>3.0</td>\n",
       "      <td>NaN</td>\n",
       "      <td>NaN</td>\n",
       "      <td>NaN</td>\n",
       "      <td>NaN</td>\n",
       "      <td>Correlation</td>\n",
       "      <td>18.715</td>\n",
       "    </tr>\n",
       "    <tr>\n",
       "      <th>95</th>\n",
       "      <td>df</td>\n",
       "      <td>a77846f07c284981a40a47af03f5ab93</td>\n",
       "      <td>3.0</td>\n",
       "      <td>NaN</td>\n",
       "      <td>NaN</td>\n",
       "      <td>NaN</td>\n",
       "      <td>NaN</td>\n",
       "      <td>Distribution</td>\n",
       "      <td>0.790</td>\n",
       "    </tr>\n",
       "    <tr>\n",
       "      <th>123</th>\n",
       "      <td>df.intent = [\"Acceleration\", \"Horsepower\"]\\ndf</td>\n",
       "      <td>7ffbe99fb5764378851ad5e10430c284</td>\n",
       "      <td>7.0</td>\n",
       "      <td>NaN</td>\n",
       "      <td>NaN</td>\n",
       "      <td>NaN</td>\n",
       "      <td>NaN</td>\n",
       "      <td>Enhance</td>\n",
       "      <td>9.643</td>\n",
       "    </tr>\n",
       "    <tr>\n",
       "      <th>192</th>\n",
       "      <td>df.intent=[\"Cylinders\"]\\ndf</td>\n",
       "      <td>8de64689c9794b5484991d8758e96825</td>\n",
       "      <td>12.0</td>\n",
       "      <td>NaN</td>\n",
       "      <td>NaN</td>\n",
       "      <td>NaN</td>\n",
       "      <td>NaN</td>\n",
       "      <td>Enhance</td>\n",
       "      <td>0.659</td>\n",
       "    </tr>\n",
       "  </tbody>\n",
       "</table>\n",
       "</div>"
      ],
      "text/plain": [
       "                                               code  \\\n",
       "24                                               df   \n",
       "95                                               df   \n",
       "123  df.intent = [\"Acceleration\", \"Horsepower\"]\\ndf   \n",
       "192                     df.intent=[\"Cylinders\"]\\ndf   \n",
       "\n",
       "                                   id  order_count  isPrintLuxDf  \\\n",
       "24   a77846f07c284981a40a47af03f5ab93          3.0           NaN   \n",
       "95   a77846f07c284981a40a47af03f5ab93          3.0           NaN   \n",
       "123  7ffbe99fb5764378851ad5e10430c284          7.0           NaN   \n",
       "192  8de64689c9794b5484991d8758e96825         12.0           NaN   \n",
       "\n",
       "     isPrintPandasDf  isPrintVis  isPrintVisCollection         param  duration  \n",
       "24               NaN         NaN                   NaN   Correlation    18.715  \n",
       "95               NaN         NaN                   NaN  Distribution     0.790  \n",
       "123              NaN         NaN                   NaN       Enhance     9.643  \n",
       "192              NaN         NaN                   NaN       Enhance     0.659  "
      ]
     },
     "execution_count": 24,
     "metadata": {},
     "output_type": "execute_result"
    }
   ],
   "source": [
    "scrollEvents"
   ]
  },
  {
   "cell_type": "code",
   "execution_count": 25,
   "metadata": {},
   "outputs": [
    {
     "data": {
      "text/plain": [
       "param\n",
       "Correlation     18.715\n",
       "Distribution     0.790\n",
       "Enhance          5.151\n",
       "Name: duration, dtype: float64"
      ]
     },
     "execution_count": 25,
     "metadata": {},
     "output_type": "execute_result"
    }
   ],
   "source": [
    "scrollEvents.groupby(\"param\")[\"duration\"].mean()"
   ]
  },
  {
   "cell_type": "markdown",
   "metadata": {},
   "source": [
    "### Cells that were deleted"
   ]
  },
  {
   "cell_type": "code",
   "execution_count": 26,
   "metadata": {},
   "outputs": [
    {
     "data": {
      "text/html": [
       "<div>\n",
       "<style scoped>\n",
       "    .dataframe tbody tr th:only-of-type {\n",
       "        vertical-align: middle;\n",
       "    }\n",
       "\n",
       "    .dataframe tbody tr th {\n",
       "        vertical-align: top;\n",
       "    }\n",
       "\n",
       "    .dataframe thead th {\n",
       "        text-align: right;\n",
       "    }\n",
       "</style>\n",
       "<table border=\"1\" class=\"dataframe\">\n",
       "  <thead>\n",
       "    <tr style=\"text-align: right;\">\n",
       "      <th></th>\n",
       "      <th>code</th>\n",
       "      <th>id</th>\n",
       "      <th>order_count</th>\n",
       "      <th>time</th>\n",
       "      <th>type</th>\n",
       "      <th>isPrintLuxDf</th>\n",
       "      <th>isPrintPandasDf</th>\n",
       "      <th>isPrintVis</th>\n",
       "      <th>isPrintVisCollection</th>\n",
       "      <th>param</th>\n",
       "    </tr>\n",
       "  </thead>\n",
       "  <tbody>\n",
       "  </tbody>\n",
       "</table>\n",
       "</div>"
      ],
      "text/plain": [
       "Empty DataFrame\n",
       "Columns: [code, id, order_count, time, type, isPrintLuxDf, isPrintPandasDf, isPrintVis, isPrintVisCollection, param]\n",
       "Index: []"
      ]
     },
     "execution_count": 26,
     "metadata": {},
     "output_type": "execute_result"
    }
   ],
   "source": [
    "df[df[\"type\"]=='deleteCodeCell']"
   ]
  },
  {
   "cell_type": "markdown",
   "metadata": {},
   "source": [
    "### Export Analysis"
   ]
  },
  {
   "cell_type": "code",
   "execution_count": 27,
   "metadata": {},
   "outputs": [
    {
     "data": {
      "text/html": [
       "<div>\n",
       "<style scoped>\n",
       "    .dataframe tbody tr th:only-of-type {\n",
       "        vertical-align: middle;\n",
       "    }\n",
       "\n",
       "    .dataframe tbody tr th {\n",
       "        vertical-align: top;\n",
       "    }\n",
       "\n",
       "    .dataframe thead th {\n",
       "        text-align: right;\n",
       "    }\n",
       "</style>\n",
       "<table border=\"1\" class=\"dataframe\">\n",
       "  <thead>\n",
       "    <tr style=\"text-align: right;\">\n",
       "      <th></th>\n",
       "      <th>code</th>\n",
       "      <th>id</th>\n",
       "      <th>order_count</th>\n",
       "      <th>time</th>\n",
       "      <th>type</th>\n",
       "      <th>isPrintLuxDf</th>\n",
       "      <th>isPrintPandasDf</th>\n",
       "      <th>isPrintVis</th>\n",
       "      <th>isPrintVisCollection</th>\n",
       "      <th>param</th>\n",
       "    </tr>\n",
       "  </thead>\n",
       "  <tbody>\n",
       "    <tr>\n",
       "      <th>172</th>\n",
       "      <td>df.intent = [\"Acceleration\", \"Horsepower\"]\\ndf</td>\n",
       "      <td>7ffbe99fb5764378851ad5e10430c284</td>\n",
       "      <td>7.0</td>\n",
       "      <td>2020-09-30 22:35:47.520000+00:00</td>\n",
       "      <td>exportBtnClick</td>\n",
       "      <td>NaN</td>\n",
       "      <td>NaN</td>\n",
       "      <td>NaN</td>\n",
       "      <td>NaN</td>\n",
       "      <td>{'Enhance': [0]}</td>\n",
       "    </tr>\n",
       "    <tr>\n",
       "      <th>199</th>\n",
       "      <td>df.intent=[\"Cylinders\"]\\ndf</td>\n",
       "      <td>8de64689c9794b5484991d8758e96825</td>\n",
       "      <td>12.0</td>\n",
       "      <td>2020-09-30 22:36:50.845000+00:00</td>\n",
       "      <td>exportBtnClick</td>\n",
       "      <td>NaN</td>\n",
       "      <td>NaN</td>\n",
       "      <td>NaN</td>\n",
       "      <td>NaN</td>\n",
       "      <td>{'Enhance': [1, 3]}</td>\n",
       "    </tr>\n",
       "  </tbody>\n",
       "</table>\n",
       "</div>"
      ],
      "text/plain": [
       "                                               code  \\\n",
       "172  df.intent = [\"Acceleration\", \"Horsepower\"]\\ndf   \n",
       "199                     df.intent=[\"Cylinders\"]\\ndf   \n",
       "\n",
       "                                   id  order_count  \\\n",
       "172  7ffbe99fb5764378851ad5e10430c284          7.0   \n",
       "199  8de64689c9794b5484991d8758e96825         12.0   \n",
       "\n",
       "                                time            type  isPrintLuxDf  \\\n",
       "172 2020-09-30 22:35:47.520000+00:00  exportBtnClick           NaN   \n",
       "199 2020-09-30 22:36:50.845000+00:00  exportBtnClick           NaN   \n",
       "\n",
       "     isPrintPandasDf  isPrintVis  isPrintVisCollection                param  \n",
       "172              NaN         NaN                   NaN     {'Enhance': [0]}  \n",
       "199              NaN         NaN                   NaN  {'Enhance': [1, 3]}  "
      ]
     },
     "execution_count": 27,
     "metadata": {},
     "output_type": "execute_result"
    }
   ],
   "source": [
    "uiEventDf[uiEventDf[\"type\"]==\"exportBtnClick\"]"
   ]
  },
  {
   "cell_type": "code",
   "execution_count": 28,
   "metadata": {},
   "outputs": [
    {
     "data": {
      "text/html": [
       "<div>\n",
       "<style scoped>\n",
       "    .dataframe tbody tr th:only-of-type {\n",
       "        vertical-align: middle;\n",
       "    }\n",
       "\n",
       "    .dataframe tbody tr th {\n",
       "        vertical-align: top;\n",
       "    }\n",
       "\n",
       "    .dataframe thead th {\n",
       "        text-align: right;\n",
       "    }\n",
       "</style>\n",
       "<table border=\"1\" class=\"dataframe\">\n",
       "  <thead>\n",
       "    <tr style=\"text-align: right;\">\n",
       "      <th></th>\n",
       "      <th>code</th>\n",
       "      <th>id</th>\n",
       "      <th>order_count</th>\n",
       "      <th>time</th>\n",
       "      <th>type</th>\n",
       "      <th>isPrintLuxDf</th>\n",
       "      <th>isPrintPandasDf</th>\n",
       "      <th>isPrintVis</th>\n",
       "      <th>isPrintVisCollection</th>\n",
       "      <th>param</th>\n",
       "    </tr>\n",
       "  </thead>\n",
       "  <tbody>\n",
       "    <tr>\n",
       "      <th>166</th>\n",
       "      <td>NaN</td>\n",
       "      <td>NaN</td>\n",
       "      <td>NaN</td>\n",
       "      <td>2020-09-30 22:35:41.580000+00:00</td>\n",
       "      <td>clickVis</td>\n",
       "      <td>NaN</td>\n",
       "      <td>NaN</td>\n",
       "      <td>NaN</td>\n",
       "      <td>NaN</td>\n",
       "      <td>{'index': 0, 'tabTitle': 'Enhance', 'vis': {'$...</td>\n",
       "    </tr>\n",
       "    <tr>\n",
       "      <th>168</th>\n",
       "      <td>NaN</td>\n",
       "      <td>NaN</td>\n",
       "      <td>NaN</td>\n",
       "      <td>2020-09-30 22:35:42.302000+00:00</td>\n",
       "      <td>clickVis</td>\n",
       "      <td>NaN</td>\n",
       "      <td>NaN</td>\n",
       "      <td>NaN</td>\n",
       "      <td>NaN</td>\n",
       "      <td>{'index': 1, 'tabTitle': 'Enhance', 'vis': {'$...</td>\n",
       "    </tr>\n",
       "    <tr>\n",
       "      <th>191</th>\n",
       "      <td>NaN</td>\n",
       "      <td>NaN</td>\n",
       "      <td>NaN</td>\n",
       "      <td>2020-09-30 22:36:47.646000+00:00</td>\n",
       "      <td>clickVis</td>\n",
       "      <td>NaN</td>\n",
       "      <td>NaN</td>\n",
       "      <td>NaN</td>\n",
       "      <td>NaN</td>\n",
       "      <td>{'index': 1, 'tabTitle': 'Enhance', 'vis': {'$...</td>\n",
       "    </tr>\n",
       "    <tr>\n",
       "      <th>197</th>\n",
       "      <td>NaN</td>\n",
       "      <td>NaN</td>\n",
       "      <td>NaN</td>\n",
       "      <td>2020-09-30 22:36:49.502000+00:00</td>\n",
       "      <td>clickVis</td>\n",
       "      <td>NaN</td>\n",
       "      <td>NaN</td>\n",
       "      <td>NaN</td>\n",
       "      <td>NaN</td>\n",
       "      <td>{'index': 3, 'tabTitle': 'Enhance', 'vis': {'$...</td>\n",
       "    </tr>\n",
       "    <tr>\n",
       "      <th>216</th>\n",
       "      <td>NaN</td>\n",
       "      <td>NaN</td>\n",
       "      <td>NaN</td>\n",
       "      <td>2020-09-30 22:37:11.159000+00:00</td>\n",
       "      <td>clickVis</td>\n",
       "      <td>NaN</td>\n",
       "      <td>NaN</td>\n",
       "      <td>NaN</td>\n",
       "      <td>NaN</td>\n",
       "      <td>{'index': 0, 'tabTitle': 'Enhance', 'vis': {'$...</td>\n",
       "    </tr>\n",
       "  </tbody>\n",
       "</table>\n",
       "</div>"
      ],
      "text/plain": [
       "    code   id  order_count                             time      type  \\\n",
       "166  NaN  NaN          NaN 2020-09-30 22:35:41.580000+00:00  clickVis   \n",
       "168  NaN  NaN          NaN 2020-09-30 22:35:42.302000+00:00  clickVis   \n",
       "191  NaN  NaN          NaN 2020-09-30 22:36:47.646000+00:00  clickVis   \n",
       "197  NaN  NaN          NaN 2020-09-30 22:36:49.502000+00:00  clickVis   \n",
       "216  NaN  NaN          NaN 2020-09-30 22:37:11.159000+00:00  clickVis   \n",
       "\n",
       "    isPrintLuxDf isPrintPandasDf isPrintVis isPrintVisCollection  \\\n",
       "166          NaN             NaN        NaN                  NaN   \n",
       "168          NaN             NaN        NaN                  NaN   \n",
       "191          NaN             NaN        NaN                  NaN   \n",
       "197          NaN             NaN        NaN                  NaN   \n",
       "216          NaN             NaN        NaN                  NaN   \n",
       "\n",
       "                                                 param  \n",
       "166  {'index': 0, 'tabTitle': 'Enhance', 'vis': {'$...  \n",
       "168  {'index': 1, 'tabTitle': 'Enhance', 'vis': {'$...  \n",
       "191  {'index': 1, 'tabTitle': 'Enhance', 'vis': {'$...  \n",
       "197  {'index': 3, 'tabTitle': 'Enhance', 'vis': {'$...  \n",
       "216  {'index': 0, 'tabTitle': 'Enhance', 'vis': {'$...  "
      ]
     },
     "execution_count": 28,
     "metadata": {},
     "output_type": "execute_result"
    }
   ],
   "source": [
    "df[df[\"type\"]==\"clickVis\"]"
   ]
  },
  {
   "cell_type": "code",
   "execution_count": 29,
   "metadata": {},
   "outputs": [
    {
     "data": {
      "text/plain": [
       "{'index': 0,\n",
       " 'tabTitle': 'Enhance',\n",
       " 'vis': {'$schema': 'https://vega.github.io/schema/vega-lite/v4.8.1.json',\n",
       "  'config': {'axis': {'labelColor': '#505050',\n",
       "    'labelFont': 'Helvetica Neue',\n",
       "    'labelFontSize': 9,\n",
       "    'labelFontWeight': 400,\n",
       "    'titleFont': 'Helvetica Neue',\n",
       "    'titleFontSize': 11,\n",
       "    'titleFontWeight': 500},\n",
       "   'legend': {'labelFont': 'Helvetica Neue',\n",
       "    'labelFontSize': 9,\n",
       "    'labelFontWeight': 400,\n",
       "    'titleFont': 'Helvetica Neue',\n",
       "    'titleFontSize': 10,\n",
       "    'titleFontWeight': 500},\n",
       "   'mark': {'tooltip': {'content': 'encoding'}},\n",
       "   'title': {'font': 'Helvetica Neue', 'fontSize': 13, 'fontWeight': 500},\n",
       "   'view': {'continuousHeight': 300, 'continuousWidth': 400}},\n",
       "  'data': {'name': 'data-9aec80917404170c20d0ca3f5e5ebe79'},\n",
       "  'datasets': {'data-9aec80917404170c20d0ca3f5e5ebe79': [{'Acceleration': 12,\n",
       "     'Horsepower': 130,\n",
       "     'Origin': 'USA'},\n",
       "    {'Acceleration': 11.5, 'Horsepower': 165, 'Origin': 'USA'},\n",
       "    {'Acceleration': 11, 'Horsepower': 150, 'Origin': 'USA'},\n",
       "    {'Acceleration': 12, 'Horsepower': 150, 'Origin': 'USA'},\n",
       "    {'Acceleration': 10.5, 'Horsepower': 140, 'Origin': 'USA'},\n",
       "    {'Acceleration': 10, 'Horsepower': 198, 'Origin': 'USA'},\n",
       "    {'Acceleration': 9, 'Horsepower': 220, 'Origin': 'USA'},\n",
       "    {'Acceleration': 8.5, 'Horsepower': 215, 'Origin': 'USA'},\n",
       "    {'Acceleration': 10, 'Horsepower': 225, 'Origin': 'USA'},\n",
       "    {'Acceleration': 8.5, 'Horsepower': 190, 'Origin': 'USA'},\n",
       "    {'Acceleration': 10, 'Horsepower': 170, 'Origin': 'USA'},\n",
       "    {'Acceleration': 8, 'Horsepower': 160, 'Origin': 'USA'},\n",
       "    {'Acceleration': 9.5, 'Horsepower': 150, 'Origin': 'USA'},\n",
       "    {'Acceleration': 10, 'Horsepower': 225, 'Origin': 'USA'},\n",
       "    {'Acceleration': 15, 'Horsepower': 95, 'Origin': 'Japan'},\n",
       "    {'Acceleration': 15.5, 'Horsepower': 95, 'Origin': 'USA'},\n",
       "    {'Acceleration': 15.5, 'Horsepower': 97, 'Origin': 'USA'},\n",
       "    {'Acceleration': 16, 'Horsepower': 85, 'Origin': 'USA'},\n",
       "    {'Acceleration': 14.5, 'Horsepower': 88, 'Origin': 'Japan'},\n",
       "    {'Acceleration': 20.5, 'Horsepower': 46, 'Origin': 'Europe'},\n",
       "    {'Acceleration': 17.5, 'Horsepower': 87, 'Origin': 'Europe'},\n",
       "    {'Acceleration': 14.5, 'Horsepower': 90, 'Origin': 'Europe'},\n",
       "    {'Acceleration': 17.5, 'Horsepower': 95, 'Origin': 'Europe'},\n",
       "    {'Acceleration': 12.5, 'Horsepower': 113, 'Origin': 'Europe'},\n",
       "    {'Acceleration': 15, 'Horsepower': 90, 'Origin': 'USA'},\n",
       "    {'Acceleration': 14, 'Horsepower': 215, 'Origin': 'USA'},\n",
       "    {'Acceleration': 15, 'Horsepower': 200, 'Origin': 'USA'},\n",
       "    {'Acceleration': 13.5, 'Horsepower': 210, 'Origin': 'USA'},\n",
       "    {'Acceleration': 18.5, 'Horsepower': 193, 'Origin': 'USA'},\n",
       "    {'Acceleration': 14.5, 'Horsepower': 88, 'Origin': 'Japan'},\n",
       "    {'Acceleration': 15.5, 'Horsepower': 90, 'Origin': 'USA'},\n",
       "    {'Acceleration': 14, 'Horsepower': 95, 'Origin': 'Japan'},\n",
       "    {'Acceleration': 13, 'Horsepower': 100, 'Origin': 'USA'},\n",
       "    {'Acceleration': 15.5, 'Horsepower': 105, 'Origin': 'USA'},\n",
       "    {'Acceleration': 15.5, 'Horsepower': 100, 'Origin': 'USA'},\n",
       "    {'Acceleration': 15.5, 'Horsepower': 88, 'Origin': 'USA'},\n",
       "    {'Acceleration': 15.5, 'Horsepower': 100, 'Origin': 'USA'},\n",
       "    {'Acceleration': 12, 'Horsepower': 165, 'Origin': 'USA'},\n",
       "    {'Acceleration': 11.5, 'Horsepower': 175, 'Origin': 'USA'},\n",
       "    {'Acceleration': 13.5, 'Horsepower': 153, 'Origin': 'USA'},\n",
       "    {'Acceleration': 13, 'Horsepower': 150, 'Origin': 'USA'},\n",
       "    {'Acceleration': 11.5, 'Horsepower': 180, 'Origin': 'USA'},\n",
       "    {'Acceleration': 12, 'Horsepower': 170, 'Origin': 'USA'},\n",
       "    {'Acceleration': 12, 'Horsepower': 175, 'Origin': 'USA'},\n",
       "    {'Acceleration': 13.5, 'Horsepower': 110, 'Origin': 'USA'},\n",
       "    {'Acceleration': 19, 'Horsepower': 72, 'Origin': 'USA'},\n",
       "    {'Acceleration': 15, 'Horsepower': 100, 'Origin': 'USA'},\n",
       "    {'Acceleration': 14.5, 'Horsepower': 88, 'Origin': 'USA'},\n",
       "    {'Acceleration': 14, 'Horsepower': 86, 'Origin': 'USA'},\n",
       "    {'Acceleration': 14, 'Horsepower': 90, 'Origin': 'Europe'},\n",
       "    {'Acceleration': 19.5, 'Horsepower': 70, 'Origin': 'Europe'},\n",
       "    {'Acceleration': 14.5, 'Horsepower': 76, 'Origin': 'Europe'},\n",
       "    {'Acceleration': 19, 'Horsepower': 65, 'Origin': 'Japan'},\n",
       "    {'Acceleration': 18, 'Horsepower': 69, 'Origin': 'Japan'},\n",
       "    {'Acceleration': 19, 'Horsepower': 60, 'Origin': 'Europe'},\n",
       "    {'Acceleration': 20.5, 'Horsepower': 70, 'Origin': 'USA'},\n",
       "    {'Acceleration': 15.5, 'Horsepower': 95, 'Origin': 'Japan'},\n",
       "    {'Acceleration': 17, 'Horsepower': 80, 'Origin': 'USA'},\n",
       "    {'Acceleration': 23.5, 'Horsepower': 54, 'Origin': 'Europe'},\n",
       "    {'Acceleration': 19.5, 'Horsepower': 90, 'Origin': 'USA'},\n",
       "    {'Acceleration': 16.5, 'Horsepower': 86, 'Origin': 'USA'},\n",
       "    {'Acceleration': 12, 'Horsepower': 165, 'Origin': 'USA'},\n",
       "    {'Acceleration': 12, 'Horsepower': 175, 'Origin': 'USA'},\n",
       "    {'Acceleration': 13.5, 'Horsepower': 150, 'Origin': 'USA'},\n",
       "    {'Acceleration': 13, 'Horsepower': 153, 'Origin': 'USA'},\n",
       "    {'Acceleration': 11.5, 'Horsepower': 150, 'Origin': 'USA'},\n",
       "    {'Acceleration': 11, 'Horsepower': 208, 'Origin': 'USA'},\n",
       "    {'Acceleration': 13.5, 'Horsepower': 155, 'Origin': 'USA'},\n",
       "    {'Acceleration': 13.5, 'Horsepower': 160, 'Origin': 'USA'},\n",
       "    {'Acceleration': 12.5, 'Horsepower': 190, 'Origin': 'USA'},\n",
       "    {'Acceleration': 13.5, 'Horsepower': 97, 'Origin': 'Japan'},\n",
       "    {'Acceleration': 12.5, 'Horsepower': 150, 'Origin': 'USA'},\n",
       "    {'Acceleration': 14, 'Horsepower': 130, 'Origin': 'USA'},\n",
       "    {'Acceleration': 16, 'Horsepower': 140, 'Origin': 'USA'},\n",
       "    {'Acceleration': 14, 'Horsepower': 150, 'Origin': 'USA'},\n",
       "    {'Acceleration': 14.5, 'Horsepower': 112, 'Origin': 'Europe'},\n",
       "    {'Acceleration': 18, 'Horsepower': 76, 'Origin': 'Europe'},\n",
       "    {'Acceleration': 19.5, 'Horsepower': 87, 'Origin': 'Europe'},\n",
       "    {'Acceleration': 18, 'Horsepower': 69, 'Origin': 'Europe'},\n",
       "    {'Acceleration': 16, 'Horsepower': 86, 'Origin': 'USA'},\n",
       "    {'Acceleration': 17, 'Horsepower': 92, 'Origin': 'Japan'},\n",
       "    {'Acceleration': 14.5, 'Horsepower': 97, 'Origin': 'Japan'},\n",
       "    {'Acceleration': 15, 'Horsepower': 80, 'Origin': 'USA'},\n",
       "    {'Acceleration': 16.5, 'Horsepower': 88, 'Origin': 'Japan'},\n",
       "    {'Acceleration': 13, 'Horsepower': 175, 'Origin': 'USA'},\n",
       "    {'Acceleration': 11.5, 'Horsepower': 150, 'Origin': 'USA'},\n",
       "    {'Acceleration': 13, 'Horsepower': 145, 'Origin': 'USA'},\n",
       "    {'Acceleration': 14.5, 'Horsepower': 137, 'Origin': 'USA'},\n",
       "    {'Acceleration': 12.5, 'Horsepower': 150, 'Origin': 'USA'},\n",
       "    {'Acceleration': 11.5, 'Horsepower': 198, 'Origin': 'USA'},\n",
       "    {'Acceleration': 12, 'Horsepower': 150, 'Origin': 'USA'},\n",
       "    {'Acceleration': 13, 'Horsepower': 158, 'Origin': 'USA'},\n",
       "    {'Acceleration': 14.5, 'Horsepower': 150, 'Origin': 'USA'},\n",
       "    {'Acceleration': 11, 'Horsepower': 215, 'Origin': 'USA'},\n",
       "    {'Acceleration': 11, 'Horsepower': 225, 'Origin': 'USA'},\n",
       "    {'Acceleration': 11, 'Horsepower': 175, 'Origin': 'USA'},\n",
       "    {'Acceleration': 16.5, 'Horsepower': 105, 'Origin': 'USA'},\n",
       "    {'Acceleration': 18, 'Horsepower': 100, 'Origin': 'USA'},\n",
       "    {'Acceleration': 16, 'Horsepower': 100, 'Origin': 'USA'},\n",
       "    {'Acceleration': 16.5, 'Horsepower': 88, 'Origin': 'USA'},\n",
       "    {'Acceleration': 16, 'Horsepower': 95, 'Origin': 'USA'},\n",
       "    {'Acceleration': 21, 'Horsepower': 46, 'Origin': 'Europe'},\n",
       "    {'Acceleration': 14, 'Horsepower': 150, 'Origin': 'USA'},\n",
       "    {'Acceleration': 12.5, 'Horsepower': 167, 'Origin': 'USA'},\n",
       "    {'Acceleration': 13, 'Horsepower': 170, 'Origin': 'USA'},\n",
       "    {'Acceleration': 12.5, 'Horsepower': 180, 'Origin': 'USA'},\n",
       "    {'Acceleration': 15, 'Horsepower': 100, 'Origin': 'USA'},\n",
       "    {'Acceleration': 19, 'Horsepower': 88, 'Origin': 'Japan'},\n",
       "    {'Acceleration': 19.5, 'Horsepower': 72, 'Origin': 'USA'},\n",
       "    {'Acceleration': 16.5, 'Horsepower': 94, 'Origin': 'Japan'},\n",
       "    {'Acceleration': 13.5, 'Horsepower': 90, 'Origin': 'Japan'},\n",
       "    {'Acceleration': 18.5, 'Horsepower': 85, 'Origin': 'USA'},\n",
       "    {'Acceleration': 14, 'Horsepower': 107, 'Origin': 'USA'},\n",
       "    {'Acceleration': 15.5, 'Horsepower': 90, 'Origin': 'Europe'},\n",
       "    {'Acceleration': 13, 'Horsepower': 145, 'Origin': 'USA'},\n",
       "    {'Acceleration': 9.5, 'Horsepower': 230, 'Origin': 'USA'},\n",
       "    {'Acceleration': 19.5, 'Horsepower': 49, 'Origin': 'Europe'},\n",
       "    {'Acceleration': 15.5, 'Horsepower': 75, 'Origin': 'Europe'},\n",
       "    {'Acceleration': 14, 'Horsepower': 91, 'Origin': 'Europe'},\n",
       "    {'Acceleration': 15.5, 'Horsepower': 112, 'Origin': 'Europe'},\n",
       "    {'Acceleration': 11, 'Horsepower': 150, 'Origin': 'USA'},\n",
       "    {'Acceleration': 14, 'Horsepower': 110, 'Origin': 'Europe'},\n",
       "    {'Acceleration': 13.5, 'Horsepower': 122, 'Origin': 'Japan'},\n",
       "    {'Acceleration': 11, 'Horsepower': 180, 'Origin': 'USA'},\n",
       "    {'Acceleration': 16.5, 'Horsepower': 95, 'Origin': 'USA'},\n",
       "    {'Acceleration': 16, 'Horsepower': 100, 'Origin': 'USA'},\n",
       "    {'Acceleration': 17, 'Horsepower': 100, 'Origin': 'USA'},\n",
       "    {'Acceleration': 19, 'Horsepower': 67, 'Origin': 'Japan'},\n",
       "    {'Acceleration': 16.5, 'Horsepower': 80, 'Origin': 'USA'},\n",
       "    {'Acceleration': 21, 'Horsepower': 65, 'Origin': 'Japan'},\n",
       "    {'Acceleration': 17, 'Horsepower': 75, 'Origin': 'USA'},\n",
       "    {'Acceleration': 17, 'Horsepower': 100, 'Origin': 'USA'},\n",
       "    {'Acceleration': 18, 'Horsepower': 110, 'Origin': 'USA'},\n",
       "    {'Acceleration': 16.5, 'Horsepower': 105, 'Origin': 'USA'},\n",
       "    {'Acceleration': 14, 'Horsepower': 140, 'Origin': 'USA'},\n",
       "    {'Acceleration': 14.5, 'Horsepower': 150, 'Origin': 'USA'},\n",
       "    {'Acceleration': 13.5, 'Horsepower': 150, 'Origin': 'USA'},\n",
       "    {'Acceleration': 16, 'Horsepower': 140, 'Origin': 'USA'},\n",
       "    {'Acceleration': 15.5, 'Horsepower': 150, 'Origin': 'USA'},\n",
       "    {'Acceleration': 16.5, 'Horsepower': 83, 'Origin': 'Europe'},\n",
       "    {'Acceleration': 15.5, 'Horsepower': 67, 'Origin': 'Europe'},\n",
       "    {'Acceleration': 14.5, 'Horsepower': 78, 'Origin': 'Europe'},\n",
       "    {'Acceleration': 16.5, 'Horsepower': 52, 'Origin': 'Japan'},\n",
       "    {'Acceleration': 19, 'Horsepower': 61, 'Origin': 'Japan'},\n",
       "    {'Acceleration': 14.5, 'Horsepower': 75, 'Origin': 'USA'},\n",
       "    {'Acceleration': 15.5, 'Horsepower': 75, 'Origin': 'Europe'},\n",
       "    {'Acceleration': 14, 'Horsepower': 75, 'Origin': 'Europe'},\n",
       "    {'Acceleration': 15, 'Horsepower': 97, 'Origin': 'Japan'},\n",
       "    {'Acceleration': 15.5, 'Horsepower': 93, 'Origin': 'Japan'},\n",
       "    {'Acceleration': 16, 'Horsepower': 67, 'Origin': 'Europe'},\n",
       "    {'Acceleration': 16, 'Horsepower': 95, 'Origin': 'USA'},\n",
       "    {'Acceleration': 16, 'Horsepower': 105, 'Origin': 'USA'},\n",
       "    {'Acceleration': 21, 'Horsepower': 72, 'Origin': 'USA'},\n",
       "    {'Acceleration': 19.5, 'Horsepower': 72, 'Origin': 'USA'},\n",
       "    {'Acceleration': 11.5, 'Horsepower': 170, 'Origin': 'USA'},\n",
       "    {'Acceleration': 14, 'Horsepower': 145, 'Origin': 'USA'},\n",
       "    {'Acceleration': 14.5, 'Horsepower': 150, 'Origin': 'USA'},\n",
       "    {'Acceleration': 13.5, 'Horsepower': 148, 'Origin': 'USA'},\n",
       "    {'Acceleration': 21, 'Horsepower': 110, 'Origin': 'USA'},\n",
       "    {'Acceleration': 18.5, 'Horsepower': 105, 'Origin': 'USA'},\n",
       "    {'Acceleration': 19, 'Horsepower': 110, 'Origin': 'USA'},\n",
       "    {'Acceleration': 19, 'Horsepower': 95, 'Origin': 'USA'},\n",
       "    {'Acceleration': 15, 'Horsepower': 110, 'Origin': 'USA'},\n",
       "    {'Acceleration': 13.5, 'Horsepower': 110, 'Origin': 'USA'},\n",
       "    {'Acceleration': 12, 'Horsepower': 129, 'Origin': 'USA'},\n",
       "    {'Acceleration': 16, 'Horsepower': 75, 'Origin': 'Japan'},\n",
       "    {'Acceleration': 17, 'Horsepower': 83, 'Origin': 'USA'},\n",
       "    {'Acceleration': 16, 'Horsepower': 100, 'Origin': 'USA'},\n",
       "    {'Acceleration': 18.5, 'Horsepower': 78, 'Origin': 'USA'},\n",
       "    {'Acceleration': 13.5, 'Horsepower': 96, 'Origin': 'Japan'},\n",
       "    {'Acceleration': 16.5, 'Horsepower': 71, 'Origin': 'Europe'},\n",
       "    {'Acceleration': 17, 'Horsepower': 97, 'Origin': 'Japan'},\n",
       "    {'Acceleration': 14.5, 'Horsepower': 97, 'Origin': 'USA'},\n",
       "    {'Acceleration': 14, 'Horsepower': 70, 'Origin': 'Europe'},\n",
       "    {'Acceleration': 17, 'Horsepower': 90, 'Origin': 'USA'},\n",
       "    {'Acceleration': 15, 'Horsepower': 95, 'Origin': 'Europe'},\n",
       "    {'Acceleration': 17, 'Horsepower': 88, 'Origin': 'Europe'},\n",
       "    {'Acceleration': 14.5, 'Horsepower': 98, 'Origin': 'Europe'},\n",
       "    {'Acceleration': 13.5, 'Horsepower': 115, 'Origin': 'Europe'},\n",
       "    {'Acceleration': 17.5, 'Horsepower': 53, 'Origin': 'Japan'},\n",
       "    {'Acceleration': 15.5, 'Horsepower': 86, 'Origin': 'Europe'},\n",
       "    {'Acceleration': 16.9, 'Horsepower': 81, 'Origin': 'Europe'},\n",
       "    {'Acceleration': 14.9, 'Horsepower': 92, 'Origin': 'USA'},\n",
       "    {'Acceleration': 17.7, 'Horsepower': 79, 'Origin': 'USA'},\n",
       "    {'Acceleration': 15.3, 'Horsepower': 83, 'Origin': 'Europe'},\n",
       "    {'Acceleration': 13, 'Horsepower': 140, 'Origin': 'USA'},\n",
       "    {'Acceleration': 13, 'Horsepower': 150, 'Origin': 'USA'},\n",
       "    {'Acceleration': 13.9, 'Horsepower': 120, 'Origin': 'USA'},\n",
       "    {'Acceleration': 12.8, 'Horsepower': 152, 'Origin': 'USA'},\n",
       "    {'Acceleration': 15.4, 'Horsepower': 100, 'Origin': 'USA'},\n",
       "    {'Acceleration': 14.5, 'Horsepower': 105, 'Origin': 'USA'},\n",
       "    {'Acceleration': 17.6, 'Horsepower': 81, 'Origin': 'USA'},\n",
       "    {'Acceleration': 17.6, 'Horsepower': 90, 'Origin': 'USA'},\n",
       "    {'Acceleration': 22.2, 'Horsepower': 52, 'Origin': 'USA'},\n",
       "    {'Acceleration': 22.1, 'Horsepower': 60, 'Origin': 'USA'},\n",
       "    {'Acceleration': 14.2, 'Horsepower': 70, 'Origin': 'Europe'},\n",
       "    {'Acceleration': 17.4, 'Horsepower': 53, 'Origin': 'Japan'},\n",
       "    {'Acceleration': 17.7, 'Horsepower': 100, 'Origin': 'USA'},\n",
       "    {'Acceleration': 21, 'Horsepower': 78, 'Origin': 'USA'},\n",
       "    {'Acceleration': 16.2, 'Horsepower': 110, 'Origin': 'USA'},\n",
       "    {'Acceleration': 17.8, 'Horsepower': 95, 'Origin': 'USA'},\n",
       "    {'Acceleration': 12.2, 'Horsepower': 71, 'Origin': 'Europe'},\n",
       "    {'Acceleration': 17, 'Horsepower': 70, 'Origin': 'Japan'},\n",
       "    {'Acceleration': 16.4, 'Horsepower': 75, 'Origin': 'Japan'},\n",
       "    {'Acceleration': 13.6, 'Horsepower': 72, 'Origin': 'USA'},\n",
       "    {'Acceleration': 15.7, 'Horsepower': 102, 'Origin': 'Europe'},\n",
       "    {'Acceleration': 13.2, 'Horsepower': 150, 'Origin': 'USA'},\n",
       "    {'Acceleration': 21.9, 'Horsepower': 88, 'Origin': 'Europe'},\n",
       "    {'Acceleration': 15.5, 'Horsepower': 108, 'Origin': 'Japan'},\n",
       "    {'Acceleration': 16.7, 'Horsepower': 120, 'Origin': 'Europe'},\n",
       "    {'Acceleration': 12.1, 'Horsepower': 180, 'Origin': 'USA'},\n",
       "    {'Acceleration': 12, 'Horsepower': 145, 'Origin': 'USA'},\n",
       "    {'Acceleration': 15, 'Horsepower': 130, 'Origin': 'USA'},\n",
       "    {'Acceleration': 14, 'Horsepower': 150, 'Origin': 'USA'},\n",
       "    {'Acceleration': 18.5, 'Horsepower': 68, 'Origin': 'Japan'},\n",
       "    {'Acceleration': 14.8, 'Horsepower': 80, 'Origin': 'USA'},\n",
       "    {'Acceleration': 18.6, 'Horsepower': 58, 'Origin': 'Europe'},\n",
       "    {'Acceleration': 15.5, 'Horsepower': 96, 'Origin': 'USA'},\n",
       "    {'Acceleration': 16.8, 'Horsepower': 70, 'Origin': 'Japan'},\n",
       "    {'Acceleration': 12.5, 'Horsepower': 145, 'Origin': 'USA'},\n",
       "    {'Acceleration': 19, 'Horsepower': 110, 'Origin': 'USA'},\n",
       "    {'Acceleration': 13.7, 'Horsepower': 145, 'Origin': 'USA'},\n",
       "    {'Acceleration': 14.9, 'Horsepower': 130, 'Origin': 'USA'},\n",
       "    {'Acceleration': 16.4, 'Horsepower': 110, 'Origin': 'USA'},\n",
       "    {'Acceleration': 16.9, 'Horsepower': 105, 'Origin': 'USA'},\n",
       "    {'Acceleration': 17.7, 'Horsepower': 100, 'Origin': 'USA'},\n",
       "    {'Acceleration': 19, 'Horsepower': 98, 'Origin': 'USA'},\n",
       "    {'Acceleration': 11.1, 'Horsepower': 180, 'Origin': 'USA'},\n",
       "    {'Acceleration': 11.4, 'Horsepower': 170, 'Origin': 'USA'},\n",
       "    {'Acceleration': 12.2, 'Horsepower': 190, 'Origin': 'USA'},\n",
       "    {'Acceleration': 14.5, 'Horsepower': 149, 'Origin': 'USA'},\n",
       "    {'Acceleration': 14.5, 'Horsepower': 78, 'Origin': 'Europe'},\n",
       "    {'Acceleration': 16, 'Horsepower': 88, 'Origin': 'USA'},\n",
       "    {'Acceleration': 18.2, 'Horsepower': 75, 'Origin': 'Japan'},\n",
       "    {'Acceleration': 15.8, 'Horsepower': 89, 'Origin': 'USA'},\n",
       "    {'Acceleration': 17, 'Horsepower': 63, 'Origin': 'USA'},\n",
       "    {'Acceleration': 15.9, 'Horsepower': 83, 'Origin': 'USA'},\n",
       "    {'Acceleration': 16.4, 'Horsepower': 67, 'Origin': 'Japan'},\n",
       "    {'Acceleration': 14.1, 'Horsepower': 78, 'Origin': 'Europe'},\n",
       "    {'Acceleration': 14.5, 'Horsepower': 97, 'Origin': 'Japan'},\n",
       "    {'Acceleration': 12.8, 'Horsepower': 110, 'Origin': 'Europe'},\n",
       "    {'Acceleration': 13.5, 'Horsepower': 110, 'Origin': 'Japan'},\n",
       "    {'Acceleration': 21.5, 'Horsepower': 48, 'Origin': 'Europe'},\n",
       "    {'Acceleration': 14.4, 'Horsepower': 66, 'Origin': 'USA'},\n",
       "    {'Acceleration': 19.4, 'Horsepower': 52, 'Origin': 'Japan'},\n",
       "    {'Acceleration': 18.6, 'Horsepower': 70, 'Origin': 'Japan'},\n",
       "    {'Acceleration': 16.4, 'Horsepower': 60, 'Origin': 'Japan'},\n",
       "    {'Acceleration': 15.5, 'Horsepower': 110, 'Origin': 'USA'},\n",
       "    {'Acceleration': 13.2, 'Horsepower': 140, 'Origin': 'USA'},\n",
       "    {'Acceleration': 12.8, 'Horsepower': 139, 'Origin': 'USA'},\n",
       "    {'Acceleration': 19.2, 'Horsepower': 105, 'Origin': 'USA'},\n",
       "    {'Acceleration': 18.2, 'Horsepower': 95, 'Origin': 'USA'},\n",
       "    {'Acceleration': 15.8, 'Horsepower': 85, 'Origin': 'USA'},\n",
       "    {'Acceleration': 15.4, 'Horsepower': 88, 'Origin': 'USA'},\n",
       "    {'Acceleration': 17.2, 'Horsepower': 100, 'Origin': 'USA'},\n",
       "    {'Acceleration': 17.2, 'Horsepower': 90, 'Origin': 'USA'},\n",
       "    {'Acceleration': 15.8, 'Horsepower': 105, 'Origin': 'USA'},\n",
       "    {'Acceleration': 16.7, 'Horsepower': 85, 'Origin': 'USA'},\n",
       "    {'Acceleration': 18.7, 'Horsepower': 110, 'Origin': 'USA'},\n",
       "    {'Acceleration': 15.1, 'Horsepower': 120, 'Origin': 'USA'},\n",
       "    {'Acceleration': 13.2, 'Horsepower': 145, 'Origin': 'USA'},\n",
       "    {'Acceleration': 13.4, 'Horsepower': 165, 'Origin': 'USA'},\n",
       "    {'Acceleration': 11.2, 'Horsepower': 139, 'Origin': 'USA'},\n",
       "    {'Acceleration': 13.7, 'Horsepower': 140, 'Origin': 'USA'},\n",
       "    {'Acceleration': 16.5, 'Horsepower': 68, 'Origin': 'USA'},\n",
       "    {'Acceleration': 14.2, 'Horsepower': 95, 'Origin': 'Japan'},\n",
       "    {'Acceleration': 14.7, 'Horsepower': 97, 'Origin': 'Japan'},\n",
       "    {'Acceleration': 14.5, 'Horsepower': 75, 'Origin': 'USA'},\n",
       "    {'Acceleration': 14.8, 'Horsepower': 95, 'Origin': 'Japan'},\n",
       "    {'Acceleration': 16.7, 'Horsepower': 105, 'Origin': 'USA'},\n",
       "    {'Acceleration': 17.6, 'Horsepower': 85, 'Origin': 'USA'},\n",
       "    {'Acceleration': 14.9, 'Horsepower': 97, 'Origin': 'Japan'},\n",
       "    {'Acceleration': 15.9, 'Horsepower': 103, 'Origin': 'Europe'},\n",
       "    {'Acceleration': 13.6, 'Horsepower': 125, 'Origin': 'Europe'},\n",
       "    {'Acceleration': 15.7, 'Horsepower': 115, 'Origin': 'Europe'},\n",
       "    {'Acceleration': 15.8, 'Horsepower': 133, 'Origin': 'Europe'},\n",
       "    {'Acceleration': 14.9, 'Horsepower': 71, 'Origin': 'Europe'},\n",
       "    {'Acceleration': 16.6, 'Horsepower': 68, 'Origin': 'Japan'},\n",
       "    {'Acceleration': 15.4, 'Horsepower': 115, 'Origin': 'USA'},\n",
       "    {'Acceleration': 18.2, 'Horsepower': 85, 'Origin': 'USA'},\n",
       "    {'Acceleration': 17.3, 'Horsepower': 88, 'Origin': 'USA'},\n",
       "    {'Acceleration': 18.2, 'Horsepower': 90, 'Origin': 'USA'},\n",
       "    {'Acceleration': 16.6, 'Horsepower': 110, 'Origin': 'USA'},\n",
       "    {'Acceleration': 15.4, 'Horsepower': 130, 'Origin': 'USA'},\n",
       "    {'Acceleration': 13.4, 'Horsepower': 129, 'Origin': 'USA'},\n",
       "    {'Acceleration': 13.2, 'Horsepower': 138, 'Origin': 'USA'},\n",
       "    {'Acceleration': 15.2, 'Horsepower': 135, 'Origin': 'USA'},\n",
       "    {'Acceleration': 14.9, 'Horsepower': 155, 'Origin': 'USA'},\n",
       "    {'Acceleration': 14.3, 'Horsepower': 142, 'Origin': 'USA'},\n",
       "    {'Acceleration': 15, 'Horsepower': 125, 'Origin': 'USA'},\n",
       "    {'Acceleration': 13, 'Horsepower': 150, 'Origin': 'USA'},\n",
       "    {'Acceleration': 14, 'Horsepower': 71, 'Origin': 'Europe'},\n",
       "    {'Acceleration': 15.2, 'Horsepower': 65, 'Origin': 'Japan'},\n",
       "    {'Acceleration': 14.4, 'Horsepower': 80, 'Origin': 'USA'},\n",
       "    {'Acceleration': 15, 'Horsepower': 80, 'Origin': 'USA'},\n",
       "    {'Acceleration': 20.1, 'Horsepower': 77, 'Origin': 'Europe'},\n",
       "    {'Acceleration': 17.4, 'Horsepower': 125, 'Origin': 'USA'},\n",
       "    {'Acceleration': 24.8, 'Horsepower': 71, 'Origin': 'Europe'},\n",
       "    {'Acceleration': 22.2, 'Horsepower': 90, 'Origin': 'USA'},\n",
       "    {'Acceleration': 13.2, 'Horsepower': 70, 'Origin': 'USA'},\n",
       "    {'Acceleration': 14.9, 'Horsepower': 70, 'Origin': 'USA'},\n",
       "    {'Acceleration': 19.2, 'Horsepower': 65, 'Origin': 'Japan'},\n",
       "    {'Acceleration': 14.7, 'Horsepower': 69, 'Origin': 'Europe'},\n",
       "    {'Acceleration': 16, 'Horsepower': 90, 'Origin': 'USA'},\n",
       "    {'Acceleration': 11.3, 'Horsepower': 115, 'Origin': 'USA'},\n",
       "    {'Acceleration': 12.9, 'Horsepower': 115, 'Origin': 'USA'},\n",
       "    {'Acceleration': 13.2, 'Horsepower': 90, 'Origin': 'USA'},\n",
       "    {'Acceleration': 14.7, 'Horsepower': 76, 'Origin': 'Europe'},\n",
       "    {'Acceleration': 18.8, 'Horsepower': 60, 'Origin': 'Japan'},\n",
       "    {'Acceleration': 15.5, 'Horsepower': 70, 'Origin': 'USA'},\n",
       "    {'Acceleration': 16.4, 'Horsepower': 65, 'Origin': 'Japan'},\n",
       "    {'Acceleration': 16.5, 'Horsepower': 90, 'Origin': 'USA'},\n",
       "    {'Acceleration': 18.1, 'Horsepower': 88, 'Origin': 'USA'},\n",
       "    {'Acceleration': 20.1, 'Horsepower': 90, 'Origin': 'USA'},\n",
       "    {'Acceleration': 18.7, 'Horsepower': 90, 'Origin': 'USA'},\n",
       "    {'Acceleration': 15.8, 'Horsepower': 78, 'Origin': 'Europe'},\n",
       "    {'Acceleration': 15.5, 'Horsepower': 90, 'Origin': 'Japan'},\n",
       "    {'Acceleration': 17.5, 'Horsepower': 75, 'Origin': 'Japan'},\n",
       "    {'Acceleration': 15, 'Horsepower': 92, 'Origin': 'Japan'},\n",
       "    {'Acceleration': 15.2, 'Horsepower': 75, 'Origin': 'Japan'},\n",
       "    {'Acceleration': 17.9, 'Horsepower': 65, 'Origin': 'Japan'},\n",
       "    {'Acceleration': 14.4, 'Horsepower': 105, 'Origin': 'USA'},\n",
       "    {'Acceleration': 19.2, 'Horsepower': 65, 'Origin': 'Japan'},\n",
       "    {'Acceleration': 21.7, 'Horsepower': 48, 'Origin': 'Europe'},\n",
       "    {'Acceleration': 23.7, 'Horsepower': 48, 'Origin': 'Europe'},\n",
       "    {'Acceleration': 19.9, 'Horsepower': 67, 'Origin': 'Europe'},\n",
       "    {'Acceleration': 21.8, 'Horsepower': 67, 'Origin': 'Europe'},\n",
       "    {'Acceleration': 13.8, 'Horsepower': 67, 'Origin': 'Japan'},\n",
       "    {'Acceleration': 18, 'Horsepower': 67, 'Origin': 'Japan'},\n",
       "    {'Acceleration': 15.3, 'Horsepower': 62, 'Origin': 'Europe'},\n",
       "    {'Acceleration': 11.4, 'Horsepower': 132, 'Origin': 'Japan'},\n",
       "    {'Acceleration': 12.5, 'Horsepower': 100, 'Origin': 'Japan'},\n",
       "    {'Acceleration': 15.1, 'Horsepower': 88, 'Origin': 'Europe'},\n",
       "    {'Acceleration': 17, 'Horsepower': 72, 'Origin': 'Japan'},\n",
       "    {'Acceleration': 15.7, 'Horsepower': 84, 'Origin': 'USA'},\n",
       "    {'Acceleration': 16.4, 'Horsepower': 84, 'Origin': 'USA'},\n",
       "    {'Acceleration': 14.4, 'Horsepower': 92, 'Origin': 'USA'},\n",
       "    {'Acceleration': 12.6, 'Horsepower': 110, 'Origin': 'USA'},\n",
       "    {'Acceleration': 12.9, 'Horsepower': 84, 'Origin': 'USA'},\n",
       "    {'Acceleration': 16.9, 'Horsepower': 58, 'Origin': 'Japan'},\n",
       "    {'Acceleration': 16.4, 'Horsepower': 64, 'Origin': 'USA'},\n",
       "    {'Acceleration': 16.1, 'Horsepower': 60, 'Origin': 'Japan'},\n",
       "    {'Acceleration': 17.8, 'Horsepower': 67, 'Origin': 'Japan'},\n",
       "    {'Acceleration': 19.4, 'Horsepower': 65, 'Origin': 'Japan'},\n",
       "    {'Acceleration': 17.3, 'Horsepower': 62, 'Origin': 'Japan'},\n",
       "    {'Acceleration': 16, 'Horsepower': 68, 'Origin': 'Japan'},\n",
       "    {'Acceleration': 14.9, 'Horsepower': 63, 'Origin': 'USA'},\n",
       "    {'Acceleration': 16.2, 'Horsepower': 65, 'Origin': 'USA'},\n",
       "    {'Acceleration': 20.7, 'Horsepower': 65, 'Origin': 'USA'},\n",
       "    {'Acceleration': 14.2, 'Horsepower': 74, 'Origin': 'Europe'},\n",
       "    {'Acceleration': 14.4, 'Horsepower': 75, 'Origin': 'Japan'},\n",
       "    {'Acceleration': 16.8, 'Horsepower': 75, 'Origin': 'Japan'},\n",
       "    {'Acceleration': 14.8, 'Horsepower': 100, 'Origin': 'Japan'},\n",
       "    {'Acceleration': 18.3, 'Horsepower': 74, 'Origin': 'Japan'},\n",
       "    {'Acceleration': 20.4, 'Horsepower': 80, 'Origin': 'Europe'},\n",
       "    {'Acceleration': 19.6, 'Horsepower': 76, 'Origin': 'Europe'},\n",
       "    {'Acceleration': 12.6, 'Horsepower': 116, 'Origin': 'Japan'},\n",
       "    {'Acceleration': 13.8, 'Horsepower': 120, 'Origin': 'Japan'},\n",
       "    {'Acceleration': 15.8, 'Horsepower': 110, 'Origin': 'USA'},\n",
       "    {'Acceleration': 19, 'Horsepower': 105, 'Origin': 'USA'},\n",
       "    {'Acceleration': 17.1, 'Horsepower': 88, 'Origin': 'USA'},\n",
       "    {'Acceleration': 16.6, 'Horsepower': 85, 'Origin': 'USA'},\n",
       "    {'Acceleration': 19.6, 'Horsepower': 88, 'Origin': 'USA'},\n",
       "    {'Acceleration': 18.6, 'Horsepower': 88, 'Origin': 'USA'},\n",
       "    {'Acceleration': 18, 'Horsepower': 88, 'Origin': 'USA'},\n",
       "    {'Acceleration': 16.2, 'Horsepower': 85, 'Origin': 'USA'},\n",
       "    {'Acceleration': 16, 'Horsepower': 84, 'Origin': 'USA'},\n",
       "    {'Acceleration': 18, 'Horsepower': 90, 'Origin': 'USA'},\n",
       "    {'Acceleration': 16.4, 'Horsepower': 92, 'Origin': 'USA'},\n",
       "    {'Acceleration': 15.3, 'Horsepower': 74, 'Origin': 'Europe'},\n",
       "    {'Acceleration': 18.2, 'Horsepower': 68, 'Origin': 'Japan'},\n",
       "    {'Acceleration': 17.6, 'Horsepower': 68, 'Origin': 'Japan'},\n",
       "    {'Acceleration': 14.7, 'Horsepower': 63, 'Origin': 'USA'},\n",
       "    {'Acceleration': 17.3, 'Horsepower': 70, 'Origin': 'USA'},\n",
       "    {'Acceleration': 14.5, 'Horsepower': 88, 'Origin': 'Japan'},\n",
       "    {'Acceleration': 14.5, 'Horsepower': 75, 'Origin': 'Japan'},\n",
       "    {'Acceleration': 16.9, 'Horsepower': 70, 'Origin': 'Japan'},\n",
       "    {'Acceleration': 15, 'Horsepower': 67, 'Origin': 'Japan'},\n",
       "    {'Acceleration': 15.7, 'Horsepower': 67, 'Origin': 'Japan'},\n",
       "    {'Acceleration': 16.2, 'Horsepower': 67, 'Origin': 'Japan'},\n",
       "    {'Acceleration': 16.4, 'Horsepower': 110, 'Origin': 'USA'},\n",
       "    {'Acceleration': 17, 'Horsepower': 85, 'Origin': 'USA'},\n",
       "    {'Acceleration': 14.5, 'Horsepower': 92, 'Origin': 'USA'},\n",
       "    {'Acceleration': 14.7, 'Horsepower': 112, 'Origin': 'USA'},\n",
       "    {'Acceleration': 13.9, 'Horsepower': 96, 'Origin': 'Japan'},\n",
       "    {'Acceleration': 13, 'Horsepower': 84, 'Origin': 'USA'},\n",
       "    {'Acceleration': 17.3, 'Horsepower': 90, 'Origin': 'USA'},\n",
       "    {'Acceleration': 15.6, 'Horsepower': 86, 'Origin': 'USA'},\n",
       "    {'Acceleration': 24.6, 'Horsepower': 52, 'Origin': 'Europe'},\n",
       "    {'Acceleration': 11.6, 'Horsepower': 84, 'Origin': 'USA'},\n",
       "    {'Acceleration': 18.6, 'Horsepower': 79, 'Origin': 'USA'},\n",
       "    {'Acceleration': 19.4, 'Horsepower': 82, 'Origin': 'USA'}]},\n",
       "  'encoding': {'color': {'field': 'Origin', 'type': 'nominal'},\n",
       "   'x': {'field': 'Acceleration',\n",
       "    'scale': {'domain': [8, 24.8]},\n",
       "    'type': 'quantitative'},\n",
       "   'y': {'field': 'Horsepower',\n",
       "    'scale': {'domain': [46, 230]},\n",
       "    'type': 'quantitative'}},\n",
       "  'height': 150,\n",
       "  'mark': 'circle',\n",
       "  'selection': {'selector013': {'bind': 'scales',\n",
       "    'encodings': ['x', 'y'],\n",
       "    'type': 'interval'}},\n",
       "  'width': 160}}"
      ]
     },
     "execution_count": 29,
     "metadata": {},
     "output_type": "execute_result"
    }
   ],
   "source": [
    "df[df[\"type\"]==\"clickVis\"].param.values[0]"
   ]
  },
  {
   "cell_type": "markdown",
   "metadata": {},
   "source": [
    "### Code Analysis"
   ]
  },
  {
   "cell_type": "code",
   "execution_count": 30,
   "metadata": {},
   "outputs": [],
   "source": [
    "codeList = df.code.unique()"
   ]
  },
  {
   "cell_type": "code",
   "execution_count": 31,
   "metadata": {},
   "outputs": [],
   "source": [
    "luxKeywords = ['intent', 'exported']"
   ]
  },
  {
   "cell_type": "code",
   "execution_count": 32,
   "metadata": {},
   "outputs": [
    {
     "data": {
      "text/plain": [
       "['df.exported', 'vis = df.exported[0]\\nvis ']"
      ]
     },
     "execution_count": 32,
     "metadata": {},
     "output_type": "execute_result"
    }
   ],
   "source": [
    "list(filter(lambda x: 'exported' in str(x), codeList))"
   ]
  },
  {
   "cell_type": "code",
   "execution_count": null,
   "metadata": {},
   "outputs": [],
   "source": []
  }
 ],
 "metadata": {
  "history": [
   {
    "code": "import json\nnb = json.load(open(\"CarsDemo.ipynb\"))\nlog = nb[\"metadata\"][\"history\"]",
    "id": "4bcfa4ca9b2149038092c90067575ae9",
    "order_count": 0,
    "time": "2020-09-23T23:34:05.655Z",
    "type": "editCodeCell"
   },
   {
    "time": "2020-09-23T23:34:06.299Z",
    "type": "kernelReady"
   },
   {
    "code": "import json\nnb = json.load(open(\"CarsDemo.ipynb\"))\nlog = nb[\"metadata\"][\"history\"]",
    "id": "4bcfa4ca9b2149038092c90067575ae9",
    "order_count": 0,
    "time": "2020-09-23T23:34:06.321Z",
    "type": "executeCodeCell"
   },
   {
    "code": "import pandas as pd\ndf = pd.DataFrame(log)\ndf[\"time\"] = pd.to_datetime(df[\"time\"])",
    "id": "75d9c18b3c064ec583d88eff07b26c4a",
    "order_count": 1,
    "time": "2020-09-23T23:34:06.353Z",
    "type": "selectCodeCell"
   },
   {
    "code": "import json\nnb = json.load(open(\"CarsDemo.ipynb\"))\nlog = nb[\"metadata\"][\"history\"]",
    "id": "4bcfa4ca9b2149038092c90067575ae9",
    "isPrintLuxDf": false,
    "isPrintPandasDf": false,
    "isPrintVis": false,
    "isPrintVisCollection": false,
    "order_count": 0,
    "time": "2020-09-23T23:34:06.357Z",
    "type": "completeCodeCell"
   },
   {
    "code": "import json\nnb = json.load(open(\"CarsDemo.ipynb\"))\nlog = nb[\"metadata\"][\"history\"]",
    "id": "4bcfa4ca9b2149038092c90067575ae9",
    "order_count": 0,
    "time": "2020-09-23T23:34:08.197Z",
    "type": "selectCodeCell"
   },
   {
    "code": "import json\nnb = json.load(open(\"CarsDemo.ipynb\"))\nlog = nb[\"metadata\"][\"history\"]",
    "id": "4bcfa4ca9b2149038092c90067575ae9",
    "order_count": 0,
    "time": "2020-09-23T23:34:08.208Z",
    "type": "editCodeCell"
   },
   {
    "code": "import json\nnb = json.load(open(\"CarsDemo.ipynb\"))\nlog = nb[\"metadata\"][\"history\"]",
    "id": "4bcfa4ca9b2149038092c90067575ae9",
    "order_count": 0,
    "time": "2020-09-23T23:34:08.909Z",
    "type": "executeCodeCell"
   },
   {
    "code": "import pandas as pd\ndf = pd.DataFrame(log)\ndf[\"time\"] = pd.to_datetime(df[\"time\"])",
    "id": "75d9c18b3c064ec583d88eff07b26c4a",
    "order_count": 1,
    "time": "2020-09-23T23:34:08.934Z",
    "type": "selectCodeCell"
   },
   {
    "code": "import json\nnb = json.load(open(\"CarsDemo.ipynb\"))\nlog = nb[\"metadata\"][\"history\"]",
    "id": "4bcfa4ca9b2149038092c90067575ae9",
    "isPrintLuxDf": false,
    "isPrintPandasDf": false,
    "isPrintVis": false,
    "isPrintVisCollection": false,
    "order_count": 0,
    "time": "2020-09-23T23:34:08.938Z",
    "type": "completeCodeCell"
   },
   {
    "code": "import pandas as pd\ndf = pd.DataFrame(log)\ndf[\"time\"] = pd.to_datetime(df[\"time\"])",
    "id": "75d9c18b3c064ec583d88eff07b26c4a",
    "order_count": 1,
    "time": "2020-09-23T23:34:09.636Z",
    "type": "executeCodeCell"
   },
   {
    "code": "#### Merge editCodeCell, executeCodeCell and completeCodeCell into one based on id with 2 additional computed interval",
    "id": "24603c110d4349ea869d5068e2ccf73e",
    "order_count": 2,
    "time": "2020-09-23T23:34:09.644Z",
    "type": "selectMarkdownCell"
   },
   {
    "code": "import pandas as pd\ndf = pd.DataFrame(log)\ndf[\"time\"] = pd.to_datetime(df[\"time\"])",
    "id": "75d9c18b3c064ec583d88eff07b26c4a",
    "isPrintLuxDf": false,
    "isPrintPandasDf": false,
    "isPrintVis": false,
    "isPrintVisCollection": false,
    "order_count": 1,
    "time": "2020-09-23T23:34:10.416Z",
    "type": "completeCodeCell"
   },
   {
    "code": "```\nqueryFormulationTime = T(editCodeCell) - T(executeCodeCell)\ncodeExecutionTime = T(completeCodeCell) - T(executeCodeCell)\n```",
    "id": "6d6635244217404c829a36329f083657",
    "order_count": 3,
    "time": "2020-09-23T23:34:11.816Z",
    "type": "selectMarkdownCell"
   },
   {
    "code": "subset1 = df[(df[\"type\"]==\"editCodeCell\")|(df[\"type\"]==\"executeCodeCell\")]\nsubset1.loc[:,\"queryFormulationTime\"] = subset1.groupby([\"id\"])[\"time\"].diff()",
    "id": "0c7a3437ac744d858f9e943d36d637b3",
    "order_count": 4,
    "time": "2020-09-23T23:34:12.255Z",
    "type": "selectCodeCell"
   },
   {
    "code": "subset1 = df[(df[\"type\"]==\"editCodeCell\")|(df[\"type\"]==\"executeCodeCell\")]\nsubset1.loc[:,\"queryFormulationTime\"] = subset1.groupby([\"id\"])[\"time\"].diff()",
    "id": "0c7a3437ac744d858f9e943d36d637b3",
    "order_count": 4,
    "time": "2020-09-23T23:34:12.701Z",
    "type": "executeCodeCell"
   },
   {
    "code": "subset2 = df[(df[\"type\"]==\"executeCodeCell\")|(df[\"type\"]==\"completeCodeCell\")]\nsubset2.loc[:,\"codeExecutionTime\"] = subset2.groupby([\"id\"])[\"time\"].diff()",
    "id": "5ec35d107a5841a3a8f78bba09f6bfd8",
    "order_count": 5,
    "time": "2020-09-23T23:34:12.723Z",
    "type": "selectCodeCell"
   },
   {
    "code": "subset1 = df[(df[\"type\"]==\"editCodeCell\")|(df[\"type\"]==\"executeCodeCell\")]\nsubset1.loc[:,\"queryFormulationTime\"] = subset1.groupby([\"id\"])[\"time\"].diff()",
    "id": "0c7a3437ac744d858f9e943d36d637b3",
    "isPrintLuxDf": false,
    "isPrintPandasDf": false,
    "isPrintVis": false,
    "isPrintVisCollection": false,
    "order_count": 4,
    "time": "2020-09-23T23:34:12.744Z",
    "type": "completeCodeCell"
   },
   {
    "code": "subset2 = df[(df[\"type\"]==\"executeCodeCell\")|(df[\"type\"]==\"completeCodeCell\")]\nsubset2.loc[:,\"codeExecutionTime\"] = subset2.groupby([\"id\"])[\"time\"].diff()",
    "id": "5ec35d107a5841a3a8f78bba09f6bfd8",
    "order_count": 5,
    "time": "2020-09-23T23:34:14.528Z",
    "type": "executeCodeCell"
   },
   {
    "code": "codeCellsubset=pd.concat([subset1,subset2])",
    "id": "e84fd0e6f67f4210805469131cd21799",
    "order_count": 6,
    "time": "2020-09-23T23:34:14.549Z",
    "type": "selectCodeCell"
   },
   {
    "code": "subset2 = df[(df[\"type\"]==\"executeCodeCell\")|(df[\"type\"]==\"completeCodeCell\")]\nsubset2.loc[:,\"codeExecutionTime\"] = subset2.groupby([\"id\"])[\"time\"].diff()",
    "id": "5ec35d107a5841a3a8f78bba09f6bfd8",
    "isPrintLuxDf": false,
    "isPrintPandasDf": false,
    "isPrintVis": false,
    "isPrintVisCollection": false,
    "order_count": 5,
    "time": "2020-09-23T23:34:14.558Z",
    "type": "completeCodeCell"
   },
   {
    "code": "codeCellsubset=pd.concat([subset1,subset2])",
    "id": "e84fd0e6f67f4210805469131cd21799",
    "order_count": 6,
    "time": "2020-09-23T23:34:15.024Z",
    "type": "executeCodeCell"
   },
   {
    "code": "codeCellsubset[codeCellsubset[\"id\"]==\"b244c5509aa44ae9a534c03b8ea3accc\"]",
    "id": "040874570e2f49149e7af3157a6a4ab6",
    "order_count": 7,
    "time": "2020-09-23T23:34:15.044Z",
    "type": "selectCodeCell"
   },
   {
    "code": "codeCellsubset=pd.concat([subset1,subset2])",
    "id": "e84fd0e6f67f4210805469131cd21799",
    "isPrintLuxDf": false,
    "isPrintPandasDf": false,
    "isPrintVis": false,
    "isPrintVisCollection": false,
    "order_count": 6,
    "time": "2020-09-23T23:34:15.045Z",
    "type": "completeCodeCell"
   },
   {
    "code": "codeCellsubset[codeCellsubset[\"id\"]==\"b244c5509aa44ae9a534c03b8ea3accc\"]",
    "id": "040874570e2f49149e7af3157a6a4ab6",
    "order_count": 7,
    "time": "2020-09-23T23:34:15.921Z",
    "type": "executeCodeCell"
   },
   {
    "code": "import numpy as np",
    "id": "55f8691a81ca48f3854dc9b976099098",
    "order_count": 8,
    "time": "2020-09-23T23:34:15.942Z",
    "type": "selectCodeCell"
   },
   {
    "code": "codeCellsubset[codeCellsubset[\"id\"]==\"b244c5509aa44ae9a534c03b8ea3accc\"]",
    "id": "040874570e2f49149e7af3157a6a4ab6",
    "isPrintLuxDf": false,
    "isPrintPandasDf": true,
    "isPrintVis": false,
    "isPrintVisCollection": false,
    "order_count": 7,
    "time": "2020-09-23T23:34:15.973Z",
    "type": "completeCodeCell"
   },
   {
    "code": "import numpy as np",
    "id": "55f8691a81ca48f3854dc9b976099098",
    "order_count": 8,
    "time": "2020-09-23T23:34:18.636Z",
    "type": "executeCodeCell"
   },
   {
    "code": "#cellEvents is a dataframe with edit/complete/execute Code Cell all merged as one event, with computed queryFormulationTime and codeExecutionTime\ncellEvents = codeCellsubset.groupby(['id']).last()\n# cellEvents = cellEvents.reset_index()\n# cellEvents.type = \"CodeCellEvent\"",
    "id": "0a19e398915244a789e372b0a89395f3",
    "order_count": 9,
    "time": "2020-09-23T23:34:18.658Z",
    "type": "selectCodeCell"
   },
   {
    "code": "import numpy as np",
    "id": "55f8691a81ca48f3854dc9b976099098",
    "isPrintLuxDf": false,
    "isPrintPandasDf": false,
    "isPrintVis": false,
    "isPrintVisCollection": false,
    "order_count": 8,
    "time": "2020-09-23T23:34:18.659Z",
    "type": "completeCodeCell"
   },
   {
    "code": "#cellEvents is a dataframe with edit/complete/execute Code Cell all merged as one event, with computed queryFormulationTime and codeExecutionTime\ncellEvents = codeCellsubset.groupby(['id']).last()\n# cellEvents = cellEvents.reset_index()\n# cellEvents.type = \"CodeCellEvent\"",
    "id": "0a19e398915244a789e372b0a89395f3",
    "order_count": 9,
    "time": "2020-09-23T23:34:19.228Z",
    "type": "executeCodeCell"
   },
   {
    "code": "cellEvents.sort_values('order_count')",
    "id": "38fe3567e85f49ed8e37194b063b07fa",
    "order_count": 10,
    "time": "2020-09-23T23:34:19.250Z",
    "type": "selectCodeCell"
   },
   {
    "code": "#cellEvents is a dataframe with edit/complete/execute Code Cell all merged as one event, with computed queryFormulationTime and codeExecutionTime\ncellEvents = codeCellsubset.groupby(['id']).last()\n# cellEvents = cellEvents.reset_index()\n# cellEvents.type = \"CodeCellEvent\"",
    "id": "0a19e398915244a789e372b0a89395f3",
    "isPrintLuxDf": false,
    "isPrintPandasDf": false,
    "isPrintVis": false,
    "isPrintVisCollection": false,
    "order_count": 9,
    "time": "2020-09-23T23:34:19.251Z",
    "type": "completeCodeCell"
   },
   {
    "code": "cellEvents.sort_values('order_count')",
    "id": "38fe3567e85f49ed8e37194b063b07fa",
    "order_count": 10,
    "time": "2020-09-23T23:34:19.952Z",
    "type": "executeCodeCell"
   },
   {
    "code": "print (\"Total number of dataframe prints:\", sum(cellEvents[\"isPrintPandasDf\"]))\nprint (\"Total number of dataframe prints:\", sum(cellEvents[\"isPrintLuxDf\"]))",
    "id": "9885d35951a64325840766009eaf7ab6",
    "order_count": 11,
    "time": "2020-09-23T23:34:19.971Z",
    "type": "selectCodeCell"
   },
   {
    "code": "cellEvents.sort_values('order_count')",
    "id": "38fe3567e85f49ed8e37194b063b07fa",
    "isPrintLuxDf": false,
    "isPrintPandasDf": true,
    "isPrintVis": false,
    "isPrintVisCollection": false,
    "order_count": 10,
    "time": "2020-09-23T23:34:19.990Z",
    "type": "completeCodeCell"
   },
   {
    "code": "print (\"Total number of dataframe prints:\", sum(cellEvents[\"isPrintPandasDf\"]))\nprint (\"Total number of dataframe prints:\", sum(cellEvents[\"isPrintLuxDf\"]))",
    "id": "9885d35951a64325840766009eaf7ab6",
    "order_count": 11,
    "time": "2020-09-23T23:34:21.890Z",
    "type": "executeCodeCell"
   },
   {
    "code": "### Use `selectCodeCell` events to assign `id` and `order_count` to UI events",
    "id": "880b177effc24fb58ea557a1a3d22aa9",
    "order_count": 12,
    "time": "2020-09-23T23:34:21.895Z",
    "type": "selectMarkdownCell"
   },
   {
    "code": "print (\"Total number of dataframe prints:\", sum(cellEvents[\"isPrintPandasDf\"]))\nprint (\"Total number of dataframe prints:\", sum(cellEvents[\"isPrintLuxDf\"]))",
    "id": "9885d35951a64325840766009eaf7ab6",
    "isPrintLuxDf": false,
    "isPrintPandasDf": false,
    "isPrintVis": false,
    "isPrintVisCollection": false,
    "order_count": 11,
    "time": "2020-09-23T23:34:21.915Z",
    "type": "completeCodeCell"
   },
   {
    "code": "UIevents = ['initWidget','switchTab', 'startScroll', 'stopScroll', \n       'toggleBtnClick', 'clickVis', 'exportBtnClick']",
    "id": "69347471067848ae948a1aebde116fdb",
    "order_count": 13,
    "time": "2020-09-23T23:34:22.370Z",
    "type": "selectCodeCell"
   },
   {
    "code": "UIevents = ['initWidget','switchTab', 'startScroll', 'stopScroll', \n       'toggleBtnClick', 'clickVis', 'exportBtnClick']",
    "id": "69347471067848ae948a1aebde116fdb",
    "order_count": 13,
    "time": "2020-09-23T23:34:22.633Z",
    "type": "executeCodeCell"
   },
   {
    "code": "#fill forwards based on the values in the most recent `selectCodeCell` to infer the order_count and other information about which cell is interacted upon\nuiEventDf = df[df.type.isin(UIevents+['selectCodeCell'])].ffill() ",
    "id": "84d862c587f046049b08d652344f1d43",
    "order_count": 14,
    "time": "2020-09-23T23:34:22.653Z",
    "type": "selectCodeCell"
   },
   {
    "code": "UIevents = ['initWidget','switchTab', 'startScroll', 'stopScroll', \n       'toggleBtnClick', 'clickVis', 'exportBtnClick']",
    "id": "69347471067848ae948a1aebde116fdb",
    "isPrintLuxDf": false,
    "isPrintPandasDf": false,
    "isPrintVis": false,
    "isPrintVisCollection": false,
    "order_count": 13,
    "time": "2020-09-23T23:34:22.654Z",
    "type": "completeCodeCell"
   },
   {
    "code": "#fill forwards based on the values in the most recent `selectCodeCell` to infer the order_count and other information about which cell is interacted upon\nuiEventDf = df[df.type.isin(UIevents+['selectCodeCell'])].ffill() ",
    "id": "84d862c587f046049b08d652344f1d43",
    "order_count": 14,
    "time": "2020-09-23T23:34:23.296Z",
    "type": "executeCodeCell"
   },
   {
    "code": "uiEventDf",
    "id": "29ac4a4c64d4443c8a10de1d71a5f7ef",
    "order_count": 15,
    "time": "2020-09-23T23:34:23.317Z",
    "type": "selectCodeCell"
   },
   {
    "code": "#fill forwards based on the values in the most recent `selectCodeCell` to infer the order_count and other information about which cell is interacted upon\nuiEventDf = df[df.type.isin(UIevents+['selectCodeCell'])].ffill() ",
    "id": "84d862c587f046049b08d652344f1d43",
    "isPrintLuxDf": false,
    "isPrintPandasDf": false,
    "isPrintVis": false,
    "isPrintVisCollection": false,
    "order_count": 14,
    "time": "2020-09-23T23:34:23.318Z",
    "type": "completeCodeCell"
   },
   {
    "code": "uiEventDf",
    "id": "29ac4a4c64d4443c8a10de1d71a5f7ef",
    "order_count": 15,
    "time": "2020-09-23T23:34:23.624Z",
    "type": "executeCodeCell"
   },
   {
    "code": "### Number of Times Lux Widget is initialized",
    "id": "6a1b1669a47849448b1aae200a190363",
    "order_count": 16,
    "time": "2020-09-23T23:34:23.630Z",
    "type": "selectMarkdownCell"
   },
   {
    "code": "uiEventDf",
    "id": "29ac4a4c64d4443c8a10de1d71a5f7ef",
    "isPrintLuxDf": false,
    "isPrintPandasDf": true,
    "isPrintVis": false,
    "isPrintVisCollection": false,
    "order_count": 15,
    "time": "2020-09-23T23:34:23.669Z",
    "type": "completeCodeCell"
   },
   {
    "code": "init = uiEventDf[uiEventDf[\"type\"]=='initWidget']",
    "id": "e9314aa6a66349d6a9a8dd270f293573",
    "order_count": 17,
    "time": "2020-09-23T23:34:24.209Z",
    "type": "selectCodeCell"
   },
   {
    "code": "init = uiEventDf[uiEventDf[\"type\"]=='initWidget']",
    "id": "e9314aa6a66349d6a9a8dd270f293573",
    "order_count": 17,
    "time": "2020-09-23T23:34:24.796Z",
    "type": "executeCodeCell"
   },
   {
    "code": "def filter_df_by_delta(df, timeDelta):\n    return df[df.time.diff()<timeDelta]",
    "id": "3dbe7f4e223647bab652370893ad9aa6",
    "order_count": 18,
    "time": "2020-09-23T23:34:24.817Z",
    "type": "selectCodeCell"
   },
   {
    "code": "init = uiEventDf[uiEventDf[\"type\"]=='initWidget']",
    "id": "e9314aa6a66349d6a9a8dd270f293573",
    "isPrintLuxDf": false,
    "isPrintPandasDf": false,
    "isPrintVis": false,
    "isPrintVisCollection": false,
    "order_count": 17,
    "time": "2020-09-23T23:34:24.818Z",
    "type": "completeCodeCell"
   },
   {
    "code": "def filter_df_by_delta(df, timeDelta):\n    return df[df.time.diff()<timeDelta]",
    "id": "3dbe7f4e223647bab652370893ad9aa6",
    "order_count": 18,
    "time": "2020-09-23T23:34:25.004Z",
    "type": "executeCodeCell"
   },
   {
    "code": "init =  filter_df_by_delta(init,\"00:00:00.5\")",
    "id": "021152ed46b94aff82354c3196369152",
    "order_count": 19,
    "time": "2020-09-23T23:34:25.023Z",
    "type": "selectCodeCell"
   },
   {
    "code": "def filter_df_by_delta(df, timeDelta):\n    return df[df.time.diff()<timeDelta]",
    "id": "3dbe7f4e223647bab652370893ad9aa6",
    "isPrintLuxDf": false,
    "isPrintPandasDf": false,
    "isPrintVis": false,
    "isPrintVisCollection": false,
    "order_count": 18,
    "time": "2020-09-23T23:34:25.024Z",
    "type": "completeCodeCell"
   },
   {
    "code": "init =  filter_df_by_delta(init,\"00:00:00.5\")",
    "id": "021152ed46b94aff82354c3196369152",
    "order_count": 19,
    "time": "2020-09-23T23:34:25.312Z",
    "type": "executeCodeCell"
   },
   {
    "code": "init",
    "id": "e8d246a28aed4d8196e242fb0c1792c9",
    "order_count": 20,
    "time": "2020-09-23T23:34:25.334Z",
    "type": "selectCodeCell"
   },
   {
    "code": "init =  filter_df_by_delta(init,\"00:00:00.5\")",
    "id": "021152ed46b94aff82354c3196369152",
    "isPrintLuxDf": false,
    "isPrintPandasDf": false,
    "isPrintVis": false,
    "isPrintVisCollection": false,
    "order_count": 19,
    "time": "2020-09-23T23:34:25.336Z",
    "type": "completeCodeCell"
   },
   {
    "code": "init",
    "id": "e8d246a28aed4d8196e242fb0c1792c9",
    "order_count": 20,
    "time": "2020-09-23T23:34:25.769Z",
    "type": "executeCodeCell"
   },
   {
    "code": "### Number of Times Toggle to Lux v.s. to Pandas",
    "id": "4a3e37b0b49347b2bd14d76158c7e5a4",
    "order_count": 21,
    "time": "2020-09-23T23:34:25.775Z",
    "type": "selectMarkdownCell"
   },
   {
    "code": "init",
    "id": "e8d246a28aed4d8196e242fb0c1792c9",
    "isPrintLuxDf": false,
    "isPrintPandasDf": true,
    "isPrintVis": false,
    "isPrintVisCollection": false,
    "order_count": 20,
    "time": "2020-09-23T23:34:25.801Z",
    "type": "completeCodeCell"
   },
   {
    "code": "toggle = uiEventDf[uiEventDf[\"type\"]=='toggleBtnClick']\ntoggle = filter_df_by_delta(toggle,\"00:00:00.01\")",
    "id": "a8ddeccc84d240bf8bd85669e35f98e9",
    "order_count": 22,
    "time": "2020-09-23T23:34:26.154Z",
    "type": "selectCodeCell"
   },
   {
    "code": "toggle = uiEventDf[uiEventDf[\"type\"]=='toggleBtnClick']\ntoggle = filter_df_by_delta(toggle,\"00:00:00.01\")",
    "id": "a8ddeccc84d240bf8bd85669e35f98e9",
    "order_count": 22,
    "time": "2020-09-23T23:34:27.200Z",
    "type": "executeCodeCell"
   },
   {
    "code": "toggle",
    "id": "66898b368c30464a8ca628663e919880",
    "order_count": 23,
    "time": "2020-09-23T23:34:27.220Z",
    "type": "selectCodeCell"
   },
   {
    "code": "toggle = uiEventDf[uiEventDf[\"type\"]=='toggleBtnClick']\ntoggle = filter_df_by_delta(toggle,\"00:00:00.01\")",
    "id": "a8ddeccc84d240bf8bd85669e35f98e9",
    "isPrintLuxDf": false,
    "isPrintPandasDf": false,
    "isPrintVis": false,
    "isPrintVisCollection": false,
    "order_count": 22,
    "time": "2020-09-23T23:34:27.221Z",
    "type": "completeCodeCell"
   },
   {
    "code": "toggle",
    "id": "66898b368c30464a8ca628663e919880",
    "order_count": 23,
    "time": "2020-09-23T23:34:27.565Z",
    "type": "executeCodeCell"
   },
   {
    "code": "print (toggle.param)",
    "id": "8b9a23ec4a1642aea454b08d8fee6ea4",
    "order_count": 24,
    "time": "2020-09-23T23:34:27.585Z",
    "type": "selectCodeCell"
   },
   {
    "code": "toggle",
    "id": "66898b368c30464a8ca628663e919880",
    "isPrintLuxDf": false,
    "isPrintPandasDf": true,
    "isPrintVis": false,
    "isPrintVisCollection": false,
    "order_count": 23,
    "time": "2020-09-23T23:34:27.598Z",
    "type": "completeCodeCell"
   },
   {
    "code": "print (toggle.param)",
    "id": "8b9a23ec4a1642aea454b08d8fee6ea4",
    "order_count": 24,
    "time": "2020-09-23T23:34:29.312Z",
    "type": "executeCodeCell"
   },
   {
    "code": "### Interactions with Tabs and Scroll",
    "id": "85029d816f6d4a9084cf79019827c092",
    "order_count": 25,
    "time": "2020-09-23T23:34:29.319Z",
    "type": "selectMarkdownCell"
   },
   {
    "code": "print (toggle.param)",
    "id": "8b9a23ec4a1642aea454b08d8fee6ea4",
    "isPrintLuxDf": false,
    "isPrintPandasDf": false,
    "isPrintVis": false,
    "isPrintVisCollection": false,
    "order_count": 24,
    "time": "2020-09-23T23:34:29.331Z",
    "type": "completeCodeCell"
   },
   {
    "code": "uiEventDf[uiEventDf[\"type\"]=='switchTab']",
    "id": "5f2f5ac15b8c4ddd90458d1aebf66b9f",
    "order_count": 26,
    "time": "2020-09-23T23:34:29.890Z",
    "type": "selectCodeCell"
   },
   {
    "code": "uiEventDf[uiEventDf[\"type\"]=='switchTab']",
    "id": "5f2f5ac15b8c4ddd90458d1aebf66b9f",
    "order_count": 26,
    "time": "2020-09-23T23:34:30.420Z",
    "type": "executeCodeCell"
   },
   {
    "code": "import numpy as np\nscrollEvents = uiEventDf[(uiEventDf[\"type\"]=='startScroll')|(uiEventDf[\"type\"]=='stopScroll')]\n\n# Compute the max-min of the group to find total duration for scrolling\nscrollEvents[\"duration\"] =scrollEvents.groupby([\"id\",\"code\",\"param\"])[\"time\"].transform(np.ptp)\n\nscrollEvents = scrollEvents.drop(columns=[\"time\",\"type\"])\n\nscrollEvents = scrollEvents.drop_duplicates()\n\nscrollEvents",
    "id": "3c31559115c2451ba49126564a537feb",
    "order_count": 27,
    "time": "2020-09-23T23:34:30.446Z",
    "type": "selectCodeCell"
   },
   {
    "code": "uiEventDf[uiEventDf[\"type\"]=='switchTab']",
    "id": "5f2f5ac15b8c4ddd90458d1aebf66b9f",
    "isPrintLuxDf": false,
    "isPrintPandasDf": true,
    "isPrintVis": false,
    "isPrintVisCollection": false,
    "order_count": 26,
    "time": "2020-09-23T23:34:30.449Z",
    "type": "completeCodeCell"
   },
   {
    "code": "import numpy as np\nscrollEvents = uiEventDf[(uiEventDf[\"type\"]=='startScroll')|(uiEventDf[\"type\"]=='stopScroll')]\n\n# Compute the max-min of the group to find total duration for scrolling\nscrollEvents[\"duration\"] =scrollEvents.groupby([\"id\",\"code\",\"param\"])[\"time\"].transform(np.ptp)\n\nscrollEvents = scrollEvents.drop(columns=[\"time\",\"type\"])\n\nscrollEvents = scrollEvents.drop_duplicates()\n\nscrollEvents",
    "id": "3c31559115c2451ba49126564a537feb",
    "order_count": 27,
    "time": "2020-09-23T23:34:30.739Z",
    "type": "executeCodeCell"
   },
   {
    "code": "scrollEvents[\"duration\"] = scrollEvents[\"duration\"].dt.total_seconds()",
    "id": "6dd9203f437d4ec184da1f54269cab92",
    "order_count": 28,
    "time": "2020-09-23T23:34:30.760Z",
    "type": "selectCodeCell"
   },
   {
    "code": "import numpy as np\nscrollEvents = uiEventDf[(uiEventDf[\"type\"]=='startScroll')|(uiEventDf[\"type\"]=='stopScroll')]\n\n# Compute the max-min of the group to find total duration for scrolling\nscrollEvents[\"duration\"] =scrollEvents.groupby([\"id\",\"code\",\"param\"])[\"time\"].transform(np.ptp)\n\nscrollEvents = scrollEvents.drop(columns=[\"time\",\"type\"])\n\nscrollEvents = scrollEvents.drop_duplicates()\n\nscrollEvents",
    "id": "3c31559115c2451ba49126564a537feb",
    "isPrintLuxDf": false,
    "isPrintPandasDf": true,
    "isPrintVis": false,
    "isPrintVisCollection": false,
    "order_count": 27,
    "time": "2020-09-23T23:34:30.783Z",
    "type": "completeCodeCell"
   },
   {
    "code": "scrollEvents[\"duration\"] = scrollEvents[\"duration\"].dt.total_seconds()",
    "id": "6dd9203f437d4ec184da1f54269cab92",
    "order_count": 28,
    "time": "2020-09-23T23:34:31.040Z",
    "type": "executeCodeCell"
   },
   {
    "code": "scrollEvents",
    "id": "8297ea68c8eb4c68bc7daa77c6a0e96e",
    "order_count": 29,
    "time": "2020-09-23T23:34:31.060Z",
    "type": "selectCodeCell"
   },
   {
    "code": "scrollEvents[\"duration\"] = scrollEvents[\"duration\"].dt.total_seconds()",
    "id": "6dd9203f437d4ec184da1f54269cab92",
    "isPrintLuxDf": false,
    "isPrintPandasDf": false,
    "isPrintVis": false,
    "isPrintVisCollection": false,
    "order_count": 28,
    "time": "2020-09-23T23:34:31.061Z",
    "type": "completeCodeCell"
   },
   {
    "code": "scrollEvents",
    "id": "8297ea68c8eb4c68bc7daa77c6a0e96e",
    "order_count": 29,
    "time": "2020-09-23T23:34:31.448Z",
    "type": "executeCodeCell"
   },
   {
    "code": "scrollEvents.groupby(\"param\")[\"duration\"].mean()",
    "id": "7feab78d98764876b4c36adf9b1e7334",
    "order_count": 30,
    "time": "2020-09-23T23:34:31.468Z",
    "type": "selectCodeCell"
   },
   {
    "code": "scrollEvents",
    "id": "8297ea68c8eb4c68bc7daa77c6a0e96e",
    "isPrintLuxDf": false,
    "isPrintPandasDf": true,
    "isPrintVis": false,
    "isPrintVisCollection": false,
    "order_count": 29,
    "time": "2020-09-23T23:34:31.471Z",
    "type": "completeCodeCell"
   },
   {
    "code": "scrollEvents.groupby(\"param\")[\"duration\"].mean()",
    "id": "7feab78d98764876b4c36adf9b1e7334",
    "order_count": 30,
    "time": "2020-09-23T23:34:31.803Z",
    "type": "executeCodeCell"
   },
   {
    "code": "### Cells that were deleted",
    "id": "f9e41f0512cc4bc68a4d0d5fef2e7ae1",
    "order_count": 31,
    "time": "2020-09-23T23:34:31.810Z",
    "type": "selectMarkdownCell"
   },
   {
    "code": "scrollEvents.groupby(\"param\")[\"duration\"].mean()",
    "id": "7feab78d98764876b4c36adf9b1e7334",
    "isPrintLuxDf": false,
    "isPrintPandasDf": false,
    "isPrintVis": false,
    "isPrintVisCollection": false,
    "order_count": 30,
    "time": "2020-09-23T23:34:31.823Z",
    "type": "completeCodeCell"
   },
   {
    "code": "df[df[\"type\"]=='deleteCodeCell']",
    "id": "63c968d1507b43b08664deb99ed8d5eb",
    "order_count": 32,
    "time": "2020-09-23T23:34:32.137Z",
    "type": "selectCodeCell"
   },
   {
    "code": "df[df[\"type\"]=='deleteCodeCell']",
    "id": "63c968d1507b43b08664deb99ed8d5eb",
    "order_count": 32,
    "time": "2020-09-23T23:34:32.452Z",
    "type": "executeCodeCell"
   },
   {
    "code": "### Export Analysis",
    "id": "1240e354d16a48c98dc29a3962039ea2",
    "order_count": 33,
    "time": "2020-09-23T23:34:32.457Z",
    "type": "selectMarkdownCell"
   },
   {
    "code": "df[df[\"type\"]=='deleteCodeCell']",
    "id": "63c968d1507b43b08664deb99ed8d5eb",
    "isPrintLuxDf": false,
    "isPrintPandasDf": true,
    "isPrintVis": false,
    "isPrintVisCollection": false,
    "order_count": 32,
    "time": "2020-09-23T23:34:32.476Z",
    "type": "completeCodeCell"
   },
   {
    "code": "uiEventDf[uiEventDf[\"type\"]==\"exportBtnClick\"]",
    "id": "5072eb78c31a47e38b1ef3993a6fd795",
    "order_count": 34,
    "time": "2020-09-23T23:34:32.741Z",
    "type": "selectCodeCell"
   },
   {
    "code": "uiEventDf[uiEventDf[\"type\"]==\"exportBtnClick\"]",
    "id": "5072eb78c31a47e38b1ef3993a6fd795",
    "order_count": 34,
    "time": "2020-09-23T23:34:33.008Z",
    "type": "executeCodeCell"
   },
   {
    "code": "df[df[\"type\"]==\"clickVis\"]",
    "id": "aea54bcb9d0c43b08c7b36994a8bdbe9",
    "order_count": 35,
    "time": "2020-09-23T23:34:33.029Z",
    "type": "selectCodeCell"
   },
   {
    "code": "uiEventDf[uiEventDf[\"type\"]==\"exportBtnClick\"]",
    "id": "5072eb78c31a47e38b1ef3993a6fd795",
    "isPrintLuxDf": false,
    "isPrintPandasDf": true,
    "isPrintVis": false,
    "isPrintVisCollection": false,
    "order_count": 34,
    "time": "2020-09-23T23:34:33.047Z",
    "type": "completeCodeCell"
   },
   {
    "code": "df[df[\"type\"]==\"clickVis\"]",
    "id": "aea54bcb9d0c43b08c7b36994a8bdbe9",
    "order_count": 35,
    "time": "2020-09-23T23:34:33.306Z",
    "type": "executeCodeCell"
   },
   {
    "code": "df[df[\"type\"]==\"clickVis\"].param.values[0]",
    "id": "6efbf3a9209748ed887d5651c59310f3",
    "order_count": 36,
    "time": "2020-09-23T23:34:33.325Z",
    "type": "selectCodeCell"
   },
   {
    "code": "df[df[\"type\"]==\"clickVis\"]",
    "id": "aea54bcb9d0c43b08c7b36994a8bdbe9",
    "isPrintLuxDf": false,
    "isPrintPandasDf": true,
    "isPrintVis": false,
    "isPrintVisCollection": false,
    "order_count": 35,
    "time": "2020-09-23T23:34:33.348Z",
    "type": "completeCodeCell"
   },
   {
    "code": "df[df[\"type\"]==\"clickVis\"].param.values[0]",
    "id": "6efbf3a9209748ed887d5651c59310f3",
    "order_count": 36,
    "time": "2020-09-23T23:34:33.656Z",
    "type": "executeCodeCell"
   },
   {
    "code": "### Code Analysis",
    "id": "f1fbea42fc7c4692844304f47df83b11",
    "order_count": 37,
    "time": "2020-09-23T23:34:33.662Z",
    "type": "selectMarkdownCell"
   },
   {
    "code": "df[df[\"type\"]==\"clickVis\"].param.values[0]",
    "id": "6efbf3a9209748ed887d5651c59310f3",
    "isPrintLuxDf": false,
    "isPrintPandasDf": false,
    "isPrintVis": false,
    "isPrintVisCollection": false,
    "order_count": 36,
    "time": "2020-09-23T23:34:33.708Z",
    "type": "completeCodeCell"
   },
   {
    "code": "codeList = df.code.unique()",
    "id": "fb4554c931e44e95b8a0dbb10e301591",
    "order_count": 38,
    "time": "2020-09-23T23:34:34.027Z",
    "type": "selectCodeCell"
   },
   {
    "code": "codeList = df.code.unique()",
    "id": "fb4554c931e44e95b8a0dbb10e301591",
    "order_count": 38,
    "time": "2020-09-23T23:34:34.440Z",
    "type": "executeCodeCell"
   },
   {
    "code": "luxKeywords = ['set_intent', 'Vis','VisList']",
    "id": "bf01adad06084baa8a77700090e48d4b",
    "order_count": 39,
    "time": "2020-09-23T23:34:34.460Z",
    "type": "selectCodeCell"
   },
   {
    "code": "codeList = df.code.unique()",
    "id": "fb4554c931e44e95b8a0dbb10e301591",
    "isPrintLuxDf": false,
    "isPrintPandasDf": false,
    "isPrintVis": false,
    "isPrintVisCollection": false,
    "order_count": 38,
    "time": "2020-09-23T23:34:34.461Z",
    "type": "completeCodeCell"
   },
   {
    "code": "luxKeywords = ['set_intent', 'Vis','VisList']",
    "id": "bf01adad06084baa8a77700090e48d4b",
    "order_count": 39,
    "time": "2020-09-23T23:34:34.832Z",
    "type": "executeCodeCell"
   },
   {
    "code": "list(filter(lambda x: 'set_intent' in str(x), codeList))",
    "id": "aef350a63e8c48368a3a2ebf936bf3d5",
    "order_count": 40,
    "time": "2020-09-23T23:34:34.852Z",
    "type": "selectCodeCell"
   },
   {
    "code": "luxKeywords = ['set_intent', 'Vis','VisList']",
    "id": "bf01adad06084baa8a77700090e48d4b",
    "isPrintLuxDf": false,
    "isPrintPandasDf": false,
    "isPrintVis": false,
    "isPrintVisCollection": false,
    "order_count": 39,
    "time": "2020-09-23T23:34:34.853Z",
    "type": "completeCodeCell"
   },
   {
    "code": "list(filter(lambda x: 'set_intent' in str(x), codeList))",
    "id": "aef350a63e8c48368a3a2ebf936bf3d5",
    "order_count": 40,
    "time": "2020-09-23T23:34:35.380Z",
    "type": "executeCodeCell"
   },
   {
    "code": "",
    "id": "ad9b032d25bf46f981e2c76e096260fe",
    "order_count": 41,
    "time": "2020-09-23T23:34:35.399Z",
    "type": "selectCodeCell"
   },
   {
    "code": "list(filter(lambda x: 'set_intent' in str(x), codeList))",
    "id": "aef350a63e8c48368a3a2ebf936bf3d5",
    "isPrintLuxDf": false,
    "isPrintPandasDf": false,
    "isPrintVis": false,
    "isPrintVisCollection": false,
    "order_count": 40,
    "time": "2020-09-23T23:34:35.402Z",
    "type": "completeCodeCell"
   },
   {
    "time": "2020-09-24T02:17:11.322Z",
    "type": "kernelReady"
   },
   {
    "time": "2020-09-30T18:51:22.903Z",
    "type": "kernelReady"
   },
   {
    "time": "2020-09-30T18:52:40.874Z",
    "type": "kernelReady"
   },
   {
    "code": "import json\nnb = json.load(open(\"CarsDemo.ipynb\"))\nlog = nb[\"metadata\"][\"history\"]",
    "id": "b9c3448c72a142578fbede98961c3897",
    "order_count": 0,
    "time": "2020-09-30T19:30:23.987Z",
    "type": "editCodeCell"
   },
   {
    "code": "import json\nnb = json.load(open(\"CarsDemo.ipynb\"))\nlog = nb[\"metadata\"][\"history\"]",
    "id": "b9c3448c72a142578fbede98961c3897",
    "order_count": 0,
    "time": "2020-09-30T19:30:24.632Z",
    "type": "executeCodeCell"
   },
   {
    "code": "import pandas as pd\ndf = pd.DataFrame(log)\ndf[\"time\"] = pd.to_datetime(df[\"time\"])",
    "id": "2c4d111c41344c05aa8a29efe6cc2e69",
    "order_count": 1,
    "time": "2020-09-30T19:30:24.664Z",
    "type": "selectCodeCell"
   },
   {
    "code": "import json\nnb = json.load(open(\"CarsDemo.ipynb\"))\nlog = nb[\"metadata\"][\"history\"]",
    "id": "b9c3448c72a142578fbede98961c3897",
    "isPrintLuxDf": false,
    "isPrintPandasDf": false,
    "isPrintVis": false,
    "isPrintVisCollection": false,
    "order_count": 0,
    "time": "2020-09-30T19:30:24.727Z",
    "type": "completeCodeCell"
   },
   {
    "code": "import pandas as pd\ndf = pd.DataFrame(log)\ndf[\"time\"] = pd.to_datetime(df[\"time\"])",
    "id": "2c4d111c41344c05aa8a29efe6cc2e69",
    "order_count": 1,
    "time": "2020-09-30T19:30:25.426Z",
    "type": "executeCodeCell"
   },
   {
    "code": "#### Merge editCodeCell, executeCodeCell and completeCodeCell into one based on id with 2 additional computed interval",
    "id": "b7b703b67ca144f78b013010ac5dda06",
    "order_count": 2,
    "time": "2020-09-30T19:30:25.437Z",
    "type": "selectMarkdownCell"
   },
   {
    "code": "import pandas as pd\ndf = pd.DataFrame(log)\ndf[\"time\"] = pd.to_datetime(df[\"time\"])",
    "id": "2c4d111c41344c05aa8a29efe6cc2e69",
    "isPrintLuxDf": false,
    "isPrintPandasDf": false,
    "isPrintVis": false,
    "isPrintVisCollection": false,
    "order_count": 1,
    "time": "2020-09-30T19:30:26.299Z",
    "type": "completeCodeCell"
   },
   {
    "code": "```\nqueryFormulationTime = T(editCodeCell) - T(executeCodeCell)\ncodeExecutionTime = T(completeCodeCell) - T(executeCodeCell)\n```",
    "id": "7b1960529d874d5d86c6636eed221d61",
    "order_count": 3,
    "time": "2020-09-30T19:30:27.304Z",
    "type": "selectMarkdownCell"
   },
   {
    "code": "subset1 = df[(df[\"type\"]==\"editCodeCell\")|(df[\"type\"]==\"executeCodeCell\")]\nsubset1.loc[:,\"queryFormulationTime\"] = subset1.groupby([\"id\"])[\"time\"].diff()",
    "id": "488e914f0ad14445a9226fbb2fe60abb",
    "order_count": 4,
    "time": "2020-09-30T19:30:27.652Z",
    "type": "selectCodeCell"
   },
   {
    "code": "subset1 = df[(df[\"type\"]==\"editCodeCell\")|(df[\"type\"]==\"executeCodeCell\")]\nsubset1.loc[:,\"queryFormulationTime\"] = subset1.groupby([\"id\"])[\"time\"].diff()",
    "id": "488e914f0ad14445a9226fbb2fe60abb",
    "order_count": 4,
    "time": "2020-09-30T19:30:28.069Z",
    "type": "executeCodeCell"
   },
   {
    "code": "subset2 = df[(df[\"type\"]==\"executeCodeCell\")|(df[\"type\"]==\"completeCodeCell\")]\nsubset2.loc[:,\"codeExecutionTime\"] = subset2.groupby([\"id\"])[\"time\"].diff()",
    "id": "c6041b3757504836b1483f32d990fc66",
    "order_count": 5,
    "time": "2020-09-30T19:30:28.092Z",
    "type": "selectCodeCell"
   },
   {
    "code": "subset1 = df[(df[\"type\"]==\"editCodeCell\")|(df[\"type\"]==\"executeCodeCell\")]\nsubset1.loc[:,\"queryFormulationTime\"] = subset1.groupby([\"id\"])[\"time\"].diff()",
    "id": "488e914f0ad14445a9226fbb2fe60abb",
    "isPrintLuxDf": false,
    "isPrintPandasDf": false,
    "isPrintVis": false,
    "isPrintVisCollection": false,
    "order_count": 4,
    "time": "2020-09-30T19:30:28.106Z",
    "type": "completeCodeCell"
   },
   {
    "code": "subset2 = df[(df[\"type\"]==\"executeCodeCell\")|(df[\"type\"]==\"completeCodeCell\")]\nsubset2.loc[:,\"codeExecutionTime\"] = subset2.groupby([\"id\"])[\"time\"].diff()",
    "id": "c6041b3757504836b1483f32d990fc66",
    "order_count": 5,
    "time": "2020-09-30T19:30:28.825Z",
    "type": "executeCodeCell"
   },
   {
    "code": "codeCellsubset=pd.concat([subset1,subset2])",
    "id": "8c423d95390545999f49b26f0d8bdaf1",
    "order_count": 6,
    "time": "2020-09-30T19:30:28.845Z",
    "type": "selectCodeCell"
   },
   {
    "code": "subset2 = df[(df[\"type\"]==\"executeCodeCell\")|(df[\"type\"]==\"completeCodeCell\")]\nsubset2.loc[:,\"codeExecutionTime\"] = subset2.groupby([\"id\"])[\"time\"].diff()",
    "id": "c6041b3757504836b1483f32d990fc66",
    "isPrintLuxDf": false,
    "isPrintPandasDf": false,
    "isPrintVis": false,
    "isPrintVisCollection": false,
    "order_count": 5,
    "time": "2020-09-30T19:30:28.855Z",
    "type": "completeCodeCell"
   },
   {
    "code": "codeCellsubset=pd.concat([subset1,subset2])",
    "id": "8c423d95390545999f49b26f0d8bdaf1",
    "order_count": 6,
    "time": "2020-09-30T19:30:29.105Z",
    "type": "executeCodeCell"
   },
   {
    "code": "codeCellsubset[codeCellsubset[\"id\"]==\"b244c5509aa44ae9a534c03b8ea3accc\"]",
    "id": "66b5e4a3af6f41a49c2822bb134d5003",
    "order_count": 7,
    "time": "2020-09-30T19:30:29.134Z",
    "type": "selectCodeCell"
   },
   {
    "code": "codeCellsubset=pd.concat([subset1,subset2])",
    "id": "8c423d95390545999f49b26f0d8bdaf1",
    "isPrintLuxDf": false,
    "isPrintPandasDf": false,
    "isPrintVis": false,
    "isPrintVisCollection": false,
    "order_count": 6,
    "time": "2020-09-30T19:30:29.135Z",
    "type": "completeCodeCell"
   },
   {
    "code": "codeCellsubset[codeCellsubset[\"id\"]==\"b244c5509aa44ae9a534c03b8ea3accc\"]",
    "id": "66b5e4a3af6f41a49c2822bb134d5003",
    "order_count": 7,
    "time": "2020-09-30T19:30:29.771Z",
    "type": "executeCodeCell"
   },
   {
    "code": "import numpy as np",
    "id": "752ffad56594411f8137e62fb4091c9d",
    "order_count": 8,
    "time": "2020-09-30T19:30:29.908Z",
    "type": "selectCodeCell"
   },
   {
    "code": "codeCellsubset[codeCellsubset[\"id\"]==\"b244c5509aa44ae9a534c03b8ea3accc\"]",
    "id": "66b5e4a3af6f41a49c2822bb134d5003",
    "isPrintLuxDf": false,
    "isPrintPandasDf": true,
    "isPrintVis": false,
    "isPrintVisCollection": false,
    "order_count": 7,
    "time": "2020-09-30T19:30:29.921Z",
    "type": "completeCodeCell"
   },
   {
    "code": "cellEvents.sort_values('order_count')",
    "id": "64d64c5f83e24e808c7eafa8fe7be3fd",
    "order_count": 10,
    "time": "2020-09-30T19:30:51.357Z",
    "type": "selectCodeCell"
   },
   {
    "code": "cellEvents.sort_values('order_count')",
    "id": "64d64c5f83e24e808c7eafa8fe7be3fd",
    "order_count": 10,
    "time": "2020-09-30T19:30:51.367Z",
    "type": "editCodeCell"
   },
   {
    "code": "import numpy as np",
    "id": "752ffad56594411f8137e62fb4091c9d",
    "order_count": 8,
    "time": "2020-09-30T19:30:52.856Z",
    "type": "selectCodeCell"
   },
   {
    "code": "import numpy as np",
    "id": "752ffad56594411f8137e62fb4091c9d",
    "order_count": 8,
    "time": "2020-09-30T19:30:52.866Z",
    "type": "editCodeCell"
   },
   {
    "code": "import numpy as np",
    "id": "752ffad56594411f8137e62fb4091c9d",
    "order_count": 8,
    "time": "2020-09-30T19:30:53.514Z",
    "type": "executeCodeCell"
   },
   {
    "code": "#cellEvents is a dataframe with edit/complete/execute Code Cell all merged as one event, with computed queryFormulationTime and codeExecutionTime\ncellEvents = codeCellsubset.groupby(['id']).last()\n# cellEvents = cellEvents.reset_index()\n# cellEvents.type = \"CodeCellEvent\"",
    "id": "d396c3f8886140d3830b1caac31e918b",
    "order_count": 9,
    "time": "2020-09-30T19:30:53.539Z",
    "type": "selectCodeCell"
   },
   {
    "code": "import numpy as np",
    "id": "752ffad56594411f8137e62fb4091c9d",
    "isPrintLuxDf": false,
    "isPrintPandasDf": false,
    "isPrintVis": false,
    "isPrintVisCollection": false,
    "order_count": 8,
    "time": "2020-09-30T19:30:53.545Z",
    "type": "completeCodeCell"
   },
   {
    "code": "#cellEvents is a dataframe with edit/complete/execute Code Cell all merged as one event, with computed queryFormulationTime and codeExecutionTime\ncellEvents = codeCellsubset.groupby(['id']).last()\n# cellEvents = cellEvents.reset_index()\n# cellEvents.type = \"CodeCellEvent\"",
    "id": "d396c3f8886140d3830b1caac31e918b",
    "order_count": 9,
    "time": "2020-09-30T19:30:53.829Z",
    "type": "executeCodeCell"
   },
   {
    "code": "cellEvents.sort_values('order_count')",
    "id": "64d64c5f83e24e808c7eafa8fe7be3fd",
    "order_count": 10,
    "time": "2020-09-30T19:30:53.852Z",
    "type": "selectCodeCell"
   },
   {
    "code": "#cellEvents is a dataframe with edit/complete/execute Code Cell all merged as one event, with computed queryFormulationTime and codeExecutionTime\ncellEvents = codeCellsubset.groupby(['id']).last()\n# cellEvents = cellEvents.reset_index()\n# cellEvents.type = \"CodeCellEvent\"",
    "id": "d396c3f8886140d3830b1caac31e918b",
    "isPrintLuxDf": false,
    "isPrintPandasDf": false,
    "isPrintVis": false,
    "isPrintVisCollection": false,
    "order_count": 9,
    "time": "2020-09-30T19:30:53.854Z",
    "type": "completeCodeCell"
   },
   {
    "code": "cellEvents.sort_values('order_count')",
    "id": "64d64c5f83e24e808c7eafa8fe7be3fd",
    "order_count": 10,
    "time": "2020-09-30T19:30:54.791Z",
    "type": "executeCodeCell"
   },
   {
    "code": "print (\"Total number of dataframe prints:\", sum(cellEvents[\"isPrintPandasDf\"]))\nprint (\"Total number of dataframe prints:\", sum(cellEvents[\"isPrintLuxDf\"]))",
    "id": "09f7ebd272e649aa8a2f8a834d729ed4",
    "order_count": 11,
    "time": "2020-09-30T19:30:54.909Z",
    "type": "selectCodeCell"
   },
   {
    "code": "cellEvents.sort_values('order_count')",
    "id": "64d64c5f83e24e808c7eafa8fe7be3fd",
    "isPrintLuxDf": false,
    "isPrintPandasDf": true,
    "isPrintVis": false,
    "isPrintVisCollection": false,
    "order_count": 10,
    "time": "2020-09-30T19:30:54.915Z",
    "type": "completeCodeCell"
   },
   {
    "code": "print (\"Total number of dataframe prints:\", sum(cellEvents[\"isPrintPandasDf\"]))\nprint (\"Total number of dataframe prints:\", sum(cellEvents[\"isPrintLuxDf\"]))",
    "id": "09f7ebd272e649aa8a2f8a834d729ed4",
    "order_count": 11,
    "time": "2020-09-30T19:30:59.653Z",
    "type": "editCodeCell"
   },
   {
    "code": "print (\"Total number of dataframe prints:\", sum(cellEvents[\"isPrintPandasDf\"]))\nprint (\"Total number of dataframe prints:\", sum(cellEvents[\"isPrintLuxDf\"]))",
    "id": "09f7ebd272e649aa8a2f8a834d729ed4",
    "order_count": 11,
    "time": "2020-09-30T19:31:00.432Z",
    "type": "executeCodeCell"
   },
   {
    "code": "### Use `selectCodeCell` events to assign `id` and `order_count` to UI events",
    "id": "a6a747d8871341678be47f1d03ef7b5c",
    "order_count": 12,
    "time": "2020-09-30T19:31:00.442Z",
    "type": "selectMarkdownCell"
   },
   {
    "code": "print (\"Total number of dataframe prints:\", sum(cellEvents[\"isPrintPandasDf\"]))\nprint (\"Total number of dataframe prints:\", sum(cellEvents[\"isPrintLuxDf\"]))",
    "id": "09f7ebd272e649aa8a2f8a834d729ed4",
    "isPrintLuxDf": false,
    "isPrintPandasDf": false,
    "isPrintVis": false,
    "isPrintVisCollection": false,
    "order_count": 11,
    "time": "2020-09-30T19:31:00.452Z",
    "type": "completeCodeCell"
   },
   {
    "code": "UIevents = ['initWidget','switchTab', 'startScroll', 'stopScroll', \n       'toggleBtnClick', 'clickVis', 'exportBtnClick']",
    "id": "6092ca093b994b58967be7dc690cf1e6",
    "order_count": 13,
    "time": "2020-09-30T19:31:02.014Z",
    "type": "selectCodeCell"
   },
   {
    "code": "UIevents = ['initWidget','switchTab', 'startScroll', 'stopScroll', \n       'toggleBtnClick', 'clickVis', 'exportBtnClick']",
    "id": "6092ca093b994b58967be7dc690cf1e6",
    "order_count": 13,
    "time": "2020-09-30T19:31:02.327Z",
    "type": "executeCodeCell"
   },
   {
    "code": "#fill forwards based on the values in the most recent `selectCodeCell` to infer the order_count and other information about which cell is interacted upon\nuiEventDf = df[df.type.isin(UIevents+['selectCodeCell'])].ffill() ",
    "id": "604a635f9d0a481d9f9a275c4ab70b02",
    "order_count": 14,
    "time": "2020-09-30T19:31:02.350Z",
    "type": "selectCodeCell"
   },
   {
    "code": "UIevents = ['initWidget','switchTab', 'startScroll', 'stopScroll', \n       'toggleBtnClick', 'clickVis', 'exportBtnClick']",
    "id": "6092ca093b994b58967be7dc690cf1e6",
    "isPrintLuxDf": false,
    "isPrintPandasDf": false,
    "isPrintVis": false,
    "isPrintVisCollection": false,
    "order_count": 13,
    "time": "2020-09-30T19:31:02.351Z",
    "type": "completeCodeCell"
   },
   {
    "code": "#fill forwards based on the values in the most recent `selectCodeCell` to infer the order_count and other information about which cell is interacted upon\nuiEventDf = df[df.type.isin(UIevents+['selectCodeCell'])].ffill() ",
    "id": "604a635f9d0a481d9f9a275c4ab70b02",
    "order_count": 14,
    "time": "2020-09-30T19:31:03.107Z",
    "type": "executeCodeCell"
   },
   {
    "code": "uiEventDf",
    "id": "e2ca7054b9b2466c82ee21b0c8df04ef",
    "order_count": 15,
    "time": "2020-09-30T19:31:03.128Z",
    "type": "selectCodeCell"
   },
   {
    "code": "#fill forwards based on the values in the most recent `selectCodeCell` to infer the order_count and other information about which cell is interacted upon\nuiEventDf = df[df.type.isin(UIevents+['selectCodeCell'])].ffill() ",
    "id": "604a635f9d0a481d9f9a275c4ab70b02",
    "isPrintLuxDf": false,
    "isPrintPandasDf": false,
    "isPrintVis": false,
    "isPrintVisCollection": false,
    "order_count": 14,
    "time": "2020-09-30T19:31:03.130Z",
    "type": "completeCodeCell"
   },
   {
    "code": "uiEventDf",
    "id": "e2ca7054b9b2466c82ee21b0c8df04ef",
    "order_count": 15,
    "time": "2020-09-30T19:31:03.972Z",
    "type": "executeCodeCell"
   },
   {
    "code": "### Number of Times Lux Widget is initialized",
    "id": "8fccb89883814a4f8770f3e72700c4de",
    "order_count": 16,
    "time": "2020-09-30T19:31:04.054Z",
    "type": "selectMarkdownCell"
   },
   {
    "code": "uiEventDf",
    "id": "e2ca7054b9b2466c82ee21b0c8df04ef",
    "isPrintLuxDf": false,
    "isPrintPandasDf": true,
    "isPrintVis": false,
    "isPrintVisCollection": false,
    "order_count": 15,
    "time": "2020-09-30T19:31:04.083Z",
    "type": "completeCodeCell"
   },
   {
    "code": "init = uiEventDf[uiEventDf[\"type\"]=='initWidget']",
    "id": "b1b7931b269b4dcf9f06232ad27d118d",
    "order_count": 17,
    "time": "2020-09-30T19:31:05.393Z",
    "type": "selectCodeCell"
   },
   {
    "code": "init = uiEventDf[uiEventDf[\"type\"]=='initWidget']",
    "id": "b1b7931b269b4dcf9f06232ad27d118d",
    "order_count": 17,
    "time": "2020-09-30T19:31:05.903Z",
    "type": "executeCodeCell"
   },
   {
    "code": "def filter_df_by_delta(df, timeDelta):\n    return df[df.time.diff()<timeDelta]",
    "id": "0f768aec974e441384b369a0a414d56f",
    "order_count": 18,
    "time": "2020-09-30T19:31:05.925Z",
    "type": "selectCodeCell"
   },
   {
    "code": "init = uiEventDf[uiEventDf[\"type\"]=='initWidget']",
    "id": "b1b7931b269b4dcf9f06232ad27d118d",
    "isPrintLuxDf": false,
    "isPrintPandasDf": false,
    "isPrintVis": false,
    "isPrintVisCollection": false,
    "order_count": 17,
    "time": "2020-09-30T19:31:05.926Z",
    "type": "completeCodeCell"
   },
   {
    "code": "def filter_df_by_delta(df, timeDelta):\n    return df[df.time.diff()<timeDelta]",
    "id": "0f768aec974e441384b369a0a414d56f",
    "order_count": 18,
    "time": "2020-09-30T19:31:06.463Z",
    "type": "executeCodeCell"
   },
   {
    "code": "init =  filter_df_by_delta(init,\"00:00:00.5\")",
    "id": "ad52582b14ce4805998a09eb45cf379f",
    "order_count": 19,
    "time": "2020-09-30T19:31:06.484Z",
    "type": "selectCodeCell"
   },
   {
    "code": "def filter_df_by_delta(df, timeDelta):\n    return df[df.time.diff()<timeDelta]",
    "id": "0f768aec974e441384b369a0a414d56f",
    "isPrintLuxDf": false,
    "isPrintPandasDf": false,
    "isPrintVis": false,
    "isPrintVisCollection": false,
    "order_count": 18,
    "time": "2020-09-30T19:31:06.485Z",
    "type": "completeCodeCell"
   },
   {
    "code": "init =  filter_df_by_delta(init,\"00:00:00.5\")",
    "id": "ad52582b14ce4805998a09eb45cf379f",
    "order_count": 19,
    "time": "2020-09-30T19:31:06.755Z",
    "type": "executeCodeCell"
   },
   {
    "code": "init",
    "id": "963ad080792e4967a3b87eca7eae162c",
    "order_count": 20,
    "time": "2020-09-30T19:31:06.776Z",
    "type": "selectCodeCell"
   },
   {
    "code": "init =  filter_df_by_delta(init,\"00:00:00.5\")",
    "id": "ad52582b14ce4805998a09eb45cf379f",
    "isPrintLuxDf": false,
    "isPrintPandasDf": false,
    "isPrintVis": false,
    "isPrintVisCollection": false,
    "order_count": 19,
    "time": "2020-09-30T19:31:06.777Z",
    "type": "completeCodeCell"
   },
   {
    "code": "init",
    "id": "963ad080792e4967a3b87eca7eae162c",
    "order_count": 20,
    "time": "2020-09-30T19:31:07.192Z",
    "type": "executeCodeCell"
   },
   {
    "code": "### Number of Times Toggle to Lux v.s. to Pandas",
    "id": "b01a18b4343845e9808c6b86d74b7da4",
    "order_count": 21,
    "time": "2020-09-30T19:31:07.275Z",
    "type": "selectMarkdownCell"
   },
   {
    "code": "init",
    "id": "963ad080792e4967a3b87eca7eae162c",
    "isPrintLuxDf": false,
    "isPrintPandasDf": true,
    "isPrintVis": false,
    "isPrintVisCollection": false,
    "order_count": 20,
    "time": "2020-09-30T19:31:07.304Z",
    "type": "completeCodeCell"
   },
   {
    "code": "toggle = uiEventDf[uiEventDf[\"type\"]=='toggleBtnClick']\ntoggle = filter_df_by_delta(toggle,\"00:00:00.01\")",
    "id": "3eed20c62bf041d7a0375ceb5c9dc3f2",
    "order_count": 22,
    "time": "2020-09-30T19:31:14.130Z",
    "type": "selectCodeCell"
   },
   {
    "code": "toggle = uiEventDf[uiEventDf[\"type\"]=='toggleBtnClick']\ntoggle = filter_df_by_delta(toggle,\"00:00:00.01\")",
    "id": "3eed20c62bf041d7a0375ceb5c9dc3f2",
    "order_count": 22,
    "time": "2020-09-30T19:31:14.577Z",
    "type": "executeCodeCell"
   },
   {
    "code": "toggle",
    "id": "fa9d78ccf9114dfd8ba6f3047b706545",
    "order_count": 23,
    "time": "2020-09-30T19:31:14.597Z",
    "type": "selectCodeCell"
   },
   {
    "code": "toggle = uiEventDf[uiEventDf[\"type\"]=='toggleBtnClick']\ntoggle = filter_df_by_delta(toggle,\"00:00:00.01\")",
    "id": "3eed20c62bf041d7a0375ceb5c9dc3f2",
    "isPrintLuxDf": false,
    "isPrintPandasDf": false,
    "isPrintVis": false,
    "isPrintVisCollection": false,
    "order_count": 22,
    "time": "2020-09-30T19:31:14.599Z",
    "type": "completeCodeCell"
   },
   {
    "code": "toggle",
    "id": "fa9d78ccf9114dfd8ba6f3047b706545",
    "order_count": 23,
    "time": "2020-09-30T19:31:15.605Z",
    "type": "executeCodeCell"
   },
   {
    "code": "print (toggle.param)",
    "id": "67ec0912c8ed4b0f948fb8ea0272cbd1",
    "order_count": 24,
    "time": "2020-09-30T19:31:15.722Z",
    "type": "selectCodeCell"
   },
   {
    "code": "toggle",
    "id": "fa9d78ccf9114dfd8ba6f3047b706545",
    "isPrintLuxDf": false,
    "isPrintPandasDf": true,
    "isPrintVis": false,
    "isPrintVisCollection": false,
    "order_count": 23,
    "time": "2020-09-30T19:31:15.725Z",
    "type": "completeCodeCell"
   },
   {
    "code": "print (toggle.param)",
    "id": "67ec0912c8ed4b0f948fb8ea0272cbd1",
    "order_count": 24,
    "time": "2020-09-30T19:31:16.773Z",
    "type": "executeCodeCell"
   },
   {
    "code": "### Interactions with Tabs and Scroll",
    "id": "1c07b06301ad49db844d7a40619c94a6",
    "order_count": 25,
    "time": "2020-09-30T19:31:16.780Z",
    "type": "selectMarkdownCell"
   },
   {
    "code": "print (toggle.param)",
    "id": "67ec0912c8ed4b0f948fb8ea0272cbd1",
    "isPrintLuxDf": false,
    "isPrintPandasDf": false,
    "isPrintVis": false,
    "isPrintVisCollection": false,
    "order_count": 24,
    "time": "2020-09-30T19:31:16.787Z",
    "type": "completeCodeCell"
   },
   {
    "code": "uiEventDf[uiEventDf[\"type\"]=='switchTab']",
    "id": "f9601c56711444f79b70baec4fe5e0c0",
    "order_count": 26,
    "time": "2020-09-30T19:31:17.303Z",
    "type": "selectCodeCell"
   },
   {
    "code": "uiEventDf[uiEventDf[\"type\"]=='switchTab']",
    "id": "f9601c56711444f79b70baec4fe5e0c0",
    "order_count": 26,
    "time": "2020-09-30T19:31:18.009Z",
    "type": "executeCodeCell"
   },
   {
    "code": "import numpy as np\nscrollEvents = uiEventDf[(uiEventDf[\"type\"]=='startScroll')|(uiEventDf[\"type\"]=='stopScroll')]\n\n# Compute the max-min of the group to find total duration for scrolling\nscrollEvents[\"duration\"] =scrollEvents.groupby([\"id\",\"code\",\"param\"])[\"time\"].transform(np.ptp)\n\nscrollEvents = scrollEvents.drop(columns=[\"time\",\"type\"])\n\nscrollEvents = scrollEvents.drop_duplicates()\n\nscrollEvents",
    "id": "1533bac8b5f142588f9353dfc3483d4d",
    "order_count": 27,
    "time": "2020-09-30T19:31:18.129Z",
    "type": "selectCodeCell"
   },
   {
    "code": "uiEventDf[uiEventDf[\"type\"]=='switchTab']",
    "id": "f9601c56711444f79b70baec4fe5e0c0",
    "isPrintLuxDf": false,
    "isPrintPandasDf": true,
    "isPrintVis": false,
    "isPrintVisCollection": false,
    "order_count": 26,
    "time": "2020-09-30T19:31:18.132Z",
    "type": "completeCodeCell"
   },
   {
    "code": "import numpy as np\nscrollEvents = uiEventDf[(uiEventDf[\"type\"]=='startScroll')|(uiEventDf[\"type\"]=='stopScroll')]\n\n# Compute the max-min of the group to find total duration for scrolling\nscrollEvents[\"duration\"] =scrollEvents.groupby([\"id\",\"code\",\"param\"])[\"time\"].transform(np.ptp)\n\nscrollEvents = scrollEvents.drop(columns=[\"time\",\"type\"])\n\nscrollEvents = scrollEvents.drop_duplicates()\n\nscrollEvents",
    "id": "1533bac8b5f142588f9353dfc3483d4d",
    "order_count": 27,
    "time": "2020-09-30T19:31:18.641Z",
    "type": "executeCodeCell"
   },
   {
    "code": "scrollEvents[\"duration\"] = scrollEvents[\"duration\"].dt.total_seconds()",
    "id": "1e8dbf763c3c47e2a35447e3410571f5",
    "order_count": 28,
    "time": "2020-09-30T19:31:18.759Z",
    "type": "selectCodeCell"
   },
   {
    "code": "import numpy as np\nscrollEvents = uiEventDf[(uiEventDf[\"type\"]=='startScroll')|(uiEventDf[\"type\"]=='stopScroll')]\n\n# Compute the max-min of the group to find total duration for scrolling\nscrollEvents[\"duration\"] =scrollEvents.groupby([\"id\",\"code\",\"param\"])[\"time\"].transform(np.ptp)\n\nscrollEvents = scrollEvents.drop(columns=[\"time\",\"type\"])\n\nscrollEvents = scrollEvents.drop_duplicates()\n\nscrollEvents",
    "id": "1533bac8b5f142588f9353dfc3483d4d",
    "isPrintLuxDf": false,
    "isPrintPandasDf": true,
    "isPrintVis": false,
    "isPrintVisCollection": false,
    "order_count": 27,
    "time": "2020-09-30T19:31:18.764Z",
    "type": "completeCodeCell"
   },
   {
    "code": "scrollEvents[\"duration\"] = scrollEvents[\"duration\"].dt.total_seconds()",
    "id": "1e8dbf763c3c47e2a35447e3410571f5",
    "order_count": 28,
    "time": "2020-09-30T19:31:19.333Z",
    "type": "executeCodeCell"
   },
   {
    "code": "scrollEvents",
    "id": "85ba0f0438094bceb8fcffb4a2a21128",
    "order_count": 29,
    "time": "2020-09-30T19:31:19.356Z",
    "type": "selectCodeCell"
   },
   {
    "code": "scrollEvents[\"duration\"] = scrollEvents[\"duration\"].dt.total_seconds()",
    "id": "1e8dbf763c3c47e2a35447e3410571f5",
    "isPrintLuxDf": false,
    "isPrintPandasDf": false,
    "isPrintVis": false,
    "isPrintVisCollection": false,
    "order_count": 28,
    "time": "2020-09-30T19:31:19.357Z",
    "type": "completeCodeCell"
   },
   {
    "code": "scrollEvents",
    "id": "85ba0f0438094bceb8fcffb4a2a21128",
    "order_count": 29,
    "time": "2020-09-30T19:31:20.109Z",
    "type": "executeCodeCell"
   },
   {
    "code": "scrollEvents.groupby(\"param\")[\"duration\"].mean()",
    "id": "d601388abe6f4e0f8d83567a9e804ae5",
    "order_count": 30,
    "time": "2020-09-30T19:31:20.226Z",
    "type": "selectCodeCell"
   },
   {
    "code": "scrollEvents",
    "id": "85ba0f0438094bceb8fcffb4a2a21128",
    "isPrintLuxDf": false,
    "isPrintPandasDf": true,
    "isPrintVis": false,
    "isPrintVisCollection": false,
    "order_count": 29,
    "time": "2020-09-30T19:31:20.230Z",
    "type": "completeCodeCell"
   },
   {
    "code": "scrollEvents.groupby(\"param\")[\"duration\"].mean()",
    "id": "d601388abe6f4e0f8d83567a9e804ae5",
    "order_count": 30,
    "time": "2020-09-30T19:31:20.797Z",
    "type": "executeCodeCell"
   },
   {
    "code": "### Cells that were deleted",
    "id": "6dc2f87bcd45444eabc7832f96e8dcbb",
    "order_count": 31,
    "time": "2020-09-30T19:31:20.804Z",
    "type": "selectMarkdownCell"
   },
   {
    "code": "scrollEvents.groupby(\"param\")[\"duration\"].mean()",
    "id": "d601388abe6f4e0f8d83567a9e804ae5",
    "isPrintLuxDf": false,
    "isPrintPandasDf": false,
    "isPrintVis": false,
    "isPrintVisCollection": false,
    "order_count": 30,
    "time": "2020-09-30T19:31:20.811Z",
    "type": "completeCodeCell"
   },
   {
    "code": "df[df[\"type\"]=='deleteCodeCell']",
    "id": "3434b57ecbc0435a935b2b9c6d21d00a",
    "order_count": 32,
    "time": "2020-09-30T19:31:21.371Z",
    "type": "selectCodeCell"
   },
   {
    "code": "df[df[\"type\"]=='deleteCodeCell']",
    "id": "3434b57ecbc0435a935b2b9c6d21d00a",
    "order_count": 32,
    "time": "2020-09-30T19:31:21.721Z",
    "type": "executeCodeCell"
   },
   {
    "code": "### Export Analysis",
    "id": "73f8bf5628e94482b0a21317afbd57e4",
    "order_count": 33,
    "time": "2020-09-30T19:31:21.804Z",
    "type": "selectMarkdownCell"
   },
   {
    "code": "df[df[\"type\"]=='deleteCodeCell']",
    "id": "3434b57ecbc0435a935b2b9c6d21d00a",
    "isPrintLuxDf": false,
    "isPrintPandasDf": true,
    "isPrintVis": false,
    "isPrintVisCollection": false,
    "order_count": 32,
    "time": "2020-09-30T19:31:21.831Z",
    "type": "completeCodeCell"
   },
   {
    "code": "uiEventDf[uiEventDf[\"type\"]==\"exportBtnClick\"]",
    "id": "5b90c1e7343248f4b567831448becbe4",
    "order_count": 34,
    "time": "2020-09-30T19:31:23.938Z",
    "type": "selectCodeCell"
   },
   {
    "code": "uiEventDf[uiEventDf[\"type\"]==\"exportBtnClick\"]",
    "id": "5b90c1e7343248f4b567831448becbe4",
    "order_count": 34,
    "time": "2020-09-30T19:31:24.325Z",
    "type": "executeCodeCell"
   },
   {
    "code": "df[df[\"type\"]==\"clickVis\"]",
    "id": "836fee0922004866843b3fccf9a04ab4",
    "order_count": 35,
    "time": "2020-09-30T19:31:24.447Z",
    "type": "selectCodeCell"
   },
   {
    "code": "uiEventDf[uiEventDf[\"type\"]==\"exportBtnClick\"]",
    "id": "5b90c1e7343248f4b567831448becbe4",
    "isPrintLuxDf": false,
    "isPrintPandasDf": true,
    "isPrintVis": false,
    "isPrintVisCollection": false,
    "order_count": 34,
    "time": "2020-09-30T19:31:24.453Z",
    "type": "completeCodeCell"
   },
   {
    "code": "df[df[\"type\"]==\"clickVis\"]",
    "id": "836fee0922004866843b3fccf9a04ab4",
    "order_count": 35,
    "time": "2020-09-30T19:31:25.151Z",
    "type": "executeCodeCell"
   },
   {
    "code": "df[df[\"type\"]==\"clickVis\"].param.values[0]",
    "id": "ee7f7a40e79e498e843f403655218f14",
    "order_count": 36,
    "time": "2020-09-30T19:31:25.270Z",
    "type": "selectCodeCell"
   },
   {
    "code": "df[df[\"type\"]==\"clickVis\"]",
    "id": "836fee0922004866843b3fccf9a04ab4",
    "isPrintLuxDf": false,
    "isPrintPandasDf": true,
    "isPrintVis": false,
    "isPrintVisCollection": false,
    "order_count": 35,
    "time": "2020-09-30T19:31:25.275Z",
    "type": "completeCodeCell"
   },
   {
    "code": "df[df[\"type\"]==\"clickVis\"].param.values[0]",
    "id": "ee7f7a40e79e498e843f403655218f14",
    "order_count": 36,
    "time": "2020-09-30T19:31:25.945Z",
    "type": "executeCodeCell"
   },
   {
    "code": "### Code Analysis",
    "id": "72f0f7900b4d4f2389c7ca2b9dde01a1",
    "order_count": 37,
    "time": "2020-09-30T19:31:25.951Z",
    "type": "selectMarkdownCell"
   },
   {
    "code": "df[df[\"type\"]==\"clickVis\"].param.values[0]",
    "id": "ee7f7a40e79e498e843f403655218f14",
    "isPrintLuxDf": false,
    "isPrintPandasDf": false,
    "isPrintVis": false,
    "isPrintVisCollection": false,
    "order_count": 36,
    "time": "2020-09-30T19:31:25.993Z",
    "type": "completeCodeCell"
   },
   {
    "code": "codeList = df.code.unique()",
    "id": "5b6035e55fa543708cf5f1535742663c",
    "order_count": 38,
    "time": "2020-09-30T19:31:26.677Z",
    "type": "selectCodeCell"
   },
   {
    "code": "codeList = df.code.unique()",
    "id": "5b6035e55fa543708cf5f1535742663c",
    "order_count": 38,
    "time": "2020-09-30T19:31:27.365Z",
    "type": "executeCodeCell"
   },
   {
    "code": "luxKeywords = ['set_intent', 'Vis','VisList']",
    "id": "8ca33d7dee704980824d90ea0346fd43",
    "order_count": 39,
    "time": "2020-09-30T19:31:27.385Z",
    "type": "selectCodeCell"
   },
   {
    "code": "codeList = df.code.unique()",
    "id": "5b6035e55fa543708cf5f1535742663c",
    "isPrintLuxDf": false,
    "isPrintPandasDf": false,
    "isPrintVis": false,
    "isPrintVisCollection": false,
    "order_count": 38,
    "time": "2020-09-30T19:31:27.386Z",
    "type": "completeCodeCell"
   },
   {
    "code": "luxKeywords = ['set_intent', 'Vis','VisList']",
    "id": "8ca33d7dee704980824d90ea0346fd43",
    "order_count": 39,
    "time": "2020-09-30T19:31:27.824Z",
    "type": "executeCodeCell"
   },
   {
    "code": "list(filter(lambda x: 'set_intent' in str(x), codeList))",
    "id": "f086f1da08714614bd1c1888111d78d4",
    "order_count": 40,
    "time": "2020-09-30T19:31:27.845Z",
    "type": "selectCodeCell"
   },
   {
    "code": "luxKeywords = ['set_intent', 'Vis','VisList']",
    "id": "8ca33d7dee704980824d90ea0346fd43",
    "isPrintLuxDf": false,
    "isPrintPandasDf": false,
    "isPrintVis": false,
    "isPrintVisCollection": false,
    "order_count": 39,
    "time": "2020-09-30T19:31:27.846Z",
    "type": "completeCodeCell"
   },
   {
    "code": "list(filter(lambda x: 'set_intent' in str(x), codeList))",
    "id": "f086f1da08714614bd1c1888111d78d4",
    "order_count": 40,
    "time": "2020-09-30T19:31:28.601Z",
    "type": "executeCodeCell"
   },
   {
    "code": "",
    "id": "0958e220d9bf471eb731151a8a769743",
    "order_count": 41,
    "time": "2020-09-30T19:31:28.622Z",
    "type": "selectCodeCell"
   },
   {
    "code": "list(filter(lambda x: 'set_intent' in str(x), codeList))",
    "id": "f086f1da08714614bd1c1888111d78d4",
    "isPrintLuxDf": false,
    "isPrintPandasDf": false,
    "isPrintVis": false,
    "isPrintVisCollection": false,
    "order_count": 40,
    "time": "2020-09-30T19:31:28.624Z",
    "type": "completeCodeCell"
   },
   {
    "code": "luxKeywords = ['set_intent', 'Vis','VisList']",
    "id": "8ca33d7dee704980824d90ea0346fd43",
    "order_count": 39,
    "time": "2020-09-30T19:31:32.616Z",
    "type": "selectCodeCell"
   },
   {
    "code": "luxKeywords = ['set_intent', 'Vis','VisList']",
    "id": "8ca33d7dee704980824d90ea0346fd43",
    "order_count": 39,
    "time": "2020-09-30T19:31:32.628Z",
    "type": "editCodeCell"
   },
   {
    "code": "luxKeywords = ['set_intent', 'Vis','VisList']",
    "id": "8ca33d7dee704980824d90ea0346fd43",
    "order_count": 39,
    "time": "2020-09-30T19:31:32.864Z",
    "type": "selectCodeCell"
   },
   {
    "code": "luxKeywords = ['intent', 'Vis','VisList']",
    "id": "8ca33d7dee704980824d90ea0346fd43",
    "order_count": 39,
    "time": "2020-09-30T19:31:36.764Z",
    "type": "selectCodeCell"
   },
   {
    "code": "luxKeywords = ['intent', 'Vis','VisList']",
    "id": "8ca33d7dee704980824d90ea0346fd43",
    "order_count": 39,
    "time": "2020-09-30T19:31:36.880Z",
    "type": "selectCodeCell"
   },
   {
    "code": "luxKeywords = ['intent', 'exported','VisList']",
    "id": "8ca33d7dee704980824d90ea0346fd43",
    "order_count": 39,
    "time": "2020-09-30T19:31:42.738Z",
    "type": "selectCodeCell"
   },
   {
    "code": "luxKeywords = ['intent', 'exported','VisList']",
    "id": "8ca33d7dee704980824d90ea0346fd43",
    "order_count": 39,
    "time": "2020-09-30T19:31:42.854Z",
    "type": "selectCodeCell"
   },
   {
    "code": "luxKeywords = ['intent', 'exported']",
    "id": "8ca33d7dee704980824d90ea0346fd43",
    "order_count": 39,
    "time": "2020-09-30T19:31:44.889Z",
    "type": "executeCodeCell"
   },
   {
    "code": "list(filter(lambda x: 'set_intent' in str(x), codeList))",
    "id": "f086f1da08714614bd1c1888111d78d4",
    "order_count": 40,
    "time": "2020-09-30T19:31:44.912Z",
    "type": "selectCodeCell"
   },
   {
    "code": "luxKeywords = ['intent', 'exported']",
    "id": "8ca33d7dee704980824d90ea0346fd43",
    "isPrintLuxDf": false,
    "isPrintPandasDf": false,
    "isPrintVis": false,
    "isPrintVisCollection": false,
    "order_count": 39,
    "time": "2020-09-30T19:31:44.917Z",
    "type": "completeCodeCell"
   },
   {
    "code": "list(filter(lambda x: 'set_intent' in str(x), codeList))",
    "id": "f086f1da08714614bd1c1888111d78d4",
    "order_count": 40,
    "time": "2020-09-30T19:31:45.510Z",
    "type": "executeCodeCell"
   },
   {
    "code": "",
    "id": "0958e220d9bf471eb731151a8a769743",
    "order_count": 41,
    "time": "2020-09-30T19:31:45.532Z",
    "type": "selectCodeCell"
   },
   {
    "code": "list(filter(lambda x: 'set_intent' in str(x), codeList))",
    "id": "f086f1da08714614bd1c1888111d78d4",
    "isPrintLuxDf": false,
    "isPrintPandasDf": false,
    "isPrintVis": false,
    "isPrintVisCollection": false,
    "order_count": 40,
    "time": "2020-09-30T19:31:45.533Z",
    "type": "completeCodeCell"
   },
   {
    "code": "codeList = df.code.unique()",
    "id": "5b6035e55fa543708cf5f1535742663c",
    "order_count": 38,
    "time": "2020-09-30T19:31:47.164Z",
    "type": "selectCodeCell"
   },
   {
    "code": "codeList = df.code.unique()",
    "id": "5b6035e55fa543708cf5f1535742663c",
    "order_count": 38,
    "time": "2020-09-30T19:31:47.175Z",
    "type": "editCodeCell"
   },
   {
    "code": "codeList = df.code.unique()",
    "id": "5b6035e55fa543708cf5f1535742663c",
    "order_count": 38,
    "time": "2020-09-30T19:31:47.596Z",
    "type": "executeCodeCell"
   },
   {
    "code": "luxKeywords = ['intent', 'exported']",
    "id": "8ca33d7dee704980824d90ea0346fd43",
    "order_count": 39,
    "time": "2020-09-30T19:31:47.620Z",
    "type": "selectCodeCell"
   },
   {
    "code": "codeList = df.code.unique()",
    "id": "5b6035e55fa543708cf5f1535742663c",
    "isPrintLuxDf": false,
    "isPrintPandasDf": false,
    "isPrintVis": false,
    "isPrintVisCollection": false,
    "order_count": 38,
    "time": "2020-09-30T19:31:47.625Z",
    "type": "completeCodeCell"
   },
   {
    "code": "luxKeywords = ['intent', 'exported']",
    "id": "8ca33d7dee704980824d90ea0346fd43",
    "order_count": 39,
    "time": "2020-09-30T19:31:47.808Z",
    "type": "executeCodeCell"
   },
   {
    "code": "list(filter(lambda x: 'set_intent' in str(x), codeList))",
    "id": "f086f1da08714614bd1c1888111d78d4",
    "order_count": 40,
    "time": "2020-09-30T19:31:47.829Z",
    "type": "selectCodeCell"
   },
   {
    "code": "luxKeywords = ['intent', 'exported']",
    "id": "8ca33d7dee704980824d90ea0346fd43",
    "isPrintLuxDf": false,
    "isPrintPandasDf": false,
    "isPrintVis": false,
    "isPrintVisCollection": false,
    "order_count": 39,
    "time": "2020-09-30T19:31:47.831Z",
    "type": "completeCodeCell"
   },
   {
    "code": "list(filter(lambda x: 'set_intent' in str(x), codeList))",
    "id": "f086f1da08714614bd1c1888111d78d4",
    "order_count": 40,
    "time": "2020-09-30T19:31:48.000Z",
    "type": "executeCodeCell"
   },
   {
    "code": "",
    "id": "0958e220d9bf471eb731151a8a769743",
    "order_count": 41,
    "time": "2020-09-30T19:31:48.020Z",
    "type": "selectCodeCell"
   },
   {
    "code": "list(filter(lambda x: 'set_intent' in str(x), codeList))",
    "id": "f086f1da08714614bd1c1888111d78d4",
    "isPrintLuxDf": false,
    "isPrintPandasDf": false,
    "isPrintVis": false,
    "isPrintVisCollection": false,
    "order_count": 40,
    "time": "2020-09-30T19:31:48.022Z",
    "type": "completeCodeCell"
   },
   {
    "code": "luxKeywords = ['intent', 'exported']",
    "id": "8ca33d7dee704980824d90ea0346fd43",
    "order_count": 39,
    "time": "2020-09-30T19:32:02.065Z",
    "type": "selectCodeCell"
   },
   {
    "code": "luxKeywords = ['intent', 'exported']",
    "id": "8ca33d7dee704980824d90ea0346fd43",
    "order_count": 39,
    "time": "2020-09-30T19:32:02.076Z",
    "type": "editCodeCell"
   },
   {
    "code": "luxKeywords = ['intent', 'exported']",
    "id": "8ca33d7dee704980824d90ea0346fd43",
    "order_count": 39,
    "time": "2020-09-30T19:32:02.276Z",
    "type": "selectCodeCell"
   },
   {
    "code": "list(filter(lambda x: 'set_intent' in str(x), codeList))",
    "id": "f086f1da08714614bd1c1888111d78d4",
    "order_count": 40,
    "time": "2020-09-30T19:32:03.886Z",
    "type": "selectCodeCell"
   },
   {
    "code": "list(filter(lambda x: 'set_intent' in str(x), codeList))",
    "id": "f086f1da08714614bd1c1888111d78d4",
    "order_count": 40,
    "time": "2020-09-30T19:32:03.897Z",
    "type": "editCodeCell"
   },
   {
    "code": "list(filter(lambda x: 'set_intent' in str(x), codeList))",
    "id": "f086f1da08714614bd1c1888111d78d4",
    "order_count": 40,
    "time": "2020-09-30T19:32:03.963Z",
    "type": "selectCodeCell"
   },
   {
    "code": "list(filter(lambda x: 'set_intent' in str(x), codeList))",
    "id": "f086f1da08714614bd1c1888111d78d4",
    "order_count": 40,
    "time": "2020-09-30T19:32:04.096Z",
    "type": "selectCodeCell"
   },
   {
    "code": "list(filter(lambda x: 'set_intent' in str(x), codeList))",
    "id": "f086f1da08714614bd1c1888111d78d4",
    "order_count": 40,
    "time": "2020-09-30T19:32:04.626Z",
    "type": "selectCodeCell"
   },
   {
    "code": "list(filter(lambda x: 'set_intent' in str(x), codeList))",
    "id": "f086f1da08714614bd1c1888111d78d4",
    "order_count": 40,
    "time": "2020-09-30T19:32:04.981Z",
    "type": "selectCodeCell"
   },
   {
    "code": "list(filter(lambda x: 'set_intent' in str(x), codeList))",
    "id": "f086f1da08714614bd1c1888111d78d4",
    "order_count": 40,
    "time": "2020-09-30T19:32:05.288Z",
    "type": "selectCodeCell"
   },
   {
    "code": "list(filter(lambda x: 'set_intent' in str(x), codeList))",
    "id": "f086f1da08714614bd1c1888111d78d4",
    "order_count": 40,
    "time": "2020-09-30T19:32:05.668Z",
    "type": "selectCodeCell"
   },
   {
    "code": "list(filter(lambda x: 'set_intent' in str(x), codeList))",
    "id": "f086f1da08714614bd1c1888111d78d4",
    "order_count": 40,
    "time": "2020-09-30T19:32:05.810Z",
    "type": "selectCodeCell"
   },
   {
    "code": "list(filter(lambda x: 'intent' in str(x), codeList))",
    "id": "f086f1da08714614bd1c1888111d78d4",
    "order_count": 40,
    "time": "2020-09-30T19:32:06.351Z",
    "type": "executeCodeCell"
   },
   {
    "code": "",
    "id": "0958e220d9bf471eb731151a8a769743",
    "order_count": 41,
    "time": "2020-09-30T19:32:06.373Z",
    "type": "selectCodeCell"
   },
   {
    "code": "list(filter(lambda x: 'intent' in str(x), codeList))",
    "id": "f086f1da08714614bd1c1888111d78d4",
    "isPrintLuxDf": false,
    "isPrintPandasDf": false,
    "isPrintVis": false,
    "isPrintVisCollection": false,
    "order_count": 40,
    "time": "2020-09-30T19:32:06.380Z",
    "type": "completeCodeCell"
   },
   {
    "code": "luxKeywords = ['intent', 'exported']",
    "id": "8ca33d7dee704980824d90ea0346fd43",
    "order_count": 39,
    "time": "2020-09-30T19:32:21.601Z",
    "type": "selectCodeCell"
   },
   {
    "code": "luxKeywords = ['intent', 'exported']",
    "id": "8ca33d7dee704980824d90ea0346fd43",
    "order_count": 39,
    "time": "2020-09-30T19:32:21.611Z",
    "type": "editCodeCell"
   },
   {
    "code": "luxKeywords = ['intent', 'exported']",
    "id": "8ca33d7dee704980824d90ea0346fd43",
    "order_count": 39,
    "time": "2020-09-30T19:32:21.822Z",
    "type": "selectCodeCell"
   },
   {
    "code": "list(filter(lambda x: 'intent' in str(x), codeList))",
    "id": "f086f1da08714614bd1c1888111d78d4",
    "order_count": 40,
    "time": "2020-09-30T19:32:23.217Z",
    "type": "selectCodeCell"
   },
   {
    "code": "list(filter(lambda x: 'intent' in str(x), codeList))",
    "id": "f086f1da08714614bd1c1888111d78d4",
    "order_count": 40,
    "time": "2020-09-30T19:32:23.227Z",
    "type": "editCodeCell"
   },
   {
    "code": "list(filter(lambda x: 'intent' in str(x), codeList))",
    "id": "f086f1da08714614bd1c1888111d78d4",
    "order_count": 40,
    "time": "2020-09-30T19:32:23.385Z",
    "type": "selectCodeCell"
   },
   {
    "code": "list(filter(lambda x: 'exported' in str(x), codeList))",
    "id": "f086f1da08714614bd1c1888111d78d4",
    "order_count": 40,
    "time": "2020-09-30T19:32:23.910Z",
    "type": "executeCodeCell"
   },
   {
    "code": "",
    "id": "0958e220d9bf471eb731151a8a769743",
    "order_count": 41,
    "time": "2020-09-30T19:32:23.931Z",
    "type": "selectCodeCell"
   },
   {
    "code": "list(filter(lambda x: 'exported' in str(x), codeList))",
    "id": "f086f1da08714614bd1c1888111d78d4",
    "isPrintLuxDf": false,
    "isPrintPandasDf": false,
    "isPrintVis": false,
    "isPrintVisCollection": false,
    "order_count": 40,
    "time": "2020-09-30T19:32:23.938Z",
    "type": "completeCodeCell"
   },
   {
    "code": "df[df[\"type\"]==\"clickVis\"]",
    "id": "836fee0922004866843b3fccf9a04ab4",
    "order_count": 35,
    "time": "2020-09-30T22:37:59.900Z",
    "type": "selectCodeCell"
   },
   {
    "time": "2020-09-30T22:38:02.271Z",
    "type": "kernelRestart"
   },
   {
    "time": "2020-09-30T22:38:05.339Z",
    "type": "kernelReady"
   },
   {
    "code": "import json\nnb = json.load(open(\"CarsDemo.ipynb\"))\nlog = nb[\"metadata\"][\"history\"]",
    "id": "b9c3448c72a142578fbede98961c3897",
    "order_count": 0,
    "time": "2020-09-30T22:38:05.352Z",
    "type": "executeCodeCell"
   },
   {
    "code": "import pandas as pd\ndf = pd.DataFrame(log)\ndf[\"time\"] = pd.to_datetime(df[\"time\"])",
    "id": "2c4d111c41344c05aa8a29efe6cc2e69",
    "order_count": 1,
    "time": "2020-09-30T22:38:05.356Z",
    "type": "executeCodeCell"
   },
   {
    "code": "subset1 = df[(df[\"type\"]==\"editCodeCell\")|(df[\"type\"]==\"executeCodeCell\")]\nsubset1.loc[:,\"queryFormulationTime\"] = subset1.groupby([\"id\"])[\"time\"].diff()",
    "id": "488e914f0ad14445a9226fbb2fe60abb",
    "order_count": 4,
    "time": "2020-09-30T22:38:05.360Z",
    "type": "executeCodeCell"
   },
   {
    "code": "subset2 = df[(df[\"type\"]==\"executeCodeCell\")|(df[\"type\"]==\"completeCodeCell\")]\nsubset2.loc[:,\"codeExecutionTime\"] = subset2.groupby([\"id\"])[\"time\"].diff()",
    "id": "c6041b3757504836b1483f32d990fc66",
    "order_count": 5,
    "time": "2020-09-30T22:38:05.367Z",
    "type": "executeCodeCell"
   },
   {
    "code": "codeCellsubset=pd.concat([subset1,subset2])",
    "id": "8c423d95390545999f49b26f0d8bdaf1",
    "order_count": 6,
    "time": "2020-09-30T22:38:05.369Z",
    "type": "executeCodeCell"
   },
   {
    "code": "codeCellsubset[codeCellsubset[\"id\"]==\"b244c5509aa44ae9a534c03b8ea3accc\"]",
    "id": "66b5e4a3af6f41a49c2822bb134d5003",
    "order_count": 7,
    "time": "2020-09-30T22:38:05.375Z",
    "type": "executeCodeCell"
   },
   {
    "code": "import numpy as np",
    "id": "752ffad56594411f8137e62fb4091c9d",
    "order_count": 8,
    "time": "2020-09-30T22:38:05.378Z",
    "type": "executeCodeCell"
   },
   {
    "code": "#cellEvents is a dataframe with edit/complete/execute Code Cell all merged as one event, with computed queryFormulationTime and codeExecutionTime\ncellEvents = codeCellsubset.groupby(['id']).last()\n# cellEvents = cellEvents.reset_index()\n# cellEvents.type = \"CodeCellEvent\"",
    "id": "d396c3f8886140d3830b1caac31e918b",
    "order_count": 9,
    "time": "2020-09-30T22:38:05.381Z",
    "type": "executeCodeCell"
   },
   {
    "code": "cellEvents.sort_values('order_count')",
    "id": "64d64c5f83e24e808c7eafa8fe7be3fd",
    "order_count": 10,
    "time": "2020-09-30T22:38:05.385Z",
    "type": "executeCodeCell"
   },
   {
    "code": "print (\"Total number of dataframe prints:\", sum(cellEvents[\"isPrintPandasDf\"]))\nprint (\"Total number of dataframe prints:\", sum(cellEvents[\"isPrintLuxDf\"]))",
    "id": "09f7ebd272e649aa8a2f8a834d729ed4",
    "order_count": 11,
    "time": "2020-09-30T22:38:05.388Z",
    "type": "executeCodeCell"
   },
   {
    "code": "UIevents = ['initWidget','switchTab', 'startScroll', 'stopScroll', \n       'toggleBtnClick', 'clickVis', 'exportBtnClick']",
    "id": "6092ca093b994b58967be7dc690cf1e6",
    "order_count": 13,
    "time": "2020-09-30T22:38:05.391Z",
    "type": "executeCodeCell"
   },
   {
    "code": "#fill forwards based on the values in the most recent `selectCodeCell` to infer the order_count and other information about which cell is interacted upon\nuiEventDf = df[df.type.isin(UIevents+['selectCodeCell'])].ffill() ",
    "id": "604a635f9d0a481d9f9a275c4ab70b02",
    "order_count": 14,
    "time": "2020-09-30T22:38:05.395Z",
    "type": "executeCodeCell"
   },
   {
    "code": "uiEventDf",
    "id": "e2ca7054b9b2466c82ee21b0c8df04ef",
    "order_count": 15,
    "time": "2020-09-30T22:38:05.399Z",
    "type": "executeCodeCell"
   },
   {
    "code": "init = uiEventDf[uiEventDf[\"type\"]=='initWidget']",
    "id": "b1b7931b269b4dcf9f06232ad27d118d",
    "order_count": 17,
    "time": "2020-09-30T22:38:05.401Z",
    "type": "executeCodeCell"
   },
   {
    "code": "def filter_df_by_delta(df, timeDelta):\n    return df[df.time.diff()<timeDelta]",
    "id": "0f768aec974e441384b369a0a414d56f",
    "order_count": 18,
    "time": "2020-09-30T22:38:05.403Z",
    "type": "executeCodeCell"
   },
   {
    "code": "init =  filter_df_by_delta(init,\"00:00:00.5\")",
    "id": "ad52582b14ce4805998a09eb45cf379f",
    "order_count": 19,
    "time": "2020-09-30T22:38:05.405Z",
    "type": "executeCodeCell"
   },
   {
    "code": "init",
    "id": "963ad080792e4967a3b87eca7eae162c",
    "order_count": 20,
    "time": "2020-09-30T22:38:05.409Z",
    "type": "executeCodeCell"
   },
   {
    "code": "toggle = uiEventDf[uiEventDf[\"type\"]=='toggleBtnClick']\ntoggle = filter_df_by_delta(toggle,\"00:00:00.01\")",
    "id": "3eed20c62bf041d7a0375ceb5c9dc3f2",
    "order_count": 22,
    "time": "2020-09-30T22:38:05.411Z",
    "type": "executeCodeCell"
   },
   {
    "code": "toggle",
    "id": "fa9d78ccf9114dfd8ba6f3047b706545",
    "order_count": 23,
    "time": "2020-09-30T22:38:05.413Z",
    "type": "executeCodeCell"
   },
   {
    "code": "print (toggle.param)",
    "id": "67ec0912c8ed4b0f948fb8ea0272cbd1",
    "order_count": 24,
    "time": "2020-09-30T22:38:05.416Z",
    "type": "executeCodeCell"
   },
   {
    "code": "uiEventDf[uiEventDf[\"type\"]=='switchTab']",
    "id": "f9601c56711444f79b70baec4fe5e0c0",
    "order_count": 26,
    "time": "2020-09-30T22:38:05.419Z",
    "type": "executeCodeCell"
   },
   {
    "code": "import numpy as np\nscrollEvents = uiEventDf[(uiEventDf[\"type\"]=='startScroll')|(uiEventDf[\"type\"]=='stopScroll')]\n\n# Compute the max-min of the group to find total duration for scrolling\nscrollEvents[\"duration\"] =scrollEvents.groupby([\"id\",\"code\",\"param\"])[\"time\"].transform(np.ptp)\n\nscrollEvents = scrollEvents.drop(columns=[\"time\",\"type\"])\n\nscrollEvents = scrollEvents.drop_duplicates()\n\nscrollEvents",
    "id": "1533bac8b5f142588f9353dfc3483d4d",
    "order_count": 27,
    "time": "2020-09-30T22:38:05.421Z",
    "type": "executeCodeCell"
   },
   {
    "code": "scrollEvents[\"duration\"] = scrollEvents[\"duration\"].dt.total_seconds()",
    "id": "1e8dbf763c3c47e2a35447e3410571f5",
    "order_count": 28,
    "time": "2020-09-30T22:38:05.423Z",
    "type": "executeCodeCell"
   },
   {
    "code": "scrollEvents",
    "id": "85ba0f0438094bceb8fcffb4a2a21128",
    "order_count": 29,
    "time": "2020-09-30T22:38:05.425Z",
    "type": "executeCodeCell"
   },
   {
    "code": "scrollEvents.groupby(\"param\")[\"duration\"].mean()",
    "id": "d601388abe6f4e0f8d83567a9e804ae5",
    "order_count": 30,
    "time": "2020-09-30T22:38:05.430Z",
    "type": "executeCodeCell"
   },
   {
    "code": "df[df[\"type\"]=='deleteCodeCell']",
    "id": "3434b57ecbc0435a935b2b9c6d21d00a",
    "order_count": 32,
    "time": "2020-09-30T22:38:05.432Z",
    "type": "executeCodeCell"
   },
   {
    "code": "uiEventDf[uiEventDf[\"type\"]==\"exportBtnClick\"]",
    "id": "5b90c1e7343248f4b567831448becbe4",
    "order_count": 34,
    "time": "2020-09-30T22:38:05.435Z",
    "type": "executeCodeCell"
   },
   {
    "code": "df[df[\"type\"]==\"clickVis\"]",
    "id": "836fee0922004866843b3fccf9a04ab4",
    "order_count": 35,
    "time": "2020-09-30T22:38:05.436Z",
    "type": "executeCodeCell"
   },
   {
    "code": "df[df[\"type\"]==\"clickVis\"].param.values[0]",
    "id": "ee7f7a40e79e498e843f403655218f14",
    "order_count": 36,
    "time": "2020-09-30T22:38:05.438Z",
    "type": "executeCodeCell"
   },
   {
    "code": "codeList = df.code.unique()",
    "id": "5b6035e55fa543708cf5f1535742663c",
    "order_count": 38,
    "time": "2020-09-30T22:38:05.450Z",
    "type": "executeCodeCell"
   },
   {
    "code": "luxKeywords = ['intent', 'exported']",
    "id": "8ca33d7dee704980824d90ea0346fd43",
    "order_count": 39,
    "time": "2020-09-30T22:38:05.453Z",
    "type": "executeCodeCell"
   },
   {
    "code": "list(filter(lambda x: 'exported' in str(x), codeList))",
    "id": "f086f1da08714614bd1c1888111d78d4",
    "order_count": 40,
    "time": "2020-09-30T22:38:05.457Z",
    "type": "executeCodeCell"
   },
   {
    "time": "2020-09-30T22:38:05.569Z",
    "type": "kernelReady"
   },
   {
    "code": "import json\nnb = json.load(open(\"CarsDemo.ipynb\"))\nlog = nb[\"metadata\"][\"history\"]",
    "id": "b9c3448c72a142578fbede98961c3897",
    "isPrintLuxDf": false,
    "isPrintPandasDf": false,
    "isPrintVis": false,
    "isPrintVisCollection": false,
    "order_count": 0,
    "time": "2020-09-30T22:38:05.571Z",
    "type": "completeCodeCell"
   },
   {
    "code": "import pandas as pd\ndf = pd.DataFrame(log)\ndf[\"time\"] = pd.to_datetime(df[\"time\"])",
    "id": "2c4d111c41344c05aa8a29efe6cc2e69",
    "isPrintLuxDf": false,
    "isPrintPandasDf": false,
    "isPrintVis": false,
    "isPrintVisCollection": false,
    "order_count": 1,
    "time": "2020-09-30T22:38:06.628Z",
    "type": "completeCodeCell"
   },
   {
    "code": "subset1 = df[(df[\"type\"]==\"editCodeCell\")|(df[\"type\"]==\"executeCodeCell\")]\nsubset1.loc[:,\"queryFormulationTime\"] = subset1.groupby([\"id\"])[\"time\"].diff()",
    "id": "488e914f0ad14445a9226fbb2fe60abb",
    "isPrintLuxDf": false,
    "isPrintPandasDf": false,
    "isPrintVis": false,
    "isPrintVisCollection": false,
    "order_count": 4,
    "time": "2020-09-30T22:38:06.671Z",
    "type": "completeCodeCell"
   },
   {
    "code": "subset2 = df[(df[\"type\"]==\"executeCodeCell\")|(df[\"type\"]==\"completeCodeCell\")]\nsubset2.loc[:,\"codeExecutionTime\"] = subset2.groupby([\"id\"])[\"time\"].diff()",
    "id": "c6041b3757504836b1483f32d990fc66",
    "isPrintLuxDf": false,
    "isPrintPandasDf": false,
    "isPrintVis": false,
    "isPrintVisCollection": false,
    "order_count": 5,
    "time": "2020-09-30T22:38:06.686Z",
    "type": "completeCodeCell"
   },
   {
    "code": "codeCellsubset=pd.concat([subset1,subset2])",
    "id": "8c423d95390545999f49b26f0d8bdaf1",
    "isPrintLuxDf": false,
    "isPrintPandasDf": false,
    "isPrintVis": false,
    "isPrintVisCollection": false,
    "order_count": 6,
    "time": "2020-09-30T22:38:06.693Z",
    "type": "completeCodeCell"
   },
   {
    "code": "codeCellsubset[codeCellsubset[\"id\"]==\"b244c5509aa44ae9a534c03b8ea3accc\"]",
    "id": "66b5e4a3af6f41a49c2822bb134d5003",
    "isPrintLuxDf": false,
    "isPrintPandasDf": true,
    "isPrintVis": false,
    "isPrintVisCollection": false,
    "order_count": 7,
    "time": "2020-09-30T22:38:06.731Z",
    "type": "completeCodeCell"
   },
   {
    "code": "import numpy as np",
    "id": "752ffad56594411f8137e62fb4091c9d",
    "isPrintLuxDf": false,
    "isPrintPandasDf": false,
    "isPrintVis": false,
    "isPrintVisCollection": false,
    "order_count": 8,
    "time": "2020-09-30T22:38:06.733Z",
    "type": "completeCodeCell"
   },
   {
    "code": "#cellEvents is a dataframe with edit/complete/execute Code Cell all merged as one event, with computed queryFormulationTime and codeExecutionTime\ncellEvents = codeCellsubset.groupby(['id']).last()\n# cellEvents = cellEvents.reset_index()\n# cellEvents.type = \"CodeCellEvent\"",
    "id": "d396c3f8886140d3830b1caac31e918b",
    "isPrintLuxDf": false,
    "isPrintPandasDf": false,
    "isPrintVis": false,
    "isPrintVisCollection": false,
    "order_count": 9,
    "time": "2020-09-30T22:38:06.743Z",
    "type": "completeCodeCell"
   },
   {
    "code": "cellEvents.sort_values('order_count')",
    "id": "64d64c5f83e24e808c7eafa8fe7be3fd",
    "isPrintLuxDf": false,
    "isPrintPandasDf": true,
    "isPrintVis": false,
    "isPrintVisCollection": false,
    "order_count": 10,
    "time": "2020-09-30T22:38:06.767Z",
    "type": "completeCodeCell"
   },
   {
    "code": "print (\"Total number of dataframe prints:\", sum(cellEvents[\"isPrintPandasDf\"]))\nprint (\"Total number of dataframe prints:\", sum(cellEvents[\"isPrintLuxDf\"]))",
    "id": "09f7ebd272e649aa8a2f8a834d729ed4",
    "isPrintLuxDf": false,
    "isPrintPandasDf": false,
    "isPrintVis": false,
    "isPrintVisCollection": false,
    "order_count": 11,
    "time": "2020-09-30T22:38:06.780Z",
    "type": "completeCodeCell"
   },
   {
    "code": "UIevents = ['initWidget','switchTab', 'startScroll', 'stopScroll', \n       'toggleBtnClick', 'clickVis', 'exportBtnClick']",
    "id": "6092ca093b994b58967be7dc690cf1e6",
    "isPrintLuxDf": false,
    "isPrintPandasDf": false,
    "isPrintVis": false,
    "isPrintVisCollection": false,
    "order_count": 13,
    "time": "2020-09-30T22:38:06.783Z",
    "type": "completeCodeCell"
   },
   {
    "code": "#fill forwards based on the values in the most recent `selectCodeCell` to infer the order_count and other information about which cell is interacted upon\nuiEventDf = df[df.type.isin(UIevents+['selectCodeCell'])].ffill() ",
    "id": "604a635f9d0a481d9f9a275c4ab70b02",
    "isPrintLuxDf": false,
    "isPrintPandasDf": false,
    "isPrintVis": false,
    "isPrintVisCollection": false,
    "order_count": 14,
    "time": "2020-09-30T22:38:06.792Z",
    "type": "completeCodeCell"
   },
   {
    "code": "uiEventDf",
    "id": "e2ca7054b9b2466c82ee21b0c8df04ef",
    "isPrintLuxDf": false,
    "isPrintPandasDf": true,
    "isPrintVis": false,
    "isPrintVisCollection": false,
    "order_count": 15,
    "time": "2020-09-30T22:38:06.820Z",
    "type": "completeCodeCell"
   },
   {
    "code": "init = uiEventDf[uiEventDf[\"type\"]=='initWidget']",
    "id": "b1b7931b269b4dcf9f06232ad27d118d",
    "isPrintLuxDf": false,
    "isPrintPandasDf": false,
    "isPrintVis": false,
    "isPrintVisCollection": false,
    "order_count": 17,
    "time": "2020-09-30T22:38:06.831Z",
    "type": "completeCodeCell"
   },
   {
    "code": "def filter_df_by_delta(df, timeDelta):\n    return df[df.time.diff()<timeDelta]",
    "id": "0f768aec974e441384b369a0a414d56f",
    "isPrintLuxDf": false,
    "isPrintPandasDf": false,
    "isPrintVis": false,
    "isPrintVisCollection": false,
    "order_count": 18,
    "time": "2020-09-30T22:38:06.832Z",
    "type": "completeCodeCell"
   },
   {
    "code": "init =  filter_df_by_delta(init,\"00:00:00.5\")",
    "id": "ad52582b14ce4805998a09eb45cf379f",
    "isPrintLuxDf": false,
    "isPrintPandasDf": false,
    "isPrintVis": false,
    "isPrintVisCollection": false,
    "order_count": 19,
    "time": "2020-09-30T22:38:06.841Z",
    "type": "completeCodeCell"
   },
   {
    "code": "init",
    "id": "963ad080792e4967a3b87eca7eae162c",
    "isPrintLuxDf": false,
    "isPrintPandasDf": true,
    "isPrintVis": false,
    "isPrintVisCollection": false,
    "order_count": 20,
    "time": "2020-09-30T22:38:06.856Z",
    "type": "completeCodeCell"
   },
   {
    "code": "toggle = uiEventDf[uiEventDf[\"type\"]=='toggleBtnClick']\ntoggle = filter_df_by_delta(toggle,\"00:00:00.01\")",
    "id": "3eed20c62bf041d7a0375ceb5c9dc3f2",
    "isPrintLuxDf": false,
    "isPrintPandasDf": false,
    "isPrintVis": false,
    "isPrintVisCollection": false,
    "order_count": 22,
    "time": "2020-09-30T22:38:06.862Z",
    "type": "completeCodeCell"
   },
   {
    "code": "toggle",
    "id": "fa9d78ccf9114dfd8ba6f3047b706545",
    "isPrintLuxDf": false,
    "isPrintPandasDf": true,
    "isPrintVis": false,
    "isPrintVisCollection": false,
    "order_count": 23,
    "time": "2020-09-30T22:38:06.886Z",
    "type": "completeCodeCell"
   },
   {
    "code": "print (toggle.param)",
    "id": "67ec0912c8ed4b0f948fb8ea0272cbd1",
    "isPrintLuxDf": false,
    "isPrintPandasDf": false,
    "isPrintVis": false,
    "isPrintVisCollection": false,
    "order_count": 24,
    "time": "2020-09-30T22:38:06.894Z",
    "type": "completeCodeCell"
   },
   {
    "code": "uiEventDf[uiEventDf[\"type\"]=='switchTab']",
    "id": "f9601c56711444f79b70baec4fe5e0c0",
    "isPrintLuxDf": false,
    "isPrintPandasDf": true,
    "isPrintVis": false,
    "isPrintVisCollection": false,
    "order_count": 26,
    "time": "2020-09-30T22:38:06.916Z",
    "type": "completeCodeCell"
   },
   {
    "code": "import numpy as np\nscrollEvents = uiEventDf[(uiEventDf[\"type\"]=='startScroll')|(uiEventDf[\"type\"]=='stopScroll')]\n\n# Compute the max-min of the group to find total duration for scrolling\nscrollEvents[\"duration\"] =scrollEvents.groupby([\"id\",\"code\",\"param\"])[\"time\"].transform(np.ptp)\n\nscrollEvents = scrollEvents.drop(columns=[\"time\",\"type\"])\n\nscrollEvents = scrollEvents.drop_duplicates()\n\nscrollEvents",
    "id": "1533bac8b5f142588f9353dfc3483d4d",
    "isPrintLuxDf": false,
    "isPrintPandasDf": true,
    "isPrintVis": false,
    "isPrintVisCollection": false,
    "order_count": 27,
    "time": "2020-09-30T22:38:06.947Z",
    "type": "completeCodeCell"
   },
   {
    "code": "scrollEvents[\"duration\"] = scrollEvents[\"duration\"].dt.total_seconds()",
    "id": "1e8dbf763c3c47e2a35447e3410571f5",
    "isPrintLuxDf": false,
    "isPrintPandasDf": false,
    "isPrintVis": false,
    "isPrintVisCollection": false,
    "order_count": 28,
    "time": "2020-09-30T22:38:06.971Z",
    "type": "completeCodeCell"
   },
   {
    "code": "scrollEvents",
    "id": "85ba0f0438094bceb8fcffb4a2a21128",
    "isPrintLuxDf": false,
    "isPrintPandasDf": true,
    "isPrintVis": false,
    "isPrintVisCollection": false,
    "order_count": 29,
    "time": "2020-09-30T22:38:07.007Z",
    "type": "completeCodeCell"
   },
   {
    "code": "scrollEvents.groupby(\"param\")[\"duration\"].mean()",
    "id": "d601388abe6f4e0f8d83567a9e804ae5",
    "isPrintLuxDf": false,
    "isPrintPandasDf": false,
    "isPrintVis": false,
    "isPrintVisCollection": false,
    "order_count": 30,
    "time": "2020-09-30T22:38:07.013Z",
    "type": "completeCodeCell"
   },
   {
    "code": "df[df[\"type\"]=='deleteCodeCell']",
    "id": "3434b57ecbc0435a935b2b9c6d21d00a",
    "isPrintLuxDf": false,
    "isPrintPandasDf": true,
    "isPrintVis": false,
    "isPrintVisCollection": false,
    "order_count": 32,
    "time": "2020-09-30T22:38:07.029Z",
    "type": "completeCodeCell"
   },
   {
    "code": "uiEventDf[uiEventDf[\"type\"]==\"exportBtnClick\"]",
    "id": "5b90c1e7343248f4b567831448becbe4",
    "isPrintLuxDf": false,
    "isPrintPandasDf": true,
    "isPrintVis": false,
    "isPrintVisCollection": false,
    "order_count": 34,
    "time": "2020-09-30T22:38:07.049Z",
    "type": "completeCodeCell"
   },
   {
    "code": "df[df[\"type\"]==\"clickVis\"]",
    "id": "836fee0922004866843b3fccf9a04ab4",
    "isPrintLuxDf": false,
    "isPrintPandasDf": true,
    "isPrintVis": false,
    "isPrintVisCollection": false,
    "order_count": 35,
    "time": "2020-09-30T22:38:07.080Z",
    "type": "completeCodeCell"
   },
   {
    "code": "df[df[\"type\"]==\"clickVis\"].param.values[0]",
    "id": "ee7f7a40e79e498e843f403655218f14",
    "isPrintLuxDf": false,
    "isPrintPandasDf": false,
    "isPrintVis": false,
    "isPrintVisCollection": false,
    "order_count": 36,
    "time": "2020-09-30T22:38:07.127Z",
    "type": "completeCodeCell"
   },
   {
    "code": "codeList = df.code.unique()",
    "id": "5b6035e55fa543708cf5f1535742663c",
    "isPrintLuxDf": false,
    "isPrintPandasDf": false,
    "isPrintVis": false,
    "isPrintVisCollection": false,
    "order_count": 38,
    "time": "2020-09-30T22:38:07.137Z",
    "type": "completeCodeCell"
   },
   {
    "code": "luxKeywords = ['intent', 'exported']",
    "id": "8ca33d7dee704980824d90ea0346fd43",
    "isPrintLuxDf": false,
    "isPrintPandasDf": false,
    "isPrintVis": false,
    "isPrintVisCollection": false,
    "order_count": 39,
    "time": "2020-09-30T22:38:07.149Z",
    "type": "completeCodeCell"
   },
   {
    "code": "list(filter(lambda x: 'exported' in str(x), codeList))",
    "id": "f086f1da08714614bd1c1888111d78d4",
    "isPrintLuxDf": false,
    "isPrintPandasDf": false,
    "isPrintVis": false,
    "isPrintVisCollection": false,
    "order_count": 40,
    "time": "2020-09-30T22:38:07.150Z",
    "type": "completeCodeCell"
   }
  ],
  "kernelspec": {
   "display_name": "Python 3",
   "language": "python",
   "name": "python3"
  },
  "language_info": {
   "codemirror_mode": {
    "name": "ipython",
    "version": 3
   },
   "file_extension": ".py",
   "mimetype": "text/x-python",
   "name": "python",
   "nbconvert_exporter": "python",
   "pygments_lexer": "ipython3",
   "version": "3.7.3"
  }
 },
 "nbformat": 4,
 "nbformat_minor": 4
}
