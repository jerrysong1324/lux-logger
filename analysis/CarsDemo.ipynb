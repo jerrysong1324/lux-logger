{
 "cells": [
  {
   "cell_type": "code",
   "execution_count": 1,
   "metadata": {},
   "outputs": [],
   "source": [
    "import pandas as pd\n",
    "import lux"
   ]
  },
  {
   "cell_type": "markdown",
   "metadata": {},
   "source": [
    "Load in a dataset of 392 different cars from 1970-1982:"
   ]
  },
  {
   "cell_type": "code",
   "execution_count": 2,
   "metadata": {},
   "outputs": [
    {
     "data": {
      "text/html": [
       "<div>\n",
       "<style scoped>\n",
       "    .dataframe tbody tr th:only-of-type {\n",
       "        vertical-align: middle;\n",
       "    }\n",
       "\n",
       "    .dataframe tbody tr th {\n",
       "        vertical-align: top;\n",
       "    }\n",
       "\n",
       "    .dataframe thead th {\n",
       "        text-align: right;\n",
       "    }\n",
       "</style>\n",
       "<table border=\"1\" class=\"dataframe\">\n",
       "  <thead>\n",
       "    <tr style=\"text-align: right;\">\n",
       "      <th></th>\n",
       "      <th>Name</th>\n",
       "      <th>MilesPerGal</th>\n",
       "      <th>Cylinders</th>\n",
       "      <th>Displacement</th>\n",
       "      <th>Horsepower</th>\n",
       "      <th>Weight</th>\n",
       "      <th>Acceleration</th>\n",
       "      <th>Year</th>\n",
       "      <th>Origin</th>\n",
       "    </tr>\n",
       "  </thead>\n",
       "  <tbody>\n",
       "    <tr>\n",
       "      <th>0</th>\n",
       "      <td>chevrolet chevelle malibu</td>\n",
       "      <td>18.0</td>\n",
       "      <td>8</td>\n",
       "      <td>307.0</td>\n",
       "      <td>130</td>\n",
       "      <td>3504</td>\n",
       "      <td>12.0</td>\n",
       "      <td>1970-01-01</td>\n",
       "      <td>USA</td>\n",
       "    </tr>\n",
       "    <tr>\n",
       "      <th>1</th>\n",
       "      <td>buick skylark 320</td>\n",
       "      <td>15.0</td>\n",
       "      <td>8</td>\n",
       "      <td>350.0</td>\n",
       "      <td>165</td>\n",
       "      <td>3693</td>\n",
       "      <td>11.5</td>\n",
       "      <td>1970-01-01</td>\n",
       "      <td>USA</td>\n",
       "    </tr>\n",
       "    <tr>\n",
       "      <th>2</th>\n",
       "      <td>plymouth satellite</td>\n",
       "      <td>18.0</td>\n",
       "      <td>8</td>\n",
       "      <td>318.0</td>\n",
       "      <td>150</td>\n",
       "      <td>3436</td>\n",
       "      <td>11.0</td>\n",
       "      <td>1970-01-01</td>\n",
       "      <td>USA</td>\n",
       "    </tr>\n",
       "    <tr>\n",
       "      <th>3</th>\n",
       "      <td>amc rebel sst</td>\n",
       "      <td>16.0</td>\n",
       "      <td>8</td>\n",
       "      <td>304.0</td>\n",
       "      <td>150</td>\n",
       "      <td>3433</td>\n",
       "      <td>12.0</td>\n",
       "      <td>1970-01-01</td>\n",
       "      <td>USA</td>\n",
       "    </tr>\n",
       "    <tr>\n",
       "      <th>4</th>\n",
       "      <td>ford torino</td>\n",
       "      <td>17.0</td>\n",
       "      <td>8</td>\n",
       "      <td>302.0</td>\n",
       "      <td>140</td>\n",
       "      <td>3449</td>\n",
       "      <td>10.5</td>\n",
       "      <td>1970-01-01</td>\n",
       "      <td>USA</td>\n",
       "    </tr>\n",
       "  </tbody>\n",
       "</table>\n",
       "</div>"
      ],
      "text/plain": [
       "                        Name  MilesPerGal  Cylinders  Displacement  \\\n",
       "0  chevrolet chevelle malibu         18.0          8         307.0   \n",
       "1          buick skylark 320         15.0          8         350.0   \n",
       "2         plymouth satellite         18.0          8         318.0   \n",
       "3              amc rebel sst         16.0          8         304.0   \n",
       "4                ford torino         17.0          8         302.0   \n",
       "\n",
       "   Horsepower  Weight  Acceleration       Year Origin  \n",
       "0         130    3504          12.0 1970-01-01    USA  \n",
       "1         165    3693          11.5 1970-01-01    USA  \n",
       "2         150    3436          11.0 1970-01-01    USA  \n",
       "3         150    3433          12.0 1970-01-01    USA  \n",
       "4         140    3449          10.5 1970-01-01    USA  "
      ]
     },
     "execution_count": 2,
     "metadata": {},
     "output_type": "execute_result"
    }
   ],
   "source": [
    "df = pd.read_csv(\"car.csv\")\n",
    "df[\"Year\"] = pd.to_datetime(df[\"Year\"], format='%Y') # change pandas dtype for the column \"Year\" to datetype\n",
    "df.head().to_pandas()"
   ]
  },
  {
   "cell_type": "code",
   "execution_count": 3,
   "metadata": {
    "scrolled": false
   },
   "outputs": [
    {
     "data": {
      "application/vnd.jupyter.widget-view+json": {
       "model_id": "3b2ba178b7074530b784961b1e1d3f3a",
       "version_major": 2,
       "version_minor": 0
      },
      "text/plain": [
       "Button(description='Toggle Pandas/Lux', layout=Layout(top='5px', width='140px'), style=ButtonStyle())"
      ]
     },
     "metadata": {},
     "output_type": "display_data"
    },
    {
     "data": {
      "application/vnd.jupyter.widget-view+json": {
       "model_id": "120331a9407e496b8a93b3de1e53a478",
       "version_major": 2,
       "version_minor": 0
      },
      "text/plain": [
       "Output()"
      ]
     },
     "metadata": {},
     "output_type": "display_data"
    },
    {
     "data": {
      "text/plain": []
     },
     "execution_count": 3,
     "metadata": {},
     "output_type": "execute_result"
    }
   ],
   "source": [
    "df"
   ]
  },
  {
   "cell_type": "code",
   "execution_count": 4,
   "metadata": {},
   "outputs": [],
   "source": [
    "df.default_display = \"lux\""
   ]
  },
  {
   "cell_type": "code",
   "execution_count": 5,
   "metadata": {
    "scrolled": false
   },
   "outputs": [
    {
     "data": {
      "application/vnd.jupyter.widget-view+json": {
       "model_id": "2da7d994579c43db87f1a3e40c5fd525",
       "version_major": 2,
       "version_minor": 0
      },
      "text/plain": [
       "Button(description='Toggle Pandas/Lux', layout=Layout(top='5px', width='140px'), style=ButtonStyle())"
      ]
     },
     "metadata": {},
     "output_type": "display_data"
    },
    {
     "data": {
      "application/vnd.jupyter.widget-view+json": {
       "model_id": "43b10a396f2c43749a02e5e67f253af3",
       "version_major": 2,
       "version_minor": 0
      },
      "text/plain": [
       "Output()"
      ]
     },
     "metadata": {},
     "output_type": "display_data"
    },
    {
     "data": {
      "text/plain": []
     },
     "execution_count": 5,
     "metadata": {},
     "output_type": "execute_result"
    }
   ],
   "source": [
    "df"
   ]
  },
  {
   "cell_type": "markdown",
   "metadata": {},
   "source": [
    "Intuitively, we expect cars with more horsepower means higher acceleration, but we are actually seeing the opposite of that trend.\n",
    "Let's learn more about whether there are additional factors that is affecting this relationship."
   ]
  },
  {
   "cell_type": "code",
   "execution_count": 6,
   "metadata": {},
   "outputs": [
    {
     "data": {
      "application/vnd.jupyter.widget-view+json": {
       "model_id": "59eafe78ecc646f5b8ee6fe7644c38d2",
       "version_major": 2,
       "version_minor": 0
      },
      "text/plain": [
       "Button(description='Toggle Pandas/Lux', layout=Layout(top='5px', width='140px'), style=ButtonStyle())"
      ]
     },
     "metadata": {},
     "output_type": "display_data"
    },
    {
     "data": {
      "application/vnd.jupyter.widget-view+json": {
       "model_id": "6c52c1affd124a9ba9f6f76300623d23",
       "version_major": 2,
       "version_minor": 0
      },
      "text/plain": [
       "Output()"
      ]
     },
     "metadata": {},
     "output_type": "display_data"
    },
    {
     "data": {
      "text/plain": []
     },
     "execution_count": 6,
     "metadata": {},
     "output_type": "execute_result"
    }
   ],
   "source": [
    "df.intent = [\"Acceleration\", \"Horsepower\"]\n",
    "df"
   ]
  },
  {
   "cell_type": "code",
   "execution_count": 7,
   "metadata": {},
   "outputs": [
    {
     "data": {
      "application/vnd.jupyter.widget-view+json": {
       "model_id": "9541b42cdccf40e38a4980522ed49b86",
       "version_major": 2,
       "version_minor": 0
      },
      "text/plain": [
       "LuxWidget(recommendations=[{'action': 'Vis List', 'description': 'Shows a vis list defined by the intent', 'vs…"
      ]
     },
     "metadata": {},
     "output_type": "display_data"
    },
    {
     "data": {
      "text/plain": [
       "[<Vis  (x: Acceleration, y: Horsepower, color: Origin) mark: scatter, score: 0.33 >]"
      ]
     },
     "execution_count": 7,
     "metadata": {},
     "output_type": "execute_result"
    }
   ],
   "source": [
    "df.exported"
   ]
  },
  {
   "cell_type": "code",
   "execution_count": 8,
   "metadata": {},
   "outputs": [
    {
     "data": {
      "application/vnd.jupyter.widget-view+json": {
       "model_id": "3553390b560d4807a25e48516ef43357",
       "version_major": 2,
       "version_minor": 0
      },
      "text/plain": [
       "LuxWidget(current_vis={'config': {'view': {'continuousWidth': 400, 'continuousHeight': 300}, 'axis': {'labelCo…"
      ]
     },
     "metadata": {},
     "output_type": "display_data"
    },
    {
     "data": {
      "text/plain": [
       "<Vis  ([<Clause  channel: x,\n",
       "         attribute: Acceleration,\n",
       "         data_model: measure,\n",
       "         data_type: quantitative,\n",
       "         bin_size: 0 >, <Clause  channel: y,\n",
       "         attribute: Horsepower,\n",
       "         data_model: measure,\n",
       "         data_type: quantitative,\n",
       "         bin_size: 0 >, <Clause  channel: color,\n",
       "         attribute: Origin,\n",
       "         data_model: dimension,\n",
       "         data_type: nominal,\n",
       "         bin_size: 0 >]) mark: scatter, score: 0.3333333333333333 >"
      ]
     },
     "execution_count": 8,
     "metadata": {},
     "output_type": "execute_result"
    }
   ],
   "source": [
    "vis = df.exported[0]\n",
    "vis "
   ]
  },
  {
   "cell_type": "markdown",
   "metadata": {},
   "source": [
    "In the cell above, the Enhance shows that for all the added quantitative variables (shown as gradients of color), except MilesPerGal, the trend for the value is higher on the upper-left end, and value decreases towards the bottom-right."
   ]
  },
  {
   "cell_type": "markdown",
   "metadata": {},
   "source": [
    "Let's look at what the MilesPerGal is like for different Cylinder cars."
   ]
  },
  {
   "cell_type": "code",
   "execution_count": 11,
   "metadata": {},
   "outputs": [
    {
     "data": {
      "application/vnd.jupyter.widget-view+json": {
       "model_id": "618cf26636af47bea4a031ca5296cdb4",
       "version_major": 2,
       "version_minor": 0
      },
      "text/plain": [
       "Button(description='Toggle Pandas/Lux', layout=Layout(top='5px', width='140px'), style=ButtonStyle())"
      ]
     },
     "metadata": {},
     "output_type": "display_data"
    },
    {
     "data": {
      "application/vnd.jupyter.widget-view+json": {
       "model_id": "f7964727266b434b93d2765b1476ebdc",
       "version_major": 2,
       "version_minor": 0
      },
      "text/plain": [
       "Output()"
      ]
     },
     "metadata": {},
     "output_type": "display_data"
    },
    {
     "data": {
      "text/plain": []
     },
     "execution_count": 11,
     "metadata": {},
     "output_type": "execute_result"
    }
   ],
   "source": [
    "df.intent=[\"Origin\"]\n",
    "df"
   ]
  },
  {
   "cell_type": "code",
   "execution_count": 12,
   "metadata": {},
   "outputs": [
    {
     "data": {
      "application/vnd.jupyter.widget-view+json": {
       "model_id": "b95bb28d94204e259ed405b48382aa0c",
       "version_major": 2,
       "version_minor": 0
      },
      "text/plain": [
       "LuxWidget(recommendations=[{'action': 'Vis List', 'description': 'Shows a vis list defined by the intent', 'vs…"
      ]
     },
     "metadata": {},
     "output_type": "display_data"
    },
    {
     "data": {
      "text/plain": [
       "[<Vis  (x: MEAN(Displacement), y: Origin) mark: bar, score: 0.18 >,\n",
       " <Vis  (x: MEAN(Horsepower)  , y: Origin) mark: bar, score: 0.08 >]"
      ]
     },
     "execution_count": 12,
     "metadata": {},
     "output_type": "execute_result"
    }
   ],
   "source": [
    "df.exported"
   ]
  },
  {
   "cell_type": "code",
   "execution_count": null,
   "metadata": {},
   "outputs": [],
   "source": []
  }
 ],
 "metadata": {
  "history": [
   {
    "code": "import pandas as pd\nimport lux",
    "id": "9a8b061260ab413e8efeab8ef6d32643",
    "order_count": 0,
    "time": "2020-09-30T22:33:25.516Z",
    "type": "selectCodeCell"
   },
   {
    "code": "import pandas as pd\nimport lux",
    "id": "9a8b061260ab413e8efeab8ef6d32643",
    "order_count": 0,
    "time": "2020-09-30T22:33:25.526Z",
    "type": "editCodeCell"
   },
   {
    "code": "import pandas as pd\nimport lux",
    "id": "9a8b061260ab413e8efeab8ef6d32643",
    "order_count": 0,
    "time": "2020-09-30T22:33:27.018Z",
    "type": "executeCodeCell"
   },
   {
    "code": "Load in a dataset of 392 different cars from 1970-1982:",
    "id": "21d154d780524958bc613bec130c0704",
    "order_count": 1,
    "time": "2020-09-30T22:33:27.029Z",
    "type": "selectMarkdownCell"
   },
   {
    "code": "df = pd.read_csv(\"car.csv\")\ndf[\"Year\"] = pd.to_datetime(df[\"Year\"], format='%Y') # change pandas dtype for the column \"Year\" to datetype\ndf.head().to_pandas()",
    "id": "ac02a6dbc4eb48a9834f215373f704e4",
    "order_count": 2,
    "time": "2020-09-30T22:33:27.574Z",
    "type": "selectCodeCell"
   },
   {
    "code": "df = pd.read_csv(\"car.csv\")\ndf[\"Year\"] = pd.to_datetime(df[\"Year\"], format='%Y') # change pandas dtype for the column \"Year\" to datetype\ndf.head().to_pandas()",
    "id": "ac02a6dbc4eb48a9834f215373f704e4",
    "order_count": 2,
    "time": "2020-09-30T22:33:28.044Z",
    "type": "executeCodeCell"
   },
   {
    "code": "df",
    "id": "a77846f07c284981a40a47af03f5ab93",
    "order_count": 3,
    "time": "2020-09-30T22:33:28.061Z",
    "type": "selectCodeCell"
   },
   {
    "code": "df",
    "id": "a77846f07c284981a40a47af03f5ab93",
    "order_count": 3,
    "time": "2020-09-30T22:33:28.566Z",
    "type": "executeCodeCell"
   },
   {
    "code": "df.default_display = \"lux\"",
    "id": "7069fbf8b6ec47c6a5945c4eb0108f75",
    "order_count": 4,
    "time": "2020-09-30T22:33:28.587Z",
    "type": "selectCodeCell"
   },
   {
    "code": "import pandas as pd\nimport lux",
    "id": "9a8b061260ab413e8efeab8ef6d32643",
    "isPrintLuxDf": false,
    "isPrintPandasDf": false,
    "isPrintVis": false,
    "isPrintVisCollection": false,
    "order_count": 0,
    "time": "2020-09-30T22:33:28.859Z",
    "type": "completeCodeCell"
   },
   {
    "code": "df = pd.read_csv(\"car.csv\")\ndf[\"Year\"] = pd.to_datetime(df[\"Year\"], format='%Y') # change pandas dtype for the column \"Year\" to datetype\ndf.head().to_pandas()",
    "id": "ac02a6dbc4eb48a9834f215373f704e4",
    "isPrintLuxDf": false,
    "isPrintPandasDf": true,
    "isPrintVis": false,
    "isPrintVisCollection": false,
    "order_count": 2,
    "time": "2020-09-30T22:33:28.919Z",
    "type": "completeCodeCell"
   },
   {
    "code": "df.default_display = \"lux\"",
    "id": "7069fbf8b6ec47c6a5945c4eb0108f75",
    "order_count": 4,
    "time": "2020-09-30T22:33:29.131Z",
    "type": "executeCodeCell"
   },
   {
    "code": "df",
    "id": "57e0a52e9bc549d587d9cb4c13c51916",
    "order_count": 5,
    "time": "2020-09-30T22:33:29.154Z",
    "type": "selectCodeCell"
   },
   {
    "code": "df",
    "id": "a77846f07c284981a40a47af03f5ab93",
    "isPrintLuxDf": false,
    "isPrintPandasDf": true,
    "isPrintVis": false,
    "isPrintVisCollection": false,
    "order_count": 3,
    "time": "2020-09-30T22:33:30.657Z",
    "type": "completeCodeCell"
   },
   {
    "code": "df.default_display = \"lux\"",
    "id": "7069fbf8b6ec47c6a5945c4eb0108f75",
    "isPrintLuxDf": false,
    "isPrintPandasDf": false,
    "isPrintVis": false,
    "isPrintVisCollection": false,
    "order_count": 4,
    "time": "2020-09-30T22:33:30.658Z",
    "type": "completeCodeCell"
   },
   {
    "code": "df",
    "id": "a77846f07c284981a40a47af03f5ab93",
    "order_count": 3,
    "time": "2020-09-30T22:33:42.630Z",
    "type": "selectCodeCell"
   },
   {
    "param": "",
    "time": "2020-09-30T22:33:42.737Z",
    "type": "initWidget"
   },
   {
    "param": "",
    "time": "2020-09-30T22:33:43.459Z",
    "type": "initWidget"
   },
   {
    "code": "df",
    "id": "a77846f07c284981a40a47af03f5ab93",
    "order_count": 3,
    "time": "2020-09-30T22:33:47.485Z",
    "type": "selectCodeCell"
   },
   {
    "param": "Temporal",
    "time": "2020-09-30T22:33:47.487Z",
    "type": "switchTab"
   },
   {
    "code": "df",
    "id": "a77846f07c284981a40a47af03f5ab93",
    "order_count": 3,
    "time": "2020-09-30T22:33:48.435Z",
    "type": "selectCodeCell"
   },
   {
    "param": "Occurrence",
    "time": "2020-09-30T22:33:48.436Z",
    "type": "switchTab"
   },
   {
    "code": "df",
    "id": "a77846f07c284981a40a47af03f5ab93",
    "order_count": 3,
    "time": "2020-09-30T22:33:54.635Z",
    "type": "selectCodeCell"
   },
   {
    "param": "Correlation",
    "time": "2020-09-30T22:33:54.636Z",
    "type": "switchTab"
   },
   {
    "param": "Correlation",
    "time": "2020-09-30T22:33:59.713Z",
    "type": "startScroll"
   },
   {
    "param": "Correlation",
    "time": "2020-09-30T22:33:59.854Z",
    "type": "stopScroll"
   },
   {
    "code": "df",
    "id": "a77846f07c284981a40a47af03f5ab93",
    "order_count": 3,
    "time": "2020-09-30T22:34:00.236Z",
    "type": "selectCodeCell"
   },
   {
    "param": "Correlation",
    "time": "2020-09-30T22:34:00.492Z",
    "type": "startScroll"
   },
   {
    "param": "Correlation",
    "time": "2020-09-30T22:34:00.887Z",
    "type": "stopScroll"
   },
   {
    "param": "Correlation",
    "time": "2020-09-30T22:34:01.158Z",
    "type": "startScroll"
   },
   {
    "param": "Correlation",
    "time": "2020-09-30T22:34:01.487Z",
    "type": "stopScroll"
   },
   {
    "param": "Correlation",
    "time": "2020-09-30T22:34:01.793Z",
    "type": "startScroll"
   },
   {
    "param": "Correlation",
    "time": "2020-09-30T22:34:02.137Z",
    "type": "stopScroll"
   },
   {
    "param": "Correlation",
    "time": "2020-09-30T22:34:02.492Z",
    "type": "startScroll"
   },
   {
    "param": "Correlation",
    "time": "2020-09-30T22:34:02.686Z",
    "type": "stopScroll"
   },
   {
    "param": "Correlation",
    "time": "2020-09-30T22:34:03.059Z",
    "type": "startScroll"
   },
   {
    "param": "Correlation",
    "time": "2020-09-30T22:34:03.403Z",
    "type": "stopScroll"
   },
   {
    "param": "Correlation",
    "time": "2020-09-30T22:34:03.592Z",
    "type": "startScroll"
   },
   {
    "param": "Correlation",
    "time": "2020-09-30T22:34:03.819Z",
    "type": "stopScroll"
   },
   {
    "param": "Correlation",
    "time": "2020-09-30T22:34:04.276Z",
    "type": "startScroll"
   },
   {
    "param": "Correlation",
    "time": "2020-09-30T22:34:04.469Z",
    "type": "stopScroll"
   },
   {
    "param": "Correlation",
    "time": "2020-09-30T22:34:04.926Z",
    "type": "startScroll"
   },
   {
    "param": "Correlation",
    "time": "2020-09-30T22:34:05.105Z",
    "type": "stopScroll"
   },
   {
    "param": "Correlation",
    "time": "2020-09-30T22:34:05.559Z",
    "type": "startScroll"
   },
   {
    "param": "Correlation",
    "time": "2020-09-30T22:34:05.787Z",
    "type": "stopScroll"
   },
   {
    "param": "Correlation",
    "time": "2020-09-30T22:34:06.193Z",
    "type": "startScroll"
   },
   {
    "param": "Correlation",
    "time": "2020-09-30T22:34:06.386Z",
    "type": "stopScroll"
   },
   {
    "param": "Correlation",
    "time": "2020-09-30T22:34:06.409Z",
    "type": "startScroll"
   },
   {
    "param": "Correlation",
    "time": "2020-09-30T22:34:06.470Z",
    "type": "stopScroll"
   },
   {
    "param": "Correlation",
    "time": "2020-09-30T22:34:06.859Z",
    "type": "startScroll"
   },
   {
    "param": "Correlation",
    "time": "2020-09-30T22:34:07.104Z",
    "type": "stopScroll"
   },
   {
    "param": "Correlation",
    "time": "2020-09-30T22:34:07.493Z",
    "type": "startScroll"
   },
   {
    "param": "Correlation",
    "time": "2020-09-30T22:34:07.704Z",
    "type": "stopScroll"
   },
   {
    "param": "Correlation",
    "time": "2020-09-30T22:34:08.175Z",
    "type": "startScroll"
   },
   {
    "param": "Correlation",
    "time": "2020-09-30T22:34:08.403Z",
    "type": "stopScroll"
   },
   {
    "param": "Correlation",
    "time": "2020-09-30T22:34:08.725Z",
    "type": "startScroll"
   },
   {
    "param": "Correlation",
    "time": "2020-09-30T22:34:08.985Z",
    "type": "stopScroll"
   },
   {
    "param": "Correlation",
    "time": "2020-09-30T22:34:09.409Z",
    "type": "startScroll"
   },
   {
    "param": "Correlation",
    "time": "2020-09-30T22:34:09.652Z",
    "type": "stopScroll"
   },
   {
    "param": "Correlation",
    "time": "2020-09-30T22:34:10.075Z",
    "type": "startScroll"
   },
   {
    "param": "Correlation",
    "time": "2020-09-30T22:34:10.320Z",
    "type": "stopScroll"
   },
   {
    "param": "Correlation",
    "time": "2020-09-30T22:34:10.774Z",
    "type": "startScroll"
   },
   {
    "param": "Correlation",
    "time": "2020-09-30T22:34:10.918Z",
    "type": "stopScroll"
   },
   {
    "param": "Correlation",
    "time": "2020-09-30T22:34:10.958Z",
    "type": "startScroll"
   },
   {
    "param": "Correlation",
    "time": "2020-09-30T22:34:11.020Z",
    "type": "stopScroll"
   },
   {
    "param": "Correlation",
    "time": "2020-09-30T22:34:11.392Z",
    "type": "startScroll"
   },
   {
    "param": "Correlation",
    "time": "2020-09-30T22:34:11.653Z",
    "type": "stopScroll"
   },
   {
    "param": "Correlation",
    "time": "2020-09-30T22:34:12.092Z",
    "type": "startScroll"
   },
   {
    "param": "Correlation",
    "time": "2020-09-30T22:34:12.335Z",
    "type": "stopScroll"
   },
   {
    "param": "Correlation",
    "time": "2020-09-30T22:34:12.708Z",
    "type": "startScroll"
   },
   {
    "param": "Correlation",
    "time": "2020-09-30T22:34:13.003Z",
    "type": "stopScroll"
   },
   {
    "param": "Correlation",
    "time": "2020-09-30T22:34:13.375Z",
    "type": "startScroll"
   },
   {
    "param": "Correlation",
    "time": "2020-09-30T22:34:13.552Z",
    "type": "stopScroll"
   },
   {
    "param": "Correlation",
    "time": "2020-09-30T22:34:14.008Z",
    "type": "startScroll"
   },
   {
    "param": "Correlation",
    "time": "2020-09-30T22:34:14.251Z",
    "type": "stopScroll"
   },
   {
    "param": "Correlation",
    "time": "2020-09-30T22:34:14.623Z",
    "type": "startScroll"
   },
   {
    "param": "Correlation",
    "time": "2020-09-30T22:34:14.913Z",
    "type": "stopScroll"
   },
   {
    "param": "Correlation",
    "time": "2020-09-30T22:34:15.258Z",
    "type": "startScroll"
   },
   {
    "param": "Correlation",
    "time": "2020-09-30T22:34:15.519Z",
    "type": "stopScroll"
   },
   {
    "param": "Correlation",
    "time": "2020-09-30T22:34:15.891Z",
    "type": "startScroll"
   },
   {
    "param": "Correlation",
    "time": "2020-09-30T22:34:16.151Z",
    "type": "stopScroll"
   },
   {
    "param": "Correlation",
    "time": "2020-09-30T22:34:16.473Z",
    "type": "startScroll"
   },
   {
    "param": "Correlation",
    "time": "2020-09-30T22:34:16.736Z",
    "type": "stopScroll"
   },
   {
    "param": "Correlation",
    "time": "2020-09-30T22:34:17.091Z",
    "type": "startScroll"
   },
   {
    "param": "Correlation",
    "time": "2020-09-30T22:34:17.336Z",
    "type": "stopScroll"
   },
   {
    "param": "Correlation",
    "time": "2020-09-30T22:34:17.641Z",
    "type": "startScroll"
   },
   {
    "param": "Correlation",
    "time": "2020-09-30T22:34:18.100Z",
    "type": "stopScroll"
   },
   {
    "param": "Correlation",
    "time": "2020-09-30T22:34:18.107Z",
    "type": "startScroll"
   },
   {
    "param": "Correlation",
    "time": "2020-09-30T22:34:18.218Z",
    "type": "stopScroll"
   },
   {
    "param": "Correlation",
    "time": "2020-09-30T22:34:18.234Z",
    "type": "startScroll"
   },
   {
    "param": "Correlation",
    "time": "2020-09-30T22:34:18.294Z",
    "type": "stopScroll"
   },
   {
    "param": "Correlation",
    "time": "2020-09-30T22:34:18.368Z",
    "type": "startScroll"
   },
   {
    "param": "Correlation",
    "time": "2020-09-30T22:34:18.428Z",
    "type": "stopScroll"
   },
   {
    "code": "df",
    "id": "a77846f07c284981a40a47af03f5ab93",
    "order_count": 3,
    "time": "2020-09-30T22:34:21.474Z",
    "type": "selectCodeCell"
   },
   {
    "param": "Distribution",
    "time": "2020-09-30T22:34:21.477Z",
    "type": "switchTab"
   },
   {
    "param": "Distribution",
    "time": "2020-09-30T22:34:23.510Z",
    "type": "startScroll"
   },
   {
    "param": "Distribution",
    "time": "2020-09-30T22:34:24.200Z",
    "type": "stopScroll"
   },
   {
    "param": "Distribution",
    "time": "2020-09-30T22:34:24.239Z",
    "type": "startScroll"
   },
   {
    "param": "Distribution",
    "time": "2020-09-30T22:34:24.300Z",
    "type": "stopScroll"
   },
   {
    "code": "df.default_display = \"lux\"",
    "id": "7069fbf8b6ec47c6a5945c4eb0108f75",
    "order_count": 4,
    "time": "2020-09-30T22:34:26.905Z",
    "type": "selectCodeCell"
   },
   {
    "code": "df.default_display = \"lux\"",
    "id": "7069fbf8b6ec47c6a5945c4eb0108f75",
    "order_count": 4,
    "time": "2020-09-30T22:34:26.913Z",
    "type": "editCodeCell"
   },
   {
    "code": "df.default_display = \"lux\"",
    "id": "7069fbf8b6ec47c6a5945c4eb0108f75",
    "order_count": 4,
    "time": "2020-09-30T22:34:35.902Z",
    "type": "editCodeCell"
   },
   {
    "code": "df",
    "id": "57e0a52e9bc549d587d9cb4c13c51916",
    "order_count": 5,
    "time": "2020-09-30T22:34:36.302Z",
    "type": "selectCodeCell"
   },
   {
    "code": "df",
    "id": "57e0a52e9bc549d587d9cb4c13c51916",
    "order_count": 5,
    "time": "2020-09-30T22:34:36.308Z",
    "type": "editCodeCell"
   },
   {
    "code": "df",
    "id": "57e0a52e9bc549d587d9cb4c13c51916",
    "order_count": 5,
    "time": "2020-09-30T22:34:37.396Z",
    "type": "executeCodeCell"
   },
   {
    "code": "Intuitively, we expect cars with more horsepower means higher acceleration, but we are actually seeing the opposite of that trend.\nLet's learn more about whether there are additional factors that is affecting this relationship.",
    "id": "ed4160f165ff4acf911e435304aa3729",
    "order_count": 6,
    "time": "2020-09-30T22:34:37.408Z",
    "type": "selectMarkdownCell"
   },
   {
    "code": "df",
    "id": "57e0a52e9bc549d587d9cb4c13c51916",
    "isPrintLuxDf": true,
    "isPrintPandasDf": false,
    "isPrintVis": false,
    "isPrintVisCollection": false,
    "order_count": 5,
    "time": "2020-09-30T22:34:37.470Z",
    "type": "completeCodeCell"
   },
   {
    "param": "",
    "time": "2020-09-30T22:34:37.507Z",
    "type": "initWidget"
   },
   {
    "param": "",
    "time": "2020-09-30T22:34:38.037Z",
    "type": "initWidget"
   },
   {
    "code": "df.intent = [\"Acceleration\", \"Horsepower\"]\ndf",
    "id": "7ffbe99fb5764378851ad5e10430c284",
    "order_count": 7,
    "time": "2020-09-30T22:35:14.045Z",
    "type": "selectCodeCell"
   },
   {
    "code": "df.intent = [\"Acceleration\", \"Horsepower\"]\ndf",
    "id": "7ffbe99fb5764378851ad5e10430c284",
    "order_count": 7,
    "time": "2020-09-30T22:35:14.678Z",
    "type": "executeCodeCell"
   },
   {
    "code": "df.exported",
    "id": "333ef87673ce474e8964ceef543804dd",
    "order_count": 8,
    "time": "2020-09-30T22:35:14.699Z",
    "type": "selectCodeCell"
   },
   {
    "code": "df.intent = [\"Acceleration\", \"Horsepower\"]\ndf",
    "id": "7ffbe99fb5764378851ad5e10430c284",
    "isPrintLuxDf": true,
    "isPrintPandasDf": false,
    "isPrintVis": false,
    "isPrintVisCollection": false,
    "order_count": 7,
    "time": "2020-09-30T22:35:15.185Z",
    "type": "completeCodeCell"
   },
   {
    "param": "",
    "time": "2020-09-30T22:35:15.224Z",
    "type": "initWidget"
   },
   {
    "param": "",
    "time": "2020-09-30T22:35:15.955Z",
    "type": "initWidget"
   },
   {
    "code": "df.intent = [\"Acceleration\", \"Horsepower\"]\ndf",
    "id": "7ffbe99fb5764378851ad5e10430c284",
    "order_count": 7,
    "time": "2020-09-30T22:35:21.944Z",
    "type": "selectCodeCell"
   },
   {
    "param": "Filter",
    "time": "2020-09-30T22:35:21.946Z",
    "type": "switchTab"
   },
   {
    "code": "df.intent = [\"Acceleration\", \"Horsepower\"]\ndf",
    "id": "7ffbe99fb5764378851ad5e10430c284",
    "order_count": 7,
    "time": "2020-09-30T22:35:22.058Z",
    "type": "selectCodeCell"
   },
   {
    "param": "Filter",
    "time": "2020-09-30T22:35:22.059Z",
    "type": "switchTab"
   },
   {
    "code": "df.intent = [\"Acceleration\", \"Horsepower\"]\ndf",
    "id": "7ffbe99fb5764378851ad5e10430c284",
    "order_count": 7,
    "time": "2020-09-30T22:35:23.761Z",
    "type": "selectCodeCell"
   },
   {
    "param": "Generalize",
    "time": "2020-09-30T22:35:23.763Z",
    "type": "switchTab"
   },
   {
    "code": "df.intent = [\"Acceleration\", \"Horsepower\"]\ndf",
    "id": "7ffbe99fb5764378851ad5e10430c284",
    "order_count": 7,
    "time": "2020-09-30T22:35:24.640Z",
    "type": "selectCodeCell"
   },
   {
    "param": "Enhance",
    "time": "2020-09-30T22:35:24.642Z",
    "type": "switchTab"
   },
   {
    "param": "Enhance",
    "time": "2020-09-30T22:35:26.169Z",
    "type": "startScroll"
   },
   {
    "param": "Enhance",
    "time": "2020-09-30T22:35:26.346Z",
    "type": "stopScroll"
   },
   {
    "param": "Enhance",
    "time": "2020-09-30T22:35:26.399Z",
    "type": "startScroll"
   },
   {
    "param": "Enhance",
    "time": "2020-09-30T22:35:27.044Z",
    "type": "stopScroll"
   },
   {
    "param": "Enhance",
    "time": "2020-09-30T22:35:27.083Z",
    "type": "startScroll"
   },
   {
    "param": "Enhance",
    "time": "2020-09-30T22:35:27.760Z",
    "type": "stopScroll"
   },
   {
    "param": "Enhance",
    "time": "2020-09-30T22:35:27.815Z",
    "type": "startScroll"
   },
   {
    "param": "Enhance",
    "time": "2020-09-30T22:35:28.344Z",
    "type": "stopScroll"
   },
   {
    "param": "Enhance",
    "time": "2020-09-30T22:35:28.382Z",
    "type": "startScroll"
   },
   {
    "param": "Enhance",
    "time": "2020-09-30T22:35:29.010Z",
    "type": "stopScroll"
   },
   {
    "param": "Enhance",
    "time": "2020-09-30T22:35:29.248Z",
    "type": "startScroll"
   },
   {
    "param": "Enhance",
    "time": "2020-09-30T22:35:29.360Z",
    "type": "stopScroll"
   },
   {
    "param": "Enhance",
    "time": "2020-09-30T22:35:29.898Z",
    "type": "startScroll"
   },
   {
    "param": "Enhance",
    "time": "2020-09-30T22:35:30.026Z",
    "type": "stopScroll"
   },
   {
    "param": "Enhance",
    "time": "2020-09-30T22:35:30.716Z",
    "type": "startScroll"
   },
   {
    "param": "Enhance",
    "time": "2020-09-30T22:35:30.876Z",
    "type": "stopScroll"
   },
   {
    "param": "Enhance",
    "time": "2020-09-30T22:35:31.382Z",
    "type": "startScroll"
   },
   {
    "param": "Enhance",
    "time": "2020-09-30T22:35:32.042Z",
    "type": "stopScroll"
   },
   {
    "param": "Enhance",
    "time": "2020-09-30T22:35:32.082Z",
    "type": "startScroll"
   },
   {
    "param": "Enhance",
    "time": "2020-09-30T22:35:32.709Z",
    "type": "stopScroll"
   },
   {
    "param": "Enhance",
    "time": "2020-09-30T22:35:32.715Z",
    "type": "startScroll"
   },
   {
    "param": "Enhance",
    "time": "2020-09-30T22:35:33.326Z",
    "type": "stopScroll"
   },
   {
    "param": "Enhance",
    "time": "2020-09-30T22:35:33.332Z",
    "type": "startScroll"
   },
   {
    "param": "Enhance",
    "time": "2020-09-30T22:35:33.875Z",
    "type": "stopScroll"
   },
   {
    "param": "Enhance",
    "time": "2020-09-30T22:35:33.898Z",
    "type": "startScroll"
   },
   {
    "param": "Enhance",
    "time": "2020-09-30T22:35:34.475Z",
    "type": "stopScroll"
   },
   {
    "param": "Enhance",
    "time": "2020-09-30T22:35:34.598Z",
    "type": "startScroll"
   },
   {
    "param": "Enhance",
    "time": "2020-09-30T22:35:35.084Z",
    "type": "stopScroll"
   },
   {
    "param": "Enhance",
    "time": "2020-09-30T22:35:35.099Z",
    "type": "startScroll"
   },
   {
    "param": "Enhance",
    "time": "2020-09-30T22:35:35.182Z",
    "type": "stopScroll"
   },
   {
    "param": "Enhance",
    "time": "2020-09-30T22:35:35.398Z",
    "type": "startScroll"
   },
   {
    "param": "Enhance",
    "time": "2020-09-30T22:35:35.476Z",
    "type": "stopScroll"
   },
   {
    "param": "Enhance",
    "time": "2020-09-30T22:35:35.515Z",
    "type": "startScroll"
   },
   {
    "param": "Enhance",
    "time": "2020-09-30T22:35:35.576Z",
    "type": "stopScroll"
   },
   {
    "param": "Enhance",
    "time": "2020-09-30T22:35:35.615Z",
    "type": "startScroll"
   },
   {
    "param": "Enhance",
    "time": "2020-09-30T22:35:35.676Z",
    "type": "stopScroll"
   },
   {
    "param": "Enhance",
    "time": "2020-09-30T22:35:35.751Z",
    "type": "startScroll"
   },
   {
    "param": "Enhance",
    "time": "2020-09-30T22:35:35.812Z",
    "type": "stopScroll"
   },
   {
    "param": "pandas",
    "time": "2020-09-30T22:35:37.080Z",
    "type": "toggleBtnClick"
   },
   {
    "param": "lux",
    "time": "2020-09-30T22:35:38.091Z",
    "type": "toggleBtnClick"
   },
   {
    "param": "",
    "time": "2020-09-30T22:35:38.193Z",
    "type": "initWidget"
   },
   {
    "param": "",
    "time": "2020-09-30T22:35:38.923Z",
    "type": "initWidget"
   },
   {
    "code": "df.intent = [\"Acceleration\", \"Horsepower\"]\ndf",
    "id": "7ffbe99fb5764378851ad5e10430c284",
    "order_count": 7,
    "time": "2020-09-30T22:35:41.577Z",
    "type": "selectCodeCell"
   },
   {
    "param": {
     "index": 0,
     "tabTitle": "Enhance",
     "vis": {
      "$schema": "https://vega.github.io/schema/vega-lite/v4.8.1.json",
      "config": {
       "axis": {
        "labelColor": "#505050",
        "labelFont": "Helvetica Neue",
        "labelFontSize": 9,
        "labelFontWeight": 400,
        "titleFont": "Helvetica Neue",
        "titleFontSize": 11,
        "titleFontWeight": 500
       },
       "legend": {
        "labelFont": "Helvetica Neue",
        "labelFontSize": 9,
        "labelFontWeight": 400,
        "titleFont": "Helvetica Neue",
        "titleFontSize": 10,
        "titleFontWeight": 500
       },
       "mark": {
        "tooltip": {
         "content": "encoding"
        }
       },
       "title": {
        "font": "Helvetica Neue",
        "fontSize": 13,
        "fontWeight": 500
       },
       "view": {
        "continuousHeight": 300,
        "continuousWidth": 400
       }
      },
      "data": {
       "name": "data-9aec80917404170c20d0ca3f5e5ebe79"
      },
      "datasets": {
       "data-9aec80917404170c20d0ca3f5e5ebe79": [
        {
         "Acceleration": 12,
         "Horsepower": 130,
         "Origin": "USA"
        },
        {
         "Acceleration": 11.5,
         "Horsepower": 165,
         "Origin": "USA"
        },
        {
         "Acceleration": 11,
         "Horsepower": 150,
         "Origin": "USA"
        },
        {
         "Acceleration": 12,
         "Horsepower": 150,
         "Origin": "USA"
        },
        {
         "Acceleration": 10.5,
         "Horsepower": 140,
         "Origin": "USA"
        },
        {
         "Acceleration": 10,
         "Horsepower": 198,
         "Origin": "USA"
        },
        {
         "Acceleration": 9,
         "Horsepower": 220,
         "Origin": "USA"
        },
        {
         "Acceleration": 8.5,
         "Horsepower": 215,
         "Origin": "USA"
        },
        {
         "Acceleration": 10,
         "Horsepower": 225,
         "Origin": "USA"
        },
        {
         "Acceleration": 8.5,
         "Horsepower": 190,
         "Origin": "USA"
        },
        {
         "Acceleration": 10,
         "Horsepower": 170,
         "Origin": "USA"
        },
        {
         "Acceleration": 8,
         "Horsepower": 160,
         "Origin": "USA"
        },
        {
         "Acceleration": 9.5,
         "Horsepower": 150,
         "Origin": "USA"
        },
        {
         "Acceleration": 10,
         "Horsepower": 225,
         "Origin": "USA"
        },
        {
         "Acceleration": 15,
         "Horsepower": 95,
         "Origin": "Japan"
        },
        {
         "Acceleration": 15.5,
         "Horsepower": 95,
         "Origin": "USA"
        },
        {
         "Acceleration": 15.5,
         "Horsepower": 97,
         "Origin": "USA"
        },
        {
         "Acceleration": 16,
         "Horsepower": 85,
         "Origin": "USA"
        },
        {
         "Acceleration": 14.5,
         "Horsepower": 88,
         "Origin": "Japan"
        },
        {
         "Acceleration": 20.5,
         "Horsepower": 46,
         "Origin": "Europe"
        },
        {
         "Acceleration": 17.5,
         "Horsepower": 87,
         "Origin": "Europe"
        },
        {
         "Acceleration": 14.5,
         "Horsepower": 90,
         "Origin": "Europe"
        },
        {
         "Acceleration": 17.5,
         "Horsepower": 95,
         "Origin": "Europe"
        },
        {
         "Acceleration": 12.5,
         "Horsepower": 113,
         "Origin": "Europe"
        },
        {
         "Acceleration": 15,
         "Horsepower": 90,
         "Origin": "USA"
        },
        {
         "Acceleration": 14,
         "Horsepower": 215,
         "Origin": "USA"
        },
        {
         "Acceleration": 15,
         "Horsepower": 200,
         "Origin": "USA"
        },
        {
         "Acceleration": 13.5,
         "Horsepower": 210,
         "Origin": "USA"
        },
        {
         "Acceleration": 18.5,
         "Horsepower": 193,
         "Origin": "USA"
        },
        {
         "Acceleration": 14.5,
         "Horsepower": 88,
         "Origin": "Japan"
        },
        {
         "Acceleration": 15.5,
         "Horsepower": 90,
         "Origin": "USA"
        },
        {
         "Acceleration": 14,
         "Horsepower": 95,
         "Origin": "Japan"
        },
        {
         "Acceleration": 13,
         "Horsepower": 100,
         "Origin": "USA"
        },
        {
         "Acceleration": 15.5,
         "Horsepower": 105,
         "Origin": "USA"
        },
        {
         "Acceleration": 15.5,
         "Horsepower": 100,
         "Origin": "USA"
        },
        {
         "Acceleration": 15.5,
         "Horsepower": 88,
         "Origin": "USA"
        },
        {
         "Acceleration": 15.5,
         "Horsepower": 100,
         "Origin": "USA"
        },
        {
         "Acceleration": 12,
         "Horsepower": 165,
         "Origin": "USA"
        },
        {
         "Acceleration": 11.5,
         "Horsepower": 175,
         "Origin": "USA"
        },
        {
         "Acceleration": 13.5,
         "Horsepower": 153,
         "Origin": "USA"
        },
        {
         "Acceleration": 13,
         "Horsepower": 150,
         "Origin": "USA"
        },
        {
         "Acceleration": 11.5,
         "Horsepower": 180,
         "Origin": "USA"
        },
        {
         "Acceleration": 12,
         "Horsepower": 170,
         "Origin": "USA"
        },
        {
         "Acceleration": 12,
         "Horsepower": 175,
         "Origin": "USA"
        },
        {
         "Acceleration": 13.5,
         "Horsepower": 110,
         "Origin": "USA"
        },
        {
         "Acceleration": 19,
         "Horsepower": 72,
         "Origin": "USA"
        },
        {
         "Acceleration": 15,
         "Horsepower": 100,
         "Origin": "USA"
        },
        {
         "Acceleration": 14.5,
         "Horsepower": 88,
         "Origin": "USA"
        },
        {
         "Acceleration": 14,
         "Horsepower": 86,
         "Origin": "USA"
        },
        {
         "Acceleration": 14,
         "Horsepower": 90,
         "Origin": "Europe"
        },
        {
         "Acceleration": 19.5,
         "Horsepower": 70,
         "Origin": "Europe"
        },
        {
         "Acceleration": 14.5,
         "Horsepower": 76,
         "Origin": "Europe"
        },
        {
         "Acceleration": 19,
         "Horsepower": 65,
         "Origin": "Japan"
        },
        {
         "Acceleration": 18,
         "Horsepower": 69,
         "Origin": "Japan"
        },
        {
         "Acceleration": 19,
         "Horsepower": 60,
         "Origin": "Europe"
        },
        {
         "Acceleration": 20.5,
         "Horsepower": 70,
         "Origin": "USA"
        },
        {
         "Acceleration": 15.5,
         "Horsepower": 95,
         "Origin": "Japan"
        },
        {
         "Acceleration": 17,
         "Horsepower": 80,
         "Origin": "USA"
        },
        {
         "Acceleration": 23.5,
         "Horsepower": 54,
         "Origin": "Europe"
        },
        {
         "Acceleration": 19.5,
         "Horsepower": 90,
         "Origin": "USA"
        },
        {
         "Acceleration": 16.5,
         "Horsepower": 86,
         "Origin": "USA"
        },
        {
         "Acceleration": 12,
         "Horsepower": 165,
         "Origin": "USA"
        },
        {
         "Acceleration": 12,
         "Horsepower": 175,
         "Origin": "USA"
        },
        {
         "Acceleration": 13.5,
         "Horsepower": 150,
         "Origin": "USA"
        },
        {
         "Acceleration": 13,
         "Horsepower": 153,
         "Origin": "USA"
        },
        {
         "Acceleration": 11.5,
         "Horsepower": 150,
         "Origin": "USA"
        },
        {
         "Acceleration": 11,
         "Horsepower": 208,
         "Origin": "USA"
        },
        {
         "Acceleration": 13.5,
         "Horsepower": 155,
         "Origin": "USA"
        },
        {
         "Acceleration": 13.5,
         "Horsepower": 160,
         "Origin": "USA"
        },
        {
         "Acceleration": 12.5,
         "Horsepower": 190,
         "Origin": "USA"
        },
        {
         "Acceleration": 13.5,
         "Horsepower": 97,
         "Origin": "Japan"
        },
        {
         "Acceleration": 12.5,
         "Horsepower": 150,
         "Origin": "USA"
        },
        {
         "Acceleration": 14,
         "Horsepower": 130,
         "Origin": "USA"
        },
        {
         "Acceleration": 16,
         "Horsepower": 140,
         "Origin": "USA"
        },
        {
         "Acceleration": 14,
         "Horsepower": 150,
         "Origin": "USA"
        },
        {
         "Acceleration": 14.5,
         "Horsepower": 112,
         "Origin": "Europe"
        },
        {
         "Acceleration": 18,
         "Horsepower": 76,
         "Origin": "Europe"
        },
        {
         "Acceleration": 19.5,
         "Horsepower": 87,
         "Origin": "Europe"
        },
        {
         "Acceleration": 18,
         "Horsepower": 69,
         "Origin": "Europe"
        },
        {
         "Acceleration": 16,
         "Horsepower": 86,
         "Origin": "USA"
        },
        {
         "Acceleration": 17,
         "Horsepower": 92,
         "Origin": "Japan"
        },
        {
         "Acceleration": 14.5,
         "Horsepower": 97,
         "Origin": "Japan"
        },
        {
         "Acceleration": 15,
         "Horsepower": 80,
         "Origin": "USA"
        },
        {
         "Acceleration": 16.5,
         "Horsepower": 88,
         "Origin": "Japan"
        },
        {
         "Acceleration": 13,
         "Horsepower": 175,
         "Origin": "USA"
        },
        {
         "Acceleration": 11.5,
         "Horsepower": 150,
         "Origin": "USA"
        },
        {
         "Acceleration": 13,
         "Horsepower": 145,
         "Origin": "USA"
        },
        {
         "Acceleration": 14.5,
         "Horsepower": 137,
         "Origin": "USA"
        },
        {
         "Acceleration": 12.5,
         "Horsepower": 150,
         "Origin": "USA"
        },
        {
         "Acceleration": 11.5,
         "Horsepower": 198,
         "Origin": "USA"
        },
        {
         "Acceleration": 12,
         "Horsepower": 150,
         "Origin": "USA"
        },
        {
         "Acceleration": 13,
         "Horsepower": 158,
         "Origin": "USA"
        },
        {
         "Acceleration": 14.5,
         "Horsepower": 150,
         "Origin": "USA"
        },
        {
         "Acceleration": 11,
         "Horsepower": 215,
         "Origin": "USA"
        },
        {
         "Acceleration": 11,
         "Horsepower": 225,
         "Origin": "USA"
        },
        {
         "Acceleration": 11,
         "Horsepower": 175,
         "Origin": "USA"
        },
        {
         "Acceleration": 16.5,
         "Horsepower": 105,
         "Origin": "USA"
        },
        {
         "Acceleration": 18,
         "Horsepower": 100,
         "Origin": "USA"
        },
        {
         "Acceleration": 16,
         "Horsepower": 100,
         "Origin": "USA"
        },
        {
         "Acceleration": 16.5,
         "Horsepower": 88,
         "Origin": "USA"
        },
        {
         "Acceleration": 16,
         "Horsepower": 95,
         "Origin": "USA"
        },
        {
         "Acceleration": 21,
         "Horsepower": 46,
         "Origin": "Europe"
        },
        {
         "Acceleration": 14,
         "Horsepower": 150,
         "Origin": "USA"
        },
        {
         "Acceleration": 12.5,
         "Horsepower": 167,
         "Origin": "USA"
        },
        {
         "Acceleration": 13,
         "Horsepower": 170,
         "Origin": "USA"
        },
        {
         "Acceleration": 12.5,
         "Horsepower": 180,
         "Origin": "USA"
        },
        {
         "Acceleration": 15,
         "Horsepower": 100,
         "Origin": "USA"
        },
        {
         "Acceleration": 19,
         "Horsepower": 88,
         "Origin": "Japan"
        },
        {
         "Acceleration": 19.5,
         "Horsepower": 72,
         "Origin": "USA"
        },
        {
         "Acceleration": 16.5,
         "Horsepower": 94,
         "Origin": "Japan"
        },
        {
         "Acceleration": 13.5,
         "Horsepower": 90,
         "Origin": "Japan"
        },
        {
         "Acceleration": 18.5,
         "Horsepower": 85,
         "Origin": "USA"
        },
        {
         "Acceleration": 14,
         "Horsepower": 107,
         "Origin": "USA"
        },
        {
         "Acceleration": 15.5,
         "Horsepower": 90,
         "Origin": "Europe"
        },
        {
         "Acceleration": 13,
         "Horsepower": 145,
         "Origin": "USA"
        },
        {
         "Acceleration": 9.5,
         "Horsepower": 230,
         "Origin": "USA"
        },
        {
         "Acceleration": 19.5,
         "Horsepower": 49,
         "Origin": "Europe"
        },
        {
         "Acceleration": 15.5,
         "Horsepower": 75,
         "Origin": "Europe"
        },
        {
         "Acceleration": 14,
         "Horsepower": 91,
         "Origin": "Europe"
        },
        {
         "Acceleration": 15.5,
         "Horsepower": 112,
         "Origin": "Europe"
        },
        {
         "Acceleration": 11,
         "Horsepower": 150,
         "Origin": "USA"
        },
        {
         "Acceleration": 14,
         "Horsepower": 110,
         "Origin": "Europe"
        },
        {
         "Acceleration": 13.5,
         "Horsepower": 122,
         "Origin": "Japan"
        },
        {
         "Acceleration": 11,
         "Horsepower": 180,
         "Origin": "USA"
        },
        {
         "Acceleration": 16.5,
         "Horsepower": 95,
         "Origin": "USA"
        },
        {
         "Acceleration": 16,
         "Horsepower": 100,
         "Origin": "USA"
        },
        {
         "Acceleration": 17,
         "Horsepower": 100,
         "Origin": "USA"
        },
        {
         "Acceleration": 19,
         "Horsepower": 67,
         "Origin": "Japan"
        },
        {
         "Acceleration": 16.5,
         "Horsepower": 80,
         "Origin": "USA"
        },
        {
         "Acceleration": 21,
         "Horsepower": 65,
         "Origin": "Japan"
        },
        {
         "Acceleration": 17,
         "Horsepower": 75,
         "Origin": "USA"
        },
        {
         "Acceleration": 17,
         "Horsepower": 100,
         "Origin": "USA"
        },
        {
         "Acceleration": 18,
         "Horsepower": 110,
         "Origin": "USA"
        },
        {
         "Acceleration": 16.5,
         "Horsepower": 105,
         "Origin": "USA"
        },
        {
         "Acceleration": 14,
         "Horsepower": 140,
         "Origin": "USA"
        },
        {
         "Acceleration": 14.5,
         "Horsepower": 150,
         "Origin": "USA"
        },
        {
         "Acceleration": 13.5,
         "Horsepower": 150,
         "Origin": "USA"
        },
        {
         "Acceleration": 16,
         "Horsepower": 140,
         "Origin": "USA"
        },
        {
         "Acceleration": 15.5,
         "Horsepower": 150,
         "Origin": "USA"
        },
        {
         "Acceleration": 16.5,
         "Horsepower": 83,
         "Origin": "Europe"
        },
        {
         "Acceleration": 15.5,
         "Horsepower": 67,
         "Origin": "Europe"
        },
        {
         "Acceleration": 14.5,
         "Horsepower": 78,
         "Origin": "Europe"
        },
        {
         "Acceleration": 16.5,
         "Horsepower": 52,
         "Origin": "Japan"
        },
        {
         "Acceleration": 19,
         "Horsepower": 61,
         "Origin": "Japan"
        },
        {
         "Acceleration": 14.5,
         "Horsepower": 75,
         "Origin": "USA"
        },
        {
         "Acceleration": 15.5,
         "Horsepower": 75,
         "Origin": "Europe"
        },
        {
         "Acceleration": 14,
         "Horsepower": 75,
         "Origin": "Europe"
        },
        {
         "Acceleration": 15,
         "Horsepower": 97,
         "Origin": "Japan"
        },
        {
         "Acceleration": 15.5,
         "Horsepower": 93,
         "Origin": "Japan"
        },
        {
         "Acceleration": 16,
         "Horsepower": 67,
         "Origin": "Europe"
        },
        {
         "Acceleration": 16,
         "Horsepower": 95,
         "Origin": "USA"
        },
        {
         "Acceleration": 16,
         "Horsepower": 105,
         "Origin": "USA"
        },
        {
         "Acceleration": 21,
         "Horsepower": 72,
         "Origin": "USA"
        },
        {
         "Acceleration": 19.5,
         "Horsepower": 72,
         "Origin": "USA"
        },
        {
         "Acceleration": 11.5,
         "Horsepower": 170,
         "Origin": "USA"
        },
        {
         "Acceleration": 14,
         "Horsepower": 145,
         "Origin": "USA"
        },
        {
         "Acceleration": 14.5,
         "Horsepower": 150,
         "Origin": "USA"
        },
        {
         "Acceleration": 13.5,
         "Horsepower": 148,
         "Origin": "USA"
        },
        {
         "Acceleration": 21,
         "Horsepower": 110,
         "Origin": "USA"
        },
        {
         "Acceleration": 18.5,
         "Horsepower": 105,
         "Origin": "USA"
        },
        {
         "Acceleration": 19,
         "Horsepower": 110,
         "Origin": "USA"
        },
        {
         "Acceleration": 19,
         "Horsepower": 95,
         "Origin": "USA"
        },
        {
         "Acceleration": 15,
         "Horsepower": 110,
         "Origin": "USA"
        },
        {
         "Acceleration": 13.5,
         "Horsepower": 110,
         "Origin": "USA"
        },
        {
         "Acceleration": 12,
         "Horsepower": 129,
         "Origin": "USA"
        },
        {
         "Acceleration": 16,
         "Horsepower": 75,
         "Origin": "Japan"
        },
        {
         "Acceleration": 17,
         "Horsepower": 83,
         "Origin": "USA"
        },
        {
         "Acceleration": 16,
         "Horsepower": 100,
         "Origin": "USA"
        },
        {
         "Acceleration": 18.5,
         "Horsepower": 78,
         "Origin": "USA"
        },
        {
         "Acceleration": 13.5,
         "Horsepower": 96,
         "Origin": "Japan"
        },
        {
         "Acceleration": 16.5,
         "Horsepower": 71,
         "Origin": "Europe"
        },
        {
         "Acceleration": 17,
         "Horsepower": 97,
         "Origin": "Japan"
        },
        {
         "Acceleration": 14.5,
         "Horsepower": 97,
         "Origin": "USA"
        },
        {
         "Acceleration": 14,
         "Horsepower": 70,
         "Origin": "Europe"
        },
        {
         "Acceleration": 17,
         "Horsepower": 90,
         "Origin": "USA"
        },
        {
         "Acceleration": 15,
         "Horsepower": 95,
         "Origin": "Europe"
        },
        {
         "Acceleration": 17,
         "Horsepower": 88,
         "Origin": "Europe"
        },
        {
         "Acceleration": 14.5,
         "Horsepower": 98,
         "Origin": "Europe"
        },
        {
         "Acceleration": 13.5,
         "Horsepower": 115,
         "Origin": "Europe"
        },
        {
         "Acceleration": 17.5,
         "Horsepower": 53,
         "Origin": "Japan"
        },
        {
         "Acceleration": 15.5,
         "Horsepower": 86,
         "Origin": "Europe"
        },
        {
         "Acceleration": 16.9,
         "Horsepower": 81,
         "Origin": "Europe"
        },
        {
         "Acceleration": 14.9,
         "Horsepower": 92,
         "Origin": "USA"
        },
        {
         "Acceleration": 17.7,
         "Horsepower": 79,
         "Origin": "USA"
        },
        {
         "Acceleration": 15.3,
         "Horsepower": 83,
         "Origin": "Europe"
        },
        {
         "Acceleration": 13,
         "Horsepower": 140,
         "Origin": "USA"
        },
        {
         "Acceleration": 13,
         "Horsepower": 150,
         "Origin": "USA"
        },
        {
         "Acceleration": 13.9,
         "Horsepower": 120,
         "Origin": "USA"
        },
        {
         "Acceleration": 12.8,
         "Horsepower": 152,
         "Origin": "USA"
        },
        {
         "Acceleration": 15.4,
         "Horsepower": 100,
         "Origin": "USA"
        },
        {
         "Acceleration": 14.5,
         "Horsepower": 105,
         "Origin": "USA"
        },
        {
         "Acceleration": 17.6,
         "Horsepower": 81,
         "Origin": "USA"
        },
        {
         "Acceleration": 17.6,
         "Horsepower": 90,
         "Origin": "USA"
        },
        {
         "Acceleration": 22.2,
         "Horsepower": 52,
         "Origin": "USA"
        },
        {
         "Acceleration": 22.1,
         "Horsepower": 60,
         "Origin": "USA"
        },
        {
         "Acceleration": 14.2,
         "Horsepower": 70,
         "Origin": "Europe"
        },
        {
         "Acceleration": 17.4,
         "Horsepower": 53,
         "Origin": "Japan"
        },
        {
         "Acceleration": 17.7,
         "Horsepower": 100,
         "Origin": "USA"
        },
        {
         "Acceleration": 21,
         "Horsepower": 78,
         "Origin": "USA"
        },
        {
         "Acceleration": 16.2,
         "Horsepower": 110,
         "Origin": "USA"
        },
        {
         "Acceleration": 17.8,
         "Horsepower": 95,
         "Origin": "USA"
        },
        {
         "Acceleration": 12.2,
         "Horsepower": 71,
         "Origin": "Europe"
        },
        {
         "Acceleration": 17,
         "Horsepower": 70,
         "Origin": "Japan"
        },
        {
         "Acceleration": 16.4,
         "Horsepower": 75,
         "Origin": "Japan"
        },
        {
         "Acceleration": 13.6,
         "Horsepower": 72,
         "Origin": "USA"
        },
        {
         "Acceleration": 15.7,
         "Horsepower": 102,
         "Origin": "Europe"
        },
        {
         "Acceleration": 13.2,
         "Horsepower": 150,
         "Origin": "USA"
        },
        {
         "Acceleration": 21.9,
         "Horsepower": 88,
         "Origin": "Europe"
        },
        {
         "Acceleration": 15.5,
         "Horsepower": 108,
         "Origin": "Japan"
        },
        {
         "Acceleration": 16.7,
         "Horsepower": 120,
         "Origin": "Europe"
        },
        {
         "Acceleration": 12.1,
         "Horsepower": 180,
         "Origin": "USA"
        },
        {
         "Acceleration": 12,
         "Horsepower": 145,
         "Origin": "USA"
        },
        {
         "Acceleration": 15,
         "Horsepower": 130,
         "Origin": "USA"
        },
        {
         "Acceleration": 14,
         "Horsepower": 150,
         "Origin": "USA"
        },
        {
         "Acceleration": 18.5,
         "Horsepower": 68,
         "Origin": "Japan"
        },
        {
         "Acceleration": 14.8,
         "Horsepower": 80,
         "Origin": "USA"
        },
        {
         "Acceleration": 18.6,
         "Horsepower": 58,
         "Origin": "Europe"
        },
        {
         "Acceleration": 15.5,
         "Horsepower": 96,
         "Origin": "USA"
        },
        {
         "Acceleration": 16.8,
         "Horsepower": 70,
         "Origin": "Japan"
        },
        {
         "Acceleration": 12.5,
         "Horsepower": 145,
         "Origin": "USA"
        },
        {
         "Acceleration": 19,
         "Horsepower": 110,
         "Origin": "USA"
        },
        {
         "Acceleration": 13.7,
         "Horsepower": 145,
         "Origin": "USA"
        },
        {
         "Acceleration": 14.9,
         "Horsepower": 130,
         "Origin": "USA"
        },
        {
         "Acceleration": 16.4,
         "Horsepower": 110,
         "Origin": "USA"
        },
        {
         "Acceleration": 16.9,
         "Horsepower": 105,
         "Origin": "USA"
        },
        {
         "Acceleration": 17.7,
         "Horsepower": 100,
         "Origin": "USA"
        },
        {
         "Acceleration": 19,
         "Horsepower": 98,
         "Origin": "USA"
        },
        {
         "Acceleration": 11.1,
         "Horsepower": 180,
         "Origin": "USA"
        },
        {
         "Acceleration": 11.4,
         "Horsepower": 170,
         "Origin": "USA"
        },
        {
         "Acceleration": 12.2,
         "Horsepower": 190,
         "Origin": "USA"
        },
        {
         "Acceleration": 14.5,
         "Horsepower": 149,
         "Origin": "USA"
        },
        {
         "Acceleration": 14.5,
         "Horsepower": 78,
         "Origin": "Europe"
        },
        {
         "Acceleration": 16,
         "Horsepower": 88,
         "Origin": "USA"
        },
        {
         "Acceleration": 18.2,
         "Horsepower": 75,
         "Origin": "Japan"
        },
        {
         "Acceleration": 15.8,
         "Horsepower": 89,
         "Origin": "USA"
        },
        {
         "Acceleration": 17,
         "Horsepower": 63,
         "Origin": "USA"
        },
        {
         "Acceleration": 15.9,
         "Horsepower": 83,
         "Origin": "USA"
        },
        {
         "Acceleration": 16.4,
         "Horsepower": 67,
         "Origin": "Japan"
        },
        {
         "Acceleration": 14.1,
         "Horsepower": 78,
         "Origin": "Europe"
        },
        {
         "Acceleration": 14.5,
         "Horsepower": 97,
         "Origin": "Japan"
        },
        {
         "Acceleration": 12.8,
         "Horsepower": 110,
         "Origin": "Europe"
        },
        {
         "Acceleration": 13.5,
         "Horsepower": 110,
         "Origin": "Japan"
        },
        {
         "Acceleration": 21.5,
         "Horsepower": 48,
         "Origin": "Europe"
        },
        {
         "Acceleration": 14.4,
         "Horsepower": 66,
         "Origin": "USA"
        },
        {
         "Acceleration": 19.4,
         "Horsepower": 52,
         "Origin": "Japan"
        },
        {
         "Acceleration": 18.6,
         "Horsepower": 70,
         "Origin": "Japan"
        },
        {
         "Acceleration": 16.4,
         "Horsepower": 60,
         "Origin": "Japan"
        },
        {
         "Acceleration": 15.5,
         "Horsepower": 110,
         "Origin": "USA"
        },
        {
         "Acceleration": 13.2,
         "Horsepower": 140,
         "Origin": "USA"
        },
        {
         "Acceleration": 12.8,
         "Horsepower": 139,
         "Origin": "USA"
        },
        {
         "Acceleration": 19.2,
         "Horsepower": 105,
         "Origin": "USA"
        },
        {
         "Acceleration": 18.2,
         "Horsepower": 95,
         "Origin": "USA"
        },
        {
         "Acceleration": 15.8,
         "Horsepower": 85,
         "Origin": "USA"
        },
        {
         "Acceleration": 15.4,
         "Horsepower": 88,
         "Origin": "USA"
        },
        {
         "Acceleration": 17.2,
         "Horsepower": 100,
         "Origin": "USA"
        },
        {
         "Acceleration": 17.2,
         "Horsepower": 90,
         "Origin": "USA"
        },
        {
         "Acceleration": 15.8,
         "Horsepower": 105,
         "Origin": "USA"
        },
        {
         "Acceleration": 16.7,
         "Horsepower": 85,
         "Origin": "USA"
        },
        {
         "Acceleration": 18.7,
         "Horsepower": 110,
         "Origin": "USA"
        },
        {
         "Acceleration": 15.1,
         "Horsepower": 120,
         "Origin": "USA"
        },
        {
         "Acceleration": 13.2,
         "Horsepower": 145,
         "Origin": "USA"
        },
        {
         "Acceleration": 13.4,
         "Horsepower": 165,
         "Origin": "USA"
        },
        {
         "Acceleration": 11.2,
         "Horsepower": 139,
         "Origin": "USA"
        },
        {
         "Acceleration": 13.7,
         "Horsepower": 140,
         "Origin": "USA"
        },
        {
         "Acceleration": 16.5,
         "Horsepower": 68,
         "Origin": "USA"
        },
        {
         "Acceleration": 14.2,
         "Horsepower": 95,
         "Origin": "Japan"
        },
        {
         "Acceleration": 14.7,
         "Horsepower": 97,
         "Origin": "Japan"
        },
        {
         "Acceleration": 14.5,
         "Horsepower": 75,
         "Origin": "USA"
        },
        {
         "Acceleration": 14.8,
         "Horsepower": 95,
         "Origin": "Japan"
        },
        {
         "Acceleration": 16.7,
         "Horsepower": 105,
         "Origin": "USA"
        },
        {
         "Acceleration": 17.6,
         "Horsepower": 85,
         "Origin": "USA"
        },
        {
         "Acceleration": 14.9,
         "Horsepower": 97,
         "Origin": "Japan"
        },
        {
         "Acceleration": 15.9,
         "Horsepower": 103,
         "Origin": "Europe"
        },
        {
         "Acceleration": 13.6,
         "Horsepower": 125,
         "Origin": "Europe"
        },
        {
         "Acceleration": 15.7,
         "Horsepower": 115,
         "Origin": "Europe"
        },
        {
         "Acceleration": 15.8,
         "Horsepower": 133,
         "Origin": "Europe"
        },
        {
         "Acceleration": 14.9,
         "Horsepower": 71,
         "Origin": "Europe"
        },
        {
         "Acceleration": 16.6,
         "Horsepower": 68,
         "Origin": "Japan"
        },
        {
         "Acceleration": 15.4,
         "Horsepower": 115,
         "Origin": "USA"
        },
        {
         "Acceleration": 18.2,
         "Horsepower": 85,
         "Origin": "USA"
        },
        {
         "Acceleration": 17.3,
         "Horsepower": 88,
         "Origin": "USA"
        },
        {
         "Acceleration": 18.2,
         "Horsepower": 90,
         "Origin": "USA"
        },
        {
         "Acceleration": 16.6,
         "Horsepower": 110,
         "Origin": "USA"
        },
        {
         "Acceleration": 15.4,
         "Horsepower": 130,
         "Origin": "USA"
        },
        {
         "Acceleration": 13.4,
         "Horsepower": 129,
         "Origin": "USA"
        },
        {
         "Acceleration": 13.2,
         "Horsepower": 138,
         "Origin": "USA"
        },
        {
         "Acceleration": 15.2,
         "Horsepower": 135,
         "Origin": "USA"
        },
        {
         "Acceleration": 14.9,
         "Horsepower": 155,
         "Origin": "USA"
        },
        {
         "Acceleration": 14.3,
         "Horsepower": 142,
         "Origin": "USA"
        },
        {
         "Acceleration": 15,
         "Horsepower": 125,
         "Origin": "USA"
        },
        {
         "Acceleration": 13,
         "Horsepower": 150,
         "Origin": "USA"
        },
        {
         "Acceleration": 14,
         "Horsepower": 71,
         "Origin": "Europe"
        },
        {
         "Acceleration": 15.2,
         "Horsepower": 65,
         "Origin": "Japan"
        },
        {
         "Acceleration": 14.4,
         "Horsepower": 80,
         "Origin": "USA"
        },
        {
         "Acceleration": 15,
         "Horsepower": 80,
         "Origin": "USA"
        },
        {
         "Acceleration": 20.1,
         "Horsepower": 77,
         "Origin": "Europe"
        },
        {
         "Acceleration": 17.4,
         "Horsepower": 125,
         "Origin": "USA"
        },
        {
         "Acceleration": 24.8,
         "Horsepower": 71,
         "Origin": "Europe"
        },
        {
         "Acceleration": 22.2,
         "Horsepower": 90,
         "Origin": "USA"
        },
        {
         "Acceleration": 13.2,
         "Horsepower": 70,
         "Origin": "USA"
        },
        {
         "Acceleration": 14.9,
         "Horsepower": 70,
         "Origin": "USA"
        },
        {
         "Acceleration": 19.2,
         "Horsepower": 65,
         "Origin": "Japan"
        },
        {
         "Acceleration": 14.7,
         "Horsepower": 69,
         "Origin": "Europe"
        },
        {
         "Acceleration": 16,
         "Horsepower": 90,
         "Origin": "USA"
        },
        {
         "Acceleration": 11.3,
         "Horsepower": 115,
         "Origin": "USA"
        },
        {
         "Acceleration": 12.9,
         "Horsepower": 115,
         "Origin": "USA"
        },
        {
         "Acceleration": 13.2,
         "Horsepower": 90,
         "Origin": "USA"
        },
        {
         "Acceleration": 14.7,
         "Horsepower": 76,
         "Origin": "Europe"
        },
        {
         "Acceleration": 18.8,
         "Horsepower": 60,
         "Origin": "Japan"
        },
        {
         "Acceleration": 15.5,
         "Horsepower": 70,
         "Origin": "USA"
        },
        {
         "Acceleration": 16.4,
         "Horsepower": 65,
         "Origin": "Japan"
        },
        {
         "Acceleration": 16.5,
         "Horsepower": 90,
         "Origin": "USA"
        },
        {
         "Acceleration": 18.1,
         "Horsepower": 88,
         "Origin": "USA"
        },
        {
         "Acceleration": 20.1,
         "Horsepower": 90,
         "Origin": "USA"
        },
        {
         "Acceleration": 18.7,
         "Horsepower": 90,
         "Origin": "USA"
        },
        {
         "Acceleration": 15.8,
         "Horsepower": 78,
         "Origin": "Europe"
        },
        {
         "Acceleration": 15.5,
         "Horsepower": 90,
         "Origin": "Japan"
        },
        {
         "Acceleration": 17.5,
         "Horsepower": 75,
         "Origin": "Japan"
        },
        {
         "Acceleration": 15,
         "Horsepower": 92,
         "Origin": "Japan"
        },
        {
         "Acceleration": 15.2,
         "Horsepower": 75,
         "Origin": "Japan"
        },
        {
         "Acceleration": 17.9,
         "Horsepower": 65,
         "Origin": "Japan"
        },
        {
         "Acceleration": 14.4,
         "Horsepower": 105,
         "Origin": "USA"
        },
        {
         "Acceleration": 19.2,
         "Horsepower": 65,
         "Origin": "Japan"
        },
        {
         "Acceleration": 21.7,
         "Horsepower": 48,
         "Origin": "Europe"
        },
        {
         "Acceleration": 23.7,
         "Horsepower": 48,
         "Origin": "Europe"
        },
        {
         "Acceleration": 19.9,
         "Horsepower": 67,
         "Origin": "Europe"
        },
        {
         "Acceleration": 21.8,
         "Horsepower": 67,
         "Origin": "Europe"
        },
        {
         "Acceleration": 13.8,
         "Horsepower": 67,
         "Origin": "Japan"
        },
        {
         "Acceleration": 18,
         "Horsepower": 67,
         "Origin": "Japan"
        },
        {
         "Acceleration": 15.3,
         "Horsepower": 62,
         "Origin": "Europe"
        },
        {
         "Acceleration": 11.4,
         "Horsepower": 132,
         "Origin": "Japan"
        },
        {
         "Acceleration": 12.5,
         "Horsepower": 100,
         "Origin": "Japan"
        },
        {
         "Acceleration": 15.1,
         "Horsepower": 88,
         "Origin": "Europe"
        },
        {
         "Acceleration": 17,
         "Horsepower": 72,
         "Origin": "Japan"
        },
        {
         "Acceleration": 15.7,
         "Horsepower": 84,
         "Origin": "USA"
        },
        {
         "Acceleration": 16.4,
         "Horsepower": 84,
         "Origin": "USA"
        },
        {
         "Acceleration": 14.4,
         "Horsepower": 92,
         "Origin": "USA"
        },
        {
         "Acceleration": 12.6,
         "Horsepower": 110,
         "Origin": "USA"
        },
        {
         "Acceleration": 12.9,
         "Horsepower": 84,
         "Origin": "USA"
        },
        {
         "Acceleration": 16.9,
         "Horsepower": 58,
         "Origin": "Japan"
        },
        {
         "Acceleration": 16.4,
         "Horsepower": 64,
         "Origin": "USA"
        },
        {
         "Acceleration": 16.1,
         "Horsepower": 60,
         "Origin": "Japan"
        },
        {
         "Acceleration": 17.8,
         "Horsepower": 67,
         "Origin": "Japan"
        },
        {
         "Acceleration": 19.4,
         "Horsepower": 65,
         "Origin": "Japan"
        },
        {
         "Acceleration": 17.3,
         "Horsepower": 62,
         "Origin": "Japan"
        },
        {
         "Acceleration": 16,
         "Horsepower": 68,
         "Origin": "Japan"
        },
        {
         "Acceleration": 14.9,
         "Horsepower": 63,
         "Origin": "USA"
        },
        {
         "Acceleration": 16.2,
         "Horsepower": 65,
         "Origin": "USA"
        },
        {
         "Acceleration": 20.7,
         "Horsepower": 65,
         "Origin": "USA"
        },
        {
         "Acceleration": 14.2,
         "Horsepower": 74,
         "Origin": "Europe"
        },
        {
         "Acceleration": 14.4,
         "Horsepower": 75,
         "Origin": "Japan"
        },
        {
         "Acceleration": 16.8,
         "Horsepower": 75,
         "Origin": "Japan"
        },
        {
         "Acceleration": 14.8,
         "Horsepower": 100,
         "Origin": "Japan"
        },
        {
         "Acceleration": 18.3,
         "Horsepower": 74,
         "Origin": "Japan"
        },
        {
         "Acceleration": 20.4,
         "Horsepower": 80,
         "Origin": "Europe"
        },
        {
         "Acceleration": 19.6,
         "Horsepower": 76,
         "Origin": "Europe"
        },
        {
         "Acceleration": 12.6,
         "Horsepower": 116,
         "Origin": "Japan"
        },
        {
         "Acceleration": 13.8,
         "Horsepower": 120,
         "Origin": "Japan"
        },
        {
         "Acceleration": 15.8,
         "Horsepower": 110,
         "Origin": "USA"
        },
        {
         "Acceleration": 19,
         "Horsepower": 105,
         "Origin": "USA"
        },
        {
         "Acceleration": 17.1,
         "Horsepower": 88,
         "Origin": "USA"
        },
        {
         "Acceleration": 16.6,
         "Horsepower": 85,
         "Origin": "USA"
        },
        {
         "Acceleration": 19.6,
         "Horsepower": 88,
         "Origin": "USA"
        },
        {
         "Acceleration": 18.6,
         "Horsepower": 88,
         "Origin": "USA"
        },
        {
         "Acceleration": 18,
         "Horsepower": 88,
         "Origin": "USA"
        },
        {
         "Acceleration": 16.2,
         "Horsepower": 85,
         "Origin": "USA"
        },
        {
         "Acceleration": 16,
         "Horsepower": 84,
         "Origin": "USA"
        },
        {
         "Acceleration": 18,
         "Horsepower": 90,
         "Origin": "USA"
        },
        {
         "Acceleration": 16.4,
         "Horsepower": 92,
         "Origin": "USA"
        },
        {
         "Acceleration": 15.3,
         "Horsepower": 74,
         "Origin": "Europe"
        },
        {
         "Acceleration": 18.2,
         "Horsepower": 68,
         "Origin": "Japan"
        },
        {
         "Acceleration": 17.6,
         "Horsepower": 68,
         "Origin": "Japan"
        },
        {
         "Acceleration": 14.7,
         "Horsepower": 63,
         "Origin": "USA"
        },
        {
         "Acceleration": 17.3,
         "Horsepower": 70,
         "Origin": "USA"
        },
        {
         "Acceleration": 14.5,
         "Horsepower": 88,
         "Origin": "Japan"
        },
        {
         "Acceleration": 14.5,
         "Horsepower": 75,
         "Origin": "Japan"
        },
        {
         "Acceleration": 16.9,
         "Horsepower": 70,
         "Origin": "Japan"
        },
        {
         "Acceleration": 15,
         "Horsepower": 67,
         "Origin": "Japan"
        },
        {
         "Acceleration": 15.7,
         "Horsepower": 67,
         "Origin": "Japan"
        },
        {
         "Acceleration": 16.2,
         "Horsepower": 67,
         "Origin": "Japan"
        },
        {
         "Acceleration": 16.4,
         "Horsepower": 110,
         "Origin": "USA"
        },
        {
         "Acceleration": 17,
         "Horsepower": 85,
         "Origin": "USA"
        },
        {
         "Acceleration": 14.5,
         "Horsepower": 92,
         "Origin": "USA"
        },
        {
         "Acceleration": 14.7,
         "Horsepower": 112,
         "Origin": "USA"
        },
        {
         "Acceleration": 13.9,
         "Horsepower": 96,
         "Origin": "Japan"
        },
        {
         "Acceleration": 13,
         "Horsepower": 84,
         "Origin": "USA"
        },
        {
         "Acceleration": 17.3,
         "Horsepower": 90,
         "Origin": "USA"
        },
        {
         "Acceleration": 15.6,
         "Horsepower": 86,
         "Origin": "USA"
        },
        {
         "Acceleration": 24.6,
         "Horsepower": 52,
         "Origin": "Europe"
        },
        {
         "Acceleration": 11.6,
         "Horsepower": 84,
         "Origin": "USA"
        },
        {
         "Acceleration": 18.6,
         "Horsepower": 79,
         "Origin": "USA"
        },
        {
         "Acceleration": 19.4,
         "Horsepower": 82,
         "Origin": "USA"
        }
       ]
      },
      "encoding": {
       "color": {
        "field": "Origin",
        "type": "nominal"
       },
       "x": {
        "field": "Acceleration",
        "scale": {
         "domain": [
          8,
          24.8
         ]
        },
        "type": "quantitative"
       },
       "y": {
        "field": "Horsepower",
        "scale": {
         "domain": [
          46,
          230
         ]
        },
        "type": "quantitative"
       }
      },
      "height": 150,
      "mark": "circle",
      "selection": {
       "selector013": {
        "bind": "scales",
        "encodings": [
         "x",
         "y"
        ],
        "type": "interval"
       }
      },
      "width": 160
     }
    },
    "time": "2020-09-30T22:35:41.580Z",
    "type": "clickVis"
   },
   {
    "code": "df.intent = [\"Acceleration\", \"Horsepower\"]\ndf",
    "id": "7ffbe99fb5764378851ad5e10430c284",
    "order_count": 7,
    "time": "2020-09-30T22:35:42.300Z",
    "type": "selectCodeCell"
   },
   {
    "param": {
     "index": 1,
     "tabTitle": "Enhance",
     "vis": {
      "$schema": "https://vega.github.io/schema/vega-lite/v4.8.1.json",
      "config": {
       "axis": {
        "labelColor": "#505050",
        "labelFont": "Helvetica Neue",
        "labelFontSize": 9,
        "labelFontWeight": 400,
        "titleFont": "Helvetica Neue",
        "titleFontSize": 11,
        "titleFontWeight": 500
       },
       "legend": {
        "labelFont": "Helvetica Neue",
        "labelFontSize": 9,
        "labelFontWeight": 400,
        "titleFont": "Helvetica Neue",
        "titleFontSize": 10,
        "titleFontWeight": 500
       },
       "mark": {
        "tooltip": {
         "content": "encoding"
        }
       },
       "title": {
        "font": "Helvetica Neue",
        "fontSize": 13,
        "fontWeight": 500
       },
       "view": {
        "continuousHeight": 300,
        "continuousWidth": 400
       }
      },
      "data": {
       "name": "data-10d3d7d994c50c7610afe16e3efbf635"
      },
      "datasets": {
       "data-10d3d7d994c50c7610afe16e3efbf635": [
        {
         "Acceleration": 12,
         "Cylinders": 8,
         "Horsepower": 130
        },
        {
         "Acceleration": 11.5,
         "Cylinders": 8,
         "Horsepower": 165
        },
        {
         "Acceleration": 11,
         "Cylinders": 8,
         "Horsepower": 150
        },
        {
         "Acceleration": 12,
         "Cylinders": 8,
         "Horsepower": 150
        },
        {
         "Acceleration": 10.5,
         "Cylinders": 8,
         "Horsepower": 140
        },
        {
         "Acceleration": 10,
         "Cylinders": 8,
         "Horsepower": 198
        },
        {
         "Acceleration": 9,
         "Cylinders": 8,
         "Horsepower": 220
        },
        {
         "Acceleration": 8.5,
         "Cylinders": 8,
         "Horsepower": 215
        },
        {
         "Acceleration": 10,
         "Cylinders": 8,
         "Horsepower": 225
        },
        {
         "Acceleration": 8.5,
         "Cylinders": 8,
         "Horsepower": 190
        },
        {
         "Acceleration": 10,
         "Cylinders": 8,
         "Horsepower": 170
        },
        {
         "Acceleration": 8,
         "Cylinders": 8,
         "Horsepower": 160
        },
        {
         "Acceleration": 9.5,
         "Cylinders": 8,
         "Horsepower": 150
        },
        {
         "Acceleration": 10,
         "Cylinders": 8,
         "Horsepower": 225
        },
        {
         "Acceleration": 15,
         "Cylinders": 4,
         "Horsepower": 95
        },
        {
         "Acceleration": 15.5,
         "Cylinders": 6,
         "Horsepower": 95
        },
        {
         "Acceleration": 15.5,
         "Cylinders": 6,
         "Horsepower": 97
        },
        {
         "Acceleration": 16,
         "Cylinders": 6,
         "Horsepower": 85
        },
        {
         "Acceleration": 14.5,
         "Cylinders": 4,
         "Horsepower": 88
        },
        {
         "Acceleration": 20.5,
         "Cylinders": 4,
         "Horsepower": 46
        },
        {
         "Acceleration": 17.5,
         "Cylinders": 4,
         "Horsepower": 87
        },
        {
         "Acceleration": 14.5,
         "Cylinders": 4,
         "Horsepower": 90
        },
        {
         "Acceleration": 17.5,
         "Cylinders": 4,
         "Horsepower": 95
        },
        {
         "Acceleration": 12.5,
         "Cylinders": 4,
         "Horsepower": 113
        },
        {
         "Acceleration": 15,
         "Cylinders": 6,
         "Horsepower": 90
        },
        {
         "Acceleration": 14,
         "Cylinders": 8,
         "Horsepower": 215
        },
        {
         "Acceleration": 15,
         "Cylinders": 8,
         "Horsepower": 200
        },
        {
         "Acceleration": 13.5,
         "Cylinders": 8,
         "Horsepower": 210
        },
        {
         "Acceleration": 18.5,
         "Cylinders": 8,
         "Horsepower": 193
        },
        {
         "Acceleration": 14.5,
         "Cylinders": 4,
         "Horsepower": 88
        },
        {
         "Acceleration": 15.5,
         "Cylinders": 4,
         "Horsepower": 90
        },
        {
         "Acceleration": 14,
         "Cylinders": 4,
         "Horsepower": 95
        },
        {
         "Acceleration": 13,
         "Cylinders": 6,
         "Horsepower": 100
        },
        {
         "Acceleration": 15.5,
         "Cylinders": 6,
         "Horsepower": 105
        },
        {
         "Acceleration": 15.5,
         "Cylinders": 6,
         "Horsepower": 100
        },
        {
         "Acceleration": 15.5,
         "Cylinders": 6,
         "Horsepower": 88
        },
        {
         "Acceleration": 15.5,
         "Cylinders": 6,
         "Horsepower": 100
        },
        {
         "Acceleration": 12,
         "Cylinders": 8,
         "Horsepower": 165
        },
        {
         "Acceleration": 11.5,
         "Cylinders": 8,
         "Horsepower": 175
        },
        {
         "Acceleration": 13.5,
         "Cylinders": 8,
         "Horsepower": 153
        },
        {
         "Acceleration": 13,
         "Cylinders": 8,
         "Horsepower": 150
        },
        {
         "Acceleration": 11.5,
         "Cylinders": 8,
         "Horsepower": 180
        },
        {
         "Acceleration": 12,
         "Cylinders": 8,
         "Horsepower": 170
        },
        {
         "Acceleration": 12,
         "Cylinders": 8,
         "Horsepower": 175
        },
        {
         "Acceleration": 13.5,
         "Cylinders": 6,
         "Horsepower": 110
        },
        {
         "Acceleration": 19,
         "Cylinders": 4,
         "Horsepower": 72
        },
        {
         "Acceleration": 15,
         "Cylinders": 6,
         "Horsepower": 100
        },
        {
         "Acceleration": 14.5,
         "Cylinders": 6,
         "Horsepower": 88
        },
        {
         "Acceleration": 14,
         "Cylinders": 4,
         "Horsepower": 86
        },
        {
         "Acceleration": 14,
         "Cylinders": 4,
         "Horsepower": 90
        },
        {
         "Acceleration": 19.5,
         "Cylinders": 4,
         "Horsepower": 70
        },
        {
         "Acceleration": 14.5,
         "Cylinders": 4,
         "Horsepower": 76
        },
        {
         "Acceleration": 19,
         "Cylinders": 4,
         "Horsepower": 65
        },
        {
         "Acceleration": 18,
         "Cylinders": 4,
         "Horsepower": 69
        },
        {
         "Acceleration": 19,
         "Cylinders": 4,
         "Horsepower": 60
        },
        {
         "Acceleration": 20.5,
         "Cylinders": 4,
         "Horsepower": 70
        },
        {
         "Acceleration": 15.5,
         "Cylinders": 4,
         "Horsepower": 95
        },
        {
         "Acceleration": 17,
         "Cylinders": 4,
         "Horsepower": 80
        },
        {
         "Acceleration": 23.5,
         "Cylinders": 4,
         "Horsepower": 54
        },
        {
         "Acceleration": 19.5,
         "Cylinders": 4,
         "Horsepower": 90
        },
        {
         "Acceleration": 16.5,
         "Cylinders": 4,
         "Horsepower": 86
        },
        {
         "Acceleration": 12,
         "Cylinders": 8,
         "Horsepower": 165
        },
        {
         "Acceleration": 12,
         "Cylinders": 8,
         "Horsepower": 175
        },
        {
         "Acceleration": 13.5,
         "Cylinders": 8,
         "Horsepower": 150
        },
        {
         "Acceleration": 13,
         "Cylinders": 8,
         "Horsepower": 153
        },
        {
         "Acceleration": 11.5,
         "Cylinders": 8,
         "Horsepower": 150
        },
        {
         "Acceleration": 11,
         "Cylinders": 8,
         "Horsepower": 208
        },
        {
         "Acceleration": 13.5,
         "Cylinders": 8,
         "Horsepower": 155
        },
        {
         "Acceleration": 13.5,
         "Cylinders": 8,
         "Horsepower": 160
        },
        {
         "Acceleration": 12.5,
         "Cylinders": 8,
         "Horsepower": 190
        },
        {
         "Acceleration": 13.5,
         "Cylinders": 3,
         "Horsepower": 97
        },
        {
         "Acceleration": 12.5,
         "Cylinders": 8,
         "Horsepower": 150
        },
        {
         "Acceleration": 14,
         "Cylinders": 8,
         "Horsepower": 130
        },
        {
         "Acceleration": 16,
         "Cylinders": 8,
         "Horsepower": 140
        },
        {
         "Acceleration": 14,
         "Cylinders": 8,
         "Horsepower": 150
        },
        {
         "Acceleration": 14.5,
         "Cylinders": 4,
         "Horsepower": 112
        },
        {
         "Acceleration": 18,
         "Cylinders": 4,
         "Horsepower": 76
        },
        {
         "Acceleration": 19.5,
         "Cylinders": 4,
         "Horsepower": 87
        },
        {
         "Acceleration": 18,
         "Cylinders": 4,
         "Horsepower": 69
        },
        {
         "Acceleration": 16,
         "Cylinders": 4,
         "Horsepower": 86
        },
        {
         "Acceleration": 17,
         "Cylinders": 4,
         "Horsepower": 92
        },
        {
         "Acceleration": 14.5,
         "Cylinders": 4,
         "Horsepower": 97
        },
        {
         "Acceleration": 15,
         "Cylinders": 4,
         "Horsepower": 80
        },
        {
         "Acceleration": 16.5,
         "Cylinders": 4,
         "Horsepower": 88
        },
        {
         "Acceleration": 13,
         "Cylinders": 8,
         "Horsepower": 175
        },
        {
         "Acceleration": 11.5,
         "Cylinders": 8,
         "Horsepower": 150
        },
        {
         "Acceleration": 13,
         "Cylinders": 8,
         "Horsepower": 145
        },
        {
         "Acceleration": 14.5,
         "Cylinders": 8,
         "Horsepower": 137
        },
        {
         "Acceleration": 12.5,
         "Cylinders": 8,
         "Horsepower": 150
        },
        {
         "Acceleration": 11.5,
         "Cylinders": 8,
         "Horsepower": 198
        },
        {
         "Acceleration": 12,
         "Cylinders": 8,
         "Horsepower": 150
        },
        {
         "Acceleration": 13,
         "Cylinders": 8,
         "Horsepower": 158
        },
        {
         "Acceleration": 14.5,
         "Cylinders": 8,
         "Horsepower": 150
        },
        {
         "Acceleration": 11,
         "Cylinders": 8,
         "Horsepower": 215
        },
        {
         "Acceleration": 11,
         "Cylinders": 8,
         "Horsepower": 225
        },
        {
         "Acceleration": 11,
         "Cylinders": 8,
         "Horsepower": 175
        },
        {
         "Acceleration": 16.5,
         "Cylinders": 6,
         "Horsepower": 105
        },
        {
         "Acceleration": 18,
         "Cylinders": 6,
         "Horsepower": 100
        },
        {
         "Acceleration": 16,
         "Cylinders": 6,
         "Horsepower": 100
        },
        {
         "Acceleration": 16.5,
         "Cylinders": 6,
         "Horsepower": 88
        },
        {
         "Acceleration": 16,
         "Cylinders": 6,
         "Horsepower": 95
        },
        {
         "Acceleration": 21,
         "Cylinders": 4,
         "Horsepower": 46
        },
        {
         "Acceleration": 14,
         "Cylinders": 8,
         "Horsepower": 150
        },
        {
         "Acceleration": 12.5,
         "Cylinders": 8,
         "Horsepower": 167
        },
        {
         "Acceleration": 13,
         "Cylinders": 8,
         "Horsepower": 170
        },
        {
         "Acceleration": 12.5,
         "Cylinders": 8,
         "Horsepower": 180
        },
        {
         "Acceleration": 15,
         "Cylinders": 6,
         "Horsepower": 100
        },
        {
         "Acceleration": 19,
         "Cylinders": 4,
         "Horsepower": 88
        },
        {
         "Acceleration": 19.5,
         "Cylinders": 4,
         "Horsepower": 72
        },
        {
         "Acceleration": 16.5,
         "Cylinders": 4,
         "Horsepower": 94
        },
        {
         "Acceleration": 13.5,
         "Cylinders": 3,
         "Horsepower": 90
        },
        {
         "Acceleration": 18.5,
         "Cylinders": 4,
         "Horsepower": 85
        },
        {
         "Acceleration": 14,
         "Cylinders": 6,
         "Horsepower": 107
        },
        {
         "Acceleration": 15.5,
         "Cylinders": 4,
         "Horsepower": 90
        },
        {
         "Acceleration": 13,
         "Cylinders": 8,
         "Horsepower": 145
        },
        {
         "Acceleration": 9.5,
         "Cylinders": 8,
         "Horsepower": 230
        },
        {
         "Acceleration": 19.5,
         "Cylinders": 4,
         "Horsepower": 49
        },
        {
         "Acceleration": 15.5,
         "Cylinders": 4,
         "Horsepower": 75
        },
        {
         "Acceleration": 14,
         "Cylinders": 4,
         "Horsepower": 91
        },
        {
         "Acceleration": 15.5,
         "Cylinders": 4,
         "Horsepower": 112
        },
        {
         "Acceleration": 11,
         "Cylinders": 8,
         "Horsepower": 150
        },
        {
         "Acceleration": 14,
         "Cylinders": 4,
         "Horsepower": 110
        },
        {
         "Acceleration": 13.5,
         "Cylinders": 6,
         "Horsepower": 122
        },
        {
         "Acceleration": 11,
         "Cylinders": 8,
         "Horsepower": 180
        },
        {
         "Acceleration": 16.5,
         "Cylinders": 6,
         "Horsepower": 95
        },
        {
         "Acceleration": 16,
         "Cylinders": 6,
         "Horsepower": 100
        },
        {
         "Acceleration": 17,
         "Cylinders": 6,
         "Horsepower": 100
        },
        {
         "Acceleration": 19,
         "Cylinders": 4,
         "Horsepower": 67
        },
        {
         "Acceleration": 16.5,
         "Cylinders": 4,
         "Horsepower": 80
        },
        {
         "Acceleration": 21,
         "Cylinders": 4,
         "Horsepower": 65
        },
        {
         "Acceleration": 17,
         "Cylinders": 4,
         "Horsepower": 75
        },
        {
         "Acceleration": 17,
         "Cylinders": 6,
         "Horsepower": 100
        },
        {
         "Acceleration": 18,
         "Cylinders": 6,
         "Horsepower": 110
        },
        {
         "Acceleration": 16.5,
         "Cylinders": 6,
         "Horsepower": 105
        },
        {
         "Acceleration": 14,
         "Cylinders": 8,
         "Horsepower": 140
        },
        {
         "Acceleration": 14.5,
         "Cylinders": 8,
         "Horsepower": 150
        },
        {
         "Acceleration": 13.5,
         "Cylinders": 8,
         "Horsepower": 150
        },
        {
         "Acceleration": 16,
         "Cylinders": 8,
         "Horsepower": 140
        },
        {
         "Acceleration": 15.5,
         "Cylinders": 8,
         "Horsepower": 150
        },
        {
         "Acceleration": 16.5,
         "Cylinders": 4,
         "Horsepower": 83
        },
        {
         "Acceleration": 15.5,
         "Cylinders": 4,
         "Horsepower": 67
        },
        {
         "Acceleration": 14.5,
         "Cylinders": 4,
         "Horsepower": 78
        },
        {
         "Acceleration": 16.5,
         "Cylinders": 4,
         "Horsepower": 52
        },
        {
         "Acceleration": 19,
         "Cylinders": 4,
         "Horsepower": 61
        },
        {
         "Acceleration": 14.5,
         "Cylinders": 4,
         "Horsepower": 75
        },
        {
         "Acceleration": 15.5,
         "Cylinders": 4,
         "Horsepower": 75
        },
        {
         "Acceleration": 14,
         "Cylinders": 4,
         "Horsepower": 75
        },
        {
         "Acceleration": 15,
         "Cylinders": 4,
         "Horsepower": 97
        },
        {
         "Acceleration": 15.5,
         "Cylinders": 4,
         "Horsepower": 93
        },
        {
         "Acceleration": 16,
         "Cylinders": 4,
         "Horsepower": 67
        },
        {
         "Acceleration": 16,
         "Cylinders": 6,
         "Horsepower": 95
        },
        {
         "Acceleration": 16,
         "Cylinders": 6,
         "Horsepower": 105
        },
        {
         "Acceleration": 21,
         "Cylinders": 6,
         "Horsepower": 72
        },
        {
         "Acceleration": 19.5,
         "Cylinders": 6,
         "Horsepower": 72
        },
        {
         "Acceleration": 11.5,
         "Cylinders": 8,
         "Horsepower": 170
        },
        {
         "Acceleration": 14,
         "Cylinders": 8,
         "Horsepower": 145
        },
        {
         "Acceleration": 14.5,
         "Cylinders": 8,
         "Horsepower": 150
        },
        {
         "Acceleration": 13.5,
         "Cylinders": 8,
         "Horsepower": 148
        },
        {
         "Acceleration": 21,
         "Cylinders": 6,
         "Horsepower": 110
        },
        {
         "Acceleration": 18.5,
         "Cylinders": 6,
         "Horsepower": 105
        },
        {
         "Acceleration": 19,
         "Cylinders": 6,
         "Horsepower": 110
        },
        {
         "Acceleration": 19,
         "Cylinders": 6,
         "Horsepower": 95
        },
        {
         "Acceleration": 15,
         "Cylinders": 6,
         "Horsepower": 110
        },
        {
         "Acceleration": 13.5,
         "Cylinders": 8,
         "Horsepower": 110
        },
        {
         "Acceleration": 12,
         "Cylinders": 8,
         "Horsepower": 129
        },
        {
         "Acceleration": 16,
         "Cylinders": 4,
         "Horsepower": 75
        },
        {
         "Acceleration": 17,
         "Cylinders": 4,
         "Horsepower": 83
        },
        {
         "Acceleration": 16,
         "Cylinders": 6,
         "Horsepower": 100
        },
        {
         "Acceleration": 18.5,
         "Cylinders": 4,
         "Horsepower": 78
        },
        {
         "Acceleration": 13.5,
         "Cylinders": 4,
         "Horsepower": 96
        },
        {
         "Acceleration": 16.5,
         "Cylinders": 4,
         "Horsepower": 71
        },
        {
         "Acceleration": 17,
         "Cylinders": 4,
         "Horsepower": 97
        },
        {
         "Acceleration": 14.5,
         "Cylinders": 6,
         "Horsepower": 97
        },
        {
         "Acceleration": 14,
         "Cylinders": 4,
         "Horsepower": 70
        },
        {
         "Acceleration": 17,
         "Cylinders": 6,
         "Horsepower": 90
        },
        {
         "Acceleration": 15,
         "Cylinders": 4,
         "Horsepower": 95
        },
        {
         "Acceleration": 17,
         "Cylinders": 4,
         "Horsepower": 88
        },
        {
         "Acceleration": 14.5,
         "Cylinders": 4,
         "Horsepower": 98
        },
        {
         "Acceleration": 13.5,
         "Cylinders": 4,
         "Horsepower": 115
        },
        {
         "Acceleration": 17.5,
         "Cylinders": 4,
         "Horsepower": 53
        },
        {
         "Acceleration": 15.5,
         "Cylinders": 4,
         "Horsepower": 86
        },
        {
         "Acceleration": 16.9,
         "Cylinders": 4,
         "Horsepower": 81
        },
        {
         "Acceleration": 14.9,
         "Cylinders": 4,
         "Horsepower": 92
        },
        {
         "Acceleration": 17.7,
         "Cylinders": 4,
         "Horsepower": 79
        },
        {
         "Acceleration": 15.3,
         "Cylinders": 4,
         "Horsepower": 83
        },
        {
         "Acceleration": 13,
         "Cylinders": 8,
         "Horsepower": 140
        },
        {
         "Acceleration": 13,
         "Cylinders": 8,
         "Horsepower": 150
        },
        {
         "Acceleration": 13.9,
         "Cylinders": 8,
         "Horsepower": 120
        },
        {
         "Acceleration": 12.8,
         "Cylinders": 8,
         "Horsepower": 152
        },
        {
         "Acceleration": 15.4,
         "Cylinders": 6,
         "Horsepower": 100
        },
        {
         "Acceleration": 14.5,
         "Cylinders": 6,
         "Horsepower": 105
        },
        {
         "Acceleration": 17.6,
         "Cylinders": 6,
         "Horsepower": 81
        },
        {
         "Acceleration": 17.6,
         "Cylinders": 6,
         "Horsepower": 90
        },
        {
         "Acceleration": 22.2,
         "Cylinders": 4,
         "Horsepower": 52
        },
        {
         "Acceleration": 22.1,
         "Cylinders": 4,
         "Horsepower": 60
        },
        {
         "Acceleration": 14.2,
         "Cylinders": 4,
         "Horsepower": 70
        },
        {
         "Acceleration": 17.4,
         "Cylinders": 4,
         "Horsepower": 53
        },
        {
         "Acceleration": 17.7,
         "Cylinders": 6,
         "Horsepower": 100
        },
        {
         "Acceleration": 21,
         "Cylinders": 6,
         "Horsepower": 78
        },
        {
         "Acceleration": 16.2,
         "Cylinders": 6,
         "Horsepower": 110
        },
        {
         "Acceleration": 17.8,
         "Cylinders": 6,
         "Horsepower": 95
        },
        {
         "Acceleration": 12.2,
         "Cylinders": 4,
         "Horsepower": 71
        },
        {
         "Acceleration": 17,
         "Cylinders": 4,
         "Horsepower": 70
        },
        {
         "Acceleration": 16.4,
         "Cylinders": 4,
         "Horsepower": 75
        },
        {
         "Acceleration": 13.6,
         "Cylinders": 4,
         "Horsepower": 72
        },
        {
         "Acceleration": 15.7,
         "Cylinders": 4,
         "Horsepower": 102
        },
        {
         "Acceleration": 13.2,
         "Cylinders": 8,
         "Horsepower": 150
        },
        {
         "Acceleration": 21.9,
         "Cylinders": 4,
         "Horsepower": 88
        },
        {
         "Acceleration": 15.5,
         "Cylinders": 6,
         "Horsepower": 108
        },
        {
         "Acceleration": 16.7,
         "Cylinders": 6,
         "Horsepower": 120
        },
        {
         "Acceleration": 12.1,
         "Cylinders": 8,
         "Horsepower": 180
        },
        {
         "Acceleration": 12,
         "Cylinders": 8,
         "Horsepower": 145
        },
        {
         "Acceleration": 15,
         "Cylinders": 8,
         "Horsepower": 130
        },
        {
         "Acceleration": 14,
         "Cylinders": 8,
         "Horsepower": 150
        },
        {
         "Acceleration": 18.5,
         "Cylinders": 4,
         "Horsepower": 68
        },
        {
         "Acceleration": 14.8,
         "Cylinders": 4,
         "Horsepower": 80
        },
        {
         "Acceleration": 18.6,
         "Cylinders": 4,
         "Horsepower": 58
        },
        {
         "Acceleration": 15.5,
         "Cylinders": 4,
         "Horsepower": 96
        },
        {
         "Acceleration": 16.8,
         "Cylinders": 4,
         "Horsepower": 70
        },
        {
         "Acceleration": 12.5,
         "Cylinders": 8,
         "Horsepower": 145
        },
        {
         "Acceleration": 19,
         "Cylinders": 8,
         "Horsepower": 110
        },
        {
         "Acceleration": 13.7,
         "Cylinders": 8,
         "Horsepower": 145
        },
        {
         "Acceleration": 14.9,
         "Cylinders": 8,
         "Horsepower": 130
        },
        {
         "Acceleration": 16.4,
         "Cylinders": 6,
         "Horsepower": 110
        },
        {
         "Acceleration": 16.9,
         "Cylinders": 6,
         "Horsepower": 105
        },
        {
         "Acceleration": 17.7,
         "Cylinders": 6,
         "Horsepower": 100
        },
        {
         "Acceleration": 19,
         "Cylinders": 6,
         "Horsepower": 98
        },
        {
         "Acceleration": 11.1,
         "Cylinders": 8,
         "Horsepower": 180
        },
        {
         "Acceleration": 11.4,
         "Cylinders": 8,
         "Horsepower": 170
        },
        {
         "Acceleration": 12.2,
         "Cylinders": 8,
         "Horsepower": 190
        },
        {
         "Acceleration": 14.5,
         "Cylinders": 8,
         "Horsepower": 149
        },
        {
         "Acceleration": 14.5,
         "Cylinders": 4,
         "Horsepower": 78
        },
        {
         "Acceleration": 16,
         "Cylinders": 4,
         "Horsepower": 88
        },
        {
         "Acceleration": 18.2,
         "Cylinders": 4,
         "Horsepower": 75
        },
        {
         "Acceleration": 15.8,
         "Cylinders": 4,
         "Horsepower": 89
        },
        {
         "Acceleration": 17,
         "Cylinders": 4,
         "Horsepower": 63
        },
        {
         "Acceleration": 15.9,
         "Cylinders": 4,
         "Horsepower": 83
        },
        {
         "Acceleration": 16.4,
         "Cylinders": 4,
         "Horsepower": 67
        },
        {
         "Acceleration": 14.1,
         "Cylinders": 4,
         "Horsepower": 78
        },
        {
         "Acceleration": 14.5,
         "Cylinders": 6,
         "Horsepower": 97
        },
        {
         "Acceleration": 12.8,
         "Cylinders": 4,
         "Horsepower": 110
        },
        {
         "Acceleration": 13.5,
         "Cylinders": 3,
         "Horsepower": 110
        },
        {
         "Acceleration": 21.5,
         "Cylinders": 4,
         "Horsepower": 48
        },
        {
         "Acceleration": 14.4,
         "Cylinders": 4,
         "Horsepower": 66
        },
        {
         "Acceleration": 19.4,
         "Cylinders": 4,
         "Horsepower": 52
        },
        {
         "Acceleration": 18.6,
         "Cylinders": 4,
         "Horsepower": 70
        },
        {
         "Acceleration": 16.4,
         "Cylinders": 4,
         "Horsepower": 60
        },
        {
         "Acceleration": 15.5,
         "Cylinders": 8,
         "Horsepower": 110
        },
        {
         "Acceleration": 13.2,
         "Cylinders": 8,
         "Horsepower": 140
        },
        {
         "Acceleration": 12.8,
         "Cylinders": 8,
         "Horsepower": 139
        },
        {
         "Acceleration": 19.2,
         "Cylinders": 6,
         "Horsepower": 105
        },
        {
         "Acceleration": 18.2,
         "Cylinders": 6,
         "Horsepower": 95
        },
        {
         "Acceleration": 15.8,
         "Cylinders": 6,
         "Horsepower": 85
        },
        {
         "Acceleration": 15.4,
         "Cylinders": 4,
         "Horsepower": 88
        },
        {
         "Acceleration": 17.2,
         "Cylinders": 6,
         "Horsepower": 100
        },
        {
         "Acceleration": 17.2,
         "Cylinders": 6,
         "Horsepower": 90
        },
        {
         "Acceleration": 15.8,
         "Cylinders": 6,
         "Horsepower": 105
        },
        {
         "Acceleration": 16.7,
         "Cylinders": 6,
         "Horsepower": 85
        },
        {
         "Acceleration": 18.7,
         "Cylinders": 6,
         "Horsepower": 110
        },
        {
         "Acceleration": 15.1,
         "Cylinders": 6,
         "Horsepower": 120
        },
        {
         "Acceleration": 13.2,
         "Cylinders": 8,
         "Horsepower": 145
        },
        {
         "Acceleration": 13.4,
         "Cylinders": 6,
         "Horsepower": 165
        },
        {
         "Acceleration": 11.2,
         "Cylinders": 8,
         "Horsepower": 139
        },
        {
         "Acceleration": 13.7,
         "Cylinders": 8,
         "Horsepower": 140
        },
        {
         "Acceleration": 16.5,
         "Cylinders": 4,
         "Horsepower": 68
        },
        {
         "Acceleration": 14.2,
         "Cylinders": 4,
         "Horsepower": 95
        },
        {
         "Acceleration": 14.7,
         "Cylinders": 4,
         "Horsepower": 97
        },
        {
         "Acceleration": 14.5,
         "Cylinders": 4,
         "Horsepower": 75
        },
        {
         "Acceleration": 14.8,
         "Cylinders": 4,
         "Horsepower": 95
        },
        {
         "Acceleration": 16.7,
         "Cylinders": 4,
         "Horsepower": 105
        },
        {
         "Acceleration": 17.6,
         "Cylinders": 4,
         "Horsepower": 85
        },
        {
         "Acceleration": 14.9,
         "Cylinders": 4,
         "Horsepower": 97
        },
        {
         "Acceleration": 15.9,
         "Cylinders": 5,
         "Horsepower": 103
        },
        {
         "Acceleration": 13.6,
         "Cylinders": 6,
         "Horsepower": 125
        },
        {
         "Acceleration": 15.7,
         "Cylinders": 4,
         "Horsepower": 115
        },
        {
         "Acceleration": 15.8,
         "Cylinders": 6,
         "Horsepower": 133
        },
        {
         "Acceleration": 14.9,
         "Cylinders": 4,
         "Horsepower": 71
        },
        {
         "Acceleration": 16.6,
         "Cylinders": 4,
         "Horsepower": 68
        },
        {
         "Acceleration": 15.4,
         "Cylinders": 6,
         "Horsepower": 115
        },
        {
         "Acceleration": 18.2,
         "Cylinders": 6,
         "Horsepower": 85
        },
        {
         "Acceleration": 17.3,
         "Cylinders": 4,
         "Horsepower": 88
        },
        {
         "Acceleration": 18.2,
         "Cylinders": 6,
         "Horsepower": 90
        },
        {
         "Acceleration": 16.6,
         "Cylinders": 6,
         "Horsepower": 110
        },
        {
         "Acceleration": 15.4,
         "Cylinders": 8,
         "Horsepower": 130
        },
        {
         "Acceleration": 13.4,
         "Cylinders": 8,
         "Horsepower": 129
        },
        {
         "Acceleration": 13.2,
         "Cylinders": 8,
         "Horsepower": 138
        },
        {
         "Acceleration": 15.2,
         "Cylinders": 8,
         "Horsepower": 135
        },
        {
         "Acceleration": 14.9,
         "Cylinders": 8,
         "Horsepower": 155
        },
        {
         "Acceleration": 14.3,
         "Cylinders": 8,
         "Horsepower": 142
        },
        {
         "Acceleration": 15,
         "Cylinders": 8,
         "Horsepower": 125
        },
        {
         "Acceleration": 13,
         "Cylinders": 8,
         "Horsepower": 150
        },
        {
         "Acceleration": 14,
         "Cylinders": 4,
         "Horsepower": 71
        },
        {
         "Acceleration": 15.2,
         "Cylinders": 4,
         "Horsepower": 65
        },
        {
         "Acceleration": 14.4,
         "Cylinders": 4,
         "Horsepower": 80
        },
        {
         "Acceleration": 15,
         "Cylinders": 4,
         "Horsepower": 80
        },
        {
         "Acceleration": 20.1,
         "Cylinders": 5,
         "Horsepower": 77
        },
        {
         "Acceleration": 17.4,
         "Cylinders": 8,
         "Horsepower": 125
        },
        {
         "Acceleration": 24.8,
         "Cylinders": 4,
         "Horsepower": 71
        },
        {
         "Acceleration": 22.2,
         "Cylinders": 8,
         "Horsepower": 90
        },
        {
         "Acceleration": 13.2,
         "Cylinders": 4,
         "Horsepower": 70
        },
        {
         "Acceleration": 14.9,
         "Cylinders": 4,
         "Horsepower": 70
        },
        {
         "Acceleration": 19.2,
         "Cylinders": 4,
         "Horsepower": 65
        },
        {
         "Acceleration": 14.7,
         "Cylinders": 4,
         "Horsepower": 69
        },
        {
         "Acceleration": 16,
         "Cylinders": 4,
         "Horsepower": 90
        },
        {
         "Acceleration": 11.3,
         "Cylinders": 6,
         "Horsepower": 115
        },
        {
         "Acceleration": 12.9,
         "Cylinders": 6,
         "Horsepower": 115
        },
        {
         "Acceleration": 13.2,
         "Cylinders": 4,
         "Horsepower": 90
        },
        {
         "Acceleration": 14.7,
         "Cylinders": 4,
         "Horsepower": 76
        },
        {
         "Acceleration": 18.8,
         "Cylinders": 4,
         "Horsepower": 60
        },
        {
         "Acceleration": 15.5,
         "Cylinders": 4,
         "Horsepower": 70
        },
        {
         "Acceleration": 16.4,
         "Cylinders": 4,
         "Horsepower": 65
        },
        {
         "Acceleration": 16.5,
         "Cylinders": 4,
         "Horsepower": 90
        },
        {
         "Acceleration": 18.1,
         "Cylinders": 4,
         "Horsepower": 88
        },
        {
         "Acceleration": 20.1,
         "Cylinders": 4,
         "Horsepower": 90
        },
        {
         "Acceleration": 18.7,
         "Cylinders": 6,
         "Horsepower": 90
        },
        {
         "Acceleration": 15.8,
         "Cylinders": 4,
         "Horsepower": 78
        },
        {
         "Acceleration": 15.5,
         "Cylinders": 4,
         "Horsepower": 90
        },
        {
         "Acceleration": 17.5,
         "Cylinders": 4,
         "Horsepower": 75
        },
        {
         "Acceleration": 15,
         "Cylinders": 4,
         "Horsepower": 92
        },
        {
         "Acceleration": 15.2,
         "Cylinders": 4,
         "Horsepower": 75
        },
        {
         "Acceleration": 17.9,
         "Cylinders": 4,
         "Horsepower": 65
        },
        {
         "Acceleration": 14.4,
         "Cylinders": 4,
         "Horsepower": 105
        },
        {
         "Acceleration": 19.2,
         "Cylinders": 4,
         "Horsepower": 65
        },
        {
         "Acceleration": 21.7,
         "Cylinders": 4,
         "Horsepower": 48
        },
        {
         "Acceleration": 23.7,
         "Cylinders": 4,
         "Horsepower": 48
        },
        {
         "Acceleration": 19.9,
         "Cylinders": 5,
         "Horsepower": 67
        },
        {
         "Acceleration": 21.8,
         "Cylinders": 4,
         "Horsepower": 67
        },
        {
         "Acceleration": 13.8,
         "Cylinders": 4,
         "Horsepower": 67
        },
        {
         "Acceleration": 18,
         "Cylinders": 4,
         "Horsepower": 67
        },
        {
         "Acceleration": 15.3,
         "Cylinders": 4,
         "Horsepower": 62
        },
        {
         "Acceleration": 11.4,
         "Cylinders": 6,
         "Horsepower": 132
        },
        {
         "Acceleration": 12.5,
         "Cylinders": 3,
         "Horsepower": 100
        },
        {
         "Acceleration": 15.1,
         "Cylinders": 4,
         "Horsepower": 88
        },
        {
         "Acceleration": 17,
         "Cylinders": 4,
         "Horsepower": 72
        },
        {
         "Acceleration": 15.7,
         "Cylinders": 4,
         "Horsepower": 84
        },
        {
         "Acceleration": 16.4,
         "Cylinders": 4,
         "Horsepower": 84
        },
        {
         "Acceleration": 14.4,
         "Cylinders": 4,
         "Horsepower": 92
        },
        {
         "Acceleration": 12.6,
         "Cylinders": 6,
         "Horsepower": 110
        },
        {
         "Acceleration": 12.9,
         "Cylinders": 4,
         "Horsepower": 84
        },
        {
         "Acceleration": 16.9,
         "Cylinders": 4,
         "Horsepower": 58
        },
        {
         "Acceleration": 16.4,
         "Cylinders": 4,
         "Horsepower": 64
        },
        {
         "Acceleration": 16.1,
         "Cylinders": 4,
         "Horsepower": 60
        },
        {
         "Acceleration": 17.8,
         "Cylinders": 4,
         "Horsepower": 67
        },
        {
         "Acceleration": 19.4,
         "Cylinders": 4,
         "Horsepower": 65
        },
        {
         "Acceleration": 17.3,
         "Cylinders": 4,
         "Horsepower": 62
        },
        {
         "Acceleration": 16,
         "Cylinders": 4,
         "Horsepower": 68
        },
        {
         "Acceleration": 14.9,
         "Cylinders": 4,
         "Horsepower": 63
        },
        {
         "Acceleration": 16.2,
         "Cylinders": 4,
         "Horsepower": 65
        },
        {
         "Acceleration": 20.7,
         "Cylinders": 4,
         "Horsepower": 65
        },
        {
         "Acceleration": 14.2,
         "Cylinders": 4,
         "Horsepower": 74
        },
        {
         "Acceleration": 14.4,
         "Cylinders": 4,
         "Horsepower": 75
        },
        {
         "Acceleration": 16.8,
         "Cylinders": 4,
         "Horsepower": 75
        },
        {
         "Acceleration": 14.8,
         "Cylinders": 4,
         "Horsepower": 100
        },
        {
         "Acceleration": 18.3,
         "Cylinders": 4,
         "Horsepower": 74
        },
        {
         "Acceleration": 20.4,
         "Cylinders": 4,
         "Horsepower": 80
        },
        {
         "Acceleration": 19.6,
         "Cylinders": 6,
         "Horsepower": 76
        },
        {
         "Acceleration": 12.6,
         "Cylinders": 6,
         "Horsepower": 116
        },
        {
         "Acceleration": 13.8,
         "Cylinders": 6,
         "Horsepower": 120
        },
        {
         "Acceleration": 15.8,
         "Cylinders": 6,
         "Horsepower": 110
        },
        {
         "Acceleration": 19,
         "Cylinders": 8,
         "Horsepower": 105
        },
        {
         "Acceleration": 17.1,
         "Cylinders": 6,
         "Horsepower": 88
        },
        {
         "Acceleration": 16.6,
         "Cylinders": 6,
         "Horsepower": 85
        },
        {
         "Acceleration": 19.6,
         "Cylinders": 4,
         "Horsepower": 88
        },
        {
         "Acceleration": 18.6,
         "Cylinders": 4,
         "Horsepower": 88
        },
        {
         "Acceleration": 18,
         "Cylinders": 4,
         "Horsepower": 88
        },
        {
         "Acceleration": 16.2,
         "Cylinders": 4,
         "Horsepower": 85
        },
        {
         "Acceleration": 16,
         "Cylinders": 4,
         "Horsepower": 84
        },
        {
         "Acceleration": 18,
         "Cylinders": 4,
         "Horsepower": 90
        },
        {
         "Acceleration": 16.4,
         "Cylinders": 4,
         "Horsepower": 92
        },
        {
         "Acceleration": 15.3,
         "Cylinders": 4,
         "Horsepower": 74
        },
        {
         "Acceleration": 18.2,
         "Cylinders": 4,
         "Horsepower": 68
        },
        {
         "Acceleration": 17.6,
         "Cylinders": 4,
         "Horsepower": 68
        },
        {
         "Acceleration": 14.7,
         "Cylinders": 4,
         "Horsepower": 63
        },
        {
         "Acceleration": 17.3,
         "Cylinders": 4,
         "Horsepower": 70
        },
        {
         "Acceleration": 14.5,
         "Cylinders": 4,
         "Horsepower": 88
        },
        {
         "Acceleration": 14.5,
         "Cylinders": 4,
         "Horsepower": 75
        },
        {
         "Acceleration": 16.9,
         "Cylinders": 4,
         "Horsepower": 70
        },
        {
         "Acceleration": 15,
         "Cylinders": 4,
         "Horsepower": 67
        },
        {
         "Acceleration": 15.7,
         "Cylinders": 4,
         "Horsepower": 67
        },
        {
         "Acceleration": 16.2,
         "Cylinders": 4,
         "Horsepower": 67
        },
        {
         "Acceleration": 16.4,
         "Cylinders": 6,
         "Horsepower": 110
        },
        {
         "Acceleration": 17,
         "Cylinders": 6,
         "Horsepower": 85
        },
        {
         "Acceleration": 14.5,
         "Cylinders": 4,
         "Horsepower": 92
        },
        {
         "Acceleration": 14.7,
         "Cylinders": 6,
         "Horsepower": 112
        },
        {
         "Acceleration": 13.9,
         "Cylinders": 4,
         "Horsepower": 96
        },
        {
         "Acceleration": 13,
         "Cylinders": 4,
         "Horsepower": 84
        },
        {
         "Acceleration": 17.3,
         "Cylinders": 4,
         "Horsepower": 90
        },
        {
         "Acceleration": 15.6,
         "Cylinders": 4,
         "Horsepower": 86
        },
        {
         "Acceleration": 24.6,
         "Cylinders": 4,
         "Horsepower": 52
        },
        {
         "Acceleration": 11.6,
         "Cylinders": 4,
         "Horsepower": 84
        },
        {
         "Acceleration": 18.6,
         "Cylinders": 4,
         "Horsepower": 79
        },
        {
         "Acceleration": 19.4,
         "Cylinders": 4,
         "Horsepower": 82
        }
       ]
      },
      "encoding": {
       "color": {
        "field": "Cylinders",
        "type": "nominal"
       },
       "x": {
        "field": "Acceleration",
        "scale": {
         "domain": [
          8,
          24.8
         ]
        },
        "type": "quantitative"
       },
       "y": {
        "field": "Horsepower",
        "scale": {
         "domain": [
          46,
          230
         ]
        },
        "type": "quantitative"
       }
      },
      "height": 150,
      "mark": "circle",
      "selection": {
       "selector014": {
        "bind": "scales",
        "encodings": [
         "x",
         "y"
        ],
        "type": "interval"
       }
      },
      "width": 160
     }
    },
    "time": "2020-09-30T22:35:42.302Z",
    "type": "clickVis"
   },
   {
    "code": "df.intent = [\"Acceleration\", \"Horsepower\"]\ndf",
    "id": "7ffbe99fb5764378851ad5e10430c284",
    "order_count": 7,
    "time": "2020-09-30T22:35:46.177Z",
    "type": "selectCodeCell"
   },
   {
    "param": {
     "index": 1,
     "tabTitle": "Enhance",
     "vis": {
      "$schema": "https://vega.github.io/schema/vega-lite/v4.8.1.json",
      "config": {
       "axis": {
        "labelColor": "#505050",
        "labelFont": "Helvetica Neue",
        "labelFontSize": 9,
        "labelFontWeight": 400,
        "titleFont": "Helvetica Neue",
        "titleFontSize": 11,
        "titleFontWeight": 500
       },
       "legend": {
        "labelFont": "Helvetica Neue",
        "labelFontSize": 9,
        "labelFontWeight": 400,
        "titleFont": "Helvetica Neue",
        "titleFontSize": 10,
        "titleFontWeight": 500
       },
       "mark": {
        "tooltip": {
         "content": "encoding"
        }
       },
       "title": {
        "font": "Helvetica Neue",
        "fontSize": 13,
        "fontWeight": 500
       },
       "view": {
        "continuousHeight": 300,
        "continuousWidth": 400
       }
      },
      "data": {
       "name": "data-10d3d7d994c50c7610afe16e3efbf635"
      },
      "datasets": {
       "data-10d3d7d994c50c7610afe16e3efbf635": [
        {
         "Acceleration": 12,
         "Cylinders": 8,
         "Horsepower": 130
        },
        {
         "Acceleration": 11.5,
         "Cylinders": 8,
         "Horsepower": 165
        },
        {
         "Acceleration": 11,
         "Cylinders": 8,
         "Horsepower": 150
        },
        {
         "Acceleration": 12,
         "Cylinders": 8,
         "Horsepower": 150
        },
        {
         "Acceleration": 10.5,
         "Cylinders": 8,
         "Horsepower": 140
        },
        {
         "Acceleration": 10,
         "Cylinders": 8,
         "Horsepower": 198
        },
        {
         "Acceleration": 9,
         "Cylinders": 8,
         "Horsepower": 220
        },
        {
         "Acceleration": 8.5,
         "Cylinders": 8,
         "Horsepower": 215
        },
        {
         "Acceleration": 10,
         "Cylinders": 8,
         "Horsepower": 225
        },
        {
         "Acceleration": 8.5,
         "Cylinders": 8,
         "Horsepower": 190
        },
        {
         "Acceleration": 10,
         "Cylinders": 8,
         "Horsepower": 170
        },
        {
         "Acceleration": 8,
         "Cylinders": 8,
         "Horsepower": 160
        },
        {
         "Acceleration": 9.5,
         "Cylinders": 8,
         "Horsepower": 150
        },
        {
         "Acceleration": 10,
         "Cylinders": 8,
         "Horsepower": 225
        },
        {
         "Acceleration": 15,
         "Cylinders": 4,
         "Horsepower": 95
        },
        {
         "Acceleration": 15.5,
         "Cylinders": 6,
         "Horsepower": 95
        },
        {
         "Acceleration": 15.5,
         "Cylinders": 6,
         "Horsepower": 97
        },
        {
         "Acceleration": 16,
         "Cylinders": 6,
         "Horsepower": 85
        },
        {
         "Acceleration": 14.5,
         "Cylinders": 4,
         "Horsepower": 88
        },
        {
         "Acceleration": 20.5,
         "Cylinders": 4,
         "Horsepower": 46
        },
        {
         "Acceleration": 17.5,
         "Cylinders": 4,
         "Horsepower": 87
        },
        {
         "Acceleration": 14.5,
         "Cylinders": 4,
         "Horsepower": 90
        },
        {
         "Acceleration": 17.5,
         "Cylinders": 4,
         "Horsepower": 95
        },
        {
         "Acceleration": 12.5,
         "Cylinders": 4,
         "Horsepower": 113
        },
        {
         "Acceleration": 15,
         "Cylinders": 6,
         "Horsepower": 90
        },
        {
         "Acceleration": 14,
         "Cylinders": 8,
         "Horsepower": 215
        },
        {
         "Acceleration": 15,
         "Cylinders": 8,
         "Horsepower": 200
        },
        {
         "Acceleration": 13.5,
         "Cylinders": 8,
         "Horsepower": 210
        },
        {
         "Acceleration": 18.5,
         "Cylinders": 8,
         "Horsepower": 193
        },
        {
         "Acceleration": 14.5,
         "Cylinders": 4,
         "Horsepower": 88
        },
        {
         "Acceleration": 15.5,
         "Cylinders": 4,
         "Horsepower": 90
        },
        {
         "Acceleration": 14,
         "Cylinders": 4,
         "Horsepower": 95
        },
        {
         "Acceleration": 13,
         "Cylinders": 6,
         "Horsepower": 100
        },
        {
         "Acceleration": 15.5,
         "Cylinders": 6,
         "Horsepower": 105
        },
        {
         "Acceleration": 15.5,
         "Cylinders": 6,
         "Horsepower": 100
        },
        {
         "Acceleration": 15.5,
         "Cylinders": 6,
         "Horsepower": 88
        },
        {
         "Acceleration": 15.5,
         "Cylinders": 6,
         "Horsepower": 100
        },
        {
         "Acceleration": 12,
         "Cylinders": 8,
         "Horsepower": 165
        },
        {
         "Acceleration": 11.5,
         "Cylinders": 8,
         "Horsepower": 175
        },
        {
         "Acceleration": 13.5,
         "Cylinders": 8,
         "Horsepower": 153
        },
        {
         "Acceleration": 13,
         "Cylinders": 8,
         "Horsepower": 150
        },
        {
         "Acceleration": 11.5,
         "Cylinders": 8,
         "Horsepower": 180
        },
        {
         "Acceleration": 12,
         "Cylinders": 8,
         "Horsepower": 170
        },
        {
         "Acceleration": 12,
         "Cylinders": 8,
         "Horsepower": 175
        },
        {
         "Acceleration": 13.5,
         "Cylinders": 6,
         "Horsepower": 110
        },
        {
         "Acceleration": 19,
         "Cylinders": 4,
         "Horsepower": 72
        },
        {
         "Acceleration": 15,
         "Cylinders": 6,
         "Horsepower": 100
        },
        {
         "Acceleration": 14.5,
         "Cylinders": 6,
         "Horsepower": 88
        },
        {
         "Acceleration": 14,
         "Cylinders": 4,
         "Horsepower": 86
        },
        {
         "Acceleration": 14,
         "Cylinders": 4,
         "Horsepower": 90
        },
        {
         "Acceleration": 19.5,
         "Cylinders": 4,
         "Horsepower": 70
        },
        {
         "Acceleration": 14.5,
         "Cylinders": 4,
         "Horsepower": 76
        },
        {
         "Acceleration": 19,
         "Cylinders": 4,
         "Horsepower": 65
        },
        {
         "Acceleration": 18,
         "Cylinders": 4,
         "Horsepower": 69
        },
        {
         "Acceleration": 19,
         "Cylinders": 4,
         "Horsepower": 60
        },
        {
         "Acceleration": 20.5,
         "Cylinders": 4,
         "Horsepower": 70
        },
        {
         "Acceleration": 15.5,
         "Cylinders": 4,
         "Horsepower": 95
        },
        {
         "Acceleration": 17,
         "Cylinders": 4,
         "Horsepower": 80
        },
        {
         "Acceleration": 23.5,
         "Cylinders": 4,
         "Horsepower": 54
        },
        {
         "Acceleration": 19.5,
         "Cylinders": 4,
         "Horsepower": 90
        },
        {
         "Acceleration": 16.5,
         "Cylinders": 4,
         "Horsepower": 86
        },
        {
         "Acceleration": 12,
         "Cylinders": 8,
         "Horsepower": 165
        },
        {
         "Acceleration": 12,
         "Cylinders": 8,
         "Horsepower": 175
        },
        {
         "Acceleration": 13.5,
         "Cylinders": 8,
         "Horsepower": 150
        },
        {
         "Acceleration": 13,
         "Cylinders": 8,
         "Horsepower": 153
        },
        {
         "Acceleration": 11.5,
         "Cylinders": 8,
         "Horsepower": 150
        },
        {
         "Acceleration": 11,
         "Cylinders": 8,
         "Horsepower": 208
        },
        {
         "Acceleration": 13.5,
         "Cylinders": 8,
         "Horsepower": 155
        },
        {
         "Acceleration": 13.5,
         "Cylinders": 8,
         "Horsepower": 160
        },
        {
         "Acceleration": 12.5,
         "Cylinders": 8,
         "Horsepower": 190
        },
        {
         "Acceleration": 13.5,
         "Cylinders": 3,
         "Horsepower": 97
        },
        {
         "Acceleration": 12.5,
         "Cylinders": 8,
         "Horsepower": 150
        },
        {
         "Acceleration": 14,
         "Cylinders": 8,
         "Horsepower": 130
        },
        {
         "Acceleration": 16,
         "Cylinders": 8,
         "Horsepower": 140
        },
        {
         "Acceleration": 14,
         "Cylinders": 8,
         "Horsepower": 150
        },
        {
         "Acceleration": 14.5,
         "Cylinders": 4,
         "Horsepower": 112
        },
        {
         "Acceleration": 18,
         "Cylinders": 4,
         "Horsepower": 76
        },
        {
         "Acceleration": 19.5,
         "Cylinders": 4,
         "Horsepower": 87
        },
        {
         "Acceleration": 18,
         "Cylinders": 4,
         "Horsepower": 69
        },
        {
         "Acceleration": 16,
         "Cylinders": 4,
         "Horsepower": 86
        },
        {
         "Acceleration": 17,
         "Cylinders": 4,
         "Horsepower": 92
        },
        {
         "Acceleration": 14.5,
         "Cylinders": 4,
         "Horsepower": 97
        },
        {
         "Acceleration": 15,
         "Cylinders": 4,
         "Horsepower": 80
        },
        {
         "Acceleration": 16.5,
         "Cylinders": 4,
         "Horsepower": 88
        },
        {
         "Acceleration": 13,
         "Cylinders": 8,
         "Horsepower": 175
        },
        {
         "Acceleration": 11.5,
         "Cylinders": 8,
         "Horsepower": 150
        },
        {
         "Acceleration": 13,
         "Cylinders": 8,
         "Horsepower": 145
        },
        {
         "Acceleration": 14.5,
         "Cylinders": 8,
         "Horsepower": 137
        },
        {
         "Acceleration": 12.5,
         "Cylinders": 8,
         "Horsepower": 150
        },
        {
         "Acceleration": 11.5,
         "Cylinders": 8,
         "Horsepower": 198
        },
        {
         "Acceleration": 12,
         "Cylinders": 8,
         "Horsepower": 150
        },
        {
         "Acceleration": 13,
         "Cylinders": 8,
         "Horsepower": 158
        },
        {
         "Acceleration": 14.5,
         "Cylinders": 8,
         "Horsepower": 150
        },
        {
         "Acceleration": 11,
         "Cylinders": 8,
         "Horsepower": 215
        },
        {
         "Acceleration": 11,
         "Cylinders": 8,
         "Horsepower": 225
        },
        {
         "Acceleration": 11,
         "Cylinders": 8,
         "Horsepower": 175
        },
        {
         "Acceleration": 16.5,
         "Cylinders": 6,
         "Horsepower": 105
        },
        {
         "Acceleration": 18,
         "Cylinders": 6,
         "Horsepower": 100
        },
        {
         "Acceleration": 16,
         "Cylinders": 6,
         "Horsepower": 100
        },
        {
         "Acceleration": 16.5,
         "Cylinders": 6,
         "Horsepower": 88
        },
        {
         "Acceleration": 16,
         "Cylinders": 6,
         "Horsepower": 95
        },
        {
         "Acceleration": 21,
         "Cylinders": 4,
         "Horsepower": 46
        },
        {
         "Acceleration": 14,
         "Cylinders": 8,
         "Horsepower": 150
        },
        {
         "Acceleration": 12.5,
         "Cylinders": 8,
         "Horsepower": 167
        },
        {
         "Acceleration": 13,
         "Cylinders": 8,
         "Horsepower": 170
        },
        {
         "Acceleration": 12.5,
         "Cylinders": 8,
         "Horsepower": 180
        },
        {
         "Acceleration": 15,
         "Cylinders": 6,
         "Horsepower": 100
        },
        {
         "Acceleration": 19,
         "Cylinders": 4,
         "Horsepower": 88
        },
        {
         "Acceleration": 19.5,
         "Cylinders": 4,
         "Horsepower": 72
        },
        {
         "Acceleration": 16.5,
         "Cylinders": 4,
         "Horsepower": 94
        },
        {
         "Acceleration": 13.5,
         "Cylinders": 3,
         "Horsepower": 90
        },
        {
         "Acceleration": 18.5,
         "Cylinders": 4,
         "Horsepower": 85
        },
        {
         "Acceleration": 14,
         "Cylinders": 6,
         "Horsepower": 107
        },
        {
         "Acceleration": 15.5,
         "Cylinders": 4,
         "Horsepower": 90
        },
        {
         "Acceleration": 13,
         "Cylinders": 8,
         "Horsepower": 145
        },
        {
         "Acceleration": 9.5,
         "Cylinders": 8,
         "Horsepower": 230
        },
        {
         "Acceleration": 19.5,
         "Cylinders": 4,
         "Horsepower": 49
        },
        {
         "Acceleration": 15.5,
         "Cylinders": 4,
         "Horsepower": 75
        },
        {
         "Acceleration": 14,
         "Cylinders": 4,
         "Horsepower": 91
        },
        {
         "Acceleration": 15.5,
         "Cylinders": 4,
         "Horsepower": 112
        },
        {
         "Acceleration": 11,
         "Cylinders": 8,
         "Horsepower": 150
        },
        {
         "Acceleration": 14,
         "Cylinders": 4,
         "Horsepower": 110
        },
        {
         "Acceleration": 13.5,
         "Cylinders": 6,
         "Horsepower": 122
        },
        {
         "Acceleration": 11,
         "Cylinders": 8,
         "Horsepower": 180
        },
        {
         "Acceleration": 16.5,
         "Cylinders": 6,
         "Horsepower": 95
        },
        {
         "Acceleration": 16,
         "Cylinders": 6,
         "Horsepower": 100
        },
        {
         "Acceleration": 17,
         "Cylinders": 6,
         "Horsepower": 100
        },
        {
         "Acceleration": 19,
         "Cylinders": 4,
         "Horsepower": 67
        },
        {
         "Acceleration": 16.5,
         "Cylinders": 4,
         "Horsepower": 80
        },
        {
         "Acceleration": 21,
         "Cylinders": 4,
         "Horsepower": 65
        },
        {
         "Acceleration": 17,
         "Cylinders": 4,
         "Horsepower": 75
        },
        {
         "Acceleration": 17,
         "Cylinders": 6,
         "Horsepower": 100
        },
        {
         "Acceleration": 18,
         "Cylinders": 6,
         "Horsepower": 110
        },
        {
         "Acceleration": 16.5,
         "Cylinders": 6,
         "Horsepower": 105
        },
        {
         "Acceleration": 14,
         "Cylinders": 8,
         "Horsepower": 140
        },
        {
         "Acceleration": 14.5,
         "Cylinders": 8,
         "Horsepower": 150
        },
        {
         "Acceleration": 13.5,
         "Cylinders": 8,
         "Horsepower": 150
        },
        {
         "Acceleration": 16,
         "Cylinders": 8,
         "Horsepower": 140
        },
        {
         "Acceleration": 15.5,
         "Cylinders": 8,
         "Horsepower": 150
        },
        {
         "Acceleration": 16.5,
         "Cylinders": 4,
         "Horsepower": 83
        },
        {
         "Acceleration": 15.5,
         "Cylinders": 4,
         "Horsepower": 67
        },
        {
         "Acceleration": 14.5,
         "Cylinders": 4,
         "Horsepower": 78
        },
        {
         "Acceleration": 16.5,
         "Cylinders": 4,
         "Horsepower": 52
        },
        {
         "Acceleration": 19,
         "Cylinders": 4,
         "Horsepower": 61
        },
        {
         "Acceleration": 14.5,
         "Cylinders": 4,
         "Horsepower": 75
        },
        {
         "Acceleration": 15.5,
         "Cylinders": 4,
         "Horsepower": 75
        },
        {
         "Acceleration": 14,
         "Cylinders": 4,
         "Horsepower": 75
        },
        {
         "Acceleration": 15,
         "Cylinders": 4,
         "Horsepower": 97
        },
        {
         "Acceleration": 15.5,
         "Cylinders": 4,
         "Horsepower": 93
        },
        {
         "Acceleration": 16,
         "Cylinders": 4,
         "Horsepower": 67
        },
        {
         "Acceleration": 16,
         "Cylinders": 6,
         "Horsepower": 95
        },
        {
         "Acceleration": 16,
         "Cylinders": 6,
         "Horsepower": 105
        },
        {
         "Acceleration": 21,
         "Cylinders": 6,
         "Horsepower": 72
        },
        {
         "Acceleration": 19.5,
         "Cylinders": 6,
         "Horsepower": 72
        },
        {
         "Acceleration": 11.5,
         "Cylinders": 8,
         "Horsepower": 170
        },
        {
         "Acceleration": 14,
         "Cylinders": 8,
         "Horsepower": 145
        },
        {
         "Acceleration": 14.5,
         "Cylinders": 8,
         "Horsepower": 150
        },
        {
         "Acceleration": 13.5,
         "Cylinders": 8,
         "Horsepower": 148
        },
        {
         "Acceleration": 21,
         "Cylinders": 6,
         "Horsepower": 110
        },
        {
         "Acceleration": 18.5,
         "Cylinders": 6,
         "Horsepower": 105
        },
        {
         "Acceleration": 19,
         "Cylinders": 6,
         "Horsepower": 110
        },
        {
         "Acceleration": 19,
         "Cylinders": 6,
         "Horsepower": 95
        },
        {
         "Acceleration": 15,
         "Cylinders": 6,
         "Horsepower": 110
        },
        {
         "Acceleration": 13.5,
         "Cylinders": 8,
         "Horsepower": 110
        },
        {
         "Acceleration": 12,
         "Cylinders": 8,
         "Horsepower": 129
        },
        {
         "Acceleration": 16,
         "Cylinders": 4,
         "Horsepower": 75
        },
        {
         "Acceleration": 17,
         "Cylinders": 4,
         "Horsepower": 83
        },
        {
         "Acceleration": 16,
         "Cylinders": 6,
         "Horsepower": 100
        },
        {
         "Acceleration": 18.5,
         "Cylinders": 4,
         "Horsepower": 78
        },
        {
         "Acceleration": 13.5,
         "Cylinders": 4,
         "Horsepower": 96
        },
        {
         "Acceleration": 16.5,
         "Cylinders": 4,
         "Horsepower": 71
        },
        {
         "Acceleration": 17,
         "Cylinders": 4,
         "Horsepower": 97
        },
        {
         "Acceleration": 14.5,
         "Cylinders": 6,
         "Horsepower": 97
        },
        {
         "Acceleration": 14,
         "Cylinders": 4,
         "Horsepower": 70
        },
        {
         "Acceleration": 17,
         "Cylinders": 6,
         "Horsepower": 90
        },
        {
         "Acceleration": 15,
         "Cylinders": 4,
         "Horsepower": 95
        },
        {
         "Acceleration": 17,
         "Cylinders": 4,
         "Horsepower": 88
        },
        {
         "Acceleration": 14.5,
         "Cylinders": 4,
         "Horsepower": 98
        },
        {
         "Acceleration": 13.5,
         "Cylinders": 4,
         "Horsepower": 115
        },
        {
         "Acceleration": 17.5,
         "Cylinders": 4,
         "Horsepower": 53
        },
        {
         "Acceleration": 15.5,
         "Cylinders": 4,
         "Horsepower": 86
        },
        {
         "Acceleration": 16.9,
         "Cylinders": 4,
         "Horsepower": 81
        },
        {
         "Acceleration": 14.9,
         "Cylinders": 4,
         "Horsepower": 92
        },
        {
         "Acceleration": 17.7,
         "Cylinders": 4,
         "Horsepower": 79
        },
        {
         "Acceleration": 15.3,
         "Cylinders": 4,
         "Horsepower": 83
        },
        {
         "Acceleration": 13,
         "Cylinders": 8,
         "Horsepower": 140
        },
        {
         "Acceleration": 13,
         "Cylinders": 8,
         "Horsepower": 150
        },
        {
         "Acceleration": 13.9,
         "Cylinders": 8,
         "Horsepower": 120
        },
        {
         "Acceleration": 12.8,
         "Cylinders": 8,
         "Horsepower": 152
        },
        {
         "Acceleration": 15.4,
         "Cylinders": 6,
         "Horsepower": 100
        },
        {
         "Acceleration": 14.5,
         "Cylinders": 6,
         "Horsepower": 105
        },
        {
         "Acceleration": 17.6,
         "Cylinders": 6,
         "Horsepower": 81
        },
        {
         "Acceleration": 17.6,
         "Cylinders": 6,
         "Horsepower": 90
        },
        {
         "Acceleration": 22.2,
         "Cylinders": 4,
         "Horsepower": 52
        },
        {
         "Acceleration": 22.1,
         "Cylinders": 4,
         "Horsepower": 60
        },
        {
         "Acceleration": 14.2,
         "Cylinders": 4,
         "Horsepower": 70
        },
        {
         "Acceleration": 17.4,
         "Cylinders": 4,
         "Horsepower": 53
        },
        {
         "Acceleration": 17.7,
         "Cylinders": 6,
         "Horsepower": 100
        },
        {
         "Acceleration": 21,
         "Cylinders": 6,
         "Horsepower": 78
        },
        {
         "Acceleration": 16.2,
         "Cylinders": 6,
         "Horsepower": 110
        },
        {
         "Acceleration": 17.8,
         "Cylinders": 6,
         "Horsepower": 95
        },
        {
         "Acceleration": 12.2,
         "Cylinders": 4,
         "Horsepower": 71
        },
        {
         "Acceleration": 17,
         "Cylinders": 4,
         "Horsepower": 70
        },
        {
         "Acceleration": 16.4,
         "Cylinders": 4,
         "Horsepower": 75
        },
        {
         "Acceleration": 13.6,
         "Cylinders": 4,
         "Horsepower": 72
        },
        {
         "Acceleration": 15.7,
         "Cylinders": 4,
         "Horsepower": 102
        },
        {
         "Acceleration": 13.2,
         "Cylinders": 8,
         "Horsepower": 150
        },
        {
         "Acceleration": 21.9,
         "Cylinders": 4,
         "Horsepower": 88
        },
        {
         "Acceleration": 15.5,
         "Cylinders": 6,
         "Horsepower": 108
        },
        {
         "Acceleration": 16.7,
         "Cylinders": 6,
         "Horsepower": 120
        },
        {
         "Acceleration": 12.1,
         "Cylinders": 8,
         "Horsepower": 180
        },
        {
         "Acceleration": 12,
         "Cylinders": 8,
         "Horsepower": 145
        },
        {
         "Acceleration": 15,
         "Cylinders": 8,
         "Horsepower": 130
        },
        {
         "Acceleration": 14,
         "Cylinders": 8,
         "Horsepower": 150
        },
        {
         "Acceleration": 18.5,
         "Cylinders": 4,
         "Horsepower": 68
        },
        {
         "Acceleration": 14.8,
         "Cylinders": 4,
         "Horsepower": 80
        },
        {
         "Acceleration": 18.6,
         "Cylinders": 4,
         "Horsepower": 58
        },
        {
         "Acceleration": 15.5,
         "Cylinders": 4,
         "Horsepower": 96
        },
        {
         "Acceleration": 16.8,
         "Cylinders": 4,
         "Horsepower": 70
        },
        {
         "Acceleration": 12.5,
         "Cylinders": 8,
         "Horsepower": 145
        },
        {
         "Acceleration": 19,
         "Cylinders": 8,
         "Horsepower": 110
        },
        {
         "Acceleration": 13.7,
         "Cylinders": 8,
         "Horsepower": 145
        },
        {
         "Acceleration": 14.9,
         "Cylinders": 8,
         "Horsepower": 130
        },
        {
         "Acceleration": 16.4,
         "Cylinders": 6,
         "Horsepower": 110
        },
        {
         "Acceleration": 16.9,
         "Cylinders": 6,
         "Horsepower": 105
        },
        {
         "Acceleration": 17.7,
         "Cylinders": 6,
         "Horsepower": 100
        },
        {
         "Acceleration": 19,
         "Cylinders": 6,
         "Horsepower": 98
        },
        {
         "Acceleration": 11.1,
         "Cylinders": 8,
         "Horsepower": 180
        },
        {
         "Acceleration": 11.4,
         "Cylinders": 8,
         "Horsepower": 170
        },
        {
         "Acceleration": 12.2,
         "Cylinders": 8,
         "Horsepower": 190
        },
        {
         "Acceleration": 14.5,
         "Cylinders": 8,
         "Horsepower": 149
        },
        {
         "Acceleration": 14.5,
         "Cylinders": 4,
         "Horsepower": 78
        },
        {
         "Acceleration": 16,
         "Cylinders": 4,
         "Horsepower": 88
        },
        {
         "Acceleration": 18.2,
         "Cylinders": 4,
         "Horsepower": 75
        },
        {
         "Acceleration": 15.8,
         "Cylinders": 4,
         "Horsepower": 89
        },
        {
         "Acceleration": 17,
         "Cylinders": 4,
         "Horsepower": 63
        },
        {
         "Acceleration": 15.9,
         "Cylinders": 4,
         "Horsepower": 83
        },
        {
         "Acceleration": 16.4,
         "Cylinders": 4,
         "Horsepower": 67
        },
        {
         "Acceleration": 14.1,
         "Cylinders": 4,
         "Horsepower": 78
        },
        {
         "Acceleration": 14.5,
         "Cylinders": 6,
         "Horsepower": 97
        },
        {
         "Acceleration": 12.8,
         "Cylinders": 4,
         "Horsepower": 110
        },
        {
         "Acceleration": 13.5,
         "Cylinders": 3,
         "Horsepower": 110
        },
        {
         "Acceleration": 21.5,
         "Cylinders": 4,
         "Horsepower": 48
        },
        {
         "Acceleration": 14.4,
         "Cylinders": 4,
         "Horsepower": 66
        },
        {
         "Acceleration": 19.4,
         "Cylinders": 4,
         "Horsepower": 52
        },
        {
         "Acceleration": 18.6,
         "Cylinders": 4,
         "Horsepower": 70
        },
        {
         "Acceleration": 16.4,
         "Cylinders": 4,
         "Horsepower": 60
        },
        {
         "Acceleration": 15.5,
         "Cylinders": 8,
         "Horsepower": 110
        },
        {
         "Acceleration": 13.2,
         "Cylinders": 8,
         "Horsepower": 140
        },
        {
         "Acceleration": 12.8,
         "Cylinders": 8,
         "Horsepower": 139
        },
        {
         "Acceleration": 19.2,
         "Cylinders": 6,
         "Horsepower": 105
        },
        {
         "Acceleration": 18.2,
         "Cylinders": 6,
         "Horsepower": 95
        },
        {
         "Acceleration": 15.8,
         "Cylinders": 6,
         "Horsepower": 85
        },
        {
         "Acceleration": 15.4,
         "Cylinders": 4,
         "Horsepower": 88
        },
        {
         "Acceleration": 17.2,
         "Cylinders": 6,
         "Horsepower": 100
        },
        {
         "Acceleration": 17.2,
         "Cylinders": 6,
         "Horsepower": 90
        },
        {
         "Acceleration": 15.8,
         "Cylinders": 6,
         "Horsepower": 105
        },
        {
         "Acceleration": 16.7,
         "Cylinders": 6,
         "Horsepower": 85
        },
        {
         "Acceleration": 18.7,
         "Cylinders": 6,
         "Horsepower": 110
        },
        {
         "Acceleration": 15.1,
         "Cylinders": 6,
         "Horsepower": 120
        },
        {
         "Acceleration": 13.2,
         "Cylinders": 8,
         "Horsepower": 145
        },
        {
         "Acceleration": 13.4,
         "Cylinders": 6,
         "Horsepower": 165
        },
        {
         "Acceleration": 11.2,
         "Cylinders": 8,
         "Horsepower": 139
        },
        {
         "Acceleration": 13.7,
         "Cylinders": 8,
         "Horsepower": 140
        },
        {
         "Acceleration": 16.5,
         "Cylinders": 4,
         "Horsepower": 68
        },
        {
         "Acceleration": 14.2,
         "Cylinders": 4,
         "Horsepower": 95
        },
        {
         "Acceleration": 14.7,
         "Cylinders": 4,
         "Horsepower": 97
        },
        {
         "Acceleration": 14.5,
         "Cylinders": 4,
         "Horsepower": 75
        },
        {
         "Acceleration": 14.8,
         "Cylinders": 4,
         "Horsepower": 95
        },
        {
         "Acceleration": 16.7,
         "Cylinders": 4,
         "Horsepower": 105
        },
        {
         "Acceleration": 17.6,
         "Cylinders": 4,
         "Horsepower": 85
        },
        {
         "Acceleration": 14.9,
         "Cylinders": 4,
         "Horsepower": 97
        },
        {
         "Acceleration": 15.9,
         "Cylinders": 5,
         "Horsepower": 103
        },
        {
         "Acceleration": 13.6,
         "Cylinders": 6,
         "Horsepower": 125
        },
        {
         "Acceleration": 15.7,
         "Cylinders": 4,
         "Horsepower": 115
        },
        {
         "Acceleration": 15.8,
         "Cylinders": 6,
         "Horsepower": 133
        },
        {
         "Acceleration": 14.9,
         "Cylinders": 4,
         "Horsepower": 71
        },
        {
         "Acceleration": 16.6,
         "Cylinders": 4,
         "Horsepower": 68
        },
        {
         "Acceleration": 15.4,
         "Cylinders": 6,
         "Horsepower": 115
        },
        {
         "Acceleration": 18.2,
         "Cylinders": 6,
         "Horsepower": 85
        },
        {
         "Acceleration": 17.3,
         "Cylinders": 4,
         "Horsepower": 88
        },
        {
         "Acceleration": 18.2,
         "Cylinders": 6,
         "Horsepower": 90
        },
        {
         "Acceleration": 16.6,
         "Cylinders": 6,
         "Horsepower": 110
        },
        {
         "Acceleration": 15.4,
         "Cylinders": 8,
         "Horsepower": 130
        },
        {
         "Acceleration": 13.4,
         "Cylinders": 8,
         "Horsepower": 129
        },
        {
         "Acceleration": 13.2,
         "Cylinders": 8,
         "Horsepower": 138
        },
        {
         "Acceleration": 15.2,
         "Cylinders": 8,
         "Horsepower": 135
        },
        {
         "Acceleration": 14.9,
         "Cylinders": 8,
         "Horsepower": 155
        },
        {
         "Acceleration": 14.3,
         "Cylinders": 8,
         "Horsepower": 142
        },
        {
         "Acceleration": 15,
         "Cylinders": 8,
         "Horsepower": 125
        },
        {
         "Acceleration": 13,
         "Cylinders": 8,
         "Horsepower": 150
        },
        {
         "Acceleration": 14,
         "Cylinders": 4,
         "Horsepower": 71
        },
        {
         "Acceleration": 15.2,
         "Cylinders": 4,
         "Horsepower": 65
        },
        {
         "Acceleration": 14.4,
         "Cylinders": 4,
         "Horsepower": 80
        },
        {
         "Acceleration": 15,
         "Cylinders": 4,
         "Horsepower": 80
        },
        {
         "Acceleration": 20.1,
         "Cylinders": 5,
         "Horsepower": 77
        },
        {
         "Acceleration": 17.4,
         "Cylinders": 8,
         "Horsepower": 125
        },
        {
         "Acceleration": 24.8,
         "Cylinders": 4,
         "Horsepower": 71
        },
        {
         "Acceleration": 22.2,
         "Cylinders": 8,
         "Horsepower": 90
        },
        {
         "Acceleration": 13.2,
         "Cylinders": 4,
         "Horsepower": 70
        },
        {
         "Acceleration": 14.9,
         "Cylinders": 4,
         "Horsepower": 70
        },
        {
         "Acceleration": 19.2,
         "Cylinders": 4,
         "Horsepower": 65
        },
        {
         "Acceleration": 14.7,
         "Cylinders": 4,
         "Horsepower": 69
        },
        {
         "Acceleration": 16,
         "Cylinders": 4,
         "Horsepower": 90
        },
        {
         "Acceleration": 11.3,
         "Cylinders": 6,
         "Horsepower": 115
        },
        {
         "Acceleration": 12.9,
         "Cylinders": 6,
         "Horsepower": 115
        },
        {
         "Acceleration": 13.2,
         "Cylinders": 4,
         "Horsepower": 90
        },
        {
         "Acceleration": 14.7,
         "Cylinders": 4,
         "Horsepower": 76
        },
        {
         "Acceleration": 18.8,
         "Cylinders": 4,
         "Horsepower": 60
        },
        {
         "Acceleration": 15.5,
         "Cylinders": 4,
         "Horsepower": 70
        },
        {
         "Acceleration": 16.4,
         "Cylinders": 4,
         "Horsepower": 65
        },
        {
         "Acceleration": 16.5,
         "Cylinders": 4,
         "Horsepower": 90
        },
        {
         "Acceleration": 18.1,
         "Cylinders": 4,
         "Horsepower": 88
        },
        {
         "Acceleration": 20.1,
         "Cylinders": 4,
         "Horsepower": 90
        },
        {
         "Acceleration": 18.7,
         "Cylinders": 6,
         "Horsepower": 90
        },
        {
         "Acceleration": 15.8,
         "Cylinders": 4,
         "Horsepower": 78
        },
        {
         "Acceleration": 15.5,
         "Cylinders": 4,
         "Horsepower": 90
        },
        {
         "Acceleration": 17.5,
         "Cylinders": 4,
         "Horsepower": 75
        },
        {
         "Acceleration": 15,
         "Cylinders": 4,
         "Horsepower": 92
        },
        {
         "Acceleration": 15.2,
         "Cylinders": 4,
         "Horsepower": 75
        },
        {
         "Acceleration": 17.9,
         "Cylinders": 4,
         "Horsepower": 65
        },
        {
         "Acceleration": 14.4,
         "Cylinders": 4,
         "Horsepower": 105
        },
        {
         "Acceleration": 19.2,
         "Cylinders": 4,
         "Horsepower": 65
        },
        {
         "Acceleration": 21.7,
         "Cylinders": 4,
         "Horsepower": 48
        },
        {
         "Acceleration": 23.7,
         "Cylinders": 4,
         "Horsepower": 48
        },
        {
         "Acceleration": 19.9,
         "Cylinders": 5,
         "Horsepower": 67
        },
        {
         "Acceleration": 21.8,
         "Cylinders": 4,
         "Horsepower": 67
        },
        {
         "Acceleration": 13.8,
         "Cylinders": 4,
         "Horsepower": 67
        },
        {
         "Acceleration": 18,
         "Cylinders": 4,
         "Horsepower": 67
        },
        {
         "Acceleration": 15.3,
         "Cylinders": 4,
         "Horsepower": 62
        },
        {
         "Acceleration": 11.4,
         "Cylinders": 6,
         "Horsepower": 132
        },
        {
         "Acceleration": 12.5,
         "Cylinders": 3,
         "Horsepower": 100
        },
        {
         "Acceleration": 15.1,
         "Cylinders": 4,
         "Horsepower": 88
        },
        {
         "Acceleration": 17,
         "Cylinders": 4,
         "Horsepower": 72
        },
        {
         "Acceleration": 15.7,
         "Cylinders": 4,
         "Horsepower": 84
        },
        {
         "Acceleration": 16.4,
         "Cylinders": 4,
         "Horsepower": 84
        },
        {
         "Acceleration": 14.4,
         "Cylinders": 4,
         "Horsepower": 92
        },
        {
         "Acceleration": 12.6,
         "Cylinders": 6,
         "Horsepower": 110
        },
        {
         "Acceleration": 12.9,
         "Cylinders": 4,
         "Horsepower": 84
        },
        {
         "Acceleration": 16.9,
         "Cylinders": 4,
         "Horsepower": 58
        },
        {
         "Acceleration": 16.4,
         "Cylinders": 4,
         "Horsepower": 64
        },
        {
         "Acceleration": 16.1,
         "Cylinders": 4,
         "Horsepower": 60
        },
        {
         "Acceleration": 17.8,
         "Cylinders": 4,
         "Horsepower": 67
        },
        {
         "Acceleration": 19.4,
         "Cylinders": 4,
         "Horsepower": 65
        },
        {
         "Acceleration": 17.3,
         "Cylinders": 4,
         "Horsepower": 62
        },
        {
         "Acceleration": 16,
         "Cylinders": 4,
         "Horsepower": 68
        },
        {
         "Acceleration": 14.9,
         "Cylinders": 4,
         "Horsepower": 63
        },
        {
         "Acceleration": 16.2,
         "Cylinders": 4,
         "Horsepower": 65
        },
        {
         "Acceleration": 20.7,
         "Cylinders": 4,
         "Horsepower": 65
        },
        {
         "Acceleration": 14.2,
         "Cylinders": 4,
         "Horsepower": 74
        },
        {
         "Acceleration": 14.4,
         "Cylinders": 4,
         "Horsepower": 75
        },
        {
         "Acceleration": 16.8,
         "Cylinders": 4,
         "Horsepower": 75
        },
        {
         "Acceleration": 14.8,
         "Cylinders": 4,
         "Horsepower": 100
        },
        {
         "Acceleration": 18.3,
         "Cylinders": 4,
         "Horsepower": 74
        },
        {
         "Acceleration": 20.4,
         "Cylinders": 4,
         "Horsepower": 80
        },
        {
         "Acceleration": 19.6,
         "Cylinders": 6,
         "Horsepower": 76
        },
        {
         "Acceleration": 12.6,
         "Cylinders": 6,
         "Horsepower": 116
        },
        {
         "Acceleration": 13.8,
         "Cylinders": 6,
         "Horsepower": 120
        },
        {
         "Acceleration": 15.8,
         "Cylinders": 6,
         "Horsepower": 110
        },
        {
         "Acceleration": 19,
         "Cylinders": 8,
         "Horsepower": 105
        },
        {
         "Acceleration": 17.1,
         "Cylinders": 6,
         "Horsepower": 88
        },
        {
         "Acceleration": 16.6,
         "Cylinders": 6,
         "Horsepower": 85
        },
        {
         "Acceleration": 19.6,
         "Cylinders": 4,
         "Horsepower": 88
        },
        {
         "Acceleration": 18.6,
         "Cylinders": 4,
         "Horsepower": 88
        },
        {
         "Acceleration": 18,
         "Cylinders": 4,
         "Horsepower": 88
        },
        {
         "Acceleration": 16.2,
         "Cylinders": 4,
         "Horsepower": 85
        },
        {
         "Acceleration": 16,
         "Cylinders": 4,
         "Horsepower": 84
        },
        {
         "Acceleration": 18,
         "Cylinders": 4,
         "Horsepower": 90
        },
        {
         "Acceleration": 16.4,
         "Cylinders": 4,
         "Horsepower": 92
        },
        {
         "Acceleration": 15.3,
         "Cylinders": 4,
         "Horsepower": 74
        },
        {
         "Acceleration": 18.2,
         "Cylinders": 4,
         "Horsepower": 68
        },
        {
         "Acceleration": 17.6,
         "Cylinders": 4,
         "Horsepower": 68
        },
        {
         "Acceleration": 14.7,
         "Cylinders": 4,
         "Horsepower": 63
        },
        {
         "Acceleration": 17.3,
         "Cylinders": 4,
         "Horsepower": 70
        },
        {
         "Acceleration": 14.5,
         "Cylinders": 4,
         "Horsepower": 88
        },
        {
         "Acceleration": 14.5,
         "Cylinders": 4,
         "Horsepower": 75
        },
        {
         "Acceleration": 16.9,
         "Cylinders": 4,
         "Horsepower": 70
        },
        {
         "Acceleration": 15,
         "Cylinders": 4,
         "Horsepower": 67
        },
        {
         "Acceleration": 15.7,
         "Cylinders": 4,
         "Horsepower": 67
        },
        {
         "Acceleration": 16.2,
         "Cylinders": 4,
         "Horsepower": 67
        },
        {
         "Acceleration": 16.4,
         "Cylinders": 6,
         "Horsepower": 110
        },
        {
         "Acceleration": 17,
         "Cylinders": 6,
         "Horsepower": 85
        },
        {
         "Acceleration": 14.5,
         "Cylinders": 4,
         "Horsepower": 92
        },
        {
         "Acceleration": 14.7,
         "Cylinders": 6,
         "Horsepower": 112
        },
        {
         "Acceleration": 13.9,
         "Cylinders": 4,
         "Horsepower": 96
        },
        {
         "Acceleration": 13,
         "Cylinders": 4,
         "Horsepower": 84
        },
        {
         "Acceleration": 17.3,
         "Cylinders": 4,
         "Horsepower": 90
        },
        {
         "Acceleration": 15.6,
         "Cylinders": 4,
         "Horsepower": 86
        },
        {
         "Acceleration": 24.6,
         "Cylinders": 4,
         "Horsepower": 52
        },
        {
         "Acceleration": 11.6,
         "Cylinders": 4,
         "Horsepower": 84
        },
        {
         "Acceleration": 18.6,
         "Cylinders": 4,
         "Horsepower": 79
        },
        {
         "Acceleration": 19.4,
         "Cylinders": 4,
         "Horsepower": 82
        }
       ]
      },
      "encoding": {
       "color": {
        "field": "Cylinders",
        "type": "nominal"
       },
       "x": {
        "field": "Acceleration",
        "scale": {
         "domain": [
          8,
          24.8
         ]
        },
        "type": "quantitative"
       },
       "y": {
        "field": "Horsepower",
        "scale": {
         "domain": [
          46,
          230
         ]
        },
        "type": "quantitative"
       }
      },
      "height": 150,
      "mark": "circle",
      "selection": {
       "selector014": {
        "bind": "scales",
        "encodings": [
         "x",
         "y"
        ],
        "type": "interval"
       }
      },
      "width": 160
     }
    },
    "time": "2020-09-30T22:35:46.179Z",
    "type": "unclickVis"
   },
   {
    "code": "df.intent = [\"Acceleration\", \"Horsepower\"]\ndf",
    "id": "7ffbe99fb5764378851ad5e10430c284",
    "order_count": 7,
    "time": "2020-09-30T22:35:47.518Z",
    "type": "selectCodeCell"
   },
   {
    "param": {
     "Enhance": [
      0
     ]
    },
    "time": "2020-09-30T22:35:47.520Z",
    "type": "exportBtnClick"
   },
   {
    "code": "df.exported",
    "id": "333ef87673ce474e8964ceef543804dd",
    "order_count": 8,
    "time": "2020-09-30T22:35:49.119Z",
    "type": "selectCodeCell"
   },
   {
    "code": "df.exported",
    "id": "333ef87673ce474e8964ceef543804dd",
    "order_count": 8,
    "time": "2020-09-30T22:35:49.127Z",
    "type": "editCodeCell"
   },
   {
    "code": "df.exported",
    "id": "333ef87673ce474e8964ceef543804dd",
    "order_count": 8,
    "time": "2020-09-30T22:35:51.681Z",
    "type": "executeCodeCell"
   },
   {
    "code": "vis = df.exported[0]\nvis ",
    "id": "00be22f204ff4bfb939255305eadfead",
    "order_count": 9,
    "time": "2020-09-30T22:35:51.705Z",
    "type": "selectCodeCell"
   },
   {
    "code": "df.exported",
    "id": "333ef87673ce474e8964ceef543804dd",
    "isPrintLuxDf": false,
    "isPrintPandasDf": false,
    "isPrintVis": true,
    "isPrintVisCollection": false,
    "order_count": 8,
    "time": "2020-09-30T22:35:51.741Z",
    "type": "completeCodeCell"
   },
   {
    "param": "",
    "time": "2020-09-30T22:35:51.746Z",
    "type": "initWidget"
   },
   {
    "code": "vis = df.exported[0]\nvis ",
    "id": "00be22f204ff4bfb939255305eadfead",
    "order_count": 9,
    "time": "2020-09-30T22:35:52.768Z",
    "type": "executeCodeCell"
   },
   {
    "code": "In the cell above, the Enhance shows that for all the added quantitative variables (shown as gradients of color), except MilesPerGal, the trend for the value is higher on the upper-left end, and value decreases towards the bottom-right.",
    "id": "0573088ae7ff4c1ba125dc4c6f862611",
    "order_count": 10,
    "time": "2020-09-30T22:35:52.777Z",
    "type": "selectMarkdownCell"
   },
   {
    "code": "vis = df.exported[0]\nvis ",
    "id": "00be22f204ff4bfb939255305eadfead",
    "isPrintLuxDf": false,
    "isPrintPandasDf": false,
    "isPrintVis": true,
    "isPrintVisCollection": false,
    "order_count": 9,
    "time": "2020-09-30T22:35:52.822Z",
    "type": "completeCodeCell"
   },
   {
    "param": "",
    "time": "2020-09-30T22:35:52.824Z",
    "type": "initWidget"
   },
   {
    "code": "df.intent=[\"Cylinders\"]\ndf",
    "id": "8de64689c9794b5484991d8758e96825",
    "order_count": 12,
    "time": "2020-09-30T22:36:42.342Z",
    "type": "selectCodeCell"
   },
   {
    "code": "df.intent=[\"Cylinders\"]\ndf",
    "id": "8de64689c9794b5484991d8758e96825",
    "order_count": 12,
    "time": "2020-09-30T22:36:42.358Z",
    "type": "editCodeCell"
   },
   {
    "code": "df.intent=[\"Cylinders\"]\ndf",
    "id": "8de64689c9794b5484991d8758e96825",
    "order_count": 12,
    "time": "2020-09-30T22:36:42.836Z",
    "type": "executeCodeCell"
   },
   {
    "code": "df.exported",
    "id": "f4d06c009df94e128110e304aba2dc37",
    "order_count": 13,
    "time": "2020-09-30T22:36:42.862Z",
    "type": "selectCodeCell"
   },
   {
    "code": "df.intent=[\"Cylinders\"]\ndf",
    "id": "8de64689c9794b5484991d8758e96825",
    "isPrintLuxDf": true,
    "isPrintPandasDf": false,
    "isPrintVis": false,
    "isPrintVisCollection": false,
    "order_count": 12,
    "time": "2020-09-30T22:36:44.144Z",
    "type": "completeCodeCell"
   },
   {
    "param": "",
    "time": "2020-09-30T22:36:44.183Z",
    "type": "initWidget"
   },
   {
    "param": "",
    "time": "2020-09-30T22:36:44.816Z",
    "type": "initWidget"
   },
   {
    "code": "df.intent=[\"Cylinders\"]\ndf",
    "id": "8de64689c9794b5484991d8758e96825",
    "order_count": 12,
    "time": "2020-09-30T22:36:47.642Z",
    "type": "selectCodeCell"
   },
   {
    "param": {
     "index": 1,
     "tabTitle": "Enhance",
     "vis": {
      "$schema": "https://vega.github.io/schema/vega-lite/v4.8.1.json",
      "config": {
       "axis": {
        "labelColor": "#505050",
        "labelFont": "Helvetica Neue",
        "labelFontSize": 9,
        "labelFontWeight": 400,
        "titleFont": "Helvetica Neue",
        "titleFontSize": 11,
        "titleFontWeight": 500
       },
       "legend": {
        "labelFont": "Helvetica Neue",
        "labelFontSize": 9,
        "labelFontWeight": 400,
        "titleFont": "Helvetica Neue",
        "titleFontSize": 10,
        "titleFontWeight": 500
       },
       "mark": {
        "tooltip": {
         "content": "encoding"
        }
       },
       "title": {
        "font": "Helvetica Neue",
        "fontSize": 13,
        "fontWeight": 500
       },
       "view": {
        "continuousHeight": 300,
        "continuousWidth": 400
       }
      },
      "data": {
       "name": "data-80a7948c33144b46da15c1bb922d0938"
      },
      "datasets": {
       "data-80a7948c33144b46da15c1bb922d0938": [
        {
         "Cylinders": 3,
         "Displacement": 72.5
        },
        {
         "Cylinders": 4,
         "Displacement": 109.67085427135679
        },
        {
         "Cylinders": 5,
         "Displacement": 145
        },
        {
         "Cylinders": 6,
         "Displacement": 218.36144578313252
        },
        {
         "Cylinders": 8,
         "Displacement": 345.00970873786406
        }
       ]
      },
      "encoding": {
       "x": {
        "field": "Displacement",
        "title": "Mean of Displacement",
        "type": "quantitative"
       },
       "y": {
        "axis": {
         "labelOverlap": true
        },
        "field": "Cylinders",
        "type": "nominal"
       }
      },
      "height": 150,
      "mark": "bar",
      "width": 160
     }
    },
    "time": "2020-09-30T22:36:47.646Z",
    "type": "clickVis"
   },
   {
    "param": "Enhance",
    "time": "2020-09-30T22:36:48.326Z",
    "type": "startScroll"
   },
   {
    "param": "Enhance",
    "time": "2020-09-30T22:36:48.686Z",
    "type": "stopScroll"
   },
   {
    "param": "Enhance",
    "time": "2020-09-30T22:36:48.706Z",
    "type": "startScroll"
   },
   {
    "param": "Enhance",
    "time": "2020-09-30T22:36:48.985Z",
    "type": "stopScroll"
   },
   {
    "code": "df.intent=[\"Cylinders\"]\ndf",
    "id": "8de64689c9794b5484991d8758e96825",
    "order_count": 12,
    "time": "2020-09-30T22:36:49.500Z",
    "type": "selectCodeCell"
   },
   {
    "param": {
     "index": 3,
     "tabTitle": "Enhance",
     "vis": {
      "$schema": "https://vega.github.io/schema/vega-lite/v4.8.1.json",
      "config": {
       "axis": {
        "labelColor": "#505050",
        "labelFont": "Helvetica Neue",
        "labelFontSize": 9,
        "labelFontWeight": 400,
        "titleFont": "Helvetica Neue",
        "titleFontSize": 11,
        "titleFontWeight": 500
       },
       "legend": {
        "labelFont": "Helvetica Neue",
        "labelFontSize": 9,
        "labelFontWeight": 400,
        "titleFont": "Helvetica Neue",
        "titleFontSize": 10,
        "titleFontWeight": 500
       },
       "mark": {
        "tooltip": {
         "content": "encoding"
        }
       },
       "title": {
        "font": "Helvetica Neue",
        "fontSize": 13,
        "fontWeight": 500
       },
       "view": {
        "continuousHeight": 300,
        "continuousWidth": 400
       }
      },
      "data": {
       "name": "data-395baea4a89fb4932b33c87bb86a127d"
      },
      "datasets": {
       "data-395baea4a89fb4932b33c87bb86a127d": [
        {
         "Cylinders": 3,
         "Horsepower": 99.25
        },
        {
         "Cylinders": 4,
         "Horsepower": 78.28140703517587
        },
        {
         "Cylinders": 5,
         "Horsepower": 82.33333333333333
        },
        {
         "Cylinders": 6,
         "Horsepower": 101.50602409638554
        },
        {
         "Cylinders": 8,
         "Horsepower": 158.3009708737864
        }
       ]
      },
      "encoding": {
       "x": {
        "field": "Horsepower",
        "title": "Mean of Horsepower",
        "type": "quantitative"
       },
       "y": {
        "axis": {
         "labelOverlap": true
        },
        "field": "Cylinders",
        "type": "nominal"
       }
      },
      "height": 150,
      "mark": "bar",
      "width": 160
     }
    },
    "time": "2020-09-30T22:36:49.502Z",
    "type": "clickVis"
   },
   {
    "code": "df.intent=[\"Cylinders\"]\ndf",
    "id": "8de64689c9794b5484991d8758e96825",
    "order_count": 12,
    "time": "2020-09-30T22:36:50.839Z",
    "type": "selectCodeCell"
   },
   {
    "param": {
     "Enhance": [
      1,
      3
     ]
    },
    "time": "2020-09-30T22:36:50.845Z",
    "type": "exportBtnClick"
   },
   {
    "code": "df.exported",
    "id": "f4d06c009df94e128110e304aba2dc37",
    "order_count": 13,
    "time": "2020-09-30T22:36:52.021Z",
    "type": "selectCodeCell"
   },
   {
    "code": "df.exported",
    "id": "f4d06c009df94e128110e304aba2dc37",
    "order_count": 13,
    "time": "2020-09-30T22:36:52.029Z",
    "type": "editCodeCell"
   },
   {
    "code": "df.exported",
    "id": "f4d06c009df94e128110e304aba2dc37",
    "order_count": 13,
    "time": "2020-09-30T22:36:52.689Z",
    "type": "executeCodeCell"
   },
   {
    "code": "",
    "id": "0613a218cdf7465f8ebb58cf81045041",
    "order_count": 14,
    "time": "2020-09-30T22:36:52.710Z",
    "type": "selectCodeCell"
   },
   {
    "code": "df.exported",
    "id": "f4d06c009df94e128110e304aba2dc37",
    "isPrintLuxDf": false,
    "isPrintPandasDf": false,
    "isPrintVis": true,
    "isPrintVisCollection": false,
    "order_count": 13,
    "time": "2020-09-30T22:36:52.743Z",
    "type": "completeCodeCell"
   },
   {
    "param": "",
    "time": "2020-09-30T22:36:52.755Z",
    "type": "initWidget"
   },
   {
    "code": "df.intent=[\"Cylinders\"]\ndf",
    "id": "8de64689c9794b5484991d8758e96825",
    "order_count": 12,
    "time": "2020-09-30T22:37:00.406Z",
    "type": "selectCodeCell"
   },
   {
    "code": "df.intent=[\"Cylinders\"]\ndf",
    "id": "8de64689c9794b5484991d8758e96825",
    "order_count": 12,
    "time": "2020-09-30T22:37:00.423Z",
    "type": "editCodeCell"
   },
   {
    "code": "df.intent=[\"Cylinders\"]\ndf",
    "id": "8de64689c9794b5484991d8758e96825",
    "order_count": 12,
    "time": "2020-09-30T22:37:01.109Z",
    "type": "selectCodeCell"
   },
   {
    "code": "df.intent=[\"Cylinders\"]\ndf",
    "id": "8de64689c9794b5484991d8758e96825",
    "order_count": 12,
    "time": "2020-09-30T22:37:01.246Z",
    "type": "selectCodeCell"
   },
   {
    "code": "df.intent=[\"Origin\"]\ndf",
    "id": "8de64689c9794b5484991d8758e96825",
    "order_count": 12,
    "time": "2020-09-30T22:37:08.077Z",
    "type": "executeCodeCell"
   },
   {
    "code": "df.exported",
    "id": "f4d06c009df94e128110e304aba2dc37",
    "order_count": 13,
    "time": "2020-09-30T22:37:08.102Z",
    "type": "selectCodeCell"
   },
   {
    "code": "df.intent=[\"Origin\"]\ndf",
    "id": "8de64689c9794b5484991d8758e96825",
    "isPrintLuxDf": true,
    "isPrintPandasDf": false,
    "isPrintVis": false,
    "isPrintVisCollection": false,
    "order_count": 12,
    "time": "2020-09-30T22:37:08.832Z",
    "type": "completeCodeCell"
   },
   {
    "param": "",
    "time": "2020-09-30T22:37:08.867Z",
    "type": "initWidget"
   },
   {
    "param": "",
    "time": "2020-09-30T22:37:09.472Z",
    "type": "initWidget"
   },
   {
    "code": "df.intent=[\"Origin\"]\ndf",
    "id": "8de64689c9794b5484991d8758e96825",
    "order_count": 12,
    "time": "2020-09-30T22:37:11.157Z",
    "type": "selectCodeCell"
   },
   {
    "param": {
     "index": 0,
     "tabTitle": "Enhance",
     "vis": {
      "$schema": "https://vega.github.io/schema/vega-lite/v4.8.1.json",
      "config": {
       "axis": {
        "labelColor": "#505050",
        "labelFont": "Helvetica Neue",
        "labelFontSize": 9,
        "labelFontWeight": 400,
        "titleFont": "Helvetica Neue",
        "titleFontSize": 11,
        "titleFontWeight": 500
       },
       "legend": {
        "labelFont": "Helvetica Neue",
        "labelFontSize": 9,
        "labelFontWeight": 400,
        "titleFont": "Helvetica Neue",
        "titleFontSize": 10,
        "titleFontWeight": 500
       },
       "mark": {
        "tooltip": {
         "content": "encoding"
        }
       },
       "title": {
        "font": "Helvetica Neue",
        "fontSize": 13,
        "fontWeight": 500
       },
       "view": {
        "continuousHeight": 300,
        "continuousWidth": 400
       }
      },
      "data": {
       "name": "data-b459fb57984ecb8eda0efb044d6a3e1d"
      },
      "datasets": {
       "data-b459fb57984ecb8eda0efb044d6a3e1d": [
        {
         "Displacement": 109.63235294117646,
         "Origin": "Europe"
        },
        {
         "Displacement": 102.70886075949367,
         "Origin": "Japan"
        },
        {
         "Displacement": 247.5122448979592,
         "Origin": "USA"
        }
       ]
      },
      "encoding": {
       "x": {
        "field": "Displacement",
        "title": "Mean of Displacement",
        "type": "quantitative"
       },
       "y": {
        "axis": {
         "labelOverlap": true
        },
        "field": "Origin",
        "type": "nominal"
       }
      },
      "height": 150,
      "mark": "bar",
      "width": 160
     }
    },
    "time": "2020-09-30T22:37:11.159Z",
    "type": "clickVis"
   },
   {
    "param": "Enhance",
    "time": "2020-09-30T22:37:12.573Z",
    "type": "startScroll"
   },
   {
    "param": "Enhance",
    "time": "2020-09-30T22:37:13.399Z",
    "type": "stopScroll"
   },
   {
    "param": "Enhance",
    "time": "2020-09-30T22:37:13.421Z",
    "type": "startScroll"
   },
   {
    "param": "Enhance",
    "time": "2020-09-30T22:37:13.682Z",
    "type": "stopScroll"
   },
   {
    "code": "df.intent=[\"Origin\"]\ndf",
    "id": "8de64689c9794b5484991d8758e96825",
    "order_count": 12,
    "time": "2020-09-30T22:37:14.255Z",
    "type": "selectCodeCell"
   },
   {
    "param": {
     "index": 3,
     "tabTitle": "Enhance",
     "vis": {
      "$schema": "https://vega.github.io/schema/vega-lite/v4.8.1.json",
      "config": {
       "axis": {
        "labelColor": "#505050",
        "labelFont": "Helvetica Neue",
        "labelFontSize": 9,
        "labelFontWeight": 400,
        "titleFont": "Helvetica Neue",
        "titleFontSize": 11,
        "titleFontWeight": 500
       },
       "legend": {
        "labelFont": "Helvetica Neue",
        "labelFontSize": 9,
        "labelFontWeight": 400,
        "titleFont": "Helvetica Neue",
        "titleFontSize": 10,
        "titleFontWeight": 500
       },
       "mark": {
        "tooltip": {
         "content": "encoding"
        }
       },
       "title": {
        "font": "Helvetica Neue",
        "fontSize": 13,
        "fontWeight": 500
       },
       "view": {
        "continuousHeight": 300,
        "continuousWidth": 400
       }
      },
      "data": {
       "name": "data-ee61eee8792063fcabb1261d18a0479e"
      },
      "datasets": {
       "data-ee61eee8792063fcabb1261d18a0479e": [
        {
         "Horsepower": 80.55882352941177,
         "Origin": "Europe"
        },
        {
         "Horsepower": 79.83544303797468,
         "Origin": "Japan"
        },
        {
         "Horsepower": 119.04897959183674,
         "Origin": "USA"
        }
       ]
      },
      "encoding": {
       "x": {
        "field": "Horsepower",
        "title": "Mean of Horsepower",
        "type": "quantitative"
       },
       "y": {
        "axis": {
         "labelOverlap": true
        },
        "field": "Origin",
        "type": "nominal"
       }
      },
      "height": 150,
      "mark": "bar",
      "width": 160
     }
    },
    "time": "2020-09-30T22:37:14.257Z",
    "type": "clickVis"
   },
   {
    "code": "df.intent=[\"Origin\"]\ndf",
    "id": "8de64689c9794b5484991d8758e96825",
    "order_count": 12,
    "time": "2020-09-30T22:37:16.641Z",
    "type": "selectCodeCell"
   },
   {
    "param": {
     "Enhance": [
      0,
      3
     ]
    },
    "time": "2020-09-30T22:37:16.644Z",
    "type": "exportBtnClick"
   },
   {
    "code": "df.exported",
    "id": "f4d06c009df94e128110e304aba2dc37",
    "order_count": 13,
    "time": "2020-09-30T22:37:18.751Z",
    "type": "selectCodeCell"
   },
   {
    "code": "df.exported",
    "id": "f4d06c009df94e128110e304aba2dc37",
    "order_count": 13,
    "time": "2020-09-30T22:37:18.760Z",
    "type": "editCodeCell"
   },
   {
    "code": "df.exported",
    "id": "f4d06c009df94e128110e304aba2dc37",
    "order_count": 13,
    "time": "2020-09-30T22:37:19.356Z",
    "type": "executeCodeCell"
   },
   {
    "code": "",
    "id": "0613a218cdf7465f8ebb58cf81045041",
    "order_count": 14,
    "time": "2020-09-30T22:37:19.378Z",
    "type": "selectCodeCell"
   },
   {
    "code": "df.exported",
    "id": "f4d06c009df94e128110e304aba2dc37",
    "isPrintLuxDf": false,
    "isPrintPandasDf": false,
    "isPrintVis": true,
    "isPrintVisCollection": false,
    "order_count": 13,
    "time": "2020-09-30T22:37:19.417Z",
    "type": "completeCodeCell"
   },
   {
    "param": "",
    "time": "2020-09-30T22:37:19.424Z",
    "type": "initWidget"
   }
  ]
 },
 "nbformat": 4,
 "nbformat_minor": 4
}
