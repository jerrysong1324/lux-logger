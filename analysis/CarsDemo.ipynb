{
 "cells": [
  {
   "cell_type": "code",
   "execution_count": 1,
   "metadata": {},
   "outputs": [
    {
     "name": "stdout",
     "output_type": "stream",
     "text": [
      "/Users/dorislee/Desktop/Research/lux/lux\n"
     ]
    }
   ],
   "source": [
    "cd .."
   ]
  },
  {
   "cell_type": "code",
   "execution_count": 2,
   "metadata": {},
   "outputs": [],
   "source": [
    "import pandas as pd\n",
    "import lux"
   ]
  },
  {
   "cell_type": "markdown",
   "metadata": {},
   "source": [
    "Load in a dataset of 392 different cars from 1970-1982:"
   ]
  },
  {
   "cell_type": "code",
   "execution_count": 3,
   "metadata": {},
   "outputs": [
    {
     "data": {
      "text/html": [
       "<div>\n",
       "<style scoped>\n",
       "    .dataframe tbody tr th:only-of-type {\n",
       "        vertical-align: middle;\n",
       "    }\n",
       "\n",
       "    .dataframe tbody tr th {\n",
       "        vertical-align: top;\n",
       "    }\n",
       "\n",
       "    .dataframe thead th {\n",
       "        text-align: right;\n",
       "    }\n",
       "</style>\n",
       "<table border=\"1\" class=\"dataframe\">\n",
       "  <thead>\n",
       "    <tr style=\"text-align: right;\">\n",
       "      <th></th>\n",
       "      <th>Name</th>\n",
       "      <th>MilesPerGal</th>\n",
       "      <th>Cylinders</th>\n",
       "      <th>Displacement</th>\n",
       "      <th>Horsepower</th>\n",
       "      <th>Weight</th>\n",
       "      <th>Acceleration</th>\n",
       "      <th>Year</th>\n",
       "      <th>Origin</th>\n",
       "    </tr>\n",
       "  </thead>\n",
       "  <tbody>\n",
       "    <tr>\n",
       "      <th>0</th>\n",
       "      <td>chevrolet chevelle malibu</td>\n",
       "      <td>18.0</td>\n",
       "      <td>8</td>\n",
       "      <td>307.0</td>\n",
       "      <td>130</td>\n",
       "      <td>3504</td>\n",
       "      <td>12.0</td>\n",
       "      <td>1970-01-01</td>\n",
       "      <td>USA</td>\n",
       "    </tr>\n",
       "    <tr>\n",
       "      <th>1</th>\n",
       "      <td>buick skylark 320</td>\n",
       "      <td>15.0</td>\n",
       "      <td>8</td>\n",
       "      <td>350.0</td>\n",
       "      <td>165</td>\n",
       "      <td>3693</td>\n",
       "      <td>11.5</td>\n",
       "      <td>1970-01-01</td>\n",
       "      <td>USA</td>\n",
       "    </tr>\n",
       "    <tr>\n",
       "      <th>2</th>\n",
       "      <td>plymouth satellite</td>\n",
       "      <td>18.0</td>\n",
       "      <td>8</td>\n",
       "      <td>318.0</td>\n",
       "      <td>150</td>\n",
       "      <td>3436</td>\n",
       "      <td>11.0</td>\n",
       "      <td>1970-01-01</td>\n",
       "      <td>USA</td>\n",
       "    </tr>\n",
       "    <tr>\n",
       "      <th>3</th>\n",
       "      <td>amc rebel sst</td>\n",
       "      <td>16.0</td>\n",
       "      <td>8</td>\n",
       "      <td>304.0</td>\n",
       "      <td>150</td>\n",
       "      <td>3433</td>\n",
       "      <td>12.0</td>\n",
       "      <td>1970-01-01</td>\n",
       "      <td>USA</td>\n",
       "    </tr>\n",
       "    <tr>\n",
       "      <th>4</th>\n",
       "      <td>ford torino</td>\n",
       "      <td>17.0</td>\n",
       "      <td>8</td>\n",
       "      <td>302.0</td>\n",
       "      <td>140</td>\n",
       "      <td>3449</td>\n",
       "      <td>10.5</td>\n",
       "      <td>1970-01-01</td>\n",
       "      <td>USA</td>\n",
       "    </tr>\n",
       "  </tbody>\n",
       "</table>\n",
       "</div>"
      ],
      "text/plain": [
       "                        Name  MilesPerGal  Cylinders  Displacement  \\\n",
       "0  chevrolet chevelle malibu         18.0          8         307.0   \n",
       "1          buick skylark 320         15.0          8         350.0   \n",
       "2         plymouth satellite         18.0          8         318.0   \n",
       "3              amc rebel sst         16.0          8         304.0   \n",
       "4                ford torino         17.0          8         302.0   \n",
       "\n",
       "   Horsepower  Weight  Acceleration       Year Origin  \n",
       "0         130    3504          12.0 1970-01-01    USA  \n",
       "1         165    3693          11.5 1970-01-01    USA  \n",
       "2         150    3436          11.0 1970-01-01    USA  \n",
       "3         150    3433          12.0 1970-01-01    USA  \n",
       "4         140    3449          10.5 1970-01-01    USA  "
      ]
     },
     "execution_count": 3,
     "metadata": {},
     "output_type": "execute_result"
    }
   ],
   "source": [
    "df = pd.read_csv(\"lux/data/car.csv\")\n",
    "# df.set_executor_type(\"Pandas\")\n",
    "df[\"Year\"] = pd.to_datetime(df[\"Year\"], format='%Y') # change pandas dtype for the column \"Year\" to datetype\n",
    "df.head().to_pandas()"
   ]
  },
  {
   "cell_type": "code",
   "execution_count": 4,
   "metadata": {},
   "outputs": [
    {
     "data": {
      "application/vnd.jupyter.widget-view+json": {
       "model_id": "d7a44ebd60ea4321959ce63b3fa00817",
       "version_major": 2,
       "version_minor": 0
      },
      "text/plain": [
       "Button(description='Toggle Pandas/Lux', layout=Layout(top='5px', width='140px'), style=ButtonStyle())"
      ]
     },
     "metadata": {},
     "output_type": "display_data"
    },
    {
     "data": {
      "application/vnd.jupyter.widget-view+json": {
       "model_id": "6a632f4f04e64255b7ae3f515921d912",
       "version_major": 2,
       "version_minor": 0
      },
      "text/plain": [
       "Output()"
      ]
     },
     "metadata": {},
     "output_type": "display_data"
    },
    {
     "data": {
      "text/plain": []
     },
     "execution_count": 4,
     "metadata": {},
     "output_type": "execute_result"
    }
   ],
   "source": [
    "df"
   ]
  },
  {
   "cell_type": "markdown",
   "metadata": {},
   "source": [
    "Intuitively, we expect cars with more horsepower means higher acceleration, but we are actually seeing the opposite of that trend.\n",
    "Let's learn more about whether there are additional factors that is affecting this relationship."
   ]
  },
  {
   "cell_type": "code",
   "execution_count": 6,
   "metadata": {},
   "outputs": [
    {
     "data": {
      "application/vnd.jupyter.widget-view+json": {
       "model_id": "cc4598e82a6546788bd5ddad0dafa73f",
       "version_major": 2,
       "version_minor": 0
      },
      "text/plain": [
       "Button(description='Toggle Pandas/Lux', layout=Layout(top='5px', width='140px'), style=ButtonStyle())"
      ]
     },
     "metadata": {},
     "output_type": "display_data"
    },
    {
     "data": {
      "application/vnd.jupyter.widget-view+json": {
       "model_id": "268a33e317514aa7ab64c69ab0e76bf6",
       "version_major": 2,
       "version_minor": 0
      },
      "text/plain": [
       "Output()"
      ]
     },
     "metadata": {},
     "output_type": "display_data"
    },
    {
     "data": {
      "text/plain": []
     },
     "execution_count": 6,
     "metadata": {},
     "output_type": "execute_result"
    }
   ],
   "source": [
    "df.set_context([lux.Spec(attribute = \"Acceleration\"),lux.Spec(attribute = \"Horsepower\")])\n",
    "df"
   ]
  },
  {
   "cell_type": "markdown",
   "metadata": {},
   "source": [
    "In the cell above, the Enhance shows that for all the added quantitative variables (shown as gradients of color), except MilesPerGal, the trend for the value is higher on the upper-left end, and value decreases towards the bottom-right."
   ]
  },
  {
   "cell_type": "markdown",
   "metadata": {},
   "source": [
    "Let's look at what the MilesPerGal is like for different Cylinder cars."
   ]
  },
  {
   "cell_type": "code",
   "execution_count": 8,
   "metadata": {},
   "outputs": [
    {
     "data": {
      "application/vnd.jupyter.widget-view+json": {
       "model_id": "760d0cca3a9e4c5da4701ed730948266",
       "version_major": 2,
       "version_minor": 0
      },
      "text/plain": [
       "Button(description='Toggle Pandas/Lux', layout=Layout(top='5px', width='140px'), style=ButtonStyle())"
      ]
     },
     "metadata": {},
     "output_type": "display_data"
    },
    {
     "data": {
      "application/vnd.jupyter.widget-view+json": {
       "model_id": "ee6c41a8c8c5479e952014badc962527",
       "version_major": 2,
       "version_minor": 0
      },
      "text/plain": [
       "Output()"
      ]
     },
     "metadata": {},
     "output_type": "display_data"
    },
    {
     "data": {
      "text/plain": []
     },
     "execution_count": 8,
     "metadata": {},
     "output_type": "execute_result"
    }
   ],
   "source": [
    "df.set_context([lux.Spec(attribute = \"Cylinders\")])\n",
    "df"
   ]
  },
  {
   "cell_type": "code",
   "execution_count": 9,
   "metadata": {},
   "outputs": [
    {
     "data": {
      "application/vnd.jupyter.widget-view+json": {
       "model_id": "3fa8e57b350149c7bb232585607ce47a",
       "version_major": 2,
       "version_minor": 0
      },
      "text/plain": [
       "LuxWidget(recommendations=[{'action': 'View Collection', 'description': 'Shows a view collection defined by th…"
      ]
     },
     "metadata": {},
     "output_type": "display_data"
    },
    {
     "data": {
      "text/plain": [
       "[<View  (x: MEAN(Displacement), y: Origin) mark: bar, score: 0.03 >]"
      ]
     },
     "execution_count": 9,
     "metadata": {},
     "output_type": "execute_result"
    }
   ],
   "source": [
    "df.get_exported()"
   ]
  },
  {
   "cell_type": "code",
   "execution_count": 11,
   "metadata": {},
   "outputs": [
    {
     "name": "stdout",
     "output_type": "stream",
     "text": [
      "showMore\n",
      "False True False\n",
      "{'action': 'Enhance', 'description': 'Shows possible visualizations when an additional attribute is added to the current view.', 'collection': [<View  (x: MilesPerGal, y: Acceleration, color: Cylinders) mark: scatter, score: 0.20 >,\n",
      " <View  (x: MilesPerGal, y: Displacement, color: Cylinders) mark: scatter, score: 0.20 >,\n",
      " <View  (x: MilesPerGal, y: Horsepower  , color: Cylinders) mark: scatter, score: 0.20 >,\n",
      " <View  (x: MilesPerGal, y: Weight      , color: Cylinders) mark: scatter, score: 0.20 >]}\n",
      "{'action': 'Filter', 'description': 'Shows possible visualizations when filtered by categorical variables in the dataset.', 'collection': [<View  (x: MEAN(MilesPerGal), y: Cylinders  -- [Origin=USA]                         ) mark: bar, score: 19.44 >,\n",
      " <View  (x: MEAN(MilesPerGal), y: Cylinders  -- [Origin=Japan]                       ) mark: bar, score: 5.64 >,\n",
      " <View  (x: MEAN(MilesPerGal), y: Cylinders  -- [Year=1982-01-01T00:00:00.000000000] ) mark: bar, score: 4.59 >,\n",
      " <View  (x: MEAN(MilesPerGal), y: Cylinders  -- [Origin=Europe]                      ) mark: bar, score: 3.97 >,\n",
      " <View  (x: MEAN(MilesPerGal), y: Cylinders  -- [Year=1976-01-01T00:00:00.000000000] ) mark: bar, score: 2.69 >,\n",
      " <View  (x: MEAN(MilesPerGal), y: Cylinders  -- [Year=1975-01-01T00:00:00.000000000] ) mark: bar, score: 2.36 >,\n",
      " <View  (x: MEAN(MilesPerGal), y: Cylinders  -- [Year=1970-01-01T00:00:00.000000000] ) mark: bar, score: 2.29 >,\n",
      " <View  (x: MEAN(MilesPerGal), y: Cylinders  -- [Year=1973-01-01T00:00:00.000000000] ) mark: bar, score: 2.19 >,\n",
      " <View  (x: MEAN(MilesPerGal), y: Cylinders  -- [Year=1972-01-01T00:00:00.000000000] ) mark: bar, score: 2.18 >,\n",
      " <View  (x: MEAN(MilesPerGal), y: Cylinders  -- [Year=1971-01-01T00:00:00.000000000] ) mark: bar, score: 2.17 >,\n",
      " <View  (x: MEAN(MilesPerGal), y: Cylinders  -- [Year=1974-01-01T00:00:00.000000000] ) mark: bar, score: 2.08 >,\n",
      " <View  (x: MEAN(MilesPerGal), y: Cylinders  -- [Year=1978-01-01T00:00:00.000000000] ) mark: bar, score: 1.57 >,\n",
      " <View  (x: MEAN(MilesPerGal), y: Cylinders  -- [Year=1977-01-01T00:00:00.000000000] ) mark: bar, score: 1.53 >,\n",
      " <View  (x: MEAN(MilesPerGal), y: Cylinders  -- [Year=1979-01-01T00:00:00.000000000] ) mark: bar, score: 1.21 >,\n",
      " <View  (x: MEAN(MilesPerGal), y: Cylinders  -- [Year=1980-01-01T00:00:00.000000000] ) mark: bar, score: 0.82 >]}\n",
      "{'action': 'Generalize', 'description': 'Remove one attribute or filter to observe a more general trend.', 'collection': [<View  (x: BIN(MilesPerGal) , y: COUNT(Record)) mark: histogram, score: 0.02 >,\n",
      " <View  (x: MEAN(MilesPerGal), y: Cylinders    ) mark: bar      , score: 0.00 >]}\n"
     ]
    },
    {
     "data": {
      "application/vnd.jupyter.widget-view+json": {
       "model_id": "c9cec562f9984ca2a0d0fc4d2839eb08",
       "version_major": 2,
       "version_minor": 0
      },
      "text/plain": [
       "Button(description='Toggle Pandas/Lux', layout=Layout(top='5px', width='140px'), style=ButtonStyle())"
      ]
     },
     "metadata": {},
     "output_type": "display_data"
    },
    {
     "data": {
      "application/vnd.jupyter.widget-view+json": {
       "model_id": "3e6213a1a09e42fda70511892e15fa83",
       "version_major": 2,
       "version_minor": 0
      },
      "text/plain": [
       "Output()"
      ]
     },
     "metadata": {},
     "output_type": "display_data"
    },
    {
     "data": {
      "text/plain": []
     },
     "execution_count": 11,
     "metadata": {},
     "output_type": "execute_result"
    }
   ],
   "source": [
    "df.set_context([lux.Spec(attribute = \"Cylinders\"), lux.Spec(attribute = \"MilesPerGal\")])\n",
    "df"
   ]
  },
  {
   "cell_type": "code",
   "execution_count": 14,
   "metadata": {},
   "outputs": [
    {
     "name": "stdout",
     "output_type": "stream",
     "text": [
      "showMore\n",
      "False True False\n"
     ]
    },
    {
     "ename": "ValueError",
     "evalue": "cannot set a row with mismatched columns",
     "output_type": "error",
     "traceback": [
      "\u001b[0;31m---------------------------------------------------------------------------\u001b[0m",
      "\u001b[0;31mValueError\u001b[0m                                Traceback (most recent call last)",
      "\u001b[0;32m~/.virtualenvs/lux/lib/python3.7/site-packages/IPython/core/formatters.py\u001b[0m in \u001b[0;36m__call__\u001b[0;34m(self, obj)\u001b[0m\n\u001b[1;32m    343\u001b[0m             \u001b[0mmethod\u001b[0m \u001b[0;34m=\u001b[0m \u001b[0mget_real_method\u001b[0m\u001b[0;34m(\u001b[0m\u001b[0mobj\u001b[0m\u001b[0;34m,\u001b[0m \u001b[0mself\u001b[0m\u001b[0;34m.\u001b[0m\u001b[0mprint_method\u001b[0m\u001b[0;34m)\u001b[0m\u001b[0;34m\u001b[0m\u001b[0;34m\u001b[0m\u001b[0m\n\u001b[1;32m    344\u001b[0m             \u001b[0;32mif\u001b[0m \u001b[0mmethod\u001b[0m \u001b[0;32mis\u001b[0m \u001b[0;32mnot\u001b[0m \u001b[0;32mNone\u001b[0m\u001b[0;34m:\u001b[0m\u001b[0;34m\u001b[0m\u001b[0;34m\u001b[0m\u001b[0m\n\u001b[0;32m--> 345\u001b[0;31m                 \u001b[0;32mreturn\u001b[0m \u001b[0mmethod\u001b[0m\u001b[0;34m(\u001b[0m\u001b[0;34m)\u001b[0m\u001b[0;34m\u001b[0m\u001b[0;34m\u001b[0m\u001b[0m\n\u001b[0m\u001b[1;32m    346\u001b[0m             \u001b[0;32mreturn\u001b[0m \u001b[0;32mNone\u001b[0m\u001b[0;34m\u001b[0m\u001b[0;34m\u001b[0m\u001b[0m\n\u001b[1;32m    347\u001b[0m         \u001b[0;32melse\u001b[0m\u001b[0;34m:\u001b[0m\u001b[0;34m\u001b[0m\u001b[0;34m\u001b[0m\u001b[0m\n",
      "\u001b[0;32m~/Desktop/Research/lux/lux/lux/luxDataFrame/LuxDataframe.py\u001b[0m in \u001b[0;36m_repr_html_\u001b[0;34m(self)\u001b[0m\n\u001b[1;32m    443\u001b[0m         \u001b[0;32mif\u001b[0m \u001b[0mself\u001b[0m\u001b[0;34m.\u001b[0m\u001b[0mtoggle_benchmarking\u001b[0m \u001b[0;34m==\u001b[0m \u001b[0;32mTrue\u001b[0m\u001b[0;34m:\u001b[0m\u001b[0;34m\u001b[0m\u001b[0;34m\u001b[0m\u001b[0m\n\u001b[1;32m    444\u001b[0m             \u001b[0mtic\u001b[0m \u001b[0;34m=\u001b[0m \u001b[0mtime\u001b[0m\u001b[0;34m.\u001b[0m\u001b[0mperf_counter\u001b[0m\u001b[0;34m(\u001b[0m\u001b[0;34m)\u001b[0m\u001b[0;34m\u001b[0m\u001b[0;34m\u001b[0m\u001b[0m\n\u001b[0;32m--> 445\u001b[0;31m         \u001b[0mself\u001b[0m\u001b[0;34m.\u001b[0m\u001b[0mshow_more\u001b[0m\u001b[0;34m(\u001b[0m\u001b[0;34m)\u001b[0m \u001b[0;31m# compute the recommendations (TODO: This can be rendered in another thread in the background to populate self.widget)\u001b[0m\u001b[0;34m\u001b[0m\u001b[0;34m\u001b[0m\u001b[0m\n\u001b[0m\u001b[1;32m    446\u001b[0m         \u001b[0;32mif\u001b[0m \u001b[0mself\u001b[0m\u001b[0;34m.\u001b[0m\u001b[0mtoggle_benchmarking\u001b[0m \u001b[0;34m==\u001b[0m \u001b[0;32mTrue\u001b[0m\u001b[0;34m:\u001b[0m\u001b[0;34m\u001b[0m\u001b[0;34m\u001b[0m\u001b[0m\n\u001b[1;32m    447\u001b[0m             \u001b[0mtoc\u001b[0m \u001b[0;34m=\u001b[0m \u001b[0mtime\u001b[0m\u001b[0;34m.\u001b[0m\u001b[0mperf_counter\u001b[0m\u001b[0;34m(\u001b[0m\u001b[0;34m)\u001b[0m\u001b[0;34m\u001b[0m\u001b[0;34m\u001b[0m\u001b[0m\n",
      "\u001b[0;32m~/Desktop/Research/lux/lux/lux/luxDataFrame/LuxDataframe.py\u001b[0m in \u001b[0;36mshow_more\u001b[0;34m(self)\u001b[0m\n\u001b[1;32m    363\u001b[0m         \u001b[0;32melif\u001b[0m \u001b[0;34m(\u001b[0m\u001b[0mone_current_view\u001b[0m\u001b[0;34m)\u001b[0m\u001b[0;34m:\u001b[0m\u001b[0;34m\u001b[0m\u001b[0;34m\u001b[0m\u001b[0m\n\u001b[1;32m    364\u001b[0m             \u001b[0menhance\u001b[0m \u001b[0;34m=\u001b[0m \u001b[0menhance\u001b[0m\u001b[0;34m(\u001b[0m\u001b[0mself\u001b[0m\u001b[0;34m)\u001b[0m\u001b[0;34m\u001b[0m\u001b[0;34m\u001b[0m\u001b[0m\n\u001b[0;32m--> 365\u001b[0;31m             \u001b[0mfilter\u001b[0m \u001b[0;34m=\u001b[0m \u001b[0mfilter\u001b[0m\u001b[0;34m(\u001b[0m\u001b[0mself\u001b[0m\u001b[0;34m)\u001b[0m\u001b[0;34m\u001b[0m\u001b[0;34m\u001b[0m\u001b[0m\n\u001b[0m\u001b[1;32m    366\u001b[0m             \u001b[0mgeneralize\u001b[0m \u001b[0;34m=\u001b[0m \u001b[0mgeneralize\u001b[0m\u001b[0;34m(\u001b[0m\u001b[0mself\u001b[0m\u001b[0;34m)\u001b[0m\u001b[0;34m\u001b[0m\u001b[0;34m\u001b[0m\u001b[0m\n\u001b[1;32m    367\u001b[0m             \u001b[0mprint\u001b[0m\u001b[0;34m(\u001b[0m\u001b[0menhance\u001b[0m\u001b[0;34m)\u001b[0m\u001b[0;34m\u001b[0m\u001b[0;34m\u001b[0m\u001b[0m\n",
      "\u001b[0;32m~/Desktop/Research/lux/lux/lux/action/Filter.py\u001b[0m in \u001b[0;36mfilter\u001b[0;34m(ldf)\u001b[0m\n\u001b[1;32m     62\u001b[0m                                 \u001b[0moutput\u001b[0m\u001b[0;34m.\u001b[0m\u001b[0mappend\u001b[0m\u001b[0;34m(\u001b[0m\u001b[0mtemp_view\u001b[0m\u001b[0;34m)\u001b[0m\u001b[0;34m\u001b[0m\u001b[0;34m\u001b[0m\u001b[0m\n\u001b[1;32m     63\u001b[0m         \u001b[0mvc\u001b[0m \u001b[0;34m=\u001b[0m \u001b[0mlux\u001b[0m\u001b[0;34m.\u001b[0m\u001b[0mview\u001b[0m\u001b[0;34m.\u001b[0m\u001b[0mViewCollection\u001b[0m\u001b[0;34m.\u001b[0m\u001b[0mViewCollection\u001b[0m\u001b[0;34m(\u001b[0m\u001b[0moutput\u001b[0m\u001b[0;34m)\u001b[0m\u001b[0;34m\u001b[0m\u001b[0;34m\u001b[0m\u001b[0m\n\u001b[0;32m---> 64\u001b[0;31m         \u001b[0mvc\u001b[0m \u001b[0;34m=\u001b[0m \u001b[0mvc\u001b[0m\u001b[0;34m.\u001b[0m\u001b[0mload\u001b[0m\u001b[0;34m(\u001b[0m\u001b[0mldf\u001b[0m\u001b[0;34m)\u001b[0m\u001b[0;34m\u001b[0m\u001b[0;34m\u001b[0m\u001b[0m\n\u001b[0m\u001b[1;32m     65\u001b[0m         \u001b[0;32mfor\u001b[0m \u001b[0mview\u001b[0m \u001b[0;32min\u001b[0m \u001b[0mvc\u001b[0m\u001b[0;34m:\u001b[0m\u001b[0;34m\u001b[0m\u001b[0;34m\u001b[0m\u001b[0m\n\u001b[1;32m     66\u001b[0m                 \u001b[0mview\u001b[0m\u001b[0;34m.\u001b[0m\u001b[0mscore\u001b[0m \u001b[0;34m=\u001b[0m \u001b[0minterestingness\u001b[0m\u001b[0;34m(\u001b[0m\u001b[0mview\u001b[0m\u001b[0;34m,\u001b[0m\u001b[0mldf\u001b[0m\u001b[0;34m)\u001b[0m\u001b[0;34m\u001b[0m\u001b[0;34m\u001b[0m\u001b[0m\n",
      "\u001b[0;32m~/Desktop/Research/lux/lux/lux/view/ViewCollection.py\u001b[0m in \u001b[0;36mload\u001b[0;34m(self, ldf)\u001b[0m\n\u001b[1;32m    230\u001b[0m                                 \u001b[0mValidator\u001b[0m\u001b[0;34m.\u001b[0m\u001b[0mvalidate_spec\u001b[0m\u001b[0;34m(\u001b[0m\u001b[0mself\u001b[0m\u001b[0;34m.\u001b[0m\u001b[0mspec_lst\u001b[0m\u001b[0;34m,\u001b[0m\u001b[0mldf\u001b[0m\u001b[0;34m)\u001b[0m\u001b[0;34m\u001b[0m\u001b[0;34m\u001b[0m\u001b[0m\n\u001b[1;32m    231\u001b[0m                                 \u001b[0mvc\u001b[0m \u001b[0;34m=\u001b[0m \u001b[0mCompiler\u001b[0m\u001b[0;34m.\u001b[0m\u001b[0mcompile\u001b[0m\u001b[0;34m(\u001b[0m\u001b[0mldf\u001b[0m\u001b[0;34m,\u001b[0m\u001b[0mself\u001b[0m\u001b[0;34m.\u001b[0m\u001b[0mspec_lst\u001b[0m\u001b[0;34m,\u001b[0m\u001b[0mself\u001b[0m\u001b[0;34m)\u001b[0m\u001b[0;34m\u001b[0m\u001b[0;34m\u001b[0m\u001b[0m\n\u001b[0;32m--> 232\u001b[0;31m                         \u001b[0mPandasExecutor\u001b[0m\u001b[0;34m.\u001b[0m\u001b[0mexecute\u001b[0m\u001b[0;34m(\u001b[0m\u001b[0mvc\u001b[0m\u001b[0;34m,\u001b[0m\u001b[0mldf\u001b[0m\u001b[0;34m)\u001b[0m\u001b[0;34m\u001b[0m\u001b[0;34m\u001b[0m\u001b[0m\n\u001b[0m\u001b[1;32m    233\u001b[0m                         \u001b[0;32mreturn\u001b[0m \u001b[0mvc\u001b[0m\u001b[0;34m\u001b[0m\u001b[0;34m\u001b[0m\u001b[0m\n\u001b[1;32m    234\u001b[0m                 \u001b[0;32melse\u001b[0m\u001b[0;34m:\u001b[0m\u001b[0;34m\u001b[0m\u001b[0;34m\u001b[0m\u001b[0m\n",
      "\u001b[0;32m~/Desktop/Research/lux/lux/lux/executor/PandasExecutor.py\u001b[0m in \u001b[0;36mexecute\u001b[0;34m(view_collection, ldf)\u001b[0m\n\u001b[1;32m     48\u001b[0m                 \u001b[0mview\u001b[0m\u001b[0;34m.\u001b[0m\u001b[0mdata\u001b[0m \u001b[0;34m=\u001b[0m \u001b[0mview\u001b[0m\u001b[0;34m.\u001b[0m\u001b[0mdata\u001b[0m\u001b[0;34m[\u001b[0m\u001b[0mlist\u001b[0m\u001b[0;34m(\u001b[0m\u001b[0mattributes\u001b[0m\u001b[0;34m)\u001b[0m\u001b[0;34m]\u001b[0m\u001b[0;34m\u001b[0m\u001b[0;34m\u001b[0m\u001b[0m\n\u001b[1;32m     49\u001b[0m             \u001b[0;32mif\u001b[0m \u001b[0;34m(\u001b[0m\u001b[0mview\u001b[0m\u001b[0;34m.\u001b[0m\u001b[0mmark\u001b[0m \u001b[0;34m==\u001b[0m\u001b[0;34m\"bar\"\u001b[0m \u001b[0;32mor\u001b[0m \u001b[0mview\u001b[0m\u001b[0;34m.\u001b[0m\u001b[0mmark\u001b[0m \u001b[0;34m==\u001b[0m\u001b[0;34m\"line\"\u001b[0m\u001b[0;34m)\u001b[0m\u001b[0;34m:\u001b[0m\u001b[0;34m\u001b[0m\u001b[0;34m\u001b[0m\u001b[0m\n\u001b[0;32m---> 50\u001b[0;31m                 \u001b[0mPandasExecutor\u001b[0m\u001b[0;34m.\u001b[0m\u001b[0mexecute_aggregate\u001b[0m\u001b[0;34m(\u001b[0m\u001b[0mview\u001b[0m\u001b[0;34m)\u001b[0m\u001b[0;34m\u001b[0m\u001b[0;34m\u001b[0m\u001b[0m\n\u001b[0m\u001b[1;32m     51\u001b[0m             \u001b[0;32melif\u001b[0m \u001b[0;34m(\u001b[0m\u001b[0mview\u001b[0m\u001b[0;34m.\u001b[0m\u001b[0mmark\u001b[0m \u001b[0;34m==\u001b[0m\u001b[0;34m\"histogram\"\u001b[0m\u001b[0;34m)\u001b[0m\u001b[0;34m:\u001b[0m\u001b[0;34m\u001b[0m\u001b[0;34m\u001b[0m\u001b[0m\n\u001b[1;32m     52\u001b[0m                 \u001b[0mPandasExecutor\u001b[0m\u001b[0;34m.\u001b[0m\u001b[0mexecute_binning\u001b[0m\u001b[0;34m(\u001b[0m\u001b[0mview\u001b[0m\u001b[0;34m)\u001b[0m\u001b[0;34m\u001b[0m\u001b[0;34m\u001b[0m\u001b[0m\n",
      "\u001b[0;32m~/Desktop/Research/lux/lux/lux/executor/PandasExecutor.py\u001b[0m in \u001b[0;36mexecute_aggregate\u001b[0;34m(view)\u001b[0m\n\u001b[1;32m     96\u001b[0m                 \u001b[0;32mfor\u001b[0m \u001b[0mvals\u001b[0m \u001b[0;32min\u001b[0m \u001b[0mall_attr_vals\u001b[0m\u001b[0;34m:\u001b[0m\u001b[0;34m\u001b[0m\u001b[0;34m\u001b[0m\u001b[0m\n\u001b[1;32m     97\u001b[0m                     \u001b[0;32mif\u001b[0m \u001b[0;34m(\u001b[0m\u001b[0mvals\u001b[0m \u001b[0;32mnot\u001b[0m \u001b[0;32min\u001b[0m \u001b[0mresult_vals\u001b[0m\u001b[0;34m)\u001b[0m\u001b[0;34m:\u001b[0m\u001b[0;34m\u001b[0m\u001b[0;34m\u001b[0m\u001b[0m\n\u001b[0;32m---> 98\u001b[0;31m                         \u001b[0mview\u001b[0m\u001b[0;34m.\u001b[0m\u001b[0mdata\u001b[0m\u001b[0;34m.\u001b[0m\u001b[0mloc\u001b[0m\u001b[0;34m[\u001b[0m\u001b[0mlen\u001b[0m\u001b[0;34m(\u001b[0m\u001b[0mview\u001b[0m\u001b[0;34m.\u001b[0m\u001b[0mdata\u001b[0m\u001b[0;34m)\u001b[0m\u001b[0;34m]\u001b[0m \u001b[0;34m=\u001b[0m \u001b[0;34m[\u001b[0m\u001b[0mvals\u001b[0m\u001b[0;34m,\u001b[0m\u001b[0;36m0\u001b[0m\u001b[0;34m]\u001b[0m\u001b[0;34m\u001b[0m\u001b[0;34m\u001b[0m\u001b[0m\n\u001b[0m\u001b[1;32m     99\u001b[0m             \u001b[0;32massert\u001b[0m \u001b[0mlen\u001b[0m\u001b[0;34m(\u001b[0m\u001b[0mlist\u001b[0m\u001b[0;34m(\u001b[0m\u001b[0mview\u001b[0m\u001b[0;34m.\u001b[0m\u001b[0mdata\u001b[0m\u001b[0;34m[\u001b[0m\u001b[0mgroupby_attr\u001b[0m\u001b[0;34m.\u001b[0m\u001b[0mattribute\u001b[0m\u001b[0;34m]\u001b[0m\u001b[0;34m)\u001b[0m\u001b[0;34m)\u001b[0m \u001b[0;34m==\u001b[0m \u001b[0mlen\u001b[0m\u001b[0;34m(\u001b[0m\u001b[0mall_attr_vals\u001b[0m\u001b[0;34m)\u001b[0m\u001b[0;34m,\u001b[0m \u001b[0;34mf\"Aggregated data missing values compared to original range of values of `{groupby_attr.attribute}`.\"\u001b[0m\u001b[0;34m\u001b[0m\u001b[0;34m\u001b[0m\u001b[0m\n\u001b[1;32m    100\u001b[0m             \u001b[0mview\u001b[0m\u001b[0;34m.\u001b[0m\u001b[0mdata\u001b[0m \u001b[0;34m=\u001b[0m \u001b[0mview\u001b[0m\u001b[0;34m.\u001b[0m\u001b[0mdata\u001b[0m\u001b[0;34m.\u001b[0m\u001b[0msort_values\u001b[0m\u001b[0;34m(\u001b[0m\u001b[0mby\u001b[0m\u001b[0;34m=\u001b[0m\u001b[0mgroupby_attr\u001b[0m\u001b[0;34m.\u001b[0m\u001b[0mattribute\u001b[0m\u001b[0;34m,\u001b[0m \u001b[0mascending\u001b[0m\u001b[0;34m=\u001b[0m\u001b[0;32mTrue\u001b[0m\u001b[0;34m)\u001b[0m\u001b[0;34m\u001b[0m\u001b[0;34m\u001b[0m\u001b[0m\n",
      "\u001b[0;32m~/.virtualenvs/lux/lib/python3.7/site-packages/pandas/core/indexing.py\u001b[0m in \u001b[0;36m__setitem__\u001b[0;34m(self, key, value)\u001b[0m\n\u001b[1;32m    669\u001b[0m             \u001b[0mkey\u001b[0m \u001b[0;34m=\u001b[0m \u001b[0mcom\u001b[0m\u001b[0;34m.\u001b[0m\u001b[0mapply_if_callable\u001b[0m\u001b[0;34m(\u001b[0m\u001b[0mkey\u001b[0m\u001b[0;34m,\u001b[0m \u001b[0mself\u001b[0m\u001b[0;34m.\u001b[0m\u001b[0mobj\u001b[0m\u001b[0;34m)\u001b[0m\u001b[0;34m\u001b[0m\u001b[0;34m\u001b[0m\u001b[0m\n\u001b[1;32m    670\u001b[0m         \u001b[0mindexer\u001b[0m \u001b[0;34m=\u001b[0m \u001b[0mself\u001b[0m\u001b[0;34m.\u001b[0m\u001b[0m_get_setitem_indexer\u001b[0m\u001b[0;34m(\u001b[0m\u001b[0mkey\u001b[0m\u001b[0;34m)\u001b[0m\u001b[0;34m\u001b[0m\u001b[0;34m\u001b[0m\u001b[0m\n\u001b[0;32m--> 671\u001b[0;31m         \u001b[0mself\u001b[0m\u001b[0;34m.\u001b[0m\u001b[0m_setitem_with_indexer\u001b[0m\u001b[0;34m(\u001b[0m\u001b[0mindexer\u001b[0m\u001b[0;34m,\u001b[0m \u001b[0mvalue\u001b[0m\u001b[0;34m)\u001b[0m\u001b[0;34m\u001b[0m\u001b[0;34m\u001b[0m\u001b[0m\n\u001b[0m\u001b[1;32m    672\u001b[0m \u001b[0;34m\u001b[0m\u001b[0m\n\u001b[1;32m    673\u001b[0m     \u001b[0;32mdef\u001b[0m \u001b[0m_validate_key\u001b[0m\u001b[0;34m(\u001b[0m\u001b[0mself\u001b[0m\u001b[0;34m,\u001b[0m \u001b[0mkey\u001b[0m\u001b[0;34m,\u001b[0m \u001b[0maxis\u001b[0m\u001b[0;34m:\u001b[0m \u001b[0mint\u001b[0m\u001b[0;34m)\u001b[0m\u001b[0;34m:\u001b[0m\u001b[0;34m\u001b[0m\u001b[0;34m\u001b[0m\u001b[0m\n",
      "\u001b[0;32m~/.virtualenvs/lux/lib/python3.7/site-packages/pandas/core/indexing.py\u001b[0m in \u001b[0;36m_setitem_with_indexer\u001b[0;34m(self, indexer, value)\u001b[0m\n\u001b[1;32m    873\u001b[0m \u001b[0;34m\u001b[0m\u001b[0m\n\u001b[1;32m    874\u001b[0m             \u001b[0;32mif\u001b[0m \u001b[0mmissing\u001b[0m\u001b[0;34m:\u001b[0m\u001b[0;34m\u001b[0m\u001b[0;34m\u001b[0m\u001b[0m\n\u001b[0;32m--> 875\u001b[0;31m                 \u001b[0;32mreturn\u001b[0m \u001b[0mself\u001b[0m\u001b[0;34m.\u001b[0m\u001b[0m_setitem_with_indexer_missing\u001b[0m\u001b[0;34m(\u001b[0m\u001b[0mindexer\u001b[0m\u001b[0;34m,\u001b[0m \u001b[0mvalue\u001b[0m\u001b[0;34m)\u001b[0m\u001b[0;34m\u001b[0m\u001b[0;34m\u001b[0m\u001b[0m\n\u001b[0m\u001b[1;32m    876\u001b[0m \u001b[0;34m\u001b[0m\u001b[0m\n\u001b[1;32m    877\u001b[0m         \u001b[0;31m# set\u001b[0m\u001b[0;34m\u001b[0m\u001b[0;34m\u001b[0m\u001b[0;34m\u001b[0m\u001b[0m\n",
      "\u001b[0;32m~/.virtualenvs/lux/lib/python3.7/site-packages/pandas/core/indexing.py\u001b[0m in \u001b[0;36m_setitem_with_indexer_missing\u001b[0;34m(self, indexer, value)\u001b[0m\n\u001b[1;32m   1117\u001b[0m                     \u001b[0;31m# must have conforming columns\u001b[0m\u001b[0;34m\u001b[0m\u001b[0;34m\u001b[0m\u001b[0;34m\u001b[0m\u001b[0m\n\u001b[1;32m   1118\u001b[0m                     \u001b[0;32mif\u001b[0m \u001b[0mlen\u001b[0m\u001b[0;34m(\u001b[0m\u001b[0mvalue\u001b[0m\u001b[0;34m)\u001b[0m \u001b[0;34m!=\u001b[0m \u001b[0mlen\u001b[0m\u001b[0;34m(\u001b[0m\u001b[0mself\u001b[0m\u001b[0;34m.\u001b[0m\u001b[0mobj\u001b[0m\u001b[0;34m.\u001b[0m\u001b[0mcolumns\u001b[0m\u001b[0;34m)\u001b[0m\u001b[0;34m:\u001b[0m\u001b[0;34m\u001b[0m\u001b[0;34m\u001b[0m\u001b[0m\n\u001b[0;32m-> 1119\u001b[0;31m                         \u001b[0;32mraise\u001b[0m \u001b[0mValueError\u001b[0m\u001b[0;34m(\u001b[0m\u001b[0;34m\"cannot set a row with mismatched columns\"\u001b[0m\u001b[0;34m)\u001b[0m\u001b[0;34m\u001b[0m\u001b[0;34m\u001b[0m\u001b[0m\n\u001b[0m\u001b[1;32m   1120\u001b[0m \u001b[0;34m\u001b[0m\u001b[0m\n\u001b[1;32m   1121\u001b[0m                 \u001b[0mvalue\u001b[0m \u001b[0;34m=\u001b[0m \u001b[0mSeries\u001b[0m\u001b[0;34m(\u001b[0m\u001b[0mvalue\u001b[0m\u001b[0;34m,\u001b[0m \u001b[0mindex\u001b[0m\u001b[0;34m=\u001b[0m\u001b[0mself\u001b[0m\u001b[0;34m.\u001b[0m\u001b[0mobj\u001b[0m\u001b[0;34m.\u001b[0m\u001b[0mcolumns\u001b[0m\u001b[0;34m,\u001b[0m \u001b[0mname\u001b[0m\u001b[0;34m=\u001b[0m\u001b[0mindexer\u001b[0m\u001b[0;34m)\u001b[0m\u001b[0;34m\u001b[0m\u001b[0;34m\u001b[0m\u001b[0m\n",
      "\u001b[0;31mValueError\u001b[0m: cannot set a row with mismatched columns"
     ]
    },
    {
     "data": {
      "text/plain": []
     },
     "execution_count": 14,
     "metadata": {},
     "output_type": "execute_result"
    }
   ],
   "source": [
    "df.set_context([lux.Spec(attribute = \"Origin\"),lux.Spec(attribute=\"Acceleration\")])\n",
    "df"
   ]
  },
  {
   "cell_type": "markdown",
   "metadata": {},
   "source": [
    "The Count distribution shows that there is not a lot of cars with 3 and 5 cylinders, so let's clean the data up to remove those."
   ]
  },
  {
   "cell_type": "code",
   "execution_count": null,
   "metadata": {},
   "outputs": [],
   "source": [
    "df[df[\"Cylinders\"]==3].to_pandas()"
   ]
  },
  {
   "cell_type": "code",
   "execution_count": null,
   "metadata": {},
   "outputs": [],
   "source": [
    "df[df[\"Cylinders\"]==5].to_pandas()\n"
   ]
  },
  {
   "cell_type": "code",
   "execution_count": null,
   "metadata": {},
   "outputs": [],
   "source": [
    "newdf = df[(df[\"Cylinders\"]!=3) & (df[\"Cylinders\"]!=5)]\n",
    "newdf"
   ]
  },
  {
   "cell_type": "code",
   "execution_count": null,
   "metadata": {},
   "outputs": [],
   "source": []
  },
  {
   "cell_type": "code",
   "execution_count": null,
   "metadata": {},
   "outputs": [],
   "source": []
  }
 ],
 "metadata": {
  "history": [
   {
    "time": "2020-07-11T02:32:23.559Z",
    "type": "kernelReady"
   },
   {
    "code": "cd ..",
    "id": "0e53789cddfe4253944eea169b4fd35f",
    "order_count": 0,
    "time": "2020-07-11T02:32:25.915Z",
    "type": "editCodeCell"
   },
   {
    "code": "cd ..",
    "id": "0e53789cddfe4253944eea169b4fd35f",
    "order_count": 0,
    "time": "2020-07-11T02:32:28.284Z",
    "type": "executeCodeCell"
   },
   {
    "code": "import pandas as pd\nimport lux",
    "id": "4c62c0b9b47f48848e34117cddafc926",
    "order_count": 1,
    "time": "2020-07-11T02:32:28.316Z",
    "type": "selectCodeCell"
   },
   {
    "id": "0e53789cddfe4253944eea169b4fd35f",
    "isPrintLuxWidget": false,
    "isPrintPandas": false,
    "time": "2020-07-11T02:32:28.327Z",
    "type": "completeCodeCell"
   },
   {
    "code": "import pandas as pd\nimport lux",
    "id": "4c62c0b9b47f48848e34117cddafc926",
    "order_count": 1,
    "time": "2020-07-11T02:32:29.039Z",
    "type": "executeCodeCell"
   },
   {
    "code": "Load in a dataset of 392 different cars from 1970-1982:",
    "id": "06c4436e909b42ddaf63bde7c9abf05a",
    "order_count": 2,
    "time": "2020-07-11T02:32:29.046Z",
    "type": "selectMarkdownCell"
   },
   {
    "id": "4c62c0b9b47f48848e34117cddafc926",
    "isPrintLuxWidget": false,
    "isPrintPandas": false,
    "time": "2020-07-11T02:32:29.358Z",
    "type": "completeCodeCell"
   },
   {
    "code": "df = pd.read_csv(\"lux/data/car.csv\")\n# df.set_executor_type(\"Pandas\")\ndf[\"Year\"] = pd.to_datetime(df[\"Year\"], format='%Y') # change pandas dtype for the column \"Year\" to datetype\ndf.head().to_pandas()",
    "id": "e4b04d984d09409f8ab84e146a85a223",
    "order_count": 3,
    "time": "2020-07-11T02:32:29.710Z",
    "type": "selectCodeCell"
   },
   {
    "code": "df = pd.read_csv(\"lux/data/car.csv\")\n# df.set_executor_type(\"Pandas\")\ndf[\"Year\"] = pd.to_datetime(df[\"Year\"], format='%Y') # change pandas dtype for the column \"Year\" to datetype\ndf.head().to_pandas()",
    "id": "e4b04d984d09409f8ab84e146a85a223",
    "order_count": 3,
    "time": "2020-07-11T02:32:30.242Z",
    "type": "executeCodeCell"
   },
   {
    "code": "df",
    "id": "56fce9d8233f4580889e8b0e20132265",
    "order_count": 4,
    "time": "2020-07-11T02:32:30.258Z",
    "type": "selectCodeCell"
   },
   {
    "id": "e4b04d984d09409f8ab84e146a85a223",
    "isPrintLuxWidget": false,
    "isPrintPandas": true,
    "time": "2020-07-11T02:32:30.292Z",
    "type": "completeCodeCell"
   },
   {
    "code": "df",
    "id": "56fce9d8233f4580889e8b0e20132265",
    "order_count": 4,
    "time": "2020-07-11T02:32:31.409Z",
    "type": "executeCodeCell"
   },
   {
    "code": "Intuitively, we expect cars with more horsepower means higher acceleration, but we are actually seeing the opposite of that trend.\nLet's learn more about whether there are additional factors that is affecting this relationship.",
    "id": "615246e83e4844f182c30351295e01f1",
    "order_count": 5,
    "time": "2020-07-11T02:32:31.419Z",
    "type": "selectMarkdownCell"
   },
   {
    "id": "56fce9d8233f4580889e8b0e20132265",
    "isPrintLuxWidget": false,
    "isPrintPandas": true,
    "time": "2020-07-11T02:32:32.132Z",
    "type": "completeCodeCell"
   },
   {
    "code": "df",
    "id": "56fce9d8233f4580889e8b0e20132265",
    "order_count": 4,
    "time": "2020-07-11T02:32:34.857Z",
    "type": "selectCodeCell"
   },
   {
    "param": "",
    "time": "2020-07-11T02:32:34.893Z",
    "type": "initWidget"
   },
   {
    "param": "",
    "time": "2020-07-11T02:32:35.299Z",
    "type": "initWidget"
   },
   {
    "code": "df",
    "id": "56fce9d8233f4580889e8b0e20132265",
    "order_count": 4,
    "time": "2020-07-11T02:32:39.423Z",
    "type": "selectCodeCell"
   },
   {
    "param": "Distribution",
    "time": "2020-07-11T02:32:39.427Z",
    "type": "switchTab"
   },
   {
    "code": "df",
    "id": "56fce9d8233f4580889e8b0e20132265",
    "order_count": 4,
    "time": "2020-07-11T02:32:40.080Z",
    "type": "selectCodeCell"
   },
   {
    "param": "Category",
    "time": "2020-07-11T02:32:40.082Z",
    "type": "switchTab"
   },
   {
    "code": "df",
    "id": "56fce9d8233f4580889e8b0e20132265",
    "order_count": 4,
    "time": "2020-07-11T02:34:09.724Z",
    "type": "selectCodeCell"
   },
   {
    "param": "Correlation",
    "time": "2020-07-11T02:34:09.733Z",
    "type": "switchTab"
   },
   {
    "param": "Correlation",
    "time": "2020-07-11T02:34:27.423Z",
    "type": "startScroll"
   },
   {
    "param": "Correlation",
    "time": "2020-07-11T02:34:28.462Z",
    "type": "stopScroll"
   },
   {
    "param": "Correlation",
    "time": "2020-07-11T02:34:28.701Z",
    "type": "startScroll"
   },
   {
    "param": "Correlation",
    "time": "2020-07-11T02:34:29.060Z",
    "type": "stopScroll"
   },
   {
    "param": "Correlation",
    "time": "2020-07-11T02:34:31.099Z",
    "type": "startScroll"
   },
   {
    "param": "Correlation",
    "time": "2020-07-11T02:34:31.394Z",
    "type": "stopScroll"
   },
   {
    "param": "Correlation",
    "time": "2020-07-11T02:34:32.298Z",
    "type": "startScroll"
   },
   {
    "param": "Correlation",
    "time": "2020-07-11T02:34:32.642Z",
    "type": "stopScroll"
   },
   {
    "code": "df.set_context([lux.Spec(attribute = \"Horsepower\"),lux.Spec(attribute = \"Horsepower\")])\ndf",
    "id": "91ab12f4d7df4b388655f3429eea43c3",
    "order_count": 6,
    "time": "2020-07-11T02:34:38.285Z",
    "type": "selectCodeCell"
   },
   {
    "code": "df.set_context([lux.Spec(attribute = \"Horsepower\"),lux.Spec(attribute = \"Horsepower\")])\ndf",
    "id": "91ab12f4d7df4b388655f3429eea43c3",
    "order_count": 6,
    "time": "2020-07-11T02:34:38.292Z",
    "type": "editCodeCell"
   },
   {
    "code": "df.set_context([lux.Spec(attribute = \"Horsepower\"),lux.Spec(attribute = \"Horsepower\")])\ndf",
    "id": "91ab12f4d7df4b388655f3429eea43c3",
    "order_count": 6,
    "time": "2020-07-11T02:34:38.371Z",
    "type": "selectCodeCell"
   },
   {
    "code": "df.set_context([lux.Spec(attribute = \"Horsepower\"),lux.Spec(attribute = \"Horsepower\")])\ndf",
    "id": "91ab12f4d7df4b388655f3429eea43c3",
    "order_count": 6,
    "time": "2020-07-11T02:34:39.373Z",
    "type": "executeCodeCell"
   },
   {
    "code": "print (df.recommendation[\"Generalize\"][0].to_VegaLite())",
    "id": "2d7db20f9eb34b15bf2494762219b4e4",
    "order_count": 7,
    "time": "2020-07-11T02:34:39.405Z",
    "type": "selectCodeCell"
   },
   {
    "id": "91ab12f4d7df4b388655f3429eea43c3",
    "isPrintLuxWidget": false,
    "isPrintPandas": true,
    "time": "2020-07-11T02:34:39.528Z",
    "type": "completeCodeCell"
   },
   {
    "code": "print (df.recommendation[\"Generalize\"][0].to_VegaLite())",
    "id": "2d7db20f9eb34b15bf2494762219b4e4",
    "order_count": null,
    "time": "2020-07-11T02:34:43.381Z",
    "type": "deleteCodeCell"
   },
   {
    "code": "df.set_context([lux.Spec(attribute = \"Horsepower\"),lux.Spec(attribute = \"Horsepower\")])\ndf",
    "id": "91ab12f4d7df4b388655f3429eea43c3",
    "order_count": 6,
    "time": "2020-07-11T02:34:49.938Z",
    "type": "selectCodeCell"
   },
   {
    "code": "df.set_context([lux.Spec(attribute = \"Horsepower\"),lux.Spec(attribute = \"Horsepower\")])\ndf",
    "id": "91ab12f4d7df4b388655f3429eea43c3",
    "order_count": null,
    "time": "2020-07-11T02:34:51.719Z",
    "type": "deleteCodeCell"
   },
   {
    "code": "df.set_context([lux.Spec(attribute = \"Acceleration\"),lux.Spec(attribute = \"Horsepower\")])\ndf",
    "id": "8186a34508064c25875a673dcd27f0b7",
    "order_count": 6,
    "time": "2020-07-11T02:35:04.114Z",
    "type": "editCodeCell"
   },
   {
    "code": "df.set_context([lux.Spec(attribute = \"Acceleration\"),lux.Spec(attribute = \"Horsepower\")])\ndf",
    "id": "8186a34508064c25875a673dcd27f0b7",
    "order_count": 6,
    "time": "2020-07-11T02:35:04.747Z",
    "type": "executeCodeCell"
   },
   {
    "code": "In the cell above, the Enhance shows that for all the added quantitative variables (shown as gradients of color), except MilesPerGal, the trend for the value is higher on the upper-left end, and value decreases towards the bottom-right.",
    "id": "3910f6638ebc4db48dfa571606cb48dd",
    "order_count": 7,
    "time": "2020-07-11T02:35:04.770Z",
    "type": "selectMarkdownCell"
   },
   {
    "id": "8186a34508064c25875a673dcd27f0b7",
    "isPrintLuxWidget": false,
    "isPrintPandas": true,
    "time": "2020-07-11T02:35:05.507Z",
    "type": "completeCodeCell"
   },
   {
    "code": "df.set_context([lux.Spec(attribute = \"Acceleration\"),lux.Spec(attribute = \"Horsepower\")])\ndf",
    "id": "8186a34508064c25875a673dcd27f0b7",
    "order_count": 6,
    "time": "2020-07-11T02:35:06.381Z",
    "type": "selectCodeCell"
   },
   {
    "param": "",
    "time": "2020-07-11T02:35:06.430Z",
    "type": "initWidget"
   },
   {
    "param": "",
    "time": "2020-07-11T02:35:06.799Z",
    "type": "initWidget"
   },
   {
    "param": "pandas",
    "time": "2020-07-11T02:35:34.035Z",
    "type": "toggleBtnClick"
   },
   {
    "param": "pandas",
    "time": "2020-07-11T02:35:34.040Z",
    "type": "toggleBtnClick"
   },
   {
    "code": "df.set_context([lux.Spec(attribute = \"Acceleration\"),lux.Spec(attribute = \"Horsepower\")])\ndf",
    "id": "8186a34508064c25875a673dcd27f0b7",
    "order_count": 6,
    "time": "2020-07-11T02:35:34.056Z",
    "type": "selectCodeCell"
   },
   {
    "code": "df.set_context([lux.Spec(attribute = \"Acceleration\"),lux.Spec(attribute = \"Horsepower\")])\ndf",
    "id": "8186a34508064c25875a673dcd27f0b7",
    "order_count": 6,
    "time": "2020-07-11T02:35:36.265Z",
    "type": "selectCodeCell"
   },
   {
    "code": "In the cell above, the Enhance shows that for all the added quantitative variables (shown as gradients of color), except MilesPerGal, the trend for the value is higher on the upper-left end, and value decreases towards the bottom-right.",
    "id": "3910f6638ebc4db48dfa571606cb48dd",
    "order_count": 7,
    "time": "2020-07-11T02:35:37.459Z",
    "type": "selectMarkdownCell"
   },
   {
    "code": "Let's look at what the MilesPerGal is like for different Cylinder cars.",
    "id": "8a0cfa62d54647ea9f7316058fd75869",
    "order_count": 8,
    "time": "2020-07-11T02:35:38.044Z",
    "type": "selectMarkdownCell"
   },
   {
    "code": "df.set_context([lux.Spec(attribute = \"Origin\")])\ndf",
    "id": "acc83ab6bce14919b42d706fc6d8f319",
    "order_count": 9,
    "time": "2020-07-11T02:35:38.802Z",
    "type": "selectCodeCell"
   },
   {
    "code": "df.set_context([lux.Spec(attribute = \"Origin\")])\ndf",
    "id": "acc83ab6bce14919b42d706fc6d8f319",
    "order_count": 9,
    "time": "2020-07-11T02:35:38.809Z",
    "type": "editCodeCell"
   },
   {
    "code": "df.set_context([lux.Spec(attribute = \"Origin\")])\ndf",
    "id": "acc83ab6bce14919b42d706fc6d8f319",
    "order_count": 9,
    "time": "2020-07-11T02:35:38.881Z",
    "type": "selectCodeCell"
   },
   {
    "code": "df.set_context([lux.Spec(attribute = \"Origin\")])\ndf",
    "id": "acc83ab6bce14919b42d706fc6d8f319",
    "order_count": 9,
    "time": "2020-07-11T02:35:40.100Z",
    "type": "executeCodeCell"
   },
   {
    "code": "import json\nprint(json.dumps(df.get_exported()[0].to_VegaLite(), indent=2))",
    "id": "b1308c83627d41a8811c685da200735a",
    "order_count": 10,
    "time": "2020-07-11T02:35:40.131Z",
    "type": "selectCodeCell"
   },
   {
    "id": "acc83ab6bce14919b42d706fc6d8f319",
    "isPrintLuxWidget": false,
    "isPrintPandas": true,
    "time": "2020-07-11T02:35:41.290Z",
    "type": "completeCodeCell"
   },
   {
    "code": "df.set_context([lux.Spec(attribute = \"Origin\")])\ndf",
    "id": "acc83ab6bce14919b42d706fc6d8f319",
    "order_count": 9,
    "time": "2020-07-11T02:35:42.954Z",
    "type": "selectCodeCell"
   },
   {
    "param": "",
    "time": "2020-07-11T02:35:42.983Z",
    "type": "initWidget"
   },
   {
    "param": "",
    "time": "2020-07-11T02:35:43.174Z",
    "type": "initWidget"
   },
   {
    "code": "import json\nprint(json.dumps(df.get_exported()[0].to_VegaLite(), indent=2))",
    "id": "b1308c83627d41a8811c685da200735a",
    "order_count": 10,
    "time": "2020-07-11T02:35:44.971Z",
    "type": "selectCodeCell"
   },
   {
    "code": "import json\nprint(json.dumps(df.get_exported()[0].to_VegaLite(), indent=2))",
    "id": "b1308c83627d41a8811c685da200735a",
    "order_count": null,
    "time": "2020-07-11T02:35:46.637Z",
    "type": "deleteCodeCell"
   },
   {
    "code": "print(df.get_exported()[0].to_Altair())",
    "id": "b2604842c82041789dd72625933a6925",
    "order_count": null,
    "time": "2020-07-11T02:35:47.476Z",
    "type": "deleteCodeCell"
   },
   {
    "code": "df.set_context([lux.Spec(attribute = \"Origin\")])\ndf",
    "id": "acc83ab6bce14919b42d706fc6d8f319",
    "order_count": 9,
    "time": "2020-07-11T02:36:05.187Z",
    "type": "selectCodeCell"
   },
   {
    "code": "df.set_context([lux.Spec(attribute = \"Origin\")])\ndf",
    "id": "acc83ab6bce14919b42d706fc6d8f319",
    "order_count": 9,
    "time": "2020-07-11T02:36:05.195Z",
    "type": "editCodeCell"
   },
   {
    "code": "df.set_context([lux.Spec(attribute = \"Origin\")])\ndf",
    "id": "acc83ab6bce14919b42d706fc6d8f319",
    "order_count": 9,
    "time": "2020-07-11T02:36:05.628Z",
    "type": "executeCodeCell"
   },
   {
    "code": "df.set_context([lux.Spec(attribute = \"Cylinders\"), lux.Spec(attribute = \"MilesPerGal\")])\ndf",
    "id": "0f1d8ff04c6c4376abe95fca13af5043",
    "order_count": 10,
    "time": "2020-07-11T02:36:05.660Z",
    "type": "selectCodeCell"
   },
   {
    "id": "acc83ab6bce14919b42d706fc6d8f319",
    "isPrintLuxWidget": false,
    "isPrintPandas": true,
    "time": "2020-07-11T02:36:06.831Z",
    "type": "completeCodeCell"
   },
   {
    "code": "df.set_context([lux.Spec(attribute = \"Origin\")])\ndf",
    "id": "acc83ab6bce14919b42d706fc6d8f319",
    "order_count": 9,
    "time": "2020-07-11T02:36:08.597Z",
    "type": "selectCodeCell"
   },
   {
    "param": "",
    "time": "2020-07-11T02:36:08.621Z",
    "type": "initWidget"
   },
   {
    "param": "",
    "time": "2020-07-11T02:36:08.797Z",
    "type": "initWidget"
   },
   {
    "code": "df.set_context([lux.Spec(attribute = \"Origin\")])\ndf",
    "id": "acc83ab6bce14919b42d706fc6d8f319",
    "order_count": 9,
    "time": "2020-07-11T02:36:23.711Z",
    "type": "selectCodeCell"
   },
   {
    "code": "df.set_context([lux.Spec(attribute = \"Origin\")])\ndf",
    "id": "acc83ab6bce14919b42d706fc6d8f319",
    "order_count": 9,
    "time": "2020-07-11T02:36:33.819Z",
    "type": "editCodeCell"
   },
   {
    "code": "df.set_context([lux.Spec(attribute = \"Cylinders\")])\ndf",
    "id": "acc83ab6bce14919b42d706fc6d8f319",
    "order_count": 9,
    "time": "2020-07-11T02:36:46.133Z",
    "type": "editCodeCell"
   },
   {
    "code": "df.set_context([lux.Spec(attribute = \"Cylinders\")])\ndf",
    "id": "acc83ab6bce14919b42d706fc6d8f319",
    "order_count": 9,
    "time": "2020-07-11T02:38:24.360Z",
    "type": "editCodeCell"
   },
   {
    "code": "df.set_context([lux.Spec(attribute = \"Cylinders\")])\ndf",
    "id": "acc83ab6bce14919b42d706fc6d8f319",
    "order_count": 9,
    "time": "2020-07-11T02:38:53.894Z",
    "type": "selectCodeCell"
   },
   {
    "param": {
     "index": 0,
     "tabTitle": "Enhance",
     "vis": {
      "$schema": "https://vega.github.io/schema/vega-lite/v4.8.1.json",
      "config": {
       "mark": {
        "tooltip": {
         "content": "encoding"
        }
       },
       "view": {
        "continuousHeight": 300,
        "continuousWidth": 400
       }
      },
      "data": {
       "name": "data-b459fb57984ecb8eda0efb044d6a3e1d"
      },
      "datasets": {
       "data-b459fb57984ecb8eda0efb044d6a3e1d": [
        {
         "Displacement": 109.63235294117646,
         "Origin": "Europe"
        },
        {
         "Displacement": 102.70886075949367,
         "Origin": "Japan"
        },
        {
         "Displacement": 247.5122448979592,
         "Origin": "USA"
        }
       ]
      },
      "encoding": {
       "x": {
        "field": "Displacement",
        "title": "Mean of Displacement",
        "type": "quantitative"
       },
       "y": {
        "axis": {
         "labelOverlap": true
        },
        "field": "Origin",
        "type": "nominal"
       }
      },
      "height": 150,
      "mark": "bar",
      "width": 160
     }
    },
    "time": "2020-07-11T02:38:53.897Z",
    "type": "clickVis"
   },
   {
    "code": "df.set_context([lux.Spec(attribute = \"Cylinders\")])\ndf",
    "id": "acc83ab6bce14919b42d706fc6d8f319",
    "order_count": 9,
    "time": "2020-07-11T02:38:56.496Z",
    "type": "selectCodeCell"
   },
   {
    "param": {
     "Enhance": [
      0
     ]
    },
    "time": "2020-07-11T02:38:56.498Z",
    "type": "exportBtnClick"
   },
   {
    "code": "df.set_context([lux.Spec(attribute = \"Cylinders\")])\ndf",
    "id": "acc83ab6bce14919b42d706fc6d8f319",
    "order_count": 9,
    "time": "2020-07-11T02:38:57.743Z",
    "type": "selectCodeCell"
   },
   {
    "code": "",
    "id": "a54a08d85678406a8c764d72d93dd899",
    "order_count": 10,
    "time": "2020-07-11T02:38:58.866Z",
    "type": "selectCodeCell"
   },
   {
    "code": "",
    "id": "a54a08d85678406a8c764d72d93dd899",
    "order_count": 10,
    "time": "2020-07-11T02:38:59.103Z",
    "type": "editCodeCell"
   },
   {
    "code": "df.get_exported()",
    "id": "a54a08d85678406a8c764d72d93dd899",
    "order_count": 10,
    "time": "2020-07-11T02:39:06.048Z",
    "type": "executeCodeCell"
   },
   {
    "code": "df.set_context([lux.Spec(attribute = \"Cylinders\"), lux.Spec(attribute = \"MilesPerGal\")])\ndf",
    "id": "0f1d8ff04c6c4376abe95fca13af5043",
    "order_count": 11,
    "time": "2020-07-11T02:39:06.082Z",
    "type": "selectCodeCell"
   },
   {
    "id": "a54a08d85678406a8c764d72d93dd899",
    "isPrintLuxWidget": false,
    "isPrintPandas": false,
    "time": "2020-07-11T02:39:06.107Z",
    "type": "completeCodeCell"
   },
   {
    "param": "",
    "time": "2020-07-11T02:39:06.125Z",
    "type": "initWidget"
   },
   {
    "code": "df.get_exported()",
    "id": "a54a08d85678406a8c764d72d93dd899",
    "order_count": 10,
    "time": "2020-07-11T02:39:06.967Z",
    "type": "selectCodeCell"
   }
  ],
  "kernelspec": {
   "display_name": "Python 3",
   "language": "python",
   "name": "python3"
  },
  "language_info": {
   "codemirror_mode": {
    "name": "ipython",
    "version": 3
   },
   "file_extension": ".py",
   "mimetype": "text/x-python",
   "name": "python",
   "nbconvert_exporter": "python",
   "pygments_lexer": "ipython3",
   "version": "3.7.7"
  }
 },
 "nbformat": 4,
 "nbformat_minor": 4
}
