{
 "cells": [
  {
   "cell_type": "code",
   "execution_count": 2,
   "metadata": {},
   "outputs": [
    {
     "name": "stdout",
     "output_type": "stream",
     "text": [
      "/Users/dorislee/Desktop/Research/lux/logger\n"
     ]
    }
   ],
   "source": [
    "cd .."
   ]
  },
  {
   "cell_type": "code",
   "execution_count": 3,
   "metadata": {},
   "outputs": [],
   "source": [
    "import pandas as pd\n",
    "import lux"
   ]
  },
  {
   "cell_type": "markdown",
   "metadata": {},
   "source": [
    "Load in a dataset of 392 different cars from 1970-1982:"
   ]
  },
  {
   "cell_type": "code",
   "execution_count": 4,
   "metadata": {},
   "outputs": [
    {
     "ename": "FileNotFoundError",
     "evalue": "[Errno 2] File lux/data/car.csv does not exist: 'lux/data/car.csv'",
     "output_type": "error",
     "traceback": [
      "\u001b[0;31m---------------------------------------------------------------------------\u001b[0m",
      "\u001b[0;31mFileNotFoundError\u001b[0m                         Traceback (most recent call last)",
      "\u001b[0;32m<ipython-input-4-76c65986fb4d>\u001b[0m in \u001b[0;36m<module>\u001b[0;34m\u001b[0m\n\u001b[0;32m----> 1\u001b[0;31m \u001b[0mdf\u001b[0m \u001b[0;34m=\u001b[0m \u001b[0mpd\u001b[0m\u001b[0;34m.\u001b[0m\u001b[0mread_csv\u001b[0m\u001b[0;34m(\u001b[0m\u001b[0;34m\"lux/data/car.csv\"\u001b[0m\u001b[0;34m)\u001b[0m\u001b[0;34m\u001b[0m\u001b[0;34m\u001b[0m\u001b[0m\n\u001b[0m\u001b[1;32m      2\u001b[0m \u001b[0;31m# df.set_executor_type(\"Pandas\")\u001b[0m\u001b[0;34m\u001b[0m\u001b[0;34m\u001b[0m\u001b[0;34m\u001b[0m\u001b[0m\n\u001b[1;32m      3\u001b[0m \u001b[0mdf\u001b[0m\u001b[0;34m[\u001b[0m\u001b[0;34m\"Year\"\u001b[0m\u001b[0;34m]\u001b[0m \u001b[0;34m=\u001b[0m \u001b[0mpd\u001b[0m\u001b[0;34m.\u001b[0m\u001b[0mto_datetime\u001b[0m\u001b[0;34m(\u001b[0m\u001b[0mdf\u001b[0m\u001b[0;34m[\u001b[0m\u001b[0;34m\"Year\"\u001b[0m\u001b[0;34m]\u001b[0m\u001b[0;34m,\u001b[0m \u001b[0mformat\u001b[0m\u001b[0;34m=\u001b[0m\u001b[0;34m'%Y'\u001b[0m\u001b[0;34m)\u001b[0m \u001b[0;31m# change pandas dtype for the column \"Year\" to datetype\u001b[0m\u001b[0;34m\u001b[0m\u001b[0;34m\u001b[0m\u001b[0m\n\u001b[1;32m      4\u001b[0m \u001b[0mdf\u001b[0m\u001b[0;34m.\u001b[0m\u001b[0mhead\u001b[0m\u001b[0;34m(\u001b[0m\u001b[0;34m)\u001b[0m\u001b[0;34m.\u001b[0m\u001b[0mto_pandas\u001b[0m\u001b[0;34m(\u001b[0m\u001b[0;34m)\u001b[0m\u001b[0;34m\u001b[0m\u001b[0;34m\u001b[0m\u001b[0m\n",
      "\u001b[0;32m~/.virtualenvs/lux/lib/python3.7/site-packages/pandas/io/parsers.py\u001b[0m in \u001b[0;36mparser_f\u001b[0;34m(filepath_or_buffer, sep, delimiter, header, names, index_col, usecols, squeeze, prefix, mangle_dupe_cols, dtype, engine, converters, true_values, false_values, skipinitialspace, skiprows, skipfooter, nrows, na_values, keep_default_na, na_filter, verbose, skip_blank_lines, parse_dates, infer_datetime_format, keep_date_col, date_parser, dayfirst, cache_dates, iterator, chunksize, compression, thousands, decimal, lineterminator, quotechar, quoting, doublequote, escapechar, comment, encoding, dialect, error_bad_lines, warn_bad_lines, delim_whitespace, low_memory, memory_map, float_precision)\u001b[0m\n\u001b[1;32m    674\u001b[0m         )\n\u001b[1;32m    675\u001b[0m \u001b[0;34m\u001b[0m\u001b[0m\n\u001b[0;32m--> 676\u001b[0;31m         \u001b[0;32mreturn\u001b[0m \u001b[0m_read\u001b[0m\u001b[0;34m(\u001b[0m\u001b[0mfilepath_or_buffer\u001b[0m\u001b[0;34m,\u001b[0m \u001b[0mkwds\u001b[0m\u001b[0;34m)\u001b[0m\u001b[0;34m\u001b[0m\u001b[0;34m\u001b[0m\u001b[0m\n\u001b[0m\u001b[1;32m    677\u001b[0m \u001b[0;34m\u001b[0m\u001b[0m\n\u001b[1;32m    678\u001b[0m     \u001b[0mparser_f\u001b[0m\u001b[0;34m.\u001b[0m\u001b[0m__name__\u001b[0m \u001b[0;34m=\u001b[0m \u001b[0mname\u001b[0m\u001b[0;34m\u001b[0m\u001b[0;34m\u001b[0m\u001b[0m\n",
      "\u001b[0;32m~/.virtualenvs/lux/lib/python3.7/site-packages/pandas/io/parsers.py\u001b[0m in \u001b[0;36m_read\u001b[0;34m(filepath_or_buffer, kwds)\u001b[0m\n\u001b[1;32m    446\u001b[0m \u001b[0;34m\u001b[0m\u001b[0m\n\u001b[1;32m    447\u001b[0m     \u001b[0;31m# Create the parser.\u001b[0m\u001b[0;34m\u001b[0m\u001b[0;34m\u001b[0m\u001b[0;34m\u001b[0m\u001b[0m\n\u001b[0;32m--> 448\u001b[0;31m     \u001b[0mparser\u001b[0m \u001b[0;34m=\u001b[0m \u001b[0mTextFileReader\u001b[0m\u001b[0;34m(\u001b[0m\u001b[0mfp_or_buf\u001b[0m\u001b[0;34m,\u001b[0m \u001b[0;34m**\u001b[0m\u001b[0mkwds\u001b[0m\u001b[0;34m)\u001b[0m\u001b[0;34m\u001b[0m\u001b[0;34m\u001b[0m\u001b[0m\n\u001b[0m\u001b[1;32m    449\u001b[0m \u001b[0;34m\u001b[0m\u001b[0m\n\u001b[1;32m    450\u001b[0m     \u001b[0;32mif\u001b[0m \u001b[0mchunksize\u001b[0m \u001b[0;32mor\u001b[0m \u001b[0miterator\u001b[0m\u001b[0;34m:\u001b[0m\u001b[0;34m\u001b[0m\u001b[0;34m\u001b[0m\u001b[0m\n",
      "\u001b[0;32m~/.virtualenvs/lux/lib/python3.7/site-packages/pandas/io/parsers.py\u001b[0m in \u001b[0;36m__init__\u001b[0;34m(self, f, engine, **kwds)\u001b[0m\n\u001b[1;32m    878\u001b[0m             \u001b[0mself\u001b[0m\u001b[0;34m.\u001b[0m\u001b[0moptions\u001b[0m\u001b[0;34m[\u001b[0m\u001b[0;34m\"has_index_names\"\u001b[0m\u001b[0;34m]\u001b[0m \u001b[0;34m=\u001b[0m \u001b[0mkwds\u001b[0m\u001b[0;34m[\u001b[0m\u001b[0;34m\"has_index_names\"\u001b[0m\u001b[0;34m]\u001b[0m\u001b[0;34m\u001b[0m\u001b[0;34m\u001b[0m\u001b[0m\n\u001b[1;32m    879\u001b[0m \u001b[0;34m\u001b[0m\u001b[0m\n\u001b[0;32m--> 880\u001b[0;31m         \u001b[0mself\u001b[0m\u001b[0;34m.\u001b[0m\u001b[0m_make_engine\u001b[0m\u001b[0;34m(\u001b[0m\u001b[0mself\u001b[0m\u001b[0;34m.\u001b[0m\u001b[0mengine\u001b[0m\u001b[0;34m)\u001b[0m\u001b[0;34m\u001b[0m\u001b[0;34m\u001b[0m\u001b[0m\n\u001b[0m\u001b[1;32m    881\u001b[0m \u001b[0;34m\u001b[0m\u001b[0m\n\u001b[1;32m    882\u001b[0m     \u001b[0;32mdef\u001b[0m \u001b[0mclose\u001b[0m\u001b[0;34m(\u001b[0m\u001b[0mself\u001b[0m\u001b[0;34m)\u001b[0m\u001b[0;34m:\u001b[0m\u001b[0;34m\u001b[0m\u001b[0;34m\u001b[0m\u001b[0m\n",
      "\u001b[0;32m~/.virtualenvs/lux/lib/python3.7/site-packages/pandas/io/parsers.py\u001b[0m in \u001b[0;36m_make_engine\u001b[0;34m(self, engine)\u001b[0m\n\u001b[1;32m   1112\u001b[0m     \u001b[0;32mdef\u001b[0m \u001b[0m_make_engine\u001b[0m\u001b[0;34m(\u001b[0m\u001b[0mself\u001b[0m\u001b[0;34m,\u001b[0m \u001b[0mengine\u001b[0m\u001b[0;34m=\u001b[0m\u001b[0;34m\"c\"\u001b[0m\u001b[0;34m)\u001b[0m\u001b[0;34m:\u001b[0m\u001b[0;34m\u001b[0m\u001b[0;34m\u001b[0m\u001b[0m\n\u001b[1;32m   1113\u001b[0m         \u001b[0;32mif\u001b[0m \u001b[0mengine\u001b[0m \u001b[0;34m==\u001b[0m \u001b[0;34m\"c\"\u001b[0m\u001b[0;34m:\u001b[0m\u001b[0;34m\u001b[0m\u001b[0;34m\u001b[0m\u001b[0m\n\u001b[0;32m-> 1114\u001b[0;31m             \u001b[0mself\u001b[0m\u001b[0;34m.\u001b[0m\u001b[0m_engine\u001b[0m \u001b[0;34m=\u001b[0m \u001b[0mCParserWrapper\u001b[0m\u001b[0;34m(\u001b[0m\u001b[0mself\u001b[0m\u001b[0;34m.\u001b[0m\u001b[0mf\u001b[0m\u001b[0;34m,\u001b[0m \u001b[0;34m**\u001b[0m\u001b[0mself\u001b[0m\u001b[0;34m.\u001b[0m\u001b[0moptions\u001b[0m\u001b[0;34m)\u001b[0m\u001b[0;34m\u001b[0m\u001b[0;34m\u001b[0m\u001b[0m\n\u001b[0m\u001b[1;32m   1115\u001b[0m         \u001b[0;32melse\u001b[0m\u001b[0;34m:\u001b[0m\u001b[0;34m\u001b[0m\u001b[0;34m\u001b[0m\u001b[0m\n\u001b[1;32m   1116\u001b[0m             \u001b[0;32mif\u001b[0m \u001b[0mengine\u001b[0m \u001b[0;34m==\u001b[0m \u001b[0;34m\"python\"\u001b[0m\u001b[0;34m:\u001b[0m\u001b[0;34m\u001b[0m\u001b[0;34m\u001b[0m\u001b[0m\n",
      "\u001b[0;32m~/.virtualenvs/lux/lib/python3.7/site-packages/pandas/io/parsers.py\u001b[0m in \u001b[0;36m__init__\u001b[0;34m(self, src, **kwds)\u001b[0m\n\u001b[1;32m   1889\u001b[0m         \u001b[0mkwds\u001b[0m\u001b[0;34m[\u001b[0m\u001b[0;34m\"usecols\"\u001b[0m\u001b[0;34m]\u001b[0m \u001b[0;34m=\u001b[0m \u001b[0mself\u001b[0m\u001b[0;34m.\u001b[0m\u001b[0musecols\u001b[0m\u001b[0;34m\u001b[0m\u001b[0;34m\u001b[0m\u001b[0m\n\u001b[1;32m   1890\u001b[0m \u001b[0;34m\u001b[0m\u001b[0m\n\u001b[0;32m-> 1891\u001b[0;31m         \u001b[0mself\u001b[0m\u001b[0;34m.\u001b[0m\u001b[0m_reader\u001b[0m \u001b[0;34m=\u001b[0m \u001b[0mparsers\u001b[0m\u001b[0;34m.\u001b[0m\u001b[0mTextReader\u001b[0m\u001b[0;34m(\u001b[0m\u001b[0msrc\u001b[0m\u001b[0;34m,\u001b[0m \u001b[0;34m**\u001b[0m\u001b[0mkwds\u001b[0m\u001b[0;34m)\u001b[0m\u001b[0;34m\u001b[0m\u001b[0;34m\u001b[0m\u001b[0m\n\u001b[0m\u001b[1;32m   1892\u001b[0m         \u001b[0mself\u001b[0m\u001b[0;34m.\u001b[0m\u001b[0munnamed_cols\u001b[0m \u001b[0;34m=\u001b[0m \u001b[0mself\u001b[0m\u001b[0;34m.\u001b[0m\u001b[0m_reader\u001b[0m\u001b[0;34m.\u001b[0m\u001b[0munnamed_cols\u001b[0m\u001b[0;34m\u001b[0m\u001b[0;34m\u001b[0m\u001b[0m\n\u001b[1;32m   1893\u001b[0m \u001b[0;34m\u001b[0m\u001b[0m\n",
      "\u001b[0;32mpandas/_libs/parsers.pyx\u001b[0m in \u001b[0;36mpandas._libs.parsers.TextReader.__cinit__\u001b[0;34m()\u001b[0m\n",
      "\u001b[0;32mpandas/_libs/parsers.pyx\u001b[0m in \u001b[0;36mpandas._libs.parsers.TextReader._setup_parser_source\u001b[0;34m()\u001b[0m\n",
      "\u001b[0;31mFileNotFoundError\u001b[0m: [Errno 2] File lux/data/car.csv does not exist: 'lux/data/car.csv'"
     ]
    }
   ],
   "source": [
    "df = pd.read_csv(\"lux/data/car.csv\")\n",
    "# df.set_executor_type(\"Pandas\")\n",
    "df[\"Year\"] = pd.to_datetime(df[\"Year\"], format='%Y') # change pandas dtype for the column \"Year\" to datetype\n",
    "df.head().to_pandas()"
   ]
  },
  {
   "cell_type": "code",
   "execution_count": null,
   "metadata": {
    "scrolled": false
   },
   "outputs": [],
   "source": [
    "df"
   ]
  },
  {
   "cell_type": "code",
   "execution_count": null,
   "metadata": {},
   "outputs": [],
   "source": [
    "df.set_default_display(\"lux\")"
   ]
  },
  {
   "cell_type": "code",
   "execution_count": 1,
   "metadata": {
    "scrolled": false
   },
   "outputs": [
    {
     "ename": "NameError",
     "evalue": "name 'df' is not defined",
     "output_type": "error",
     "traceback": [
      "\u001b[0;31m---------------------------------------------------------------------------\u001b[0m",
      "\u001b[0;31mNameError\u001b[0m                                 Traceback (most recent call last)",
      "\u001b[0;32m<ipython-input-1-00cf07b74dcd>\u001b[0m in \u001b[0;36m<module>\u001b[0;34m\u001b[0m\n\u001b[0;32m----> 1\u001b[0;31m \u001b[0mdf\u001b[0m\u001b[0;34m\u001b[0m\u001b[0;34m\u001b[0m\u001b[0m\n\u001b[0m",
      "\u001b[0;31mNameError\u001b[0m: name 'df' is not defined"
     ]
    }
   ],
   "source": [
    "df"
   ]
  },
  {
   "cell_type": "markdown",
   "metadata": {},
   "source": [
    "Intuitively, we expect cars with more horsepower means higher acceleration, but we are actually seeing the opposite of that trend.\n",
    "Let's learn more about whether there are additional factors that is affecting this relationship."
   ]
  },
  {
   "cell_type": "code",
   "execution_count": 7,
   "metadata": {},
   "outputs": [
    {
     "data": {
      "application/vnd.jupyter.widget-view+json": {
       "model_id": "d42d120d8cc04cb582c6d6ecce967b88",
       "version_major": 2,
       "version_minor": 0
      },
      "text/plain": [
       "Button(description='Toggle Pandas/Lux', layout=Layout(top='5px', width='140px'), style=ButtonStyle())"
      ]
     },
     "metadata": {},
     "output_type": "display_data"
    },
    {
     "data": {
      "application/vnd.jupyter.widget-view+json": {
       "model_id": "c99b86fc6c494996808949068dd85f58",
       "version_major": 2,
       "version_minor": 0
      },
      "text/plain": [
       "Output()"
      ]
     },
     "metadata": {},
     "output_type": "display_data"
    },
    {
     "data": {
      "text/plain": []
     },
     "execution_count": 7,
     "metadata": {},
     "output_type": "execute_result"
    }
   ],
   "source": [
    "df.set_context([lux.Spec(attribute = \"Acceleration\"),lux.Spec(attribute = \"Horsepower\")])\n",
    "df"
   ]
  },
  {
   "cell_type": "code",
   "execution_count": 8,
   "metadata": {},
   "outputs": [
    {
     "data": {
      "application/vnd.jupyter.widget-view+json": {
       "model_id": "570bcae13997495494ed6926bab687f7",
       "version_major": 2,
       "version_minor": 0
      },
      "text/plain": [
       "LuxWidget(recommendations=[{'action': 'View Collection', 'description': 'Shows a view collection defined by th…"
      ]
     },
     "metadata": {},
     "output_type": "display_data"
    },
    {
     "data": {
      "text/plain": [
       "[<View  (x: Acceleration, y: Horsepower, color: Origin) mark: scatter, score: 0.33 >]"
      ]
     },
     "execution_count": 8,
     "metadata": {},
     "output_type": "execute_result"
    }
   ],
   "source": [
    "df.get_exported()"
   ]
  },
  {
   "cell_type": "code",
   "execution_count": 9,
   "metadata": {},
   "outputs": [
    {
     "data": {
      "application/vnd.jupyter.widget-view+json": {
       "model_id": "ce0669cb23484df49ef57bcd4ef870eb",
       "version_major": 2,
       "version_minor": 0
      },
      "text/plain": [
       "LuxWidget(current_view={'config': {'view': {'continuousWidth': 400, 'continuousHeight': 300}, 'mark': {'toolti…"
      ]
     },
     "metadata": {},
     "output_type": "display_data"
    },
    {
     "data": {
      "text/plain": [
       "<View  (x: Acceleration, y: Horsepower, color: Origin) mark: scatter, score: 0.3333333333333333 >"
      ]
     },
     "execution_count": 9,
     "metadata": {},
     "output_type": "execute_result"
    }
   ],
   "source": [
    "view = df.get_exported()[0]\n",
    "view "
   ]
  },
  {
   "cell_type": "markdown",
   "metadata": {},
   "source": [
    "In the cell above, the Enhance shows that for all the added quantitative variables (shown as gradients of color), except MilesPerGal, the trend for the value is higher on the upper-left end, and value decreases towards the bottom-right."
   ]
  },
  {
   "cell_type": "markdown",
   "metadata": {},
   "source": [
    "Let's look at what the MilesPerGal is like for different Cylinder cars."
   ]
  },
  {
   "cell_type": "code",
   "execution_count": 11,
   "metadata": {},
   "outputs": [
    {
     "data": {
      "application/vnd.jupyter.widget-view+json": {
       "model_id": "a7e18ecf3ff74e6c8973fbf21d5918c5",
       "version_major": 2,
       "version_minor": 0
      },
      "text/plain": [
       "Button(description='Toggle Pandas/Lux', layout=Layout(top='5px', width='140px'), style=ButtonStyle())"
      ]
     },
     "metadata": {},
     "output_type": "display_data"
    },
    {
     "data": {
      "application/vnd.jupyter.widget-view+json": {
       "model_id": "d61064991857412f8d0fa08d5446ebc6",
       "version_major": 2,
       "version_minor": 0
      },
      "text/plain": [
       "Output()"
      ]
     },
     "metadata": {},
     "output_type": "display_data"
    },
    {
     "data": {
      "text/plain": []
     },
     "execution_count": 11,
     "metadata": {},
     "output_type": "execute_result"
    }
   ],
   "source": [
    "df.set_context([lux.Spec(attribute = \"Origin\")])\n",
    "df"
   ]
  },
  {
   "cell_type": "code",
   "execution_count": 12,
   "metadata": {},
   "outputs": [
    {
     "data": {
      "application/vnd.jupyter.widget-view+json": {
       "model_id": "ce59c162cf5f459f9409906dffd6afc8",
       "version_major": 2,
       "version_minor": 0
      },
      "text/plain": [
       "LuxWidget(recommendations=[{'action': 'View Collection', 'description': 'Shows a view collection defined by th…"
      ]
     },
     "metadata": {},
     "output_type": "display_data"
    },
    {
     "data": {
      "text/plain": [
       "[<View  (x: MEAN(Displacement), y: Origin) mark: bar, score: 0.03 >,\n",
       " <View  (x: MEAN(Horsepower)  , y: Origin) mark: bar, score: 0.01 >]"
      ]
     },
     "execution_count": 12,
     "metadata": {},
     "output_type": "execute_result"
    }
   ],
   "source": [
    "df.get_exported()"
   ]
  },
  {
   "cell_type": "code",
   "execution_count": null,
   "metadata": {},
   "outputs": [],
   "source": []
  }
 ],
 "metadata": {
  "history": [
   {
    "time": "2020-07-12T07:10:28.077Z",
    "type": "kernelReady"
   },
   {
    "time": "2020-07-12T07:10:32.231Z",
    "type": "kernelRestart"
   },
   {
    "code": "cd ..",
    "id": "51edfcf5d9d6483987dd16f10e9faf0d",
    "order_count": 0,
    "time": "2020-07-12T07:10:32.875Z",
    "type": "selectCodeCell"
   },
   {
    "time": "2020-07-12T07:10:32.940Z",
    "type": "kernelReady"
   },
   {
    "time": "2020-07-12T07:10:32.956Z",
    "type": "kernelReady"
   },
   {
    "code": "cd ..",
    "id": "51edfcf5d9d6483987dd16f10e9faf0d",
    "order_count": 0,
    "time": "2020-07-12T07:10:33.360Z",
    "type": "editCodeCell"
   },
   {
    "code": "cd ..",
    "id": "51edfcf5d9d6483987dd16f10e9faf0d",
    "order_count": 0,
    "time": "2020-07-12T07:10:33.435Z",
    "type": "selectCodeCell"
   },
   {
    "code": "cd ..",
    "id": "51edfcf5d9d6483987dd16f10e9faf0d",
    "order_count": 0,
    "time": "2020-07-12T07:10:38.929Z",
    "type": "editCodeCell"
   },
   {
    "code": "cd ..",
    "id": "51edfcf5d9d6483987dd16f10e9faf0d",
    "order_count": 0,
    "time": "2020-07-12T07:10:39.267Z",
    "type": "selectCodeCell"
   },
   {
    "code": "cd ..",
    "id": "51edfcf5d9d6483987dd16f10e9faf0d",
    "order_count": 0,
    "time": "2020-07-12T07:10:39.851Z",
    "type": "executeCodeCell"
   },
   {
    "code": "import pandas as pd\nimport lux",
    "id": "8c51ce7768ca40de88ed278d8b4793ad",
    "order_count": 1,
    "time": "2020-07-12T07:10:39.872Z",
    "type": "selectCodeCell"
   },
   {
    "id": "51edfcf5d9d6483987dd16f10e9faf0d",
    "isPrintLuxDf": false,
    "isPrintPandasDf": false,
    "isPrintView": false,
    "isPrintViewCollection": false,
    "time": "2020-07-12T07:10:39.879Z",
    "type": "completeCodeCell"
   },
   {
    "code": "import pandas as pd\nimport lux",
    "id": "8c51ce7768ca40de88ed278d8b4793ad",
    "order_count": 1,
    "time": "2020-07-12T07:10:40.256Z",
    "type": "executeCodeCell"
   },
   {
    "code": "Load in a dataset of 392 different cars from 1970-1982:",
    "id": "da7f2183e6fb42978b3585ea24c03a84",
    "order_count": 2,
    "time": "2020-07-12T07:10:40.263Z",
    "type": "selectMarkdownCell"
   },
   {
    "id": "8c51ce7768ca40de88ed278d8b4793ad",
    "isPrintLuxDf": false,
    "isPrintPandasDf": false,
    "isPrintView": false,
    "isPrintViewCollection": false,
    "time": "2020-07-12T07:10:40.569Z",
    "type": "completeCodeCell"
   },
   {
    "code": "df = pd.read_csv(\"lux/data/car.csv\")\n# df.set_executor_type(\"Pandas\")\ndf[\"Year\"] = pd.to_datetime(df[\"Year\"], format='%Y') # change pandas dtype for the column \"Year\" to datetype\ndf.head().to_pandas()",
    "id": "ddee4d330fab46958695f2508f27dff6",
    "order_count": 3,
    "time": "2020-07-12T07:10:40.877Z",
    "type": "selectCodeCell"
   },
   {
    "code": "df = pd.read_csv(\"lux/data/car.csv\")\n# df.set_executor_type(\"Pandas\")\ndf[\"Year\"] = pd.to_datetime(df[\"Year\"], format='%Y') # change pandas dtype for the column \"Year\" to datetype\ndf.head().to_pandas()",
    "id": "ddee4d330fab46958695f2508f27dff6",
    "order_count": 3,
    "time": "2020-07-12T07:10:41.368Z",
    "type": "executeCodeCell"
   },
   {
    "code": "df",
    "id": "6828c0270b5d4bcf8853677b8ae74f7d",
    "order_count": 4,
    "time": "2020-07-12T07:10:41.380Z",
    "type": "selectCodeCell"
   },
   {
    "id": "ddee4d330fab46958695f2508f27dff6",
    "isPrintLuxDf": false,
    "isPrintPandasDf": true,
    "isPrintView": false,
    "isPrintViewCollection": false,
    "time": "2020-07-12T07:10:41.425Z",
    "type": "completeCodeCell"
   },
   {
    "code": "df",
    "id": "6828c0270b5d4bcf8853677b8ae74f7d",
    "order_count": 4,
    "time": "2020-07-12T07:10:44.648Z",
    "type": "executeCodeCell"
   },
   {
    "code": "df.set_default_display(\"lux\")",
    "id": "93ebe0e18ef74efc9a90755baab47e2a",
    "order_count": 5,
    "time": "2020-07-12T07:10:44.660Z",
    "type": "selectCodeCell"
   },
   {
    "id": "6828c0270b5d4bcf8853677b8ae74f7d",
    "isPrintLuxDf": false,
    "isPrintPandasDf": true,
    "isPrintView": false,
    "isPrintViewCollection": false,
    "time": "2020-07-12T07:10:45.350Z",
    "type": "completeCodeCell"
   },
   {
    "code": "df",
    "id": "6828c0270b5d4bcf8853677b8ae74f7d",
    "order_count": 4,
    "time": "2020-07-12T07:10:47.542Z",
    "type": "selectCodeCell"
   },
   {
    "param": "",
    "time": "2020-07-12T07:10:47.573Z",
    "type": "initWidget"
   },
   {
    "param": "",
    "time": "2020-07-12T07:10:47.884Z",
    "type": "initWidget"
   },
   {
    "code": "df",
    "id": "6828c0270b5d4bcf8853677b8ae74f7d",
    "order_count": 4,
    "time": "2020-07-12T07:10:49.382Z",
    "type": "selectCodeCell"
   },
   {
    "param": "Distribution",
    "time": "2020-07-12T07:10:49.385Z",
    "type": "switchTab"
   },
   {
    "code": "df",
    "id": "6828c0270b5d4bcf8853677b8ae74f7d",
    "order_count": 4,
    "time": "2020-07-12T07:10:49.980Z",
    "type": "selectCodeCell"
   },
   {
    "param": "Category",
    "time": "2020-07-12T07:10:49.982Z",
    "type": "switchTab"
   },
   {
    "code": "df",
    "id": "6828c0270b5d4bcf8853677b8ae74f7d",
    "order_count": 4,
    "time": "2020-07-12T07:10:50.685Z",
    "type": "selectCodeCell"
   },
   {
    "param": "Temporal",
    "time": "2020-07-12T07:10:50.687Z",
    "type": "switchTab"
   },
   {
    "code": "df",
    "id": "6828c0270b5d4bcf8853677b8ae74f7d",
    "order_count": 4,
    "time": "2020-07-12T07:10:52.012Z",
    "type": "selectCodeCell"
   },
   {
    "param": "Correlation",
    "time": "2020-07-12T07:10:52.015Z",
    "type": "switchTab"
   },
   {
    "param": "Correlation",
    "time": "2020-07-12T07:10:53.749Z",
    "type": "startScroll"
   },
   {
    "param": "Correlation",
    "time": "2020-07-12T07:10:53.925Z",
    "type": "stopScroll"
   },
   {
    "param": "Correlation",
    "time": "2020-07-12T07:10:53.948Z",
    "type": "startScroll"
   },
   {
    "param": "Correlation",
    "time": "2020-07-12T07:10:54.458Z",
    "type": "stopScroll"
   },
   {
    "param": "Correlation",
    "time": "2020-07-12T07:10:54.464Z",
    "type": "startScroll"
   },
   {
    "param": "Correlation",
    "time": "2020-07-12T07:10:55.127Z",
    "type": "stopScroll"
   },
   {
    "param": "Correlation",
    "time": "2020-07-12T07:10:55.132Z",
    "type": "startScroll"
   },
   {
    "param": "Correlation",
    "time": "2020-07-12T07:10:55.860Z",
    "type": "stopScroll"
   },
   {
    "param": "Correlation",
    "time": "2020-07-12T07:10:55.866Z",
    "type": "startScroll"
   },
   {
    "param": "Correlation",
    "time": "2020-07-12T07:10:56.079Z",
    "type": "stopScroll"
   },
   {
    "param": "Correlation",
    "time": "2020-07-12T07:10:56.317Z",
    "type": "startScroll"
   },
   {
    "param": "Correlation",
    "time": "2020-07-12T07:10:56.782Z",
    "type": "stopScroll"
   },
   {
    "param": "Correlation",
    "time": "2020-07-12T07:10:56.824Z",
    "type": "startScroll"
   },
   {
    "param": "Correlation",
    "time": "2020-07-12T07:10:57.268Z",
    "type": "stopScroll"
   },
   {
    "param": "Correlation",
    "time": "2020-07-12T07:10:57.508Z",
    "type": "startScroll"
   },
   {
    "param": "Correlation",
    "time": "2020-07-12T07:10:58.022Z",
    "type": "stopScroll"
   },
   {
    "param": "Correlation",
    "time": "2020-07-12T07:10:58.075Z",
    "type": "startScroll"
   },
   {
    "param": "Correlation",
    "time": "2020-07-12T07:10:59.102Z",
    "type": "stopScroll"
   },
   {
    "param": "Correlation",
    "time": "2020-07-12T07:10:59.376Z",
    "type": "startScroll"
   },
   {
    "param": "Correlation",
    "time": "2020-07-12T07:10:59.873Z",
    "type": "stopScroll"
   },
   {
    "param": "Correlation",
    "time": "2020-07-12T07:10:59.910Z",
    "type": "startScroll"
   },
   {
    "param": "Correlation",
    "time": "2020-07-12T07:11:00.321Z",
    "type": "stopScroll"
   },
   {
    "param": "Correlation",
    "time": "2020-07-12T07:11:01.211Z",
    "type": "startScroll"
   },
   {
    "param": "Correlation",
    "time": "2020-07-12T07:11:01.807Z",
    "type": "stopScroll"
   },
   {
    "param": "Correlation",
    "time": "2020-07-12T07:11:03.164Z",
    "type": "startScroll"
   },
   {
    "param": "Correlation",
    "time": "2020-07-12T07:11:03.576Z",
    "type": "stopScroll"
   },
   {
    "param": "Correlation",
    "time": "2020-07-12T07:11:03.681Z",
    "type": "startScroll"
   },
   {
    "param": "Correlation",
    "time": "2020-07-12T07:11:03.742Z",
    "type": "stopScroll"
   },
   {
    "param": "Correlation",
    "time": "2020-07-12T07:11:04.079Z",
    "type": "startScroll"
   },
   {
    "param": "Correlation",
    "time": "2020-07-12T07:11:04.692Z",
    "type": "stopScroll"
   },
   {
    "param": "Correlation",
    "time": "2020-07-12T07:11:04.699Z",
    "type": "startScroll"
   },
   {
    "param": "Correlation",
    "time": "2020-07-12T07:11:05.579Z",
    "type": "stopScroll"
   },
   {
    "code": "df",
    "id": "6828c0270b5d4bcf8853677b8ae74f7d",
    "order_count": 4,
    "time": "2020-07-12T07:11:06.663Z",
    "type": "selectCodeCell"
   },
   {
    "param": "Distribution",
    "time": "2020-07-12T07:11:06.664Z",
    "type": "switchTab"
   },
   {
    "param": "Distribution",
    "time": "2020-07-12T07:11:08.308Z",
    "type": "startScroll"
   },
   {
    "param": "Distribution",
    "time": "2020-07-12T07:11:08.603Z",
    "type": "stopScroll"
   },
   {
    "param": "Distribution",
    "time": "2020-07-12T07:11:09.410Z",
    "type": "startScroll"
   },
   {
    "param": "Distribution",
    "time": "2020-07-12T07:11:09.638Z",
    "type": "stopScroll"
   },
   {
    "param": "Distribution",
    "time": "2020-07-12T07:11:11.011Z",
    "type": "startScroll"
   },
   {
    "param": "Distribution",
    "time": "2020-07-12T07:11:11.791Z",
    "type": "stopScroll"
   },
   {
    "code": "df.set_default_display(\"lux\")",
    "id": "93ebe0e18ef74efc9a90755baab47e2a",
    "order_count": 5,
    "time": "2020-07-12T07:11:16.404Z",
    "type": "selectCodeCell"
   },
   {
    "code": "df.set_default_display(\"lux\")",
    "id": "93ebe0e18ef74efc9a90755baab47e2a",
    "order_count": 5,
    "time": "2020-07-12T07:11:16.409Z",
    "type": "editCodeCell"
   },
   {
    "code": "df.set_default_display(\"lux\")",
    "id": "93ebe0e18ef74efc9a90755baab47e2a",
    "order_count": 5,
    "time": "2020-07-12T07:11:17.752Z",
    "type": "executeCodeCell"
   },
   {
    "code": "df",
    "id": "cb87e650a7924a61a8f287c77c7235ea",
    "order_count": 6,
    "time": "2020-07-12T07:11:17.775Z",
    "type": "selectCodeCell"
   },
   {
    "id": "93ebe0e18ef74efc9a90755baab47e2a",
    "isPrintLuxDf": false,
    "isPrintPandasDf": false,
    "isPrintView": false,
    "isPrintViewCollection": false,
    "time": "2020-07-12T07:11:17.782Z",
    "type": "completeCodeCell"
   },
   {
    "code": "df",
    "id": "cb87e650a7924a61a8f287c77c7235ea",
    "order_count": 6,
    "time": "2020-07-12T07:11:18.345Z",
    "type": "executeCodeCell"
   },
   {
    "code": "Intuitively, we expect cars with more horsepower means higher acceleration, but we are actually seeing the opposite of that trend.\nLet's learn more about whether there are additional factors that is affecting this relationship.",
    "id": "2dfa2a629e384c7081a351af0e5fb3fb",
    "order_count": 7,
    "time": "2020-07-12T07:11:18.351Z",
    "type": "selectMarkdownCell"
   },
   {
    "id": "cb87e650a7924a61a8f287c77c7235ea",
    "isPrintLuxDf": true,
    "isPrintPandasDf": false,
    "isPrintView": false,
    "isPrintViewCollection": false,
    "time": "2020-07-12T07:11:18.770Z",
    "type": "completeCodeCell"
   },
   {
    "param": "",
    "time": "2020-07-12T07:11:18.778Z",
    "type": "initWidget"
   },
   {
    "param": "",
    "time": "2020-07-12T07:11:18.936Z",
    "type": "initWidget"
   },
   {
    "code": "df.set_context([lux.Spec(attribute = \"Acceleration\"),lux.Spec(attribute = \"Horsepower\")])\ndf",
    "id": "31f9084286dc4b78bb7cbcd643cbc9ce",
    "order_count": 8,
    "time": "2020-07-12T07:11:36.936Z",
    "type": "selectCodeCell"
   },
   {
    "code": "df.set_context([lux.Spec(attribute = \"Acceleration\"),lux.Spec(attribute = \"Horsepower\")])\ndf",
    "id": "31f9084286dc4b78bb7cbcd643cbc9ce",
    "order_count": 8,
    "time": "2020-07-12T07:11:36.959Z",
    "type": "editCodeCell"
   },
   {
    "code": "df.set_context([lux.Spec(attribute = \"Acceleration\"),lux.Spec(attribute = \"Horsepower\")])\ndf",
    "id": "31f9084286dc4b78bb7cbcd643cbc9ce",
    "order_count": 8,
    "time": "2020-07-12T07:11:46.317Z",
    "type": "editCodeCell"
   },
   {
    "code": "df.set_context([lux.Spec(attribute = \"Acceleration\"),lux.Spec(attribute = \"Horsepower\")])\ndf",
    "id": "31f9084286dc4b78bb7cbcd643cbc9ce",
    "order_count": 8,
    "time": "2020-07-12T07:11:46.805Z",
    "type": "selectCodeCell"
   },
   {
    "code": "df.set_context([lux.Spec(attribute = \"Acceleration\"),lux.Spec(attribute = \"Horsepower\")])\ndf",
    "id": "31f9084286dc4b78bb7cbcd643cbc9ce",
    "order_count": 8,
    "time": "2020-07-12T07:11:47.085Z",
    "type": "editCodeCell"
   },
   {
    "code": "df.set_context([lux.Spec(attribute = \"Acceleration\"),lux.Spec(attribute = \"Horsepower\")])\ndf",
    "id": "31f9084286dc4b78bb7cbcd643cbc9ce",
    "order_count": 8,
    "time": "2020-07-12T07:11:47.956Z",
    "type": "executeCodeCell"
   },
   {
    "code": "In the cell above, the Enhance shows that for all the added quantitative variables (shown as gradients of color), except MilesPerGal, the trend for the value is higher on the upper-left end, and value decreases towards the bottom-right.",
    "id": "f9423e5a39b54de2801c637174dc04d0",
    "order_count": 9,
    "time": "2020-07-12T07:11:47.975Z",
    "type": "selectMarkdownCell"
   },
   {
    "id": "31f9084286dc4b78bb7cbcd643cbc9ce",
    "isPrintLuxDf": true,
    "isPrintPandasDf": false,
    "isPrintView": false,
    "isPrintViewCollection": false,
    "time": "2020-07-12T07:11:48.721Z",
    "type": "completeCodeCell"
   },
   {
    "param": "",
    "time": "2020-07-12T07:11:48.732Z",
    "type": "initWidget"
   },
   {
    "param": "",
    "time": "2020-07-12T07:11:49.042Z",
    "type": "initWidget"
   },
   {
    "code": "df.set_context([lux.Spec(attribute = \"Acceleration\"),lux.Spec(attribute = \"Horsepower\")])\ndf",
    "id": "31f9084286dc4b78bb7cbcd643cbc9ce",
    "order_count": 8,
    "time": "2020-07-12T07:11:59.427Z",
    "type": "selectCodeCell"
   },
   {
    "param": "Filter",
    "time": "2020-07-12T07:11:59.429Z",
    "type": "switchTab"
   },
   {
    "code": "df.set_context([lux.Spec(attribute = \"Acceleration\"),lux.Spec(attribute = \"Horsepower\")])\ndf",
    "id": "31f9084286dc4b78bb7cbcd643cbc9ce",
    "order_count": 8,
    "time": "2020-07-12T07:12:00.639Z",
    "type": "selectCodeCell"
   },
   {
    "param": "Generalize",
    "time": "2020-07-12T07:12:00.640Z",
    "type": "switchTab"
   },
   {
    "code": "df.set_context([lux.Spec(attribute = \"Acceleration\"),lux.Spec(attribute = \"Horsepower\")])\ndf",
    "id": "31f9084286dc4b78bb7cbcd643cbc9ce",
    "order_count": 8,
    "time": "2020-07-12T07:12:12.569Z",
    "type": "selectCodeCell"
   },
   {
    "param": "Enhance",
    "time": "2020-07-12T07:12:12.571Z",
    "type": "switchTab"
   },
   {
    "param": "Enhance",
    "time": "2020-07-12T07:12:14.560Z",
    "type": "startScroll"
   },
   {
    "param": "Enhance",
    "time": "2020-07-12T07:12:15.305Z",
    "type": "stopScroll"
   },
   {
    "param": "Enhance",
    "time": "2020-07-12T07:12:15.311Z",
    "type": "startScroll"
   },
   {
    "param": "Enhance",
    "time": "2020-07-12T07:12:15.823Z",
    "type": "stopScroll"
   },
   {
    "param": "Enhance",
    "time": "2020-07-12T07:12:16.297Z",
    "type": "startScroll"
   },
   {
    "param": "Enhance",
    "time": "2020-07-12T07:12:17.157Z",
    "type": "stopScroll"
   },
   {
    "param": "Enhance",
    "time": "2020-07-12T07:12:17.898Z",
    "type": "startScroll"
   },
   {
    "param": "Enhance",
    "time": "2020-07-12T07:12:18.475Z",
    "type": "stopScroll"
   },
   {
    "param": "Enhance",
    "time": "2020-07-12T07:12:19.115Z",
    "type": "startScroll"
   },
   {
    "param": "Enhance",
    "time": "2020-07-12T07:12:19.344Z",
    "type": "stopScroll"
   },
   {
    "param": "Enhance",
    "time": "2020-07-12T07:12:19.882Z",
    "type": "startScroll"
   },
   {
    "param": "Enhance",
    "time": "2020-07-12T07:12:20.401Z",
    "type": "stopScroll"
   },
   {
    "param": "Enhance",
    "time": "2020-07-12T07:12:20.550Z",
    "type": "startScroll"
   },
   {
    "param": "Enhance",
    "time": "2020-07-12T07:12:21.032Z",
    "type": "stopScroll"
   },
   {
    "param": "Enhance",
    "time": "2020-07-12T07:12:21.834Z",
    "type": "startScroll"
   },
   {
    "param": "Enhance",
    "time": "2020-07-12T07:12:22.335Z",
    "type": "stopScroll"
   },
   {
    "param": "Enhance",
    "time": "2020-07-12T07:12:22.391Z",
    "type": "startScroll"
   },
   {
    "param": "Enhance",
    "time": "2020-07-12T07:12:22.869Z",
    "type": "stopScroll"
   },
   {
    "param": "Enhance",
    "time": "2020-07-12T07:12:22.926Z",
    "type": "startScroll"
   },
   {
    "param": "Enhance",
    "time": "2020-07-12T07:12:23.684Z",
    "type": "stopScroll"
   },
   {
    "param": "Enhance",
    "time": "2020-07-12T07:12:23.709Z",
    "type": "startScroll"
   },
   {
    "param": "Enhance",
    "time": "2020-07-12T07:12:24.571Z",
    "type": "stopScroll"
   },
   {
    "param": "pandas",
    "time": "2020-07-12T07:12:33.253Z",
    "type": "toggleBtnClick"
   },
   {
    "param": "pandas",
    "time": "2020-07-12T07:12:33.259Z",
    "type": "toggleBtnClick"
   },
   {
    "code": "df.set_context([lux.Spec(attribute = \"Acceleration\"),lux.Spec(attribute = \"Horsepower\")])\ndf",
    "id": "31f9084286dc4b78bb7cbcd643cbc9ce",
    "order_count": 8,
    "time": "2020-07-12T07:12:33.267Z",
    "type": "selectCodeCell"
   },
   {
    "param": "lux",
    "time": "2020-07-12T07:12:37.875Z",
    "type": "toggleBtnClick"
   },
   {
    "param": "lux",
    "time": "2020-07-12T07:12:37.883Z",
    "type": "toggleBtnClick"
   },
   {
    "code": "df.set_context([lux.Spec(attribute = \"Acceleration\"),lux.Spec(attribute = \"Horsepower\")])\ndf",
    "id": "31f9084286dc4b78bb7cbcd643cbc9ce",
    "order_count": 8,
    "time": "2020-07-12T07:12:37.890Z",
    "type": "selectCodeCell"
   },
   {
    "param": "",
    "time": "2020-07-12T07:12:37.910Z",
    "type": "initWidget"
   },
   {
    "param": "",
    "time": "2020-07-12T07:12:38.157Z",
    "type": "initWidget"
   },
   {
    "code": "df.set_context([lux.Spec(attribute = \"Acceleration\"),lux.Spec(attribute = \"Horsepower\")])\ndf",
    "id": "31f9084286dc4b78bb7cbcd643cbc9ce",
    "order_count": 8,
    "time": "2020-07-12T07:12:52.041Z",
    "type": "selectCodeCell"
   },
   {
    "param": {
     "index": 0,
     "tabTitle": "Enhance",
     "vis": {
      "$schema": "https://vega.github.io/schema/vega-lite/v4.8.1.json",
      "config": {
       "mark": {
        "tooltip": {
         "content": "encoding"
        }
       },
       "view": {
        "continuousHeight": 300,
        "continuousWidth": 400
       }
      },
      "data": {
       "name": "data-9aec80917404170c20d0ca3f5e5ebe79"
      },
      "datasets": {
       "data-9aec80917404170c20d0ca3f5e5ebe79": [
        {
         "Acceleration": 12,
         "Horsepower": 130,
         "Origin": "USA"
        },
        {
         "Acceleration": 11.5,
         "Horsepower": 165,
         "Origin": "USA"
        },
        {
         "Acceleration": 11,
         "Horsepower": 150,
         "Origin": "USA"
        },
        {
         "Acceleration": 12,
         "Horsepower": 150,
         "Origin": "USA"
        },
        {
         "Acceleration": 10.5,
         "Horsepower": 140,
         "Origin": "USA"
        },
        {
         "Acceleration": 10,
         "Horsepower": 198,
         "Origin": "USA"
        },
        {
         "Acceleration": 9,
         "Horsepower": 220,
         "Origin": "USA"
        },
        {
         "Acceleration": 8.5,
         "Horsepower": 215,
         "Origin": "USA"
        },
        {
         "Acceleration": 10,
         "Horsepower": 225,
         "Origin": "USA"
        },
        {
         "Acceleration": 8.5,
         "Horsepower": 190,
         "Origin": "USA"
        },
        {
         "Acceleration": 10,
         "Horsepower": 170,
         "Origin": "USA"
        },
        {
         "Acceleration": 8,
         "Horsepower": 160,
         "Origin": "USA"
        },
        {
         "Acceleration": 9.5,
         "Horsepower": 150,
         "Origin": "USA"
        },
        {
         "Acceleration": 10,
         "Horsepower": 225,
         "Origin": "USA"
        },
        {
         "Acceleration": 15,
         "Horsepower": 95,
         "Origin": "Japan"
        },
        {
         "Acceleration": 15.5,
         "Horsepower": 95,
         "Origin": "USA"
        },
        {
         "Acceleration": 15.5,
         "Horsepower": 97,
         "Origin": "USA"
        },
        {
         "Acceleration": 16,
         "Horsepower": 85,
         "Origin": "USA"
        },
        {
         "Acceleration": 14.5,
         "Horsepower": 88,
         "Origin": "Japan"
        },
        {
         "Acceleration": 20.5,
         "Horsepower": 46,
         "Origin": "Europe"
        },
        {
         "Acceleration": 17.5,
         "Horsepower": 87,
         "Origin": "Europe"
        },
        {
         "Acceleration": 14.5,
         "Horsepower": 90,
         "Origin": "Europe"
        },
        {
         "Acceleration": 17.5,
         "Horsepower": 95,
         "Origin": "Europe"
        },
        {
         "Acceleration": 12.5,
         "Horsepower": 113,
         "Origin": "Europe"
        },
        {
         "Acceleration": 15,
         "Horsepower": 90,
         "Origin": "USA"
        },
        {
         "Acceleration": 14,
         "Horsepower": 215,
         "Origin": "USA"
        },
        {
         "Acceleration": 15,
         "Horsepower": 200,
         "Origin": "USA"
        },
        {
         "Acceleration": 13.5,
         "Horsepower": 210,
         "Origin": "USA"
        },
        {
         "Acceleration": 18.5,
         "Horsepower": 193,
         "Origin": "USA"
        },
        {
         "Acceleration": 14.5,
         "Horsepower": 88,
         "Origin": "Japan"
        },
        {
         "Acceleration": 15.5,
         "Horsepower": 90,
         "Origin": "USA"
        },
        {
         "Acceleration": 14,
         "Horsepower": 95,
         "Origin": "Japan"
        },
        {
         "Acceleration": 13,
         "Horsepower": 100,
         "Origin": "USA"
        },
        {
         "Acceleration": 15.5,
         "Horsepower": 105,
         "Origin": "USA"
        },
        {
         "Acceleration": 15.5,
         "Horsepower": 100,
         "Origin": "USA"
        },
        {
         "Acceleration": 15.5,
         "Horsepower": 88,
         "Origin": "USA"
        },
        {
         "Acceleration": 15.5,
         "Horsepower": 100,
         "Origin": "USA"
        },
        {
         "Acceleration": 12,
         "Horsepower": 165,
         "Origin": "USA"
        },
        {
         "Acceleration": 11.5,
         "Horsepower": 175,
         "Origin": "USA"
        },
        {
         "Acceleration": 13.5,
         "Horsepower": 153,
         "Origin": "USA"
        },
        {
         "Acceleration": 13,
         "Horsepower": 150,
         "Origin": "USA"
        },
        {
         "Acceleration": 11.5,
         "Horsepower": 180,
         "Origin": "USA"
        },
        {
         "Acceleration": 12,
         "Horsepower": 170,
         "Origin": "USA"
        },
        {
         "Acceleration": 12,
         "Horsepower": 175,
         "Origin": "USA"
        },
        {
         "Acceleration": 13.5,
         "Horsepower": 110,
         "Origin": "USA"
        },
        {
         "Acceleration": 19,
         "Horsepower": 72,
         "Origin": "USA"
        },
        {
         "Acceleration": 15,
         "Horsepower": 100,
         "Origin": "USA"
        },
        {
         "Acceleration": 14.5,
         "Horsepower": 88,
         "Origin": "USA"
        },
        {
         "Acceleration": 14,
         "Horsepower": 86,
         "Origin": "USA"
        },
        {
         "Acceleration": 14,
         "Horsepower": 90,
         "Origin": "Europe"
        },
        {
         "Acceleration": 19.5,
         "Horsepower": 70,
         "Origin": "Europe"
        },
        {
         "Acceleration": 14.5,
         "Horsepower": 76,
         "Origin": "Europe"
        },
        {
         "Acceleration": 19,
         "Horsepower": 65,
         "Origin": "Japan"
        },
        {
         "Acceleration": 18,
         "Horsepower": 69,
         "Origin": "Japan"
        },
        {
         "Acceleration": 19,
         "Horsepower": 60,
         "Origin": "Europe"
        },
        {
         "Acceleration": 20.5,
         "Horsepower": 70,
         "Origin": "USA"
        },
        {
         "Acceleration": 15.5,
         "Horsepower": 95,
         "Origin": "Japan"
        },
        {
         "Acceleration": 17,
         "Horsepower": 80,
         "Origin": "USA"
        },
        {
         "Acceleration": 23.5,
         "Horsepower": 54,
         "Origin": "Europe"
        },
        {
         "Acceleration": 19.5,
         "Horsepower": 90,
         "Origin": "USA"
        },
        {
         "Acceleration": 16.5,
         "Horsepower": 86,
         "Origin": "USA"
        },
        {
         "Acceleration": 12,
         "Horsepower": 165,
         "Origin": "USA"
        },
        {
         "Acceleration": 12,
         "Horsepower": 175,
         "Origin": "USA"
        },
        {
         "Acceleration": 13.5,
         "Horsepower": 150,
         "Origin": "USA"
        },
        {
         "Acceleration": 13,
         "Horsepower": 153,
         "Origin": "USA"
        },
        {
         "Acceleration": 11.5,
         "Horsepower": 150,
         "Origin": "USA"
        },
        {
         "Acceleration": 11,
         "Horsepower": 208,
         "Origin": "USA"
        },
        {
         "Acceleration": 13.5,
         "Horsepower": 155,
         "Origin": "USA"
        },
        {
         "Acceleration": 13.5,
         "Horsepower": 160,
         "Origin": "USA"
        },
        {
         "Acceleration": 12.5,
         "Horsepower": 190,
         "Origin": "USA"
        },
        {
         "Acceleration": 13.5,
         "Horsepower": 97,
         "Origin": "Japan"
        },
        {
         "Acceleration": 12.5,
         "Horsepower": 150,
         "Origin": "USA"
        },
        {
         "Acceleration": 14,
         "Horsepower": 130,
         "Origin": "USA"
        },
        {
         "Acceleration": 16,
         "Horsepower": 140,
         "Origin": "USA"
        },
        {
         "Acceleration": 14,
         "Horsepower": 150,
         "Origin": "USA"
        },
        {
         "Acceleration": 14.5,
         "Horsepower": 112,
         "Origin": "Europe"
        },
        {
         "Acceleration": 18,
         "Horsepower": 76,
         "Origin": "Europe"
        },
        {
         "Acceleration": 19.5,
         "Horsepower": 87,
         "Origin": "Europe"
        },
        {
         "Acceleration": 18,
         "Horsepower": 69,
         "Origin": "Europe"
        },
        {
         "Acceleration": 16,
         "Horsepower": 86,
         "Origin": "USA"
        },
        {
         "Acceleration": 17,
         "Horsepower": 92,
         "Origin": "Japan"
        },
        {
         "Acceleration": 14.5,
         "Horsepower": 97,
         "Origin": "Japan"
        },
        {
         "Acceleration": 15,
         "Horsepower": 80,
         "Origin": "USA"
        },
        {
         "Acceleration": 16.5,
         "Horsepower": 88,
         "Origin": "Japan"
        },
        {
         "Acceleration": 13,
         "Horsepower": 175,
         "Origin": "USA"
        },
        {
         "Acceleration": 11.5,
         "Horsepower": 150,
         "Origin": "USA"
        },
        {
         "Acceleration": 13,
         "Horsepower": 145,
         "Origin": "USA"
        },
        {
         "Acceleration": 14.5,
         "Horsepower": 137,
         "Origin": "USA"
        },
        {
         "Acceleration": 12.5,
         "Horsepower": 150,
         "Origin": "USA"
        },
        {
         "Acceleration": 11.5,
         "Horsepower": 198,
         "Origin": "USA"
        },
        {
         "Acceleration": 12,
         "Horsepower": 150,
         "Origin": "USA"
        },
        {
         "Acceleration": 13,
         "Horsepower": 158,
         "Origin": "USA"
        },
        {
         "Acceleration": 14.5,
         "Horsepower": 150,
         "Origin": "USA"
        },
        {
         "Acceleration": 11,
         "Horsepower": 215,
         "Origin": "USA"
        },
        {
         "Acceleration": 11,
         "Horsepower": 225,
         "Origin": "USA"
        },
        {
         "Acceleration": 11,
         "Horsepower": 175,
         "Origin": "USA"
        },
        {
         "Acceleration": 16.5,
         "Horsepower": 105,
         "Origin": "USA"
        },
        {
         "Acceleration": 18,
         "Horsepower": 100,
         "Origin": "USA"
        },
        {
         "Acceleration": 16,
         "Horsepower": 100,
         "Origin": "USA"
        },
        {
         "Acceleration": 16.5,
         "Horsepower": 88,
         "Origin": "USA"
        },
        {
         "Acceleration": 16,
         "Horsepower": 95,
         "Origin": "USA"
        },
        {
         "Acceleration": 21,
         "Horsepower": 46,
         "Origin": "Europe"
        },
        {
         "Acceleration": 14,
         "Horsepower": 150,
         "Origin": "USA"
        },
        {
         "Acceleration": 12.5,
         "Horsepower": 167,
         "Origin": "USA"
        },
        {
         "Acceleration": 13,
         "Horsepower": 170,
         "Origin": "USA"
        },
        {
         "Acceleration": 12.5,
         "Horsepower": 180,
         "Origin": "USA"
        },
        {
         "Acceleration": 15,
         "Horsepower": 100,
         "Origin": "USA"
        },
        {
         "Acceleration": 19,
         "Horsepower": 88,
         "Origin": "Japan"
        },
        {
         "Acceleration": 19.5,
         "Horsepower": 72,
         "Origin": "USA"
        },
        {
         "Acceleration": 16.5,
         "Horsepower": 94,
         "Origin": "Japan"
        },
        {
         "Acceleration": 13.5,
         "Horsepower": 90,
         "Origin": "Japan"
        },
        {
         "Acceleration": 18.5,
         "Horsepower": 85,
         "Origin": "USA"
        },
        {
         "Acceleration": 14,
         "Horsepower": 107,
         "Origin": "USA"
        },
        {
         "Acceleration": 15.5,
         "Horsepower": 90,
         "Origin": "Europe"
        },
        {
         "Acceleration": 13,
         "Horsepower": 145,
         "Origin": "USA"
        },
        {
         "Acceleration": 9.5,
         "Horsepower": 230,
         "Origin": "USA"
        },
        {
         "Acceleration": 19.5,
         "Horsepower": 49,
         "Origin": "Europe"
        },
        {
         "Acceleration": 15.5,
         "Horsepower": 75,
         "Origin": "Europe"
        },
        {
         "Acceleration": 14,
         "Horsepower": 91,
         "Origin": "Europe"
        },
        {
         "Acceleration": 15.5,
         "Horsepower": 112,
         "Origin": "Europe"
        },
        {
         "Acceleration": 11,
         "Horsepower": 150,
         "Origin": "USA"
        },
        {
         "Acceleration": 14,
         "Horsepower": 110,
         "Origin": "Europe"
        },
        {
         "Acceleration": 13.5,
         "Horsepower": 122,
         "Origin": "Japan"
        },
        {
         "Acceleration": 11,
         "Horsepower": 180,
         "Origin": "USA"
        },
        {
         "Acceleration": 16.5,
         "Horsepower": 95,
         "Origin": "USA"
        },
        {
         "Acceleration": 16,
         "Horsepower": 100,
         "Origin": "USA"
        },
        {
         "Acceleration": 17,
         "Horsepower": 100,
         "Origin": "USA"
        },
        {
         "Acceleration": 19,
         "Horsepower": 67,
         "Origin": "Japan"
        },
        {
         "Acceleration": 16.5,
         "Horsepower": 80,
         "Origin": "USA"
        },
        {
         "Acceleration": 21,
         "Horsepower": 65,
         "Origin": "Japan"
        },
        {
         "Acceleration": 17,
         "Horsepower": 75,
         "Origin": "USA"
        },
        {
         "Acceleration": 17,
         "Horsepower": 100,
         "Origin": "USA"
        },
        {
         "Acceleration": 18,
         "Horsepower": 110,
         "Origin": "USA"
        },
        {
         "Acceleration": 16.5,
         "Horsepower": 105,
         "Origin": "USA"
        },
        {
         "Acceleration": 14,
         "Horsepower": 140,
         "Origin": "USA"
        },
        {
         "Acceleration": 14.5,
         "Horsepower": 150,
         "Origin": "USA"
        },
        {
         "Acceleration": 13.5,
         "Horsepower": 150,
         "Origin": "USA"
        },
        {
         "Acceleration": 16,
         "Horsepower": 140,
         "Origin": "USA"
        },
        {
         "Acceleration": 15.5,
         "Horsepower": 150,
         "Origin": "USA"
        },
        {
         "Acceleration": 16.5,
         "Horsepower": 83,
         "Origin": "Europe"
        },
        {
         "Acceleration": 15.5,
         "Horsepower": 67,
         "Origin": "Europe"
        },
        {
         "Acceleration": 14.5,
         "Horsepower": 78,
         "Origin": "Europe"
        },
        {
         "Acceleration": 16.5,
         "Horsepower": 52,
         "Origin": "Japan"
        },
        {
         "Acceleration": 19,
         "Horsepower": 61,
         "Origin": "Japan"
        },
        {
         "Acceleration": 14.5,
         "Horsepower": 75,
         "Origin": "USA"
        },
        {
         "Acceleration": 15.5,
         "Horsepower": 75,
         "Origin": "Europe"
        },
        {
         "Acceleration": 14,
         "Horsepower": 75,
         "Origin": "Europe"
        },
        {
         "Acceleration": 15,
         "Horsepower": 97,
         "Origin": "Japan"
        },
        {
         "Acceleration": 15.5,
         "Horsepower": 93,
         "Origin": "Japan"
        },
        {
         "Acceleration": 16,
         "Horsepower": 67,
         "Origin": "Europe"
        },
        {
         "Acceleration": 16,
         "Horsepower": 95,
         "Origin": "USA"
        },
        {
         "Acceleration": 16,
         "Horsepower": 105,
         "Origin": "USA"
        },
        {
         "Acceleration": 21,
         "Horsepower": 72,
         "Origin": "USA"
        },
        {
         "Acceleration": 19.5,
         "Horsepower": 72,
         "Origin": "USA"
        },
        {
         "Acceleration": 11.5,
         "Horsepower": 170,
         "Origin": "USA"
        },
        {
         "Acceleration": 14,
         "Horsepower": 145,
         "Origin": "USA"
        },
        {
         "Acceleration": 14.5,
         "Horsepower": 150,
         "Origin": "USA"
        },
        {
         "Acceleration": 13.5,
         "Horsepower": 148,
         "Origin": "USA"
        },
        {
         "Acceleration": 21,
         "Horsepower": 110,
         "Origin": "USA"
        },
        {
         "Acceleration": 18.5,
         "Horsepower": 105,
         "Origin": "USA"
        },
        {
         "Acceleration": 19,
         "Horsepower": 110,
         "Origin": "USA"
        },
        {
         "Acceleration": 19,
         "Horsepower": 95,
         "Origin": "USA"
        },
        {
         "Acceleration": 15,
         "Horsepower": 110,
         "Origin": "USA"
        },
        {
         "Acceleration": 13.5,
         "Horsepower": 110,
         "Origin": "USA"
        },
        {
         "Acceleration": 12,
         "Horsepower": 129,
         "Origin": "USA"
        },
        {
         "Acceleration": 16,
         "Horsepower": 75,
         "Origin": "Japan"
        },
        {
         "Acceleration": 17,
         "Horsepower": 83,
         "Origin": "USA"
        },
        {
         "Acceleration": 16,
         "Horsepower": 100,
         "Origin": "USA"
        },
        {
         "Acceleration": 18.5,
         "Horsepower": 78,
         "Origin": "USA"
        },
        {
         "Acceleration": 13.5,
         "Horsepower": 96,
         "Origin": "Japan"
        },
        {
         "Acceleration": 16.5,
         "Horsepower": 71,
         "Origin": "Europe"
        },
        {
         "Acceleration": 17,
         "Horsepower": 97,
         "Origin": "Japan"
        },
        {
         "Acceleration": 14.5,
         "Horsepower": 97,
         "Origin": "USA"
        },
        {
         "Acceleration": 14,
         "Horsepower": 70,
         "Origin": "Europe"
        },
        {
         "Acceleration": 17,
         "Horsepower": 90,
         "Origin": "USA"
        },
        {
         "Acceleration": 15,
         "Horsepower": 95,
         "Origin": "Europe"
        },
        {
         "Acceleration": 17,
         "Horsepower": 88,
         "Origin": "Europe"
        },
        {
         "Acceleration": 14.5,
         "Horsepower": 98,
         "Origin": "Europe"
        },
        {
         "Acceleration": 13.5,
         "Horsepower": 115,
         "Origin": "Europe"
        },
        {
         "Acceleration": 17.5,
         "Horsepower": 53,
         "Origin": "Japan"
        },
        {
         "Acceleration": 15.5,
         "Horsepower": 86,
         "Origin": "Europe"
        },
        {
         "Acceleration": 16.9,
         "Horsepower": 81,
         "Origin": "Europe"
        },
        {
         "Acceleration": 14.9,
         "Horsepower": 92,
         "Origin": "USA"
        },
        {
         "Acceleration": 17.7,
         "Horsepower": 79,
         "Origin": "USA"
        },
        {
         "Acceleration": 15.3,
         "Horsepower": 83,
         "Origin": "Europe"
        },
        {
         "Acceleration": 13,
         "Horsepower": 140,
         "Origin": "USA"
        },
        {
         "Acceleration": 13,
         "Horsepower": 150,
         "Origin": "USA"
        },
        {
         "Acceleration": 13.9,
         "Horsepower": 120,
         "Origin": "USA"
        },
        {
         "Acceleration": 12.8,
         "Horsepower": 152,
         "Origin": "USA"
        },
        {
         "Acceleration": 15.4,
         "Horsepower": 100,
         "Origin": "USA"
        },
        {
         "Acceleration": 14.5,
         "Horsepower": 105,
         "Origin": "USA"
        },
        {
         "Acceleration": 17.6,
         "Horsepower": 81,
         "Origin": "USA"
        },
        {
         "Acceleration": 17.6,
         "Horsepower": 90,
         "Origin": "USA"
        },
        {
         "Acceleration": 22.2,
         "Horsepower": 52,
         "Origin": "USA"
        },
        {
         "Acceleration": 22.1,
         "Horsepower": 60,
         "Origin": "USA"
        },
        {
         "Acceleration": 14.2,
         "Horsepower": 70,
         "Origin": "Europe"
        },
        {
         "Acceleration": 17.4,
         "Horsepower": 53,
         "Origin": "Japan"
        },
        {
         "Acceleration": 17.7,
         "Horsepower": 100,
         "Origin": "USA"
        },
        {
         "Acceleration": 21,
         "Horsepower": 78,
         "Origin": "USA"
        },
        {
         "Acceleration": 16.2,
         "Horsepower": 110,
         "Origin": "USA"
        },
        {
         "Acceleration": 17.8,
         "Horsepower": 95,
         "Origin": "USA"
        },
        {
         "Acceleration": 12.2,
         "Horsepower": 71,
         "Origin": "Europe"
        },
        {
         "Acceleration": 17,
         "Horsepower": 70,
         "Origin": "Japan"
        },
        {
         "Acceleration": 16.4,
         "Horsepower": 75,
         "Origin": "Japan"
        },
        {
         "Acceleration": 13.6,
         "Horsepower": 72,
         "Origin": "USA"
        },
        {
         "Acceleration": 15.7,
         "Horsepower": 102,
         "Origin": "Europe"
        },
        {
         "Acceleration": 13.2,
         "Horsepower": 150,
         "Origin": "USA"
        },
        {
         "Acceleration": 21.9,
         "Horsepower": 88,
         "Origin": "Europe"
        },
        {
         "Acceleration": 15.5,
         "Horsepower": 108,
         "Origin": "Japan"
        },
        {
         "Acceleration": 16.7,
         "Horsepower": 120,
         "Origin": "Europe"
        },
        {
         "Acceleration": 12.1,
         "Horsepower": 180,
         "Origin": "USA"
        },
        {
         "Acceleration": 12,
         "Horsepower": 145,
         "Origin": "USA"
        },
        {
         "Acceleration": 15,
         "Horsepower": 130,
         "Origin": "USA"
        },
        {
         "Acceleration": 14,
         "Horsepower": 150,
         "Origin": "USA"
        },
        {
         "Acceleration": 18.5,
         "Horsepower": 68,
         "Origin": "Japan"
        },
        {
         "Acceleration": 14.8,
         "Horsepower": 80,
         "Origin": "USA"
        },
        {
         "Acceleration": 18.6,
         "Horsepower": 58,
         "Origin": "Europe"
        },
        {
         "Acceleration": 15.5,
         "Horsepower": 96,
         "Origin": "USA"
        },
        {
         "Acceleration": 16.8,
         "Horsepower": 70,
         "Origin": "Japan"
        },
        {
         "Acceleration": 12.5,
         "Horsepower": 145,
         "Origin": "USA"
        },
        {
         "Acceleration": 19,
         "Horsepower": 110,
         "Origin": "USA"
        },
        {
         "Acceleration": 13.7,
         "Horsepower": 145,
         "Origin": "USA"
        },
        {
         "Acceleration": 14.9,
         "Horsepower": 130,
         "Origin": "USA"
        },
        {
         "Acceleration": 16.4,
         "Horsepower": 110,
         "Origin": "USA"
        },
        {
         "Acceleration": 16.9,
         "Horsepower": 105,
         "Origin": "USA"
        },
        {
         "Acceleration": 17.7,
         "Horsepower": 100,
         "Origin": "USA"
        },
        {
         "Acceleration": 19,
         "Horsepower": 98,
         "Origin": "USA"
        },
        {
         "Acceleration": 11.1,
         "Horsepower": 180,
         "Origin": "USA"
        },
        {
         "Acceleration": 11.4,
         "Horsepower": 170,
         "Origin": "USA"
        },
        {
         "Acceleration": 12.2,
         "Horsepower": 190,
         "Origin": "USA"
        },
        {
         "Acceleration": 14.5,
         "Horsepower": 149,
         "Origin": "USA"
        },
        {
         "Acceleration": 14.5,
         "Horsepower": 78,
         "Origin": "Europe"
        },
        {
         "Acceleration": 16,
         "Horsepower": 88,
         "Origin": "USA"
        },
        {
         "Acceleration": 18.2,
         "Horsepower": 75,
         "Origin": "Japan"
        },
        {
         "Acceleration": 15.8,
         "Horsepower": 89,
         "Origin": "USA"
        },
        {
         "Acceleration": 17,
         "Horsepower": 63,
         "Origin": "USA"
        },
        {
         "Acceleration": 15.9,
         "Horsepower": 83,
         "Origin": "USA"
        },
        {
         "Acceleration": 16.4,
         "Horsepower": 67,
         "Origin": "Japan"
        },
        {
         "Acceleration": 14.1,
         "Horsepower": 78,
         "Origin": "Europe"
        },
        {
         "Acceleration": 14.5,
         "Horsepower": 97,
         "Origin": "Japan"
        },
        {
         "Acceleration": 12.8,
         "Horsepower": 110,
         "Origin": "Europe"
        },
        {
         "Acceleration": 13.5,
         "Horsepower": 110,
         "Origin": "Japan"
        },
        {
         "Acceleration": 21.5,
         "Horsepower": 48,
         "Origin": "Europe"
        },
        {
         "Acceleration": 14.4,
         "Horsepower": 66,
         "Origin": "USA"
        },
        {
         "Acceleration": 19.4,
         "Horsepower": 52,
         "Origin": "Japan"
        },
        {
         "Acceleration": 18.6,
         "Horsepower": 70,
         "Origin": "Japan"
        },
        {
         "Acceleration": 16.4,
         "Horsepower": 60,
         "Origin": "Japan"
        },
        {
         "Acceleration": 15.5,
         "Horsepower": 110,
         "Origin": "USA"
        },
        {
         "Acceleration": 13.2,
         "Horsepower": 140,
         "Origin": "USA"
        },
        {
         "Acceleration": 12.8,
         "Horsepower": 139,
         "Origin": "USA"
        },
        {
         "Acceleration": 19.2,
         "Horsepower": 105,
         "Origin": "USA"
        },
        {
         "Acceleration": 18.2,
         "Horsepower": 95,
         "Origin": "USA"
        },
        {
         "Acceleration": 15.8,
         "Horsepower": 85,
         "Origin": "USA"
        },
        {
         "Acceleration": 15.4,
         "Horsepower": 88,
         "Origin": "USA"
        },
        {
         "Acceleration": 17.2,
         "Horsepower": 100,
         "Origin": "USA"
        },
        {
         "Acceleration": 17.2,
         "Horsepower": 90,
         "Origin": "USA"
        },
        {
         "Acceleration": 15.8,
         "Horsepower": 105,
         "Origin": "USA"
        },
        {
         "Acceleration": 16.7,
         "Horsepower": 85,
         "Origin": "USA"
        },
        {
         "Acceleration": 18.7,
         "Horsepower": 110,
         "Origin": "USA"
        },
        {
         "Acceleration": 15.1,
         "Horsepower": 120,
         "Origin": "USA"
        },
        {
         "Acceleration": 13.2,
         "Horsepower": 145,
         "Origin": "USA"
        },
        {
         "Acceleration": 13.4,
         "Horsepower": 165,
         "Origin": "USA"
        },
        {
         "Acceleration": 11.2,
         "Horsepower": 139,
         "Origin": "USA"
        },
        {
         "Acceleration": 13.7,
         "Horsepower": 140,
         "Origin": "USA"
        },
        {
         "Acceleration": 16.5,
         "Horsepower": 68,
         "Origin": "USA"
        },
        {
         "Acceleration": 14.2,
         "Horsepower": 95,
         "Origin": "Japan"
        },
        {
         "Acceleration": 14.7,
         "Horsepower": 97,
         "Origin": "Japan"
        },
        {
         "Acceleration": 14.5,
         "Horsepower": 75,
         "Origin": "USA"
        },
        {
         "Acceleration": 14.8,
         "Horsepower": 95,
         "Origin": "Japan"
        },
        {
         "Acceleration": 16.7,
         "Horsepower": 105,
         "Origin": "USA"
        },
        {
         "Acceleration": 17.6,
         "Horsepower": 85,
         "Origin": "USA"
        },
        {
         "Acceleration": 14.9,
         "Horsepower": 97,
         "Origin": "Japan"
        },
        {
         "Acceleration": 15.9,
         "Horsepower": 103,
         "Origin": "Europe"
        },
        {
         "Acceleration": 13.6,
         "Horsepower": 125,
         "Origin": "Europe"
        },
        {
         "Acceleration": 15.7,
         "Horsepower": 115,
         "Origin": "Europe"
        },
        {
         "Acceleration": 15.8,
         "Horsepower": 133,
         "Origin": "Europe"
        },
        {
         "Acceleration": 14.9,
         "Horsepower": 71,
         "Origin": "Europe"
        },
        {
         "Acceleration": 16.6,
         "Horsepower": 68,
         "Origin": "Japan"
        },
        {
         "Acceleration": 15.4,
         "Horsepower": 115,
         "Origin": "USA"
        },
        {
         "Acceleration": 18.2,
         "Horsepower": 85,
         "Origin": "USA"
        },
        {
         "Acceleration": 17.3,
         "Horsepower": 88,
         "Origin": "USA"
        },
        {
         "Acceleration": 18.2,
         "Horsepower": 90,
         "Origin": "USA"
        },
        {
         "Acceleration": 16.6,
         "Horsepower": 110,
         "Origin": "USA"
        },
        {
         "Acceleration": 15.4,
         "Horsepower": 130,
         "Origin": "USA"
        },
        {
         "Acceleration": 13.4,
         "Horsepower": 129,
         "Origin": "USA"
        },
        {
         "Acceleration": 13.2,
         "Horsepower": 138,
         "Origin": "USA"
        },
        {
         "Acceleration": 15.2,
         "Horsepower": 135,
         "Origin": "USA"
        },
        {
         "Acceleration": 14.9,
         "Horsepower": 155,
         "Origin": "USA"
        },
        {
         "Acceleration": 14.3,
         "Horsepower": 142,
         "Origin": "USA"
        },
        {
         "Acceleration": 15,
         "Horsepower": 125,
         "Origin": "USA"
        },
        {
         "Acceleration": 13,
         "Horsepower": 150,
         "Origin": "USA"
        },
        {
         "Acceleration": 14,
         "Horsepower": 71,
         "Origin": "Europe"
        },
        {
         "Acceleration": 15.2,
         "Horsepower": 65,
         "Origin": "Japan"
        },
        {
         "Acceleration": 14.4,
         "Horsepower": 80,
         "Origin": "USA"
        },
        {
         "Acceleration": 15,
         "Horsepower": 80,
         "Origin": "USA"
        },
        {
         "Acceleration": 20.1,
         "Horsepower": 77,
         "Origin": "Europe"
        },
        {
         "Acceleration": 17.4,
         "Horsepower": 125,
         "Origin": "USA"
        },
        {
         "Acceleration": 24.8,
         "Horsepower": 71,
         "Origin": "Europe"
        },
        {
         "Acceleration": 22.2,
         "Horsepower": 90,
         "Origin": "USA"
        },
        {
         "Acceleration": 13.2,
         "Horsepower": 70,
         "Origin": "USA"
        },
        {
         "Acceleration": 14.9,
         "Horsepower": 70,
         "Origin": "USA"
        },
        {
         "Acceleration": 19.2,
         "Horsepower": 65,
         "Origin": "Japan"
        },
        {
         "Acceleration": 14.7,
         "Horsepower": 69,
         "Origin": "Europe"
        },
        {
         "Acceleration": 16,
         "Horsepower": 90,
         "Origin": "USA"
        },
        {
         "Acceleration": 11.3,
         "Horsepower": 115,
         "Origin": "USA"
        },
        {
         "Acceleration": 12.9,
         "Horsepower": 115,
         "Origin": "USA"
        },
        {
         "Acceleration": 13.2,
         "Horsepower": 90,
         "Origin": "USA"
        },
        {
         "Acceleration": 14.7,
         "Horsepower": 76,
         "Origin": "Europe"
        },
        {
         "Acceleration": 18.8,
         "Horsepower": 60,
         "Origin": "Japan"
        },
        {
         "Acceleration": 15.5,
         "Horsepower": 70,
         "Origin": "USA"
        },
        {
         "Acceleration": 16.4,
         "Horsepower": 65,
         "Origin": "Japan"
        },
        {
         "Acceleration": 16.5,
         "Horsepower": 90,
         "Origin": "USA"
        },
        {
         "Acceleration": 18.1,
         "Horsepower": 88,
         "Origin": "USA"
        },
        {
         "Acceleration": 20.1,
         "Horsepower": 90,
         "Origin": "USA"
        },
        {
         "Acceleration": 18.7,
         "Horsepower": 90,
         "Origin": "USA"
        },
        {
         "Acceleration": 15.8,
         "Horsepower": 78,
         "Origin": "Europe"
        },
        {
         "Acceleration": 15.5,
         "Horsepower": 90,
         "Origin": "Japan"
        },
        {
         "Acceleration": 17.5,
         "Horsepower": 75,
         "Origin": "Japan"
        },
        {
         "Acceleration": 15,
         "Horsepower": 92,
         "Origin": "Japan"
        },
        {
         "Acceleration": 15.2,
         "Horsepower": 75,
         "Origin": "Japan"
        },
        {
         "Acceleration": 17.9,
         "Horsepower": 65,
         "Origin": "Japan"
        },
        {
         "Acceleration": 14.4,
         "Horsepower": 105,
         "Origin": "USA"
        },
        {
         "Acceleration": 19.2,
         "Horsepower": 65,
         "Origin": "Japan"
        },
        {
         "Acceleration": 21.7,
         "Horsepower": 48,
         "Origin": "Europe"
        },
        {
         "Acceleration": 23.7,
         "Horsepower": 48,
         "Origin": "Europe"
        },
        {
         "Acceleration": 19.9,
         "Horsepower": 67,
         "Origin": "Europe"
        },
        {
         "Acceleration": 21.8,
         "Horsepower": 67,
         "Origin": "Europe"
        },
        {
         "Acceleration": 13.8,
         "Horsepower": 67,
         "Origin": "Japan"
        },
        {
         "Acceleration": 18,
         "Horsepower": 67,
         "Origin": "Japan"
        },
        {
         "Acceleration": 15.3,
         "Horsepower": 62,
         "Origin": "Europe"
        },
        {
         "Acceleration": 11.4,
         "Horsepower": 132,
         "Origin": "Japan"
        },
        {
         "Acceleration": 12.5,
         "Horsepower": 100,
         "Origin": "Japan"
        },
        {
         "Acceleration": 15.1,
         "Horsepower": 88,
         "Origin": "Europe"
        },
        {
         "Acceleration": 17,
         "Horsepower": 72,
         "Origin": "Japan"
        },
        {
         "Acceleration": 15.7,
         "Horsepower": 84,
         "Origin": "USA"
        },
        {
         "Acceleration": 16.4,
         "Horsepower": 84,
         "Origin": "USA"
        },
        {
         "Acceleration": 14.4,
         "Horsepower": 92,
         "Origin": "USA"
        },
        {
         "Acceleration": 12.6,
         "Horsepower": 110,
         "Origin": "USA"
        },
        {
         "Acceleration": 12.9,
         "Horsepower": 84,
         "Origin": "USA"
        },
        {
         "Acceleration": 16.9,
         "Horsepower": 58,
         "Origin": "Japan"
        },
        {
         "Acceleration": 16.4,
         "Horsepower": 64,
         "Origin": "USA"
        },
        {
         "Acceleration": 16.1,
         "Horsepower": 60,
         "Origin": "Japan"
        },
        {
         "Acceleration": 17.8,
         "Horsepower": 67,
         "Origin": "Japan"
        },
        {
         "Acceleration": 19.4,
         "Horsepower": 65,
         "Origin": "Japan"
        },
        {
         "Acceleration": 17.3,
         "Horsepower": 62,
         "Origin": "Japan"
        },
        {
         "Acceleration": 16,
         "Horsepower": 68,
         "Origin": "Japan"
        },
        {
         "Acceleration": 14.9,
         "Horsepower": 63,
         "Origin": "USA"
        },
        {
         "Acceleration": 16.2,
         "Horsepower": 65,
         "Origin": "USA"
        },
        {
         "Acceleration": 20.7,
         "Horsepower": 65,
         "Origin": "USA"
        },
        {
         "Acceleration": 14.2,
         "Horsepower": 74,
         "Origin": "Europe"
        },
        {
         "Acceleration": 14.4,
         "Horsepower": 75,
         "Origin": "Japan"
        },
        {
         "Acceleration": 16.8,
         "Horsepower": 75,
         "Origin": "Japan"
        },
        {
         "Acceleration": 14.8,
         "Horsepower": 100,
         "Origin": "Japan"
        },
        {
         "Acceleration": 18.3,
         "Horsepower": 74,
         "Origin": "Japan"
        },
        {
         "Acceleration": 20.4,
         "Horsepower": 80,
         "Origin": "Europe"
        },
        {
         "Acceleration": 19.6,
         "Horsepower": 76,
         "Origin": "Europe"
        },
        {
         "Acceleration": 12.6,
         "Horsepower": 116,
         "Origin": "Japan"
        },
        {
         "Acceleration": 13.8,
         "Horsepower": 120,
         "Origin": "Japan"
        },
        {
         "Acceleration": 15.8,
         "Horsepower": 110,
         "Origin": "USA"
        },
        {
         "Acceleration": 19,
         "Horsepower": 105,
         "Origin": "USA"
        },
        {
         "Acceleration": 17.1,
         "Horsepower": 88,
         "Origin": "USA"
        },
        {
         "Acceleration": 16.6,
         "Horsepower": 85,
         "Origin": "USA"
        },
        {
         "Acceleration": 19.6,
         "Horsepower": 88,
         "Origin": "USA"
        },
        {
         "Acceleration": 18.6,
         "Horsepower": 88,
         "Origin": "USA"
        },
        {
         "Acceleration": 18,
         "Horsepower": 88,
         "Origin": "USA"
        },
        {
         "Acceleration": 16.2,
         "Horsepower": 85,
         "Origin": "USA"
        },
        {
         "Acceleration": 16,
         "Horsepower": 84,
         "Origin": "USA"
        },
        {
         "Acceleration": 18,
         "Horsepower": 90,
         "Origin": "USA"
        },
        {
         "Acceleration": 16.4,
         "Horsepower": 92,
         "Origin": "USA"
        },
        {
         "Acceleration": 15.3,
         "Horsepower": 74,
         "Origin": "Europe"
        },
        {
         "Acceleration": 18.2,
         "Horsepower": 68,
         "Origin": "Japan"
        },
        {
         "Acceleration": 17.6,
         "Horsepower": 68,
         "Origin": "Japan"
        },
        {
         "Acceleration": 14.7,
         "Horsepower": 63,
         "Origin": "USA"
        },
        {
         "Acceleration": 17.3,
         "Horsepower": 70,
         "Origin": "USA"
        },
        {
         "Acceleration": 14.5,
         "Horsepower": 88,
         "Origin": "Japan"
        },
        {
         "Acceleration": 14.5,
         "Horsepower": 75,
         "Origin": "Japan"
        },
        {
         "Acceleration": 16.9,
         "Horsepower": 70,
         "Origin": "Japan"
        },
        {
         "Acceleration": 15,
         "Horsepower": 67,
         "Origin": "Japan"
        },
        {
         "Acceleration": 15.7,
         "Horsepower": 67,
         "Origin": "Japan"
        },
        {
         "Acceleration": 16.2,
         "Horsepower": 67,
         "Origin": "Japan"
        },
        {
         "Acceleration": 16.4,
         "Horsepower": 110,
         "Origin": "USA"
        },
        {
         "Acceleration": 17,
         "Horsepower": 85,
         "Origin": "USA"
        },
        {
         "Acceleration": 14.5,
         "Horsepower": 92,
         "Origin": "USA"
        },
        {
         "Acceleration": 14.7,
         "Horsepower": 112,
         "Origin": "USA"
        },
        {
         "Acceleration": 13.9,
         "Horsepower": 96,
         "Origin": "Japan"
        },
        {
         "Acceleration": 13,
         "Horsepower": 84,
         "Origin": "USA"
        },
        {
         "Acceleration": 17.3,
         "Horsepower": 90,
         "Origin": "USA"
        },
        {
         "Acceleration": 15.6,
         "Horsepower": 86,
         "Origin": "USA"
        },
        {
         "Acceleration": 24.6,
         "Horsepower": 52,
         "Origin": "Europe"
        },
        {
         "Acceleration": 11.6,
         "Horsepower": 84,
         "Origin": "USA"
        },
        {
         "Acceleration": 18.6,
         "Horsepower": 79,
         "Origin": "USA"
        },
        {
         "Acceleration": 19.4,
         "Horsepower": 82,
         "Origin": "USA"
        }
       ]
      },
      "encoding": {
       "color": {
        "field": "Origin",
        "type": "nominal"
       },
       "x": {
        "field": "Acceleration",
        "scale": {
         "domain": [
          8,
          24.8
         ]
        },
        "type": "quantitative"
       },
       "y": {
        "field": "Horsepower",
        "scale": {
         "domain": [
          46,
          230
         ]
        },
        "type": "quantitative"
       }
      },
      "height": 150,
      "mark": "circle",
      "selection": {
       "selector024": {
        "bind": "scales",
        "encodings": [
         "x",
         "y"
        ],
        "type": "interval"
       }
      },
      "width": 160
     }
    },
    "time": "2020-07-12T07:12:52.044Z",
    "type": "clickVis"
   },
   {
    "code": "df.set_context([lux.Spec(attribute = \"Acceleration\"),lux.Spec(attribute = \"Horsepower\")])\ndf",
    "id": "31f9084286dc4b78bb7cbcd643cbc9ce",
    "order_count": 8,
    "time": "2020-07-12T07:12:53.251Z",
    "type": "selectCodeCell"
   },
   {
    "param": {
     "index": 1,
     "tabTitle": "Enhance",
     "vis": {
      "$schema": "https://vega.github.io/schema/vega-lite/v4.8.1.json",
      "config": {
       "mark": {
        "tooltip": {
         "content": "encoding"
        }
       },
       "view": {
        "continuousHeight": 300,
        "continuousWidth": 400
       }
      },
      "data": {
       "name": "data-10d3d7d994c50c7610afe16e3efbf635"
      },
      "datasets": {
       "data-10d3d7d994c50c7610afe16e3efbf635": [
        {
         "Acceleration": 12,
         "Cylinders": 8,
         "Horsepower": 130
        },
        {
         "Acceleration": 11.5,
         "Cylinders": 8,
         "Horsepower": 165
        },
        {
         "Acceleration": 11,
         "Cylinders": 8,
         "Horsepower": 150
        },
        {
         "Acceleration": 12,
         "Cylinders": 8,
         "Horsepower": 150
        },
        {
         "Acceleration": 10.5,
         "Cylinders": 8,
         "Horsepower": 140
        },
        {
         "Acceleration": 10,
         "Cylinders": 8,
         "Horsepower": 198
        },
        {
         "Acceleration": 9,
         "Cylinders": 8,
         "Horsepower": 220
        },
        {
         "Acceleration": 8.5,
         "Cylinders": 8,
         "Horsepower": 215
        },
        {
         "Acceleration": 10,
         "Cylinders": 8,
         "Horsepower": 225
        },
        {
         "Acceleration": 8.5,
         "Cylinders": 8,
         "Horsepower": 190
        },
        {
         "Acceleration": 10,
         "Cylinders": 8,
         "Horsepower": 170
        },
        {
         "Acceleration": 8,
         "Cylinders": 8,
         "Horsepower": 160
        },
        {
         "Acceleration": 9.5,
         "Cylinders": 8,
         "Horsepower": 150
        },
        {
         "Acceleration": 10,
         "Cylinders": 8,
         "Horsepower": 225
        },
        {
         "Acceleration": 15,
         "Cylinders": 4,
         "Horsepower": 95
        },
        {
         "Acceleration": 15.5,
         "Cylinders": 6,
         "Horsepower": 95
        },
        {
         "Acceleration": 15.5,
         "Cylinders": 6,
         "Horsepower": 97
        },
        {
         "Acceleration": 16,
         "Cylinders": 6,
         "Horsepower": 85
        },
        {
         "Acceleration": 14.5,
         "Cylinders": 4,
         "Horsepower": 88
        },
        {
         "Acceleration": 20.5,
         "Cylinders": 4,
         "Horsepower": 46
        },
        {
         "Acceleration": 17.5,
         "Cylinders": 4,
         "Horsepower": 87
        },
        {
         "Acceleration": 14.5,
         "Cylinders": 4,
         "Horsepower": 90
        },
        {
         "Acceleration": 17.5,
         "Cylinders": 4,
         "Horsepower": 95
        },
        {
         "Acceleration": 12.5,
         "Cylinders": 4,
         "Horsepower": 113
        },
        {
         "Acceleration": 15,
         "Cylinders": 6,
         "Horsepower": 90
        },
        {
         "Acceleration": 14,
         "Cylinders": 8,
         "Horsepower": 215
        },
        {
         "Acceleration": 15,
         "Cylinders": 8,
         "Horsepower": 200
        },
        {
         "Acceleration": 13.5,
         "Cylinders": 8,
         "Horsepower": 210
        },
        {
         "Acceleration": 18.5,
         "Cylinders": 8,
         "Horsepower": 193
        },
        {
         "Acceleration": 14.5,
         "Cylinders": 4,
         "Horsepower": 88
        },
        {
         "Acceleration": 15.5,
         "Cylinders": 4,
         "Horsepower": 90
        },
        {
         "Acceleration": 14,
         "Cylinders": 4,
         "Horsepower": 95
        },
        {
         "Acceleration": 13,
         "Cylinders": 6,
         "Horsepower": 100
        },
        {
         "Acceleration": 15.5,
         "Cylinders": 6,
         "Horsepower": 105
        },
        {
         "Acceleration": 15.5,
         "Cylinders": 6,
         "Horsepower": 100
        },
        {
         "Acceleration": 15.5,
         "Cylinders": 6,
         "Horsepower": 88
        },
        {
         "Acceleration": 15.5,
         "Cylinders": 6,
         "Horsepower": 100
        },
        {
         "Acceleration": 12,
         "Cylinders": 8,
         "Horsepower": 165
        },
        {
         "Acceleration": 11.5,
         "Cylinders": 8,
         "Horsepower": 175
        },
        {
         "Acceleration": 13.5,
         "Cylinders": 8,
         "Horsepower": 153
        },
        {
         "Acceleration": 13,
         "Cylinders": 8,
         "Horsepower": 150
        },
        {
         "Acceleration": 11.5,
         "Cylinders": 8,
         "Horsepower": 180
        },
        {
         "Acceleration": 12,
         "Cylinders": 8,
         "Horsepower": 170
        },
        {
         "Acceleration": 12,
         "Cylinders": 8,
         "Horsepower": 175
        },
        {
         "Acceleration": 13.5,
         "Cylinders": 6,
         "Horsepower": 110
        },
        {
         "Acceleration": 19,
         "Cylinders": 4,
         "Horsepower": 72
        },
        {
         "Acceleration": 15,
         "Cylinders": 6,
         "Horsepower": 100
        },
        {
         "Acceleration": 14.5,
         "Cylinders": 6,
         "Horsepower": 88
        },
        {
         "Acceleration": 14,
         "Cylinders": 4,
         "Horsepower": 86
        },
        {
         "Acceleration": 14,
         "Cylinders": 4,
         "Horsepower": 90
        },
        {
         "Acceleration": 19.5,
         "Cylinders": 4,
         "Horsepower": 70
        },
        {
         "Acceleration": 14.5,
         "Cylinders": 4,
         "Horsepower": 76
        },
        {
         "Acceleration": 19,
         "Cylinders": 4,
         "Horsepower": 65
        },
        {
         "Acceleration": 18,
         "Cylinders": 4,
         "Horsepower": 69
        },
        {
         "Acceleration": 19,
         "Cylinders": 4,
         "Horsepower": 60
        },
        {
         "Acceleration": 20.5,
         "Cylinders": 4,
         "Horsepower": 70
        },
        {
         "Acceleration": 15.5,
         "Cylinders": 4,
         "Horsepower": 95
        },
        {
         "Acceleration": 17,
         "Cylinders": 4,
         "Horsepower": 80
        },
        {
         "Acceleration": 23.5,
         "Cylinders": 4,
         "Horsepower": 54
        },
        {
         "Acceleration": 19.5,
         "Cylinders": 4,
         "Horsepower": 90
        },
        {
         "Acceleration": 16.5,
         "Cylinders": 4,
         "Horsepower": 86
        },
        {
         "Acceleration": 12,
         "Cylinders": 8,
         "Horsepower": 165
        },
        {
         "Acceleration": 12,
         "Cylinders": 8,
         "Horsepower": 175
        },
        {
         "Acceleration": 13.5,
         "Cylinders": 8,
         "Horsepower": 150
        },
        {
         "Acceleration": 13,
         "Cylinders": 8,
         "Horsepower": 153
        },
        {
         "Acceleration": 11.5,
         "Cylinders": 8,
         "Horsepower": 150
        },
        {
         "Acceleration": 11,
         "Cylinders": 8,
         "Horsepower": 208
        },
        {
         "Acceleration": 13.5,
         "Cylinders": 8,
         "Horsepower": 155
        },
        {
         "Acceleration": 13.5,
         "Cylinders": 8,
         "Horsepower": 160
        },
        {
         "Acceleration": 12.5,
         "Cylinders": 8,
         "Horsepower": 190
        },
        {
         "Acceleration": 13.5,
         "Cylinders": 3,
         "Horsepower": 97
        },
        {
         "Acceleration": 12.5,
         "Cylinders": 8,
         "Horsepower": 150
        },
        {
         "Acceleration": 14,
         "Cylinders": 8,
         "Horsepower": 130
        },
        {
         "Acceleration": 16,
         "Cylinders": 8,
         "Horsepower": 140
        },
        {
         "Acceleration": 14,
         "Cylinders": 8,
         "Horsepower": 150
        },
        {
         "Acceleration": 14.5,
         "Cylinders": 4,
         "Horsepower": 112
        },
        {
         "Acceleration": 18,
         "Cylinders": 4,
         "Horsepower": 76
        },
        {
         "Acceleration": 19.5,
         "Cylinders": 4,
         "Horsepower": 87
        },
        {
         "Acceleration": 18,
         "Cylinders": 4,
         "Horsepower": 69
        },
        {
         "Acceleration": 16,
         "Cylinders": 4,
         "Horsepower": 86
        },
        {
         "Acceleration": 17,
         "Cylinders": 4,
         "Horsepower": 92
        },
        {
         "Acceleration": 14.5,
         "Cylinders": 4,
         "Horsepower": 97
        },
        {
         "Acceleration": 15,
         "Cylinders": 4,
         "Horsepower": 80
        },
        {
         "Acceleration": 16.5,
         "Cylinders": 4,
         "Horsepower": 88
        },
        {
         "Acceleration": 13,
         "Cylinders": 8,
         "Horsepower": 175
        },
        {
         "Acceleration": 11.5,
         "Cylinders": 8,
         "Horsepower": 150
        },
        {
         "Acceleration": 13,
         "Cylinders": 8,
         "Horsepower": 145
        },
        {
         "Acceleration": 14.5,
         "Cylinders": 8,
         "Horsepower": 137
        },
        {
         "Acceleration": 12.5,
         "Cylinders": 8,
         "Horsepower": 150
        },
        {
         "Acceleration": 11.5,
         "Cylinders": 8,
         "Horsepower": 198
        },
        {
         "Acceleration": 12,
         "Cylinders": 8,
         "Horsepower": 150
        },
        {
         "Acceleration": 13,
         "Cylinders": 8,
         "Horsepower": 158
        },
        {
         "Acceleration": 14.5,
         "Cylinders": 8,
         "Horsepower": 150
        },
        {
         "Acceleration": 11,
         "Cylinders": 8,
         "Horsepower": 215
        },
        {
         "Acceleration": 11,
         "Cylinders": 8,
         "Horsepower": 225
        },
        {
         "Acceleration": 11,
         "Cylinders": 8,
         "Horsepower": 175
        },
        {
         "Acceleration": 16.5,
         "Cylinders": 6,
         "Horsepower": 105
        },
        {
         "Acceleration": 18,
         "Cylinders": 6,
         "Horsepower": 100
        },
        {
         "Acceleration": 16,
         "Cylinders": 6,
         "Horsepower": 100
        },
        {
         "Acceleration": 16.5,
         "Cylinders": 6,
         "Horsepower": 88
        },
        {
         "Acceleration": 16,
         "Cylinders": 6,
         "Horsepower": 95
        },
        {
         "Acceleration": 21,
         "Cylinders": 4,
         "Horsepower": 46
        },
        {
         "Acceleration": 14,
         "Cylinders": 8,
         "Horsepower": 150
        },
        {
         "Acceleration": 12.5,
         "Cylinders": 8,
         "Horsepower": 167
        },
        {
         "Acceleration": 13,
         "Cylinders": 8,
         "Horsepower": 170
        },
        {
         "Acceleration": 12.5,
         "Cylinders": 8,
         "Horsepower": 180
        },
        {
         "Acceleration": 15,
         "Cylinders": 6,
         "Horsepower": 100
        },
        {
         "Acceleration": 19,
         "Cylinders": 4,
         "Horsepower": 88
        },
        {
         "Acceleration": 19.5,
         "Cylinders": 4,
         "Horsepower": 72
        },
        {
         "Acceleration": 16.5,
         "Cylinders": 4,
         "Horsepower": 94
        },
        {
         "Acceleration": 13.5,
         "Cylinders": 3,
         "Horsepower": 90
        },
        {
         "Acceleration": 18.5,
         "Cylinders": 4,
         "Horsepower": 85
        },
        {
         "Acceleration": 14,
         "Cylinders": 6,
         "Horsepower": 107
        },
        {
         "Acceleration": 15.5,
         "Cylinders": 4,
         "Horsepower": 90
        },
        {
         "Acceleration": 13,
         "Cylinders": 8,
         "Horsepower": 145
        },
        {
         "Acceleration": 9.5,
         "Cylinders": 8,
         "Horsepower": 230
        },
        {
         "Acceleration": 19.5,
         "Cylinders": 4,
         "Horsepower": 49
        },
        {
         "Acceleration": 15.5,
         "Cylinders": 4,
         "Horsepower": 75
        },
        {
         "Acceleration": 14,
         "Cylinders": 4,
         "Horsepower": 91
        },
        {
         "Acceleration": 15.5,
         "Cylinders": 4,
         "Horsepower": 112
        },
        {
         "Acceleration": 11,
         "Cylinders": 8,
         "Horsepower": 150
        },
        {
         "Acceleration": 14,
         "Cylinders": 4,
         "Horsepower": 110
        },
        {
         "Acceleration": 13.5,
         "Cylinders": 6,
         "Horsepower": 122
        },
        {
         "Acceleration": 11,
         "Cylinders": 8,
         "Horsepower": 180
        },
        {
         "Acceleration": 16.5,
         "Cylinders": 6,
         "Horsepower": 95
        },
        {
         "Acceleration": 16,
         "Cylinders": 6,
         "Horsepower": 100
        },
        {
         "Acceleration": 17,
         "Cylinders": 6,
         "Horsepower": 100
        },
        {
         "Acceleration": 19,
         "Cylinders": 4,
         "Horsepower": 67
        },
        {
         "Acceleration": 16.5,
         "Cylinders": 4,
         "Horsepower": 80
        },
        {
         "Acceleration": 21,
         "Cylinders": 4,
         "Horsepower": 65
        },
        {
         "Acceleration": 17,
         "Cylinders": 4,
         "Horsepower": 75
        },
        {
         "Acceleration": 17,
         "Cylinders": 6,
         "Horsepower": 100
        },
        {
         "Acceleration": 18,
         "Cylinders": 6,
         "Horsepower": 110
        },
        {
         "Acceleration": 16.5,
         "Cylinders": 6,
         "Horsepower": 105
        },
        {
         "Acceleration": 14,
         "Cylinders": 8,
         "Horsepower": 140
        },
        {
         "Acceleration": 14.5,
         "Cylinders": 8,
         "Horsepower": 150
        },
        {
         "Acceleration": 13.5,
         "Cylinders": 8,
         "Horsepower": 150
        },
        {
         "Acceleration": 16,
         "Cylinders": 8,
         "Horsepower": 140
        },
        {
         "Acceleration": 15.5,
         "Cylinders": 8,
         "Horsepower": 150
        },
        {
         "Acceleration": 16.5,
         "Cylinders": 4,
         "Horsepower": 83
        },
        {
         "Acceleration": 15.5,
         "Cylinders": 4,
         "Horsepower": 67
        },
        {
         "Acceleration": 14.5,
         "Cylinders": 4,
         "Horsepower": 78
        },
        {
         "Acceleration": 16.5,
         "Cylinders": 4,
         "Horsepower": 52
        },
        {
         "Acceleration": 19,
         "Cylinders": 4,
         "Horsepower": 61
        },
        {
         "Acceleration": 14.5,
         "Cylinders": 4,
         "Horsepower": 75
        },
        {
         "Acceleration": 15.5,
         "Cylinders": 4,
         "Horsepower": 75
        },
        {
         "Acceleration": 14,
         "Cylinders": 4,
         "Horsepower": 75
        },
        {
         "Acceleration": 15,
         "Cylinders": 4,
         "Horsepower": 97
        },
        {
         "Acceleration": 15.5,
         "Cylinders": 4,
         "Horsepower": 93
        },
        {
         "Acceleration": 16,
         "Cylinders": 4,
         "Horsepower": 67
        },
        {
         "Acceleration": 16,
         "Cylinders": 6,
         "Horsepower": 95
        },
        {
         "Acceleration": 16,
         "Cylinders": 6,
         "Horsepower": 105
        },
        {
         "Acceleration": 21,
         "Cylinders": 6,
         "Horsepower": 72
        },
        {
         "Acceleration": 19.5,
         "Cylinders": 6,
         "Horsepower": 72
        },
        {
         "Acceleration": 11.5,
         "Cylinders": 8,
         "Horsepower": 170
        },
        {
         "Acceleration": 14,
         "Cylinders": 8,
         "Horsepower": 145
        },
        {
         "Acceleration": 14.5,
         "Cylinders": 8,
         "Horsepower": 150
        },
        {
         "Acceleration": 13.5,
         "Cylinders": 8,
         "Horsepower": 148
        },
        {
         "Acceleration": 21,
         "Cylinders": 6,
         "Horsepower": 110
        },
        {
         "Acceleration": 18.5,
         "Cylinders": 6,
         "Horsepower": 105
        },
        {
         "Acceleration": 19,
         "Cylinders": 6,
         "Horsepower": 110
        },
        {
         "Acceleration": 19,
         "Cylinders": 6,
         "Horsepower": 95
        },
        {
         "Acceleration": 15,
         "Cylinders": 6,
         "Horsepower": 110
        },
        {
         "Acceleration": 13.5,
         "Cylinders": 8,
         "Horsepower": 110
        },
        {
         "Acceleration": 12,
         "Cylinders": 8,
         "Horsepower": 129
        },
        {
         "Acceleration": 16,
         "Cylinders": 4,
         "Horsepower": 75
        },
        {
         "Acceleration": 17,
         "Cylinders": 4,
         "Horsepower": 83
        },
        {
         "Acceleration": 16,
         "Cylinders": 6,
         "Horsepower": 100
        },
        {
         "Acceleration": 18.5,
         "Cylinders": 4,
         "Horsepower": 78
        },
        {
         "Acceleration": 13.5,
         "Cylinders": 4,
         "Horsepower": 96
        },
        {
         "Acceleration": 16.5,
         "Cylinders": 4,
         "Horsepower": 71
        },
        {
         "Acceleration": 17,
         "Cylinders": 4,
         "Horsepower": 97
        },
        {
         "Acceleration": 14.5,
         "Cylinders": 6,
         "Horsepower": 97
        },
        {
         "Acceleration": 14,
         "Cylinders": 4,
         "Horsepower": 70
        },
        {
         "Acceleration": 17,
         "Cylinders": 6,
         "Horsepower": 90
        },
        {
         "Acceleration": 15,
         "Cylinders": 4,
         "Horsepower": 95
        },
        {
         "Acceleration": 17,
         "Cylinders": 4,
         "Horsepower": 88
        },
        {
         "Acceleration": 14.5,
         "Cylinders": 4,
         "Horsepower": 98
        },
        {
         "Acceleration": 13.5,
         "Cylinders": 4,
         "Horsepower": 115
        },
        {
         "Acceleration": 17.5,
         "Cylinders": 4,
         "Horsepower": 53
        },
        {
         "Acceleration": 15.5,
         "Cylinders": 4,
         "Horsepower": 86
        },
        {
         "Acceleration": 16.9,
         "Cylinders": 4,
         "Horsepower": 81
        },
        {
         "Acceleration": 14.9,
         "Cylinders": 4,
         "Horsepower": 92
        },
        {
         "Acceleration": 17.7,
         "Cylinders": 4,
         "Horsepower": 79
        },
        {
         "Acceleration": 15.3,
         "Cylinders": 4,
         "Horsepower": 83
        },
        {
         "Acceleration": 13,
         "Cylinders": 8,
         "Horsepower": 140
        },
        {
         "Acceleration": 13,
         "Cylinders": 8,
         "Horsepower": 150
        },
        {
         "Acceleration": 13.9,
         "Cylinders": 8,
         "Horsepower": 120
        },
        {
         "Acceleration": 12.8,
         "Cylinders": 8,
         "Horsepower": 152
        },
        {
         "Acceleration": 15.4,
         "Cylinders": 6,
         "Horsepower": 100
        },
        {
         "Acceleration": 14.5,
         "Cylinders": 6,
         "Horsepower": 105
        },
        {
         "Acceleration": 17.6,
         "Cylinders": 6,
         "Horsepower": 81
        },
        {
         "Acceleration": 17.6,
         "Cylinders": 6,
         "Horsepower": 90
        },
        {
         "Acceleration": 22.2,
         "Cylinders": 4,
         "Horsepower": 52
        },
        {
         "Acceleration": 22.1,
         "Cylinders": 4,
         "Horsepower": 60
        },
        {
         "Acceleration": 14.2,
         "Cylinders": 4,
         "Horsepower": 70
        },
        {
         "Acceleration": 17.4,
         "Cylinders": 4,
         "Horsepower": 53
        },
        {
         "Acceleration": 17.7,
         "Cylinders": 6,
         "Horsepower": 100
        },
        {
         "Acceleration": 21,
         "Cylinders": 6,
         "Horsepower": 78
        },
        {
         "Acceleration": 16.2,
         "Cylinders": 6,
         "Horsepower": 110
        },
        {
         "Acceleration": 17.8,
         "Cylinders": 6,
         "Horsepower": 95
        },
        {
         "Acceleration": 12.2,
         "Cylinders": 4,
         "Horsepower": 71
        },
        {
         "Acceleration": 17,
         "Cylinders": 4,
         "Horsepower": 70
        },
        {
         "Acceleration": 16.4,
         "Cylinders": 4,
         "Horsepower": 75
        },
        {
         "Acceleration": 13.6,
         "Cylinders": 4,
         "Horsepower": 72
        },
        {
         "Acceleration": 15.7,
         "Cylinders": 4,
         "Horsepower": 102
        },
        {
         "Acceleration": 13.2,
         "Cylinders": 8,
         "Horsepower": 150
        },
        {
         "Acceleration": 21.9,
         "Cylinders": 4,
         "Horsepower": 88
        },
        {
         "Acceleration": 15.5,
         "Cylinders": 6,
         "Horsepower": 108
        },
        {
         "Acceleration": 16.7,
         "Cylinders": 6,
         "Horsepower": 120
        },
        {
         "Acceleration": 12.1,
         "Cylinders": 8,
         "Horsepower": 180
        },
        {
         "Acceleration": 12,
         "Cylinders": 8,
         "Horsepower": 145
        },
        {
         "Acceleration": 15,
         "Cylinders": 8,
         "Horsepower": 130
        },
        {
         "Acceleration": 14,
         "Cylinders": 8,
         "Horsepower": 150
        },
        {
         "Acceleration": 18.5,
         "Cylinders": 4,
         "Horsepower": 68
        },
        {
         "Acceleration": 14.8,
         "Cylinders": 4,
         "Horsepower": 80
        },
        {
         "Acceleration": 18.6,
         "Cylinders": 4,
         "Horsepower": 58
        },
        {
         "Acceleration": 15.5,
         "Cylinders": 4,
         "Horsepower": 96
        },
        {
         "Acceleration": 16.8,
         "Cylinders": 4,
         "Horsepower": 70
        },
        {
         "Acceleration": 12.5,
         "Cylinders": 8,
         "Horsepower": 145
        },
        {
         "Acceleration": 19,
         "Cylinders": 8,
         "Horsepower": 110
        },
        {
         "Acceleration": 13.7,
         "Cylinders": 8,
         "Horsepower": 145
        },
        {
         "Acceleration": 14.9,
         "Cylinders": 8,
         "Horsepower": 130
        },
        {
         "Acceleration": 16.4,
         "Cylinders": 6,
         "Horsepower": 110
        },
        {
         "Acceleration": 16.9,
         "Cylinders": 6,
         "Horsepower": 105
        },
        {
         "Acceleration": 17.7,
         "Cylinders": 6,
         "Horsepower": 100
        },
        {
         "Acceleration": 19,
         "Cylinders": 6,
         "Horsepower": 98
        },
        {
         "Acceleration": 11.1,
         "Cylinders": 8,
         "Horsepower": 180
        },
        {
         "Acceleration": 11.4,
         "Cylinders": 8,
         "Horsepower": 170
        },
        {
         "Acceleration": 12.2,
         "Cylinders": 8,
         "Horsepower": 190
        },
        {
         "Acceleration": 14.5,
         "Cylinders": 8,
         "Horsepower": 149
        },
        {
         "Acceleration": 14.5,
         "Cylinders": 4,
         "Horsepower": 78
        },
        {
         "Acceleration": 16,
         "Cylinders": 4,
         "Horsepower": 88
        },
        {
         "Acceleration": 18.2,
         "Cylinders": 4,
         "Horsepower": 75
        },
        {
         "Acceleration": 15.8,
         "Cylinders": 4,
         "Horsepower": 89
        },
        {
         "Acceleration": 17,
         "Cylinders": 4,
         "Horsepower": 63
        },
        {
         "Acceleration": 15.9,
         "Cylinders": 4,
         "Horsepower": 83
        },
        {
         "Acceleration": 16.4,
         "Cylinders": 4,
         "Horsepower": 67
        },
        {
         "Acceleration": 14.1,
         "Cylinders": 4,
         "Horsepower": 78
        },
        {
         "Acceleration": 14.5,
         "Cylinders": 6,
         "Horsepower": 97
        },
        {
         "Acceleration": 12.8,
         "Cylinders": 4,
         "Horsepower": 110
        },
        {
         "Acceleration": 13.5,
         "Cylinders": 3,
         "Horsepower": 110
        },
        {
         "Acceleration": 21.5,
         "Cylinders": 4,
         "Horsepower": 48
        },
        {
         "Acceleration": 14.4,
         "Cylinders": 4,
         "Horsepower": 66
        },
        {
         "Acceleration": 19.4,
         "Cylinders": 4,
         "Horsepower": 52
        },
        {
         "Acceleration": 18.6,
         "Cylinders": 4,
         "Horsepower": 70
        },
        {
         "Acceleration": 16.4,
         "Cylinders": 4,
         "Horsepower": 60
        },
        {
         "Acceleration": 15.5,
         "Cylinders": 8,
         "Horsepower": 110
        },
        {
         "Acceleration": 13.2,
         "Cylinders": 8,
         "Horsepower": 140
        },
        {
         "Acceleration": 12.8,
         "Cylinders": 8,
         "Horsepower": 139
        },
        {
         "Acceleration": 19.2,
         "Cylinders": 6,
         "Horsepower": 105
        },
        {
         "Acceleration": 18.2,
         "Cylinders": 6,
         "Horsepower": 95
        },
        {
         "Acceleration": 15.8,
         "Cylinders": 6,
         "Horsepower": 85
        },
        {
         "Acceleration": 15.4,
         "Cylinders": 4,
         "Horsepower": 88
        },
        {
         "Acceleration": 17.2,
         "Cylinders": 6,
         "Horsepower": 100
        },
        {
         "Acceleration": 17.2,
         "Cylinders": 6,
         "Horsepower": 90
        },
        {
         "Acceleration": 15.8,
         "Cylinders": 6,
         "Horsepower": 105
        },
        {
         "Acceleration": 16.7,
         "Cylinders": 6,
         "Horsepower": 85
        },
        {
         "Acceleration": 18.7,
         "Cylinders": 6,
         "Horsepower": 110
        },
        {
         "Acceleration": 15.1,
         "Cylinders": 6,
         "Horsepower": 120
        },
        {
         "Acceleration": 13.2,
         "Cylinders": 8,
         "Horsepower": 145
        },
        {
         "Acceleration": 13.4,
         "Cylinders": 6,
         "Horsepower": 165
        },
        {
         "Acceleration": 11.2,
         "Cylinders": 8,
         "Horsepower": 139
        },
        {
         "Acceleration": 13.7,
         "Cylinders": 8,
         "Horsepower": 140
        },
        {
         "Acceleration": 16.5,
         "Cylinders": 4,
         "Horsepower": 68
        },
        {
         "Acceleration": 14.2,
         "Cylinders": 4,
         "Horsepower": 95
        },
        {
         "Acceleration": 14.7,
         "Cylinders": 4,
         "Horsepower": 97
        },
        {
         "Acceleration": 14.5,
         "Cylinders": 4,
         "Horsepower": 75
        },
        {
         "Acceleration": 14.8,
         "Cylinders": 4,
         "Horsepower": 95
        },
        {
         "Acceleration": 16.7,
         "Cylinders": 4,
         "Horsepower": 105
        },
        {
         "Acceleration": 17.6,
         "Cylinders": 4,
         "Horsepower": 85
        },
        {
         "Acceleration": 14.9,
         "Cylinders": 4,
         "Horsepower": 97
        },
        {
         "Acceleration": 15.9,
         "Cylinders": 5,
         "Horsepower": 103
        },
        {
         "Acceleration": 13.6,
         "Cylinders": 6,
         "Horsepower": 125
        },
        {
         "Acceleration": 15.7,
         "Cylinders": 4,
         "Horsepower": 115
        },
        {
         "Acceleration": 15.8,
         "Cylinders": 6,
         "Horsepower": 133
        },
        {
         "Acceleration": 14.9,
         "Cylinders": 4,
         "Horsepower": 71
        },
        {
         "Acceleration": 16.6,
         "Cylinders": 4,
         "Horsepower": 68
        },
        {
         "Acceleration": 15.4,
         "Cylinders": 6,
         "Horsepower": 115
        },
        {
         "Acceleration": 18.2,
         "Cylinders": 6,
         "Horsepower": 85
        },
        {
         "Acceleration": 17.3,
         "Cylinders": 4,
         "Horsepower": 88
        },
        {
         "Acceleration": 18.2,
         "Cylinders": 6,
         "Horsepower": 90
        },
        {
         "Acceleration": 16.6,
         "Cylinders": 6,
         "Horsepower": 110
        },
        {
         "Acceleration": 15.4,
         "Cylinders": 8,
         "Horsepower": 130
        },
        {
         "Acceleration": 13.4,
         "Cylinders": 8,
         "Horsepower": 129
        },
        {
         "Acceleration": 13.2,
         "Cylinders": 8,
         "Horsepower": 138
        },
        {
         "Acceleration": 15.2,
         "Cylinders": 8,
         "Horsepower": 135
        },
        {
         "Acceleration": 14.9,
         "Cylinders": 8,
         "Horsepower": 155
        },
        {
         "Acceleration": 14.3,
         "Cylinders": 8,
         "Horsepower": 142
        },
        {
         "Acceleration": 15,
         "Cylinders": 8,
         "Horsepower": 125
        },
        {
         "Acceleration": 13,
         "Cylinders": 8,
         "Horsepower": 150
        },
        {
         "Acceleration": 14,
         "Cylinders": 4,
         "Horsepower": 71
        },
        {
         "Acceleration": 15.2,
         "Cylinders": 4,
         "Horsepower": 65
        },
        {
         "Acceleration": 14.4,
         "Cylinders": 4,
         "Horsepower": 80
        },
        {
         "Acceleration": 15,
         "Cylinders": 4,
         "Horsepower": 80
        },
        {
         "Acceleration": 20.1,
         "Cylinders": 5,
         "Horsepower": 77
        },
        {
         "Acceleration": 17.4,
         "Cylinders": 8,
         "Horsepower": 125
        },
        {
         "Acceleration": 24.8,
         "Cylinders": 4,
         "Horsepower": 71
        },
        {
         "Acceleration": 22.2,
         "Cylinders": 8,
         "Horsepower": 90
        },
        {
         "Acceleration": 13.2,
         "Cylinders": 4,
         "Horsepower": 70
        },
        {
         "Acceleration": 14.9,
         "Cylinders": 4,
         "Horsepower": 70
        },
        {
         "Acceleration": 19.2,
         "Cylinders": 4,
         "Horsepower": 65
        },
        {
         "Acceleration": 14.7,
         "Cylinders": 4,
         "Horsepower": 69
        },
        {
         "Acceleration": 16,
         "Cylinders": 4,
         "Horsepower": 90
        },
        {
         "Acceleration": 11.3,
         "Cylinders": 6,
         "Horsepower": 115
        },
        {
         "Acceleration": 12.9,
         "Cylinders": 6,
         "Horsepower": 115
        },
        {
         "Acceleration": 13.2,
         "Cylinders": 4,
         "Horsepower": 90
        },
        {
         "Acceleration": 14.7,
         "Cylinders": 4,
         "Horsepower": 76
        },
        {
         "Acceleration": 18.8,
         "Cylinders": 4,
         "Horsepower": 60
        },
        {
         "Acceleration": 15.5,
         "Cylinders": 4,
         "Horsepower": 70
        },
        {
         "Acceleration": 16.4,
         "Cylinders": 4,
         "Horsepower": 65
        },
        {
         "Acceleration": 16.5,
         "Cylinders": 4,
         "Horsepower": 90
        },
        {
         "Acceleration": 18.1,
         "Cylinders": 4,
         "Horsepower": 88
        },
        {
         "Acceleration": 20.1,
         "Cylinders": 4,
         "Horsepower": 90
        },
        {
         "Acceleration": 18.7,
         "Cylinders": 6,
         "Horsepower": 90
        },
        {
         "Acceleration": 15.8,
         "Cylinders": 4,
         "Horsepower": 78
        },
        {
         "Acceleration": 15.5,
         "Cylinders": 4,
         "Horsepower": 90
        },
        {
         "Acceleration": 17.5,
         "Cylinders": 4,
         "Horsepower": 75
        },
        {
         "Acceleration": 15,
         "Cylinders": 4,
         "Horsepower": 92
        },
        {
         "Acceleration": 15.2,
         "Cylinders": 4,
         "Horsepower": 75
        },
        {
         "Acceleration": 17.9,
         "Cylinders": 4,
         "Horsepower": 65
        },
        {
         "Acceleration": 14.4,
         "Cylinders": 4,
         "Horsepower": 105
        },
        {
         "Acceleration": 19.2,
         "Cylinders": 4,
         "Horsepower": 65
        },
        {
         "Acceleration": 21.7,
         "Cylinders": 4,
         "Horsepower": 48
        },
        {
         "Acceleration": 23.7,
         "Cylinders": 4,
         "Horsepower": 48
        },
        {
         "Acceleration": 19.9,
         "Cylinders": 5,
         "Horsepower": 67
        },
        {
         "Acceleration": 21.8,
         "Cylinders": 4,
         "Horsepower": 67
        },
        {
         "Acceleration": 13.8,
         "Cylinders": 4,
         "Horsepower": 67
        },
        {
         "Acceleration": 18,
         "Cylinders": 4,
         "Horsepower": 67
        },
        {
         "Acceleration": 15.3,
         "Cylinders": 4,
         "Horsepower": 62
        },
        {
         "Acceleration": 11.4,
         "Cylinders": 6,
         "Horsepower": 132
        },
        {
         "Acceleration": 12.5,
         "Cylinders": 3,
         "Horsepower": 100
        },
        {
         "Acceleration": 15.1,
         "Cylinders": 4,
         "Horsepower": 88
        },
        {
         "Acceleration": 17,
         "Cylinders": 4,
         "Horsepower": 72
        },
        {
         "Acceleration": 15.7,
         "Cylinders": 4,
         "Horsepower": 84
        },
        {
         "Acceleration": 16.4,
         "Cylinders": 4,
         "Horsepower": 84
        },
        {
         "Acceleration": 14.4,
         "Cylinders": 4,
         "Horsepower": 92
        },
        {
         "Acceleration": 12.6,
         "Cylinders": 6,
         "Horsepower": 110
        },
        {
         "Acceleration": 12.9,
         "Cylinders": 4,
         "Horsepower": 84
        },
        {
         "Acceleration": 16.9,
         "Cylinders": 4,
         "Horsepower": 58
        },
        {
         "Acceleration": 16.4,
         "Cylinders": 4,
         "Horsepower": 64
        },
        {
         "Acceleration": 16.1,
         "Cylinders": 4,
         "Horsepower": 60
        },
        {
         "Acceleration": 17.8,
         "Cylinders": 4,
         "Horsepower": 67
        },
        {
         "Acceleration": 19.4,
         "Cylinders": 4,
         "Horsepower": 65
        },
        {
         "Acceleration": 17.3,
         "Cylinders": 4,
         "Horsepower": 62
        },
        {
         "Acceleration": 16,
         "Cylinders": 4,
         "Horsepower": 68
        },
        {
         "Acceleration": 14.9,
         "Cylinders": 4,
         "Horsepower": 63
        },
        {
         "Acceleration": 16.2,
         "Cylinders": 4,
         "Horsepower": 65
        },
        {
         "Acceleration": 20.7,
         "Cylinders": 4,
         "Horsepower": 65
        },
        {
         "Acceleration": 14.2,
         "Cylinders": 4,
         "Horsepower": 74
        },
        {
         "Acceleration": 14.4,
         "Cylinders": 4,
         "Horsepower": 75
        },
        {
         "Acceleration": 16.8,
         "Cylinders": 4,
         "Horsepower": 75
        },
        {
         "Acceleration": 14.8,
         "Cylinders": 4,
         "Horsepower": 100
        },
        {
         "Acceleration": 18.3,
         "Cylinders": 4,
         "Horsepower": 74
        },
        {
         "Acceleration": 20.4,
         "Cylinders": 4,
         "Horsepower": 80
        },
        {
         "Acceleration": 19.6,
         "Cylinders": 6,
         "Horsepower": 76
        },
        {
         "Acceleration": 12.6,
         "Cylinders": 6,
         "Horsepower": 116
        },
        {
         "Acceleration": 13.8,
         "Cylinders": 6,
         "Horsepower": 120
        },
        {
         "Acceleration": 15.8,
         "Cylinders": 6,
         "Horsepower": 110
        },
        {
         "Acceleration": 19,
         "Cylinders": 8,
         "Horsepower": 105
        },
        {
         "Acceleration": 17.1,
         "Cylinders": 6,
         "Horsepower": 88
        },
        {
         "Acceleration": 16.6,
         "Cylinders": 6,
         "Horsepower": 85
        },
        {
         "Acceleration": 19.6,
         "Cylinders": 4,
         "Horsepower": 88
        },
        {
         "Acceleration": 18.6,
         "Cylinders": 4,
         "Horsepower": 88
        },
        {
         "Acceleration": 18,
         "Cylinders": 4,
         "Horsepower": 88
        },
        {
         "Acceleration": 16.2,
         "Cylinders": 4,
         "Horsepower": 85
        },
        {
         "Acceleration": 16,
         "Cylinders": 4,
         "Horsepower": 84
        },
        {
         "Acceleration": 18,
         "Cylinders": 4,
         "Horsepower": 90
        },
        {
         "Acceleration": 16.4,
         "Cylinders": 4,
         "Horsepower": 92
        },
        {
         "Acceleration": 15.3,
         "Cylinders": 4,
         "Horsepower": 74
        },
        {
         "Acceleration": 18.2,
         "Cylinders": 4,
         "Horsepower": 68
        },
        {
         "Acceleration": 17.6,
         "Cylinders": 4,
         "Horsepower": 68
        },
        {
         "Acceleration": 14.7,
         "Cylinders": 4,
         "Horsepower": 63
        },
        {
         "Acceleration": 17.3,
         "Cylinders": 4,
         "Horsepower": 70
        },
        {
         "Acceleration": 14.5,
         "Cylinders": 4,
         "Horsepower": 88
        },
        {
         "Acceleration": 14.5,
         "Cylinders": 4,
         "Horsepower": 75
        },
        {
         "Acceleration": 16.9,
         "Cylinders": 4,
         "Horsepower": 70
        },
        {
         "Acceleration": 15,
         "Cylinders": 4,
         "Horsepower": 67
        },
        {
         "Acceleration": 15.7,
         "Cylinders": 4,
         "Horsepower": 67
        },
        {
         "Acceleration": 16.2,
         "Cylinders": 4,
         "Horsepower": 67
        },
        {
         "Acceleration": 16.4,
         "Cylinders": 6,
         "Horsepower": 110
        },
        {
         "Acceleration": 17,
         "Cylinders": 6,
         "Horsepower": 85
        },
        {
         "Acceleration": 14.5,
         "Cylinders": 4,
         "Horsepower": 92
        },
        {
         "Acceleration": 14.7,
         "Cylinders": 6,
         "Horsepower": 112
        },
        {
         "Acceleration": 13.9,
         "Cylinders": 4,
         "Horsepower": 96
        },
        {
         "Acceleration": 13,
         "Cylinders": 4,
         "Horsepower": 84
        },
        {
         "Acceleration": 17.3,
         "Cylinders": 4,
         "Horsepower": 90
        },
        {
         "Acceleration": 15.6,
         "Cylinders": 4,
         "Horsepower": 86
        },
        {
         "Acceleration": 24.6,
         "Cylinders": 4,
         "Horsepower": 52
        },
        {
         "Acceleration": 11.6,
         "Cylinders": 4,
         "Horsepower": 84
        },
        {
         "Acceleration": 18.6,
         "Cylinders": 4,
         "Horsepower": 79
        },
        {
         "Acceleration": 19.4,
         "Cylinders": 4,
         "Horsepower": 82
        }
       ]
      },
      "encoding": {
       "color": {
        "field": "Cylinders",
        "type": "nominal"
       },
       "x": {
        "field": "Acceleration",
        "scale": {
         "domain": [
          8,
          24.8
         ]
        },
        "type": "quantitative"
       },
       "y": {
        "field": "Horsepower",
        "scale": {
         "domain": [
          46,
          230
         ]
        },
        "type": "quantitative"
       }
      },
      "height": 150,
      "mark": "circle",
      "selection": {
       "selector025": {
        "bind": "scales",
        "encodings": [
         "x",
         "y"
        ],
        "type": "interval"
       }
      },
      "width": 160
     }
    },
    "time": "2020-07-12T07:12:53.254Z",
    "type": "clickVis"
   },
   {
    "code": "df.set_context([lux.Spec(attribute = \"Acceleration\"),lux.Spec(attribute = \"Horsepower\")])\ndf",
    "id": "31f9084286dc4b78bb7cbcd643cbc9ce",
    "order_count": 8,
    "time": "2020-07-12T07:12:56.476Z",
    "type": "selectCodeCell"
   },
   {
    "param": {
     "index": 1,
     "tabTitle": "Enhance",
     "vis": {
      "$schema": "https://vega.github.io/schema/vega-lite/v4.8.1.json",
      "config": {
       "mark": {
        "tooltip": {
         "content": "encoding"
        }
       },
       "view": {
        "continuousHeight": 300,
        "continuousWidth": 400
       }
      },
      "data": {
       "name": "data-10d3d7d994c50c7610afe16e3efbf635"
      },
      "datasets": {
       "data-10d3d7d994c50c7610afe16e3efbf635": [
        {
         "Acceleration": 12,
         "Cylinders": 8,
         "Horsepower": 130
        },
        {
         "Acceleration": 11.5,
         "Cylinders": 8,
         "Horsepower": 165
        },
        {
         "Acceleration": 11,
         "Cylinders": 8,
         "Horsepower": 150
        },
        {
         "Acceleration": 12,
         "Cylinders": 8,
         "Horsepower": 150
        },
        {
         "Acceleration": 10.5,
         "Cylinders": 8,
         "Horsepower": 140
        },
        {
         "Acceleration": 10,
         "Cylinders": 8,
         "Horsepower": 198
        },
        {
         "Acceleration": 9,
         "Cylinders": 8,
         "Horsepower": 220
        },
        {
         "Acceleration": 8.5,
         "Cylinders": 8,
         "Horsepower": 215
        },
        {
         "Acceleration": 10,
         "Cylinders": 8,
         "Horsepower": 225
        },
        {
         "Acceleration": 8.5,
         "Cylinders": 8,
         "Horsepower": 190
        },
        {
         "Acceleration": 10,
         "Cylinders": 8,
         "Horsepower": 170
        },
        {
         "Acceleration": 8,
         "Cylinders": 8,
         "Horsepower": 160
        },
        {
         "Acceleration": 9.5,
         "Cylinders": 8,
         "Horsepower": 150
        },
        {
         "Acceleration": 10,
         "Cylinders": 8,
         "Horsepower": 225
        },
        {
         "Acceleration": 15,
         "Cylinders": 4,
         "Horsepower": 95
        },
        {
         "Acceleration": 15.5,
         "Cylinders": 6,
         "Horsepower": 95
        },
        {
         "Acceleration": 15.5,
         "Cylinders": 6,
         "Horsepower": 97
        },
        {
         "Acceleration": 16,
         "Cylinders": 6,
         "Horsepower": 85
        },
        {
         "Acceleration": 14.5,
         "Cylinders": 4,
         "Horsepower": 88
        },
        {
         "Acceleration": 20.5,
         "Cylinders": 4,
         "Horsepower": 46
        },
        {
         "Acceleration": 17.5,
         "Cylinders": 4,
         "Horsepower": 87
        },
        {
         "Acceleration": 14.5,
         "Cylinders": 4,
         "Horsepower": 90
        },
        {
         "Acceleration": 17.5,
         "Cylinders": 4,
         "Horsepower": 95
        },
        {
         "Acceleration": 12.5,
         "Cylinders": 4,
         "Horsepower": 113
        },
        {
         "Acceleration": 15,
         "Cylinders": 6,
         "Horsepower": 90
        },
        {
         "Acceleration": 14,
         "Cylinders": 8,
         "Horsepower": 215
        },
        {
         "Acceleration": 15,
         "Cylinders": 8,
         "Horsepower": 200
        },
        {
         "Acceleration": 13.5,
         "Cylinders": 8,
         "Horsepower": 210
        },
        {
         "Acceleration": 18.5,
         "Cylinders": 8,
         "Horsepower": 193
        },
        {
         "Acceleration": 14.5,
         "Cylinders": 4,
         "Horsepower": 88
        },
        {
         "Acceleration": 15.5,
         "Cylinders": 4,
         "Horsepower": 90
        },
        {
         "Acceleration": 14,
         "Cylinders": 4,
         "Horsepower": 95
        },
        {
         "Acceleration": 13,
         "Cylinders": 6,
         "Horsepower": 100
        },
        {
         "Acceleration": 15.5,
         "Cylinders": 6,
         "Horsepower": 105
        },
        {
         "Acceleration": 15.5,
         "Cylinders": 6,
         "Horsepower": 100
        },
        {
         "Acceleration": 15.5,
         "Cylinders": 6,
         "Horsepower": 88
        },
        {
         "Acceleration": 15.5,
         "Cylinders": 6,
         "Horsepower": 100
        },
        {
         "Acceleration": 12,
         "Cylinders": 8,
         "Horsepower": 165
        },
        {
         "Acceleration": 11.5,
         "Cylinders": 8,
         "Horsepower": 175
        },
        {
         "Acceleration": 13.5,
         "Cylinders": 8,
         "Horsepower": 153
        },
        {
         "Acceleration": 13,
         "Cylinders": 8,
         "Horsepower": 150
        },
        {
         "Acceleration": 11.5,
         "Cylinders": 8,
         "Horsepower": 180
        },
        {
         "Acceleration": 12,
         "Cylinders": 8,
         "Horsepower": 170
        },
        {
         "Acceleration": 12,
         "Cylinders": 8,
         "Horsepower": 175
        },
        {
         "Acceleration": 13.5,
         "Cylinders": 6,
         "Horsepower": 110
        },
        {
         "Acceleration": 19,
         "Cylinders": 4,
         "Horsepower": 72
        },
        {
         "Acceleration": 15,
         "Cylinders": 6,
         "Horsepower": 100
        },
        {
         "Acceleration": 14.5,
         "Cylinders": 6,
         "Horsepower": 88
        },
        {
         "Acceleration": 14,
         "Cylinders": 4,
         "Horsepower": 86
        },
        {
         "Acceleration": 14,
         "Cylinders": 4,
         "Horsepower": 90
        },
        {
         "Acceleration": 19.5,
         "Cylinders": 4,
         "Horsepower": 70
        },
        {
         "Acceleration": 14.5,
         "Cylinders": 4,
         "Horsepower": 76
        },
        {
         "Acceleration": 19,
         "Cylinders": 4,
         "Horsepower": 65
        },
        {
         "Acceleration": 18,
         "Cylinders": 4,
         "Horsepower": 69
        },
        {
         "Acceleration": 19,
         "Cylinders": 4,
         "Horsepower": 60
        },
        {
         "Acceleration": 20.5,
         "Cylinders": 4,
         "Horsepower": 70
        },
        {
         "Acceleration": 15.5,
         "Cylinders": 4,
         "Horsepower": 95
        },
        {
         "Acceleration": 17,
         "Cylinders": 4,
         "Horsepower": 80
        },
        {
         "Acceleration": 23.5,
         "Cylinders": 4,
         "Horsepower": 54
        },
        {
         "Acceleration": 19.5,
         "Cylinders": 4,
         "Horsepower": 90
        },
        {
         "Acceleration": 16.5,
         "Cylinders": 4,
         "Horsepower": 86
        },
        {
         "Acceleration": 12,
         "Cylinders": 8,
         "Horsepower": 165
        },
        {
         "Acceleration": 12,
         "Cylinders": 8,
         "Horsepower": 175
        },
        {
         "Acceleration": 13.5,
         "Cylinders": 8,
         "Horsepower": 150
        },
        {
         "Acceleration": 13,
         "Cylinders": 8,
         "Horsepower": 153
        },
        {
         "Acceleration": 11.5,
         "Cylinders": 8,
         "Horsepower": 150
        },
        {
         "Acceleration": 11,
         "Cylinders": 8,
         "Horsepower": 208
        },
        {
         "Acceleration": 13.5,
         "Cylinders": 8,
         "Horsepower": 155
        },
        {
         "Acceleration": 13.5,
         "Cylinders": 8,
         "Horsepower": 160
        },
        {
         "Acceleration": 12.5,
         "Cylinders": 8,
         "Horsepower": 190
        },
        {
         "Acceleration": 13.5,
         "Cylinders": 3,
         "Horsepower": 97
        },
        {
         "Acceleration": 12.5,
         "Cylinders": 8,
         "Horsepower": 150
        },
        {
         "Acceleration": 14,
         "Cylinders": 8,
         "Horsepower": 130
        },
        {
         "Acceleration": 16,
         "Cylinders": 8,
         "Horsepower": 140
        },
        {
         "Acceleration": 14,
         "Cylinders": 8,
         "Horsepower": 150
        },
        {
         "Acceleration": 14.5,
         "Cylinders": 4,
         "Horsepower": 112
        },
        {
         "Acceleration": 18,
         "Cylinders": 4,
         "Horsepower": 76
        },
        {
         "Acceleration": 19.5,
         "Cylinders": 4,
         "Horsepower": 87
        },
        {
         "Acceleration": 18,
         "Cylinders": 4,
         "Horsepower": 69
        },
        {
         "Acceleration": 16,
         "Cylinders": 4,
         "Horsepower": 86
        },
        {
         "Acceleration": 17,
         "Cylinders": 4,
         "Horsepower": 92
        },
        {
         "Acceleration": 14.5,
         "Cylinders": 4,
         "Horsepower": 97
        },
        {
         "Acceleration": 15,
         "Cylinders": 4,
         "Horsepower": 80
        },
        {
         "Acceleration": 16.5,
         "Cylinders": 4,
         "Horsepower": 88
        },
        {
         "Acceleration": 13,
         "Cylinders": 8,
         "Horsepower": 175
        },
        {
         "Acceleration": 11.5,
         "Cylinders": 8,
         "Horsepower": 150
        },
        {
         "Acceleration": 13,
         "Cylinders": 8,
         "Horsepower": 145
        },
        {
         "Acceleration": 14.5,
         "Cylinders": 8,
         "Horsepower": 137
        },
        {
         "Acceleration": 12.5,
         "Cylinders": 8,
         "Horsepower": 150
        },
        {
         "Acceleration": 11.5,
         "Cylinders": 8,
         "Horsepower": 198
        },
        {
         "Acceleration": 12,
         "Cylinders": 8,
         "Horsepower": 150
        },
        {
         "Acceleration": 13,
         "Cylinders": 8,
         "Horsepower": 158
        },
        {
         "Acceleration": 14.5,
         "Cylinders": 8,
         "Horsepower": 150
        },
        {
         "Acceleration": 11,
         "Cylinders": 8,
         "Horsepower": 215
        },
        {
         "Acceleration": 11,
         "Cylinders": 8,
         "Horsepower": 225
        },
        {
         "Acceleration": 11,
         "Cylinders": 8,
         "Horsepower": 175
        },
        {
         "Acceleration": 16.5,
         "Cylinders": 6,
         "Horsepower": 105
        },
        {
         "Acceleration": 18,
         "Cylinders": 6,
         "Horsepower": 100
        },
        {
         "Acceleration": 16,
         "Cylinders": 6,
         "Horsepower": 100
        },
        {
         "Acceleration": 16.5,
         "Cylinders": 6,
         "Horsepower": 88
        },
        {
         "Acceleration": 16,
         "Cylinders": 6,
         "Horsepower": 95
        },
        {
         "Acceleration": 21,
         "Cylinders": 4,
         "Horsepower": 46
        },
        {
         "Acceleration": 14,
         "Cylinders": 8,
         "Horsepower": 150
        },
        {
         "Acceleration": 12.5,
         "Cylinders": 8,
         "Horsepower": 167
        },
        {
         "Acceleration": 13,
         "Cylinders": 8,
         "Horsepower": 170
        },
        {
         "Acceleration": 12.5,
         "Cylinders": 8,
         "Horsepower": 180
        },
        {
         "Acceleration": 15,
         "Cylinders": 6,
         "Horsepower": 100
        },
        {
         "Acceleration": 19,
         "Cylinders": 4,
         "Horsepower": 88
        },
        {
         "Acceleration": 19.5,
         "Cylinders": 4,
         "Horsepower": 72
        },
        {
         "Acceleration": 16.5,
         "Cylinders": 4,
         "Horsepower": 94
        },
        {
         "Acceleration": 13.5,
         "Cylinders": 3,
         "Horsepower": 90
        },
        {
         "Acceleration": 18.5,
         "Cylinders": 4,
         "Horsepower": 85
        },
        {
         "Acceleration": 14,
         "Cylinders": 6,
         "Horsepower": 107
        },
        {
         "Acceleration": 15.5,
         "Cylinders": 4,
         "Horsepower": 90
        },
        {
         "Acceleration": 13,
         "Cylinders": 8,
         "Horsepower": 145
        },
        {
         "Acceleration": 9.5,
         "Cylinders": 8,
         "Horsepower": 230
        },
        {
         "Acceleration": 19.5,
         "Cylinders": 4,
         "Horsepower": 49
        },
        {
         "Acceleration": 15.5,
         "Cylinders": 4,
         "Horsepower": 75
        },
        {
         "Acceleration": 14,
         "Cylinders": 4,
         "Horsepower": 91
        },
        {
         "Acceleration": 15.5,
         "Cylinders": 4,
         "Horsepower": 112
        },
        {
         "Acceleration": 11,
         "Cylinders": 8,
         "Horsepower": 150
        },
        {
         "Acceleration": 14,
         "Cylinders": 4,
         "Horsepower": 110
        },
        {
         "Acceleration": 13.5,
         "Cylinders": 6,
         "Horsepower": 122
        },
        {
         "Acceleration": 11,
         "Cylinders": 8,
         "Horsepower": 180
        },
        {
         "Acceleration": 16.5,
         "Cylinders": 6,
         "Horsepower": 95
        },
        {
         "Acceleration": 16,
         "Cylinders": 6,
         "Horsepower": 100
        },
        {
         "Acceleration": 17,
         "Cylinders": 6,
         "Horsepower": 100
        },
        {
         "Acceleration": 19,
         "Cylinders": 4,
         "Horsepower": 67
        },
        {
         "Acceleration": 16.5,
         "Cylinders": 4,
         "Horsepower": 80
        },
        {
         "Acceleration": 21,
         "Cylinders": 4,
         "Horsepower": 65
        },
        {
         "Acceleration": 17,
         "Cylinders": 4,
         "Horsepower": 75
        },
        {
         "Acceleration": 17,
         "Cylinders": 6,
         "Horsepower": 100
        },
        {
         "Acceleration": 18,
         "Cylinders": 6,
         "Horsepower": 110
        },
        {
         "Acceleration": 16.5,
         "Cylinders": 6,
         "Horsepower": 105
        },
        {
         "Acceleration": 14,
         "Cylinders": 8,
         "Horsepower": 140
        },
        {
         "Acceleration": 14.5,
         "Cylinders": 8,
         "Horsepower": 150
        },
        {
         "Acceleration": 13.5,
         "Cylinders": 8,
         "Horsepower": 150
        },
        {
         "Acceleration": 16,
         "Cylinders": 8,
         "Horsepower": 140
        },
        {
         "Acceleration": 15.5,
         "Cylinders": 8,
         "Horsepower": 150
        },
        {
         "Acceleration": 16.5,
         "Cylinders": 4,
         "Horsepower": 83
        },
        {
         "Acceleration": 15.5,
         "Cylinders": 4,
         "Horsepower": 67
        },
        {
         "Acceleration": 14.5,
         "Cylinders": 4,
         "Horsepower": 78
        },
        {
         "Acceleration": 16.5,
         "Cylinders": 4,
         "Horsepower": 52
        },
        {
         "Acceleration": 19,
         "Cylinders": 4,
         "Horsepower": 61
        },
        {
         "Acceleration": 14.5,
         "Cylinders": 4,
         "Horsepower": 75
        },
        {
         "Acceleration": 15.5,
         "Cylinders": 4,
         "Horsepower": 75
        },
        {
         "Acceleration": 14,
         "Cylinders": 4,
         "Horsepower": 75
        },
        {
         "Acceleration": 15,
         "Cylinders": 4,
         "Horsepower": 97
        },
        {
         "Acceleration": 15.5,
         "Cylinders": 4,
         "Horsepower": 93
        },
        {
         "Acceleration": 16,
         "Cylinders": 4,
         "Horsepower": 67
        },
        {
         "Acceleration": 16,
         "Cylinders": 6,
         "Horsepower": 95
        },
        {
         "Acceleration": 16,
         "Cylinders": 6,
         "Horsepower": 105
        },
        {
         "Acceleration": 21,
         "Cylinders": 6,
         "Horsepower": 72
        },
        {
         "Acceleration": 19.5,
         "Cylinders": 6,
         "Horsepower": 72
        },
        {
         "Acceleration": 11.5,
         "Cylinders": 8,
         "Horsepower": 170
        },
        {
         "Acceleration": 14,
         "Cylinders": 8,
         "Horsepower": 145
        },
        {
         "Acceleration": 14.5,
         "Cylinders": 8,
         "Horsepower": 150
        },
        {
         "Acceleration": 13.5,
         "Cylinders": 8,
         "Horsepower": 148
        },
        {
         "Acceleration": 21,
         "Cylinders": 6,
         "Horsepower": 110
        },
        {
         "Acceleration": 18.5,
         "Cylinders": 6,
         "Horsepower": 105
        },
        {
         "Acceleration": 19,
         "Cylinders": 6,
         "Horsepower": 110
        },
        {
         "Acceleration": 19,
         "Cylinders": 6,
         "Horsepower": 95
        },
        {
         "Acceleration": 15,
         "Cylinders": 6,
         "Horsepower": 110
        },
        {
         "Acceleration": 13.5,
         "Cylinders": 8,
         "Horsepower": 110
        },
        {
         "Acceleration": 12,
         "Cylinders": 8,
         "Horsepower": 129
        },
        {
         "Acceleration": 16,
         "Cylinders": 4,
         "Horsepower": 75
        },
        {
         "Acceleration": 17,
         "Cylinders": 4,
         "Horsepower": 83
        },
        {
         "Acceleration": 16,
         "Cylinders": 6,
         "Horsepower": 100
        },
        {
         "Acceleration": 18.5,
         "Cylinders": 4,
         "Horsepower": 78
        },
        {
         "Acceleration": 13.5,
         "Cylinders": 4,
         "Horsepower": 96
        },
        {
         "Acceleration": 16.5,
         "Cylinders": 4,
         "Horsepower": 71
        },
        {
         "Acceleration": 17,
         "Cylinders": 4,
         "Horsepower": 97
        },
        {
         "Acceleration": 14.5,
         "Cylinders": 6,
         "Horsepower": 97
        },
        {
         "Acceleration": 14,
         "Cylinders": 4,
         "Horsepower": 70
        },
        {
         "Acceleration": 17,
         "Cylinders": 6,
         "Horsepower": 90
        },
        {
         "Acceleration": 15,
         "Cylinders": 4,
         "Horsepower": 95
        },
        {
         "Acceleration": 17,
         "Cylinders": 4,
         "Horsepower": 88
        },
        {
         "Acceleration": 14.5,
         "Cylinders": 4,
         "Horsepower": 98
        },
        {
         "Acceleration": 13.5,
         "Cylinders": 4,
         "Horsepower": 115
        },
        {
         "Acceleration": 17.5,
         "Cylinders": 4,
         "Horsepower": 53
        },
        {
         "Acceleration": 15.5,
         "Cylinders": 4,
         "Horsepower": 86
        },
        {
         "Acceleration": 16.9,
         "Cylinders": 4,
         "Horsepower": 81
        },
        {
         "Acceleration": 14.9,
         "Cylinders": 4,
         "Horsepower": 92
        },
        {
         "Acceleration": 17.7,
         "Cylinders": 4,
         "Horsepower": 79
        },
        {
         "Acceleration": 15.3,
         "Cylinders": 4,
         "Horsepower": 83
        },
        {
         "Acceleration": 13,
         "Cylinders": 8,
         "Horsepower": 140
        },
        {
         "Acceleration": 13,
         "Cylinders": 8,
         "Horsepower": 150
        },
        {
         "Acceleration": 13.9,
         "Cylinders": 8,
         "Horsepower": 120
        },
        {
         "Acceleration": 12.8,
         "Cylinders": 8,
         "Horsepower": 152
        },
        {
         "Acceleration": 15.4,
         "Cylinders": 6,
         "Horsepower": 100
        },
        {
         "Acceleration": 14.5,
         "Cylinders": 6,
         "Horsepower": 105
        },
        {
         "Acceleration": 17.6,
         "Cylinders": 6,
         "Horsepower": 81
        },
        {
         "Acceleration": 17.6,
         "Cylinders": 6,
         "Horsepower": 90
        },
        {
         "Acceleration": 22.2,
         "Cylinders": 4,
         "Horsepower": 52
        },
        {
         "Acceleration": 22.1,
         "Cylinders": 4,
         "Horsepower": 60
        },
        {
         "Acceleration": 14.2,
         "Cylinders": 4,
         "Horsepower": 70
        },
        {
         "Acceleration": 17.4,
         "Cylinders": 4,
         "Horsepower": 53
        },
        {
         "Acceleration": 17.7,
         "Cylinders": 6,
         "Horsepower": 100
        },
        {
         "Acceleration": 21,
         "Cylinders": 6,
         "Horsepower": 78
        },
        {
         "Acceleration": 16.2,
         "Cylinders": 6,
         "Horsepower": 110
        },
        {
         "Acceleration": 17.8,
         "Cylinders": 6,
         "Horsepower": 95
        },
        {
         "Acceleration": 12.2,
         "Cylinders": 4,
         "Horsepower": 71
        },
        {
         "Acceleration": 17,
         "Cylinders": 4,
         "Horsepower": 70
        },
        {
         "Acceleration": 16.4,
         "Cylinders": 4,
         "Horsepower": 75
        },
        {
         "Acceleration": 13.6,
         "Cylinders": 4,
         "Horsepower": 72
        },
        {
         "Acceleration": 15.7,
         "Cylinders": 4,
         "Horsepower": 102
        },
        {
         "Acceleration": 13.2,
         "Cylinders": 8,
         "Horsepower": 150
        },
        {
         "Acceleration": 21.9,
         "Cylinders": 4,
         "Horsepower": 88
        },
        {
         "Acceleration": 15.5,
         "Cylinders": 6,
         "Horsepower": 108
        },
        {
         "Acceleration": 16.7,
         "Cylinders": 6,
         "Horsepower": 120
        },
        {
         "Acceleration": 12.1,
         "Cylinders": 8,
         "Horsepower": 180
        },
        {
         "Acceleration": 12,
         "Cylinders": 8,
         "Horsepower": 145
        },
        {
         "Acceleration": 15,
         "Cylinders": 8,
         "Horsepower": 130
        },
        {
         "Acceleration": 14,
         "Cylinders": 8,
         "Horsepower": 150
        },
        {
         "Acceleration": 18.5,
         "Cylinders": 4,
         "Horsepower": 68
        },
        {
         "Acceleration": 14.8,
         "Cylinders": 4,
         "Horsepower": 80
        },
        {
         "Acceleration": 18.6,
         "Cylinders": 4,
         "Horsepower": 58
        },
        {
         "Acceleration": 15.5,
         "Cylinders": 4,
         "Horsepower": 96
        },
        {
         "Acceleration": 16.8,
         "Cylinders": 4,
         "Horsepower": 70
        },
        {
         "Acceleration": 12.5,
         "Cylinders": 8,
         "Horsepower": 145
        },
        {
         "Acceleration": 19,
         "Cylinders": 8,
         "Horsepower": 110
        },
        {
         "Acceleration": 13.7,
         "Cylinders": 8,
         "Horsepower": 145
        },
        {
         "Acceleration": 14.9,
         "Cylinders": 8,
         "Horsepower": 130
        },
        {
         "Acceleration": 16.4,
         "Cylinders": 6,
         "Horsepower": 110
        },
        {
         "Acceleration": 16.9,
         "Cylinders": 6,
         "Horsepower": 105
        },
        {
         "Acceleration": 17.7,
         "Cylinders": 6,
         "Horsepower": 100
        },
        {
         "Acceleration": 19,
         "Cylinders": 6,
         "Horsepower": 98
        },
        {
         "Acceleration": 11.1,
         "Cylinders": 8,
         "Horsepower": 180
        },
        {
         "Acceleration": 11.4,
         "Cylinders": 8,
         "Horsepower": 170
        },
        {
         "Acceleration": 12.2,
         "Cylinders": 8,
         "Horsepower": 190
        },
        {
         "Acceleration": 14.5,
         "Cylinders": 8,
         "Horsepower": 149
        },
        {
         "Acceleration": 14.5,
         "Cylinders": 4,
         "Horsepower": 78
        },
        {
         "Acceleration": 16,
         "Cylinders": 4,
         "Horsepower": 88
        },
        {
         "Acceleration": 18.2,
         "Cylinders": 4,
         "Horsepower": 75
        },
        {
         "Acceleration": 15.8,
         "Cylinders": 4,
         "Horsepower": 89
        },
        {
         "Acceleration": 17,
         "Cylinders": 4,
         "Horsepower": 63
        },
        {
         "Acceleration": 15.9,
         "Cylinders": 4,
         "Horsepower": 83
        },
        {
         "Acceleration": 16.4,
         "Cylinders": 4,
         "Horsepower": 67
        },
        {
         "Acceleration": 14.1,
         "Cylinders": 4,
         "Horsepower": 78
        },
        {
         "Acceleration": 14.5,
         "Cylinders": 6,
         "Horsepower": 97
        },
        {
         "Acceleration": 12.8,
         "Cylinders": 4,
         "Horsepower": 110
        },
        {
         "Acceleration": 13.5,
         "Cylinders": 3,
         "Horsepower": 110
        },
        {
         "Acceleration": 21.5,
         "Cylinders": 4,
         "Horsepower": 48
        },
        {
         "Acceleration": 14.4,
         "Cylinders": 4,
         "Horsepower": 66
        },
        {
         "Acceleration": 19.4,
         "Cylinders": 4,
         "Horsepower": 52
        },
        {
         "Acceleration": 18.6,
         "Cylinders": 4,
         "Horsepower": 70
        },
        {
         "Acceleration": 16.4,
         "Cylinders": 4,
         "Horsepower": 60
        },
        {
         "Acceleration": 15.5,
         "Cylinders": 8,
         "Horsepower": 110
        },
        {
         "Acceleration": 13.2,
         "Cylinders": 8,
         "Horsepower": 140
        },
        {
         "Acceleration": 12.8,
         "Cylinders": 8,
         "Horsepower": 139
        },
        {
         "Acceleration": 19.2,
         "Cylinders": 6,
         "Horsepower": 105
        },
        {
         "Acceleration": 18.2,
         "Cylinders": 6,
         "Horsepower": 95
        },
        {
         "Acceleration": 15.8,
         "Cylinders": 6,
         "Horsepower": 85
        },
        {
         "Acceleration": 15.4,
         "Cylinders": 4,
         "Horsepower": 88
        },
        {
         "Acceleration": 17.2,
         "Cylinders": 6,
         "Horsepower": 100
        },
        {
         "Acceleration": 17.2,
         "Cylinders": 6,
         "Horsepower": 90
        },
        {
         "Acceleration": 15.8,
         "Cylinders": 6,
         "Horsepower": 105
        },
        {
         "Acceleration": 16.7,
         "Cylinders": 6,
         "Horsepower": 85
        },
        {
         "Acceleration": 18.7,
         "Cylinders": 6,
         "Horsepower": 110
        },
        {
         "Acceleration": 15.1,
         "Cylinders": 6,
         "Horsepower": 120
        },
        {
         "Acceleration": 13.2,
         "Cylinders": 8,
         "Horsepower": 145
        },
        {
         "Acceleration": 13.4,
         "Cylinders": 6,
         "Horsepower": 165
        },
        {
         "Acceleration": 11.2,
         "Cylinders": 8,
         "Horsepower": 139
        },
        {
         "Acceleration": 13.7,
         "Cylinders": 8,
         "Horsepower": 140
        },
        {
         "Acceleration": 16.5,
         "Cylinders": 4,
         "Horsepower": 68
        },
        {
         "Acceleration": 14.2,
         "Cylinders": 4,
         "Horsepower": 95
        },
        {
         "Acceleration": 14.7,
         "Cylinders": 4,
         "Horsepower": 97
        },
        {
         "Acceleration": 14.5,
         "Cylinders": 4,
         "Horsepower": 75
        },
        {
         "Acceleration": 14.8,
         "Cylinders": 4,
         "Horsepower": 95
        },
        {
         "Acceleration": 16.7,
         "Cylinders": 4,
         "Horsepower": 105
        },
        {
         "Acceleration": 17.6,
         "Cylinders": 4,
         "Horsepower": 85
        },
        {
         "Acceleration": 14.9,
         "Cylinders": 4,
         "Horsepower": 97
        },
        {
         "Acceleration": 15.9,
         "Cylinders": 5,
         "Horsepower": 103
        },
        {
         "Acceleration": 13.6,
         "Cylinders": 6,
         "Horsepower": 125
        },
        {
         "Acceleration": 15.7,
         "Cylinders": 4,
         "Horsepower": 115
        },
        {
         "Acceleration": 15.8,
         "Cylinders": 6,
         "Horsepower": 133
        },
        {
         "Acceleration": 14.9,
         "Cylinders": 4,
         "Horsepower": 71
        },
        {
         "Acceleration": 16.6,
         "Cylinders": 4,
         "Horsepower": 68
        },
        {
         "Acceleration": 15.4,
         "Cylinders": 6,
         "Horsepower": 115
        },
        {
         "Acceleration": 18.2,
         "Cylinders": 6,
         "Horsepower": 85
        },
        {
         "Acceleration": 17.3,
         "Cylinders": 4,
         "Horsepower": 88
        },
        {
         "Acceleration": 18.2,
         "Cylinders": 6,
         "Horsepower": 90
        },
        {
         "Acceleration": 16.6,
         "Cylinders": 6,
         "Horsepower": 110
        },
        {
         "Acceleration": 15.4,
         "Cylinders": 8,
         "Horsepower": 130
        },
        {
         "Acceleration": 13.4,
         "Cylinders": 8,
         "Horsepower": 129
        },
        {
         "Acceleration": 13.2,
         "Cylinders": 8,
         "Horsepower": 138
        },
        {
         "Acceleration": 15.2,
         "Cylinders": 8,
         "Horsepower": 135
        },
        {
         "Acceleration": 14.9,
         "Cylinders": 8,
         "Horsepower": 155
        },
        {
         "Acceleration": 14.3,
         "Cylinders": 8,
         "Horsepower": 142
        },
        {
         "Acceleration": 15,
         "Cylinders": 8,
         "Horsepower": 125
        },
        {
         "Acceleration": 13,
         "Cylinders": 8,
         "Horsepower": 150
        },
        {
         "Acceleration": 14,
         "Cylinders": 4,
         "Horsepower": 71
        },
        {
         "Acceleration": 15.2,
         "Cylinders": 4,
         "Horsepower": 65
        },
        {
         "Acceleration": 14.4,
         "Cylinders": 4,
         "Horsepower": 80
        },
        {
         "Acceleration": 15,
         "Cylinders": 4,
         "Horsepower": 80
        },
        {
         "Acceleration": 20.1,
         "Cylinders": 5,
         "Horsepower": 77
        },
        {
         "Acceleration": 17.4,
         "Cylinders": 8,
         "Horsepower": 125
        },
        {
         "Acceleration": 24.8,
         "Cylinders": 4,
         "Horsepower": 71
        },
        {
         "Acceleration": 22.2,
         "Cylinders": 8,
         "Horsepower": 90
        },
        {
         "Acceleration": 13.2,
         "Cylinders": 4,
         "Horsepower": 70
        },
        {
         "Acceleration": 14.9,
         "Cylinders": 4,
         "Horsepower": 70
        },
        {
         "Acceleration": 19.2,
         "Cylinders": 4,
         "Horsepower": 65
        },
        {
         "Acceleration": 14.7,
         "Cylinders": 4,
         "Horsepower": 69
        },
        {
         "Acceleration": 16,
         "Cylinders": 4,
         "Horsepower": 90
        },
        {
         "Acceleration": 11.3,
         "Cylinders": 6,
         "Horsepower": 115
        },
        {
         "Acceleration": 12.9,
         "Cylinders": 6,
         "Horsepower": 115
        },
        {
         "Acceleration": 13.2,
         "Cylinders": 4,
         "Horsepower": 90
        },
        {
         "Acceleration": 14.7,
         "Cylinders": 4,
         "Horsepower": 76
        },
        {
         "Acceleration": 18.8,
         "Cylinders": 4,
         "Horsepower": 60
        },
        {
         "Acceleration": 15.5,
         "Cylinders": 4,
         "Horsepower": 70
        },
        {
         "Acceleration": 16.4,
         "Cylinders": 4,
         "Horsepower": 65
        },
        {
         "Acceleration": 16.5,
         "Cylinders": 4,
         "Horsepower": 90
        },
        {
         "Acceleration": 18.1,
         "Cylinders": 4,
         "Horsepower": 88
        },
        {
         "Acceleration": 20.1,
         "Cylinders": 4,
         "Horsepower": 90
        },
        {
         "Acceleration": 18.7,
         "Cylinders": 6,
         "Horsepower": 90
        },
        {
         "Acceleration": 15.8,
         "Cylinders": 4,
         "Horsepower": 78
        },
        {
         "Acceleration": 15.5,
         "Cylinders": 4,
         "Horsepower": 90
        },
        {
         "Acceleration": 17.5,
         "Cylinders": 4,
         "Horsepower": 75
        },
        {
         "Acceleration": 15,
         "Cylinders": 4,
         "Horsepower": 92
        },
        {
         "Acceleration": 15.2,
         "Cylinders": 4,
         "Horsepower": 75
        },
        {
         "Acceleration": 17.9,
         "Cylinders": 4,
         "Horsepower": 65
        },
        {
         "Acceleration": 14.4,
         "Cylinders": 4,
         "Horsepower": 105
        },
        {
         "Acceleration": 19.2,
         "Cylinders": 4,
         "Horsepower": 65
        },
        {
         "Acceleration": 21.7,
         "Cylinders": 4,
         "Horsepower": 48
        },
        {
         "Acceleration": 23.7,
         "Cylinders": 4,
         "Horsepower": 48
        },
        {
         "Acceleration": 19.9,
         "Cylinders": 5,
         "Horsepower": 67
        },
        {
         "Acceleration": 21.8,
         "Cylinders": 4,
         "Horsepower": 67
        },
        {
         "Acceleration": 13.8,
         "Cylinders": 4,
         "Horsepower": 67
        },
        {
         "Acceleration": 18,
         "Cylinders": 4,
         "Horsepower": 67
        },
        {
         "Acceleration": 15.3,
         "Cylinders": 4,
         "Horsepower": 62
        },
        {
         "Acceleration": 11.4,
         "Cylinders": 6,
         "Horsepower": 132
        },
        {
         "Acceleration": 12.5,
         "Cylinders": 3,
         "Horsepower": 100
        },
        {
         "Acceleration": 15.1,
         "Cylinders": 4,
         "Horsepower": 88
        },
        {
         "Acceleration": 17,
         "Cylinders": 4,
         "Horsepower": 72
        },
        {
         "Acceleration": 15.7,
         "Cylinders": 4,
         "Horsepower": 84
        },
        {
         "Acceleration": 16.4,
         "Cylinders": 4,
         "Horsepower": 84
        },
        {
         "Acceleration": 14.4,
         "Cylinders": 4,
         "Horsepower": 92
        },
        {
         "Acceleration": 12.6,
         "Cylinders": 6,
         "Horsepower": 110
        },
        {
         "Acceleration": 12.9,
         "Cylinders": 4,
         "Horsepower": 84
        },
        {
         "Acceleration": 16.9,
         "Cylinders": 4,
         "Horsepower": 58
        },
        {
         "Acceleration": 16.4,
         "Cylinders": 4,
         "Horsepower": 64
        },
        {
         "Acceleration": 16.1,
         "Cylinders": 4,
         "Horsepower": 60
        },
        {
         "Acceleration": 17.8,
         "Cylinders": 4,
         "Horsepower": 67
        },
        {
         "Acceleration": 19.4,
         "Cylinders": 4,
         "Horsepower": 65
        },
        {
         "Acceleration": 17.3,
         "Cylinders": 4,
         "Horsepower": 62
        },
        {
         "Acceleration": 16,
         "Cylinders": 4,
         "Horsepower": 68
        },
        {
         "Acceleration": 14.9,
         "Cylinders": 4,
         "Horsepower": 63
        },
        {
         "Acceleration": 16.2,
         "Cylinders": 4,
         "Horsepower": 65
        },
        {
         "Acceleration": 20.7,
         "Cylinders": 4,
         "Horsepower": 65
        },
        {
         "Acceleration": 14.2,
         "Cylinders": 4,
         "Horsepower": 74
        },
        {
         "Acceleration": 14.4,
         "Cylinders": 4,
         "Horsepower": 75
        },
        {
         "Acceleration": 16.8,
         "Cylinders": 4,
         "Horsepower": 75
        },
        {
         "Acceleration": 14.8,
         "Cylinders": 4,
         "Horsepower": 100
        },
        {
         "Acceleration": 18.3,
         "Cylinders": 4,
         "Horsepower": 74
        },
        {
         "Acceleration": 20.4,
         "Cylinders": 4,
         "Horsepower": 80
        },
        {
         "Acceleration": 19.6,
         "Cylinders": 6,
         "Horsepower": 76
        },
        {
         "Acceleration": 12.6,
         "Cylinders": 6,
         "Horsepower": 116
        },
        {
         "Acceleration": 13.8,
         "Cylinders": 6,
         "Horsepower": 120
        },
        {
         "Acceleration": 15.8,
         "Cylinders": 6,
         "Horsepower": 110
        },
        {
         "Acceleration": 19,
         "Cylinders": 8,
         "Horsepower": 105
        },
        {
         "Acceleration": 17.1,
         "Cylinders": 6,
         "Horsepower": 88
        },
        {
         "Acceleration": 16.6,
         "Cylinders": 6,
         "Horsepower": 85
        },
        {
         "Acceleration": 19.6,
         "Cylinders": 4,
         "Horsepower": 88
        },
        {
         "Acceleration": 18.6,
         "Cylinders": 4,
         "Horsepower": 88
        },
        {
         "Acceleration": 18,
         "Cylinders": 4,
         "Horsepower": 88
        },
        {
         "Acceleration": 16.2,
         "Cylinders": 4,
         "Horsepower": 85
        },
        {
         "Acceleration": 16,
         "Cylinders": 4,
         "Horsepower": 84
        },
        {
         "Acceleration": 18,
         "Cylinders": 4,
         "Horsepower": 90
        },
        {
         "Acceleration": 16.4,
         "Cylinders": 4,
         "Horsepower": 92
        },
        {
         "Acceleration": 15.3,
         "Cylinders": 4,
         "Horsepower": 74
        },
        {
         "Acceleration": 18.2,
         "Cylinders": 4,
         "Horsepower": 68
        },
        {
         "Acceleration": 17.6,
         "Cylinders": 4,
         "Horsepower": 68
        },
        {
         "Acceleration": 14.7,
         "Cylinders": 4,
         "Horsepower": 63
        },
        {
         "Acceleration": 17.3,
         "Cylinders": 4,
         "Horsepower": 70
        },
        {
         "Acceleration": 14.5,
         "Cylinders": 4,
         "Horsepower": 88
        },
        {
         "Acceleration": 14.5,
         "Cylinders": 4,
         "Horsepower": 75
        },
        {
         "Acceleration": 16.9,
         "Cylinders": 4,
         "Horsepower": 70
        },
        {
         "Acceleration": 15,
         "Cylinders": 4,
         "Horsepower": 67
        },
        {
         "Acceleration": 15.7,
         "Cylinders": 4,
         "Horsepower": 67
        },
        {
         "Acceleration": 16.2,
         "Cylinders": 4,
         "Horsepower": 67
        },
        {
         "Acceleration": 16.4,
         "Cylinders": 6,
         "Horsepower": 110
        },
        {
         "Acceleration": 17,
         "Cylinders": 6,
         "Horsepower": 85
        },
        {
         "Acceleration": 14.5,
         "Cylinders": 4,
         "Horsepower": 92
        },
        {
         "Acceleration": 14.7,
         "Cylinders": 6,
         "Horsepower": 112
        },
        {
         "Acceleration": 13.9,
         "Cylinders": 4,
         "Horsepower": 96
        },
        {
         "Acceleration": 13,
         "Cylinders": 4,
         "Horsepower": 84
        },
        {
         "Acceleration": 17.3,
         "Cylinders": 4,
         "Horsepower": 90
        },
        {
         "Acceleration": 15.6,
         "Cylinders": 4,
         "Horsepower": 86
        },
        {
         "Acceleration": 24.6,
         "Cylinders": 4,
         "Horsepower": 52
        },
        {
         "Acceleration": 11.6,
         "Cylinders": 4,
         "Horsepower": 84
        },
        {
         "Acceleration": 18.6,
         "Cylinders": 4,
         "Horsepower": 79
        },
        {
         "Acceleration": 19.4,
         "Cylinders": 4,
         "Horsepower": 82
        }
       ]
      },
      "encoding": {
       "color": {
        "field": "Cylinders",
        "type": "nominal"
       },
       "x": {
        "field": "Acceleration",
        "scale": {
         "domain": [
          8,
          24.8
         ]
        },
        "type": "quantitative"
       },
       "y": {
        "field": "Horsepower",
        "scale": {
         "domain": [
          46,
          230
         ]
        },
        "type": "quantitative"
       }
      },
      "height": 150,
      "mark": "circle",
      "selection": {
       "selector025": {
        "bind": "scales",
        "encodings": [
         "x",
         "y"
        ],
        "type": "interval"
       }
      },
      "width": 160
     }
    },
    "time": "2020-07-12T07:12:56.478Z",
    "type": "unclickVis"
   },
   {
    "code": "df.set_context([lux.Spec(attribute = \"Acceleration\"),lux.Spec(attribute = \"Horsepower\")])\ndf",
    "id": "31f9084286dc4b78bb7cbcd643cbc9ce",
    "order_count": 8,
    "time": "2020-07-12T07:13:01.515Z",
    "type": "selectCodeCell"
   },
   {
    "param": {
     "Enhance": [
      0
     ]
    },
    "time": "2020-07-12T07:13:01.522Z",
    "type": "exportBtnClick"
   },
   {
    "code": "df.set_context([lux.Spec(attribute = \"Acceleration\"),lux.Spec(attribute = \"Horsepower\")])\ndf",
    "id": "31f9084286dc4b78bb7cbcd643cbc9ce",
    "order_count": 8,
    "time": "2020-07-12T07:13:02.585Z",
    "type": "selectCodeCell"
   },
   {
    "code": "",
    "id": "4c83108ca0ba4d0fa5487fa81972a523",
    "order_count": 9,
    "time": "2020-07-12T07:13:03.890Z",
    "type": "selectCodeCell"
   },
   {
    "code": "",
    "id": "4c83108ca0ba4d0fa5487fa81972a523",
    "order_count": 9,
    "time": "2020-07-12T07:13:04.146Z",
    "type": "editCodeCell"
   },
   {
    "code": "df.get_exported()",
    "id": "4c83108ca0ba4d0fa5487fa81972a523",
    "order_count": 9,
    "time": "2020-07-12T07:13:08.170Z",
    "type": "executeCodeCell"
   },
   {
    "code": "In the cell above, the Enhance shows that for all the added quantitative variables (shown as gradients of color), except MilesPerGal, the trend for the value is higher on the upper-left end, and value decreases towards the bottom-right.",
    "id": "f9423e5a39b54de2801c637174dc04d0",
    "order_count": 10,
    "time": "2020-07-12T07:13:08.191Z",
    "type": "selectMarkdownCell"
   },
   {
    "id": "4c83108ca0ba4d0fa5487fa81972a523",
    "isPrintLuxDf": false,
    "isPrintPandasDf": false,
    "isPrintView": true,
    "isPrintViewCollection": false,
    "time": "2020-07-12T07:13:08.233Z",
    "type": "completeCodeCell"
   },
   {
    "param": "",
    "time": "2020-07-12T07:13:08.243Z",
    "type": "initWidget"
   },
   {
    "code": "df.get_exported()",
    "id": "4c83108ca0ba4d0fa5487fa81972a523",
    "order_count": 9,
    "time": "2020-07-12T07:13:48.751Z",
    "type": "selectCodeCell"
   },
   {
    "code": "df.get_exported()",
    "id": "4c83108ca0ba4d0fa5487fa81972a523",
    "order_count": 9,
    "time": "2020-07-12T07:13:48.763Z",
    "type": "editCodeCell"
   },
   {
    "code": "df.get_exported()",
    "id": "4c83108ca0ba4d0fa5487fa81972a523",
    "order_count": 9,
    "time": "2020-07-12T07:13:51.227Z",
    "type": "selectCodeCell"
   },
   {
    "code": "",
    "id": "4897af9f1cb14322884d0e1a77487507",
    "order_count": 10,
    "time": "2020-07-12T07:13:51.874Z",
    "type": "selectCodeCell"
   },
   {
    "code": "",
    "id": "4897af9f1cb14322884d0e1a77487507",
    "order_count": 10,
    "time": "2020-07-12T07:13:52.076Z",
    "type": "editCodeCell"
   },
   {
    "code": "view = df.get_exported()[0]\nview ",
    "id": "4897af9f1cb14322884d0e1a77487507",
    "order_count": 10,
    "time": "2020-07-12T07:13:56.909Z",
    "type": "executeCodeCell"
   },
   {
    "code": "In the cell above, the Enhance shows that for all the added quantitative variables (shown as gradients of color), except MilesPerGal, the trend for the value is higher on the upper-left end, and value decreases towards the bottom-right.",
    "id": "f9423e5a39b54de2801c637174dc04d0",
    "order_count": 11,
    "time": "2020-07-12T07:13:56.930Z",
    "type": "selectMarkdownCell"
   },
   {
    "id": "4897af9f1cb14322884d0e1a77487507",
    "isPrintLuxDf": false,
    "isPrintPandasDf": false,
    "isPrintView": true,
    "isPrintViewCollection": false,
    "time": "2020-07-12T07:13:56.972Z",
    "type": "completeCodeCell"
   },
   {
    "param": "",
    "time": "2020-07-12T07:13:56.984Z",
    "type": "initWidget"
   },
   {
    "code": "view = df.get_exported()[0]\nview ",
    "id": "4897af9f1cb14322884d0e1a77487507",
    "order_count": 10,
    "time": "2020-07-12T07:13:58.732Z",
    "type": "selectCodeCell"
   },
   {
    "code": "Let's look at what the MilesPerGal is like for different Cylinder cars.",
    "id": "bec801d1b3824313bb5a911f8525d704",
    "order_count": 12,
    "time": "2020-07-12T07:14:19.463Z",
    "type": "selectMarkdownCell"
   },
   {
    "code": "Let's look at what the MilesPerGal is like for different Cylinder cars.",
    "id": "bec801d1b3824313bb5a911f8525d704",
    "order_count": 12,
    "time": "2020-07-12T07:14:20.679Z",
    "type": "selectMarkdownCell"
   },
   {
    "code": "df.set_context([lux.Spec(attribute = \"Cylinders\")])\ndf",
    "id": "b244c5509aa44ae9a534c03b8ea3accc",
    "order_count": 13,
    "time": "2020-07-12T07:14:21.717Z",
    "type": "selectCodeCell"
   },
   {
    "code": "df.set_context([lux.Spec(attribute = \"Cylinders\")])\ndf",
    "id": "b244c5509aa44ae9a534c03b8ea3accc",
    "order_count": 13,
    "time": "2020-07-12T07:14:21.723Z",
    "type": "editCodeCell"
   },
   {
    "code": "df.set_context([lux.Spec(attribute = \"Cylinders\")])\ndf",
    "id": "b244c5509aa44ae9a534c03b8ea3accc",
    "order_count": 13,
    "time": "2020-07-12T07:14:25.344Z",
    "type": "executeCodeCell"
   },
   {
    "code": "df.get_exported()",
    "id": "9f8b16b0e6f64f488b17857edeb6a030",
    "order_count": 14,
    "time": "2020-07-12T07:14:25.372Z",
    "type": "selectCodeCell"
   },
   {
    "id": "b244c5509aa44ae9a534c03b8ea3accc",
    "isPrintLuxDf": true,
    "isPrintPandasDf": false,
    "isPrintView": false,
    "isPrintViewCollection": false,
    "time": "2020-07-12T07:14:26.526Z",
    "type": "completeCodeCell"
   },
   {
    "param": "",
    "time": "2020-07-12T07:14:26.539Z",
    "type": "initWidget"
   },
   {
    "param": "",
    "time": "2020-07-12T07:14:26.684Z",
    "type": "initWidget"
   },
   {
    "code": "df.set_context([lux.Spec(attribute = \"Cylinders\")])\ndf",
    "id": "b244c5509aa44ae9a534c03b8ea3accc",
    "order_count": 13,
    "time": "2020-07-12T07:14:33.862Z",
    "type": "selectCodeCell"
   },
   {
    "code": "df.set_context([lux.Spec(attribute = \"Cylinders\")])\ndf",
    "id": "b244c5509aa44ae9a534c03b8ea3accc",
    "order_count": 13,
    "time": "2020-07-12T07:14:33.868Z",
    "type": "editCodeCell"
   },
   {
    "code": "df.set_context([lux.Spec(attribute = \"Origin\")])\ndf",
    "id": "b244c5509aa44ae9a534c03b8ea3accc",
    "order_count": 13,
    "time": "2020-07-12T07:14:43.856Z",
    "type": "executeCodeCell"
   },
   {
    "code": "df.get_exported()",
    "id": "9f8b16b0e6f64f488b17857edeb6a030",
    "order_count": 14,
    "time": "2020-07-12T07:14:43.881Z",
    "type": "selectCodeCell"
   },
   {
    "id": "b244c5509aa44ae9a534c03b8ea3accc",
    "isPrintLuxDf": true,
    "isPrintPandasDf": false,
    "isPrintView": false,
    "isPrintViewCollection": false,
    "time": "2020-07-12T07:14:45.035Z",
    "type": "completeCodeCell"
   },
   {
    "param": "",
    "time": "2020-07-12T07:14:45.045Z",
    "type": "initWidget"
   },
   {
    "param": "",
    "time": "2020-07-12T07:14:45.155Z",
    "type": "initWidget"
   },
   {
    "code": "df.set_context([lux.Spec(attribute = \"Origin\")])\ndf",
    "id": "b244c5509aa44ae9a534c03b8ea3accc",
    "order_count": 13,
    "time": "2020-07-12T07:15:04.590Z",
    "type": "selectCodeCell"
   },
   {
    "param": {
     "index": 0,
     "tabTitle": "Enhance",
     "vis": {
      "$schema": "https://vega.github.io/schema/vega-lite/v4.8.1.json",
      "config": {
       "mark": {
        "tooltip": {
         "content": "encoding"
        }
       },
       "view": {
        "continuousHeight": 300,
        "continuousWidth": 400
       }
      },
      "data": {
       "name": "data-b459fb57984ecb8eda0efb044d6a3e1d"
      },
      "datasets": {
       "data-b459fb57984ecb8eda0efb044d6a3e1d": [
        {
         "Displacement": 109.63235294117646,
         "Origin": "Europe"
        },
        {
         "Displacement": 102.70886075949367,
         "Origin": "Japan"
        },
        {
         "Displacement": 247.5122448979592,
         "Origin": "USA"
        }
       ]
      },
      "encoding": {
       "x": {
        "field": "Displacement",
        "title": "Mean of Displacement",
        "type": "quantitative"
       },
       "y": {
        "axis": {
         "labelOverlap": true
        },
        "field": "Origin",
        "type": "nominal"
       }
      },
      "height": 150,
      "mark": "bar",
      "width": 160
     }
    },
    "time": "2020-07-12T07:15:04.594Z",
    "type": "clickVis"
   },
   {
    "code": "df.set_context([lux.Spec(attribute = \"Origin\")])\ndf",
    "id": "b244c5509aa44ae9a534c03b8ea3accc",
    "order_count": 13,
    "time": "2020-07-12T07:15:05.783Z",
    "type": "selectCodeCell"
   },
   {
    "param": {
     "index": 1,
     "tabTitle": "Enhance",
     "vis": {
      "$schema": "https://vega.github.io/schema/vega-lite/v4.8.1.json",
      "config": {
       "mark": {
        "tooltip": {
         "content": "encoding"
        }
       },
       "view": {
        "continuousHeight": 300,
        "continuousWidth": 400
       }
      },
      "data": {
       "name": "data-ee61eee8792063fcabb1261d18a0479e"
      },
      "datasets": {
       "data-ee61eee8792063fcabb1261d18a0479e": [
        {
         "Horsepower": 80.55882352941177,
         "Origin": "Europe"
        },
        {
         "Horsepower": 79.83544303797468,
         "Origin": "Japan"
        },
        {
         "Horsepower": 119.04897959183674,
         "Origin": "USA"
        }
       ]
      },
      "encoding": {
       "x": {
        "field": "Horsepower",
        "title": "Mean of Horsepower",
        "type": "quantitative"
       },
       "y": {
        "axis": {
         "labelOverlap": true
        },
        "field": "Origin",
        "type": "nominal"
       }
      },
      "height": 150,
      "mark": "bar",
      "width": 160
     }
    },
    "time": "2020-07-12T07:15:05.786Z",
    "type": "clickVis"
   },
   {
    "code": "df.set_context([lux.Spec(attribute = \"Origin\")])\ndf",
    "id": "b244c5509aa44ae9a534c03b8ea3accc",
    "order_count": 13,
    "time": "2020-07-12T07:15:20.303Z",
    "type": "selectCodeCell"
   },
   {
    "param": {
     "Enhance": [
      0,
      1
     ]
    },
    "time": "2020-07-12T07:15:20.309Z",
    "type": "exportBtnClick"
   },
   {
    "code": "df.get_exported()",
    "id": "9f8b16b0e6f64f488b17857edeb6a030",
    "order_count": 14,
    "time": "2020-07-12T07:15:22.267Z",
    "type": "selectCodeCell"
   },
   {
    "code": "df.get_exported()",
    "id": "9f8b16b0e6f64f488b17857edeb6a030",
    "order_count": 14,
    "time": "2020-07-12T07:15:22.272Z",
    "type": "editCodeCell"
   },
   {
    "code": "df.get_exported()",
    "id": "9f8b16b0e6f64f488b17857edeb6a030",
    "order_count": 14,
    "time": "2020-07-12T07:15:23.538Z",
    "type": "executeCodeCell"
   },
   {
    "code": "",
    "id": "b9e25ef8404047578f4a382ae91f1113",
    "order_count": 15,
    "time": "2020-07-12T07:15:23.566Z",
    "type": "selectCodeCell"
   },
   {
    "id": "9f8b16b0e6f64f488b17857edeb6a030",
    "isPrintLuxDf": false,
    "isPrintPandasDf": false,
    "isPrintView": true,
    "isPrintViewCollection": false,
    "time": "2020-07-12T07:15:23.585Z",
    "type": "completeCodeCell"
   },
   {
    "param": "",
    "time": "2020-07-12T07:15:23.591Z",
    "type": "initWidget"
   },
   {
    "time": "2020-07-12T07:19:07.183Z",
    "type": "kernelReady"
   },
   {
    "time": "2020-07-12T07:28:10.002Z",
    "type": "kernelReady"
   },
   {
    "time": "2020-07-13T06:54:31.349Z",
    "type": "kernelReady"
   },
   {
    "code": "df",
    "id": "d974d331407b4136b3a33a52a2b653da",
    "order_count": 6,
    "time": "2020-07-13T07:11:19.490Z",
    "type": "selectCodeCell"
   },
   {
    "code": "df",
    "id": "d974d331407b4136b3a33a52a2b653da",
    "order_count": 6,
    "time": "2020-07-13T07:11:20.377Z",
    "type": "executeCodeCell"
   },
   {
    "code": "Intuitively, we expect cars with more horsepower means higher acceleration, but we are actually seeing the opposite of that trend.\nLet's learn more about whether there are additional factors that is affecting this relationship.",
    "id": "235e1d650133438abf422c78ea780478",
    "order_count": 7,
    "time": "2020-07-13T07:11:20.386Z",
    "type": "selectMarkdownCell"
   },
   {
    "id": "d974d331407b4136b3a33a52a2b653da",
    "isPrintLuxDf": false,
    "isPrintPandasDf": false,
    "isPrintView": false,
    "isPrintViewCollection": false,
    "time": "2020-07-13T07:11:20.463Z",
    "type": "completeCodeCell"
   },
   {
    "code": "cd ..",
    "id": "935297a48d58491680d5f58b74d00510",
    "order_count": 0,
    "time": "2020-07-13T07:11:22.202Z",
    "type": "selectCodeCell"
   },
   {
    "code": "cd ..",
    "id": "935297a48d58491680d5f58b74d00510",
    "order_count": 0,
    "time": "2020-07-13T07:11:22.557Z",
    "type": "executeCodeCell"
   },
   {
    "code": "import pandas as pd\nimport lux",
    "id": "6e966b315ac04d60a96aef44ca9450bd",
    "order_count": 1,
    "time": "2020-07-13T07:11:22.569Z",
    "type": "selectCodeCell"
   },
   {
    "id": "935297a48d58491680d5f58b74d00510",
    "isPrintLuxDf": false,
    "isPrintPandasDf": false,
    "isPrintView": false,
    "isPrintViewCollection": false,
    "time": "2020-07-13T07:11:22.577Z",
    "type": "completeCodeCell"
   },
   {
    "code": "import pandas as pd\nimport lux",
    "id": "6e966b315ac04d60a96aef44ca9450bd",
    "order_count": 1,
    "time": "2020-07-13T07:11:22.750Z",
    "type": "executeCodeCell"
   },
   {
    "code": "Load in a dataset of 392 different cars from 1970-1982:",
    "id": "8c5c3ecdb9f04efa88134ac21ce8ec94",
    "order_count": 2,
    "time": "2020-07-13T07:11:22.757Z",
    "type": "selectMarkdownCell"
   },
   {
    "code": "df = pd.read_csv(\"lux/data/car.csv\")\n# df.set_executor_type(\"Pandas\")\ndf[\"Year\"] = pd.to_datetime(df[\"Year\"], format='%Y') # change pandas dtype for the column \"Year\" to datetype\ndf.head().to_pandas()",
    "id": "9f3524a071cc488688174f0d949a05ec",
    "order_count": 3,
    "time": "2020-07-13T07:11:22.901Z",
    "type": "selectCodeCell"
   },
   {
    "code": "df = pd.read_csv(\"lux/data/car.csv\")\n# df.set_executor_type(\"Pandas\")\ndf[\"Year\"] = pd.to_datetime(df[\"Year\"], format='%Y') # change pandas dtype for the column \"Year\" to datetype\ndf.head().to_pandas()",
    "id": "9f3524a071cc488688174f0d949a05ec",
    "order_count": 3,
    "time": "2020-07-13T07:11:23.013Z",
    "type": "executeCodeCell"
   },
   {
    "code": "df",
    "id": "0a3a1fbeea67448d8dda5fc0108f402e",
    "order_count": 4,
    "time": "2020-07-13T07:11:23.024Z",
    "type": "selectCodeCell"
   },
   {
    "code": "df",
    "id": "0a3a1fbeea67448d8dda5fc0108f402e",
    "order_count": 4,
    "time": "2020-07-13T07:11:23.154Z",
    "type": "executeCodeCell"
   },
   {
    "code": "df.set_default_display(\"lux\")",
    "id": "7bd4cbf923a249e5b2ef35a9b90901e2",
    "order_count": 5,
    "time": "2020-07-13T07:11:23.165Z",
    "type": "selectCodeCell"
   },
   {
    "id": "6e966b315ac04d60a96aef44ca9450bd",
    "isPrintLuxDf": false,
    "isPrintPandasDf": false,
    "isPrintView": false,
    "isPrintViewCollection": false,
    "time": "2020-07-13T07:11:23.266Z",
    "type": "completeCodeCell"
   },
   {
    "code": "df.set_default_display(\"lux\")",
    "id": "7bd4cbf923a249e5b2ef35a9b90901e2",
    "order_count": 5,
    "time": "2020-07-13T07:11:23.313Z",
    "type": "executeCodeCell"
   },
   {
    "code": "df",
    "id": "d974d331407b4136b3a33a52a2b653da",
    "order_count": 6,
    "time": "2020-07-13T07:11:23.322Z",
    "type": "selectCodeCell"
   },
   {
    "id": "9f3524a071cc488688174f0d949a05ec",
    "isPrintLuxDf": false,
    "isPrintPandasDf": false,
    "isPrintView": false,
    "isPrintViewCollection": false,
    "time": "2020-07-13T07:11:23.337Z",
    "type": "completeCodeCell"
   },
   {
    "id": "0a3a1fbeea67448d8dda5fc0108f402e",
    "isPrintLuxDf": false,
    "isPrintPandasDf": false,
    "isPrintView": false,
    "isPrintViewCollection": false,
    "time": "2020-07-13T07:11:23.338Z",
    "type": "completeCodeCell"
   },
   {
    "id": "7bd4cbf923a249e5b2ef35a9b90901e2",
    "isPrintLuxDf": false,
    "isPrintPandasDf": false,
    "isPrintView": false,
    "isPrintViewCollection": false,
    "time": "2020-07-13T07:11:23.340Z",
    "type": "completeCodeCell"
   },
   {
    "time": "2020-07-13T07:11:26.603Z",
    "type": "kernelRestart"
   },
   {
    "time": "2020-07-13T07:11:27.701Z",
    "type": "kernelReady"
   },
   {
    "time": "2020-07-13T07:11:34.380Z",
    "type": "kernelKilled"
   },
   {
    "time": "2020-07-13T07:11:34.598Z",
    "type": "pageClose"
   }
  ],
  "kernelspec": {
   "display_name": "Python 3",
   "language": "python",
   "name": "python3"
  },
  "language_info": {
   "codemirror_mode": {
    "name": "ipython",
    "version": 3
   },
   "file_extension": ".py",
   "mimetype": "text/x-python",
   "name": "python",
   "nbconvert_exporter": "python",
   "pygments_lexer": "ipython3",
   "version": "3.7.7"
  }
 },
 "nbformat": 4,
 "nbformat_minor": 4
}
